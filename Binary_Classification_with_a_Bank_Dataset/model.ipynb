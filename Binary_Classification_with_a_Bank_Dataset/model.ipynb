{
 "cells": [
  {
   "cell_type": "code",
   "execution_count": 1,
   "metadata": {
    "id": "YiynoBwwwCtH"
   },
   "outputs": [],
   "source": [
    "# from google.colab import files\n",
    "# files.upload()  # Upload kaggle.json\n",
    "\n",
    "# !mkdir -p ~/.kaggle\n",
    "# !cp kaggle.json ~/.kaggle/\n",
    "# !chmod 600 ~/.kaggle/kaggle.json\n",
    "\n",
    "# !kaggle competitions download -c playground-series-s5e8"
   ]
  },
  {
   "cell_type": "code",
   "execution_count": 2,
   "metadata": {
    "id": "VBkcZMlwwEzz"
   },
   "outputs": [],
   "source": [
    "# !unzip /content/playground-series-s5e8.zip -d /content/playground-series-s5e8"
   ]
  },
  {
   "cell_type": "code",
   "execution_count": 3,
   "metadata": {
    "id": "0vmDvsC5MVIt"
   },
   "outputs": [],
   "source": [
    "import pandas as pd\n",
    "import numpy as np\n",
    "import matplotlib.pyplot as plt\n",
    "import seaborn as sns\n",
    "from sklearn.model_selection import train_test_split"
   ]
  },
  {
   "cell_type": "code",
   "execution_count": 4,
   "metadata": {
    "id": "30MHYBJuwONZ"
   },
   "outputs": [],
   "source": [
    "# test_df = pd.read_csv('data/test.csv')\n",
    "# test_df.head()"
   ]
  },
  {
   "cell_type": "code",
   "execution_count": 5,
   "metadata": {
    "id": "XlV61XSNwN1r"
   },
   "outputs": [],
   "source": [
    "# sub_df = pd.read_csv('data/sample_submission.csv')\n",
    "# sub_df.head()"
   ]
  },
  {
   "cell_type": "code",
   "execution_count": 6,
   "metadata": {
    "colab": {
     "base_uri": "https://localhost:8080/",
     "height": 363
    },
    "id": "r2zfBWJwMNT8",
    "outputId": "cefca55e-fa72-45b4-b4f9-0cf451d4586c"
   },
   "outputs": [
    {
     "data": {
      "text/html": [
       "<div>\n",
       "<style scoped>\n",
       "    .dataframe tbody tr th:only-of-type {\n",
       "        vertical-align: middle;\n",
       "    }\n",
       "\n",
       "    .dataframe tbody tr th {\n",
       "        vertical-align: top;\n",
       "    }\n",
       "\n",
       "    .dataframe thead th {\n",
       "        text-align: right;\n",
       "    }\n",
       "</style>\n",
       "<table border=\"1\" class=\"dataframe\">\n",
       "  <thead>\n",
       "    <tr style=\"text-align: right;\">\n",
       "      <th></th>\n",
       "      <th>id</th>\n",
       "      <th>age</th>\n",
       "      <th>job</th>\n",
       "      <th>marital</th>\n",
       "      <th>education</th>\n",
       "      <th>default</th>\n",
       "      <th>balance</th>\n",
       "      <th>housing</th>\n",
       "      <th>loan</th>\n",
       "      <th>contact</th>\n",
       "      <th>day</th>\n",
       "      <th>month</th>\n",
       "      <th>duration</th>\n",
       "      <th>campaign</th>\n",
       "      <th>pdays</th>\n",
       "      <th>previous</th>\n",
       "      <th>poutcome</th>\n",
       "      <th>y</th>\n",
       "    </tr>\n",
       "  </thead>\n",
       "  <tbody>\n",
       "    <tr>\n",
       "      <th>0</th>\n",
       "      <td>0</td>\n",
       "      <td>42</td>\n",
       "      <td>technician</td>\n",
       "      <td>married</td>\n",
       "      <td>secondary</td>\n",
       "      <td>no</td>\n",
       "      <td>7</td>\n",
       "      <td>no</td>\n",
       "      <td>no</td>\n",
       "      <td>cellular</td>\n",
       "      <td>25</td>\n",
       "      <td>aug</td>\n",
       "      <td>117</td>\n",
       "      <td>3</td>\n",
       "      <td>-1</td>\n",
       "      <td>0</td>\n",
       "      <td>unknown</td>\n",
       "      <td>0</td>\n",
       "    </tr>\n",
       "    <tr>\n",
       "      <th>1</th>\n",
       "      <td>1</td>\n",
       "      <td>38</td>\n",
       "      <td>blue-collar</td>\n",
       "      <td>married</td>\n",
       "      <td>secondary</td>\n",
       "      <td>no</td>\n",
       "      <td>514</td>\n",
       "      <td>no</td>\n",
       "      <td>no</td>\n",
       "      <td>unknown</td>\n",
       "      <td>18</td>\n",
       "      <td>jun</td>\n",
       "      <td>185</td>\n",
       "      <td>1</td>\n",
       "      <td>-1</td>\n",
       "      <td>0</td>\n",
       "      <td>unknown</td>\n",
       "      <td>0</td>\n",
       "    </tr>\n",
       "    <tr>\n",
       "      <th>2</th>\n",
       "      <td>2</td>\n",
       "      <td>36</td>\n",
       "      <td>blue-collar</td>\n",
       "      <td>married</td>\n",
       "      <td>secondary</td>\n",
       "      <td>no</td>\n",
       "      <td>602</td>\n",
       "      <td>yes</td>\n",
       "      <td>no</td>\n",
       "      <td>unknown</td>\n",
       "      <td>14</td>\n",
       "      <td>may</td>\n",
       "      <td>111</td>\n",
       "      <td>2</td>\n",
       "      <td>-1</td>\n",
       "      <td>0</td>\n",
       "      <td>unknown</td>\n",
       "      <td>0</td>\n",
       "    </tr>\n",
       "    <tr>\n",
       "      <th>3</th>\n",
       "      <td>3</td>\n",
       "      <td>27</td>\n",
       "      <td>student</td>\n",
       "      <td>single</td>\n",
       "      <td>secondary</td>\n",
       "      <td>no</td>\n",
       "      <td>34</td>\n",
       "      <td>yes</td>\n",
       "      <td>no</td>\n",
       "      <td>unknown</td>\n",
       "      <td>28</td>\n",
       "      <td>may</td>\n",
       "      <td>10</td>\n",
       "      <td>2</td>\n",
       "      <td>-1</td>\n",
       "      <td>0</td>\n",
       "      <td>unknown</td>\n",
       "      <td>0</td>\n",
       "    </tr>\n",
       "    <tr>\n",
       "      <th>4</th>\n",
       "      <td>4</td>\n",
       "      <td>26</td>\n",
       "      <td>technician</td>\n",
       "      <td>married</td>\n",
       "      <td>secondary</td>\n",
       "      <td>no</td>\n",
       "      <td>889</td>\n",
       "      <td>yes</td>\n",
       "      <td>no</td>\n",
       "      <td>cellular</td>\n",
       "      <td>3</td>\n",
       "      <td>feb</td>\n",
       "      <td>902</td>\n",
       "      <td>1</td>\n",
       "      <td>-1</td>\n",
       "      <td>0</td>\n",
       "      <td>unknown</td>\n",
       "      <td>1</td>\n",
       "    </tr>\n",
       "    <tr>\n",
       "      <th>5</th>\n",
       "      <td>5</td>\n",
       "      <td>24</td>\n",
       "      <td>admin.</td>\n",
       "      <td>single</td>\n",
       "      <td>secondary</td>\n",
       "      <td>no</td>\n",
       "      <td>1882</td>\n",
       "      <td>yes</td>\n",
       "      <td>no</td>\n",
       "      <td>cellular</td>\n",
       "      <td>20</td>\n",
       "      <td>apr</td>\n",
       "      <td>1010</td>\n",
       "      <td>3</td>\n",
       "      <td>-1</td>\n",
       "      <td>0</td>\n",
       "      <td>unknown</td>\n",
       "      <td>0</td>\n",
       "    </tr>\n",
       "    <tr>\n",
       "      <th>6</th>\n",
       "      <td>6</td>\n",
       "      <td>39</td>\n",
       "      <td>blue-collar</td>\n",
       "      <td>married</td>\n",
       "      <td>secondary</td>\n",
       "      <td>no</td>\n",
       "      <td>0</td>\n",
       "      <td>no</td>\n",
       "      <td>no</td>\n",
       "      <td>telephone</td>\n",
       "      <td>21</td>\n",
       "      <td>nov</td>\n",
       "      <td>90</td>\n",
       "      <td>1</td>\n",
       "      <td>-1</td>\n",
       "      <td>0</td>\n",
       "      <td>unknown</td>\n",
       "      <td>0</td>\n",
       "    </tr>\n",
       "    <tr>\n",
       "      <th>7</th>\n",
       "      <td>7</td>\n",
       "      <td>50</td>\n",
       "      <td>admin.</td>\n",
       "      <td>single</td>\n",
       "      <td>secondary</td>\n",
       "      <td>no</td>\n",
       "      <td>1595</td>\n",
       "      <td>no</td>\n",
       "      <td>no</td>\n",
       "      <td>telephone</td>\n",
       "      <td>31</td>\n",
       "      <td>jul</td>\n",
       "      <td>49</td>\n",
       "      <td>25</td>\n",
       "      <td>-1</td>\n",
       "      <td>0</td>\n",
       "      <td>unknown</td>\n",
       "      <td>0</td>\n",
       "    </tr>\n",
       "    <tr>\n",
       "      <th>8</th>\n",
       "      <td>8</td>\n",
       "      <td>46</td>\n",
       "      <td>blue-collar</td>\n",
       "      <td>married</td>\n",
       "      <td>primary</td>\n",
       "      <td>no</td>\n",
       "      <td>1463</td>\n",
       "      <td>no</td>\n",
       "      <td>no</td>\n",
       "      <td>cellular</td>\n",
       "      <td>4</td>\n",
       "      <td>aug</td>\n",
       "      <td>50</td>\n",
       "      <td>1</td>\n",
       "      <td>-1</td>\n",
       "      <td>0</td>\n",
       "      <td>unknown</td>\n",
       "      <td>0</td>\n",
       "    </tr>\n",
       "    <tr>\n",
       "      <th>9</th>\n",
       "      <td>9</td>\n",
       "      <td>39</td>\n",
       "      <td>management</td>\n",
       "      <td>divorced</td>\n",
       "      <td>tertiary</td>\n",
       "      <td>no</td>\n",
       "      <td>25</td>\n",
       "      <td>yes</td>\n",
       "      <td>no</td>\n",
       "      <td>cellular</td>\n",
       "      <td>8</td>\n",
       "      <td>may</td>\n",
       "      <td>119</td>\n",
       "      <td>1</td>\n",
       "      <td>-1</td>\n",
       "      <td>0</td>\n",
       "      <td>unknown</td>\n",
       "      <td>0</td>\n",
       "    </tr>\n",
       "  </tbody>\n",
       "</table>\n",
       "</div>"
      ],
      "text/plain": [
       "   id  age          job   marital  education default  balance housing loan  \\\n",
       "0   0   42   technician   married  secondary      no        7      no   no   \n",
       "1   1   38  blue-collar   married  secondary      no      514      no   no   \n",
       "2   2   36  blue-collar   married  secondary      no      602     yes   no   \n",
       "3   3   27      student    single  secondary      no       34     yes   no   \n",
       "4   4   26   technician   married  secondary      no      889     yes   no   \n",
       "5   5   24       admin.    single  secondary      no     1882     yes   no   \n",
       "6   6   39  blue-collar   married  secondary      no        0      no   no   \n",
       "7   7   50       admin.    single  secondary      no     1595      no   no   \n",
       "8   8   46  blue-collar   married    primary      no     1463      no   no   \n",
       "9   9   39   management  divorced   tertiary      no       25     yes   no   \n",
       "\n",
       "     contact  day month  duration  campaign  pdays  previous poutcome  y  \n",
       "0   cellular   25   aug       117         3     -1         0  unknown  0  \n",
       "1    unknown   18   jun       185         1     -1         0  unknown  0  \n",
       "2    unknown   14   may       111         2     -1         0  unknown  0  \n",
       "3    unknown   28   may        10         2     -1         0  unknown  0  \n",
       "4   cellular    3   feb       902         1     -1         0  unknown  1  \n",
       "5   cellular   20   apr      1010         3     -1         0  unknown  0  \n",
       "6  telephone   21   nov        90         1     -1         0  unknown  0  \n",
       "7  telephone   31   jul        49        25     -1         0  unknown  0  \n",
       "8   cellular    4   aug        50         1     -1         0  unknown  0  \n",
       "9   cellular    8   may       119         1     -1         0  unknown  0  "
      ]
     },
     "execution_count": 6,
     "metadata": {},
     "output_type": "execute_result"
    }
   ],
   "source": [
    "df = pd.read_csv('data/train.csv')\n",
    "df.head(10)"
   ]
  },
  {
   "cell_type": "code",
   "execution_count": 7,
   "metadata": {
    "colab": {
     "base_uri": "https://localhost:8080/"
    },
    "id": "KJhXD053MNJn",
    "outputId": "4d2f2a94-73ac-46ee-9f56-879c7ff70c4e"
   },
   "outputs": [
    {
     "data": {
      "text/plain": [
       "(750000, 18)"
      ]
     },
     "execution_count": 7,
     "metadata": {},
     "output_type": "execute_result"
    }
   ],
   "source": [
    "df.shape"
   ]
  },
  {
   "cell_type": "code",
   "execution_count": 8,
   "metadata": {
    "colab": {
     "base_uri": "https://localhost:8080/"
    },
    "id": "fm7_ZZLBMNG2",
    "outputId": "8bdb01dc-4549-40df-c939-2458cf15781f"
   },
   "outputs": [
    {
     "name": "stdout",
     "output_type": "stream",
     "text": [
      "<class 'pandas.core.frame.DataFrame'>\n",
      "RangeIndex: 750000 entries, 0 to 749999\n",
      "Data columns (total 18 columns):\n",
      " #   Column     Non-Null Count   Dtype \n",
      "---  ------     --------------   ----- \n",
      " 0   id         750000 non-null  int64 \n",
      " 1   age        750000 non-null  int64 \n",
      " 2   job        750000 non-null  object\n",
      " 3   marital    750000 non-null  object\n",
      " 4   education  750000 non-null  object\n",
      " 5   default    750000 non-null  object\n",
      " 6   balance    750000 non-null  int64 \n",
      " 7   housing    750000 non-null  object\n",
      " 8   loan       750000 non-null  object\n",
      " 9   contact    750000 non-null  object\n",
      " 10  day        750000 non-null  int64 \n",
      " 11  month      750000 non-null  object\n",
      " 12  duration   750000 non-null  int64 \n",
      " 13  campaign   750000 non-null  int64 \n",
      " 14  pdays      750000 non-null  int64 \n",
      " 15  previous   750000 non-null  int64 \n",
      " 16  poutcome   750000 non-null  object\n",
      " 17  y          750000 non-null  int64 \n",
      "dtypes: int64(9), object(9)\n",
      "memory usage: 103.0+ MB\n"
     ]
    }
   ],
   "source": [
    "df.info()"
   ]
  },
  {
   "cell_type": "code",
   "execution_count": 9,
   "metadata": {
    "colab": {
     "base_uri": "https://localhost:8080/",
     "height": 300
    },
    "id": "PJi3f8A6MdVP",
    "outputId": "1373b5f3-c07f-4e1f-bee1-fe1c242cd034"
   },
   "outputs": [
    {
     "data": {
      "text/html": [
       "<div>\n",
       "<style scoped>\n",
       "    .dataframe tbody tr th:only-of-type {\n",
       "        vertical-align: middle;\n",
       "    }\n",
       "\n",
       "    .dataframe tbody tr th {\n",
       "        vertical-align: top;\n",
       "    }\n",
       "\n",
       "    .dataframe thead th {\n",
       "        text-align: right;\n",
       "    }\n",
       "</style>\n",
       "<table border=\"1\" class=\"dataframe\">\n",
       "  <thead>\n",
       "    <tr style=\"text-align: right;\">\n",
       "      <th></th>\n",
       "      <th>id</th>\n",
       "      <th>age</th>\n",
       "      <th>balance</th>\n",
       "      <th>day</th>\n",
       "      <th>duration</th>\n",
       "      <th>campaign</th>\n",
       "      <th>pdays</th>\n",
       "      <th>previous</th>\n",
       "      <th>y</th>\n",
       "    </tr>\n",
       "  </thead>\n",
       "  <tbody>\n",
       "    <tr>\n",
       "      <th>count</th>\n",
       "      <td>750000.000000</td>\n",
       "      <td>750000.000000</td>\n",
       "      <td>750000.000000</td>\n",
       "      <td>750000.000000</td>\n",
       "      <td>750000.000000</td>\n",
       "      <td>750000.000000</td>\n",
       "      <td>750000.000000</td>\n",
       "      <td>750000.000000</td>\n",
       "      <td>750000.000000</td>\n",
       "    </tr>\n",
       "    <tr>\n",
       "      <th>mean</th>\n",
       "      <td>374999.500000</td>\n",
       "      <td>40.926395</td>\n",
       "      <td>1204.067397</td>\n",
       "      <td>16.117209</td>\n",
       "      <td>256.229144</td>\n",
       "      <td>2.577008</td>\n",
       "      <td>22.412733</td>\n",
       "      <td>0.298545</td>\n",
       "      <td>0.120651</td>\n",
       "    </tr>\n",
       "    <tr>\n",
       "      <th>std</th>\n",
       "      <td>216506.495284</td>\n",
       "      <td>10.098829</td>\n",
       "      <td>2836.096759</td>\n",
       "      <td>8.250832</td>\n",
       "      <td>272.555662</td>\n",
       "      <td>2.718514</td>\n",
       "      <td>77.319998</td>\n",
       "      <td>1.335926</td>\n",
       "      <td>0.325721</td>\n",
       "    </tr>\n",
       "    <tr>\n",
       "      <th>min</th>\n",
       "      <td>0.000000</td>\n",
       "      <td>18.000000</td>\n",
       "      <td>-8019.000000</td>\n",
       "      <td>1.000000</td>\n",
       "      <td>1.000000</td>\n",
       "      <td>1.000000</td>\n",
       "      <td>-1.000000</td>\n",
       "      <td>0.000000</td>\n",
       "      <td>0.000000</td>\n",
       "    </tr>\n",
       "    <tr>\n",
       "      <th>25%</th>\n",
       "      <td>187499.750000</td>\n",
       "      <td>33.000000</td>\n",
       "      <td>0.000000</td>\n",
       "      <td>9.000000</td>\n",
       "      <td>91.000000</td>\n",
       "      <td>1.000000</td>\n",
       "      <td>-1.000000</td>\n",
       "      <td>0.000000</td>\n",
       "      <td>0.000000</td>\n",
       "    </tr>\n",
       "    <tr>\n",
       "      <th>50%</th>\n",
       "      <td>374999.500000</td>\n",
       "      <td>39.000000</td>\n",
       "      <td>634.000000</td>\n",
       "      <td>17.000000</td>\n",
       "      <td>133.000000</td>\n",
       "      <td>2.000000</td>\n",
       "      <td>-1.000000</td>\n",
       "      <td>0.000000</td>\n",
       "      <td>0.000000</td>\n",
       "    </tr>\n",
       "    <tr>\n",
       "      <th>75%</th>\n",
       "      <td>562499.250000</td>\n",
       "      <td>48.000000</td>\n",
       "      <td>1390.000000</td>\n",
       "      <td>21.000000</td>\n",
       "      <td>361.000000</td>\n",
       "      <td>3.000000</td>\n",
       "      <td>-1.000000</td>\n",
       "      <td>0.000000</td>\n",
       "      <td>0.000000</td>\n",
       "    </tr>\n",
       "    <tr>\n",
       "      <th>max</th>\n",
       "      <td>749999.000000</td>\n",
       "      <td>95.000000</td>\n",
       "      <td>99717.000000</td>\n",
       "      <td>31.000000</td>\n",
       "      <td>4918.000000</td>\n",
       "      <td>63.000000</td>\n",
       "      <td>871.000000</td>\n",
       "      <td>200.000000</td>\n",
       "      <td>1.000000</td>\n",
       "    </tr>\n",
       "  </tbody>\n",
       "</table>\n",
       "</div>"
      ],
      "text/plain": [
       "                  id            age        balance            day  \\\n",
       "count  750000.000000  750000.000000  750000.000000  750000.000000   \n",
       "mean   374999.500000      40.926395    1204.067397      16.117209   \n",
       "std    216506.495284      10.098829    2836.096759       8.250832   \n",
       "min         0.000000      18.000000   -8019.000000       1.000000   \n",
       "25%    187499.750000      33.000000       0.000000       9.000000   \n",
       "50%    374999.500000      39.000000     634.000000      17.000000   \n",
       "75%    562499.250000      48.000000    1390.000000      21.000000   \n",
       "max    749999.000000      95.000000   99717.000000      31.000000   \n",
       "\n",
       "            duration       campaign          pdays       previous  \\\n",
       "count  750000.000000  750000.000000  750000.000000  750000.000000   \n",
       "mean      256.229144       2.577008      22.412733       0.298545   \n",
       "std       272.555662       2.718514      77.319998       1.335926   \n",
       "min         1.000000       1.000000      -1.000000       0.000000   \n",
       "25%        91.000000       1.000000      -1.000000       0.000000   \n",
       "50%       133.000000       2.000000      -1.000000       0.000000   \n",
       "75%       361.000000       3.000000      -1.000000       0.000000   \n",
       "max      4918.000000      63.000000     871.000000     200.000000   \n",
       "\n",
       "                   y  \n",
       "count  750000.000000  \n",
       "mean        0.120651  \n",
       "std         0.325721  \n",
       "min         0.000000  \n",
       "25%         0.000000  \n",
       "50%         0.000000  \n",
       "75%         0.000000  \n",
       "max         1.000000  "
      ]
     },
     "execution_count": 9,
     "metadata": {},
     "output_type": "execute_result"
    }
   ],
   "source": [
    "df.describe()"
   ]
  },
  {
   "cell_type": "code",
   "execution_count": 10,
   "metadata": {
    "colab": {
     "base_uri": "https://localhost:8080/"
    },
    "id": "TPqskpZTMe93",
    "outputId": "e1587e82-7214-4b2b-e956-406ca800e6b8"
   },
   "outputs": [
    {
     "name": "stdout",
     "output_type": "stream",
     "text": [
      "job: ['technician' 'blue-collar' 'student' 'admin.' 'management' 'entrepreneur'\n",
      " 'self-employed' 'unknown' 'services' 'retired' 'housemaid' 'unemployed']\n",
      "marital: ['married' 'single' 'divorced']\n",
      "education: ['secondary' 'primary' 'tertiary' 'unknown']\n",
      "default: ['no' 'yes']\n",
      "housing: ['no' 'yes']\n",
      "loan: ['no' 'yes']\n",
      "contact: ['cellular' 'unknown' 'telephone']\n",
      "month: ['aug' 'jun' 'may' 'feb' 'apr' 'nov' 'jul' 'jan' 'oct' 'mar' 'sep' 'dec']\n",
      "poutcome: ['unknown' 'other' 'failure' 'success']\n"
     ]
    }
   ],
   "source": [
    "for col in df.select_dtypes('object').columns:\n",
    "  print(f'{col}: {df[col].unique()}')"
   ]
  },
  {
   "cell_type": "code",
   "execution_count": 11,
   "metadata": {
    "colab": {
     "base_uri": "https://localhost:8080/",
     "height": 206
    },
    "id": "ttxGtuDu2cMN",
    "outputId": "b3cc09c1-a93c-4ef2-f75f-06630724f600"
   },
   "outputs": [
    {
     "data": {
      "text/html": [
       "<div>\n",
       "<style scoped>\n",
       "    .dataframe tbody tr th:only-of-type {\n",
       "        vertical-align: middle;\n",
       "    }\n",
       "\n",
       "    .dataframe tbody tr th {\n",
       "        vertical-align: top;\n",
       "    }\n",
       "\n",
       "    .dataframe thead th {\n",
       "        text-align: right;\n",
       "    }\n",
       "</style>\n",
       "<table border=\"1\" class=\"dataframe\">\n",
       "  <thead>\n",
       "    <tr style=\"text-align: right;\">\n",
       "      <th></th>\n",
       "      <th>id</th>\n",
       "      <th>age</th>\n",
       "      <th>job</th>\n",
       "      <th>marital</th>\n",
       "      <th>education</th>\n",
       "      <th>default</th>\n",
       "      <th>balance</th>\n",
       "      <th>housing</th>\n",
       "      <th>loan</th>\n",
       "      <th>contact</th>\n",
       "      <th>day</th>\n",
       "      <th>month</th>\n",
       "      <th>duration</th>\n",
       "      <th>campaign</th>\n",
       "      <th>pdays</th>\n",
       "      <th>previous</th>\n",
       "      <th>poutcome</th>\n",
       "      <th>y</th>\n",
       "    </tr>\n",
       "  </thead>\n",
       "  <tbody>\n",
       "    <tr>\n",
       "      <th>0</th>\n",
       "      <td>0</td>\n",
       "      <td>42</td>\n",
       "      <td>technician</td>\n",
       "      <td>married</td>\n",
       "      <td>secondary</td>\n",
       "      <td>no</td>\n",
       "      <td>7</td>\n",
       "      <td>no</td>\n",
       "      <td>no</td>\n",
       "      <td>cellular</td>\n",
       "      <td>25</td>\n",
       "      <td>aug</td>\n",
       "      <td>117</td>\n",
       "      <td>3</td>\n",
       "      <td>-1</td>\n",
       "      <td>0</td>\n",
       "      <td>unknown</td>\n",
       "      <td>0</td>\n",
       "    </tr>\n",
       "    <tr>\n",
       "      <th>1</th>\n",
       "      <td>1</td>\n",
       "      <td>38</td>\n",
       "      <td>blue-collar</td>\n",
       "      <td>married</td>\n",
       "      <td>secondary</td>\n",
       "      <td>no</td>\n",
       "      <td>514</td>\n",
       "      <td>no</td>\n",
       "      <td>no</td>\n",
       "      <td>unknown</td>\n",
       "      <td>18</td>\n",
       "      <td>jun</td>\n",
       "      <td>185</td>\n",
       "      <td>1</td>\n",
       "      <td>-1</td>\n",
       "      <td>0</td>\n",
       "      <td>unknown</td>\n",
       "      <td>0</td>\n",
       "    </tr>\n",
       "    <tr>\n",
       "      <th>2</th>\n",
       "      <td>2</td>\n",
       "      <td>36</td>\n",
       "      <td>blue-collar</td>\n",
       "      <td>married</td>\n",
       "      <td>secondary</td>\n",
       "      <td>no</td>\n",
       "      <td>602</td>\n",
       "      <td>yes</td>\n",
       "      <td>no</td>\n",
       "      <td>unknown</td>\n",
       "      <td>14</td>\n",
       "      <td>may</td>\n",
       "      <td>111</td>\n",
       "      <td>2</td>\n",
       "      <td>-1</td>\n",
       "      <td>0</td>\n",
       "      <td>unknown</td>\n",
       "      <td>0</td>\n",
       "    </tr>\n",
       "    <tr>\n",
       "      <th>3</th>\n",
       "      <td>3</td>\n",
       "      <td>27</td>\n",
       "      <td>student</td>\n",
       "      <td>single</td>\n",
       "      <td>secondary</td>\n",
       "      <td>no</td>\n",
       "      <td>34</td>\n",
       "      <td>yes</td>\n",
       "      <td>no</td>\n",
       "      <td>unknown</td>\n",
       "      <td>28</td>\n",
       "      <td>may</td>\n",
       "      <td>10</td>\n",
       "      <td>2</td>\n",
       "      <td>-1</td>\n",
       "      <td>0</td>\n",
       "      <td>unknown</td>\n",
       "      <td>0</td>\n",
       "    </tr>\n",
       "    <tr>\n",
       "      <th>4</th>\n",
       "      <td>4</td>\n",
       "      <td>26</td>\n",
       "      <td>technician</td>\n",
       "      <td>married</td>\n",
       "      <td>secondary</td>\n",
       "      <td>no</td>\n",
       "      <td>889</td>\n",
       "      <td>yes</td>\n",
       "      <td>no</td>\n",
       "      <td>cellular</td>\n",
       "      <td>3</td>\n",
       "      <td>feb</td>\n",
       "      <td>902</td>\n",
       "      <td>1</td>\n",
       "      <td>-1</td>\n",
       "      <td>0</td>\n",
       "      <td>unknown</td>\n",
       "      <td>1</td>\n",
       "    </tr>\n",
       "  </tbody>\n",
       "</table>\n",
       "</div>"
      ],
      "text/plain": [
       "   id  age          job  marital  education default  balance housing loan  \\\n",
       "0   0   42   technician  married  secondary      no        7      no   no   \n",
       "1   1   38  blue-collar  married  secondary      no      514      no   no   \n",
       "2   2   36  blue-collar  married  secondary      no      602     yes   no   \n",
       "3   3   27      student   single  secondary      no       34     yes   no   \n",
       "4   4   26   technician  married  secondary      no      889     yes   no   \n",
       "\n",
       "    contact  day month  duration  campaign  pdays  previous poutcome  y  \n",
       "0  cellular   25   aug       117         3     -1         0  unknown  0  \n",
       "1   unknown   18   jun       185         1     -1         0  unknown  0  \n",
       "2   unknown   14   may       111         2     -1         0  unknown  0  \n",
       "3   unknown   28   may        10         2     -1         0  unknown  0  \n",
       "4  cellular    3   feb       902         1     -1         0  unknown  1  "
      ]
     },
     "execution_count": 11,
     "metadata": {},
     "output_type": "execute_result"
    }
   ],
   "source": [
    "df.head()"
   ]
  },
  {
   "cell_type": "code",
   "execution_count": 12,
   "metadata": {
    "id": "nYQ5_xrEv-4C"
   },
   "outputs": [],
   "source": [
    "df1 = df.drop(['id'], axis=1)"
   ]
  },
  {
   "cell_type": "code",
   "execution_count": 13,
   "metadata": {
    "colab": {
     "base_uri": "https://localhost:8080/"
    },
    "id": "DC2GkyrTTC4o",
    "outputId": "aaa917f9-cc50-43a3-a4b4-f466c51ad614"
   },
   "outputs": [
    {
     "data": {
      "text/plain": [
       "(750000, 17)"
      ]
     },
     "execution_count": 13,
     "metadata": {},
     "output_type": "execute_result"
    }
   ],
   "source": [
    "df1.shape"
   ]
  },
  {
   "cell_type": "code",
   "execution_count": 14,
   "metadata": {
    "colab": {
     "base_uri": "https://localhost:8080/",
     "height": 206
    },
    "id": "t8H3kJ4gTC4p",
    "outputId": "9bf17ba8-d1ac-4ed7-b5d2-1594f2092a5c"
   },
   "outputs": [
    {
     "data": {
      "text/html": [
       "<div>\n",
       "<style scoped>\n",
       "    .dataframe tbody tr th:only-of-type {\n",
       "        vertical-align: middle;\n",
       "    }\n",
       "\n",
       "    .dataframe tbody tr th {\n",
       "        vertical-align: top;\n",
       "    }\n",
       "\n",
       "    .dataframe thead th {\n",
       "        text-align: right;\n",
       "    }\n",
       "</style>\n",
       "<table border=\"1\" class=\"dataframe\">\n",
       "  <thead>\n",
       "    <tr style=\"text-align: right;\">\n",
       "      <th></th>\n",
       "      <th>age</th>\n",
       "      <th>job</th>\n",
       "      <th>marital</th>\n",
       "      <th>education</th>\n",
       "      <th>default</th>\n",
       "      <th>balance</th>\n",
       "      <th>housing</th>\n",
       "      <th>loan</th>\n",
       "      <th>contact</th>\n",
       "      <th>day</th>\n",
       "      <th>month</th>\n",
       "      <th>duration</th>\n",
       "      <th>campaign</th>\n",
       "      <th>pdays</th>\n",
       "      <th>previous</th>\n",
       "      <th>poutcome</th>\n",
       "      <th>y</th>\n",
       "    </tr>\n",
       "  </thead>\n",
       "  <tbody>\n",
       "    <tr>\n",
       "      <th>0</th>\n",
       "      <td>58</td>\n",
       "      <td>management</td>\n",
       "      <td>married</td>\n",
       "      <td>tertiary</td>\n",
       "      <td>no</td>\n",
       "      <td>2143</td>\n",
       "      <td>yes</td>\n",
       "      <td>no</td>\n",
       "      <td>unknown</td>\n",
       "      <td>5</td>\n",
       "      <td>may</td>\n",
       "      <td>261</td>\n",
       "      <td>1</td>\n",
       "      <td>-1</td>\n",
       "      <td>0</td>\n",
       "      <td>unknown</td>\n",
       "      <td>no</td>\n",
       "    </tr>\n",
       "    <tr>\n",
       "      <th>1</th>\n",
       "      <td>44</td>\n",
       "      <td>technician</td>\n",
       "      <td>single</td>\n",
       "      <td>secondary</td>\n",
       "      <td>no</td>\n",
       "      <td>29</td>\n",
       "      <td>yes</td>\n",
       "      <td>no</td>\n",
       "      <td>unknown</td>\n",
       "      <td>5</td>\n",
       "      <td>may</td>\n",
       "      <td>151</td>\n",
       "      <td>1</td>\n",
       "      <td>-1</td>\n",
       "      <td>0</td>\n",
       "      <td>unknown</td>\n",
       "      <td>no</td>\n",
       "    </tr>\n",
       "    <tr>\n",
       "      <th>2</th>\n",
       "      <td>33</td>\n",
       "      <td>entrepreneur</td>\n",
       "      <td>married</td>\n",
       "      <td>secondary</td>\n",
       "      <td>no</td>\n",
       "      <td>2</td>\n",
       "      <td>yes</td>\n",
       "      <td>yes</td>\n",
       "      <td>unknown</td>\n",
       "      <td>5</td>\n",
       "      <td>may</td>\n",
       "      <td>76</td>\n",
       "      <td>1</td>\n",
       "      <td>-1</td>\n",
       "      <td>0</td>\n",
       "      <td>unknown</td>\n",
       "      <td>no</td>\n",
       "    </tr>\n",
       "    <tr>\n",
       "      <th>3</th>\n",
       "      <td>47</td>\n",
       "      <td>blue-collar</td>\n",
       "      <td>married</td>\n",
       "      <td>unknown</td>\n",
       "      <td>no</td>\n",
       "      <td>1506</td>\n",
       "      <td>yes</td>\n",
       "      <td>no</td>\n",
       "      <td>unknown</td>\n",
       "      <td>5</td>\n",
       "      <td>may</td>\n",
       "      <td>92</td>\n",
       "      <td>1</td>\n",
       "      <td>-1</td>\n",
       "      <td>0</td>\n",
       "      <td>unknown</td>\n",
       "      <td>no</td>\n",
       "    </tr>\n",
       "    <tr>\n",
       "      <th>4</th>\n",
       "      <td>33</td>\n",
       "      <td>unknown</td>\n",
       "      <td>single</td>\n",
       "      <td>unknown</td>\n",
       "      <td>no</td>\n",
       "      <td>1</td>\n",
       "      <td>no</td>\n",
       "      <td>no</td>\n",
       "      <td>unknown</td>\n",
       "      <td>5</td>\n",
       "      <td>may</td>\n",
       "      <td>198</td>\n",
       "      <td>1</td>\n",
       "      <td>-1</td>\n",
       "      <td>0</td>\n",
       "      <td>unknown</td>\n",
       "      <td>no</td>\n",
       "    </tr>\n",
       "  </tbody>\n",
       "</table>\n",
       "</div>"
      ],
      "text/plain": [
       "   age           job  marital  education default  balance housing loan  \\\n",
       "0   58    management  married   tertiary      no     2143     yes   no   \n",
       "1   44    technician   single  secondary      no       29     yes   no   \n",
       "2   33  entrepreneur  married  secondary      no        2     yes  yes   \n",
       "3   47   blue-collar  married    unknown      no     1506     yes   no   \n",
       "4   33       unknown   single    unknown      no        1      no   no   \n",
       "\n",
       "   contact  day month  duration  campaign  pdays  previous poutcome   y  \n",
       "0  unknown    5   may       261         1     -1         0  unknown  no  \n",
       "1  unknown    5   may       151         1     -1         0  unknown  no  \n",
       "2  unknown    5   may        76         1     -1         0  unknown  no  \n",
       "3  unknown    5   may        92         1     -1         0  unknown  no  \n",
       "4  unknown    5   may       198         1     -1         0  unknown  no  "
      ]
     },
     "execution_count": 14,
     "metadata": {},
     "output_type": "execute_result"
    }
   ],
   "source": [
    "bank_df = pd.read_csv('data/bank-full.csv',sep=';')\n",
    "bank_df.head()"
   ]
  },
  {
   "cell_type": "code",
   "execution_count": 15,
   "metadata": {
    "colab": {
     "base_uri": "https://localhost:8080/"
    },
    "id": "GFVX-QaUTC4q",
    "outputId": "241bf2cf-1e91-4fa1-c49a-376256b908a4"
   },
   "outputs": [
    {
     "data": {
      "text/plain": [
       "(45211, 17)"
      ]
     },
     "execution_count": 15,
     "metadata": {},
     "output_type": "execute_result"
    }
   ],
   "source": [
    "bank_df.shape"
   ]
  },
  {
   "cell_type": "code",
   "execution_count": 16,
   "metadata": {
    "colab": {
     "base_uri": "https://localhost:8080/"
    },
    "id": "Wn_FPn1hTC4r",
    "outputId": "a3e10c1e-2188-4ba7-d3fe-eb05114e65b6"
   },
   "outputs": [
    {
     "name": "stdout",
     "output_type": "stream",
     "text": [
      "<class 'pandas.core.frame.DataFrame'>\n",
      "RangeIndex: 45211 entries, 0 to 45210\n",
      "Data columns (total 17 columns):\n",
      " #   Column     Non-Null Count  Dtype \n",
      "---  ------     --------------  ----- \n",
      " 0   age        45211 non-null  int64 \n",
      " 1   job        45211 non-null  object\n",
      " 2   marital    45211 non-null  object\n",
      " 3   education  45211 non-null  object\n",
      " 4   default    45211 non-null  object\n",
      " 5   balance    45211 non-null  int64 \n",
      " 6   housing    45211 non-null  object\n",
      " 7   loan       45211 non-null  object\n",
      " 8   contact    45211 non-null  object\n",
      " 9   day        45211 non-null  int64 \n",
      " 10  month      45211 non-null  object\n",
      " 11  duration   45211 non-null  int64 \n",
      " 12  campaign   45211 non-null  int64 \n",
      " 13  pdays      45211 non-null  int64 \n",
      " 14  previous   45211 non-null  int64 \n",
      " 15  poutcome   45211 non-null  object\n",
      " 16  y          45211 non-null  object\n",
      "dtypes: int64(7), object(10)\n",
      "memory usage: 5.9+ MB\n"
     ]
    }
   ],
   "source": [
    "bank_df.info()"
   ]
  },
  {
   "cell_type": "code",
   "execution_count": 17,
   "metadata": {
    "id": "VwbiEf9fTC4s"
   },
   "outputs": [],
   "source": [
    "bank_df['y'] = bank_df['y'].apply(lambda x: 1 if x == 'yes' else 0)"
   ]
  },
  {
   "cell_type": "code",
   "execution_count": 18,
   "metadata": {
    "colab": {
     "base_uri": "https://localhost:8080/",
     "height": 206
    },
    "id": "XSz7y_IaTC4s",
    "outputId": "aafae369-db42-4b74-c9d7-00dc2fe8012c"
   },
   "outputs": [
    {
     "data": {
      "text/html": [
       "<div>\n",
       "<style scoped>\n",
       "    .dataframe tbody tr th:only-of-type {\n",
       "        vertical-align: middle;\n",
       "    }\n",
       "\n",
       "    .dataframe tbody tr th {\n",
       "        vertical-align: top;\n",
       "    }\n",
       "\n",
       "    .dataframe thead th {\n",
       "        text-align: right;\n",
       "    }\n",
       "</style>\n",
       "<table border=\"1\" class=\"dataframe\">\n",
       "  <thead>\n",
       "    <tr style=\"text-align: right;\">\n",
       "      <th></th>\n",
       "      <th>age</th>\n",
       "      <th>job</th>\n",
       "      <th>marital</th>\n",
       "      <th>education</th>\n",
       "      <th>default</th>\n",
       "      <th>balance</th>\n",
       "      <th>housing</th>\n",
       "      <th>loan</th>\n",
       "      <th>contact</th>\n",
       "      <th>day</th>\n",
       "      <th>month</th>\n",
       "      <th>duration</th>\n",
       "      <th>campaign</th>\n",
       "      <th>pdays</th>\n",
       "      <th>previous</th>\n",
       "      <th>poutcome</th>\n",
       "      <th>y</th>\n",
       "    </tr>\n",
       "  </thead>\n",
       "  <tbody>\n",
       "    <tr>\n",
       "      <th>0</th>\n",
       "      <td>58</td>\n",
       "      <td>management</td>\n",
       "      <td>married</td>\n",
       "      <td>tertiary</td>\n",
       "      <td>no</td>\n",
       "      <td>2143</td>\n",
       "      <td>yes</td>\n",
       "      <td>no</td>\n",
       "      <td>unknown</td>\n",
       "      <td>5</td>\n",
       "      <td>may</td>\n",
       "      <td>261</td>\n",
       "      <td>1</td>\n",
       "      <td>-1</td>\n",
       "      <td>0</td>\n",
       "      <td>unknown</td>\n",
       "      <td>0</td>\n",
       "    </tr>\n",
       "    <tr>\n",
       "      <th>1</th>\n",
       "      <td>44</td>\n",
       "      <td>technician</td>\n",
       "      <td>single</td>\n",
       "      <td>secondary</td>\n",
       "      <td>no</td>\n",
       "      <td>29</td>\n",
       "      <td>yes</td>\n",
       "      <td>no</td>\n",
       "      <td>unknown</td>\n",
       "      <td>5</td>\n",
       "      <td>may</td>\n",
       "      <td>151</td>\n",
       "      <td>1</td>\n",
       "      <td>-1</td>\n",
       "      <td>0</td>\n",
       "      <td>unknown</td>\n",
       "      <td>0</td>\n",
       "    </tr>\n",
       "    <tr>\n",
       "      <th>2</th>\n",
       "      <td>33</td>\n",
       "      <td>entrepreneur</td>\n",
       "      <td>married</td>\n",
       "      <td>secondary</td>\n",
       "      <td>no</td>\n",
       "      <td>2</td>\n",
       "      <td>yes</td>\n",
       "      <td>yes</td>\n",
       "      <td>unknown</td>\n",
       "      <td>5</td>\n",
       "      <td>may</td>\n",
       "      <td>76</td>\n",
       "      <td>1</td>\n",
       "      <td>-1</td>\n",
       "      <td>0</td>\n",
       "      <td>unknown</td>\n",
       "      <td>0</td>\n",
       "    </tr>\n",
       "    <tr>\n",
       "      <th>3</th>\n",
       "      <td>47</td>\n",
       "      <td>blue-collar</td>\n",
       "      <td>married</td>\n",
       "      <td>unknown</td>\n",
       "      <td>no</td>\n",
       "      <td>1506</td>\n",
       "      <td>yes</td>\n",
       "      <td>no</td>\n",
       "      <td>unknown</td>\n",
       "      <td>5</td>\n",
       "      <td>may</td>\n",
       "      <td>92</td>\n",
       "      <td>1</td>\n",
       "      <td>-1</td>\n",
       "      <td>0</td>\n",
       "      <td>unknown</td>\n",
       "      <td>0</td>\n",
       "    </tr>\n",
       "    <tr>\n",
       "      <th>4</th>\n",
       "      <td>33</td>\n",
       "      <td>unknown</td>\n",
       "      <td>single</td>\n",
       "      <td>unknown</td>\n",
       "      <td>no</td>\n",
       "      <td>1</td>\n",
       "      <td>no</td>\n",
       "      <td>no</td>\n",
       "      <td>unknown</td>\n",
       "      <td>5</td>\n",
       "      <td>may</td>\n",
       "      <td>198</td>\n",
       "      <td>1</td>\n",
       "      <td>-1</td>\n",
       "      <td>0</td>\n",
       "      <td>unknown</td>\n",
       "      <td>0</td>\n",
       "    </tr>\n",
       "  </tbody>\n",
       "</table>\n",
       "</div>"
      ],
      "text/plain": [
       "   age           job  marital  education default  balance housing loan  \\\n",
       "0   58    management  married   tertiary      no     2143     yes   no   \n",
       "1   44    technician   single  secondary      no       29     yes   no   \n",
       "2   33  entrepreneur  married  secondary      no        2     yes  yes   \n",
       "3   47   blue-collar  married    unknown      no     1506     yes   no   \n",
       "4   33       unknown   single    unknown      no        1      no   no   \n",
       "\n",
       "   contact  day month  duration  campaign  pdays  previous poutcome  y  \n",
       "0  unknown    5   may       261         1     -1         0  unknown  0  \n",
       "1  unknown    5   may       151         1     -1         0  unknown  0  \n",
       "2  unknown    5   may        76         1     -1         0  unknown  0  \n",
       "3  unknown    5   may        92         1     -1         0  unknown  0  \n",
       "4  unknown    5   may       198         1     -1         0  unknown  0  "
      ]
     },
     "execution_count": 18,
     "metadata": {},
     "output_type": "execute_result"
    }
   ],
   "source": [
    "bank_df.head()"
   ]
  },
  {
   "cell_type": "code",
   "execution_count": 19,
   "metadata": {
    "id": "tcxlvhBwTC4t"
   },
   "outputs": [],
   "source": [
    "df1 = pd.concat([df1, bank_df], ignore_index=True)"
   ]
  },
  {
   "cell_type": "code",
   "execution_count": 20,
   "metadata": {
    "colab": {
     "base_uri": "https://localhost:8080/",
     "height": 206
    },
    "id": "AY_VY4L9_KQP",
    "outputId": "b37ab226-6308-47f9-c126-cb373f742cd3"
   },
   "outputs": [
    {
     "data": {
      "text/html": [
       "<div>\n",
       "<style scoped>\n",
       "    .dataframe tbody tr th:only-of-type {\n",
       "        vertical-align: middle;\n",
       "    }\n",
       "\n",
       "    .dataframe tbody tr th {\n",
       "        vertical-align: top;\n",
       "    }\n",
       "\n",
       "    .dataframe thead th {\n",
       "        text-align: right;\n",
       "    }\n",
       "</style>\n",
       "<table border=\"1\" class=\"dataframe\">\n",
       "  <thead>\n",
       "    <tr style=\"text-align: right;\">\n",
       "      <th></th>\n",
       "      <th>age</th>\n",
       "      <th>job</th>\n",
       "      <th>marital</th>\n",
       "      <th>education</th>\n",
       "      <th>default</th>\n",
       "      <th>balance</th>\n",
       "      <th>housing</th>\n",
       "      <th>loan</th>\n",
       "      <th>contact</th>\n",
       "      <th>day</th>\n",
       "      <th>month</th>\n",
       "      <th>duration</th>\n",
       "      <th>campaign</th>\n",
       "      <th>pdays</th>\n",
       "      <th>previous</th>\n",
       "      <th>poutcome</th>\n",
       "      <th>y</th>\n",
       "    </tr>\n",
       "  </thead>\n",
       "  <tbody>\n",
       "    <tr>\n",
       "      <th>0</th>\n",
       "      <td>42</td>\n",
       "      <td>technician</td>\n",
       "      <td>married</td>\n",
       "      <td>secondary</td>\n",
       "      <td>no</td>\n",
       "      <td>7</td>\n",
       "      <td>no</td>\n",
       "      <td>no</td>\n",
       "      <td>cellular</td>\n",
       "      <td>25</td>\n",
       "      <td>aug</td>\n",
       "      <td>117</td>\n",
       "      <td>3</td>\n",
       "      <td>-1</td>\n",
       "      <td>0</td>\n",
       "      <td>unknown</td>\n",
       "      <td>0</td>\n",
       "    </tr>\n",
       "    <tr>\n",
       "      <th>1</th>\n",
       "      <td>38</td>\n",
       "      <td>blue-collar</td>\n",
       "      <td>married</td>\n",
       "      <td>secondary</td>\n",
       "      <td>no</td>\n",
       "      <td>514</td>\n",
       "      <td>no</td>\n",
       "      <td>no</td>\n",
       "      <td>unknown</td>\n",
       "      <td>18</td>\n",
       "      <td>jun</td>\n",
       "      <td>185</td>\n",
       "      <td>1</td>\n",
       "      <td>-1</td>\n",
       "      <td>0</td>\n",
       "      <td>unknown</td>\n",
       "      <td>0</td>\n",
       "    </tr>\n",
       "    <tr>\n",
       "      <th>2</th>\n",
       "      <td>36</td>\n",
       "      <td>blue-collar</td>\n",
       "      <td>married</td>\n",
       "      <td>secondary</td>\n",
       "      <td>no</td>\n",
       "      <td>602</td>\n",
       "      <td>yes</td>\n",
       "      <td>no</td>\n",
       "      <td>unknown</td>\n",
       "      <td>14</td>\n",
       "      <td>may</td>\n",
       "      <td>111</td>\n",
       "      <td>2</td>\n",
       "      <td>-1</td>\n",
       "      <td>0</td>\n",
       "      <td>unknown</td>\n",
       "      <td>0</td>\n",
       "    </tr>\n",
       "    <tr>\n",
       "      <th>3</th>\n",
       "      <td>27</td>\n",
       "      <td>student</td>\n",
       "      <td>single</td>\n",
       "      <td>secondary</td>\n",
       "      <td>no</td>\n",
       "      <td>34</td>\n",
       "      <td>yes</td>\n",
       "      <td>no</td>\n",
       "      <td>unknown</td>\n",
       "      <td>28</td>\n",
       "      <td>may</td>\n",
       "      <td>10</td>\n",
       "      <td>2</td>\n",
       "      <td>-1</td>\n",
       "      <td>0</td>\n",
       "      <td>unknown</td>\n",
       "      <td>0</td>\n",
       "    </tr>\n",
       "    <tr>\n",
       "      <th>4</th>\n",
       "      <td>26</td>\n",
       "      <td>technician</td>\n",
       "      <td>married</td>\n",
       "      <td>secondary</td>\n",
       "      <td>no</td>\n",
       "      <td>889</td>\n",
       "      <td>yes</td>\n",
       "      <td>no</td>\n",
       "      <td>cellular</td>\n",
       "      <td>3</td>\n",
       "      <td>feb</td>\n",
       "      <td>902</td>\n",
       "      <td>1</td>\n",
       "      <td>-1</td>\n",
       "      <td>0</td>\n",
       "      <td>unknown</td>\n",
       "      <td>1</td>\n",
       "    </tr>\n",
       "  </tbody>\n",
       "</table>\n",
       "</div>"
      ],
      "text/plain": [
       "   age          job  marital  education default  balance housing loan  \\\n",
       "0   42   technician  married  secondary      no        7      no   no   \n",
       "1   38  blue-collar  married  secondary      no      514      no   no   \n",
       "2   36  blue-collar  married  secondary      no      602     yes   no   \n",
       "3   27      student   single  secondary      no       34     yes   no   \n",
       "4   26   technician  married  secondary      no      889     yes   no   \n",
       "\n",
       "    contact  day month  duration  campaign  pdays  previous poutcome  y  \n",
       "0  cellular   25   aug       117         3     -1         0  unknown  0  \n",
       "1   unknown   18   jun       185         1     -1         0  unknown  0  \n",
       "2   unknown   14   may       111         2     -1         0  unknown  0  \n",
       "3   unknown   28   may        10         2     -1         0  unknown  0  \n",
       "4  cellular    3   feb       902         1     -1         0  unknown  1  "
      ]
     },
     "execution_count": 20,
     "metadata": {},
     "output_type": "execute_result"
    }
   ],
   "source": [
    "df1.head()"
   ]
  },
  {
   "cell_type": "code",
   "execution_count": 21,
   "metadata": {
    "colab": {
     "base_uri": "https://localhost:8080/"
    },
    "id": "X6Id7EqtTC4u",
    "outputId": "9c21bfa3-1844-45a1-ed37-dab9c27a940f"
   },
   "outputs": [
    {
     "data": {
      "text/plain": [
       "(795211, 17)"
      ]
     },
     "execution_count": 21,
     "metadata": {},
     "output_type": "execute_result"
    }
   ],
   "source": [
    "df1.shape"
   ]
  },
  {
   "cell_type": "markdown",
   "metadata": {
    "id": "D3mJUY3UAHHx"
   },
   "source": [
    "## ML pipeline notes to apply to test\n",
    "\n",
    "1. was_previously_contacted = (pdays != -1)\n",
    "2."
   ]
  },
  {
   "cell_type": "code",
   "execution_count": 22,
   "metadata": {
    "id": "qu-nzjH1_KNN"
   },
   "outputs": [],
   "source": [
    "df1['was_previously_contacted'] = df1['pdays'].apply(lambda x:1 if x != -1 else 0).astype(\"int8\")"
   ]
  },
  {
   "cell_type": "code",
   "execution_count": 23,
   "metadata": {
    "colab": {
     "base_uri": "https://localhost:8080/"
    },
    "id": "gnseVjD9A65g",
    "outputId": "1fbd59ad-0187-433f-8135-470482bdee64"
   },
   "outputs": [
    {
     "data": {
      "text/plain": [
       "17"
      ]
     },
     "execution_count": 23,
     "metadata": {},
     "output_type": "execute_result"
    }
   ],
   "source": [
    "all_cols = set(df1.columns)-set('y')\n",
    "all_cols.__len__()"
   ]
  },
  {
   "cell_type": "code",
   "execution_count": 24,
   "metadata": {
    "id": "UP042MLk_KKP"
   },
   "outputs": [],
   "source": [
    "def plot_feature_vs_target(df, feature_col, target_col='y'):\n",
    "    plt.figure(figsize=(15, 6))\n",
    "\n",
    "    if pd.api.types.is_numeric_dtype(df[feature_col]):\n",
    "        sns.histplot(data=df, x=feature_col, hue=target_col, kde=True)\n",
    "    else:\n",
    "        sns.countplot(data=df, x=feature_col, hue=target_col)\n",
    "        plt.xticks(rotation=45)\n",
    "\n",
    "    plt.title(f\"{feature_col} vs {target_col}\")\n",
    "    plt.tight_layout()\n",
    "    plt.show()"
   ]
  },
  {
   "cell_type": "code",
   "execution_count": 25,
   "metadata": {
    "colab": {
     "base_uri": "https://localhost:8080/",
     "height": 551
    },
    "id": "KWxVeY3NCV7S",
    "outputId": "c99bf343-5a54-4f60-9019-c0c6f030eaaa"
   },
   "outputs": [
    {
     "data": {
      "image/png": "[encoded data removed]",
      "text/plain": [
       "<Figure size 1500x600 with 1 Axes>"
      ]
     },
     "metadata": {},
     "output_type": "display_data"
    }
   ],
   "source": [
    "plot_feature_vs_target(df, 'job')"
   ]
  },
  {
   "cell_type": "code",
   "execution_count": 26,
   "metadata": {
    "colab": {
     "base_uri": "https://localhost:8080/",
     "height": 551
    },
    "id": "4Ymi20XZCV0N",
    "outputId": "0877a2a6-c459-4c83-ac49-03831228b4ee"
   },
   "outputs": [
    {
     "data": {
      "image/png": "[encoded data removed]",
      "text/plain": [
       "<Figure size 1500x600 with 1 Axes>"
      ]
     },
     "metadata": {},
     "output_type": "display_data"
    }
   ],
   "source": [
    "plot_feature_vs_target(df, 'age')"
   ]
  },
  {
   "cell_type": "code",
   "execution_count": 27,
   "metadata": {
    "colab": {
     "base_uri": "https://localhost:8080/"
    },
    "id": "Xlc1G9IvIwYE",
    "outputId": "7d2eca8a-c945-4386-e1f8-1375e0ac5a8e"
   },
   "outputs": [
    {
     "data": {
      "text/plain": [
       "{'age',\n",
       " 'balance',\n",
       " 'campaign',\n",
       " 'contact',\n",
       " 'day',\n",
       " 'default',\n",
       " 'duration',\n",
       " 'education',\n",
       " 'housing',\n",
       " 'job',\n",
       " 'loan',\n",
       " 'marital',\n",
       " 'month',\n",
       " 'pdays',\n",
       " 'poutcome',\n",
       " 'previous',\n",
       " 'was_previously_contacted'}"
      ]
     },
     "execution_count": 27,
     "metadata": {},
     "output_type": "execute_result"
    }
   ],
   "source": [
    "all_cols"
   ]
  },
  {
   "cell_type": "code",
   "execution_count": 28,
   "metadata": {
    "colab": {
     "base_uri": "https://localhost:8080/",
     "height": 551
    },
    "id": "9YJ0_1bKIPcu",
    "outputId": "fcc272c9-45db-4251-a858-041303f071d7"
   },
   "outputs": [
    {
     "data": {
      "image/png": "[encoded data removed]",
      "text/plain": [
       "<Figure size 1500x600 with 1 Axes>"
      ]
     },
     "metadata": {},
     "output_type": "display_data"
    }
   ],
   "source": [
    "plot_feature_vs_target(df1, 'contact')"
   ]
  },
  {
   "cell_type": "code",
   "execution_count": 29,
   "metadata": {
    "colab": {
     "base_uri": "https://localhost:8080/"
    },
    "id": "gBOBYaqoTC41",
    "outputId": "2bc3fdbf-2995-4245-db51-84f5c31f7683"
   },
   "outputs": [
    {
     "name": "stdout",
     "output_type": "stream",
     "text": [
      "age  -  int64\n",
      "job  -  object\n",
      "marital  -  object\n",
      "education  -  object\n",
      "default  -  object\n",
      "balance  -  int64\n",
      "housing  -  object\n",
      "loan  -  object\n",
      "contact  -  object\n",
      "day  -  int64\n",
      "month  -  object\n",
      "duration  -  int64\n",
      "campaign  -  int64\n",
      "pdays  -  int64\n",
      "previous  -  int64\n",
      "poutcome  -  object\n",
      "y  -  int64\n",
      "was_previously_contacted  -  int8\n"
     ]
    }
   ],
   "source": [
    "for col in df1.columns:\n",
    "    print(col,' - ', df1[col].dtype)"
   ]
  },
  {
   "cell_type": "code",
   "execution_count": 30,
   "metadata": {
    "colab": {
     "base_uri": "https://localhost:8080/",
     "height": 429
    },
    "id": "RvUiymcYTC41",
    "outputId": "a5d6cb0b-6a33-41a3-acca-a08015bd1a3b"
   },
   "outputs": [
    {
     "data": {
      "text/plain": [
       "<Axes: ylabel='campaign'>"
      ]
     },
     "execution_count": 30,
     "metadata": {},
     "output_type": "execute_result"
    },
    {
     "data": {
      "image/png": "[encoded data removed]",
      "text/plain": [
       "<Figure size 640x480 with 1 Axes>"
      ]
     },
     "metadata": {},
     "output_type": "display_data"
    }
   ],
   "source": [
    "sns.boxplot(df1['campaign'])"
   ]
  },
  {
   "cell_type": "code",
   "execution_count": 31,
   "metadata": {
    "id": "wIOHSO8vTC42"
   },
   "outputs": [],
   "source": [
    "def findIQR(col, df):\n",
    "    q25 = df[col].quantile(0.25)\n",
    "    q75 = df[col].quantile(0.75)\n",
    "    condition = (df[col] >= q25) & (df[col] <= q75)\n",
    "    filtered = df[condition]\n",
    "    print(f\"{col} -> mid 50% shape: {filtered.shape}, original: {df.shape}\")"
   ]
  },
  {
   "cell_type": "code",
   "execution_count": 32,
   "metadata": {
    "colab": {
     "base_uri": "https://localhost:8080/"
    },
    "id": "iDhVl-B9TC42",
    "outputId": "c3e951e4-e826-4ab0-d8a4-c000b1db5e12"
   },
   "outputs": [
    {
     "name": "stdout",
     "output_type": "stream",
     "text": [
      "col name -  age\n",
      "age -> mid 50% shape: (414864, 18), original: (795211, 18)\n",
      "\n",
      "col name -  balance\n",
      "balance -> mid 50% shape: (488009, 18), original: (795211, 18)\n",
      "\n",
      "col name -  day\n",
      "day -> mid 50% shape: (404046, 18), original: (795211, 18)\n",
      "\n",
      "col name -  duration\n",
      "duration -> mid 50% shape: (401498, 18), original: (795211, 18)\n",
      "\n",
      "col name -  campaign\n",
      "campaign -> mid 50% shape: (638568, 18), original: (795211, 18)\n",
      "\n",
      "col name -  pdays\n",
      "pdays -> mid 50% shape: (709388, 18), original: (795211, 18)\n",
      "\n",
      "col name -  previous\n",
      "previous -> mid 50% shape: (709385, 18), original: (795211, 18)\n",
      "\n",
      "col name -  y\n",
      "y -> mid 50% shape: (699434, 18), original: (795211, 18)\n",
      "\n",
      "col name -  was_previously_contacted\n",
      "was_previously_contacted -> mid 50% shape: (709388, 18), original: (795211, 18)\n",
      "\n"
     ]
    }
   ],
   "source": [
    "for col in df1.columns:\n",
    "    if pd.api.types.is_integer_dtype(df1[col]):\n",
    "        print('col name - ', col)\n",
    "        findIQR(col, df1)\n",
    "        print()"
   ]
  },
  {
   "cell_type": "code",
   "execution_count": null,
   "metadata": {
    "id": "R9wYqXQRTC42"
   },
   "outputs": [],
   "source": []
  },
  {
   "cell_type": "code",
   "execution_count": 33,
   "metadata": {
    "id": "1JgpEQODTC43"
   },
   "outputs": [],
   "source": [
    "# job_dummy = pd.get_dummies(df1['job'])\n",
    "# job_dummy.head()"
   ]
  },
  {
   "cell_type": "code",
   "execution_count": 34,
   "metadata": {
    "id": "UYaRlZlRTC43"
   },
   "outputs": [],
   "source": [
    "# for col in set(job_dummy.columns[:-1]):\n",
    "#     df1[col] = job_dummy[col]\n",
    "#     print(col, ' - completed', df1.shape)"
   ]
  },
  {
   "cell_type": "code",
   "execution_count": 35,
   "metadata": {
    "id": "ULR6rXeLTC43"
   },
   "outputs": [],
   "source": [
    "# def ohe(data:pd.DataFrame, col:str) -> pd.DataFrame:\n",
    "#     data = data.copy()\n",
    "#     col_dummy = pd.get_dummies(data[col])\n",
    "#     print('data shape before - ',data.shape,' categorical cols in ', col, ' - ', col_dummy.shape)\n",
    "#     for col in col_dummy.columns[:-1]:\n",
    "#         data[col] = col_dummy[col]\n",
    "#     print('dataframe size after - ', data.shape)\n",
    "#     return data"
   ]
  },
  {
   "cell_type": "code",
   "execution_count": 36,
   "metadata": {
    "id": "V-Qm0ZWDTC43"
   },
   "outputs": [],
   "source": [
    "# df2 = ohe(df1, 'marital')"
   ]
  },
  {
   "cell_type": "code",
   "execution_count": 37,
   "metadata": {
    "colab": {
     "base_uri": "https://localhost:8080/"
    },
    "id": "XhaCxfCiTC44",
    "outputId": "bba5cf34-e832-4041-95bc-ee3667eb2ca0"
   },
   "outputs": [
    {
     "data": {
      "text/plain": [
       "['job',\n",
       " 'marital',\n",
       " 'education',\n",
       " 'default',\n",
       " 'housing',\n",
       " 'loan',\n",
       " 'contact',\n",
       " 'month',\n",
       " 'poutcome']"
      ]
     },
     "execution_count": 37,
     "metadata": {},
     "output_type": "execute_result"
    }
   ],
   "source": [
    "df1.select_dtypes(include='object').columns.tolist()"
   ]
  },
  {
   "cell_type": "code",
   "execution_count": 38,
   "metadata": {
    "id": "K3nkTG6VTC44"
   },
   "outputs": [],
   "source": [
    "df2 = df1.copy()"
   ]
  },
  {
   "cell_type": "code",
   "execution_count": 39,
   "metadata": {
    "id": "EQna3z_kTC45"
   },
   "outputs": [],
   "source": [
    "from sklearn.compose import ColumnTransformer\n",
    "from sklearn.preprocessing import OneHotEncoder\n",
    "from sklearn.pipeline import Pipeline\n",
    "\n",
    "target_col = 'y'\n",
    "cat_cols = df2.select_dtypes(include=['object', 'category']).columns.tolist()\n",
    "\n",
    "preprocessor = ColumnTransformer(\n",
    "    transformers=[\n",
    "        ('cat', OneHotEncoder(handle_unknown='ignore', drop='first'), cat_cols)\n",
    "    ],\n",
    "    remainder='passthrough'\n",
    ")\n",
    "\n",
    "model = Pipeline(steps=[\n",
    "    ('preprocessor', preprocessor),\n",
    "])\n",
    "\n",
    "X = df2.drop(columns=[target_col])\n",
    "y = df2[target_col]\n",
    "\n",
    "X_transformed = model.fit_transform(X)\n",
    "\n",
    "ohe = preprocessor.named_transformers_['cat']\n",
    "cat_feature_names = ohe.get_feature_names_out(cat_cols)\n",
    "\n",
    "non_cat_cols = [col for col in X.columns if col not in cat_cols]\n",
    "\n",
    "all_feature_names = list(cat_feature_names) + non_cat_cols\n",
    "\n",
    "X_transformed_df = pd.DataFrame(X_transformed, columns=all_feature_names, index=X.index)"
   ]
  },
  {
   "cell_type": "code",
   "execution_count": 40,
   "metadata": {
    "id": "g-OSaw_FTC45"
   },
   "outputs": [],
   "source": [
    "# df3.shape"
   ]
  },
  {
   "cell_type": "code",
   "execution_count": 41,
   "metadata": {
    "colab": {
     "base_uri": "https://localhost:8080/"
    },
    "id": "s8xIlvvPTC45",
    "outputId": "b1afcba0-5453-473f-e30a-32867c6fd9eb"
   },
   "outputs": [
    {
     "data": {
      "text/plain": [
       "array(['job_blue-collar', 'job_entrepreneur', 'job_housemaid',\n",
       "       'job_management', 'job_retired', 'job_self-employed',\n",
       "       'job_services', 'job_student', 'job_technician', 'job_unemployed',\n",
       "       'job_unknown', 'marital_married', 'marital_single',\n",
       "       'education_secondary', 'education_tertiary', 'education_unknown',\n",
       "       'default_yes', 'housing_yes', 'loan_yes', 'contact_telephone',\n",
       "       'contact_unknown', 'month_aug', 'month_dec', 'month_feb',\n",
       "       'month_jan', 'month_jul', 'month_jun', 'month_mar', 'month_may',\n",
       "       'month_nov', 'month_oct', 'month_sep', 'poutcome_other',\n",
       "       'poutcome_success', 'poutcome_unknown'], dtype=object)"
      ]
     },
     "execution_count": 41,
     "metadata": {},
     "output_type": "execute_result"
    }
   ],
   "source": [
    "preprocessor.named_transformers_['cat'].get_feature_names_out(input_features=cat_cols)"
   ]
  },
  {
   "cell_type": "code",
   "execution_count": 42,
   "metadata": {
    "id": "qjg9XFElTC46"
   },
   "outputs": [],
   "source": [
    "X = X_transformed_df\n",
    "y = df2['y']"
   ]
  },
  {
   "cell_type": "code",
   "execution_count": 43,
   "metadata": {
    "colab": {
     "base_uri": "https://localhost:8080/"
    },
    "id": "7yrVpQaATC46",
    "outputId": "a3af8ccb-1303-4e84-f2db-1a171f8bda3d"
   },
   "outputs": [
    {
     "data": {
      "text/plain": [
       "(795211, 43)"
      ]
     },
     "execution_count": 43,
     "metadata": {},
     "output_type": "execute_result"
    }
   ],
   "source": [
    "X.shape"
   ]
  },
  {
   "cell_type": "code",
   "execution_count": 44,
   "metadata": {
    "id": "Zx5XionWTC46"
   },
   "outputs": [],
   "source": [
    "# for col in df2.select_dtypes(include='object').columns.tolist():\n",
    "#     df2 = ohe(df2, col)"
   ]
  },
  {
   "cell_type": "code",
   "execution_count": 45,
   "metadata": {
    "id": "5c3F6uaxCVxN"
   },
   "outputs": [],
   "source": [
    "# df3 = df2.drop(df2.select_dtypes(include='object').columns.tolist(), axis=1)"
   ]
  },
  {
   "cell_type": "code",
   "execution_count": 46,
   "metadata": {
    "id": "TgruGqtrTC47"
   },
   "outputs": [],
   "source": [
    "# df3.shape"
   ]
  },
  {
   "cell_type": "code",
   "execution_count": 47,
   "metadata": {
    "id": "gSIR4VN5TC47"
   },
   "outputs": [],
   "source": [
    "from sklearn.model_selection import train_test_split\n",
    "from sklearn.linear_model import LinearRegression\n",
    "from xgboost import XGBRegressor,XGBClassifier"
   ]
  },
  {
   "cell_type": "code",
   "execution_count": 48,
   "metadata": {
    "id": "jhMnFzZaTC48"
   },
   "outputs": [],
   "source": [
    "X_train, X_test, y_train, y_test = train_test_split(X, y, test_size=0.2, random_state=42)"
   ]
  },
  {
   "cell_type": "code",
   "execution_count": 49,
   "metadata": {
    "id": "ulMtTJaMTC48"
   },
   "outputs": [],
   "source": [
    "xgb_params = {\n",
    "    'learning_rate': 0.1951339614286697,\n",
    "    'max_depth': 13,\n",
    "    'min_child_weight': 14,\n",
    "    'gamma': 4.586254878038162,\n",
    "    'subsample': 0.8829082972307842,\n",
    "    'colsample_bytree': 0.6106352277501341,\n",
    "    'lambda': 9.976935506747019,\n",
    "    'alpha': 0.0018063487584367348,\n",
    "    'scale_pos_weight': 3.6963430205760193,\n",
    "    'objective': 'binary:logistic',\n",
    "    'use_label_encoder': False,\n",
    "    'n_jobs': -1,\n",
    "    'random_state': 42,\n",
    "#     'tree_method': 'gpu_hist'\n",
    "}"
   ]
  },
  {
   "cell_type": "code",
   "execution_count": 50,
   "metadata": {
    "colab": {
     "base_uri": "https://localhost:8080/"
    },
    "id": "Mv7QgNlgTC48",
    "outputId": "f52d0d59-b3e6-4072-f384-c3800a1015cd"
   },
   "outputs": [
    {
     "name": "stderr",
     "output_type": "stream",
     "text": [
      "/home/aum/anaconda3/envs/ml/lib/python3.12/site-packages/xgboost/core.py:158: UserWarning: [17:30:39] WARNING: /croot/xgboost-split_1724073744422/work/src/learner.cc:740: \n",
      "Parameters: { \"use_label_encoder\" } are not used.\n",
      "\n",
      "  warnings.warn(smsg, UserWarning)\n"
     ]
    },
    {
     "name": "stdout",
     "output_type": "stream",
     "text": [
      "Test R² Score: 0.9167835113774262\n"
     ]
    }
   ],
   "source": [
    "xgb_model = XGBClassifier(**xgb_params)\n",
    "xgb_model.fit(X_train, y_train)\n",
    "print(\"Test R² Score:\", xgb_model.score(X_test, y_test))"
   ]
  },
  {
   "cell_type": "code",
   "execution_count": 51,
   "metadata": {
    "id": "EAj9kwcMTC48"
   },
   "outputs": [],
   "source": [
    "from sklearn.metrics import roc_auc_score"
   ]
  },
  {
   "cell_type": "code",
   "execution_count": 52,
   "metadata": {
    "colab": {
     "base_uri": "https://localhost:8080/"
    },
    "id": "MaVOjXpmTC49",
    "outputId": "63d3d64b-c111-481c-ac32-975cf5458e61"
   },
   "outputs": [
    {
     "data": {
      "text/plain": [
       "0.9659880709290171"
      ]
     },
     "execution_count": 52,
     "metadata": {},
     "output_type": "execute_result"
    }
   ],
   "source": [
    "roc_auc_score(y_test, xgb_model.predict_proba(X_test)[:, 1])"
   ]
  },
  {
   "cell_type": "code",
   "execution_count": 53,
   "metadata": {
    "colab": {
     "base_uri": "https://localhost:8080/"
    },
    "id": "xZOrXkqrTC49",
    "outputId": "b42c8e47-7cb8-40ff-d7e2-d79d5a69af1c"
   },
   "outputs": [],
   "source": [
    "# !pip install optuna"
   ]
  },
  {
   "cell_type": "code",
   "execution_count": 54,
   "metadata": {},
   "outputs": [],
   "source": [
    "# !pip install catboost"
   ]
  },
  {
   "cell_type": "code",
   "execution_count": 55,
   "metadata": {
    "id": "EyVWSTmwVV5p"
   },
   "outputs": [
    {
     "name": "stderr",
     "output_type": "stream",
     "text": [
      "/home/aum/anaconda3/envs/ml/lib/python3.12/site-packages/tqdm/auto.py:21: TqdmWarning: IProgress not found. Please update jupyter and ipywidgets. See https://ipywidgets.readthedocs.io/en/stable/user_install.html\n",
      "  from .autonotebook import tqdm as notebook_tqdm\n"
     ]
    }
   ],
   "source": [
    "import optuna"
   ]
  },
  {
   "cell_type": "code",
   "execution_count": 56,
   "metadata": {
    "colab": {
     "base_uri": "https://localhost:8080/"
    },
    "id": "QhXmuAqHYfW7",
    "outputId": "a8d1f2ef-457a-45b9-9dfa-57e6f69875d2"
   },
   "outputs": [
    {
     "name": "stderr",
     "output_type": "stream",
     "text": [
      "[I 2025-08-09 17:30:59,030] A new study created in memory with name: no-name-437a696b-35a1-4baa-8202-81192df55b2e\n"
     ]
    }
   ],
   "source": [
    "study = optuna.create_study(direction='maximize')"
   ]
  },
  {
   "cell_type": "code",
   "execution_count": 57,
   "metadata": {
    "id": "YQA73vIIjfUC"
   },
   "outputs": [],
   "source": [
    "from catboost import CatBoostClassifier"
   ]
  },
  {
   "cell_type": "code",
   "execution_count": 58,
   "metadata": {
    "id": "YKPzVTEPbDkb"
   },
   "outputs": [],
   "source": [
    "def objective(trial):\n",
    "  param = {\n",
    "      \"objective\": trial.suggest_categorical(\"objective\", [\"Logloss\", \"CrossEntropy\"]),\n",
    "      \"depth\": trial.suggest_int(\"depth\", 10, 15),\n",
    "      \"colsample_bylevel\": trial.suggest_float(\"colsample_bylevel\", 0.01, 0.1),\n",
    "      \"boosting_type\": trial.suggest_categorical(\"boosting_type\", [\"Ordered\", \"Plain\"]),\n",
    "      \"bootstrap_type\": trial.suggest_categorical(\n",
    "          \"bootstrap_type\", [\"Bayesian\", \"Bernoulli\", \"MVS\"]\n",
    "      ),\n",
    "#       \"task_type\": \"GPU\",\n",
    "      \"iterations\": 200,\n",
    "      \"eval_metric\": \"AUC\",\n",
    "  }\n",
    "  if param[\"bootstrap_type\"] == \"Bayesian\":\n",
    "      param[\"bagging_temperature\"] = trial.suggest_float(\"bagging_temperature\", 0, 10)\n",
    "  elif param[\"bootstrap_type\"] == \"Bernoulli\":\n",
    "      param[\"subsample\"] = trial.suggest_float(\"subsample\", 0.1, 1)\n",
    "\n",
    "  train_x, valid_x, train_y, valid_y = train_test_split(\n",
    "      X_train, y_train, test_size=0.2, stratify=y_train, random_state=42\n",
    "  )\n",
    "\n",
    "  model = CatBoostClassifier(**param)\n",
    "  model.fit(train_x, train_y, eval_set=[(valid_x, valid_y)],early_stopping_rounds=50, verbose=0)\n",
    "\n",
    "  preds_proba = model.predict_proba(valid_x)[:, 1]\n",
    "\n",
    "  auc = roc_auc_score(valid_y, preds_proba)\n",
    "\n",
    "  return auc"
   ]
  },
  {
   "cell_type": "code",
   "execution_count": 59,
   "metadata": {
    "colab": {
     "base_uri": "https://localhost:8080/",
     "height": 811
    },
    "id": "D7ItFUelbDs-",
    "outputId": "4ecd4a2c-e442-48ce-817a-2294f36f36df"
   },
   "outputs": [
    {
     "name": "stderr",
     "output_type": "stream",
     "text": [
      "[I 2025-08-09 17:31:34,781] Trial 0 finished with value: 0.9619701927023417 and parameters: {'objective': 'Logloss', 'depth': 10, 'colsample_bylevel': 0.09899643532015265, 'boosting_type': 'Plain', 'bootstrap_type': 'MVS'}. Best is trial 0 with value: 0.9619701927023417.\n",
      "[I 2025-08-09 17:43:21,710] Trial 1 finished with value: 0.9550518796734577 and parameters: {'objective': 'CrossEntropy', 'depth': 15, 'colsample_bylevel': 0.06692335633408086, 'boosting_type': 'Ordered', 'bootstrap_type': 'Bernoulli', 'subsample': 0.7910607751292215}. Best is trial 0 with value: 0.9619701927023417.\n",
      "[I 2025-08-09 17:45:14,599] Trial 2 finished with value: 0.9577825437789427 and parameters: {'objective': 'Logloss', 'depth': 14, 'colsample_bylevel': 0.037696109990238445, 'boosting_type': 'Ordered', 'bootstrap_type': 'Bernoulli', 'subsample': 0.8765202478961805}. Best is trial 0 with value: 0.9619701927023417.\n",
      "[I 2025-08-09 17:45:41,168] Trial 3 finished with value: 0.9476303184748938 and parameters: {'objective': 'CrossEntropy', 'depth': 12, 'colsample_bylevel': 0.043420653225147564, 'boosting_type': 'Plain', 'bootstrap_type': 'Bernoulli', 'subsample': 0.5815433233895508}. Best is trial 0 with value: 0.9619701927023417.\n",
      "[I 2025-08-09 17:46:55,397] Trial 4 finished with value: 0.9539037939139597 and parameters: {'objective': 'CrossEntropy', 'depth': 15, 'colsample_bylevel': 0.06260284353890179, 'boosting_type': 'Plain', 'bootstrap_type': 'Bernoulli', 'subsample': 0.3227075888290625}. Best is trial 0 with value: 0.9619701927023417.\n",
      "[I 2025-08-09 17:52:02,742] Trial 5 finished with value: 0.9546707743139574 and parameters: {'objective': 'CrossEntropy', 'depth': 13, 'colsample_bylevel': 0.07256778818270826, 'boosting_type': 'Ordered', 'bootstrap_type': 'Bayesian', 'bagging_temperature': 1.9114891965058411}. Best is trial 0 with value: 0.9619701927023417.\n",
      "[I 2025-08-09 17:55:51,436] Trial 6 finished with value: 0.9620233503288075 and parameters: {'objective': 'Logloss', 'depth': 12, 'colsample_bylevel': 0.08945278646212936, 'boosting_type': 'Ordered', 'bootstrap_type': 'Bayesian', 'bagging_temperature': 0.8637822615768964}. Best is trial 6 with value: 0.9620233503288075.\n",
      "[I 2025-08-09 17:56:05,162] Trial 7 finished with value: 0.9533332549949187 and parameters: {'objective': 'Logloss', 'depth': 15, 'colsample_bylevel': 0.02108344118110919, 'boosting_type': 'Plain', 'bootstrap_type': 'Bernoulli', 'subsample': 0.764813387590153}. Best is trial 6 with value: 0.9620233503288075.\n",
      "[I 2025-08-09 17:57:00,918] Trial 8 finished with value: 0.9401872416359947 and parameters: {'objective': 'CrossEntropy', 'depth': 15, 'colsample_bylevel': 0.03729441225300711, 'boosting_type': 'Ordered', 'bootstrap_type': 'Bayesian', 'bagging_temperature': 9.26157211295904}. Best is trial 6 with value: 0.9620233503288075.\n",
      "[I 2025-08-09 17:58:35,174] Trial 9 finished with value: 0.9611096872864046 and parameters: {'objective': 'Logloss', 'depth': 11, 'colsample_bylevel': 0.06555940423169485, 'boosting_type': 'Ordered', 'bootstrap_type': 'MVS'}. Best is trial 6 with value: 0.9620233503288075.\n",
      "[I 2025-08-09 18:01:19,323] Trial 10 finished with value: 0.9625606858614677 and parameters: {'objective': 'Logloss', 'depth': 12, 'colsample_bylevel': 0.09982491421388878, 'boosting_type': 'Ordered', 'bootstrap_type': 'Bayesian', 'bagging_temperature': 0.4773837412051537}. Best is trial 10 with value: 0.9625606858614677.\n",
      "[I 2025-08-09 18:03:50,422] Trial 11 finished with value: 0.9622104318687632 and parameters: {'objective': 'Logloss', 'depth': 12, 'colsample_bylevel': 0.09912821447598856, 'boosting_type': 'Ordered', 'bootstrap_type': 'Bayesian', 'bagging_temperature': 0.38641771567282734}. Best is trial 10 with value: 0.9625606858614677.\n",
      "[I 2025-08-09 18:07:41,351] Trial 12 finished with value: 0.9623378578248949 and parameters: {'objective': 'Logloss', 'depth': 13, 'colsample_bylevel': 0.08537842628037039, 'boosting_type': 'Ordered', 'bootstrap_type': 'Bayesian', 'bagging_temperature': 0.08939944958684798}. Best is trial 10 with value: 0.9625606858614677.\n",
      "[I 2025-08-09 18:10:53,517] Trial 13 finished with value: 0.9589996678190984 and parameters: {'objective': 'Logloss', 'depth': 13, 'colsample_bylevel': 0.07942501198852886, 'boosting_type': 'Ordered', 'bootstrap_type': 'Bayesian', 'bagging_temperature': 4.488576644671358}. Best is trial 10 with value: 0.9625606858614677.\n",
      "[I 2025-08-09 18:12:42,811] Trial 14 finished with value: 0.9596202427310704 and parameters: {'objective': 'Logloss', 'depth': 11, 'colsample_bylevel': 0.08365458698774704, 'boosting_type': 'Ordered', 'bootstrap_type': 'Bayesian', 'bagging_temperature': 3.7553967782399322}. Best is trial 10 with value: 0.9625606858614677.\n",
      "[I 2025-08-09 18:16:10,529] Trial 15 finished with value: 0.9580304752922258 and parameters: {'objective': 'Logloss', 'depth': 13, 'colsample_bylevel': 0.08939096792317841, 'boosting_type': 'Ordered', 'bootstrap_type': 'Bayesian', 'bagging_temperature': 7.87259532780369}. Best is trial 10 with value: 0.9625606858614677.\n",
      "[I 2025-08-09 18:18:20,647] Trial 16 finished with value: 0.9586675158000009 and parameters: {'objective': 'Logloss', 'depth': 14, 'colsample_bylevel': 0.05115577419124547, 'boosting_type': 'Ordered', 'bootstrap_type': 'Bayesian', 'bagging_temperature': 2.647613159665058}. Best is trial 10 with value: 0.9625606858614677.\n",
      "[I 2025-08-09 18:20:36,740] Trial 17 finished with value: 0.9615469026958641 and parameters: {'objective': 'Logloss', 'depth': 11, 'colsample_bylevel': 0.07708982891496964, 'boosting_type': 'Ordered', 'bootstrap_type': 'MVS'}. Best is trial 10 with value: 0.9625606858614677.\n",
      "[I 2025-08-09 18:20:55,883] Trial 18 finished with value: 0.9440119636097608 and parameters: {'objective': 'Logloss', 'depth': 14, 'colsample_bylevel': 0.013035352588641996, 'boosting_type': 'Plain', 'bootstrap_type': 'Bayesian', 'bagging_temperature': 0.06963793227970605}. Best is trial 10 with value: 0.9625606858614677.\n",
      "[I 2025-08-09 18:23:13,632] Trial 19 finished with value: 0.9585434512888777 and parameters: {'objective': 'Logloss', 'depth': 10, 'colsample_bylevel': 0.0906264949985943, 'boosting_type': 'Ordered', 'bootstrap_type': 'Bayesian', 'bagging_temperature': 5.50819056437288}. Best is trial 10 with value: 0.9625606858614677.\n",
      "[I 2025-08-09 18:25:03,045] Trial 20 finished with value: 0.9604513449847787 and parameters: {'objective': 'Logloss', 'depth': 12, 'colsample_bylevel': 0.05626648758179531, 'boosting_type': 'Ordered', 'bootstrap_type': 'MVS'}. Best is trial 10 with value: 0.9625606858614677.\n",
      "[I 2025-08-09 18:28:06,500] Trial 21 finished with value: 0.962418240763651 and parameters: {'objective': 'Logloss', 'depth': 12, 'colsample_bylevel': 0.09840677811227576, 'boosting_type': 'Ordered', 'bootstrap_type': 'Bayesian', 'bagging_temperature': 0.019816546818070407}. Best is trial 10 with value: 0.9625606858614677.\n",
      "[I 2025-08-09 18:33:50,530] Trial 22 finished with value: 0.9613754684169389 and parameters: {'objective': 'Logloss', 'depth': 13, 'colsample_bylevel': 0.09699130916363519, 'boosting_type': 'Ordered', 'bootstrap_type': 'Bayesian', 'bagging_temperature': 1.9518678351667265}. Best is trial 10 with value: 0.9625606858614677.\n",
      "[I 2025-08-09 18:36:23,086] Trial 23 finished with value: 0.9617585885429061 and parameters: {'objective': 'Logloss', 'depth': 11, 'colsample_bylevel': 0.08507394104535004, 'boosting_type': 'Ordered', 'bootstrap_type': 'Bayesian', 'bagging_temperature': 0.06993680473937236}. Best is trial 10 with value: 0.9625606858614677.\n",
      "[I 2025-08-09 18:40:08,522] Trial 24 finished with value: 0.9613383638638634 and parameters: {'objective': 'Logloss', 'depth': 12, 'colsample_bylevel': 0.09408264375635177, 'boosting_type': 'Ordered', 'bootstrap_type': 'Bayesian', 'bagging_temperature': 1.6427540524029136}. Best is trial 10 with value: 0.9625606858614677.\n",
      "[I 2025-08-09 18:43:58,500] Trial 25 finished with value: 0.9598527524994652 and parameters: {'objective': 'Logloss', 'depth': 13, 'colsample_bylevel': 0.07459050322923515, 'boosting_type': 'Ordered', 'bootstrap_type': 'Bayesian', 'bagging_temperature': 3.1283244091331603}. Best is trial 10 with value: 0.9625606858614677.\n",
      "[I 2025-08-09 18:45:54,996] Trial 26 finished with value: 0.9574044494829672 and parameters: {'objective': 'CrossEntropy', 'depth': 14, 'colsample_bylevel': 0.08455756331011409, 'boosting_type': 'Plain', 'bootstrap_type': 'Bayesian', 'bagging_temperature': 1.241660795764469}. Best is trial 10 with value: 0.9625606858614677.\n"
     ]
    },
    {
     "name": "stderr",
     "output_type": "stream",
     "text": [
      "[I 2025-08-09 18:49:54,596] Trial 27 finished with value: 0.9585144305996923 and parameters: {'objective': 'Logloss', 'depth': 12, 'colsample_bylevel': 0.09327646113235488, 'boosting_type': 'Ordered', 'bootstrap_type': 'Bayesian', 'bagging_temperature': 6.335064921744374}. Best is trial 10 with value: 0.9625606858614677.\n",
      "[I 2025-08-09 18:53:06,154] Trial 28 finished with value: 0.9613900799958154 and parameters: {'objective': 'Logloss', 'depth': 11, 'colsample_bylevel': 0.08071647989287845, 'boosting_type': 'Ordered', 'bootstrap_type': 'Bayesian', 'bagging_temperature': 1.3519026114479606}. Best is trial 10 with value: 0.9625606858614677.\n",
      "[I 2025-08-09 18:54:13,112] Trial 29 finished with value: 0.961564020333812 and parameters: {'objective': 'Logloss', 'depth': 10, 'colsample_bylevel': 0.09988062328695467, 'boosting_type': 'Plain', 'bootstrap_type': 'MVS'}. Best is trial 10 with value: 0.9625606858614677.\n",
      "[I 2025-08-09 18:57:51,833] Trial 30 finished with value: 0.961234596972514 and parameters: {'objective': 'Logloss', 'depth': 13, 'colsample_bylevel': 0.07120871916793703, 'boosting_type': 'Ordered', 'bootstrap_type': 'MVS'}. Best is trial 10 with value: 0.9625606858614677.\n",
      "[I 2025-08-09 19:01:44,623] Trial 31 finished with value: 0.9621832366058423 and parameters: {'objective': 'Logloss', 'depth': 12, 'colsample_bylevel': 0.09924110121634233, 'boosting_type': 'Ordered', 'bootstrap_type': 'Bayesian', 'bagging_temperature': 0.06321770781763103}. Best is trial 10 with value: 0.9625606858614677.\n",
      "[I 2025-08-09 19:05:34,048] Trial 32 finished with value: 0.9616165057879728 and parameters: {'objective': 'Logloss', 'depth': 12, 'colsample_bylevel': 0.09415946731405463, 'boosting_type': 'Ordered', 'bootstrap_type': 'Bayesian', 'bagging_temperature': 0.6343157911924213}. Best is trial 10 with value: 0.9625606858614677.\n",
      "[I 2025-08-09 19:09:10,937] Trial 33 finished with value: 0.9623853746303885 and parameters: {'objective': 'Logloss', 'depth': 12, 'colsample_bylevel': 0.09960353090026627, 'boosting_type': 'Ordered', 'bootstrap_type': 'Bayesian', 'bagging_temperature': 0.7776316399313605}. Best is trial 10 with value: 0.9625606858614677.\n",
      "[I 2025-08-09 19:13:41,822] Trial 34 finished with value: 0.9543806377317952 and parameters: {'objective': 'CrossEntropy', 'depth': 13, 'colsample_bylevel': 0.0877960809400392, 'boosting_type': 'Ordered', 'bootstrap_type': 'Bernoulli', 'subsample': 0.12209009020208444}. Best is trial 10 with value: 0.9625606858614677.\n",
      "[I 2025-08-09 19:16:08,340] Trial 35 finished with value: 0.9606269421224806 and parameters: {'objective': 'Logloss', 'depth': 11, 'colsample_bylevel': 0.09279508180534855, 'boosting_type': 'Ordered', 'bootstrap_type': 'Bayesian', 'bagging_temperature': 2.698080991516174}. Best is trial 10 with value: 0.9625606858614677.\n",
      "[I 2025-08-09 19:16:43,956] Trial 36 finished with value: 0.9567454881059801 and parameters: {'objective': 'CrossEntropy', 'depth': 12, 'colsample_bylevel': 0.09968211633791324, 'boosting_type': 'Plain', 'bootstrap_type': 'Bernoulli', 'subsample': 0.4444024634851095}. Best is trial 10 with value: 0.9625606858614677.\n",
      "[I 2025-08-09 19:23:39,926] Trial 37 finished with value: 0.9616451612168602 and parameters: {'objective': 'Logloss', 'depth': 14, 'colsample_bylevel': 0.0865894630726165, 'boosting_type': 'Ordered', 'bootstrap_type': 'Bayesian', 'bagging_temperature': 1.086069331411692}. Best is trial 10 with value: 0.9625606858614677.\n",
      "[I 2025-08-09 19:27:35,383] Trial 38 finished with value: 0.9609545097164033 and parameters: {'objective': 'Logloss', 'depth': 13, 'colsample_bylevel': 0.08057118082261927, 'boosting_type': 'Ordered', 'bootstrap_type': 'Bayesian', 'bagging_temperature': 2.3706167118655244}. Best is trial 10 with value: 0.9625606858614677.\n",
      "[I 2025-08-09 19:27:43,180] Trial 39 finished with value: 0.9305161639196797 and parameters: {'objective': 'CrossEntropy', 'depth': 12, 'colsample_bylevel': 0.02940472686468728, 'boosting_type': 'Plain', 'bootstrap_type': 'Bernoulli', 'subsample': 0.13133568758837982}. Best is trial 10 with value: 0.9625606858614677.\n",
      "[I 2025-08-09 19:29:24,246] Trial 40 finished with value: 0.9600499580512842 and parameters: {'objective': 'Logloss', 'depth': 11, 'colsample_bylevel': 0.05748517207736083, 'boosting_type': 'Ordered', 'bootstrap_type': 'Bayesian', 'bagging_temperature': 0.9146836661976347}. Best is trial 10 with value: 0.9625606858614677.\n",
      "[I 2025-08-09 19:33:09,718] Trial 41 finished with value: 0.9622458020189073 and parameters: {'objective': 'Logloss', 'depth': 12, 'colsample_bylevel': 0.09580117707192043, 'boosting_type': 'Ordered', 'bootstrap_type': 'Bayesian', 'bagging_temperature': 0.06344564790281382}. Best is trial 10 with value: 0.9625606858614677.\n",
      "[I 2025-08-09 19:36:33,573] Trial 42 finished with value: 0.9617931604884379 and parameters: {'objective': 'Logloss', 'depth': 12, 'colsample_bylevel': 0.09516218474645612, 'boosting_type': 'Ordered', 'bootstrap_type': 'Bayesian', 'bagging_temperature': 0.12204811083571768}. Best is trial 10 with value: 0.9625606858614677.\n",
      "[I 2025-08-09 19:39:57,333] Trial 43 finished with value: 0.9616162823140205 and parameters: {'objective': 'Logloss', 'depth': 12, 'colsample_bylevel': 0.0913452863281954, 'boosting_type': 'Ordered', 'bootstrap_type': 'Bayesian', 'bagging_temperature': 1.1554088730703231}. Best is trial 10 with value: 0.9625606858614677.\n",
      "[I 2025-08-09 19:43:13,861] Trial 44 finished with value: 0.9621786591824621 and parameters: {'objective': 'Logloss', 'depth': 12, 'colsample_bylevel': 0.09551796164998158, 'boosting_type': 'Ordered', 'bootstrap_type': 'Bayesian', 'bagging_temperature': 0.6980554651508513}. Best is trial 10 with value: 0.9625606858614677.\n",
      "[I 2025-08-09 19:46:24,917] Trial 45 finished with value: 0.9606229268848783 and parameters: {'objective': 'Logloss', 'depth': 13, 'colsample_bylevel': 0.06947358973842882, 'boosting_type': 'Ordered', 'bootstrap_type': 'Bayesian', 'bagging_temperature': 1.7834906871850817}. Best is trial 10 with value: 0.9625606858614677.\n",
      "[I 2025-08-09 19:50:12,707] Trial 46 finished with value: 0.9622004408910018 and parameters: {'objective': 'Logloss', 'depth': 13, 'colsample_bylevel': 0.09028273591372084, 'boosting_type': 'Ordered', 'bootstrap_type': 'Bayesian', 'bagging_temperature': 0.0016853425530381425}. Best is trial 10 with value: 0.9625606858614677.\n",
      "[I 2025-08-09 19:52:35,625] Trial 47 finished with value: 0.955282457238217 and parameters: {'objective': 'CrossEntropy', 'depth': 11, 'colsample_bylevel': 0.08331636338977469, 'boosting_type': 'Ordered', 'bootstrap_type': 'Bernoulli', 'subsample': 0.9555383566929583}. Best is trial 10 with value: 0.9625606858614677.\n",
      "[I 2025-08-09 19:53:56,625] Trial 48 finished with value: 0.9584503627181503 and parameters: {'objective': 'Logloss', 'depth': 12, 'colsample_bylevel': 0.04453635486365517, 'boosting_type': 'Ordered', 'bootstrap_type': 'Bayesian', 'bagging_temperature': 1.9094841541455165}. Best is trial 10 with value: 0.9625606858614677.\n",
      "[I 2025-08-09 19:56:26,916] Trial 49 finished with value: 0.9606097839324707 and parameters: {'objective': 'Logloss', 'depth': 13, 'colsample_bylevel': 0.06189296317718222, 'boosting_type': 'Ordered', 'bootstrap_type': 'MVS'}. Best is trial 10 with value: 0.9625606858614677.\n"
     ]
    }
   ],
   "source": [
    "study.optimize(objective, n_trials=50)"
   ]
  },
  {
   "cell_type": "code",
   "execution_count": 60,
   "metadata": {
    "id": "ipmxmWZhYfZu"
   },
   "outputs": [
    {
     "data": {
      "text/plain": [
       "FrozenTrial(number=10, state=1, values=[0.9625606858614677], datetime_start=datetime.datetime(2025, 8, 9, 17, 58, 35, 175998), datetime_complete=datetime.datetime(2025, 8, 9, 18, 1, 19, 323507), params={'objective': 'Logloss', 'depth': 12, 'colsample_bylevel': 0.09982491421388878, 'boosting_type': 'Ordered', 'bootstrap_type': 'Bayesian', 'bagging_temperature': 0.4773837412051537}, user_attrs={}, system_attrs={}, intermediate_values={}, distributions={'objective': CategoricalDistribution(choices=('Logloss', 'CrossEntropy')), 'depth': IntDistribution(high=15, log=False, low=10, step=1), 'colsample_bylevel': FloatDistribution(high=0.1, log=False, low=0.01, step=None), 'boosting_type': CategoricalDistribution(choices=('Ordered', 'Plain')), 'bootstrap_type': CategoricalDistribution(choices=('Bayesian', 'Bernoulli', 'MVS')), 'bagging_temperature': FloatDistribution(high=10.0, log=False, low=0.0, step=None)}, trial_id=10, value=None)"
      ]
     },
     "execution_count": 60,
     "metadata": {},
     "output_type": "execute_result"
    }
   ],
   "source": [
    "study.best_trial"
   ]
  },
  {
   "cell_type": "code",
   "execution_count": 61,
   "metadata": {
    "id": "rB2ZdtM1Yfcc"
   },
   "outputs": [
    {
     "data": {
      "text/plain": [
       "{'objective': 'Logloss',\n",
       " 'depth': 12,\n",
       " 'colsample_bylevel': 0.09982491421388878,\n",
       " 'boosting_type': 'Ordered',\n",
       " 'bootstrap_type': 'Bayesian',\n",
       " 'bagging_temperature': 0.4773837412051537}"
      ]
     },
     "execution_count": 61,
     "metadata": {},
     "output_type": "execute_result"
    }
   ],
   "source": [
    "study.best_params"
   ]
  },
  {
   "cell_type": "code",
   "execution_count": 62,
   "metadata": {
    "id": "TOgjnud-Yfj2"
   },
   "outputs": [
    {
     "data": {
      "text/plain": [
       "0.9625606858614677"
      ]
     },
     "execution_count": 62,
     "metadata": {},
     "output_type": "execute_result"
    }
   ],
   "source": [
    "study.best_value"
   ]
  },
  {
   "cell_type": "code",
   "execution_count": 63,
   "metadata": {
    "id": "DK5t68qCV3Lg"
   },
   "outputs": [],
   "source": [
    "# from catboost import CatBoostClassifier"
   ]
  },
  {
   "cell_type": "code",
   "execution_count": 64,
   "metadata": {
    "id": "h9vJ6EQjWoWS"
   },
   "outputs": [],
   "source": [
    "# cat_params = {\n",
    "#     'learning_rate': 0.1951339614286697,\n",
    "#     'depth': 13,\n",
    "#     'min_data_in_leaf': 14,\n",
    "#     'l2_leaf_reg': 9.976935506747019,\n",
    "#     'bootstrap_type': 'Bernoulli',\n",
    "#     'subsample': 0.8829082972307842,\n",
    "#     'rsm': 0.6106352277501341,\n",
    "#     'class_weights': [1, 3.6963430205760193],\n",
    "#     'loss_function': 'Logloss',\n",
    "#     'verbose': False,\n",
    "#     'thread_count': -1,\n",
    "#     'random_seed': 42,\n",
    "# }"
   ]
  },
  {
   "cell_type": "code",
   "execution_count": 65,
   "metadata": {
    "id": "t27OYujvV3OE"
   },
   "outputs": [],
   "source": [
    "model_cb = CatBoostClassifier(**study.best_params)"
   ]
  },
  {
   "cell_type": "code",
   "execution_count": 66,
   "metadata": {
    "id": "jCUBTd9rV3T4"
   },
   "outputs": [
    {
     "name": "stdout",
     "output_type": "stream",
     "text": [
      "Learning rate set to 0.156096\n",
      "0:\tlearn: 0.4732196\ttest: 0.4730677\tbest: 0.4730677 (0)\ttotal: 873ms\tremaining: 14m 31s\n",
      "1:\tlearn: 0.3726019\ttest: 0.3729797\tbest: 0.3729797 (1)\ttotal: 2.98s\tremaining: 24m 48s\n",
      "2:\tlearn: 0.2946646\ttest: 0.2950120\tbest: 0.2950120 (2)\ttotal: 5.09s\tremaining: 28m 13s\n",
      "3:\tlearn: 0.2573131\ttest: 0.2577482\tbest: 0.2577482 (3)\ttotal: 6.57s\tremaining: 27m 16s\n",
      "4:\tlearn: 0.2413684\ttest: 0.2420641\tbest: 0.2420641 (4)\ttotal: 8.3s\tremaining: 27m 32s\n",
      "5:\tlearn: 0.2281987\ttest: 0.2289822\tbest: 0.2289822 (5)\ttotal: 9.09s\tremaining: 25m 6s\n",
      "6:\tlearn: 0.2125862\ttest: 0.2135610\tbest: 0.2135610 (6)\ttotal: 11s\tremaining: 25m 56s\n",
      "7:\tlearn: 0.2049906\ttest: 0.2060995\tbest: 0.2060995 (7)\ttotal: 12s\tremaining: 24m 45s\n",
      "8:\tlearn: 0.2017144\ttest: 0.2030090\tbest: 0.2030090 (8)\ttotal: 13.5s\tremaining: 24m 46s\n",
      "9:\tlearn: 0.1999196\ttest: 0.2013025\tbest: 0.2013025 (9)\ttotal: 14s\tremaining: 23m 4s\n",
      "10:\tlearn: 0.1950812\ttest: 0.1965960\tbest: 0.1965960 (10)\ttotal: 15.7s\tremaining: 23m 34s\n",
      "11:\tlearn: 0.1895786\ttest: 0.1912189\tbest: 0.1912189 (11)\ttotal: 16.9s\tremaining: 23m 12s\n",
      "12:\tlearn: 0.1850657\ttest: 0.1868881\tbest: 0.1868881 (12)\ttotal: 18.2s\tremaining: 23m 2s\n",
      "13:\tlearn: 0.1818679\ttest: 0.1837187\tbest: 0.1837187 (13)\ttotal: 18.9s\tremaining: 22m 8s\n",
      "14:\tlearn: 0.1801941\ttest: 0.1821795\tbest: 0.1821795 (14)\ttotal: 20.5s\tremaining: 22m 25s\n",
      "15:\tlearn: 0.1785935\ttest: 0.1806259\tbest: 0.1806259 (15)\ttotal: 21.1s\tremaining: 21m 39s\n",
      "16:\tlearn: 0.1770791\ttest: 0.1791996\tbest: 0.1791996 (16)\ttotal: 22.6s\tremaining: 21m 46s\n",
      "17:\tlearn: 0.1766268\ttest: 0.1787941\tbest: 0.1787941 (17)\ttotal: 23.6s\tremaining: 21m 27s\n",
      "18:\tlearn: 0.1758188\ttest: 0.1779941\tbest: 0.1779941 (18)\ttotal: 23.9s\tremaining: 20m 36s\n",
      "19:\tlearn: 0.1733724\ttest: 0.1755382\tbest: 0.1755382 (19)\ttotal: 25.6s\tremaining: 20m 53s\n",
      "20:\tlearn: 0.1720297\ttest: 0.1743084\tbest: 0.1743084 (20)\ttotal: 27.4s\tremaining: 21m 19s\n",
      "21:\tlearn: 0.1712289\ttest: 0.1735520\tbest: 0.1735520 (21)\ttotal: 28.8s\tremaining: 21m 19s\n",
      "22:\tlearn: 0.1702094\ttest: 0.1726169\tbest: 0.1726169 (22)\ttotal: 30.4s\tremaining: 21m 31s\n",
      "23:\tlearn: 0.1698721\ttest: 0.1723027\tbest: 0.1723027 (23)\ttotal: 30.9s\tremaining: 20m 55s\n",
      "24:\tlearn: 0.1698379\ttest: 0.1722671\tbest: 0.1722671 (24)\ttotal: 31.1s\tremaining: 20m 12s\n",
      "25:\tlearn: 0.1697032\ttest: 0.1721430\tbest: 0.1721430 (25)\ttotal: 31.7s\tremaining: 19m 48s\n",
      "26:\tlearn: 0.1693365\ttest: 0.1717902\tbest: 0.1717902 (26)\ttotal: 32.2s\tremaining: 19m 19s\n",
      "27:\tlearn: 0.1689939\ttest: 0.1714214\tbest: 0.1714214 (27)\ttotal: 32.6s\tremaining: 18m 52s\n",
      "28:\tlearn: 0.1677707\ttest: 0.1702801\tbest: 0.1702801 (28)\ttotal: 34.4s\tremaining: 19m 12s\n",
      "29:\tlearn: 0.1675541\ttest: 0.1700594\tbest: 0.1700594 (29)\ttotal: 35s\tremaining: 18m 51s\n",
      "30:\tlearn: 0.1672503\ttest: 0.1697734\tbest: 0.1697734 (30)\ttotal: 35.7s\tremaining: 18m 35s\n",
      "31:\tlearn: 0.1663457\ttest: 0.1689781\tbest: 0.1689781 (31)\ttotal: 37.1s\tremaining: 18m 43s\n",
      "32:\tlearn: 0.1659112\ttest: 0.1686352\tbest: 0.1686352 (32)\ttotal: 38.7s\tremaining: 18m 54s\n",
      "33:\tlearn: 0.1650468\ttest: 0.1678913\tbest: 0.1678913 (33)\ttotal: 40.7s\tremaining: 19m 16s\n",
      "34:\tlearn: 0.1646920\ttest: 0.1676117\tbest: 0.1676117 (34)\ttotal: 42.6s\tremaining: 19m 34s\n",
      "35:\tlearn: 0.1639439\ttest: 0.1670272\tbest: 0.1670272 (35)\ttotal: 44.3s\tremaining: 19m 45s\n",
      "36:\tlearn: 0.1637188\ttest: 0.1668670\tbest: 0.1668670 (36)\ttotal: 44.9s\tremaining: 19m 28s\n",
      "37:\tlearn: 0.1634971\ttest: 0.1666421\tbest: 0.1666421 (37)\ttotal: 45.8s\tremaining: 19m 20s\n",
      "38:\tlearn: 0.1632388\ttest: 0.1664271\tbest: 0.1664271 (38)\ttotal: 47.4s\tremaining: 19m 28s\n",
      "39:\tlearn: 0.1629958\ttest: 0.1662300\tbest: 0.1662300 (39)\ttotal: 48.1s\tremaining: 19m 13s\n",
      "40:\tlearn: 0.1623854\ttest: 0.1656459\tbest: 0.1656459 (40)\ttotal: 49.3s\tremaining: 19m 12s\n",
      "41:\tlearn: 0.1618298\ttest: 0.1651069\tbest: 0.1651069 (41)\ttotal: 50.9s\tremaining: 19m 20s\n",
      "42:\tlearn: 0.1612244\ttest: 0.1646046\tbest: 0.1646046 (42)\ttotal: 52.4s\tremaining: 19m 27s\n",
      "43:\tlearn: 0.1611291\ttest: 0.1645074\tbest: 0.1645074 (43)\ttotal: 52.8s\tremaining: 19m 8s\n",
      "44:\tlearn: 0.1610824\ttest: 0.1644613\tbest: 0.1644613 (44)\ttotal: 53.2s\tremaining: 18m 48s\n",
      "45:\tlearn: 0.1607878\ttest: 0.1641918\tbest: 0.1641918 (45)\ttotal: 54.6s\tremaining: 18m 52s\n",
      "46:\tlearn: 0.1605714\ttest: 0.1639973\tbest: 0.1639973 (46)\ttotal: 55.3s\tremaining: 18m 40s\n",
      "47:\tlearn: 0.1601267\ttest: 0.1636466\tbest: 0.1636466 (47)\ttotal: 56.7s\tremaining: 18m 44s\n",
      "48:\tlearn: 0.1598235\ttest: 0.1633589\tbest: 0.1633589 (48)\ttotal: 58.4s\tremaining: 18m 53s\n",
      "49:\tlearn: 0.1596314\ttest: 0.1632604\tbest: 0.1632604 (49)\ttotal: 59.5s\tremaining: 18m 51s\n",
      "50:\tlearn: 0.1594112\ttest: 0.1630428\tbest: 0.1630428 (50)\ttotal: 60s\tremaining: 18m 36s\n",
      "51:\tlearn: 0.1592365\ttest: 0.1629191\tbest: 0.1629191 (51)\ttotal: 1m 1s\tremaining: 18m 38s\n",
      "52:\tlearn: 0.1591267\ttest: 0.1628966\tbest: 0.1628966 (52)\ttotal: 1m 3s\tremaining: 19m 2s\n",
      "53:\tlearn: 0.1585875\ttest: 0.1623751\tbest: 0.1623751 (53)\ttotal: 1m 6s\tremaining: 19m 24s\n",
      "54:\tlearn: 0.1584952\ttest: 0.1623196\tbest: 0.1623196 (54)\ttotal: 1m 7s\tremaining: 19m 24s\n",
      "55:\tlearn: 0.1583314\ttest: 0.1622250\tbest: 0.1622250 (55)\ttotal: 1m 10s\tremaining: 19m 46s\n",
      "56:\tlearn: 0.1580226\ttest: 0.1620197\tbest: 0.1620197 (56)\ttotal: 1m 12s\tremaining: 20m 5s\n",
      "57:\tlearn: 0.1576923\ttest: 0.1617694\tbest: 0.1617694 (57)\ttotal: 1m 15s\tremaining: 20m 23s\n",
      "58:\tlearn: 0.1573903\ttest: 0.1615542\tbest: 0.1615542 (58)\ttotal: 1m 17s\tremaining: 20m 30s\n",
      "59:\tlearn: 0.1573543\ttest: 0.1615278\tbest: 0.1615278 (59)\ttotal: 1m 17s\tremaining: 20m 15s\n",
      "60:\tlearn: 0.1572872\ttest: 0.1614797\tbest: 0.1614797 (60)\ttotal: 1m 18s\tremaining: 20m 1s\n",
      "61:\tlearn: 0.1572811\ttest: 0.1614759\tbest: 0.1614759 (61)\ttotal: 1m 18s\tremaining: 19m 45s\n",
      "62:\tlearn: 0.1572169\ttest: 0.1614116\tbest: 0.1614116 (62)\ttotal: 1m 18s\tremaining: 19m 31s\n",
      "63:\tlearn: 0.1571729\ttest: 0.1613628\tbest: 0.1613628 (63)\ttotal: 1m 19s\tremaining: 19m 18s\n",
      "64:\tlearn: 0.1571713\ttest: 0.1613633\tbest: 0.1613628 (63)\ttotal: 1m 19s\tremaining: 19m 2s\n",
      "65:\tlearn: 0.1571713\ttest: 0.1613631\tbest: 0.1613628 (63)\ttotal: 1m 19s\tremaining: 18m 46s\n",
      "66:\tlearn: 0.1571653\ttest: 0.1613579\tbest: 0.1613579 (66)\ttotal: 1m 19s\tremaining: 18m 31s\n",
      "67:\tlearn: 0.1569863\ttest: 0.1612288\tbest: 0.1612288 (67)\ttotal: 1m 20s\tremaining: 18m 30s\n",
      "68:\tlearn: 0.1568392\ttest: 0.1611382\tbest: 0.1611382 (68)\ttotal: 1m 22s\tremaining: 18m 30s\n",
      "69:\tlearn: 0.1567647\ttest: 0.1610813\tbest: 0.1610813 (69)\ttotal: 1m 23s\tremaining: 18m 26s\n",
      "70:\tlearn: 0.1565678\ttest: 0.1609126\tbest: 0.1609126 (70)\ttotal: 1m 24s\tremaining: 18m 22s\n",
      "71:\tlearn: 0.1565199\ttest: 0.1608865\tbest: 0.1608865 (71)\ttotal: 1m 24s\tremaining: 18m 15s\n",
      "72:\tlearn: 0.1564067\ttest: 0.1608199\tbest: 0.1608199 (72)\ttotal: 1m 25s\tremaining: 18m 7s\n",
      "73:\tlearn: 0.1563279\ttest: 0.1607709\tbest: 0.1607709 (73)\ttotal: 1m 26s\tremaining: 18m\n",
      "74:\tlearn: 0.1560629\ttest: 0.1605204\tbest: 0.1605204 (74)\ttotal: 1m 27s\tremaining: 18m 1s\n",
      "75:\tlearn: 0.1558702\ttest: 0.1604405\tbest: 0.1604405 (75)\ttotal: 1m 29s\tremaining: 18m 5s\n",
      "76:\tlearn: 0.1557577\ttest: 0.1603468\tbest: 0.1603468 (76)\ttotal: 1m 30s\tremaining: 18m 5s\n",
      "77:\tlearn: 0.1557288\ttest: 0.1603276\tbest: 0.1603276 (77)\ttotal: 1m 31s\tremaining: 17m 57s\n",
      "78:\tlearn: 0.1557105\ttest: 0.1603222\tbest: 0.1603222 (78)\ttotal: 1m 31s\tremaining: 17m 47s\n",
      "79:\tlearn: 0.1557018\ttest: 0.1603162\tbest: 0.1603162 (79)\ttotal: 1m 31s\tremaining: 17m 37s\n",
      "80:\tlearn: 0.1555763\ttest: 0.1602487\tbest: 0.1602487 (80)\ttotal: 1m 33s\tremaining: 17m 37s\n",
      "81:\tlearn: 0.1555129\ttest: 0.1602164\tbest: 0.1602164 (81)\ttotal: 1m 34s\tremaining: 17m 38s\n",
      "82:\tlearn: 0.1555097\ttest: 0.1602156\tbest: 0.1602156 (82)\ttotal: 1m 34s\tremaining: 17m 28s\n",
      "83:\tlearn: 0.1553546\ttest: 0.1601108\tbest: 0.1601108 (83)\ttotal: 1m 36s\tremaining: 17m 27s\n",
      "84:\tlearn: 0.1552468\ttest: 0.1600521\tbest: 0.1600521 (84)\ttotal: 1m 37s\tremaining: 17m 28s\n",
      "85:\tlearn: 0.1548720\ttest: 0.1597828\tbest: 0.1597828 (85)\ttotal: 1m 38s\tremaining: 17m 30s\n",
      "86:\tlearn: 0.1547944\ttest: 0.1597162\tbest: 0.1597162 (86)\ttotal: 1m 39s\tremaining: 17m 22s\n",
      "87:\tlearn: 0.1547818\ttest: 0.1597067\tbest: 0.1597067 (87)\ttotal: 1m 39s\tremaining: 17m 13s\n",
      "88:\tlearn: 0.1545839\ttest: 0.1595978\tbest: 0.1595978 (88)\ttotal: 1m 40s\tremaining: 17m 12s\n",
      "89:\tlearn: 0.1543956\ttest: 0.1594689\tbest: 0.1594689 (89)\ttotal: 1m 42s\tremaining: 17m 15s\n",
      "90:\tlearn: 0.1543557\ttest: 0.1594218\tbest: 0.1594218 (90)\ttotal: 1m 42s\tremaining: 17m 6s\n"
     ]
    },
    {
     "name": "stdout",
     "output_type": "stream",
     "text": [
      "91:\tlearn: 0.1542146\ttest: 0.1593565\tbest: 0.1593565 (91)\ttotal: 1m 44s\tremaining: 17m 9s\n",
      "92:\tlearn: 0.1542146\ttest: 0.1593564\tbest: 0.1593564 (92)\ttotal: 1m 44s\tremaining: 16m 59s\n",
      "93:\tlearn: 0.1541843\ttest: 0.1593399\tbest: 0.1593399 (93)\ttotal: 1m 44s\tremaining: 16m 50s\n",
      "94:\tlearn: 0.1540909\ttest: 0.1592589\tbest: 0.1592589 (94)\ttotal: 1m 45s\tremaining: 16m 43s\n",
      "95:\tlearn: 0.1540423\ttest: 0.1592377\tbest: 0.1592377 (95)\ttotal: 1m 46s\tremaining: 16m 40s\n",
      "96:\tlearn: 0.1540328\ttest: 0.1592317\tbest: 0.1592317 (96)\ttotal: 1m 46s\tremaining: 16m 32s\n",
      "97:\tlearn: 0.1539844\ttest: 0.1591865\tbest: 0.1591865 (97)\ttotal: 1m 48s\tremaining: 16m 35s\n",
      "98:\tlearn: 0.1539826\ttest: 0.1591897\tbest: 0.1591865 (97)\ttotal: 1m 48s\tremaining: 16m 27s\n",
      "99:\tlearn: 0.1539434\ttest: 0.1591679\tbest: 0.1591679 (99)\ttotal: 1m 49s\tremaining: 16m 22s\n",
      "100:\tlearn: 0.1538869\ttest: 0.1591180\tbest: 0.1591180 (100)\ttotal: 1m 49s\tremaining: 16m 15s\n",
      "101:\tlearn: 0.1538316\ttest: 0.1590735\tbest: 0.1590735 (101)\ttotal: 1m 50s\tremaining: 16m 10s\n",
      "102:\tlearn: 0.1538128\ttest: 0.1590582\tbest: 0.1590582 (102)\ttotal: 1m 50s\tremaining: 16m 3s\n",
      "103:\tlearn: 0.1537259\ttest: 0.1589728\tbest: 0.1589728 (103)\ttotal: 1m 51s\tremaining: 15m 59s\n",
      "104:\tlearn: 0.1537186\ttest: 0.1589644\tbest: 0.1589644 (104)\ttotal: 1m 51s\tremaining: 15m 51s\n",
      "105:\tlearn: 0.1536933\ttest: 0.1589486\tbest: 0.1589486 (105)\ttotal: 1m 52s\tremaining: 15m 45s\n",
      "106:\tlearn: 0.1535846\ttest: 0.1589063\tbest: 0.1589063 (106)\ttotal: 1m 53s\tremaining: 15m 45s\n",
      "107:\tlearn: 0.1535815\ttest: 0.1589027\tbest: 0.1589027 (107)\ttotal: 1m 53s\tremaining: 15m 37s\n",
      "108:\tlearn: 0.1535739\ttest: 0.1588938\tbest: 0.1588938 (108)\ttotal: 1m 53s\tremaining: 15m 31s\n",
      "109:\tlearn: 0.1535546\ttest: 0.1588666\tbest: 0.1588666 (109)\ttotal: 1m 54s\tremaining: 15m 25s\n",
      "110:\tlearn: 0.1534350\ttest: 0.1587958\tbest: 0.1587958 (110)\ttotal: 1m 56s\tremaining: 15m 31s\n",
      "111:\tlearn: 0.1531724\ttest: 0.1585845\tbest: 0.1585845 (111)\ttotal: 1m 57s\tremaining: 15m 33s\n",
      "112:\tlearn: 0.1531559\ttest: 0.1585677\tbest: 0.1585677 (112)\ttotal: 1m 58s\tremaining: 15m 27s\n",
      "113:\tlearn: 0.1530621\ttest: 0.1585191\tbest: 0.1585191 (113)\ttotal: 1m 58s\tremaining: 15m 23s\n",
      "114:\tlearn: 0.1529687\ttest: 0.1584547\tbest: 0.1584547 (114)\ttotal: 2m\tremaining: 15m 26s\n",
      "115:\tlearn: 0.1528211\ttest: 0.1584022\tbest: 0.1584022 (115)\ttotal: 2m 1s\tremaining: 15m 29s\n",
      "116:\tlearn: 0.1526197\ttest: 0.1582530\tbest: 0.1582530 (116)\ttotal: 2m 3s\tremaining: 15m 31s\n",
      "117:\tlearn: 0.1524816\ttest: 0.1581837\tbest: 0.1581837 (117)\ttotal: 2m 4s\tremaining: 15m 29s\n",
      "118:\tlearn: 0.1524582\ttest: 0.1581624\tbest: 0.1581624 (118)\ttotal: 2m 4s\tremaining: 15m 24s\n",
      "119:\tlearn: 0.1523951\ttest: 0.1581135\tbest: 0.1581135 (119)\ttotal: 2m 5s\tremaining: 15m 20s\n",
      "120:\tlearn: 0.1523780\ttest: 0.1580987\tbest: 0.1580987 (120)\ttotal: 2m 6s\tremaining: 15m 15s\n",
      "121:\tlearn: 0.1523460\ttest: 0.1580854\tbest: 0.1580854 (121)\ttotal: 2m 6s\tremaining: 15m 12s\n",
      "122:\tlearn: 0.1522147\ttest: 0.1579470\tbest: 0.1579470 (122)\ttotal: 2m 8s\tremaining: 15m 14s\n",
      "123:\tlearn: 0.1522054\ttest: 0.1579401\tbest: 0.1579401 (123)\ttotal: 2m 8s\tremaining: 15m 8s\n",
      "124:\tlearn: 0.1521316\ttest: 0.1578941\tbest: 0.1578941 (124)\ttotal: 2m 10s\tremaining: 15m 10s\n",
      "125:\tlearn: 0.1520943\ttest: 0.1578486\tbest: 0.1578486 (125)\ttotal: 2m 10s\tremaining: 15m 4s\n",
      "126:\tlearn: 0.1520754\ttest: 0.1578388\tbest: 0.1578388 (126)\ttotal: 2m 10s\tremaining: 14m 58s\n",
      "127:\tlearn: 0.1519852\ttest: 0.1577913\tbest: 0.1577913 (127)\ttotal: 2m 11s\tremaining: 14m 56s\n",
      "128:\tlearn: 0.1519848\ttest: 0.1577915\tbest: 0.1577913 (127)\ttotal: 2m 11s\tremaining: 14m 49s\n",
      "129:\tlearn: 0.1518556\ttest: 0.1576883\tbest: 0.1576883 (129)\ttotal: 2m 13s\tremaining: 14m 50s\n",
      "130:\tlearn: 0.1517049\ttest: 0.1575640\tbest: 0.1575640 (130)\ttotal: 2m 14s\tremaining: 14m 52s\n",
      "131:\tlearn: 0.1516921\ttest: 0.1575502\tbest: 0.1575502 (131)\ttotal: 2m 15s\tremaining: 14m 47s\n",
      "132:\tlearn: 0.1516218\ttest: 0.1575194\tbest: 0.1575194 (132)\ttotal: 2m 16s\tremaining: 14m 48s\n",
      "133:\tlearn: 0.1514424\ttest: 0.1573926\tbest: 0.1573926 (133)\ttotal: 2m 17s\tremaining: 14m 50s\n",
      "134:\tlearn: 0.1514251\ttest: 0.1573752\tbest: 0.1573752 (134)\ttotal: 2m 18s\tremaining: 14m 45s\n",
      "135:\tlearn: 0.1513793\ttest: 0.1573293\tbest: 0.1573293 (135)\ttotal: 2m 18s\tremaining: 14m 41s\n",
      "136:\tlearn: 0.1513661\ttest: 0.1573178\tbest: 0.1573178 (136)\ttotal: 2m 18s\tremaining: 14m 35s\n",
      "137:\tlearn: 0.1513643\ttest: 0.1573205\tbest: 0.1573178 (136)\ttotal: 2m 19s\tremaining: 14m 30s\n",
      "138:\tlearn: 0.1513522\ttest: 0.1573143\tbest: 0.1573143 (138)\ttotal: 2m 19s\tremaining: 14m 25s\n",
      "139:\tlearn: 0.1512006\ttest: 0.1572056\tbest: 0.1572056 (139)\ttotal: 2m 21s\tremaining: 14m 28s\n",
      "140:\tlearn: 0.1510131\ttest: 0.1571183\tbest: 0.1571183 (140)\ttotal: 2m 22s\tremaining: 14m 29s\n",
      "141:\tlearn: 0.1509993\ttest: 0.1571008\tbest: 0.1571008 (141)\ttotal: 2m 23s\tremaining: 14m 25s\n",
      "142:\tlearn: 0.1509843\ttest: 0.1570838\tbest: 0.1570838 (142)\ttotal: 2m 23s\tremaining: 14m 19s\n",
      "143:\tlearn: 0.1508553\ttest: 0.1570095\tbest: 0.1570095 (143)\ttotal: 2m 25s\tremaining: 14m 22s\n",
      "144:\tlearn: 0.1508364\ttest: 0.1569977\tbest: 0.1569977 (144)\ttotal: 2m 25s\tremaining: 14m 18s\n",
      "145:\tlearn: 0.1508341\ttest: 0.1569945\tbest: 0.1569945 (145)\ttotal: 2m 25s\tremaining: 14m 13s\n",
      "146:\tlearn: 0.1507111\ttest: 0.1569175\tbest: 0.1569175 (146)\ttotal: 2m 27s\tremaining: 14m 15s\n",
      "147:\tlearn: 0.1507099\ttest: 0.1569158\tbest: 0.1569158 (147)\ttotal: 2m 27s\tremaining: 14m 9s\n",
      "148:\tlearn: 0.1506812\ttest: 0.1568893\tbest: 0.1568893 (148)\ttotal: 2m 27s\tremaining: 14m 5s\n",
      "149:\tlearn: 0.1506248\ttest: 0.1568448\tbest: 0.1568448 (149)\ttotal: 2m 28s\tremaining: 14m 1s\n",
      "150:\tlearn: 0.1505436\ttest: 0.1568079\tbest: 0.1568079 (150)\ttotal: 2m 29s\tremaining: 14m 1s\n",
      "151:\tlearn: 0.1504521\ttest: 0.1567766\tbest: 0.1567766 (151)\ttotal: 2m 31s\tremaining: 14m 3s\n",
      "152:\tlearn: 0.1503571\ttest: 0.1566931\tbest: 0.1566931 (152)\ttotal: 2m 31s\tremaining: 14m\n",
      "153:\tlearn: 0.1503188\ttest: 0.1566934\tbest: 0.1566931 (152)\ttotal: 2m 32s\tremaining: 13m 56s\n",
      "154:\tlearn: 0.1503188\ttest: 0.1566932\tbest: 0.1566931 (152)\ttotal: 2m 32s\tremaining: 13m 51s\n",
      "155:\tlearn: 0.1502898\ttest: 0.1566767\tbest: 0.1566767 (155)\ttotal: 2m 33s\tremaining: 13m 48s\n",
      "156:\tlearn: 0.1502896\ttest: 0.1566774\tbest: 0.1566767 (155)\ttotal: 2m 33s\tremaining: 13m 42s\n",
      "157:\tlearn: 0.1501846\ttest: 0.1566209\tbest: 0.1566209 (157)\ttotal: 2m 34s\tremaining: 13m 45s\n",
      "158:\tlearn: 0.1501570\ttest: 0.1566259\tbest: 0.1566209 (157)\ttotal: 2m 35s\tremaining: 13m 41s\n",
      "159:\tlearn: 0.1501369\ttest: 0.1566140\tbest: 0.1566140 (159)\ttotal: 2m 35s\tremaining: 13m 37s\n",
      "160:\tlearn: 0.1501299\ttest: 0.1566097\tbest: 0.1566097 (160)\ttotal: 2m 36s\tremaining: 13m 33s\n",
      "161:\tlearn: 0.1501280\ttest: 0.1566076\tbest: 0.1566076 (161)\ttotal: 2m 36s\tremaining: 13m 29s\n",
      "162:\tlearn: 0.1500830\ttest: 0.1565695\tbest: 0.1565695 (162)\ttotal: 2m 37s\tremaining: 13m 26s\n",
      "163:\tlearn: 0.1498580\ttest: 0.1564778\tbest: 0.1564778 (163)\ttotal: 2m 38s\tremaining: 13m 29s\n",
      "164:\tlearn: 0.1498447\ttest: 0.1564737\tbest: 0.1564737 (164)\ttotal: 2m 39s\tremaining: 13m 26s\n",
      "165:\tlearn: 0.1498146\ttest: 0.1564546\tbest: 0.1564546 (165)\ttotal: 2m 39s\tremaining: 13m 23s\n",
      "166:\tlearn: 0.1496697\ttest: 0.1563932\tbest: 0.1563932 (166)\ttotal: 2m 41s\tremaining: 13m 27s\n",
      "167:\tlearn: 0.1495668\ttest: 0.1563170\tbest: 0.1563170 (167)\ttotal: 2m 43s\tremaining: 13m 29s\n",
      "168:\tlearn: 0.1494779\ttest: 0.1562465\tbest: 0.1562465 (168)\ttotal: 2m 44s\tremaining: 13m 26s\n",
      "169:\tlearn: 0.1494776\ttest: 0.1562472\tbest: 0.1562465 (168)\ttotal: 2m 44s\tremaining: 13m 22s\n",
      "170:\tlearn: 0.1494212\ttest: 0.1562349\tbest: 0.1562349 (170)\ttotal: 2m 45s\tremaining: 13m 22s\n",
      "171:\tlearn: 0.1493967\ttest: 0.1562271\tbest: 0.1562271 (171)\ttotal: 2m 45s\tremaining: 13m 18s\n",
      "172:\tlearn: 0.1493696\ttest: 0.1562232\tbest: 0.1562232 (172)\ttotal: 2m 46s\tremaining: 13m 15s\n",
      "173:\tlearn: 0.1492680\ttest: 0.1562031\tbest: 0.1562031 (173)\ttotal: 2m 47s\tremaining: 13m 15s\n",
      "174:\tlearn: 0.1491189\ttest: 0.1561106\tbest: 0.1561106 (174)\ttotal: 2m 49s\tremaining: 13m 18s\n",
      "175:\tlearn: 0.1490676\ttest: 0.1560960\tbest: 0.1560960 (175)\ttotal: 2m 49s\tremaining: 13m 15s\n",
      "176:\tlearn: 0.1490138\ttest: 0.1560737\tbest: 0.1560737 (176)\ttotal: 2m 50s\tremaining: 13m 14s\n",
      "177:\tlearn: 0.1490003\ttest: 0.1560712\tbest: 0.1560712 (177)\ttotal: 2m 51s\tremaining: 13m 11s\n",
      "178:\tlearn: 0.1489661\ttest: 0.1560554\tbest: 0.1560554 (178)\ttotal: 2m 51s\tremaining: 13m 7s\n",
      "179:\tlearn: 0.1489620\ttest: 0.1560535\tbest: 0.1560535 (179)\ttotal: 2m 52s\tremaining: 13m 3s\n"
     ]
    },
    {
     "name": "stdout",
     "output_type": "stream",
     "text": [
      "180:\tlearn: 0.1489097\ttest: 0.1560310\tbest: 0.1560310 (180)\ttotal: 2m 53s\tremaining: 13m 4s\n",
      "181:\tlearn: 0.1488270\ttest: 0.1559988\tbest: 0.1559988 (181)\ttotal: 2m 54s\tremaining: 13m 6s\n",
      "182:\tlearn: 0.1488158\ttest: 0.1560003\tbest: 0.1559988 (181)\ttotal: 2m 55s\tremaining: 13m 3s\n",
      "183:\tlearn: 0.1487836\ttest: 0.1559875\tbest: 0.1559875 (183)\ttotal: 2m 55s\tremaining: 12m 59s\n",
      "184:\tlearn: 0.1487426\ttest: 0.1559781\tbest: 0.1559781 (184)\ttotal: 2m 57s\tremaining: 13m 1s\n",
      "185:\tlearn: 0.1487331\ttest: 0.1559711\tbest: 0.1559711 (185)\ttotal: 2m 57s\tremaining: 12m 58s\n",
      "186:\tlearn: 0.1487280\ttest: 0.1559691\tbest: 0.1559691 (186)\ttotal: 2m 58s\tremaining: 12m 54s\n",
      "187:\tlearn: 0.1483902\ttest: 0.1558038\tbest: 0.1558038 (187)\ttotal: 2m 59s\tremaining: 12m 55s\n",
      "188:\tlearn: 0.1483430\ttest: 0.1557810\tbest: 0.1557810 (188)\ttotal: 3m\tremaining: 12m 53s\n",
      "189:\tlearn: 0.1482650\ttest: 0.1557753\tbest: 0.1557753 (189)\ttotal: 3m 1s\tremaining: 12m 54s\n",
      "190:\tlearn: 0.1482648\ttest: 0.1557750\tbest: 0.1557750 (190)\ttotal: 3m 2s\tremaining: 12m 50s\n",
      "191:\tlearn: 0.1482170\ttest: 0.1557506\tbest: 0.1557506 (191)\ttotal: 3m 3s\tremaining: 12m 51s\n",
      "192:\tlearn: 0.1481065\ttest: 0.1557183\tbest: 0.1557183 (192)\ttotal: 3m 4s\tremaining: 12m 51s\n",
      "193:\tlearn: 0.1480922\ttest: 0.1557031\tbest: 0.1557031 (193)\ttotal: 3m 5s\tremaining: 12m 48s\n",
      "194:\tlearn: 0.1480922\ttest: 0.1557031\tbest: 0.1557031 (194)\ttotal: 3m 5s\tremaining: 12m 44s\n",
      "195:\tlearn: 0.1480615\ttest: 0.1556964\tbest: 0.1556964 (195)\ttotal: 3m 6s\tremaining: 12m 45s\n",
      "196:\tlearn: 0.1479523\ttest: 0.1556209\tbest: 0.1556209 (196)\ttotal: 3m 7s\tremaining: 12m 45s\n",
      "197:\tlearn: 0.1478399\ttest: 0.1555485\tbest: 0.1555485 (197)\ttotal: 3m 9s\tremaining: 12m 45s\n",
      "198:\tlearn: 0.1478396\ttest: 0.1555481\tbest: 0.1555481 (198)\ttotal: 3m 9s\tremaining: 12m 42s\n",
      "199:\tlearn: 0.1478236\ttest: 0.1555355\tbest: 0.1555355 (199)\ttotal: 3m 10s\tremaining: 12m 40s\n",
      "200:\tlearn: 0.1477393\ttest: 0.1554923\tbest: 0.1554923 (200)\ttotal: 3m 11s\tremaining: 12m 42s\n",
      "201:\tlearn: 0.1476886\ttest: 0.1554623\tbest: 0.1554623 (201)\ttotal: 3m 13s\tremaining: 12m 43s\n",
      "202:\tlearn: 0.1476280\ttest: 0.1554431\tbest: 0.1554431 (202)\ttotal: 3m 14s\tremaining: 12m 44s\n",
      "203:\tlearn: 0.1475910\ttest: 0.1554024\tbest: 0.1554024 (203)\ttotal: 3m 15s\tremaining: 12m 41s\n",
      "204:\tlearn: 0.1475538\ttest: 0.1553781\tbest: 0.1553781 (204)\ttotal: 3m 15s\tremaining: 12m 40s\n",
      "205:\tlearn: 0.1475535\ttest: 0.1553780\tbest: 0.1553780 (205)\ttotal: 3m 16s\tremaining: 12m 36s\n",
      "206:\tlearn: 0.1475518\ttest: 0.1553747\tbest: 0.1553747 (206)\ttotal: 3m 16s\tremaining: 12m 33s\n",
      "207:\tlearn: 0.1475277\ttest: 0.1553581\tbest: 0.1553581 (207)\ttotal: 3m 17s\tremaining: 12m 31s\n",
      "208:\tlearn: 0.1475236\ttest: 0.1553541\tbest: 0.1553541 (208)\ttotal: 3m 18s\tremaining: 12m 29s\n",
      "209:\tlearn: 0.1475208\ttest: 0.1553515\tbest: 0.1553515 (209)\ttotal: 3m 18s\tremaining: 12m 27s\n",
      "210:\tlearn: 0.1475189\ttest: 0.1553529\tbest: 0.1553515 (209)\ttotal: 3m 19s\tremaining: 12m 24s\n",
      "211:\tlearn: 0.1475133\ttest: 0.1553488\tbest: 0.1553488 (211)\ttotal: 3m 19s\tremaining: 12m 22s\n",
      "212:\tlearn: 0.1475109\ttest: 0.1553472\tbest: 0.1553472 (212)\ttotal: 3m 20s\tremaining: 12m 20s\n",
      "213:\tlearn: 0.1475048\ttest: 0.1553439\tbest: 0.1553439 (213)\ttotal: 3m 21s\tremaining: 12m 18s\n",
      "214:\tlearn: 0.1474640\ttest: 0.1553050\tbest: 0.1553050 (214)\ttotal: 3m 21s\tremaining: 12m 16s\n",
      "215:\tlearn: 0.1474496\ttest: 0.1552956\tbest: 0.1552956 (215)\ttotal: 3m 22s\tremaining: 12m 14s\n",
      "216:\tlearn: 0.1473843\ttest: 0.1552745\tbest: 0.1552745 (216)\ttotal: 3m 24s\tremaining: 12m 16s\n",
      "217:\tlearn: 0.1472883\ttest: 0.1552553\tbest: 0.1552553 (217)\ttotal: 3m 26s\tremaining: 12m 19s\n",
      "218:\tlearn: 0.1472267\ttest: 0.1552210\tbest: 0.1552210 (218)\ttotal: 3m 28s\tremaining: 12m 23s\n",
      "219:\tlearn: 0.1471609\ttest: 0.1551891\tbest: 0.1551891 (219)\ttotal: 3m 30s\tremaining: 12m 26s\n",
      "220:\tlearn: 0.1471608\ttest: 0.1551888\tbest: 0.1551888 (220)\ttotal: 3m 30s\tremaining: 12m 23s\n",
      "221:\tlearn: 0.1471071\ttest: 0.1551815\tbest: 0.1551815 (221)\ttotal: 3m 32s\tremaining: 12m 26s\n",
      "222:\tlearn: 0.1470839\ttest: 0.1551789\tbest: 0.1551789 (222)\ttotal: 3m 33s\tremaining: 12m 25s\n",
      "223:\tlearn: 0.1470138\ttest: 0.1551441\tbest: 0.1551441 (223)\ttotal: 3m 35s\tremaining: 12m 27s\n",
      "224:\tlearn: 0.1470138\ttest: 0.1551440\tbest: 0.1551440 (224)\ttotal: 3m 35s\tremaining: 12m 23s\n",
      "225:\tlearn: 0.1469550\ttest: 0.1551310\tbest: 0.1551310 (225)\ttotal: 3m 37s\tremaining: 12m 26s\n",
      "226:\tlearn: 0.1469486\ttest: 0.1551287\tbest: 0.1551287 (226)\ttotal: 3m 38s\tremaining: 12m 23s\n",
      "227:\tlearn: 0.1469483\ttest: 0.1551302\tbest: 0.1551287 (226)\ttotal: 3m 38s\tremaining: 12m 20s\n",
      "228:\tlearn: 0.1468943\ttest: 0.1551050\tbest: 0.1551050 (228)\ttotal: 3m 40s\tremaining: 12m 21s\n",
      "229:\tlearn: 0.1468856\ttest: 0.1551002\tbest: 0.1551002 (229)\ttotal: 3m 40s\tremaining: 12m 18s\n",
      "230:\tlearn: 0.1468694\ttest: 0.1550928\tbest: 0.1550928 (230)\ttotal: 3m 40s\tremaining: 12m 15s\n",
      "231:\tlearn: 0.1467423\ttest: 0.1550620\tbest: 0.1550620 (231)\ttotal: 3m 42s\tremaining: 12m 17s\n",
      "232:\tlearn: 0.1467420\ttest: 0.1550620\tbest: 0.1550620 (232)\ttotal: 3m 42s\tremaining: 12m 13s\n",
      "233:\tlearn: 0.1467420\ttest: 0.1550618\tbest: 0.1550618 (233)\ttotal: 3m 43s\tremaining: 12m 10s\n",
      "234:\tlearn: 0.1466304\ttest: 0.1550515\tbest: 0.1550515 (234)\ttotal: 3m 44s\tremaining: 12m 12s\n",
      "235:\tlearn: 0.1466160\ttest: 0.1550472\tbest: 0.1550472 (235)\ttotal: 3m 45s\tremaining: 12m 9s\n",
      "236:\tlearn: 0.1466121\ttest: 0.1550468\tbest: 0.1550468 (236)\ttotal: 3m 45s\tremaining: 12m 6s\n",
      "237:\tlearn: 0.1465893\ttest: 0.1550402\tbest: 0.1550402 (237)\ttotal: 3m 46s\tremaining: 12m 4s\n",
      "238:\tlearn: 0.1464797\ttest: 0.1549588\tbest: 0.1549588 (238)\ttotal: 3m 47s\tremaining: 12m 4s\n",
      "239:\tlearn: 0.1464188\ttest: 0.1549333\tbest: 0.1549333 (239)\ttotal: 3m 48s\tremaining: 12m 5s\n",
      "240:\tlearn: 0.1463996\ttest: 0.1549104\tbest: 0.1549104 (240)\ttotal: 3m 49s\tremaining: 12m 2s\n",
      "241:\tlearn: 0.1463767\ttest: 0.1548920\tbest: 0.1548920 (241)\ttotal: 3m 49s\tremaining: 12m\n",
      "242:\tlearn: 0.1463718\ttest: 0.1548887\tbest: 0.1548887 (242)\ttotal: 3m 50s\tremaining: 11m 57s\n",
      "243:\tlearn: 0.1463516\ttest: 0.1548843\tbest: 0.1548843 (243)\ttotal: 3m 50s\tremaining: 11m 54s\n",
      "244:\tlearn: 0.1462341\ttest: 0.1548437\tbest: 0.1548437 (244)\ttotal: 3m 51s\tremaining: 11m 54s\n",
      "245:\tlearn: 0.1461427\ttest: 0.1547983\tbest: 0.1547983 (245)\ttotal: 3m 53s\tremaining: 11m 54s\n",
      "246:\tlearn: 0.1461056\ttest: 0.1547857\tbest: 0.1547857 (246)\ttotal: 3m 54s\tremaining: 11m 54s\n",
      "247:\tlearn: 0.1460901\ttest: 0.1547867\tbest: 0.1547857 (246)\ttotal: 3m 55s\tremaining: 11m 53s\n",
      "248:\tlearn: 0.1459602\ttest: 0.1547028\tbest: 0.1547028 (248)\ttotal: 3m 56s\tremaining: 11m 54s\n",
      "249:\tlearn: 0.1459592\ttest: 0.1547016\tbest: 0.1547016 (249)\ttotal: 3m 57s\tremaining: 11m 51s\n",
      "250:\tlearn: 0.1459525\ttest: 0.1547002\tbest: 0.1547002 (250)\ttotal: 3m 57s\tremaining: 11m 49s\n",
      "251:\tlearn: 0.1458875\ttest: 0.1546811\tbest: 0.1546811 (251)\ttotal: 3m 59s\tremaining: 11m 49s\n",
      "252:\tlearn: 0.1458406\ttest: 0.1546678\tbest: 0.1546678 (252)\ttotal: 4m\tremaining: 11m 49s\n",
      "253:\tlearn: 0.1457854\ttest: 0.1546346\tbest: 0.1546346 (253)\ttotal: 4m 1s\tremaining: 11m 50s\n",
      "254:\tlearn: 0.1457829\ttest: 0.1546336\tbest: 0.1546336 (254)\ttotal: 4m 2s\tremaining: 11m 47s\n",
      "255:\tlearn: 0.1457555\ttest: 0.1546255\tbest: 0.1546255 (255)\ttotal: 4m 2s\tremaining: 11m 45s\n",
      "256:\tlearn: 0.1457554\ttest: 0.1546257\tbest: 0.1546255 (255)\ttotal: 4m 2s\tremaining: 11m 42s\n",
      "257:\tlearn: 0.1457402\ttest: 0.1546141\tbest: 0.1546141 (257)\ttotal: 4m 4s\tremaining: 11m 41s\n",
      "258:\tlearn: 0.1457131\ttest: 0.1546079\tbest: 0.1546079 (258)\ttotal: 4m 4s\tremaining: 11m 39s\n",
      "259:\tlearn: 0.1456503\ttest: 0.1545740\tbest: 0.1545740 (259)\ttotal: 4m 6s\tremaining: 11m 40s\n",
      "260:\tlearn: 0.1455992\ttest: 0.1545386\tbest: 0.1545386 (260)\ttotal: 4m 7s\tremaining: 11m 40s\n",
      "261:\tlearn: 0.1455457\ttest: 0.1545143\tbest: 0.1545143 (261)\ttotal: 4m 9s\tremaining: 11m 41s\n",
      "262:\tlearn: 0.1455157\ttest: 0.1544930\tbest: 0.1544930 (262)\ttotal: 4m 9s\tremaining: 11m 39s\n",
      "263:\tlearn: 0.1454949\ttest: 0.1544842\tbest: 0.1544842 (263)\ttotal: 4m 10s\tremaining: 11m 37s\n",
      "264:\tlearn: 0.1451753\ttest: 0.1543973\tbest: 0.1543973 (264)\ttotal: 4m 12s\tremaining: 11m 39s\n",
      "265:\tlearn: 0.1451546\ttest: 0.1543765\tbest: 0.1543765 (265)\ttotal: 4m 12s\tremaining: 11m 37s\n",
      "266:\tlearn: 0.1451162\ttest: 0.1543727\tbest: 0.1543727 (266)\ttotal: 4m 14s\tremaining: 11m 38s\n",
      "267:\tlearn: 0.1451022\ttest: 0.1543650\tbest: 0.1543650 (267)\ttotal: 4m 15s\tremaining: 11m 36s\n",
      "268:\tlearn: 0.1450904\ttest: 0.1543536\tbest: 0.1543536 (268)\ttotal: 4m 15s\tremaining: 11m 33s\n"
     ]
    },
    {
     "name": "stdout",
     "output_type": "stream",
     "text": [
      "269:\tlearn: 0.1450888\ttest: 0.1543517\tbest: 0.1543517 (269)\ttotal: 4m 15s\tremaining: 11m 31s\n",
      "270:\tlearn: 0.1450665\ttest: 0.1543450\tbest: 0.1543450 (270)\ttotal: 4m 16s\tremaining: 11m 29s\n",
      "271:\tlearn: 0.1450594\ttest: 0.1543391\tbest: 0.1543391 (271)\ttotal: 4m 16s\tremaining: 11m 26s\n",
      "272:\tlearn: 0.1449665\ttest: 0.1543282\tbest: 0.1543282 (272)\ttotal: 4m 18s\tremaining: 11m 28s\n",
      "273:\tlearn: 0.1449638\ttest: 0.1543286\tbest: 0.1543282 (272)\ttotal: 4m 18s\tremaining: 11m 25s\n",
      "274:\tlearn: 0.1448690\ttest: 0.1543046\tbest: 0.1543046 (274)\ttotal: 4m 20s\tremaining: 11m 26s\n",
      "275:\tlearn: 0.1448634\ttest: 0.1543042\tbest: 0.1543042 (275)\ttotal: 4m 20s\tremaining: 11m 24s\n",
      "276:\tlearn: 0.1448633\ttest: 0.1543042\tbest: 0.1543042 (275)\ttotal: 4m 21s\tremaining: 11m 21s\n",
      "277:\tlearn: 0.1448287\ttest: 0.1542877\tbest: 0.1542877 (277)\ttotal: 4m 21s\tremaining: 11m 19s\n",
      "278:\tlearn: 0.1447800\ttest: 0.1542519\tbest: 0.1542519 (278)\ttotal: 4m 22s\tremaining: 11m 17s\n",
      "279:\tlearn: 0.1447681\ttest: 0.1542484\tbest: 0.1542484 (279)\ttotal: 4m 22s\tremaining: 11m 15s\n",
      "280:\tlearn: 0.1446863\ttest: 0.1542482\tbest: 0.1542482 (280)\ttotal: 4m 24s\tremaining: 11m 16s\n",
      "281:\tlearn: 0.1446582\ttest: 0.1542313\tbest: 0.1542313 (281)\ttotal: 4m 24s\tremaining: 11m 14s\n",
      "282:\tlearn: 0.1446521\ttest: 0.1542259\tbest: 0.1542259 (282)\ttotal: 4m 25s\tremaining: 11m 11s\n",
      "283:\tlearn: 0.1445988\ttest: 0.1542029\tbest: 0.1542029 (283)\ttotal: 4m 26s\tremaining: 11m 12s\n",
      "284:\tlearn: 0.1445826\ttest: 0.1541999\tbest: 0.1541999 (284)\ttotal: 4m 27s\tremaining: 11m 10s\n",
      "285:\tlearn: 0.1445796\ttest: 0.1542016\tbest: 0.1541999 (284)\ttotal: 4m 27s\tremaining: 11m 7s\n",
      "286:\tlearn: 0.1445647\ttest: 0.1541925\tbest: 0.1541925 (286)\ttotal: 4m 28s\tremaining: 11m 6s\n",
      "287:\tlearn: 0.1445106\ttest: 0.1541592\tbest: 0.1541592 (287)\ttotal: 4m 29s\tremaining: 11m 6s\n",
      "288:\tlearn: 0.1444558\ttest: 0.1541507\tbest: 0.1541507 (288)\ttotal: 4m 31s\tremaining: 11m 7s\n",
      "289:\tlearn: 0.1444433\ttest: 0.1541540\tbest: 0.1541507 (288)\ttotal: 4m 31s\tremaining: 11m 5s\n",
      "290:\tlearn: 0.1443949\ttest: 0.1541482\tbest: 0.1541482 (290)\ttotal: 4m 32s\tremaining: 11m 4s\n",
      "291:\tlearn: 0.1443844\ttest: 0.1541428\tbest: 0.1541428 (291)\ttotal: 4m 33s\tremaining: 11m 2s\n",
      "292:\tlearn: 0.1443641\ttest: 0.1541359\tbest: 0.1541359 (292)\ttotal: 4m 33s\tremaining: 11m\n",
      "293:\tlearn: 0.1443446\ttest: 0.1541227\tbest: 0.1541227 (293)\ttotal: 4m 34s\tremaining: 10m 59s\n",
      "294:\tlearn: 0.1443010\ttest: 0.1540926\tbest: 0.1540926 (294)\ttotal: 4m 35s\tremaining: 10m 57s\n",
      "295:\tlearn: 0.1442656\ttest: 0.1540799\tbest: 0.1540799 (295)\ttotal: 4m 36s\tremaining: 10m 56s\n",
      "296:\tlearn: 0.1442495\ttest: 0.1540879\tbest: 0.1540799 (295)\ttotal: 4m 37s\tremaining: 10m 56s\n",
      "297:\tlearn: 0.1441861\ttest: 0.1540718\tbest: 0.1540718 (297)\ttotal: 4m 38s\tremaining: 10m 56s\n",
      "298:\tlearn: 0.1441618\ttest: 0.1540511\tbest: 0.1540511 (298)\ttotal: 4m 40s\tremaining: 10m 57s\n",
      "299:\tlearn: 0.1441346\ttest: 0.1540354\tbest: 0.1540354 (299)\ttotal: 4m 41s\tremaining: 10m 57s\n",
      "300:\tlearn: 0.1440267\ttest: 0.1540042\tbest: 0.1540042 (300)\ttotal: 4m 43s\tremaining: 10m 57s\n",
      "301:\tlearn: 0.1440110\ttest: 0.1539978\tbest: 0.1539978 (301)\ttotal: 4m 43s\tremaining: 10m 55s\n",
      "302:\tlearn: 0.1439434\ttest: 0.1539758\tbest: 0.1539758 (302)\ttotal: 4m 44s\tremaining: 10m 55s\n",
      "303:\tlearn: 0.1438857\ttest: 0.1539458\tbest: 0.1539458 (303)\ttotal: 4m 46s\tremaining: 10m 54s\n",
      "304:\tlearn: 0.1438612\ttest: 0.1539280\tbest: 0.1539280 (304)\ttotal: 4m 46s\tremaining: 10m 52s\n",
      "305:\tlearn: 0.1438443\ttest: 0.1539241\tbest: 0.1539241 (305)\ttotal: 4m 47s\tremaining: 10m 51s\n",
      "306:\tlearn: 0.1437996\ttest: 0.1539077\tbest: 0.1539077 (306)\ttotal: 4m 48s\tremaining: 10m 50s\n",
      "307:\tlearn: 0.1437029\ttest: 0.1538861\tbest: 0.1538861 (307)\ttotal: 4m 50s\tremaining: 10m 51s\n",
      "308:\tlearn: 0.1436630\ttest: 0.1538781\tbest: 0.1538781 (308)\ttotal: 4m 51s\tremaining: 10m 51s\n",
      "309:\tlearn: 0.1436514\ttest: 0.1538734\tbest: 0.1538734 (309)\ttotal: 4m 51s\tremaining: 10m 49s\n",
      "310:\tlearn: 0.1436470\ttest: 0.1538755\tbest: 0.1538734 (309)\ttotal: 4m 52s\tremaining: 10m 47s\n",
      "311:\tlearn: 0.1436470\ttest: 0.1538755\tbest: 0.1538734 (309)\ttotal: 4m 52s\tremaining: 10m 44s\n",
      "312:\tlearn: 0.1435901\ttest: 0.1538749\tbest: 0.1538734 (309)\ttotal: 4m 53s\tremaining: 10m 44s\n",
      "313:\tlearn: 0.1435575\ttest: 0.1538662\tbest: 0.1538662 (313)\ttotal: 4m 54s\tremaining: 10m 44s\n",
      "314:\tlearn: 0.1435542\ttest: 0.1538635\tbest: 0.1538635 (314)\ttotal: 4m 55s\tremaining: 10m 42s\n",
      "315:\tlearn: 0.1435510\ttest: 0.1538627\tbest: 0.1538627 (315)\ttotal: 4m 55s\tremaining: 10m 40s\n",
      "316:\tlearn: 0.1435315\ttest: 0.1538660\tbest: 0.1538627 (315)\ttotal: 4m 57s\tremaining: 10m 40s\n",
      "317:\tlearn: 0.1435004\ttest: 0.1538385\tbest: 0.1538385 (317)\ttotal: 4m 57s\tremaining: 10m 38s\n",
      "318:\tlearn: 0.1434791\ttest: 0.1538422\tbest: 0.1538385 (317)\ttotal: 4m 58s\tremaining: 10m 36s\n",
      "319:\tlearn: 0.1434786\ttest: 0.1538426\tbest: 0.1538385 (317)\ttotal: 4m 58s\tremaining: 10m 34s\n",
      "320:\tlearn: 0.1434451\ttest: 0.1538319\tbest: 0.1538319 (320)\ttotal: 4m 59s\tremaining: 10m 32s\n",
      "321:\tlearn: 0.1434230\ttest: 0.1538236\tbest: 0.1538236 (321)\ttotal: 5m\tremaining: 10m 33s\n",
      "322:\tlearn: 0.1434229\ttest: 0.1538224\tbest: 0.1538224 (322)\ttotal: 5m\tremaining: 10m 30s\n",
      "323:\tlearn: 0.1433879\ttest: 0.1538131\tbest: 0.1538131 (323)\ttotal: 5m 1s\tremaining: 10m 29s\n",
      "324:\tlearn: 0.1433805\ttest: 0.1538077\tbest: 0.1538077 (324)\ttotal: 5m 2s\tremaining: 10m 27s\n",
      "325:\tlearn: 0.1432852\ttest: 0.1537625\tbest: 0.1537625 (325)\ttotal: 5m 3s\tremaining: 10m 27s\n",
      "326:\tlearn: 0.1432628\ttest: 0.1537651\tbest: 0.1537625 (325)\ttotal: 5m 3s\tremaining: 10m 25s\n",
      "327:\tlearn: 0.1432404\ttest: 0.1537553\tbest: 0.1537553 (327)\ttotal: 5m 4s\tremaining: 10m 23s\n",
      "328:\tlearn: 0.1432397\ttest: 0.1537549\tbest: 0.1537549 (328)\ttotal: 5m 4s\tremaining: 10m 21s\n",
      "329:\tlearn: 0.1431690\ttest: 0.1537481\tbest: 0.1537481 (329)\ttotal: 5m 6s\tremaining: 10m 21s\n",
      "330:\tlearn: 0.1431639\ttest: 0.1537413\tbest: 0.1537413 (330)\ttotal: 5m 6s\tremaining: 10m 19s\n",
      "331:\tlearn: 0.1431081\ttest: 0.1537236\tbest: 0.1537236 (331)\ttotal: 5m 8s\tremaining: 10m 20s\n",
      "332:\tlearn: 0.1430204\ttest: 0.1536968\tbest: 0.1536968 (332)\ttotal: 5m 10s\tremaining: 10m 22s\n",
      "333:\tlearn: 0.1429778\ttest: 0.1536990\tbest: 0.1536968 (332)\ttotal: 5m 12s\tremaining: 10m 23s\n",
      "334:\tlearn: 0.1429574\ttest: 0.1537012\tbest: 0.1536968 (332)\ttotal: 5m 14s\tremaining: 10m 23s\n",
      "335:\tlearn: 0.1429446\ttest: 0.1536991\tbest: 0.1536968 (332)\ttotal: 5m 15s\tremaining: 10m 22s\n",
      "336:\tlearn: 0.1429233\ttest: 0.1536863\tbest: 0.1536863 (336)\ttotal: 5m 16s\tremaining: 10m 21s\n",
      "337:\tlearn: 0.1429223\ttest: 0.1536836\tbest: 0.1536836 (337)\ttotal: 5m 16s\tremaining: 10m 19s\n",
      "338:\tlearn: 0.1429186\ttest: 0.1536824\tbest: 0.1536824 (338)\ttotal: 5m 17s\tremaining: 10m 18s\n",
      "339:\tlearn: 0.1429159\ttest: 0.1536831\tbest: 0.1536824 (338)\ttotal: 5m 17s\tremaining: 10m 16s\n",
      "340:\tlearn: 0.1428923\ttest: 0.1536603\tbest: 0.1536603 (340)\ttotal: 5m 17s\tremaining: 10m 14s\n",
      "341:\tlearn: 0.1428787\ttest: 0.1536510\tbest: 0.1536510 (341)\ttotal: 5m 18s\tremaining: 10m 12s\n",
      "342:\tlearn: 0.1428660\ttest: 0.1536373\tbest: 0.1536373 (342)\ttotal: 5m 19s\tremaining: 10m 11s\n",
      "343:\tlearn: 0.1428278\ttest: 0.1536246\tbest: 0.1536246 (343)\ttotal: 5m 20s\tremaining: 10m 10s\n",
      "344:\tlearn: 0.1428265\ttest: 0.1536261\tbest: 0.1536246 (343)\ttotal: 5m 20s\tremaining: 10m 8s\n",
      "345:\tlearn: 0.1427688\ttest: 0.1536021\tbest: 0.1536021 (345)\ttotal: 5m 21s\tremaining: 10m 7s\n",
      "346:\tlearn: 0.1427372\ttest: 0.1535950\tbest: 0.1535950 (346)\ttotal: 5m 22s\tremaining: 10m 7s\n",
      "347:\tlearn: 0.1427159\ttest: 0.1535901\tbest: 0.1535901 (347)\ttotal: 5m 24s\tremaining: 10m 7s\n",
      "348:\tlearn: 0.1427155\ttest: 0.1535905\tbest: 0.1535901 (347)\ttotal: 5m 24s\tremaining: 10m 5s\n",
      "349:\tlearn: 0.1426907\ttest: 0.1535822\tbest: 0.1535822 (349)\ttotal: 5m 25s\tremaining: 10m 5s\n",
      "350:\tlearn: 0.1426840\ttest: 0.1535885\tbest: 0.1535822 (349)\ttotal: 5m 26s\tremaining: 10m 4s\n",
      "351:\tlearn: 0.1426486\ttest: 0.1535468\tbest: 0.1535468 (351)\ttotal: 5m 27s\tremaining: 10m 2s\n",
      "352:\tlearn: 0.1426271\ttest: 0.1535354\tbest: 0.1535354 (352)\ttotal: 5m 28s\tremaining: 10m 2s\n",
      "353:\tlearn: 0.1425920\ttest: 0.1535223\tbest: 0.1535223 (353)\ttotal: 5m 31s\tremaining: 10m 4s\n",
      "354:\tlearn: 0.1425328\ttest: 0.1535175\tbest: 0.1535175 (354)\ttotal: 5m 33s\tremaining: 10m 5s\n",
      "355:\tlearn: 0.1425215\ttest: 0.1535184\tbest: 0.1535175 (354)\ttotal: 5m 33s\tremaining: 10m 4s\n",
      "356:\tlearn: 0.1424607\ttest: 0.1535041\tbest: 0.1535041 (356)\ttotal: 5m 35s\tremaining: 10m 4s\n",
      "357:\tlearn: 0.1424581\ttest: 0.1535027\tbest: 0.1535027 (357)\ttotal: 5m 36s\tremaining: 10m 2s\n"
     ]
    },
    {
     "name": "stdout",
     "output_type": "stream",
     "text": [
      "358:\tlearn: 0.1424466\ttest: 0.1535003\tbest: 0.1535003 (358)\ttotal: 5m 36s\tremaining: 10m 1s\n",
      "359:\tlearn: 0.1424218\ttest: 0.1534940\tbest: 0.1534940 (359)\ttotal: 5m 38s\tremaining: 10m 1s\n",
      "360:\tlearn: 0.1423790\ttest: 0.1534758\tbest: 0.1534758 (360)\ttotal: 5m 39s\tremaining: 10m 1s\n",
      "361:\tlearn: 0.1423570\ttest: 0.1534605\tbest: 0.1534605 (361)\ttotal: 5m 40s\tremaining: 9m 59s\n",
      "362:\tlearn: 0.1423414\ttest: 0.1534494\tbest: 0.1534494 (362)\ttotal: 5m 40s\tremaining: 9m 57s\n",
      "363:\tlearn: 0.1423411\ttest: 0.1534487\tbest: 0.1534487 (363)\ttotal: 5m 40s\tremaining: 9m 55s\n",
      "364:\tlearn: 0.1423077\ttest: 0.1534357\tbest: 0.1534357 (364)\ttotal: 5m 42s\tremaining: 9m 55s\n",
      "365:\tlearn: 0.1422495\ttest: 0.1534160\tbest: 0.1534160 (365)\ttotal: 5m 43s\tremaining: 9m 55s\n",
      "366:\tlearn: 0.1422487\ttest: 0.1534182\tbest: 0.1534160 (365)\ttotal: 5m 43s\tremaining: 9m 53s\n",
      "367:\tlearn: 0.1422487\ttest: 0.1534181\tbest: 0.1534160 (365)\ttotal: 5m 44s\tremaining: 9m 51s\n",
      "368:\tlearn: 0.1422464\ttest: 0.1534134\tbest: 0.1534134 (368)\ttotal: 5m 44s\tremaining: 9m 48s\n",
      "369:\tlearn: 0.1422245\ttest: 0.1534099\tbest: 0.1534099 (369)\ttotal: 5m 45s\tremaining: 9m 47s\n",
      "370:\tlearn: 0.1421958\ttest: 0.1534035\tbest: 0.1534035 (370)\ttotal: 5m 46s\tremaining: 9m 47s\n",
      "371:\tlearn: 0.1421396\ttest: 0.1533973\tbest: 0.1533973 (371)\ttotal: 5m 47s\tremaining: 9m 46s\n",
      "372:\tlearn: 0.1420862\ttest: 0.1533806\tbest: 0.1533806 (372)\ttotal: 5m 48s\tremaining: 9m 46s\n",
      "373:\tlearn: 0.1420765\ttest: 0.1533812\tbest: 0.1533806 (372)\ttotal: 5m 49s\tremaining: 9m 44s\n",
      "374:\tlearn: 0.1420685\ttest: 0.1533805\tbest: 0.1533805 (374)\ttotal: 5m 49s\tremaining: 9m 42s\n",
      "375:\tlearn: 0.1420312\ttest: 0.1533516\tbest: 0.1533516 (375)\ttotal: 5m 50s\tremaining: 9m 42s\n",
      "376:\tlearn: 0.1420196\ttest: 0.1533521\tbest: 0.1533516 (375)\ttotal: 5m 51s\tremaining: 9m 40s\n",
      "377:\tlearn: 0.1419282\ttest: 0.1533261\tbest: 0.1533261 (377)\ttotal: 5m 53s\tremaining: 9m 41s\n",
      "378:\tlearn: 0.1419279\ttest: 0.1533257\tbest: 0.1533257 (378)\ttotal: 5m 53s\tremaining: 9m 39s\n",
      "379:\tlearn: 0.1419265\ttest: 0.1533226\tbest: 0.1533226 (379)\ttotal: 5m 53s\tremaining: 9m 37s\n",
      "380:\tlearn: 0.1418970\ttest: 0.1533153\tbest: 0.1533153 (380)\ttotal: 5m 55s\tremaining: 9m 37s\n",
      "381:\tlearn: 0.1418970\ttest: 0.1533153\tbest: 0.1533153 (381)\ttotal: 5m 55s\tremaining: 9m 35s\n",
      "382:\tlearn: 0.1418604\ttest: 0.1532933\tbest: 0.1532933 (382)\ttotal: 5m 57s\tremaining: 9m 35s\n",
      "383:\tlearn: 0.1418464\ttest: 0.1532848\tbest: 0.1532848 (383)\ttotal: 5m 57s\tremaining: 9m 33s\n",
      "384:\tlearn: 0.1418185\ttest: 0.1532879\tbest: 0.1532848 (383)\ttotal: 5m 58s\tremaining: 9m 32s\n",
      "385:\tlearn: 0.1418081\ttest: 0.1532886\tbest: 0.1532848 (383)\ttotal: 5m 58s\tremaining: 9m 30s\n",
      "386:\tlearn: 0.1417715\ttest: 0.1532742\tbest: 0.1532742 (386)\ttotal: 6m\tremaining: 9m 31s\n",
      "387:\tlearn: 0.1417219\ttest: 0.1532332\tbest: 0.1532332 (387)\ttotal: 6m 1s\tremaining: 9m 30s\n",
      "388:\tlearn: 0.1416588\ttest: 0.1532257\tbest: 0.1532257 (388)\ttotal: 6m 3s\tremaining: 9m 30s\n",
      "389:\tlearn: 0.1416578\ttest: 0.1532255\tbest: 0.1532255 (389)\ttotal: 6m 3s\tremaining: 9m 29s\n",
      "390:\tlearn: 0.1416578\ttest: 0.1532254\tbest: 0.1532254 (390)\ttotal: 6m 4s\tremaining: 9m 27s\n",
      "391:\tlearn: 0.1416577\ttest: 0.1532244\tbest: 0.1532244 (391)\ttotal: 6m 4s\tremaining: 9m 25s\n",
      "392:\tlearn: 0.1415769\ttest: 0.1531944\tbest: 0.1531944 (392)\ttotal: 6m 6s\tremaining: 9m 25s\n",
      "393:\tlearn: 0.1415505\ttest: 0.1532074\tbest: 0.1531944 (392)\ttotal: 6m 8s\tremaining: 9m 26s\n",
      "394:\tlearn: 0.1415461\ttest: 0.1532028\tbest: 0.1531944 (392)\ttotal: 6m 9s\tremaining: 9m 25s\n",
      "395:\tlearn: 0.1415429\ttest: 0.1532032\tbest: 0.1531944 (392)\ttotal: 6m 9s\tremaining: 9m 23s\n",
      "396:\tlearn: 0.1415234\ttest: 0.1531894\tbest: 0.1531894 (396)\ttotal: 6m 10s\tremaining: 9m 22s\n",
      "397:\tlearn: 0.1415232\ttest: 0.1531892\tbest: 0.1531892 (397)\ttotal: 6m 10s\tremaining: 9m 20s\n",
      "398:\tlearn: 0.1414906\ttest: 0.1531697\tbest: 0.1531697 (398)\ttotal: 6m 12s\tremaining: 9m 20s\n",
      "399:\tlearn: 0.1414080\ttest: 0.1531216\tbest: 0.1531216 (399)\ttotal: 6m 13s\tremaining: 9m 20s\n",
      "400:\tlearn: 0.1413988\ttest: 0.1531219\tbest: 0.1531216 (399)\ttotal: 6m 14s\tremaining: 9m 19s\n",
      "401:\tlearn: 0.1413988\ttest: 0.1531220\tbest: 0.1531216 (399)\ttotal: 6m 14s\tremaining: 9m 17s\n",
      "402:\tlearn: 0.1413851\ttest: 0.1531216\tbest: 0.1531216 (402)\ttotal: 6m 16s\tremaining: 9m 17s\n",
      "403:\tlearn: 0.1413823\ttest: 0.1531188\tbest: 0.1531188 (403)\ttotal: 6m 16s\tremaining: 9m 15s\n",
      "404:\tlearn: 0.1413779\ttest: 0.1531165\tbest: 0.1531165 (404)\ttotal: 6m 17s\tremaining: 9m 13s\n",
      "405:\tlearn: 0.1413451\ttest: 0.1530719\tbest: 0.1530719 (405)\ttotal: 6m 17s\tremaining: 9m 12s\n",
      "406:\tlearn: 0.1413443\ttest: 0.1530724\tbest: 0.1530719 (405)\ttotal: 6m 17s\tremaining: 9m 10s\n",
      "407:\tlearn: 0.1413413\ttest: 0.1530752\tbest: 0.1530719 (405)\ttotal: 6m 18s\tremaining: 9m 8s\n",
      "408:\tlearn: 0.1413411\ttest: 0.1530746\tbest: 0.1530719 (405)\ttotal: 6m 18s\tremaining: 9m 6s\n",
      "409:\tlearn: 0.1412954\ttest: 0.1530598\tbest: 0.1530598 (409)\ttotal: 6m 19s\tremaining: 9m 6s\n",
      "410:\tlearn: 0.1412918\ttest: 0.1530539\tbest: 0.1530539 (410)\ttotal: 6m 20s\tremaining: 9m 5s\n",
      "411:\tlearn: 0.1412274\ttest: 0.1530333\tbest: 0.1530333 (411)\ttotal: 6m 21s\tremaining: 9m 4s\n",
      "412:\tlearn: 0.1411631\ttest: 0.1529950\tbest: 0.1529950 (412)\ttotal: 6m 23s\tremaining: 9m 4s\n",
      "413:\tlearn: 0.1411355\ttest: 0.1529842\tbest: 0.1529842 (413)\ttotal: 6m 24s\tremaining: 9m 3s\n",
      "414:\tlearn: 0.1411125\ttest: 0.1529779\tbest: 0.1529779 (414)\ttotal: 6m 25s\tremaining: 9m 3s\n",
      "415:\tlearn: 0.1411053\ttest: 0.1529749\tbest: 0.1529749 (415)\ttotal: 6m 26s\tremaining: 9m 2s\n",
      "416:\tlearn: 0.1410998\ttest: 0.1529749\tbest: 0.1529749 (415)\ttotal: 6m 26s\tremaining: 9m\n",
      "417:\tlearn: 0.1410797\ttest: 0.1529619\tbest: 0.1529619 (417)\ttotal: 6m 28s\tremaining: 9m\n",
      "418:\tlearn: 0.1410783\ttest: 0.1529607\tbest: 0.1529607 (418)\ttotal: 6m 28s\tremaining: 8m 58s\n",
      "419:\tlearn: 0.1410779\ttest: 0.1529602\tbest: 0.1529602 (419)\ttotal: 6m 28s\tremaining: 8m 56s\n",
      "420:\tlearn: 0.1410708\ttest: 0.1529610\tbest: 0.1529602 (419)\ttotal: 6m 29s\tremaining: 8m 55s\n",
      "421:\tlearn: 0.1410412\ttest: 0.1529693\tbest: 0.1529602 (419)\ttotal: 6m 31s\tremaining: 8m 55s\n",
      "422:\tlearn: 0.1410401\ttest: 0.1529678\tbest: 0.1529602 (419)\ttotal: 6m 31s\tremaining: 8m 53s\n",
      "423:\tlearn: 0.1410143\ttest: 0.1529524\tbest: 0.1529524 (423)\ttotal: 6m 31s\tremaining: 8m 52s\n",
      "424:\tlearn: 0.1410141\ttest: 0.1529520\tbest: 0.1529520 (424)\ttotal: 6m 32s\tremaining: 8m 50s\n",
      "425:\tlearn: 0.1410083\ttest: 0.1529510\tbest: 0.1529510 (425)\ttotal: 6m 32s\tremaining: 8m 49s\n",
      "426:\tlearn: 0.1409724\ttest: 0.1529383\tbest: 0.1529383 (426)\ttotal: 6m 33s\tremaining: 8m 48s\n",
      "427:\tlearn: 0.1409722\ttest: 0.1529373\tbest: 0.1529373 (427)\ttotal: 6m 34s\tremaining: 8m 46s\n",
      "428:\tlearn: 0.1409543\ttest: 0.1529358\tbest: 0.1529358 (428)\ttotal: 6m 35s\tremaining: 8m 46s\n",
      "429:\tlearn: 0.1409517\ttest: 0.1529319\tbest: 0.1529319 (429)\ttotal: 6m 35s\tremaining: 8m 44s\n",
      "430:\tlearn: 0.1409277\ttest: 0.1529216\tbest: 0.1529216 (430)\ttotal: 6m 36s\tremaining: 8m 43s\n",
      "431:\tlearn: 0.1409173\ttest: 0.1529158\tbest: 0.1529158 (431)\ttotal: 6m 36s\tremaining: 8m 41s\n",
      "432:\tlearn: 0.1408964\ttest: 0.1529163\tbest: 0.1529158 (431)\ttotal: 6m 38s\tremaining: 8m 41s\n",
      "433:\tlearn: 0.1408478\ttest: 0.1528988\tbest: 0.1528988 (433)\ttotal: 6m 40s\tremaining: 8m 42s\n",
      "434:\tlearn: 0.1408330\ttest: 0.1528874\tbest: 0.1528874 (434)\ttotal: 6m 41s\tremaining: 8m 41s\n",
      "435:\tlearn: 0.1407999\ttest: 0.1528830\tbest: 0.1528830 (435)\ttotal: 6m 43s\tremaining: 8m 41s\n",
      "436:\tlearn: 0.1407996\ttest: 0.1528815\tbest: 0.1528815 (436)\ttotal: 6m 43s\tremaining: 8m 40s\n",
      "437:\tlearn: 0.1407996\ttest: 0.1528814\tbest: 0.1528814 (437)\ttotal: 6m 44s\tremaining: 8m 38s\n",
      "438:\tlearn: 0.1407787\ttest: 0.1528662\tbest: 0.1528662 (438)\ttotal: 6m 44s\tremaining: 8m 37s\n",
      "439:\tlearn: 0.1407581\ttest: 0.1528585\tbest: 0.1528585 (439)\ttotal: 6m 46s\tremaining: 8m 37s\n",
      "440:\tlearn: 0.1407581\ttest: 0.1528585\tbest: 0.1528585 (440)\ttotal: 6m 47s\tremaining: 8m 36s\n",
      "441:\tlearn: 0.1407526\ttest: 0.1528565\tbest: 0.1528565 (441)\ttotal: 6m 48s\tremaining: 8m 35s\n",
      "442:\tlearn: 0.1407177\ttest: 0.1528529\tbest: 0.1528529 (442)\ttotal: 6m 49s\tremaining: 8m 34s\n",
      "443:\tlearn: 0.1407174\ttest: 0.1528528\tbest: 0.1528528 (443)\ttotal: 6m 49s\tremaining: 8m 32s\n",
      "444:\tlearn: 0.1407152\ttest: 0.1528522\tbest: 0.1528522 (444)\ttotal: 6m 50s\tremaining: 8m 31s\n",
      "445:\tlearn: 0.1407127\ttest: 0.1528520\tbest: 0.1528520 (445)\ttotal: 6m 51s\tremaining: 8m 30s\n",
      "446:\tlearn: 0.1407059\ttest: 0.1528512\tbest: 0.1528512 (446)\ttotal: 6m 51s\tremaining: 8m 29s\n",
      "447:\tlearn: 0.1407059\ttest: 0.1528512\tbest: 0.1528512 (446)\ttotal: 6m 52s\tremaining: 8m 27s\n"
     ]
    },
    {
     "name": "stdout",
     "output_type": "stream",
     "text": [
      "448:\tlearn: 0.1406710\ttest: 0.1528352\tbest: 0.1528352 (448)\ttotal: 6m 54s\tremaining: 8m 28s\n",
      "449:\tlearn: 0.1406585\ttest: 0.1528356\tbest: 0.1528352 (448)\ttotal: 6m 54s\tremaining: 8m 26s\n",
      "450:\tlearn: 0.1406584\ttest: 0.1528358\tbest: 0.1528352 (448)\ttotal: 6m 55s\tremaining: 8m 25s\n",
      "451:\tlearn: 0.1406202\ttest: 0.1528347\tbest: 0.1528347 (451)\ttotal: 6m 57s\tremaining: 8m 26s\n",
      "452:\tlearn: 0.1406165\ttest: 0.1528330\tbest: 0.1528330 (452)\ttotal: 6m 58s\tremaining: 8m 24s\n",
      "453:\tlearn: 0.1406092\ttest: 0.1528271\tbest: 0.1528271 (453)\ttotal: 6m 58s\tremaining: 8m 23s\n",
      "454:\tlearn: 0.1405420\ttest: 0.1528163\tbest: 0.1528163 (454)\ttotal: 7m\tremaining: 8m 23s\n",
      "455:\tlearn: 0.1405418\ttest: 0.1528162\tbest: 0.1528162 (455)\ttotal: 7m\tremaining: 8m 22s\n",
      "456:\tlearn: 0.1405329\ttest: 0.1528182\tbest: 0.1528162 (455)\ttotal: 7m 1s\tremaining: 8m 20s\n",
      "457:\tlearn: 0.1405159\ttest: 0.1528112\tbest: 0.1528112 (457)\ttotal: 7m 2s\tremaining: 8m 19s\n",
      "458:\tlearn: 0.1404815\ttest: 0.1528008\tbest: 0.1528008 (458)\ttotal: 7m 3s\tremaining: 8m 19s\n",
      "459:\tlearn: 0.1404414\ttest: 0.1527982\tbest: 0.1527982 (459)\ttotal: 7m 4s\tremaining: 8m 18s\n",
      "460:\tlearn: 0.1404229\ttest: 0.1527831\tbest: 0.1527831 (460)\ttotal: 7m 6s\tremaining: 8m 18s\n",
      "461:\tlearn: 0.1403791\ttest: 0.1527704\tbest: 0.1527704 (461)\ttotal: 7m 7s\tremaining: 8m 18s\n",
      "462:\tlearn: 0.1403576\ttest: 0.1527711\tbest: 0.1527704 (461)\ttotal: 7m 8s\tremaining: 8m 16s\n",
      "463:\tlearn: 0.1403462\ttest: 0.1527669\tbest: 0.1527669 (463)\ttotal: 7m 8s\tremaining: 8m 15s\n",
      "464:\tlearn: 0.1402814\ttest: 0.1527770\tbest: 0.1527669 (463)\ttotal: 7m 10s\tremaining: 8m 14s\n",
      "465:\tlearn: 0.1402802\ttest: 0.1527780\tbest: 0.1527669 (463)\ttotal: 7m 10s\tremaining: 8m 13s\n",
      "466:\tlearn: 0.1402340\ttest: 0.1527495\tbest: 0.1527495 (466)\ttotal: 7m 11s\tremaining: 8m 12s\n",
      "467:\tlearn: 0.1402024\ttest: 0.1527560\tbest: 0.1527495 (466)\ttotal: 7m 13s\tremaining: 8m 12s\n",
      "468:\tlearn: 0.1401859\ttest: 0.1527484\tbest: 0.1527484 (468)\ttotal: 7m 14s\tremaining: 8m 12s\n",
      "469:\tlearn: 0.1400960\ttest: 0.1527155\tbest: 0.1527155 (469)\ttotal: 7m 15s\tremaining: 8m 11s\n",
      "470:\tlearn: 0.1400885\ttest: 0.1527159\tbest: 0.1527155 (469)\ttotal: 7m 16s\tremaining: 8m 10s\n",
      "471:\tlearn: 0.1400879\ttest: 0.1527156\tbest: 0.1527155 (469)\ttotal: 7m 16s\tremaining: 8m 8s\n",
      "472:\tlearn: 0.1400864\ttest: 0.1527151\tbest: 0.1527151 (472)\ttotal: 7m 17s\tremaining: 8m 7s\n",
      "473:\tlearn: 0.1400556\ttest: 0.1527119\tbest: 0.1527119 (473)\ttotal: 7m 18s\tremaining: 8m 6s\n",
      "474:\tlearn: 0.1400480\ttest: 0.1527143\tbest: 0.1527119 (473)\ttotal: 7m 19s\tremaining: 8m 5s\n",
      "475:\tlearn: 0.1400152\ttest: 0.1526917\tbest: 0.1526917 (475)\ttotal: 7m 19s\tremaining: 8m 4s\n",
      "476:\tlearn: 0.1399941\ttest: 0.1526792\tbest: 0.1526792 (476)\ttotal: 7m 20s\tremaining: 8m 2s\n",
      "477:\tlearn: 0.1399656\ttest: 0.1526712\tbest: 0.1526712 (477)\ttotal: 7m 21s\tremaining: 8m 2s\n",
      "478:\tlearn: 0.1399133\ttest: 0.1526913\tbest: 0.1526712 (477)\ttotal: 7m 23s\tremaining: 8m 2s\n",
      "479:\tlearn: 0.1398616\ttest: 0.1526932\tbest: 0.1526712 (477)\ttotal: 7m 24s\tremaining: 8m 2s\n",
      "480:\tlearn: 0.1398372\ttest: 0.1526926\tbest: 0.1526712 (477)\ttotal: 7m 26s\tremaining: 8m 1s\n",
      "481:\tlearn: 0.1398368\ttest: 0.1526909\tbest: 0.1526712 (477)\ttotal: 7m 26s\tremaining: 7m 59s\n",
      "482:\tlearn: 0.1398282\ttest: 0.1526876\tbest: 0.1526712 (477)\ttotal: 7m 27s\tremaining: 7m 58s\n",
      "483:\tlearn: 0.1398265\ttest: 0.1526870\tbest: 0.1526712 (477)\ttotal: 7m 27s\tremaining: 7m 57s\n",
      "484:\tlearn: 0.1398265\ttest: 0.1526870\tbest: 0.1526712 (477)\ttotal: 7m 27s\tremaining: 7m 55s\n",
      "485:\tlearn: 0.1398137\ttest: 0.1526844\tbest: 0.1526712 (477)\ttotal: 7m 28s\tremaining: 7m 54s\n",
      "486:\tlearn: 0.1397701\ttest: 0.1526853\tbest: 0.1526712 (477)\ttotal: 7m 29s\tremaining: 7m 53s\n",
      "487:\tlearn: 0.1397700\ttest: 0.1526856\tbest: 0.1526712 (477)\ttotal: 7m 29s\tremaining: 7m 51s\n",
      "488:\tlearn: 0.1397112\ttest: 0.1526841\tbest: 0.1526712 (477)\ttotal: 7m 31s\tremaining: 7m 51s\n",
      "489:\tlearn: 0.1396893\ttest: 0.1526724\tbest: 0.1526712 (477)\ttotal: 7m 32s\tremaining: 7m 51s\n",
      "490:\tlearn: 0.1396623\ttest: 0.1526592\tbest: 0.1526592 (490)\ttotal: 7m 34s\tremaining: 7m 51s\n",
      "491:\tlearn: 0.1396540\ttest: 0.1526588\tbest: 0.1526588 (491)\ttotal: 7m 35s\tremaining: 7m 49s\n",
      "492:\tlearn: 0.1396497\ttest: 0.1526577\tbest: 0.1526577 (492)\ttotal: 7m 35s\tremaining: 7m 48s\n",
      "493:\tlearn: 0.1396230\ttest: 0.1526391\tbest: 0.1526391 (493)\ttotal: 7m 36s\tremaining: 7m 47s\n",
      "494:\tlearn: 0.1396218\ttest: 0.1526365\tbest: 0.1526365 (494)\ttotal: 7m 36s\tremaining: 7m 45s\n",
      "495:\tlearn: 0.1396217\ttest: 0.1526364\tbest: 0.1526364 (495)\ttotal: 7m 36s\tremaining: 7m 44s\n",
      "496:\tlearn: 0.1396207\ttest: 0.1526357\tbest: 0.1526357 (496)\ttotal: 7m 37s\tremaining: 7m 42s\n",
      "497:\tlearn: 0.1396207\ttest: 0.1526354\tbest: 0.1526354 (497)\ttotal: 7m 37s\tremaining: 7m 40s\n",
      "498:\tlearn: 0.1395724\ttest: 0.1526223\tbest: 0.1526223 (498)\ttotal: 7m 39s\tremaining: 7m 40s\n",
      "499:\tlearn: 0.1395445\ttest: 0.1525992\tbest: 0.1525992 (499)\ttotal: 7m 39s\tremaining: 7m 39s\n",
      "500:\tlearn: 0.1395374\ttest: 0.1525971\tbest: 0.1525971 (500)\ttotal: 7m 40s\tremaining: 7m 38s\n",
      "501:\tlearn: 0.1395374\ttest: 0.1525971\tbest: 0.1525971 (501)\ttotal: 7m 40s\tremaining: 7m 36s\n",
      "502:\tlearn: 0.1395074\ttest: 0.1525922\tbest: 0.1525922 (502)\ttotal: 7m 42s\tremaining: 7m 36s\n",
      "503:\tlearn: 0.1394981\ttest: 0.1525938\tbest: 0.1525922 (502)\ttotal: 7m 43s\tremaining: 7m 35s\n",
      "504:\tlearn: 0.1394959\ttest: 0.1525983\tbest: 0.1525922 (502)\ttotal: 7m 43s\tremaining: 7m 34s\n",
      "505:\tlearn: 0.1394959\ttest: 0.1525983\tbest: 0.1525922 (502)\ttotal: 7m 44s\tremaining: 7m 33s\n",
      "506:\tlearn: 0.1394423\ttest: 0.1525824\tbest: 0.1525824 (506)\ttotal: 7m 45s\tremaining: 7m 32s\n",
      "507:\tlearn: 0.1394394\ttest: 0.1525816\tbest: 0.1525816 (507)\ttotal: 7m 46s\tremaining: 7m 31s\n",
      "508:\tlearn: 0.1394394\ttest: 0.1525816\tbest: 0.1525816 (507)\ttotal: 7m 46s\tremaining: 7m 29s\n",
      "509:\tlearn: 0.1394322\ttest: 0.1525814\tbest: 0.1525814 (509)\ttotal: 7m 47s\tremaining: 7m 28s\n",
      "510:\tlearn: 0.1394019\ttest: 0.1525784\tbest: 0.1525784 (510)\ttotal: 7m 48s\tremaining: 7m 28s\n",
      "511:\tlearn: 0.1393584\ttest: 0.1525771\tbest: 0.1525771 (511)\ttotal: 7m 50s\tremaining: 7m 28s\n",
      "512:\tlearn: 0.1393524\ttest: 0.1525806\tbest: 0.1525771 (511)\ttotal: 7m 51s\tremaining: 7m 27s\n",
      "513:\tlearn: 0.1393466\ttest: 0.1525728\tbest: 0.1525728 (513)\ttotal: 7m 51s\tremaining: 7m 26s\n",
      "514:\tlearn: 0.1393455\ttest: 0.1525715\tbest: 0.1525715 (514)\ttotal: 7m 52s\tremaining: 7m 24s\n",
      "515:\tlearn: 0.1393365\ttest: 0.1525708\tbest: 0.1525708 (515)\ttotal: 7m 52s\tremaining: 7m 23s\n",
      "516:\tlearn: 0.1392977\ttest: 0.1525273\tbest: 0.1525273 (516)\ttotal: 7m 53s\tremaining: 7m 22s\n",
      "517:\tlearn: 0.1392911\ttest: 0.1525278\tbest: 0.1525273 (516)\ttotal: 7m 54s\tremaining: 7m 21s\n",
      "518:\tlearn: 0.1392908\ttest: 0.1525277\tbest: 0.1525273 (516)\ttotal: 7m 54s\tremaining: 7m 19s\n",
      "519:\tlearn: 0.1392908\ttest: 0.1525277\tbest: 0.1525273 (516)\ttotal: 7m 54s\tremaining: 7m 18s\n",
      "520:\tlearn: 0.1392893\ttest: 0.1525282\tbest: 0.1525273 (516)\ttotal: 7m 55s\tremaining: 7m 17s\n",
      "521:\tlearn: 0.1392496\ttest: 0.1524985\tbest: 0.1524985 (521)\ttotal: 7m 56s\tremaining: 7m 16s\n",
      "522:\tlearn: 0.1392140\ttest: 0.1524802\tbest: 0.1524802 (522)\ttotal: 7m 57s\tremaining: 7m 15s\n",
      "523:\tlearn: 0.1391452\ttest: 0.1524236\tbest: 0.1524236 (523)\ttotal: 7m 59s\tremaining: 7m 15s\n",
      "524:\tlearn: 0.1391452\ttest: 0.1524235\tbest: 0.1524235 (524)\ttotal: 7m 59s\tremaining: 7m 14s\n",
      "525:\tlearn: 0.1391282\ttest: 0.1524125\tbest: 0.1524125 (525)\ttotal: 8m 1s\tremaining: 7m 13s\n",
      "526:\tlearn: 0.1391188\ttest: 0.1524125\tbest: 0.1524125 (526)\ttotal: 8m 1s\tremaining: 7m 12s\n",
      "527:\tlearn: 0.1390999\ttest: 0.1524141\tbest: 0.1524125 (526)\ttotal: 8m 2s\tremaining: 7m 11s\n",
      "528:\tlearn: 0.1390849\ttest: 0.1524084\tbest: 0.1524084 (528)\ttotal: 8m 2s\tremaining: 7m 9s\n",
      "529:\tlearn: 0.1390423\ttest: 0.1524000\tbest: 0.1524000 (529)\ttotal: 8m 4s\tremaining: 7m 9s\n",
      "530:\tlearn: 0.1390361\ttest: 0.1523981\tbest: 0.1523981 (530)\ttotal: 8m 5s\tremaining: 7m 8s\n",
      "531:\tlearn: 0.1389819\ttest: 0.1523979\tbest: 0.1523979 (531)\ttotal: 8m 7s\tremaining: 7m 8s\n",
      "532:\tlearn: 0.1389783\ttest: 0.1523950\tbest: 0.1523950 (532)\ttotal: 8m 7s\tremaining: 7m 7s\n",
      "533:\tlearn: 0.1389783\ttest: 0.1523950\tbest: 0.1523950 (532)\ttotal: 8m 8s\tremaining: 7m 5s\n",
      "534:\tlearn: 0.1389773\ttest: 0.1523954\tbest: 0.1523950 (532)\ttotal: 8m 8s\tremaining: 7m 4s\n",
      "535:\tlearn: 0.1389690\ttest: 0.1523914\tbest: 0.1523914 (535)\ttotal: 8m 9s\tremaining: 7m 3s\n",
      "536:\tlearn: 0.1389615\ttest: 0.1523884\tbest: 0.1523884 (536)\ttotal: 8m 9s\tremaining: 7m 2s\n",
      "537:\tlearn: 0.1388969\ttest: 0.1523843\tbest: 0.1523843 (537)\ttotal: 8m 12s\tremaining: 7m 2s\n"
     ]
    },
    {
     "name": "stdout",
     "output_type": "stream",
     "text": [
      "538:\tlearn: 0.1388820\ttest: 0.1523831\tbest: 0.1523831 (538)\ttotal: 8m 13s\tremaining: 7m 2s\n",
      "539:\tlearn: 0.1387585\ttest: 0.1523410\tbest: 0.1523410 (539)\ttotal: 8m 15s\tremaining: 7m 1s\n",
      "540:\tlearn: 0.1387584\ttest: 0.1523408\tbest: 0.1523408 (540)\ttotal: 8m 15s\tremaining: 7m\n",
      "541:\tlearn: 0.1387556\ttest: 0.1523420\tbest: 0.1523408 (540)\ttotal: 8m 16s\tremaining: 6m 59s\n",
      "542:\tlearn: 0.1387556\ttest: 0.1523420\tbest: 0.1523408 (540)\ttotal: 8m 16s\tremaining: 6m 57s\n",
      "543:\tlearn: 0.1387456\ttest: 0.1523445\tbest: 0.1523408 (540)\ttotal: 8m 18s\tremaining: 6m 58s\n",
      "544:\tlearn: 0.1386944\ttest: 0.1523376\tbest: 0.1523376 (544)\ttotal: 8m 20s\tremaining: 6m 58s\n",
      "545:\tlearn: 0.1386917\ttest: 0.1523329\tbest: 0.1523329 (545)\ttotal: 8m 21s\tremaining: 6m 56s\n",
      "546:\tlearn: 0.1386917\ttest: 0.1523329\tbest: 0.1523329 (546)\ttotal: 8m 21s\tremaining: 6m 55s\n",
      "547:\tlearn: 0.1386641\ttest: 0.1523253\tbest: 0.1523253 (547)\ttotal: 8m 22s\tremaining: 6m 54s\n",
      "548:\tlearn: 0.1386545\ttest: 0.1523209\tbest: 0.1523209 (548)\ttotal: 8m 23s\tremaining: 6m 53s\n",
      "549:\tlearn: 0.1385958\ttest: 0.1523122\tbest: 0.1523122 (549)\ttotal: 8m 24s\tremaining: 6m 53s\n",
      "550:\tlearn: 0.1385952\ttest: 0.1523126\tbest: 0.1523122 (549)\ttotal: 8m 25s\tremaining: 6m 51s\n",
      "551:\tlearn: 0.1385950\ttest: 0.1523115\tbest: 0.1523115 (551)\ttotal: 8m 25s\tremaining: 6m 50s\n",
      "552:\tlearn: 0.1385949\ttest: 0.1523114\tbest: 0.1523114 (552)\ttotal: 8m 26s\tremaining: 6m 49s\n",
      "553:\tlearn: 0.1385605\ttest: 0.1522972\tbest: 0.1522972 (553)\ttotal: 8m 27s\tremaining: 6m 48s\n",
      "554:\tlearn: 0.1385521\ttest: 0.1522991\tbest: 0.1522972 (553)\ttotal: 8m 28s\tremaining: 6m 47s\n",
      "555:\tlearn: 0.1385288\ttest: 0.1522981\tbest: 0.1522972 (553)\ttotal: 8m 28s\tremaining: 6m 46s\n",
      "556:\tlearn: 0.1385191\ttest: 0.1522996\tbest: 0.1522972 (553)\ttotal: 8m 29s\tremaining: 6m 45s\n",
      "557:\tlearn: 0.1384804\ttest: 0.1522795\tbest: 0.1522795 (557)\ttotal: 8m 30s\tremaining: 6m 44s\n",
      "558:\tlearn: 0.1384795\ttest: 0.1522767\tbest: 0.1522767 (558)\ttotal: 8m 31s\tremaining: 6m 43s\n",
      "559:\tlearn: 0.1384795\ttest: 0.1522767\tbest: 0.1522767 (559)\ttotal: 8m 31s\tremaining: 6m 41s\n",
      "560:\tlearn: 0.1383978\ttest: 0.1522606\tbest: 0.1522606 (560)\ttotal: 8m 32s\tremaining: 6m 40s\n",
      "561:\tlearn: 0.1383623\ttest: 0.1522496\tbest: 0.1522496 (561)\ttotal: 8m 33s\tremaining: 6m 40s\n",
      "562:\tlearn: 0.1383140\ttest: 0.1522314\tbest: 0.1522314 (562)\ttotal: 8m 35s\tremaining: 6m 40s\n",
      "563:\tlearn: 0.1382694\ttest: 0.1521940\tbest: 0.1521940 (563)\ttotal: 8m 36s\tremaining: 6m 39s\n",
      "564:\tlearn: 0.1382694\ttest: 0.1521940\tbest: 0.1521940 (564)\ttotal: 8m 36s\tremaining: 6m 37s\n",
      "565:\tlearn: 0.1382623\ttest: 0.1522021\tbest: 0.1521940 (564)\ttotal: 8m 37s\tremaining: 6m 36s\n",
      "566:\tlearn: 0.1382461\ttest: 0.1522137\tbest: 0.1521940 (564)\ttotal: 8m 38s\tremaining: 6m 36s\n",
      "567:\tlearn: 0.1382302\ttest: 0.1521907\tbest: 0.1521907 (567)\ttotal: 8m 40s\tremaining: 6m 35s\n",
      "568:\tlearn: 0.1382094\ttest: 0.1521771\tbest: 0.1521771 (568)\ttotal: 8m 40s\tremaining: 6m 34s\n",
      "569:\tlearn: 0.1382024\ttest: 0.1521760\tbest: 0.1521760 (569)\ttotal: 8m 41s\tremaining: 6m 33s\n",
      "570:\tlearn: 0.1381991\ttest: 0.1521793\tbest: 0.1521760 (569)\ttotal: 8m 41s\tremaining: 6m 31s\n",
      "571:\tlearn: 0.1381871\ttest: 0.1521791\tbest: 0.1521760 (569)\ttotal: 8m 42s\tremaining: 6m 30s\n",
      "572:\tlearn: 0.1381863\ttest: 0.1521791\tbest: 0.1521760 (569)\ttotal: 8m 42s\tremaining: 6m 29s\n",
      "573:\tlearn: 0.1381853\ttest: 0.1521789\tbest: 0.1521760 (569)\ttotal: 8m 42s\tremaining: 6m 28s\n",
      "574:\tlearn: 0.1381853\ttest: 0.1521788\tbest: 0.1521760 (569)\ttotal: 8m 43s\tremaining: 6m 26s\n",
      "575:\tlearn: 0.1381783\ttest: 0.1521746\tbest: 0.1521746 (575)\ttotal: 8m 43s\tremaining: 6m 25s\n",
      "576:\tlearn: 0.1381687\ttest: 0.1521824\tbest: 0.1521746 (575)\ttotal: 8m 44s\tremaining: 6m 24s\n",
      "577:\tlearn: 0.1381683\ttest: 0.1521838\tbest: 0.1521746 (575)\ttotal: 8m 44s\tremaining: 6m 23s\n",
      "578:\tlearn: 0.1381490\ttest: 0.1521700\tbest: 0.1521700 (578)\ttotal: 8m 45s\tremaining: 6m 21s\n",
      "579:\tlearn: 0.1381477\ttest: 0.1521696\tbest: 0.1521696 (579)\ttotal: 8m 45s\tremaining: 6m 20s\n",
      "580:\tlearn: 0.1381000\ttest: 0.1521498\tbest: 0.1521498 (580)\ttotal: 8m 46s\tremaining: 6m 20s\n",
      "581:\tlearn: 0.1380845\ttest: 0.1521500\tbest: 0.1521498 (580)\ttotal: 8m 48s\tremaining: 6m 19s\n",
      "582:\tlearn: 0.1380557\ttest: 0.1521407\tbest: 0.1521407 (582)\ttotal: 8m 49s\tremaining: 6m 18s\n",
      "583:\tlearn: 0.1380555\ttest: 0.1521410\tbest: 0.1521407 (582)\ttotal: 8m 50s\tremaining: 6m 17s\n",
      "584:\tlearn: 0.1380219\ttest: 0.1521323\tbest: 0.1521323 (584)\ttotal: 8m 51s\tremaining: 6m 17s\n",
      "585:\tlearn: 0.1379772\ttest: 0.1521222\tbest: 0.1521222 (585)\ttotal: 8m 53s\tremaining: 6m 16s\n",
      "586:\tlearn: 0.1379766\ttest: 0.1521234\tbest: 0.1521222 (585)\ttotal: 8m 53s\tremaining: 6m 15s\n",
      "587:\tlearn: 0.1379507\ttest: 0.1521270\tbest: 0.1521222 (585)\ttotal: 8m 54s\tremaining: 6m 14s\n",
      "588:\tlearn: 0.1379179\ttest: 0.1521181\tbest: 0.1521181 (588)\ttotal: 8m 55s\tremaining: 6m 13s\n",
      "589:\tlearn: 0.1379117\ttest: 0.1521163\tbest: 0.1521163 (589)\ttotal: 8m 56s\tremaining: 6m 12s\n",
      "590:\tlearn: 0.1378523\ttest: 0.1520569\tbest: 0.1520569 (590)\ttotal: 8m 57s\tremaining: 6m 12s\n",
      "591:\tlearn: 0.1378523\ttest: 0.1520569\tbest: 0.1520569 (591)\ttotal: 8m 58s\tremaining: 6m 10s\n",
      "592:\tlearn: 0.1378523\ttest: 0.1520568\tbest: 0.1520568 (592)\ttotal: 8m 58s\tremaining: 6m 9s\n",
      "593:\tlearn: 0.1378440\ttest: 0.1520590\tbest: 0.1520568 (592)\ttotal: 8m 58s\tremaining: 6m 8s\n",
      "594:\tlearn: 0.1378297\ttest: 0.1520546\tbest: 0.1520546 (594)\ttotal: 9m\tremaining: 6m 7s\n",
      "595:\tlearn: 0.1378187\ttest: 0.1520441\tbest: 0.1520441 (595)\ttotal: 9m\tremaining: 6m 6s\n",
      "596:\tlearn: 0.1378047\ttest: 0.1520267\tbest: 0.1520267 (596)\ttotal: 9m 1s\tremaining: 6m 5s\n",
      "597:\tlearn: 0.1378030\ttest: 0.1520234\tbest: 0.1520234 (597)\ttotal: 9m 1s\tremaining: 6m 4s\n",
      "598:\tlearn: 0.1377890\ttest: 0.1520295\tbest: 0.1520234 (597)\ttotal: 9m 2s\tremaining: 6m 3s\n",
      "599:\tlearn: 0.1377889\ttest: 0.1520294\tbest: 0.1520234 (597)\ttotal: 9m 2s\tremaining: 6m 1s\n",
      "600:\tlearn: 0.1377358\ttest: 0.1520149\tbest: 0.1520149 (600)\ttotal: 9m 4s\tremaining: 6m 1s\n",
      "601:\tlearn: 0.1377357\ttest: 0.1520149\tbest: 0.1520149 (600)\ttotal: 9m 4s\tremaining: 5m 59s\n",
      "602:\tlearn: 0.1377301\ttest: 0.1520147\tbest: 0.1520147 (602)\ttotal: 9m 4s\tremaining: 5m 58s\n",
      "603:\tlearn: 0.1377290\ttest: 0.1520131\tbest: 0.1520131 (603)\ttotal: 9m 5s\tremaining: 5m 57s\n",
      "604:\tlearn: 0.1377160\ttest: 0.1520114\tbest: 0.1520114 (604)\ttotal: 9m 6s\tremaining: 5m 56s\n",
      "605:\tlearn: 0.1377133\ttest: 0.1520140\tbest: 0.1520114 (604)\ttotal: 9m 6s\tremaining: 5m 55s\n",
      "606:\tlearn: 0.1376405\ttest: 0.1520253\tbest: 0.1520114 (604)\ttotal: 9m 8s\tremaining: 5m 55s\n",
      "607:\tlearn: 0.1375781\ttest: 0.1520227\tbest: 0.1520114 (604)\ttotal: 9m 9s\tremaining: 5m 54s\n",
      "608:\tlearn: 0.1375744\ttest: 0.1520195\tbest: 0.1520114 (604)\ttotal: 9m 10s\tremaining: 5m 53s\n",
      "609:\tlearn: 0.1375688\ttest: 0.1520228\tbest: 0.1520114 (604)\ttotal: 9m 10s\tremaining: 5m 52s\n",
      "610:\tlearn: 0.1375634\ttest: 0.1520240\tbest: 0.1520114 (604)\ttotal: 9m 12s\tremaining: 5m 51s\n",
      "611:\tlearn: 0.1375629\ttest: 0.1520249\tbest: 0.1520114 (604)\ttotal: 9m 12s\tremaining: 5m 50s\n",
      "612:\tlearn: 0.1375629\ttest: 0.1520249\tbest: 0.1520114 (604)\ttotal: 9m 12s\tremaining: 5m 48s\n",
      "613:\tlearn: 0.1375625\ttest: 0.1520256\tbest: 0.1520114 (604)\ttotal: 9m 12s\tremaining: 5m 47s\n",
      "614:\tlearn: 0.1375326\ttest: 0.1520316\tbest: 0.1520114 (604)\ttotal: 9m 14s\tremaining: 5m 46s\n",
      "615:\tlearn: 0.1375312\ttest: 0.1520300\tbest: 0.1520114 (604)\ttotal: 9m 14s\tremaining: 5m 45s\n",
      "616:\tlearn: 0.1375308\ttest: 0.1520295\tbest: 0.1520114 (604)\ttotal: 9m 15s\tremaining: 5m 44s\n",
      "617:\tlearn: 0.1375152\ttest: 0.1520231\tbest: 0.1520114 (604)\ttotal: 9m 16s\tremaining: 5m 43s\n",
      "618:\tlearn: 0.1374483\ttest: 0.1520162\tbest: 0.1520114 (604)\ttotal: 9m 17s\tremaining: 5m 43s\n",
      "619:\tlearn: 0.1374478\ttest: 0.1520156\tbest: 0.1520114 (604)\ttotal: 9m 18s\tremaining: 5m 42s\n",
      "620:\tlearn: 0.1373886\ttest: 0.1520079\tbest: 0.1520079 (620)\ttotal: 9m 19s\tremaining: 5m 41s\n",
      "621:\tlearn: 0.1373555\ttest: 0.1520250\tbest: 0.1520079 (620)\ttotal: 9m 21s\tremaining: 5m 41s\n",
      "622:\tlearn: 0.1373483\ttest: 0.1520210\tbest: 0.1520079 (620)\ttotal: 9m 21s\tremaining: 5m 40s\n",
      "623:\tlearn: 0.1373260\ttest: 0.1520147\tbest: 0.1520079 (620)\ttotal: 9m 23s\tremaining: 5m 39s\n",
      "624:\tlearn: 0.1373244\ttest: 0.1520171\tbest: 0.1520079 (620)\ttotal: 9m 23s\tremaining: 5m 38s\n",
      "625:\tlearn: 0.1373057\ttest: 0.1520155\tbest: 0.1520079 (620)\ttotal: 9m 24s\tremaining: 5m 37s\n",
      "626:\tlearn: 0.1373025\ttest: 0.1520127\tbest: 0.1520079 (620)\ttotal: 9m 24s\tremaining: 5m 35s\n",
      "627:\tlearn: 0.1372474\ttest: 0.1519896\tbest: 0.1519896 (627)\ttotal: 9m 25s\tremaining: 5m 35s\n"
     ]
    },
    {
     "name": "stdout",
     "output_type": "stream",
     "text": [
      "628:\tlearn: 0.1372446\ttest: 0.1519901\tbest: 0.1519896 (627)\ttotal: 9m 26s\tremaining: 5m 33s\n",
      "629:\tlearn: 0.1372091\ttest: 0.1519921\tbest: 0.1519896 (627)\ttotal: 9m 27s\tremaining: 5m 33s\n",
      "630:\tlearn: 0.1372059\ttest: 0.1519930\tbest: 0.1519896 (627)\ttotal: 9m 28s\tremaining: 5m 32s\n",
      "631:\tlearn: 0.1371794\ttest: 0.1519927\tbest: 0.1519896 (627)\ttotal: 9m 31s\tremaining: 5m 32s\n",
      "632:\tlearn: 0.1371645\ttest: 0.1519840\tbest: 0.1519840 (632)\ttotal: 9m 33s\tremaining: 5m 32s\n",
      "633:\tlearn: 0.1371471\ttest: 0.1519900\tbest: 0.1519840 (632)\ttotal: 9m 34s\tremaining: 5m 31s\n",
      "634:\tlearn: 0.1371353\ttest: 0.1519899\tbest: 0.1519840 (632)\ttotal: 9m 35s\tremaining: 5m 30s\n",
      "635:\tlearn: 0.1371289\ttest: 0.1519958\tbest: 0.1519840 (632)\ttotal: 9m 37s\tremaining: 5m 30s\n",
      "636:\tlearn: 0.1371280\ttest: 0.1519957\tbest: 0.1519840 (632)\ttotal: 9m 37s\tremaining: 5m 29s\n",
      "637:\tlearn: 0.1371162\ttest: 0.1519915\tbest: 0.1519840 (632)\ttotal: 9m 38s\tremaining: 5m 28s\n",
      "638:\tlearn: 0.1371064\ttest: 0.1519838\tbest: 0.1519838 (638)\ttotal: 9m 38s\tremaining: 5m 26s\n",
      "639:\tlearn: 0.1371061\ttest: 0.1519833\tbest: 0.1519833 (639)\ttotal: 9m 39s\tremaining: 5m 25s\n",
      "640:\tlearn: 0.1370391\ttest: 0.1519756\tbest: 0.1519756 (640)\ttotal: 9m 40s\tremaining: 5m 25s\n",
      "641:\tlearn: 0.1369989\ttest: 0.1519656\tbest: 0.1519656 (641)\ttotal: 9m 42s\tremaining: 5m 24s\n",
      "642:\tlearn: 0.1369984\ttest: 0.1519658\tbest: 0.1519656 (641)\ttotal: 9m 42s\tremaining: 5m 23s\n",
      "643:\tlearn: 0.1369820\ttest: 0.1519609\tbest: 0.1519609 (643)\ttotal: 9m 43s\tremaining: 5m 22s\n",
      "644:\tlearn: 0.1369814\ttest: 0.1519615\tbest: 0.1519609 (643)\ttotal: 9m 43s\tremaining: 5m 21s\n",
      "645:\tlearn: 0.1369249\ttest: 0.1519393\tbest: 0.1519393 (645)\ttotal: 9m 44s\tremaining: 5m 20s\n",
      "646:\tlearn: 0.1369055\ttest: 0.1519385\tbest: 0.1519385 (646)\ttotal: 9m 45s\tremaining: 5m 19s\n",
      "647:\tlearn: 0.1369045\ttest: 0.1519371\tbest: 0.1519371 (647)\ttotal: 9m 46s\tremaining: 5m 18s\n",
      "648:\tlearn: 0.1368685\ttest: 0.1519214\tbest: 0.1519214 (648)\ttotal: 9m 47s\tremaining: 5m 18s\n",
      "649:\tlearn: 0.1368682\ttest: 0.1519224\tbest: 0.1519214 (648)\ttotal: 9m 48s\tremaining: 5m 16s\n",
      "650:\tlearn: 0.1368379\ttest: 0.1519172\tbest: 0.1519172 (650)\ttotal: 9m 49s\tremaining: 5m 16s\n",
      "651:\tlearn: 0.1368375\ttest: 0.1519174\tbest: 0.1519172 (650)\ttotal: 9m 50s\tremaining: 5m 14s\n",
      "652:\tlearn: 0.1367725\ttest: 0.1518994\tbest: 0.1518994 (652)\ttotal: 9m 51s\tremaining: 5m 14s\n",
      "653:\tlearn: 0.1367709\ttest: 0.1518978\tbest: 0.1518978 (653)\ttotal: 9m 51s\tremaining: 5m 13s\n",
      "654:\tlearn: 0.1367611\ttest: 0.1519009\tbest: 0.1518978 (653)\ttotal: 9m 52s\tremaining: 5m 12s\n",
      "655:\tlearn: 0.1367317\ttest: 0.1518942\tbest: 0.1518942 (655)\ttotal: 9m 53s\tremaining: 5m 11s\n",
      "656:\tlearn: 0.1367286\ttest: 0.1518902\tbest: 0.1518902 (656)\ttotal: 9m 54s\tremaining: 5m 10s\n",
      "657:\tlearn: 0.1367121\ttest: 0.1518863\tbest: 0.1518863 (657)\ttotal: 9m 55s\tremaining: 5m 9s\n",
      "658:\tlearn: 0.1367121\ttest: 0.1518863\tbest: 0.1518863 (657)\ttotal: 9m 55s\tremaining: 5m 8s\n",
      "659:\tlearn: 0.1367094\ttest: 0.1518849\tbest: 0.1518849 (659)\ttotal: 9m 55s\tremaining: 5m 6s\n",
      "660:\tlearn: 0.1366979\ttest: 0.1518807\tbest: 0.1518807 (660)\ttotal: 9m 56s\tremaining: 5m 5s\n",
      "661:\tlearn: 0.1366641\ttest: 0.1518757\tbest: 0.1518757 (661)\ttotal: 9m 57s\tremaining: 5m 5s\n",
      "662:\tlearn: 0.1366274\ttest: 0.1518410\tbest: 0.1518410 (662)\ttotal: 9m 59s\tremaining: 5m 4s\n",
      "663:\tlearn: 0.1366225\ttest: 0.1518444\tbest: 0.1518410 (662)\ttotal: 9m 59s\tremaining: 5m 3s\n",
      "664:\tlearn: 0.1366175\ttest: 0.1518431\tbest: 0.1518410 (662)\ttotal: 10m 1s\tremaining: 5m 2s\n",
      "665:\tlearn: 0.1365795\ttest: 0.1518552\tbest: 0.1518410 (662)\ttotal: 10m 2s\tremaining: 5m 2s\n",
      "666:\tlearn: 0.1365672\ttest: 0.1518498\tbest: 0.1518410 (662)\ttotal: 10m 2s\tremaining: 5m\n",
      "667:\tlearn: 0.1365326\ttest: 0.1518314\tbest: 0.1518314 (667)\ttotal: 10m 4s\tremaining: 5m\n",
      "668:\tlearn: 0.1365282\ttest: 0.1518316\tbest: 0.1518314 (667)\ttotal: 10m 4s\tremaining: 4m 59s\n",
      "669:\tlearn: 0.1365282\ttest: 0.1518316\tbest: 0.1518314 (667)\ttotal: 10m 5s\tremaining: 4m 58s\n",
      "670:\tlearn: 0.1365272\ttest: 0.1518326\tbest: 0.1518314 (667)\ttotal: 10m 5s\tremaining: 4m 56s\n",
      "671:\tlearn: 0.1365131\ttest: 0.1518376\tbest: 0.1518314 (667)\ttotal: 10m 6s\tremaining: 4m 56s\n",
      "672:\tlearn: 0.1365124\ttest: 0.1518377\tbest: 0.1518314 (667)\ttotal: 10m 7s\tremaining: 4m 54s\n",
      "673:\tlearn: 0.1364836\ttest: 0.1518222\tbest: 0.1518222 (673)\ttotal: 10m 8s\tremaining: 4m 54s\n",
      "674:\tlearn: 0.1364776\ttest: 0.1518200\tbest: 0.1518200 (674)\ttotal: 10m 8s\tremaining: 4m 53s\n",
      "675:\tlearn: 0.1364632\ttest: 0.1518102\tbest: 0.1518102 (675)\ttotal: 10m 9s\tremaining: 4m 52s\n",
      "676:\tlearn: 0.1364632\ttest: 0.1518101\tbest: 0.1518101 (676)\ttotal: 10m 10s\tremaining: 4m 51s\n",
      "677:\tlearn: 0.1364527\ttest: 0.1517992\tbest: 0.1517992 (677)\ttotal: 10m 11s\tremaining: 4m 50s\n",
      "678:\tlearn: 0.1364524\ttest: 0.1517989\tbest: 0.1517989 (678)\ttotal: 10m 12s\tremaining: 4m 49s\n",
      "679:\tlearn: 0.1364464\ttest: 0.1517964\tbest: 0.1517964 (679)\ttotal: 10m 13s\tremaining: 4m 48s\n",
      "680:\tlearn: 0.1364404\ttest: 0.1517946\tbest: 0.1517946 (680)\ttotal: 10m 14s\tremaining: 4m 47s\n",
      "681:\tlearn: 0.1364079\ttest: 0.1517719\tbest: 0.1517719 (681)\ttotal: 10m 15s\tremaining: 4m 46s\n",
      "682:\tlearn: 0.1363246\ttest: 0.1517735\tbest: 0.1517719 (681)\ttotal: 10m 16s\tremaining: 4m 46s\n",
      "683:\tlearn: 0.1362941\ttest: 0.1517788\tbest: 0.1517719 (681)\ttotal: 10m 18s\tremaining: 4m 45s\n",
      "684:\tlearn: 0.1362239\ttest: 0.1517754\tbest: 0.1517719 (681)\ttotal: 10m 19s\tremaining: 4m 45s\n",
      "685:\tlearn: 0.1362171\ttest: 0.1517720\tbest: 0.1517719 (681)\ttotal: 10m 21s\tremaining: 4m 44s\n",
      "686:\tlearn: 0.1362093\ttest: 0.1517763\tbest: 0.1517719 (681)\ttotal: 10m 22s\tremaining: 4m 43s\n",
      "687:\tlearn: 0.1362091\ttest: 0.1517771\tbest: 0.1517719 (681)\ttotal: 10m 23s\tremaining: 4m 42s\n",
      "688:\tlearn: 0.1362089\ttest: 0.1517772\tbest: 0.1517719 (681)\ttotal: 10m 23s\tremaining: 4m 41s\n",
      "689:\tlearn: 0.1362029\ttest: 0.1517715\tbest: 0.1517715 (689)\ttotal: 10m 23s\tremaining: 4m 40s\n",
      "690:\tlearn: 0.1361905\ttest: 0.1517694\tbest: 0.1517694 (690)\ttotal: 10m 25s\tremaining: 4m 39s\n",
      "691:\tlearn: 0.1361905\ttest: 0.1517694\tbest: 0.1517694 (691)\ttotal: 10m 25s\tremaining: 4m 38s\n",
      "692:\tlearn: 0.1361896\ttest: 0.1517682\tbest: 0.1517682 (692)\ttotal: 10m 26s\tremaining: 4m 37s\n",
      "693:\tlearn: 0.1361726\ttest: 0.1517779\tbest: 0.1517682 (692)\ttotal: 10m 26s\tremaining: 4m 36s\n",
      "694:\tlearn: 0.1361706\ttest: 0.1517770\tbest: 0.1517682 (692)\ttotal: 10m 27s\tremaining: 4m 35s\n",
      "695:\tlearn: 0.1361610\ttest: 0.1517681\tbest: 0.1517681 (695)\ttotal: 10m 27s\tremaining: 4m 34s\n",
      "696:\tlearn: 0.1361495\ttest: 0.1517712\tbest: 0.1517681 (695)\ttotal: 10m 28s\tremaining: 4m 33s\n",
      "697:\tlearn: 0.1361465\ttest: 0.1517720\tbest: 0.1517681 (695)\ttotal: 10m 28s\tremaining: 4m 32s\n",
      "698:\tlearn: 0.1361465\ttest: 0.1517720\tbest: 0.1517681 (695)\ttotal: 10m 28s\tremaining: 4m 30s\n",
      "699:\tlearn: 0.1361143\ttest: 0.1517760\tbest: 0.1517681 (695)\ttotal: 10m 30s\tremaining: 4m 30s\n",
      "700:\tlearn: 0.1360966\ttest: 0.1517756\tbest: 0.1517681 (695)\ttotal: 10m 31s\tremaining: 4m 29s\n",
      "701:\tlearn: 0.1360965\ttest: 0.1517755\tbest: 0.1517681 (695)\ttotal: 10m 31s\tremaining: 4m 28s\n",
      "702:\tlearn: 0.1360888\ttest: 0.1517762\tbest: 0.1517681 (695)\ttotal: 10m 32s\tremaining: 4m 27s\n",
      "703:\tlearn: 0.1360872\ttest: 0.1517767\tbest: 0.1517681 (695)\ttotal: 10m 32s\tremaining: 4m 25s\n",
      "704:\tlearn: 0.1360663\ttest: 0.1517734\tbest: 0.1517681 (695)\ttotal: 10m 33s\tremaining: 4m 24s\n",
      "705:\tlearn: 0.1360620\ttest: 0.1517712\tbest: 0.1517681 (695)\ttotal: 10m 33s\tremaining: 4m 23s\n",
      "706:\tlearn: 0.1360311\ttest: 0.1517786\tbest: 0.1517681 (695)\ttotal: 10m 35s\tremaining: 4m 23s\n",
      "707:\tlearn: 0.1360311\ttest: 0.1517786\tbest: 0.1517681 (695)\ttotal: 10m 35s\tremaining: 4m 22s\n",
      "708:\tlearn: 0.1359926\ttest: 0.1517741\tbest: 0.1517681 (695)\ttotal: 10m 36s\tremaining: 4m 21s\n",
      "709:\tlearn: 0.1359883\ttest: 0.1517766\tbest: 0.1517681 (695)\ttotal: 10m 37s\tremaining: 4m 20s\n",
      "710:\tlearn: 0.1359436\ttest: 0.1517788\tbest: 0.1517681 (695)\ttotal: 10m 38s\tremaining: 4m 19s\n",
      "711:\tlearn: 0.1359436\ttest: 0.1517787\tbest: 0.1517681 (695)\ttotal: 10m 38s\tremaining: 4m 18s\n",
      "712:\tlearn: 0.1359434\ttest: 0.1517778\tbest: 0.1517681 (695)\ttotal: 10m 39s\tremaining: 4m 17s\n",
      "713:\tlearn: 0.1359273\ttest: 0.1517805\tbest: 0.1517681 (695)\ttotal: 10m 39s\tremaining: 4m 16s\n",
      "714:\tlearn: 0.1358952\ttest: 0.1517793\tbest: 0.1517681 (695)\ttotal: 10m 41s\tremaining: 4m 15s\n",
      "715:\tlearn: 0.1358951\ttest: 0.1517795\tbest: 0.1517681 (695)\ttotal: 10m 41s\tremaining: 4m 14s\n",
      "716:\tlearn: 0.1358932\ttest: 0.1517801\tbest: 0.1517681 (695)\ttotal: 10m 41s\tremaining: 4m 13s\n"
     ]
    },
    {
     "name": "stdout",
     "output_type": "stream",
     "text": [
      "717:\tlearn: 0.1358454\ttest: 0.1517538\tbest: 0.1517538 (717)\ttotal: 10m 43s\tremaining: 4m 12s\n",
      "718:\tlearn: 0.1358434\ttest: 0.1517521\tbest: 0.1517521 (718)\ttotal: 10m 44s\tremaining: 4m 11s\n",
      "719:\tlearn: 0.1358433\ttest: 0.1517518\tbest: 0.1517518 (719)\ttotal: 10m 44s\tremaining: 4m 10s\n",
      "720:\tlearn: 0.1358165\ttest: 0.1517417\tbest: 0.1517417 (720)\ttotal: 10m 45s\tremaining: 4m 9s\n",
      "721:\tlearn: 0.1358015\ttest: 0.1517398\tbest: 0.1517398 (721)\ttotal: 10m 46s\tremaining: 4m 8s\n",
      "722:\tlearn: 0.1357875\ttest: 0.1517334\tbest: 0.1517334 (722)\ttotal: 10m 46s\tremaining: 4m 7s\n",
      "723:\tlearn: 0.1357550\ttest: 0.1517240\tbest: 0.1517240 (723)\ttotal: 10m 48s\tremaining: 4m 7s\n",
      "724:\tlearn: 0.1357468\ttest: 0.1517235\tbest: 0.1517235 (724)\ttotal: 10m 48s\tremaining: 4m 6s\n",
      "725:\tlearn: 0.1357112\ttest: 0.1517265\tbest: 0.1517235 (724)\ttotal: 10m 50s\tremaining: 4m 5s\n",
      "726:\tlearn: 0.1357097\ttest: 0.1517262\tbest: 0.1517235 (724)\ttotal: 10m 50s\tremaining: 4m 4s\n",
      "727:\tlearn: 0.1356609\ttest: 0.1517216\tbest: 0.1517216 (727)\ttotal: 10m 52s\tremaining: 4m 3s\n",
      "728:\tlearn: 0.1356570\ttest: 0.1517175\tbest: 0.1517175 (728)\ttotal: 10m 53s\tremaining: 4m 2s\n",
      "729:\tlearn: 0.1356500\ttest: 0.1517112\tbest: 0.1517112 (729)\ttotal: 10m 53s\tremaining: 4m 1s\n",
      "730:\tlearn: 0.1356497\ttest: 0.1517110\tbest: 0.1517110 (730)\ttotal: 10m 53s\tremaining: 4m\n",
      "731:\tlearn: 0.1356464\ttest: 0.1517140\tbest: 0.1517110 (730)\ttotal: 10m 54s\tremaining: 3m 59s\n",
      "732:\tlearn: 0.1356325\ttest: 0.1517092\tbest: 0.1517092 (732)\ttotal: 10m 54s\tremaining: 3m 58s\n",
      "733:\tlearn: 0.1356134\ttest: 0.1517100\tbest: 0.1517092 (732)\ttotal: 10m 55s\tremaining: 3m 57s\n",
      "734:\tlearn: 0.1356104\ttest: 0.1517072\tbest: 0.1517072 (734)\ttotal: 10m 55s\tremaining: 3m 56s\n",
      "735:\tlearn: 0.1356099\ttest: 0.1517074\tbest: 0.1517072 (734)\ttotal: 10m 56s\tremaining: 3m 55s\n",
      "736:\tlearn: 0.1355979\ttest: 0.1517123\tbest: 0.1517072 (734)\ttotal: 10m 57s\tremaining: 3m 54s\n",
      "737:\tlearn: 0.1355917\ttest: 0.1517087\tbest: 0.1517072 (734)\ttotal: 10m 57s\tremaining: 3m 53s\n",
      "738:\tlearn: 0.1355771\ttest: 0.1517209\tbest: 0.1517072 (734)\ttotal: 10m 58s\tremaining: 3m 52s\n",
      "739:\tlearn: 0.1355764\ttest: 0.1517210\tbest: 0.1517072 (734)\ttotal: 10m 58s\tremaining: 3m 51s\n",
      "740:\tlearn: 0.1355749\ttest: 0.1517224\tbest: 0.1517072 (734)\ttotal: 10m 59s\tremaining: 3m 50s\n",
      "741:\tlearn: 0.1355689\ttest: 0.1517219\tbest: 0.1517072 (734)\ttotal: 10m 59s\tremaining: 3m 49s\n",
      "742:\tlearn: 0.1355687\ttest: 0.1517210\tbest: 0.1517072 (734)\ttotal: 10m 59s\tremaining: 3m 48s\n",
      "743:\tlearn: 0.1355665\ttest: 0.1517201\tbest: 0.1517072 (734)\ttotal: 11m\tremaining: 3m 47s\n",
      "744:\tlearn: 0.1355372\ttest: 0.1517116\tbest: 0.1517072 (734)\ttotal: 11m 1s\tremaining: 3m 46s\n",
      "745:\tlearn: 0.1355341\ttest: 0.1517090\tbest: 0.1517072 (734)\ttotal: 11m 1s\tremaining: 3m 45s\n",
      "746:\tlearn: 0.1355310\ttest: 0.1517091\tbest: 0.1517072 (734)\ttotal: 11m 2s\tremaining: 3m 44s\n",
      "747:\tlearn: 0.1355223\ttest: 0.1517069\tbest: 0.1517069 (747)\ttotal: 11m 3s\tremaining: 3m 43s\n",
      "748:\tlearn: 0.1355024\ttest: 0.1516789\tbest: 0.1516789 (748)\ttotal: 11m 3s\tremaining: 3m 42s\n",
      "749:\tlearn: 0.1355002\ttest: 0.1516806\tbest: 0.1516789 (748)\ttotal: 11m 4s\tremaining: 3m 41s\n",
      "750:\tlearn: 0.1355000\ttest: 0.1516808\tbest: 0.1516789 (748)\ttotal: 11m 4s\tremaining: 3m 40s\n",
      "751:\tlearn: 0.1354987\ttest: 0.1516808\tbest: 0.1516789 (748)\ttotal: 11m 4s\tremaining: 3m 39s\n",
      "752:\tlearn: 0.1354723\ttest: 0.1516699\tbest: 0.1516699 (752)\ttotal: 11m 5s\tremaining: 3m 38s\n",
      "753:\tlearn: 0.1354693\ttest: 0.1516667\tbest: 0.1516667 (753)\ttotal: 11m 6s\tremaining: 3m 37s\n",
      "754:\tlearn: 0.1354610\ttest: 0.1516722\tbest: 0.1516667 (753)\ttotal: 11m 6s\tremaining: 3m 36s\n",
      "755:\tlearn: 0.1354610\ttest: 0.1516723\tbest: 0.1516667 (753)\ttotal: 11m 6s\tremaining: 3m 35s\n",
      "756:\tlearn: 0.1354610\ttest: 0.1516723\tbest: 0.1516667 (753)\ttotal: 11m 7s\tremaining: 3m 34s\n",
      "757:\tlearn: 0.1354607\ttest: 0.1516720\tbest: 0.1516667 (753)\ttotal: 11m 7s\tremaining: 3m 33s\n",
      "758:\tlearn: 0.1354490\ttest: 0.1516691\tbest: 0.1516667 (753)\ttotal: 11m 8s\tremaining: 3m 32s\n",
      "759:\tlearn: 0.1354484\ttest: 0.1516691\tbest: 0.1516667 (753)\ttotal: 11m 8s\tremaining: 3m 31s\n",
      "760:\tlearn: 0.1354131\ttest: 0.1516584\tbest: 0.1516584 (760)\ttotal: 11m 9s\tremaining: 3m 30s\n",
      "761:\tlearn: 0.1353882\ttest: 0.1516509\tbest: 0.1516509 (761)\ttotal: 11m 10s\tremaining: 3m 29s\n",
      "762:\tlearn: 0.1353665\ttest: 0.1516441\tbest: 0.1516441 (762)\ttotal: 11m 11s\tremaining: 3m 28s\n",
      "763:\tlearn: 0.1353654\ttest: 0.1516443\tbest: 0.1516441 (762)\ttotal: 11m 11s\tremaining: 3m 27s\n",
      "764:\tlearn: 0.1353160\ttest: 0.1516494\tbest: 0.1516441 (762)\ttotal: 11m 13s\tremaining: 3m 26s\n",
      "765:\tlearn: 0.1353160\ttest: 0.1516497\tbest: 0.1516441 (762)\ttotal: 11m 13s\tremaining: 3m 25s\n",
      "766:\tlearn: 0.1353159\ttest: 0.1516495\tbest: 0.1516441 (762)\ttotal: 11m 13s\tremaining: 3m 24s\n",
      "767:\tlearn: 0.1353136\ttest: 0.1516520\tbest: 0.1516441 (762)\ttotal: 11m 14s\tremaining: 3m 23s\n",
      "768:\tlearn: 0.1353055\ttest: 0.1516498\tbest: 0.1516441 (762)\ttotal: 11m 14s\tremaining: 3m 22s\n",
      "769:\tlearn: 0.1352955\ttest: 0.1516550\tbest: 0.1516441 (762)\ttotal: 11m 15s\tremaining: 3m 21s\n",
      "770:\tlearn: 0.1352042\ttest: 0.1516626\tbest: 0.1516441 (762)\ttotal: 11m 16s\tremaining: 3m 21s\n",
      "771:\tlearn: 0.1352005\ttest: 0.1516642\tbest: 0.1516441 (762)\ttotal: 11m 17s\tremaining: 3m 20s\n",
      "772:\tlearn: 0.1351986\ttest: 0.1516633\tbest: 0.1516441 (762)\ttotal: 11m 17s\tremaining: 3m 19s\n",
      "773:\tlearn: 0.1351660\ttest: 0.1516533\tbest: 0.1516441 (762)\ttotal: 11m 19s\tremaining: 3m 18s\n",
      "774:\tlearn: 0.1351023\ttest: 0.1516317\tbest: 0.1516317 (774)\ttotal: 11m 21s\tremaining: 3m 17s\n",
      "775:\tlearn: 0.1350716\ttest: 0.1516252\tbest: 0.1516252 (775)\ttotal: 11m 22s\tremaining: 3m 17s\n",
      "776:\tlearn: 0.1350703\ttest: 0.1516258\tbest: 0.1516252 (775)\ttotal: 11m 22s\tremaining: 3m 15s\n",
      "777:\tlearn: 0.1350690\ttest: 0.1516265\tbest: 0.1516252 (775)\ttotal: 11m 23s\tremaining: 3m 14s\n",
      "778:\tlearn: 0.1350670\ttest: 0.1516250\tbest: 0.1516250 (778)\ttotal: 11m 23s\tremaining: 3m 13s\n",
      "779:\tlearn: 0.1350670\ttest: 0.1516253\tbest: 0.1516250 (778)\ttotal: 11m 23s\tremaining: 3m 12s\n",
      "780:\tlearn: 0.1350561\ttest: 0.1516283\tbest: 0.1516250 (778)\ttotal: 11m 25s\tremaining: 3m 12s\n",
      "781:\tlearn: 0.1350523\ttest: 0.1516291\tbest: 0.1516250 (778)\ttotal: 11m 25s\tremaining: 3m 11s\n",
      "782:\tlearn: 0.1350445\ttest: 0.1516274\tbest: 0.1516250 (778)\ttotal: 11m 27s\tremaining: 3m 10s\n",
      "783:\tlearn: 0.1350445\ttest: 0.1516273\tbest: 0.1516250 (778)\ttotal: 11m 27s\tremaining: 3m 9s\n",
      "784:\tlearn: 0.1350442\ttest: 0.1516269\tbest: 0.1516250 (778)\ttotal: 11m 28s\tremaining: 3m 8s\n",
      "785:\tlearn: 0.1350431\ttest: 0.1516288\tbest: 0.1516250 (778)\ttotal: 11m 28s\tremaining: 3m 7s\n",
      "786:\tlearn: 0.1350391\ttest: 0.1516286\tbest: 0.1516250 (778)\ttotal: 11m 28s\tremaining: 3m 6s\n",
      "787:\tlearn: 0.1350383\ttest: 0.1516281\tbest: 0.1516250 (778)\ttotal: 11m 29s\tremaining: 3m 5s\n",
      "788:\tlearn: 0.1350370\ttest: 0.1516300\tbest: 0.1516250 (778)\ttotal: 11m 29s\tremaining: 3m 4s\n",
      "789:\tlearn: 0.1350187\ttest: 0.1516358\tbest: 0.1516250 (778)\ttotal: 11m 30s\tremaining: 3m 3s\n",
      "790:\tlearn: 0.1350105\ttest: 0.1516425\tbest: 0.1516250 (778)\ttotal: 11m 31s\tremaining: 3m 2s\n",
      "791:\tlearn: 0.1350056\ttest: 0.1516472\tbest: 0.1516250 (778)\ttotal: 11m 31s\tremaining: 3m 1s\n",
      "792:\tlearn: 0.1349940\ttest: 0.1516398\tbest: 0.1516250 (778)\ttotal: 11m 32s\tremaining: 3m\n",
      "793:\tlearn: 0.1349940\ttest: 0.1516398\tbest: 0.1516250 (778)\ttotal: 11m 32s\tremaining: 2m 59s\n",
      "794:\tlearn: 0.1349353\ttest: 0.1516271\tbest: 0.1516250 (778)\ttotal: 11m 34s\tremaining: 2m 58s\n",
      "795:\tlearn: 0.1349255\ttest: 0.1516248\tbest: 0.1516248 (795)\ttotal: 11m 34s\tremaining: 2m 58s\n",
      "796:\tlearn: 0.1349218\ttest: 0.1516233\tbest: 0.1516233 (796)\ttotal: 11m 35s\tremaining: 2m 57s\n",
      "797:\tlearn: 0.1348915\ttest: 0.1516078\tbest: 0.1516078 (797)\ttotal: 11m 36s\tremaining: 2m 56s\n",
      "798:\tlearn: 0.1348913\ttest: 0.1516083\tbest: 0.1516078 (797)\ttotal: 11m 37s\tremaining: 2m 55s\n",
      "799:\tlearn: 0.1348913\ttest: 0.1516083\tbest: 0.1516078 (797)\ttotal: 11m 37s\tremaining: 2m 54s\n",
      "800:\tlearn: 0.1348905\ttest: 0.1516107\tbest: 0.1516078 (797)\ttotal: 11m 37s\tremaining: 2m 53s\n",
      "801:\tlearn: 0.1348699\ttest: 0.1516075\tbest: 0.1516075 (801)\ttotal: 11m 39s\tremaining: 2m 52s\n",
      "802:\tlearn: 0.1348624\ttest: 0.1516085\tbest: 0.1516075 (801)\ttotal: 11m 39s\tremaining: 2m 51s\n",
      "803:\tlearn: 0.1348561\ttest: 0.1516120\tbest: 0.1516075 (801)\ttotal: 11m 40s\tremaining: 2m 50s\n",
      "804:\tlearn: 0.1348561\ttest: 0.1516120\tbest: 0.1516075 (801)\ttotal: 11m 40s\tremaining: 2m 49s\n",
      "805:\tlearn: 0.1348266\ttest: 0.1516002\tbest: 0.1516002 (805)\ttotal: 11m 42s\tremaining: 2m 49s\n"
     ]
    },
    {
     "name": "stdout",
     "output_type": "stream",
     "text": [
      "806:\tlearn: 0.1347973\ttest: 0.1515948\tbest: 0.1515948 (806)\ttotal: 11m 43s\tremaining: 2m 48s\n",
      "807:\tlearn: 0.1347816\ttest: 0.1515919\tbest: 0.1515919 (807)\ttotal: 11m 44s\tremaining: 2m 47s\n",
      "808:\tlearn: 0.1347800\ttest: 0.1515890\tbest: 0.1515890 (808)\ttotal: 11m 44s\tremaining: 2m 46s\n",
      "809:\tlearn: 0.1347756\ttest: 0.1515896\tbest: 0.1515890 (808)\ttotal: 11m 46s\tremaining: 2m 45s\n",
      "810:\tlearn: 0.1347736\ttest: 0.1515920\tbest: 0.1515890 (808)\ttotal: 11m 46s\tremaining: 2m 44s\n",
      "811:\tlearn: 0.1347622\ttest: 0.1515913\tbest: 0.1515890 (808)\ttotal: 11m 47s\tremaining: 2m 43s\n",
      "812:\tlearn: 0.1347413\ttest: 0.1515854\tbest: 0.1515854 (812)\ttotal: 11m 47s\tremaining: 2m 42s\n",
      "813:\tlearn: 0.1346873\ttest: 0.1515783\tbest: 0.1515783 (813)\ttotal: 11m 49s\tremaining: 2m 42s\n",
      "814:\tlearn: 0.1346621\ttest: 0.1515713\tbest: 0.1515713 (814)\ttotal: 11m 50s\tremaining: 2m 41s\n",
      "815:\tlearn: 0.1346511\ttest: 0.1515710\tbest: 0.1515710 (815)\ttotal: 11m 51s\tremaining: 2m 40s\n",
      "816:\tlearn: 0.1346511\ttest: 0.1515710\tbest: 0.1515710 (816)\ttotal: 11m 51s\tremaining: 2m 39s\n",
      "817:\tlearn: 0.1346468\ttest: 0.1515722\tbest: 0.1515710 (816)\ttotal: 11m 52s\tremaining: 2m 38s\n",
      "818:\tlearn: 0.1346288\ttest: 0.1515802\tbest: 0.1515710 (816)\ttotal: 11m 52s\tremaining: 2m 37s\n",
      "819:\tlearn: 0.1346204\ttest: 0.1515784\tbest: 0.1515710 (816)\ttotal: 11m 53s\tremaining: 2m 36s\n",
      "820:\tlearn: 0.1345996\ttest: 0.1515812\tbest: 0.1515710 (816)\ttotal: 11m 54s\tremaining: 2m 35s\n",
      "821:\tlearn: 0.1345971\ttest: 0.1515837\tbest: 0.1515710 (816)\ttotal: 11m 54s\tremaining: 2m 34s\n",
      "822:\tlearn: 0.1345971\ttest: 0.1515838\tbest: 0.1515710 (816)\ttotal: 11m 54s\tremaining: 2m 33s\n",
      "823:\tlearn: 0.1345730\ttest: 0.1515888\tbest: 0.1515710 (816)\ttotal: 11m 56s\tremaining: 2m 33s\n",
      "824:\tlearn: 0.1345198\ttest: 0.1515700\tbest: 0.1515700 (824)\ttotal: 11m 57s\tremaining: 2m 32s\n",
      "825:\tlearn: 0.1344809\ttest: 0.1515578\tbest: 0.1515578 (825)\ttotal: 11m 59s\tremaining: 2m 31s\n",
      "826:\tlearn: 0.1344158\ttest: 0.1515476\tbest: 0.1515476 (826)\ttotal: 12m\tremaining: 2m 30s\n",
      "827:\tlearn: 0.1344079\ttest: 0.1515400\tbest: 0.1515400 (827)\ttotal: 12m\tremaining: 2m 29s\n",
      "828:\tlearn: 0.1344044\ttest: 0.1515361\tbest: 0.1515361 (828)\ttotal: 12m 1s\tremaining: 2m 28s\n",
      "829:\tlearn: 0.1343872\ttest: 0.1515338\tbest: 0.1515338 (829)\ttotal: 12m 2s\tremaining: 2m 27s\n",
      "830:\tlearn: 0.1343872\ttest: 0.1515337\tbest: 0.1515337 (830)\ttotal: 12m 2s\tremaining: 2m 26s\n",
      "831:\tlearn: 0.1343598\ttest: 0.1515253\tbest: 0.1515253 (831)\ttotal: 12m 4s\tremaining: 2m 26s\n",
      "832:\tlearn: 0.1343554\ttest: 0.1515262\tbest: 0.1515253 (831)\ttotal: 12m 4s\tremaining: 2m 25s\n",
      "833:\tlearn: 0.1343388\ttest: 0.1515293\tbest: 0.1515253 (831)\ttotal: 12m 6s\tremaining: 2m 24s\n",
      "834:\tlearn: 0.1343374\ttest: 0.1515280\tbest: 0.1515253 (831)\ttotal: 12m 6s\tremaining: 2m 23s\n",
      "835:\tlearn: 0.1343326\ttest: 0.1515281\tbest: 0.1515253 (831)\ttotal: 12m 6s\tremaining: 2m 22s\n",
      "836:\tlearn: 0.1343305\ttest: 0.1515293\tbest: 0.1515253 (831)\ttotal: 12m 7s\tremaining: 2m 21s\n",
      "837:\tlearn: 0.1343297\ttest: 0.1515320\tbest: 0.1515253 (831)\ttotal: 12m 7s\tremaining: 2m 20s\n",
      "838:\tlearn: 0.1342784\ttest: 0.1515381\tbest: 0.1515253 (831)\ttotal: 12m 9s\tremaining: 2m 19s\n",
      "839:\tlearn: 0.1342754\ttest: 0.1515369\tbest: 0.1515253 (831)\ttotal: 12m 10s\tremaining: 2m 19s\n",
      "840:\tlearn: 0.1342733\ttest: 0.1515365\tbest: 0.1515253 (831)\ttotal: 12m 10s\tremaining: 2m 18s\n",
      "841:\tlearn: 0.1342382\ttest: 0.1515167\tbest: 0.1515167 (841)\ttotal: 12m 12s\tremaining: 2m 17s\n",
      "842:\tlearn: 0.1342298\ttest: 0.1515187\tbest: 0.1515167 (841)\ttotal: 12m 13s\tremaining: 2m 16s\n",
      "843:\tlearn: 0.1342006\ttest: 0.1515182\tbest: 0.1515167 (841)\ttotal: 12m 15s\tremaining: 2m 15s\n",
      "844:\tlearn: 0.1341818\ttest: 0.1514994\tbest: 0.1514994 (844)\ttotal: 12m 16s\tremaining: 2m 15s\n",
      "845:\tlearn: 0.1341818\ttest: 0.1514994\tbest: 0.1514994 (845)\ttotal: 12m 17s\tremaining: 2m 14s\n",
      "846:\tlearn: 0.1341818\ttest: 0.1514995\tbest: 0.1514994 (845)\ttotal: 12m 17s\tremaining: 2m 13s\n",
      "847:\tlearn: 0.1341799\ttest: 0.1515003\tbest: 0.1514994 (845)\ttotal: 12m 18s\tremaining: 2m 12s\n",
      "848:\tlearn: 0.1341799\ttest: 0.1515003\tbest: 0.1514994 (845)\ttotal: 12m 18s\tremaining: 2m 11s\n",
      "849:\tlearn: 0.1341796\ttest: 0.1514997\tbest: 0.1514994 (845)\ttotal: 12m 18s\tremaining: 2m 10s\n",
      "850:\tlearn: 0.1341785\ttest: 0.1515019\tbest: 0.1514994 (845)\ttotal: 12m 19s\tremaining: 2m 9s\n",
      "851:\tlearn: 0.1341775\ttest: 0.1515021\tbest: 0.1514994 (845)\ttotal: 12m 19s\tremaining: 2m 8s\n",
      "852:\tlearn: 0.1341772\ttest: 0.1515007\tbest: 0.1514994 (845)\ttotal: 12m 20s\tremaining: 2m 7s\n",
      "853:\tlearn: 0.1341703\ttest: 0.1514951\tbest: 0.1514951 (853)\ttotal: 12m 21s\tremaining: 2m 6s\n",
      "854:\tlearn: 0.1341703\ttest: 0.1514951\tbest: 0.1514951 (853)\ttotal: 12m 21s\tremaining: 2m 5s\n",
      "855:\tlearn: 0.1341690\ttest: 0.1514935\tbest: 0.1514935 (855)\ttotal: 12m 21s\tremaining: 2m 4s\n",
      "856:\tlearn: 0.1341634\ttest: 0.1514929\tbest: 0.1514929 (856)\ttotal: 12m 22s\tremaining: 2m 3s\n",
      "857:\tlearn: 0.1341623\ttest: 0.1514938\tbest: 0.1514929 (856)\ttotal: 12m 22s\tremaining: 2m 2s\n",
      "858:\tlearn: 0.1341473\ttest: 0.1514908\tbest: 0.1514908 (858)\ttotal: 12m 23s\tremaining: 2m 2s\n",
      "859:\tlearn: 0.1341473\ttest: 0.1514908\tbest: 0.1514908 (859)\ttotal: 12m 23s\tremaining: 2m 1s\n",
      "860:\tlearn: 0.1341471\ttest: 0.1514906\tbest: 0.1514906 (860)\ttotal: 12m 23s\tremaining: 2m\n",
      "861:\tlearn: 0.1341383\ttest: 0.1514982\tbest: 0.1514906 (860)\ttotal: 12m 25s\tremaining: 1m 59s\n",
      "862:\tlearn: 0.1341381\ttest: 0.1514977\tbest: 0.1514906 (860)\ttotal: 12m 25s\tremaining: 1m 58s\n",
      "863:\tlearn: 0.1341316\ttest: 0.1514957\tbest: 0.1514906 (860)\ttotal: 12m 26s\tremaining: 1m 57s\n",
      "864:\tlearn: 0.1341315\ttest: 0.1514963\tbest: 0.1514906 (860)\ttotal: 12m 26s\tremaining: 1m 56s\n",
      "865:\tlearn: 0.1340926\ttest: 0.1514913\tbest: 0.1514906 (860)\ttotal: 12m 27s\tremaining: 1m 55s\n",
      "866:\tlearn: 0.1340926\ttest: 0.1514915\tbest: 0.1514906 (860)\ttotal: 12m 28s\tremaining: 1m 54s\n",
      "867:\tlearn: 0.1340921\ttest: 0.1514916\tbest: 0.1514906 (860)\ttotal: 12m 28s\tremaining: 1m 53s\n",
      "868:\tlearn: 0.1340921\ttest: 0.1514916\tbest: 0.1514906 (860)\ttotal: 12m 28s\tremaining: 1m 52s\n",
      "869:\tlearn: 0.1340917\ttest: 0.1514917\tbest: 0.1514906 (860)\ttotal: 12m 28s\tremaining: 1m 51s\n",
      "870:\tlearn: 0.1340914\ttest: 0.1514915\tbest: 0.1514906 (860)\ttotal: 12m 29s\tremaining: 1m 50s\n",
      "871:\tlearn: 0.1340914\ttest: 0.1514915\tbest: 0.1514906 (860)\ttotal: 12m 29s\tremaining: 1m 50s\n",
      "872:\tlearn: 0.1340595\ttest: 0.1514974\tbest: 0.1514906 (860)\ttotal: 12m 31s\tremaining: 1m 49s\n",
      "873:\tlearn: 0.1340595\ttest: 0.1514974\tbest: 0.1514906 (860)\ttotal: 12m 31s\tremaining: 1m 48s\n",
      "874:\tlearn: 0.1340593\ttest: 0.1514971\tbest: 0.1514906 (860)\ttotal: 12m 31s\tremaining: 1m 47s\n",
      "875:\tlearn: 0.1340499\ttest: 0.1514999\tbest: 0.1514906 (860)\ttotal: 12m 32s\tremaining: 1m 46s\n",
      "876:\tlearn: 0.1340487\ttest: 0.1515025\tbest: 0.1514906 (860)\ttotal: 12m 32s\tremaining: 1m 45s\n",
      "877:\tlearn: 0.1340472\ttest: 0.1515026\tbest: 0.1514906 (860)\ttotal: 12m 33s\tremaining: 1m 44s\n",
      "878:\tlearn: 0.1340472\ttest: 0.1515026\tbest: 0.1514906 (860)\ttotal: 12m 33s\tremaining: 1m 43s\n",
      "879:\tlearn: 0.1340463\ttest: 0.1515007\tbest: 0.1514906 (860)\ttotal: 12m 33s\tremaining: 1m 42s\n",
      "880:\tlearn: 0.1340443\ttest: 0.1515002\tbest: 0.1514906 (860)\ttotal: 12m 34s\tremaining: 1m 41s\n",
      "881:\tlearn: 0.1340371\ttest: 0.1514938\tbest: 0.1514906 (860)\ttotal: 12m 35s\tremaining: 1m 41s\n",
      "882:\tlearn: 0.1340371\ttest: 0.1514938\tbest: 0.1514906 (860)\ttotal: 12m 35s\tremaining: 1m 40s\n",
      "883:\tlearn: 0.1339928\ttest: 0.1514958\tbest: 0.1514906 (860)\ttotal: 12m 37s\tremaining: 1m 39s\n",
      "884:\tlearn: 0.1339743\ttest: 0.1514969\tbest: 0.1514906 (860)\ttotal: 12m 38s\tremaining: 1m 38s\n",
      "885:\tlearn: 0.1339731\ttest: 0.1514966\tbest: 0.1514906 (860)\ttotal: 12m 38s\tremaining: 1m 37s\n",
      "886:\tlearn: 0.1339353\ttest: 0.1514782\tbest: 0.1514782 (886)\ttotal: 12m 40s\tremaining: 1m 36s\n",
      "887:\tlearn: 0.1339328\ttest: 0.1514782\tbest: 0.1514782 (886)\ttotal: 12m 40s\tremaining: 1m 35s\n",
      "888:\tlearn: 0.1339312\ttest: 0.1514790\tbest: 0.1514782 (886)\ttotal: 12m 41s\tremaining: 1m 35s\n",
      "889:\tlearn: 0.1339312\ttest: 0.1514790\tbest: 0.1514782 (886)\ttotal: 12m 41s\tremaining: 1m 34s\n",
      "890:\tlearn: 0.1339310\ttest: 0.1514783\tbest: 0.1514782 (886)\ttotal: 12m 41s\tremaining: 1m 33s\n",
      "891:\tlearn: 0.1339155\ttest: 0.1514749\tbest: 0.1514749 (891)\ttotal: 12m 42s\tremaining: 1m 32s\n",
      "892:\tlearn: 0.1338444\ttest: 0.1514784\tbest: 0.1514749 (891)\ttotal: 12m 43s\tremaining: 1m 31s\n",
      "893:\tlearn: 0.1338387\ttest: 0.1514814\tbest: 0.1514749 (891)\ttotal: 12m 44s\tremaining: 1m 30s\n",
      "894:\tlearn: 0.1338147\ttest: 0.1514779\tbest: 0.1514749 (891)\ttotal: 12m 45s\tremaining: 1m 29s\n"
     ]
    },
    {
     "name": "stdout",
     "output_type": "stream",
     "text": [
      "895:\tlearn: 0.1338062\ttest: 0.1514886\tbest: 0.1514749 (891)\ttotal: 12m 46s\tremaining: 1m 28s\n",
      "896:\tlearn: 0.1338049\ttest: 0.1514869\tbest: 0.1514749 (891)\ttotal: 12m 46s\tremaining: 1m 28s\n",
      "897:\tlearn: 0.1337685\ttest: 0.1514830\tbest: 0.1514749 (891)\ttotal: 12m 48s\tremaining: 1m 27s\n",
      "898:\tlearn: 0.1337670\ttest: 0.1514801\tbest: 0.1514749 (891)\ttotal: 12m 48s\tremaining: 1m 26s\n",
      "899:\tlearn: 0.1337622\ttest: 0.1514811\tbest: 0.1514749 (891)\ttotal: 12m 49s\tremaining: 1m 25s\n",
      "900:\tlearn: 0.1337442\ttest: 0.1514786\tbest: 0.1514749 (891)\ttotal: 12m 50s\tremaining: 1m 24s\n",
      "901:\tlearn: 0.1337183\ttest: 0.1514723\tbest: 0.1514723 (901)\ttotal: 12m 52s\tremaining: 1m 23s\n",
      "902:\tlearn: 0.1337182\ttest: 0.1514722\tbest: 0.1514722 (902)\ttotal: 12m 52s\tremaining: 1m 23s\n",
      "903:\tlearn: 0.1337170\ttest: 0.1514718\tbest: 0.1514718 (903)\ttotal: 12m 53s\tremaining: 1m 22s\n",
      "904:\tlearn: 0.1337065\ttest: 0.1514690\tbest: 0.1514690 (904)\ttotal: 12m 54s\tremaining: 1m 21s\n",
      "905:\tlearn: 0.1337057\ttest: 0.1514676\tbest: 0.1514676 (905)\ttotal: 12m 54s\tremaining: 1m 20s\n",
      "906:\tlearn: 0.1336820\ttest: 0.1514619\tbest: 0.1514619 (906)\ttotal: 12m 56s\tremaining: 1m 19s\n",
      "907:\tlearn: 0.1336809\ttest: 0.1514602\tbest: 0.1514602 (907)\ttotal: 12m 57s\tremaining: 1m 18s\n",
      "908:\tlearn: 0.1336809\ttest: 0.1514602\tbest: 0.1514602 (908)\ttotal: 12m 57s\tremaining: 1m 17s\n",
      "909:\tlearn: 0.1336723\ttest: 0.1514602\tbest: 0.1514602 (908)\ttotal: 12m 58s\tremaining: 1m 16s\n",
      "910:\tlearn: 0.1336675\ttest: 0.1514598\tbest: 0.1514598 (910)\ttotal: 12m 58s\tremaining: 1m 16s\n",
      "911:\tlearn: 0.1336573\ttest: 0.1514649\tbest: 0.1514598 (910)\ttotal: 12m 59s\tremaining: 1m 15s\n",
      "912:\tlearn: 0.1336283\ttest: 0.1514731\tbest: 0.1514598 (910)\ttotal: 13m\tremaining: 1m 14s\n",
      "913:\tlearn: 0.1336111\ttest: 0.1514733\tbest: 0.1514598 (910)\ttotal: 13m 2s\tremaining: 1m 13s\n",
      "914:\tlearn: 0.1336094\ttest: 0.1514712\tbest: 0.1514598 (910)\ttotal: 13m 2s\tremaining: 1m 12s\n",
      "915:\tlearn: 0.1335651\ttest: 0.1514599\tbest: 0.1514598 (910)\ttotal: 13m 3s\tremaining: 1m 11s\n",
      "916:\tlearn: 0.1335574\ttest: 0.1514603\tbest: 0.1514598 (910)\ttotal: 13m 4s\tremaining: 1m 11s\n",
      "917:\tlearn: 0.1335508\ttest: 0.1514583\tbest: 0.1514583 (917)\ttotal: 13m 5s\tremaining: 1m 10s\n",
      "918:\tlearn: 0.1335502\ttest: 0.1514579\tbest: 0.1514579 (918)\ttotal: 13m 6s\tremaining: 1m 9s\n",
      "919:\tlearn: 0.1335432\ttest: 0.1514564\tbest: 0.1514564 (919)\ttotal: 13m 7s\tremaining: 1m 8s\n",
      "920:\tlearn: 0.1335432\ttest: 0.1514563\tbest: 0.1514563 (920)\ttotal: 13m 7s\tremaining: 1m 7s\n",
      "921:\tlearn: 0.1335373\ttest: 0.1514506\tbest: 0.1514506 (921)\ttotal: 13m 8s\tremaining: 1m 6s\n",
      "922:\tlearn: 0.1335234\ttest: 0.1514533\tbest: 0.1514506 (921)\ttotal: 13m 9s\tremaining: 1m 5s\n",
      "923:\tlearn: 0.1335146\ttest: 0.1514510\tbest: 0.1514506 (921)\ttotal: 13m 10s\tremaining: 1m 5s\n",
      "924:\tlearn: 0.1335142\ttest: 0.1514509\tbest: 0.1514506 (921)\ttotal: 13m 11s\tremaining: 1m 4s\n",
      "925:\tlearn: 0.1335141\ttest: 0.1514509\tbest: 0.1514506 (921)\ttotal: 13m 11s\tremaining: 1m 3s\n",
      "926:\tlearn: 0.1334933\ttest: 0.1514495\tbest: 0.1514495 (926)\ttotal: 13m 14s\tremaining: 1m 2s\n",
      "927:\tlearn: 0.1334932\ttest: 0.1514493\tbest: 0.1514493 (927)\ttotal: 13m 14s\tremaining: 1m 1s\n",
      "928:\tlearn: 0.1334920\ttest: 0.1514486\tbest: 0.1514486 (928)\ttotal: 13m 15s\tremaining: 1m\n",
      "929:\tlearn: 0.1334918\ttest: 0.1514489\tbest: 0.1514486 (928)\ttotal: 13m 15s\tremaining: 59.9s\n",
      "930:\tlearn: 0.1334916\ttest: 0.1514491\tbest: 0.1514486 (928)\ttotal: 13m 16s\tremaining: 59s\n",
      "931:\tlearn: 0.1334555\ttest: 0.1514564\tbest: 0.1514486 (928)\ttotal: 13m 17s\tremaining: 58.2s\n",
      "932:\tlearn: 0.1334400\ttest: 0.1514501\tbest: 0.1514486 (928)\ttotal: 13m 20s\tremaining: 57.5s\n",
      "933:\tlearn: 0.1334384\ttest: 0.1514493\tbest: 0.1514486 (928)\ttotal: 13m 20s\tremaining: 56.6s\n",
      "934:\tlearn: 0.1334158\ttest: 0.1514496\tbest: 0.1514486 (928)\ttotal: 13m 22s\tremaining: 55.8s\n",
      "935:\tlearn: 0.1334158\ttest: 0.1514496\tbest: 0.1514486 (928)\ttotal: 13m 22s\tremaining: 54.9s\n",
      "936:\tlearn: 0.1334147\ttest: 0.1514489\tbest: 0.1514486 (928)\ttotal: 13m 23s\tremaining: 54s\n",
      "937:\tlearn: 0.1334145\ttest: 0.1514495\tbest: 0.1514486 (928)\ttotal: 13m 23s\tremaining: 53.1s\n",
      "938:\tlearn: 0.1334091\ttest: 0.1514498\tbest: 0.1514486 (928)\ttotal: 13m 24s\tremaining: 52.2s\n",
      "939:\tlearn: 0.1334091\ttest: 0.1514497\tbest: 0.1514486 (928)\ttotal: 13m 24s\tremaining: 51.4s\n",
      "940:\tlearn: 0.1333812\ttest: 0.1514388\tbest: 0.1514388 (940)\ttotal: 13m 26s\tremaining: 50.5s\n",
      "941:\tlearn: 0.1333803\ttest: 0.1514380\tbest: 0.1514380 (941)\ttotal: 13m 26s\tremaining: 49.7s\n",
      "942:\tlearn: 0.1333303\ttest: 0.1514100\tbest: 0.1514100 (942)\ttotal: 13m 27s\tremaining: 48.8s\n",
      "943:\tlearn: 0.1333131\ttest: 0.1514151\tbest: 0.1514100 (942)\ttotal: 13m 29s\tremaining: 48s\n",
      "944:\tlearn: 0.1332884\ttest: 0.1514210\tbest: 0.1514100 (942)\ttotal: 13m 30s\tremaining: 47.2s\n",
      "945:\tlearn: 0.1332291\ttest: 0.1514145\tbest: 0.1514100 (942)\ttotal: 13m 32s\tremaining: 46.4s\n",
      "946:\tlearn: 0.1332039\ttest: 0.1514124\tbest: 0.1514100 (942)\ttotal: 13m 33s\tremaining: 45.5s\n",
      "947:\tlearn: 0.1331524\ttest: 0.1514007\tbest: 0.1514007 (947)\ttotal: 13m 35s\tremaining: 44.7s\n",
      "948:\tlearn: 0.1331502\ttest: 0.1514036\tbest: 0.1514007 (947)\ttotal: 13m 35s\tremaining: 43.8s\n",
      "949:\tlearn: 0.1331498\ttest: 0.1514021\tbest: 0.1514007 (947)\ttotal: 13m 35s\tremaining: 42.9s\n",
      "950:\tlearn: 0.1331001\ttest: 0.1514097\tbest: 0.1514007 (947)\ttotal: 13m 36s\tremaining: 42.1s\n",
      "951:\tlearn: 0.1330928\ttest: 0.1514086\tbest: 0.1514007 (947)\ttotal: 13m 37s\tremaining: 41.2s\n",
      "952:\tlearn: 0.1330868\ttest: 0.1514027\tbest: 0.1514007 (947)\ttotal: 13m 38s\tremaining: 40.4s\n",
      "953:\tlearn: 0.1330679\ttest: 0.1513868\tbest: 0.1513868 (953)\ttotal: 13m 39s\tremaining: 39.5s\n",
      "954:\tlearn: 0.1330679\ttest: 0.1513866\tbest: 0.1513866 (954)\ttotal: 13m 40s\tremaining: 38.6s\n",
      "955:\tlearn: 0.1330679\ttest: 0.1513866\tbest: 0.1513866 (954)\ttotal: 13m 40s\tremaining: 37.8s\n",
      "956:\tlearn: 0.1330676\ttest: 0.1513866\tbest: 0.1513866 (954)\ttotal: 13m 40s\tremaining: 36.9s\n",
      "957:\tlearn: 0.1330516\ttest: 0.1513824\tbest: 0.1513824 (957)\ttotal: 13m 42s\tremaining: 36s\n",
      "958:\tlearn: 0.1330278\ttest: 0.1513907\tbest: 0.1513824 (957)\ttotal: 13m 43s\tremaining: 35.2s\n",
      "959:\tlearn: 0.1330276\ttest: 0.1513914\tbest: 0.1513824 (957)\ttotal: 13m 43s\tremaining: 34.3s\n",
      "960:\tlearn: 0.1330258\ttest: 0.1513928\tbest: 0.1513824 (957)\ttotal: 13m 43s\tremaining: 33.4s\n",
      "961:\tlearn: 0.1330118\ttest: 0.1513911\tbest: 0.1513824 (957)\ttotal: 13m 44s\tremaining: 32.6s\n",
      "962:\tlearn: 0.1329936\ttest: 0.1514025\tbest: 0.1513824 (957)\ttotal: 13m 45s\tremaining: 31.7s\n",
      "963:\tlearn: 0.1329813\ttest: 0.1513982\tbest: 0.1513824 (957)\ttotal: 13m 46s\tremaining: 30.9s\n",
      "964:\tlearn: 0.1329661\ttest: 0.1513969\tbest: 0.1513824 (957)\ttotal: 13m 47s\tremaining: 30s\n",
      "965:\tlearn: 0.1329660\ttest: 0.1513970\tbest: 0.1513824 (957)\ttotal: 13m 47s\tremaining: 29.1s\n",
      "966:\tlearn: 0.1329419\ttest: 0.1514040\tbest: 0.1513824 (957)\ttotal: 13m 49s\tremaining: 28.3s\n",
      "967:\tlearn: 0.1329350\ttest: 0.1514110\tbest: 0.1513824 (957)\ttotal: 13m 50s\tremaining: 27.4s\n",
      "968:\tlearn: 0.1329349\ttest: 0.1514100\tbest: 0.1513824 (957)\ttotal: 13m 50s\tremaining: 26.6s\n",
      "969:\tlearn: 0.1328880\ttest: 0.1514182\tbest: 0.1513824 (957)\ttotal: 13m 52s\tremaining: 25.7s\n",
      "970:\tlearn: 0.1328687\ttest: 0.1514172\tbest: 0.1513824 (957)\ttotal: 13m 53s\tremaining: 24.9s\n",
      "971:\tlearn: 0.1328686\ttest: 0.1514172\tbest: 0.1513824 (957)\ttotal: 13m 53s\tremaining: 24s\n",
      "972:\tlearn: 0.1328686\ttest: 0.1514171\tbest: 0.1513824 (957)\ttotal: 13m 53s\tremaining: 23.1s\n",
      "973:\tlearn: 0.1328684\ttest: 0.1514159\tbest: 0.1513824 (957)\ttotal: 13m 54s\tremaining: 22.3s\n",
      "974:\tlearn: 0.1328397\ttest: 0.1514213\tbest: 0.1513824 (957)\ttotal: 13m 55s\tremaining: 21.4s\n",
      "975:\tlearn: 0.1328205\ttest: 0.1514160\tbest: 0.1513824 (957)\ttotal: 13m 57s\tremaining: 20.6s\n",
      "976:\tlearn: 0.1328204\ttest: 0.1514159\tbest: 0.1513824 (957)\ttotal: 13m 57s\tremaining: 19.7s\n",
      "977:\tlearn: 0.1328204\ttest: 0.1514159\tbest: 0.1513824 (957)\ttotal: 13m 57s\tremaining: 18.8s\n",
      "978:\tlearn: 0.1328103\ttest: 0.1514176\tbest: 0.1513824 (957)\ttotal: 13m 58s\tremaining: 18s\n",
      "979:\tlearn: 0.1327885\ttest: 0.1514198\tbest: 0.1513824 (957)\ttotal: 13m 59s\tremaining: 17.1s\n",
      "980:\tlearn: 0.1327563\ttest: 0.1514067\tbest: 0.1513824 (957)\ttotal: 14m 1s\tremaining: 16.3s\n",
      "981:\tlearn: 0.1327449\ttest: 0.1513982\tbest: 0.1513824 (957)\ttotal: 14m 3s\tremaining: 15.5s\n",
      "982:\tlearn: 0.1327377\ttest: 0.1513930\tbest: 0.1513824 (957)\ttotal: 14m 4s\tremaining: 14.6s\n",
      "983:\tlearn: 0.1327119\ttest: 0.1513788\tbest: 0.1513788 (983)\ttotal: 14m 5s\tremaining: 13.7s\n",
      "984:\tlearn: 0.1326673\ttest: 0.1513788\tbest: 0.1513788 (984)\ttotal: 14m 7s\tremaining: 12.9s\n"
     ]
    },
    {
     "name": "stdout",
     "output_type": "stream",
     "text": [
      "985:\tlearn: 0.1326672\ttest: 0.1513788\tbest: 0.1513788 (984)\ttotal: 14m 7s\tremaining: 12s\n",
      "986:\tlearn: 0.1326670\ttest: 0.1513782\tbest: 0.1513782 (986)\ttotal: 14m 8s\tremaining: 11.2s\n",
      "987:\tlearn: 0.1325780\ttest: 0.1513656\tbest: 0.1513656 (987)\ttotal: 14m 9s\tremaining: 10.3s\n",
      "988:\tlearn: 0.1325780\ttest: 0.1513655\tbest: 0.1513655 (988)\ttotal: 14m 9s\tremaining: 9.45s\n",
      "989:\tlearn: 0.1325422\ttest: 0.1513673\tbest: 0.1513655 (988)\ttotal: 14m 11s\tremaining: 8.6s\n",
      "990:\tlearn: 0.1325233\ttest: 0.1513671\tbest: 0.1513655 (988)\ttotal: 14m 13s\tremaining: 7.75s\n",
      "991:\tlearn: 0.1325024\ttest: 0.1513616\tbest: 0.1513616 (991)\ttotal: 14m 15s\tremaining: 6.9s\n",
      "992:\tlearn: 0.1324840\ttest: 0.1513615\tbest: 0.1513615 (992)\ttotal: 14m 16s\tremaining: 6.04s\n",
      "993:\tlearn: 0.1324597\ttest: 0.1513622\tbest: 0.1513615 (992)\ttotal: 14m 18s\tremaining: 5.18s\n",
      "994:\tlearn: 0.1324421\ttest: 0.1513529\tbest: 0.1513529 (994)\ttotal: 14m 19s\tremaining: 4.32s\n",
      "995:\tlearn: 0.1323949\ttest: 0.1513512\tbest: 0.1513512 (995)\ttotal: 14m 21s\tremaining: 3.46s\n",
      "996:\tlearn: 0.1323928\ttest: 0.1513506\tbest: 0.1513506 (996)\ttotal: 14m 21s\tremaining: 2.59s\n",
      "997:\tlearn: 0.1323819\ttest: 0.1513508\tbest: 0.1513506 (996)\ttotal: 14m 22s\tremaining: 1.73s\n",
      "998:\tlearn: 0.1323799\ttest: 0.1513525\tbest: 0.1513506 (996)\ttotal: 14m 23s\tremaining: 864ms\n",
      "999:\tlearn: 0.1323392\ttest: 0.1513275\tbest: 0.1513275 (999)\ttotal: 14m 25s\tremaining: 0us\n",
      "\n",
      "bestTest = 0.1513275049\n",
      "bestIteration = 999\n",
      "\n"
     ]
    },
    {
     "data": {
      "text/plain": [
       "<catboost.core.CatBoostClassifier at 0x7f381e753950>"
      ]
     },
     "execution_count": 66,
     "metadata": {},
     "output_type": "execute_result"
    }
   ],
   "source": [
    "model_cb.fit(\n",
    "    X_train, y_train,\n",
    "    eval_set=(X_test, y_test),\n",
    "    use_best_model=True,\n",
    "    # early_stopping_rounds=50\n",
    ")"
   ]
  },
  {
   "cell_type": "code",
   "execution_count": 67,
   "metadata": {
    "id": "TkZuJ0d9VWA8"
   },
   "outputs": [
    {
     "data": {
      "text/plain": [
       "{'learn': {'Logloss': 0.13233922840475257},\n",
       " 'validation': {'Logloss': 0.1513275049062502}}"
      ]
     },
     "execution_count": 67,
     "metadata": {},
     "output_type": "execute_result"
    }
   ],
   "source": [
    "model_cb.best_score_"
   ]
  },
  {
   "cell_type": "code",
   "execution_count": 68,
   "metadata": {
    "id": "TCr2gSiJXlOW"
   },
   "outputs": [
    {
     "data": {
      "text/plain": [
       "0.9338480788214508"
      ]
     },
     "execution_count": 68,
     "metadata": {},
     "output_type": "execute_result"
    }
   ],
   "source": [
    "model_cb.score(X_test, y_test)"
   ]
  },
  {
   "cell_type": "code",
   "execution_count": 69,
   "metadata": {
    "id": "HktQYcVBW_cW"
   },
   "outputs": [
    {
     "name": "stdout",
     "output_type": "stream",
     "text": [
      "ROC AUC: 0.9647\n"
     ]
    }
   ],
   "source": [
    "y_pred_proba = model_cb.predict_proba(X_test)[:, 1]\n",
    "# y_pred = (y_pred_proba >= 0.5).astype(int)\n",
    "roc_auc = roc_auc_score(y_test, y_pred_proba)\n",
    "print(f\"ROC AUC: {roc_auc:.4f}\")"
   ]
  },
  {
   "cell_type": "code",
   "execution_count": 70,
   "metadata": {
    "id": "6fRP4EcNTC49"
   },
   "outputs": [],
   "source": [
    "# from sklearn.linear_model import LogisticRegression\n",
    "# from sklearn.ensemble import RandomForestClassifier\n",
    "# from sklearn.svm import SVC\n",
    "# from xgboost import XGBClassifier\n",
    "# from sklearn.metrics import roc_auc_score\n"
   ]
  },
  {
   "cell_type": "code",
   "execution_count": 71,
   "metadata": {
    "id": "P7tQEJjRTC4-"
   },
   "outputs": [],
   "source": [
    "# print(\"LR:\", roc_auc_score(y_test, LogisticRegression().fit(X_train, y_train).predict_proba(X_test)[:, 1]))\n",
    "# print(\"RF:\", roc_auc_score(y_test, RandomForestClassifier().fit(X_train, y_train).predict_proba(X_test)[:, 1]))\n",
    "# print(\"SVC:\", roc_auc_score(y_test, SVC(probability=True).fit(X_train, y_train).predict_proba(X_test)[:, 1]))\n",
    "# print(\"XGB:\", roc_auc_score(y_test, XGBClassifier(use_label_encoder=False, eval_metric='logloss').fit(X_train, y_train).predict_proba(X_test)[:, 1]))\n"
   ]
  },
  {
   "cell_type": "code",
   "execution_count": 73,
   "metadata": {
    "id": "feq43VhSTC4-"
   },
   "outputs": [
    {
     "data": {
      "text/html": [
       "<div>\n",
       "<style scoped>\n",
       "    .dataframe tbody tr th:only-of-type {\n",
       "        vertical-align: middle;\n",
       "    }\n",
       "\n",
       "    .dataframe tbody tr th {\n",
       "        vertical-align: top;\n",
       "    }\n",
       "\n",
       "    .dataframe thead th {\n",
       "        text-align: right;\n",
       "    }\n",
       "</style>\n",
       "<table border=\"1\" class=\"dataframe\">\n",
       "  <thead>\n",
       "    <tr style=\"text-align: right;\">\n",
       "      <th></th>\n",
       "      <th>id</th>\n",
       "      <th>age</th>\n",
       "      <th>job</th>\n",
       "      <th>marital</th>\n",
       "      <th>education</th>\n",
       "      <th>default</th>\n",
       "      <th>balance</th>\n",
       "      <th>housing</th>\n",
       "      <th>loan</th>\n",
       "      <th>contact</th>\n",
       "      <th>day</th>\n",
       "      <th>month</th>\n",
       "      <th>duration</th>\n",
       "      <th>campaign</th>\n",
       "      <th>pdays</th>\n",
       "      <th>previous</th>\n",
       "      <th>poutcome</th>\n",
       "    </tr>\n",
       "  </thead>\n",
       "  <tbody>\n",
       "    <tr>\n",
       "      <th>0</th>\n",
       "      <td>750000</td>\n",
       "      <td>32</td>\n",
       "      <td>blue-collar</td>\n",
       "      <td>married</td>\n",
       "      <td>secondary</td>\n",
       "      <td>no</td>\n",
       "      <td>1397</td>\n",
       "      <td>yes</td>\n",
       "      <td>no</td>\n",
       "      <td>unknown</td>\n",
       "      <td>21</td>\n",
       "      <td>may</td>\n",
       "      <td>224</td>\n",
       "      <td>1</td>\n",
       "      <td>-1</td>\n",
       "      <td>0</td>\n",
       "      <td>unknown</td>\n",
       "    </tr>\n",
       "    <tr>\n",
       "      <th>1</th>\n",
       "      <td>750001</td>\n",
       "      <td>44</td>\n",
       "      <td>management</td>\n",
       "      <td>married</td>\n",
       "      <td>tertiary</td>\n",
       "      <td>no</td>\n",
       "      <td>23</td>\n",
       "      <td>yes</td>\n",
       "      <td>no</td>\n",
       "      <td>cellular</td>\n",
       "      <td>3</td>\n",
       "      <td>apr</td>\n",
       "      <td>586</td>\n",
       "      <td>2</td>\n",
       "      <td>-1</td>\n",
       "      <td>0</td>\n",
       "      <td>unknown</td>\n",
       "    </tr>\n",
       "    <tr>\n",
       "      <th>2</th>\n",
       "      <td>750002</td>\n",
       "      <td>36</td>\n",
       "      <td>self-employed</td>\n",
       "      <td>married</td>\n",
       "      <td>primary</td>\n",
       "      <td>no</td>\n",
       "      <td>46</td>\n",
       "      <td>yes</td>\n",
       "      <td>yes</td>\n",
       "      <td>cellular</td>\n",
       "      <td>13</td>\n",
       "      <td>may</td>\n",
       "      <td>111</td>\n",
       "      <td>2</td>\n",
       "      <td>-1</td>\n",
       "      <td>0</td>\n",
       "      <td>unknown</td>\n",
       "    </tr>\n",
       "    <tr>\n",
       "      <th>3</th>\n",
       "      <td>750003</td>\n",
       "      <td>58</td>\n",
       "      <td>blue-collar</td>\n",
       "      <td>married</td>\n",
       "      <td>secondary</td>\n",
       "      <td>no</td>\n",
       "      <td>-1380</td>\n",
       "      <td>yes</td>\n",
       "      <td>yes</td>\n",
       "      <td>unknown</td>\n",
       "      <td>29</td>\n",
       "      <td>may</td>\n",
       "      <td>125</td>\n",
       "      <td>1</td>\n",
       "      <td>-1</td>\n",
       "      <td>0</td>\n",
       "      <td>unknown</td>\n",
       "    </tr>\n",
       "    <tr>\n",
       "      <th>4</th>\n",
       "      <td>750004</td>\n",
       "      <td>28</td>\n",
       "      <td>technician</td>\n",
       "      <td>single</td>\n",
       "      <td>secondary</td>\n",
       "      <td>no</td>\n",
       "      <td>1950</td>\n",
       "      <td>yes</td>\n",
       "      <td>no</td>\n",
       "      <td>cellular</td>\n",
       "      <td>22</td>\n",
       "      <td>jul</td>\n",
       "      <td>181</td>\n",
       "      <td>1</td>\n",
       "      <td>-1</td>\n",
       "      <td>0</td>\n",
       "      <td>unknown</td>\n",
       "    </tr>\n",
       "  </tbody>\n",
       "</table>\n",
       "</div>"
      ],
      "text/plain": [
       "       id  age            job  marital  education default  balance housing  \\\n",
       "0  750000   32    blue-collar  married  secondary      no     1397     yes   \n",
       "1  750001   44     management  married   tertiary      no       23     yes   \n",
       "2  750002   36  self-employed  married    primary      no       46     yes   \n",
       "3  750003   58    blue-collar  married  secondary      no    -1380     yes   \n",
       "4  750004   28     technician   single  secondary      no     1950     yes   \n",
       "\n",
       "  loan   contact  day month  duration  campaign  pdays  previous poutcome  \n",
       "0   no   unknown   21   may       224         1     -1         0  unknown  \n",
       "1   no  cellular    3   apr       586         2     -1         0  unknown  \n",
       "2  yes  cellular   13   may       111         2     -1         0  unknown  \n",
       "3  yes   unknown   29   may       125         1     -1         0  unknown  \n",
       "4   no  cellular   22   jul       181         1     -1         0  unknown  "
      ]
     },
     "execution_count": 73,
     "metadata": {},
     "output_type": "execute_result"
    }
   ],
   "source": [
    "test_df = pd.read_csv('data/test.csv')\n",
    "test_df.head()"
   ]
  },
  {
   "cell_type": "code",
   "execution_count": 74,
   "metadata": {
    "id": "trz-wFPDTC4-"
   },
   "outputs": [],
   "source": [
    "test_df['was_previously_contacted'] = test_df['pdays'].apply(lambda x:1 if x != -1 else 0).astype(\"int8\")"
   ]
  },
  {
   "cell_type": "code",
   "execution_count": 75,
   "metadata": {
    "id": "DWC_70VmTC4-"
   },
   "outputs": [],
   "source": [
    "test_df2 = test_df.drop(columns=['id'])"
   ]
  },
  {
   "cell_type": "code",
   "execution_count": 76,
   "metadata": {
    "id": "bo1HdxYsTC4-"
   },
   "outputs": [],
   "source": [
    "test_df3 = model.transform(test_df2)"
   ]
  },
  {
   "cell_type": "code",
   "execution_count": 77,
   "metadata": {
    "id": "EgREt5WcTC4_"
   },
   "outputs": [],
   "source": [
    "final_df = pd.DataFrame(test_df3, columns=all_feature_names, index=test_df2.index)"
   ]
  },
  {
   "cell_type": "code",
   "execution_count": 78,
   "metadata": {
    "id": "zwCNRYuHTC4_"
   },
   "outputs": [
    {
     "data": {
      "text/html": [
       "<div>\n",
       "<style scoped>\n",
       "    .dataframe tbody tr th:only-of-type {\n",
       "        vertical-align: middle;\n",
       "    }\n",
       "\n",
       "    .dataframe tbody tr th {\n",
       "        vertical-align: top;\n",
       "    }\n",
       "\n",
       "    .dataframe thead th {\n",
       "        text-align: right;\n",
       "    }\n",
       "</style>\n",
       "<table border=\"1\" class=\"dataframe\">\n",
       "  <thead>\n",
       "    <tr style=\"text-align: right;\">\n",
       "      <th></th>\n",
       "      <th>job_blue-collar</th>\n",
       "      <th>job_entrepreneur</th>\n",
       "      <th>job_housemaid</th>\n",
       "      <th>job_management</th>\n",
       "      <th>job_retired</th>\n",
       "      <th>job_self-employed</th>\n",
       "      <th>job_services</th>\n",
       "      <th>job_student</th>\n",
       "      <th>job_technician</th>\n",
       "      <th>job_unemployed</th>\n",
       "      <th>...</th>\n",
       "      <th>poutcome_success</th>\n",
       "      <th>poutcome_unknown</th>\n",
       "      <th>age</th>\n",
       "      <th>balance</th>\n",
       "      <th>day</th>\n",
       "      <th>duration</th>\n",
       "      <th>campaign</th>\n",
       "      <th>pdays</th>\n",
       "      <th>previous</th>\n",
       "      <th>was_previously_contacted</th>\n",
       "    </tr>\n",
       "  </thead>\n",
       "  <tbody>\n",
       "    <tr>\n",
       "      <th>0</th>\n",
       "      <td>1.0</td>\n",
       "      <td>0.0</td>\n",
       "      <td>0.0</td>\n",
       "      <td>0.0</td>\n",
       "      <td>0.0</td>\n",
       "      <td>0.0</td>\n",
       "      <td>0.0</td>\n",
       "      <td>0.0</td>\n",
       "      <td>0.0</td>\n",
       "      <td>0.0</td>\n",
       "      <td>...</td>\n",
       "      <td>0.0</td>\n",
       "      <td>1.0</td>\n",
       "      <td>32.0</td>\n",
       "      <td>1397.0</td>\n",
       "      <td>21.0</td>\n",
       "      <td>224.0</td>\n",
       "      <td>1.0</td>\n",
       "      <td>-1.0</td>\n",
       "      <td>0.0</td>\n",
       "      <td>0.0</td>\n",
       "    </tr>\n",
       "    <tr>\n",
       "      <th>1</th>\n",
       "      <td>0.0</td>\n",
       "      <td>0.0</td>\n",
       "      <td>0.0</td>\n",
       "      <td>1.0</td>\n",
       "      <td>0.0</td>\n",
       "      <td>0.0</td>\n",
       "      <td>0.0</td>\n",
       "      <td>0.0</td>\n",
       "      <td>0.0</td>\n",
       "      <td>0.0</td>\n",
       "      <td>...</td>\n",
       "      <td>0.0</td>\n",
       "      <td>1.0</td>\n",
       "      <td>44.0</td>\n",
       "      <td>23.0</td>\n",
       "      <td>3.0</td>\n",
       "      <td>586.0</td>\n",
       "      <td>2.0</td>\n",
       "      <td>-1.0</td>\n",
       "      <td>0.0</td>\n",
       "      <td>0.0</td>\n",
       "    </tr>\n",
       "    <tr>\n",
       "      <th>2</th>\n",
       "      <td>0.0</td>\n",
       "      <td>0.0</td>\n",
       "      <td>0.0</td>\n",
       "      <td>0.0</td>\n",
       "      <td>0.0</td>\n",
       "      <td>1.0</td>\n",
       "      <td>0.0</td>\n",
       "      <td>0.0</td>\n",
       "      <td>0.0</td>\n",
       "      <td>0.0</td>\n",
       "      <td>...</td>\n",
       "      <td>0.0</td>\n",
       "      <td>1.0</td>\n",
       "      <td>36.0</td>\n",
       "      <td>46.0</td>\n",
       "      <td>13.0</td>\n",
       "      <td>111.0</td>\n",
       "      <td>2.0</td>\n",
       "      <td>-1.0</td>\n",
       "      <td>0.0</td>\n",
       "      <td>0.0</td>\n",
       "    </tr>\n",
       "    <tr>\n",
       "      <th>3</th>\n",
       "      <td>1.0</td>\n",
       "      <td>0.0</td>\n",
       "      <td>0.0</td>\n",
       "      <td>0.0</td>\n",
       "      <td>0.0</td>\n",
       "      <td>0.0</td>\n",
       "      <td>0.0</td>\n",
       "      <td>0.0</td>\n",
       "      <td>0.0</td>\n",
       "      <td>0.0</td>\n",
       "      <td>...</td>\n",
       "      <td>0.0</td>\n",
       "      <td>1.0</td>\n",
       "      <td>58.0</td>\n",
       "      <td>-1380.0</td>\n",
       "      <td>29.0</td>\n",
       "      <td>125.0</td>\n",
       "      <td>1.0</td>\n",
       "      <td>-1.0</td>\n",
       "      <td>0.0</td>\n",
       "      <td>0.0</td>\n",
       "    </tr>\n",
       "    <tr>\n",
       "      <th>4</th>\n",
       "      <td>0.0</td>\n",
       "      <td>0.0</td>\n",
       "      <td>0.0</td>\n",
       "      <td>0.0</td>\n",
       "      <td>0.0</td>\n",
       "      <td>0.0</td>\n",
       "      <td>0.0</td>\n",
       "      <td>0.0</td>\n",
       "      <td>1.0</td>\n",
       "      <td>0.0</td>\n",
       "      <td>...</td>\n",
       "      <td>0.0</td>\n",
       "      <td>1.0</td>\n",
       "      <td>28.0</td>\n",
       "      <td>1950.0</td>\n",
       "      <td>22.0</td>\n",
       "      <td>181.0</td>\n",
       "      <td>1.0</td>\n",
       "      <td>-1.0</td>\n",
       "      <td>0.0</td>\n",
       "      <td>0.0</td>\n",
       "    </tr>\n",
       "  </tbody>\n",
       "</table>\n",
       "<p>5 rows × 43 columns</p>\n",
       "</div>"
      ],
      "text/plain": [
       "   job_blue-collar  job_entrepreneur  job_housemaid  job_management  \\\n",
       "0              1.0               0.0            0.0             0.0   \n",
       "1              0.0               0.0            0.0             1.0   \n",
       "2              0.0               0.0            0.0             0.0   \n",
       "3              1.0               0.0            0.0             0.0   \n",
       "4              0.0               0.0            0.0             0.0   \n",
       "\n",
       "   job_retired  job_self-employed  job_services  job_student  job_technician  \\\n",
       "0          0.0                0.0           0.0          0.0             0.0   \n",
       "1          0.0                0.0           0.0          0.0             0.0   \n",
       "2          0.0                1.0           0.0          0.0             0.0   \n",
       "3          0.0                0.0           0.0          0.0             0.0   \n",
       "4          0.0                0.0           0.0          0.0             1.0   \n",
       "\n",
       "   job_unemployed  ...  poutcome_success  poutcome_unknown   age  balance  \\\n",
       "0             0.0  ...               0.0               1.0  32.0   1397.0   \n",
       "1             0.0  ...               0.0               1.0  44.0     23.0   \n",
       "2             0.0  ...               0.0               1.0  36.0     46.0   \n",
       "3             0.0  ...               0.0               1.0  58.0  -1380.0   \n",
       "4             0.0  ...               0.0               1.0  28.0   1950.0   \n",
       "\n",
       "    day  duration  campaign  pdays  previous  was_previously_contacted  \n",
       "0  21.0     224.0       1.0   -1.0       0.0                       0.0  \n",
       "1   3.0     586.0       2.0   -1.0       0.0                       0.0  \n",
       "2  13.0     111.0       2.0   -1.0       0.0                       0.0  \n",
       "3  29.0     125.0       1.0   -1.0       0.0                       0.0  \n",
       "4  22.0     181.0       1.0   -1.0       0.0                       0.0  \n",
       "\n",
       "[5 rows x 43 columns]"
      ]
     },
     "execution_count": 78,
     "metadata": {},
     "output_type": "execute_result"
    }
   ],
   "source": [
    "final_df.head()"
   ]
  },
  {
   "cell_type": "code",
   "execution_count": 79,
   "metadata": {
    "id": "u2IYlYKxTC4_"
   },
   "outputs": [
    {
     "data": {
      "text/plain": [
       "array([0, 0, 0, ..., 0, 0, 0])"
      ]
     },
     "execution_count": 79,
     "metadata": {},
     "output_type": "execute_result"
    }
   ],
   "source": [
    "model_cb.predict(final_df)"
   ]
  },
  {
   "cell_type": "code",
   "execution_count": 80,
   "metadata": {
    "id": "gWdEVM3xTC4_"
   },
   "outputs": [],
   "source": [
    "submission_df = pd.DataFrame({\n",
    "    'id':test_df['id'],\n",
    "    'y':model_cb.predict(final_df)\n",
    "})"
   ]
  },
  {
   "cell_type": "code",
   "execution_count": 81,
   "metadata": {
    "id": "L7V9nPtCTC5B"
   },
   "outputs": [
    {
     "data": {
      "text/html": [
       "<div>\n",
       "<style scoped>\n",
       "    .dataframe tbody tr th:only-of-type {\n",
       "        vertical-align: middle;\n",
       "    }\n",
       "\n",
       "    .dataframe tbody tr th {\n",
       "        vertical-align: top;\n",
       "    }\n",
       "\n",
       "    .dataframe thead th {\n",
       "        text-align: right;\n",
       "    }\n",
       "</style>\n",
       "<table border=\"1\" class=\"dataframe\">\n",
       "  <thead>\n",
       "    <tr style=\"text-align: right;\">\n",
       "      <th></th>\n",
       "      <th>id</th>\n",
       "      <th>y</th>\n",
       "    </tr>\n",
       "  </thead>\n",
       "  <tbody>\n",
       "    <tr>\n",
       "      <th>0</th>\n",
       "      <td>750000</td>\n",
       "      <td>0</td>\n",
       "    </tr>\n",
       "    <tr>\n",
       "      <th>1</th>\n",
       "      <td>750001</td>\n",
       "      <td>0</td>\n",
       "    </tr>\n",
       "    <tr>\n",
       "      <th>2</th>\n",
       "      <td>750002</td>\n",
       "      <td>0</td>\n",
       "    </tr>\n",
       "    <tr>\n",
       "      <th>3</th>\n",
       "      <td>750003</td>\n",
       "      <td>0</td>\n",
       "    </tr>\n",
       "    <tr>\n",
       "      <th>4</th>\n",
       "      <td>750004</td>\n",
       "      <td>0</td>\n",
       "    </tr>\n",
       "  </tbody>\n",
       "</table>\n",
       "</div>"
      ],
      "text/plain": [
       "       id  y\n",
       "0  750000  0\n",
       "1  750001  0\n",
       "2  750002  0\n",
       "3  750003  0\n",
       "4  750004  0"
      ]
     },
     "execution_count": 81,
     "metadata": {},
     "output_type": "execute_result"
    }
   ],
   "source": [
    "submission_df.head()"
   ]
  },
  {
   "cell_type": "code",
   "execution_count": 82,
   "metadata": {
    "id": "tqFQyI3LTC5B"
   },
   "outputs": [],
   "source": [
    "submission_df.to_csv('submission.csv',index=False)"
   ]
  },
  {
   "cell_type": "markdown",
   "metadata": {
    "id": "vTyhxZvD9Ikr"
   },
   "source": [
    "## At end download the orignal dataset and then test the model on that"
   ]
  },
  {
   "cell_type": "code",
   "execution_count": null,
   "metadata": {
    "id": "082s82618Tc3"
   },
   "outputs": [],
   "source": []
  }
 ],
 "metadata": {
  "accelerator": "GPU",
  "colab": {
   "gpuType": "T4",
   "provenance": []
  },
  "kaggle": {
   "accelerator": "none",
   "dataSources": [
    {
     "databundleVersionId": 11418275,
     "sourceId": 96164,
     "sourceType": "competition"
    }
   ],
   "dockerImageVersionId": 31040,
   "isGpuEnabled": false,
   "isInternetEnabled": true,
   "language": "python",
   "sourceType": "notebook"
  },
  "kernelspec": {
   "display_name": "Python 3 (ipykernel)",
   "language": "python",
   "name": "python3"
  },
  "language_info": {
   "codemirror_mode": {
    "name": "ipython",
    "version": 3
   },
   "file_extension": ".py",
   "mimetype": "text/x-python",
   "name": "python",
   "nbconvert_exporter": "python",
   "pygments_lexer": "ipython3",
   "version": "3.12.2"
  }
 },
 "nbformat": 4,
 "nbformat_minor": 1
}
