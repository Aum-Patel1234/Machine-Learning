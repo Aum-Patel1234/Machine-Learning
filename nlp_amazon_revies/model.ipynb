{
  "cells": [
    {
      "cell_type": "code",
      "execution_count": 6,
      "metadata": {
        "id": "T2Tniq0gGtGx"
      },
      "outputs": [],
      "source": [
        "import pandas as pd\n",
        "import numpy as np"
      ]
    },
    {
      "cell_type": "code",
      "execution_count": 7,
      "metadata": {
        "colab": {
          "base_uri": "https://localhost:8080/"
        },
        "id": "H16QZm_Y__MN",
        "outputId": "f7acfc9d-8216-42cd-e1f8-c16a674d8189"
      },
      "outputs": [
        {
          "name": "stdout",
          "output_type": "stream",
          "text": [
            "False\n"
          ]
        }
      ],
      "source": [
        "import os\n",
        "print(os.path.exists('/content/train.csv'))  # Should return True"
      ]
    },
    {
      "cell_type": "code",
      "execution_count": 8,
      "metadata": {
        "colab": {
          "base_uri": "https://localhost:8080/",
          "height": 238
        },
        "id": "WZED6qU9GtGz",
        "outputId": "6a34131f-7d65-4a56-c67f-ee872443ddc7"
      },
      "outputs": [
        {
          "data": {
            "text/html": [
              "<div>\n",
              "<style scoped>\n",
              "    .dataframe tbody tr th:only-of-type {\n",
              "        vertical-align: middle;\n",
              "    }\n",
              "\n",
              "    .dataframe tbody tr th {\n",
              "        vertical-align: top;\n",
              "    }\n",
              "\n",
              "    .dataframe thead th {\n",
              "        text-align: right;\n",
              "    }\n",
              "</style>\n",
              "<table border=\"1\" class=\"dataframe\">\n",
              "  <thead>\n",
              "    <tr style=\"text-align: right;\">\n",
              "      <th></th>\n",
              "      <th>Review</th>\n",
              "      <th>Title</th>\n",
              "      <th>Text</th>\n",
              "    </tr>\n",
              "  </thead>\n",
              "  <tbody>\n",
              "    <tr>\n",
              "      <th>0</th>\n",
              "      <td>\"2\"</td>\n",
              "      <td>\"Stuning even for the non-gamer\"</td>\n",
              "      <td>\"This sound track was beautiful! It paints the...</td>\n",
              "    </tr>\n",
              "    <tr>\n",
              "      <th>1</th>\n",
              "      <td>\"1\"</td>\n",
              "      <td>\"sizes recomended in the size chart are not real\"</td>\n",
              "      <td>\"sizes are much smaller than what is recomende...</td>\n",
              "    </tr>\n",
              "    <tr>\n",
              "      <th>2</th>\n",
              "      <td>\"1\"</td>\n",
              "      <td>\"Very Frustrating\"</td>\n",
              "      <td>\"My three year old son was very excited to get...</td>\n",
              "    </tr>\n",
              "    <tr>\n",
              "      <th>3</th>\n",
              "      <td>\"2\"</td>\n",
              "      <td>\"Alaska sourdough\"</td>\n",
              "      <td>\"REad most of the book while visiting my broth...</td>\n",
              "    </tr>\n",
              "    <tr>\n",
              "      <th>4</th>\n",
              "      <td>\"2\"</td>\n",
              "      <td>\"Good but received defective book\"</td>\n",
              "      <td>\"I bought this book because we are moving to G...</td>\n",
              "    </tr>\n",
              "    <tr>\n",
              "      <th>5</th>\n",
              "      <td>\"1\"</td>\n",
              "      <td>\"Either 1 or 5 Stars. Depends on how you look ...</td>\n",
              "      <td>\"Either 1 or 5 Stars. Depends on how you look ...</td>\n",
              "    </tr>\n",
              "  </tbody>\n",
              "</table>\n",
              "</div>"
            ],
            "text/plain": [
              "  Review                                              Title  \\\n",
              "0    \"2\"                   \"Stuning even for the non-gamer\"   \n",
              "1    \"1\"  \"sizes recomended in the size chart are not real\"   \n",
              "2    \"1\"                                 \"Very Frustrating\"   \n",
              "3    \"2\"                                 \"Alaska sourdough\"   \n",
              "4    \"2\"                 \"Good but received defective book\"   \n",
              "5    \"1\"  \"Either 1 or 5 Stars. Depends on how you look ...   \n",
              "\n",
              "                                                Text  \n",
              "0  \"This sound track was beautiful! It paints the...  \n",
              "1  \"sizes are much smaller than what is recomende...  \n",
              "2  \"My three year old son was very excited to get...  \n",
              "3  \"REad most of the book while visiting my broth...  \n",
              "4  \"I bought this book because we are moving to G...  \n",
              "5  \"Either 1 or 5 Stars. Depends on how you look ...  "
            ]
          },
          "execution_count": 8,
          "metadata": {},
          "output_type": "execute_result"
        }
      ],
      "source": [
        "df = pd.read_csv('./data/train.csv', header=None, nrows=50000, on_bad_lines='skip', quoting=3)\n",
        "df.columns = ['Review', 'Title', 'Text']\n",
        "df.head(6)"
      ]
    },
    {
      "cell_type": "code",
      "execution_count": 9,
      "metadata": {
        "id": "5WbREamiA8ft"
      },
      "outputs": [],
      "source": [
        "df['Review'] = df['Review'].str.strip('\"').astype('int8')"
      ]
    },
    {
      "cell_type": "code",
      "execution_count": 10,
      "metadata": {
        "colab": {
          "base_uri": "https://localhost:8080/",
          "height": 238
        },
        "id": "GBtCljY6BFUA",
        "outputId": "a25fb4ae-5035-4e9a-a245-149b485d1a21"
      },
      "outputs": [
        {
          "data": {
            "text/html": [
              "<div>\n",
              "<style scoped>\n",
              "    .dataframe tbody tr th:only-of-type {\n",
              "        vertical-align: middle;\n",
              "    }\n",
              "\n",
              "    .dataframe tbody tr th {\n",
              "        vertical-align: top;\n",
              "    }\n",
              "\n",
              "    .dataframe thead th {\n",
              "        text-align: right;\n",
              "    }\n",
              "</style>\n",
              "<table border=\"1\" class=\"dataframe\">\n",
              "  <thead>\n",
              "    <tr style=\"text-align: right;\">\n",
              "      <th></th>\n",
              "      <th>Review</th>\n",
              "      <th>Title</th>\n",
              "      <th>Text</th>\n",
              "    </tr>\n",
              "  </thead>\n",
              "  <tbody>\n",
              "    <tr>\n",
              "      <th>0</th>\n",
              "      <td>2</td>\n",
              "      <td>\"Stuning even for the non-gamer\"</td>\n",
              "      <td>\"This sound track was beautiful! It paints the...</td>\n",
              "    </tr>\n",
              "    <tr>\n",
              "      <th>1</th>\n",
              "      <td>1</td>\n",
              "      <td>\"sizes recomended in the size chart are not real\"</td>\n",
              "      <td>\"sizes are much smaller than what is recomende...</td>\n",
              "    </tr>\n",
              "    <tr>\n",
              "      <th>2</th>\n",
              "      <td>1</td>\n",
              "      <td>\"Very Frustrating\"</td>\n",
              "      <td>\"My three year old son was very excited to get...</td>\n",
              "    </tr>\n",
              "    <tr>\n",
              "      <th>3</th>\n",
              "      <td>2</td>\n",
              "      <td>\"Alaska sourdough\"</td>\n",
              "      <td>\"REad most of the book while visiting my broth...</td>\n",
              "    </tr>\n",
              "    <tr>\n",
              "      <th>4</th>\n",
              "      <td>2</td>\n",
              "      <td>\"Good but received defective book\"</td>\n",
              "      <td>\"I bought this book because we are moving to G...</td>\n",
              "    </tr>\n",
              "    <tr>\n",
              "      <th>5</th>\n",
              "      <td>1</td>\n",
              "      <td>\"Either 1 or 5 Stars. Depends on how you look ...</td>\n",
              "      <td>\"Either 1 or 5 Stars. Depends on how you look ...</td>\n",
              "    </tr>\n",
              "  </tbody>\n",
              "</table>\n",
              "</div>"
            ],
            "text/plain": [
              "   Review                                              Title  \\\n",
              "0       2                   \"Stuning even for the non-gamer\"   \n",
              "1       1  \"sizes recomended in the size chart are not real\"   \n",
              "2       1                                 \"Very Frustrating\"   \n",
              "3       2                                 \"Alaska sourdough\"   \n",
              "4       2                 \"Good but received defective book\"   \n",
              "5       1  \"Either 1 or 5 Stars. Depends on how you look ...   \n",
              "\n",
              "                                                Text  \n",
              "0  \"This sound track was beautiful! It paints the...  \n",
              "1  \"sizes are much smaller than what is recomende...  \n",
              "2  \"My three year old son was very excited to get...  \n",
              "3  \"REad most of the book while visiting my broth...  \n",
              "4  \"I bought this book because we are moving to G...  \n",
              "5  \"Either 1 or 5 Stars. Depends on how you look ...  "
            ]
          },
          "execution_count": 10,
          "metadata": {},
          "output_type": "execute_result"
        }
      ],
      "source": [
        "df.head(6)"
      ]
    },
    {
      "cell_type": "code",
      "execution_count": 11,
      "metadata": {
        "colab": {
          "base_uri": "https://localhost:8080/"
        },
        "id": "laYTSwjAGtG2",
        "outputId": "7b0f8ab5-4bef-48d3-c5de-5f8b7dcd5559"
      },
      "outputs": [
        {
          "data": {
            "text/plain": [
              "(50000, 3)"
            ]
          },
          "execution_count": 11,
          "metadata": {},
          "output_type": "execute_result"
        }
      ],
      "source": [
        "df.shape"
      ]
    },
    {
      "cell_type": "markdown",
      "metadata": {
        "id": "5TExGmuqGtG4"
      },
      "source": [
        "### **Step 1 - Remove punctuation marks and Convert to Lowercase**"
      ]
    },
    {
      "cell_type": "code",
      "execution_count": 12,
      "metadata": {
        "id": "DDe7t2ECGtG5"
      },
      "outputs": [],
      "source": [
        "# start = 50030    # to debug\n",
        "# end = 50041"
      ]
    },
    {
      "cell_type": "code",
      "execution_count": 13,
      "metadata": {
        "id": "zMKkUX9cGtG6"
      },
      "outputs": [],
      "source": [
        "import re\n",
        "\n",
        "# converting to a list and lowercase\n",
        "# for i in range(len(df)):\n",
        "#     df.loc[i, 'Title'] = re.sub('[^a-zA-Z]', ' ', str(df.loc[i, 'Title'])).lower()\n",
        "#     df.loc[i, 'Text'] = re.sub('[^a-zA-Z]', ' ', str(df.loc[i, 'Text'])).lower()\n",
        "df['Title'] = df['Title'].astype(str).apply(lambda x: re.sub('[^a-zA-Z]', ' ', x).lower())\n",
        "df['Text'] = df['Text'].astype(str).apply(lambda x: re.sub('[^a-zA-Z]', ' ', x).lower())"
      ]
    },
    {
      "cell_type": "code",
      "execution_count": 14,
      "metadata": {
        "colab": {
          "base_uri": "https://localhost:8080/",
          "height": 206
        },
        "id": "-mNyAemEGtG8",
        "outputId": "3c617173-df1a-45cb-d12f-3a7aa8cdc350"
      },
      "outputs": [
        {
          "data": {
            "text/html": [
              "<div>\n",
              "<style scoped>\n",
              "    .dataframe tbody tr th:only-of-type {\n",
              "        vertical-align: middle;\n",
              "    }\n",
              "\n",
              "    .dataframe tbody tr th {\n",
              "        vertical-align: top;\n",
              "    }\n",
              "\n",
              "    .dataframe thead th {\n",
              "        text-align: right;\n",
              "    }\n",
              "</style>\n",
              "<table border=\"1\" class=\"dataframe\">\n",
              "  <thead>\n",
              "    <tr style=\"text-align: right;\">\n",
              "      <th></th>\n",
              "      <th>Review</th>\n",
              "      <th>Title</th>\n",
              "      <th>Text</th>\n",
              "    </tr>\n",
              "  </thead>\n",
              "  <tbody>\n",
              "    <tr>\n",
              "      <th>0</th>\n",
              "      <td>2</td>\n",
              "      <td>stuning even for the non gamer</td>\n",
              "      <td>this sound track was beautiful  it paints the...</td>\n",
              "    </tr>\n",
              "    <tr>\n",
              "      <th>1</th>\n",
              "      <td>1</td>\n",
              "      <td>sizes recomended in the size chart are not real</td>\n",
              "      <td>sizes are much smaller than what is recomende...</td>\n",
              "    </tr>\n",
              "    <tr>\n",
              "      <th>2</th>\n",
              "      <td>1</td>\n",
              "      <td>very frustrating</td>\n",
              "      <td>my three year old son was very excited to get...</td>\n",
              "    </tr>\n",
              "    <tr>\n",
              "      <th>3</th>\n",
              "      <td>2</td>\n",
              "      <td>alaska sourdough</td>\n",
              "      <td>read most of the book while visiting my broth...</td>\n",
              "    </tr>\n",
              "    <tr>\n",
              "      <th>4</th>\n",
              "      <td>2</td>\n",
              "      <td>good but received defective book</td>\n",
              "      <td>i bought this book because we are moving to g...</td>\n",
              "    </tr>\n",
              "  </tbody>\n",
              "</table>\n",
              "</div>"
            ],
            "text/plain": [
              "   Review                                              Title  \\\n",
              "0       2                    stuning even for the non gamer    \n",
              "1       1   sizes recomended in the size chart are not real    \n",
              "2       1                                  very frustrating    \n",
              "3       2                                  alaska sourdough    \n",
              "4       2                  good but received defective book    \n",
              "\n",
              "                                                Text  \n",
              "0   this sound track was beautiful  it paints the...  \n",
              "1   sizes are much smaller than what is recomende...  \n",
              "2   my three year old son was very excited to get...  \n",
              "3   read most of the book while visiting my broth...  \n",
              "4   i bought this book because we are moving to g...  "
            ]
          },
          "execution_count": 14,
          "metadata": {},
          "output_type": "execute_result"
        }
      ],
      "source": [
        "df.head()"
      ]
    },
    {
      "cell_type": "markdown",
      "metadata": {
        "id": "nn8LxWIWGtG9"
      },
      "source": [
        "### **Step 2 - Remove Stopwords and convet to list**"
      ]
    },
    {
      "cell_type": "code",
      "execution_count": 15,
      "metadata": {
        "colab": {
          "base_uri": "https://localhost:8080/"
        },
        "id": "0y65vMSmHU7K",
        "outputId": "573d5138-1759-4e82-e923-d105be229388"
      },
      "outputs": [
        {
          "name": "stderr",
          "output_type": "stream",
          "text": [
            "[nltk_data] Downloading package stopwords to /home/aum/nltk_data...\n",
            "[nltk_data]   Unzipping corpora/stopwords.zip.\n"
          ]
        },
        {
          "data": {
            "text/plain": [
              "True"
            ]
          },
          "execution_count": 15,
          "metadata": {},
          "output_type": "execute_result"
        }
      ],
      "source": [
        "import nltk\n",
        "nltk.download('stopwords')"
      ]
    },
    {
      "cell_type": "code",
      "execution_count": 16,
      "metadata": {
        "id": "QpooD2ZnGtG-"
      },
      "outputs": [],
      "source": [
        "from nltk.corpus import stopwords\n",
        "\n",
        "notStopwords = ['not']          # 'not' is a stopword in this dataset\n",
        "stopwords = {word for word in stopwords.words('english') if word not in notStopwords}"
      ]
    },
    {
      "cell_type": "code",
      "execution_count": 17,
      "metadata": {
        "id": "TU5Eyv9CGtG-"
      },
      "outputs": [],
      "source": [
        "# # use Bagging\n",
        "\n",
        "# for i in range(len(df)):\n",
        "#     title:str = df['Title'].iloc[i]\n",
        "#     text:str = df['Text'].iloc[i]\n",
        "\n",
        "#     wordList = []\n",
        "#     for word in title.split():\n",
        "#         if word not in stopwords:\n",
        "#             wordList.append(word)\n",
        "#     df.at[i, 'Title'] = wordList\n",
        "\n",
        "#     wordList = []\n",
        "#     for word in text.split():\n",
        "#         if word not in stopwords:\n",
        "#             wordList.append(word)\n",
        "#     df.at[i, 'Text'] = wordList\n",
        "#     # print(type(title),'\\n',type(text))"
      ]
    },
    {
      "cell_type": "code",
      "execution_count": 18,
      "metadata": {
        "id": "JXkWaFbcGtG_"
      },
      "outputs": [],
      "source": [
        "# use Bagging - above code cell does the same but it takes a lot of time as apply() of pandas is faster than for loop\n",
        "\n",
        "def removeStopwordsAndConvertToArray(text):\n",
        "    if isinstance(text,float):\n",
        "        return []\n",
        "\n",
        "    return [word for word in text.split() if word not in stopwords]\n",
        "\n",
        "df['Title'] = df['Title'].astype(str).apply(removeStopwordsAndConvertToArray)\n",
        "df['Text'] = df['Text'].astype(str).apply(removeStopwordsAndConvertToArray)"
      ]
    },
    {
      "cell_type": "code",
      "execution_count": 19,
      "metadata": {
        "id": "0PEeaKBjGtG_"
      },
      "outputs": [],
      "source": [
        "# df.iloc[start:end]"
      ]
    },
    {
      "cell_type": "code",
      "execution_count": 20,
      "metadata": {
        "colab": {
          "base_uri": "https://localhost:8080/",
          "height": 206
        },
        "id": "sPqvD3IrGtHA",
        "outputId": "525605c5-c220-494a-a0af-4b1ef2b105f2"
      },
      "outputs": [
        {
          "data": {
            "text/html": [
              "<div>\n",
              "<style scoped>\n",
              "    .dataframe tbody tr th:only-of-type {\n",
              "        vertical-align: middle;\n",
              "    }\n",
              "\n",
              "    .dataframe tbody tr th {\n",
              "        vertical-align: top;\n",
              "    }\n",
              "\n",
              "    .dataframe thead th {\n",
              "        text-align: right;\n",
              "    }\n",
              "</style>\n",
              "<table border=\"1\" class=\"dataframe\">\n",
              "  <thead>\n",
              "    <tr style=\"text-align: right;\">\n",
              "      <th></th>\n",
              "      <th>Review</th>\n",
              "      <th>Title</th>\n",
              "      <th>Text</th>\n",
              "    </tr>\n",
              "  </thead>\n",
              "  <tbody>\n",
              "    <tr>\n",
              "      <th>0</th>\n",
              "      <td>2</td>\n",
              "      <td>[stuning, even, non, gamer]</td>\n",
              "      <td>[sound, track, beautiful, paints, senery, mind...</td>\n",
              "    </tr>\n",
              "    <tr>\n",
              "      <th>1</th>\n",
              "      <td>1</td>\n",
              "      <td>[sizes, recomended, size, chart, not, real]</td>\n",
              "      <td>[sizes, much, smaller, recomended, chart, trie...</td>\n",
              "    </tr>\n",
              "    <tr>\n",
              "      <th>2</th>\n",
              "      <td>1</td>\n",
              "      <td>[frustrating]</td>\n",
              "      <td>[three, year, old, son, excited, get, two, att...</td>\n",
              "    </tr>\n",
              "    <tr>\n",
              "      <th>3</th>\n",
              "      <td>2</td>\n",
              "      <td>[alaska, sourdough]</td>\n",
              "      <td>[read, book, visiting, brother, alaska, loved,...</td>\n",
              "    </tr>\n",
              "    <tr>\n",
              "      <th>4</th>\n",
              "      <td>2</td>\n",
              "      <td>[good, received, defective, book]</td>\n",
              "      <td>[bought, book, moving, germany, wanted, get, g...</td>\n",
              "    </tr>\n",
              "  </tbody>\n",
              "</table>\n",
              "</div>"
            ],
            "text/plain": [
              "   Review                                        Title  \\\n",
              "0       2                  [stuning, even, non, gamer]   \n",
              "1       1  [sizes, recomended, size, chart, not, real]   \n",
              "2       1                                [frustrating]   \n",
              "3       2                          [alaska, sourdough]   \n",
              "4       2            [good, received, defective, book]   \n",
              "\n",
              "                                                Text  \n",
              "0  [sound, track, beautiful, paints, senery, mind...  \n",
              "1  [sizes, much, smaller, recomended, chart, trie...  \n",
              "2  [three, year, old, son, excited, get, two, att...  \n",
              "3  [read, book, visiting, brother, alaska, loved,...  \n",
              "4  [bought, book, moving, germany, wanted, get, g...  "
            ]
          },
          "execution_count": 20,
          "metadata": {},
          "output_type": "execute_result"
        }
      ],
      "source": [
        "df.head()"
      ]
    },
    {
      "cell_type": "code",
      "execution_count": 21,
      "metadata": {
        "id": "0wD2pGQ9GtHA"
      },
      "outputs": [],
      "source": [
        "X = df.iloc[:, 1:]\n",
        "y = df.iloc[:, 0].astype('int8')"
      ]
    },
    {
      "cell_type": "markdown",
      "metadata": {
        "id": "4Ef95I2OGtHA"
      },
      "source": [
        "### **Step 3 - Stemming**"
      ]
    },
    {
      "cell_type": "code",
      "execution_count": 22,
      "metadata": {
        "id": "VDzxvJegGtHA"
      },
      "outputs": [],
      "source": [
        "from nltk.stem.porter import PorterStemmer"
      ]
    },
    {
      "cell_type": "code",
      "execution_count": 23,
      "metadata": {
        "colab": {
          "base_uri": "https://localhost:8080/",
          "height": 459
        },
        "id": "YCO-HNrWGtHA",
        "outputId": "21a916df-6b75-4cac-b686-9b3d6e7d2e3a"
      },
      "outputs": [
        {
          "data": {
            "text/plain": [
              "0        None\n",
              "1        None\n",
              "2        None\n",
              "3        None\n",
              "4        None\n",
              "         ... \n",
              "49995    None\n",
              "49996    None\n",
              "49997    None\n",
              "49998    None\n",
              "49999    None\n",
              "Name: Text, Length: 50000, dtype: object"
            ]
          },
          "execution_count": 23,
          "metadata": {},
          "output_type": "execute_result"
        }
      ],
      "source": [
        "ps = PorterStemmer()\n",
        "myStemBag = [[], []]        # index 0->Title,1->Text\n",
        "\n",
        "def stemming(x: list[str], index: int):\n",
        "    shortBag = []\n",
        "    for word in x:\n",
        "        stem_word = ps.stem(word)\n",
        "        if stem_word not in shortBag:\n",
        "            shortBag.append(stem_word)\n",
        "\n",
        "    myStemBag[index].append(shortBag)\n",
        "\n",
        "X['Title'].apply(lambda x: stemming(x, 0))\n",
        "X['Text'].apply(lambda x: stemming(x, 1))\n",
        "\n",
        "# myStemBag"
      ]
    },
    {
      "cell_type": "code",
      "execution_count": 24,
      "metadata": {
        "colab": {
          "base_uri": "https://localhost:8080/",
          "height": 459
        },
        "id": "PqiI8c0PGtHB",
        "outputId": "be0d9c33-cf2e-427a-cee7-e784de081537"
      },
      "outputs": [
        {
          "data": {
            "text/plain": [
              "0        sound track beautiful paints senery mind well ...\n",
              "1        sizes much smaller recomended chart tried put ...\n",
              "2        three year old son excited get two attempts pl...\n",
              "3        read book visiting brother alaska loved going ...\n",
              "4        bought book moving germany wanted get good ove...\n",
              "                               ...                        \n",
              "49995    old video tape version recorded many years ago...\n",
              "49996    doesnt work blu ray player doesnt work dtv bra...\n",
              "49997    unfortunately wound seeing christmas misgiving...\n",
              "49998    love bowls look sharp versatile use hot cold f...\n",
              "49999    tried find last year luck found german company...\n",
              "Name: Text, Length: 50000, dtype: object"
            ]
          },
          "execution_count": 24,
          "metadata": {},
          "output_type": "execute_result"
        }
      ],
      "source": [
        "X['Title'].apply(lambda x: ' '.join(x))\n",
        "X['Text'].apply(lambda x: ' '.join(x))"
      ]
    },
    {
      "cell_type": "code",
      "execution_count": 25,
      "metadata": {
        "id": "KiGHhfRlGtHB"
      },
      "outputs": [],
      "source": [
        "# X['Title'] = X['Title'].apply(lambda x: ' '.join(x))  # Convert list of list to list of string for count vectorizer\n",
        "# X['Text'] = X['Text'].apply(lambda x: ' '.join(x))  # Convert list of list to list of string for count vectorizer"
      ]
    },
    {
      "cell_type": "code",
      "execution_count": 26,
      "metadata": {
        "colab": {
          "base_uri": "https://localhost:8080/",
          "height": 206
        },
        "id": "hkT8aoNVGtHC",
        "outputId": "24040b88-dc15-4250-8e76-e91e42a16b18"
      },
      "outputs": [
        {
          "data": {
            "text/html": [
              "<div>\n",
              "<style scoped>\n",
              "    .dataframe tbody tr th:only-of-type {\n",
              "        vertical-align: middle;\n",
              "    }\n",
              "\n",
              "    .dataframe tbody tr th {\n",
              "        vertical-align: top;\n",
              "    }\n",
              "\n",
              "    .dataframe thead th {\n",
              "        text-align: right;\n",
              "    }\n",
              "</style>\n",
              "<table border=\"1\" class=\"dataframe\">\n",
              "  <thead>\n",
              "    <tr style=\"text-align: right;\">\n",
              "      <th></th>\n",
              "      <th>Title</th>\n",
              "      <th>Text</th>\n",
              "    </tr>\n",
              "  </thead>\n",
              "  <tbody>\n",
              "    <tr>\n",
              "      <th>0</th>\n",
              "      <td>[stuning, even, non, gamer]</td>\n",
              "      <td>[sound, track, beautiful, paints, senery, mind...</td>\n",
              "    </tr>\n",
              "    <tr>\n",
              "      <th>1</th>\n",
              "      <td>[sizes, recomended, size, chart, not, real]</td>\n",
              "      <td>[sizes, much, smaller, recomended, chart, trie...</td>\n",
              "    </tr>\n",
              "    <tr>\n",
              "      <th>2</th>\n",
              "      <td>[frustrating]</td>\n",
              "      <td>[three, year, old, son, excited, get, two, att...</td>\n",
              "    </tr>\n",
              "    <tr>\n",
              "      <th>3</th>\n",
              "      <td>[alaska, sourdough]</td>\n",
              "      <td>[read, book, visiting, brother, alaska, loved,...</td>\n",
              "    </tr>\n",
              "    <tr>\n",
              "      <th>4</th>\n",
              "      <td>[good, received, defective, book]</td>\n",
              "      <td>[bought, book, moving, germany, wanted, get, g...</td>\n",
              "    </tr>\n",
              "  </tbody>\n",
              "</table>\n",
              "</div>"
            ],
            "text/plain": [
              "                                         Title  \\\n",
              "0                  [stuning, even, non, gamer]   \n",
              "1  [sizes, recomended, size, chart, not, real]   \n",
              "2                                [frustrating]   \n",
              "3                          [alaska, sourdough]   \n",
              "4            [good, received, defective, book]   \n",
              "\n",
              "                                                Text  \n",
              "0  [sound, track, beautiful, paints, senery, mind...  \n",
              "1  [sizes, much, smaller, recomended, chart, trie...  \n",
              "2  [three, year, old, son, excited, get, two, att...  \n",
              "3  [read, book, visiting, brother, alaska, loved,...  \n",
              "4  [bought, book, moving, germany, wanted, get, g...  "
            ]
          },
          "execution_count": 26,
          "metadata": {},
          "output_type": "execute_result"
        }
      ],
      "source": [
        "X.head()"
      ]
    },
    {
      "cell_type": "code",
      "execution_count": 27,
      "metadata": {
        "colab": {
          "base_uri": "https://localhost:8080/",
          "height": 241
        },
        "id": "6PrthIL2GtHC",
        "outputId": "00da5b0c-4359-4b1b-b535-5d24ec5b97b5"
      },
      "outputs": [
        {
          "data": {
            "text/plain": [
              "0    2\n",
              "1    1\n",
              "2    1\n",
              "3    2\n",
              "4    2\n",
              "Name: Review, dtype: int8"
            ]
          },
          "execution_count": 27,
          "metadata": {},
          "output_type": "execute_result"
        }
      ],
      "source": [
        "y.head()"
      ]
    },
    {
      "cell_type": "code",
      "execution_count": 28,
      "metadata": {
        "id": "ccxlavv0GtHC"
      },
      "outputs": [],
      "source": [
        "X['Title'] = X['Title'].astype(str)\n",
        "X['Text'] = X['Text'].astype(str)"
      ]
    },
    {
      "cell_type": "code",
      "execution_count": 29,
      "metadata": {
        "id": "Va14q1g0GtHC"
      },
      "outputs": [],
      "source": [
        "from sklearn.feature_extraction.text import CountVectorizer\n",
        "\n",
        "cv = CountVectorizer(max_features=5000)         # or else ram is crashed\n",
        "\n",
        "X['Title'] = list(cv.fit_transform(X['Title']).toarray().astype(np.int8))\n",
        "X['Text'] = list(cv.fit_transform(X['Text']).toarray().astype(np.int8))"
      ]
    },
    {
      "cell_type": "code",
      "execution_count": 30,
      "metadata": {
        "colab": {
          "base_uri": "https://localhost:8080/"
        },
        "id": "6uY7j7KJGtHD",
        "outputId": "414f79d1-068b-4b42-cf31-5bb477cdbb9b"
      },
      "outputs": [
        {
          "data": {
            "text/plain": [
              "((50000, 2), (50000,))"
            ]
          },
          "execution_count": 30,
          "metadata": {},
          "output_type": "execute_result"
        }
      ],
      "source": [
        "X.shape,y.shape"
      ]
    },
    {
      "cell_type": "code",
      "execution_count": 31,
      "metadata": {
        "colab": {
          "base_uri": "https://localhost:8080/"
        },
        "id": "ldfP89LXGtHD",
        "outputId": "2d7027a8-f5f4-4db0-cbaf-445932936300"
      },
      "outputs": [
        {
          "data": {
            "text/plain": [
              "(Title    object\n",
              " Text     object\n",
              " dtype: object,\n",
              " dtype('int8'))"
            ]
          },
          "execution_count": 31,
          "metadata": {},
          "output_type": "execute_result"
        }
      ],
      "source": [
        "X.dtypes, y.dtypes"
      ]
    },
    {
      "cell_type": "code",
      "execution_count": null,
      "metadata": {
        "colab": {
          "base_uri": "https://localhost:8080/",
          "height": 80
        },
        "id": "PqpqKiYZGtHD",
        "outputId": "c584f339-9af4-4011-b4a9-6b2c9df9010b"
      },
      "outputs": [],
      "source": [
        "from sklearn.svm import SVC\n",
        "from sklearn.model_selection import train_test_split\n",
        "\n",
        "X_title = np.array(X['Title'].tolist())\n",
        "X_text = np.array(X['Text'].tolist())\n",
        "\n",
        "X_combined = np.hstack((X_title, X_text))\n",
        "\n",
        "X_train, X_test, y_train, y_test = train_test_split(X_combined, y, test_size=0.2, stratify=y)\n",
        "\n",
        "model = SVC()\n",
        "model.fit(X_train, y_train)"
      ]
    },
    {
      "cell_type": "code",
      "execution_count": null,
      "metadata": {
        "colab": {
          "base_uri": "https://localhost:8080/"
        },
        "id": "FSf0BaE7GtHE",
        "outputId": "0e487907-fb8a-40e9-ce28-dca49d4d9d9b"
      },
      "outputs": [
        {
          "name": "stdout",
          "output_type": "stream",
          "text": [
            "training accuracy:  0.9869230769230769\n",
            "testing accuracy:  0.8159509202453987\n"
          ]
        }
      ],
      "source": [
        "print('training accuracy: ', model.score(X_train, y_train))\n",
        "print('testing accuracy: ', model.score(X_test, y_test))"
      ]
    },
    {
      "cell_type": "code",
      "execution_count": null,
      "metadata": {
        "colab": {
          "base_uri": "https://localhost:8080/",
          "height": 424
        },
        "id": "Envp0I-0Pda6",
        "outputId": "9c9e229e-d96a-4b63-a82f-8431106e2a95"
      },
      "outputs": [
        {
          "data": {
            "application/vnd.google.colaboratory.intrinsic+json": {
              "summary": "{\n  \"name\": \"X\",\n  \"rows\": 1626,\n  \"fields\": [\n    {\n      \"column\": \"Title\",\n      \"properties\": {\n        \"dtype\": \"object\",\n        \"semantic_type\": \"\",\n        \"description\": \"\"\n      }\n    },\n    {\n      \"column\": \"Text\",\n      \"properties\": {\n        \"dtype\": \"object\",\n        \"semantic_type\": \"\",\n        \"description\": \"\"\n      }\n    }\n  ]\n}",
              "type": "dataframe",
              "variable_name": "X"
            },
            "text/html": [
              "\n",
              "  <div id=\"df-4e7fa214-b1cc-464c-8309-d6e304fef16a\" class=\"colab-df-container\">\n",
              "    <div>\n",
              "<style scoped>\n",
              "    .dataframe tbody tr th:only-of-type {\n",
              "        vertical-align: middle;\n",
              "    }\n",
              "\n",
              "    .dataframe tbody tr th {\n",
              "        vertical-align: top;\n",
              "    }\n",
              "\n",
              "    .dataframe thead th {\n",
              "        text-align: right;\n",
              "    }\n",
              "</style>\n",
              "<table border=\"1\" class=\"dataframe\">\n",
              "  <thead>\n",
              "    <tr style=\"text-align: right;\">\n",
              "      <th></th>\n",
              "      <th>Title</th>\n",
              "      <th>Text</th>\n",
              "    </tr>\n",
              "  </thead>\n",
              "  <tbody>\n",
              "    <tr>\n",
              "      <th>0</th>\n",
              "      <td>[0, 0, 0, 0, 0, 0, 0, 0, 0, 0, 0, 0, 0, 0, 0, ...</td>\n",
              "      <td>[0, 0, 0, 0, 0, 0, 0, 0, 0, 0, 0, 0, 0, 0, 0, ...</td>\n",
              "    </tr>\n",
              "    <tr>\n",
              "      <th>1</th>\n",
              "      <td>[0, 0, 0, 0, 0, 0, 0, 0, 0, 0, 0, 0, 0, 0, 0, ...</td>\n",
              "      <td>[0, 0, 0, 0, 0, 0, 0, 0, 0, 0, 0, 0, 0, 0, 0, ...</td>\n",
              "    </tr>\n",
              "    <tr>\n",
              "      <th>2</th>\n",
              "      <td>[0, 0, 0, 0, 0, 0, 0, 0, 0, 0, 0, 0, 0, 0, 0, ...</td>\n",
              "      <td>[0, 0, 0, 1, 0, 0, 0, 0, 0, 0, 0, 0, 0, 0, 0, ...</td>\n",
              "    </tr>\n",
              "    <tr>\n",
              "      <th>3</th>\n",
              "      <td>[0, 0, 0, 0, 0, 0, 0, 0, 0, 0, 0, 0, 0, 0, 0, ...</td>\n",
              "      <td>[0, 0, 0, 0, 0, 0, 0, 0, 0, 0, 0, 0, 0, 0, 0, ...</td>\n",
              "    </tr>\n",
              "    <tr>\n",
              "      <th>4</th>\n",
              "      <td>[0, 0, 0, 0, 0, 0, 0, 0, 0, 0, 0, 0, 0, 0, 0, ...</td>\n",
              "      <td>[0, 0, 0, 0, 0, 0, 0, 0, 0, 0, 0, 0, 0, 0, 0, ...</td>\n",
              "    </tr>\n",
              "    <tr>\n",
              "      <th>...</th>\n",
              "      <td>...</td>\n",
              "      <td>...</td>\n",
              "    </tr>\n",
              "    <tr>\n",
              "      <th>1621</th>\n",
              "      <td>[0, 0, 0, 0, 0, 0, 0, 0, 0, 0, 0, 0, 0, 0, 0, ...</td>\n",
              "      <td>[0, 0, 0, 0, 0, 0, 0, 0, 0, 0, 0, 0, 0, 0, 0, ...</td>\n",
              "    </tr>\n",
              "    <tr>\n",
              "      <th>1622</th>\n",
              "      <td>[0, 0, 0, 0, 0, 0, 0, 0, 0, 0, 0, 0, 0, 0, 0, ...</td>\n",
              "      <td>[0, 0, 0, 0, 0, 0, 0, 0, 0, 0, 0, 0, 0, 0, 0, ...</td>\n",
              "    </tr>\n",
              "    <tr>\n",
              "      <th>1623</th>\n",
              "      <td>[0, 0, 0, 0, 0, 0, 0, 0, 0, 0, 0, 0, 0, 0, 0, ...</td>\n",
              "      <td>[0, 0, 0, 0, 0, 0, 0, 0, 0, 0, 0, 0, 0, 0, 0, ...</td>\n",
              "    </tr>\n",
              "    <tr>\n",
              "      <th>1624</th>\n",
              "      <td>[0, 0, 0, 0, 0, 0, 0, 0, 0, 0, 0, 0, 0, 0, 0, ...</td>\n",
              "      <td>[0, 0, 0, 0, 0, 0, 0, 0, 0, 0, 0, 0, 0, 0, 0, ...</td>\n",
              "    </tr>\n",
              "    <tr>\n",
              "      <th>1625</th>\n",
              "      <td>[0, 0, 0, 0, 0, 0, 0, 0, 0, 0, 0, 0, 0, 0, 0, ...</td>\n",
              "      <td>[0, 0, 0, 0, 0, 0, 0, 0, 0, 0, 0, 0, 0, 0, 0, ...</td>\n",
              "    </tr>\n",
              "  </tbody>\n",
              "</table>\n",
              "<p>1626 rows × 2 columns</p>\n",
              "</div>\n",
              "    <div class=\"colab-df-buttons\">\n",
              "\n",
              "  <div class=\"colab-df-container\">\n",
              "    <button class=\"colab-df-convert\" onclick=\"convertToInteractive('df-4e7fa214-b1cc-464c-8309-d6e304fef16a')\"\n",
              "            title=\"Convert this dataframe to an interactive table.\"\n",
              "            style=\"display:none;\">\n",
              "\n",
              "  <svg xmlns=\"http://www.w3.org/2000/svg\" height=\"24px\" viewBox=\"0 -960 960 960\">\n",
              "    <path d=\"M120-120v-720h720v720H120Zm60-500h600v-160H180v160Zm220 220h160v-160H400v160Zm0 220h160v-160H400v160ZM180-400h160v-160H180v160Zm440 0h160v-160H620v160ZM180-180h160v-160H180v160Zm440 0h160v-160H620v160Z\"/>\n",
              "  </svg>\n",
              "    </button>\n",
              "\n",
              "  <style>\n",
              "    .colab-df-container {\n",
              "      display:flex;\n",
              "      gap: 12px;\n",
              "    }\n",
              "\n",
              "    .colab-df-convert {\n",
              "      background-color: #E8F0FE;\n",
              "      border: none;\n",
              "      border-radius: 50%;\n",
              "      cursor: pointer;\n",
              "      display: none;\n",
              "      fill: #1967D2;\n",
              "      height: 32px;\n",
              "      padding: 0 0 0 0;\n",
              "      width: 32px;\n",
              "    }\n",
              "\n",
              "    .colab-df-convert:hover {\n",
              "      background-color: #E2EBFA;\n",
              "      box-shadow: 0px 1px 2px rgba(60, 64, 67, 0.3), 0px 1px 3px 1px rgba(60, 64, 67, 0.15);\n",
              "      fill: #174EA6;\n",
              "    }\n",
              "\n",
              "    .colab-df-buttons div {\n",
              "      margin-bottom: 4px;\n",
              "    }\n",
              "\n",
              "    [theme=dark] .colab-df-convert {\n",
              "      background-color: #3B4455;\n",
              "      fill: #D2E3FC;\n",
              "    }\n",
              "\n",
              "    [theme=dark] .colab-df-convert:hover {\n",
              "      background-color: #434B5C;\n",
              "      box-shadow: 0px 1px 3px 1px rgba(0, 0, 0, 0.15);\n",
              "      filter: drop-shadow(0px 1px 2px rgba(0, 0, 0, 0.3));\n",
              "      fill: #FFFFFF;\n",
              "    }\n",
              "  </style>\n",
              "\n",
              "    <script>\n",
              "      const buttonEl =\n",
              "        document.querySelector('#df-4e7fa214-b1cc-464c-8309-d6e304fef16a button.colab-df-convert');\n",
              "      buttonEl.style.display =\n",
              "        google.colab.kernel.accessAllowed ? 'block' : 'none';\n",
              "\n",
              "      async function convertToInteractive(key) {\n",
              "        const element = document.querySelector('#df-4e7fa214-b1cc-464c-8309-d6e304fef16a');\n",
              "        const dataTable =\n",
              "          await google.colab.kernel.invokeFunction('convertToInteractive',\n",
              "                                                    [key], {});\n",
              "        if (!dataTable) return;\n",
              "\n",
              "        const docLinkHtml = 'Like what you see? Visit the ' +\n",
              "          '<a target=\"_blank\" href=https://colab.research.google.com/notebooks/data_table.ipynb>data table notebook</a>'\n",
              "          + ' to learn more about interactive tables.';\n",
              "        element.innerHTML = '';\n",
              "        dataTable['output_type'] = 'display_data';\n",
              "        await google.colab.output.renderOutput(dataTable, element);\n",
              "        const docLink = document.createElement('div');\n",
              "        docLink.innerHTML = docLinkHtml;\n",
              "        element.appendChild(docLink);\n",
              "      }\n",
              "    </script>\n",
              "  </div>\n",
              "\n",
              "\n",
              "<div id=\"df-40a4f305-6237-4f47-a9e1-1f1877ae5bf2\">\n",
              "  <button class=\"colab-df-quickchart\" onclick=\"quickchart('df-40a4f305-6237-4f47-a9e1-1f1877ae5bf2')\"\n",
              "            title=\"Suggest charts\"\n",
              "            style=\"display:none;\">\n",
              "\n",
              "<svg xmlns=\"http://www.w3.org/2000/svg\" height=\"24px\"viewBox=\"0 0 24 24\"\n",
              "     width=\"24px\">\n",
              "    <g>\n",
              "        <path d=\"M19 3H5c-1.1 0-2 .9-2 2v14c0 1.1.9 2 2 2h14c1.1 0 2-.9 2-2V5c0-1.1-.9-2-2-2zM9 17H7v-7h2v7zm4 0h-2V7h2v10zm4 0h-2v-4h2v4z\"/>\n",
              "    </g>\n",
              "</svg>\n",
              "  </button>\n",
              "\n",
              "<style>\n",
              "  .colab-df-quickchart {\n",
              "      --bg-color: #E8F0FE;\n",
              "      --fill-color: #1967D2;\n",
              "      --hover-bg-color: #E2EBFA;\n",
              "      --hover-fill-color: #174EA6;\n",
              "      --disabled-fill-color: #AAA;\n",
              "      --disabled-bg-color: #DDD;\n",
              "  }\n",
              "\n",
              "  [theme=dark] .colab-df-quickchart {\n",
              "      --bg-color: #3B4455;\n",
              "      --fill-color: #D2E3FC;\n",
              "      --hover-bg-color: #434B5C;\n",
              "      --hover-fill-color: #FFFFFF;\n",
              "      --disabled-bg-color: #3B4455;\n",
              "      --disabled-fill-color: #666;\n",
              "  }\n",
              "\n",
              "  .colab-df-quickchart {\n",
              "    background-color: var(--bg-color);\n",
              "    border: none;\n",
              "    border-radius: 50%;\n",
              "    cursor: pointer;\n",
              "    display: none;\n",
              "    fill: var(--fill-color);\n",
              "    height: 32px;\n",
              "    padding: 0;\n",
              "    width: 32px;\n",
              "  }\n",
              "\n",
              "  .colab-df-quickchart:hover {\n",
              "    background-color: var(--hover-bg-color);\n",
              "    box-shadow: 0 1px 2px rgba(60, 64, 67, 0.3), 0 1px 3px 1px rgba(60, 64, 67, 0.15);\n",
              "    fill: var(--button-hover-fill-color);\n",
              "  }\n",
              "\n",
              "  .colab-df-quickchart-complete:disabled,\n",
              "  .colab-df-quickchart-complete:disabled:hover {\n",
              "    background-color: var(--disabled-bg-color);\n",
              "    fill: var(--disabled-fill-color);\n",
              "    box-shadow: none;\n",
              "  }\n",
              "\n",
              "  .colab-df-spinner {\n",
              "    border: 2px solid var(--fill-color);\n",
              "    border-color: transparent;\n",
              "    border-bottom-color: var(--fill-color);\n",
              "    animation:\n",
              "      spin 1s steps(1) infinite;\n",
              "  }\n",
              "\n",
              "  @keyframes spin {\n",
              "    0% {\n",
              "      border-color: transparent;\n",
              "      border-bottom-color: var(--fill-color);\n",
              "      border-left-color: var(--fill-color);\n",
              "    }\n",
              "    20% {\n",
              "      border-color: transparent;\n",
              "      border-left-color: var(--fill-color);\n",
              "      border-top-color: var(--fill-color);\n",
              "    }\n",
              "    30% {\n",
              "      border-color: transparent;\n",
              "      border-left-color: var(--fill-color);\n",
              "      border-top-color: var(--fill-color);\n",
              "      border-right-color: var(--fill-color);\n",
              "    }\n",
              "    40% {\n",
              "      border-color: transparent;\n",
              "      border-right-color: var(--fill-color);\n",
              "      border-top-color: var(--fill-color);\n",
              "    }\n",
              "    60% {\n",
              "      border-color: transparent;\n",
              "      border-right-color: var(--fill-color);\n",
              "    }\n",
              "    80% {\n",
              "      border-color: transparent;\n",
              "      border-right-color: var(--fill-color);\n",
              "      border-bottom-color: var(--fill-color);\n",
              "    }\n",
              "    90% {\n",
              "      border-color: transparent;\n",
              "      border-bottom-color: var(--fill-color);\n",
              "    }\n",
              "  }\n",
              "</style>\n",
              "\n",
              "  <script>\n",
              "    async function quickchart(key) {\n",
              "      const quickchartButtonEl =\n",
              "        document.querySelector('#' + key + ' button');\n",
              "      quickchartButtonEl.disabled = true;  // To prevent multiple clicks.\n",
              "      quickchartButtonEl.classList.add('colab-df-spinner');\n",
              "      try {\n",
              "        const charts = await google.colab.kernel.invokeFunction(\n",
              "            'suggestCharts', [key], {});\n",
              "      } catch (error) {\n",
              "        console.error('Error during call to suggestCharts:', error);\n",
              "      }\n",
              "      quickchartButtonEl.classList.remove('colab-df-spinner');\n",
              "      quickchartButtonEl.classList.add('colab-df-quickchart-complete');\n",
              "    }\n",
              "    (() => {\n",
              "      let quickchartButtonEl =\n",
              "        document.querySelector('#df-40a4f305-6237-4f47-a9e1-1f1877ae5bf2 button');\n",
              "      quickchartButtonEl.style.display =\n",
              "        google.colab.kernel.accessAllowed ? 'block' : 'none';\n",
              "    })();\n",
              "  </script>\n",
              "</div>\n",
              "\n",
              "  <div id=\"id_09898c1f-5ca2-4961-ac3d-9dd9f72ab6dd\">\n",
              "    <style>\n",
              "      .colab-df-generate {\n",
              "        background-color: #E8F0FE;\n",
              "        border: none;\n",
              "        border-radius: 50%;\n",
              "        cursor: pointer;\n",
              "        display: none;\n",
              "        fill: #1967D2;\n",
              "        height: 32px;\n",
              "        padding: 0 0 0 0;\n",
              "        width: 32px;\n",
              "      }\n",
              "\n",
              "      .colab-df-generate:hover {\n",
              "        background-color: #E2EBFA;\n",
              "        box-shadow: 0px 1px 2px rgba(60, 64, 67, 0.3), 0px 1px 3px 1px rgba(60, 64, 67, 0.15);\n",
              "        fill: #174EA6;\n",
              "      }\n",
              "\n",
              "      [theme=dark] .colab-df-generate {\n",
              "        background-color: #3B4455;\n",
              "        fill: #D2E3FC;\n",
              "      }\n",
              "\n",
              "      [theme=dark] .colab-df-generate:hover {\n",
              "        background-color: #434B5C;\n",
              "        box-shadow: 0px 1px 3px 1px rgba(0, 0, 0, 0.15);\n",
              "        filter: drop-shadow(0px 1px 2px rgba(0, 0, 0, 0.3));\n",
              "        fill: #FFFFFF;\n",
              "      }\n",
              "    </style>\n",
              "    <button class=\"colab-df-generate\" onclick=\"generateWithVariable('X')\"\n",
              "            title=\"Generate code using this dataframe.\"\n",
              "            style=\"display:none;\">\n",
              "\n",
              "  <svg xmlns=\"http://www.w3.org/2000/svg\" height=\"24px\"viewBox=\"0 0 24 24\"\n",
              "       width=\"24px\">\n",
              "    <path d=\"M7,19H8.4L18.45,9,17,7.55,7,17.6ZM5,21V16.75L18.45,3.32a2,2,0,0,1,2.83,0l1.4,1.43a1.91,1.91,0,0,1,.58,1.4,1.91,1.91,0,0,1-.58,1.4L9.25,21ZM18.45,9,17,7.55Zm-12,3A5.31,5.31,0,0,0,4.9,8.1,5.31,5.31,0,0,0,1,6.5,5.31,5.31,0,0,0,4.9,4.9,5.31,5.31,0,0,0,6.5,1,5.31,5.31,0,0,0,8.1,4.9,5.31,5.31,0,0,0,12,6.5,5.46,5.46,0,0,0,6.5,12Z\"/>\n",
              "  </svg>\n",
              "    </button>\n",
              "    <script>\n",
              "      (() => {\n",
              "      const buttonEl =\n",
              "        document.querySelector('#id_09898c1f-5ca2-4961-ac3d-9dd9f72ab6dd button.colab-df-generate');\n",
              "      buttonEl.style.display =\n",
              "        google.colab.kernel.accessAllowed ? 'block' : 'none';\n",
              "\n",
              "      buttonEl.onclick = () => {\n",
              "        google.colab.notebook.generateWithVariable('X');\n",
              "      }\n",
              "      })();\n",
              "    </script>\n",
              "  </div>\n",
              "\n",
              "    </div>\n",
              "  </div>\n"
            ],
            "text/plain": [
              "                                                  Title  \\\n",
              "0     [0, 0, 0, 0, 0, 0, 0, 0, 0, 0, 0, 0, 0, 0, 0, ...   \n",
              "1     [0, 0, 0, 0, 0, 0, 0, 0, 0, 0, 0, 0, 0, 0, 0, ...   \n",
              "2     [0, 0, 0, 0, 0, 0, 0, 0, 0, 0, 0, 0, 0, 0, 0, ...   \n",
              "3     [0, 0, 0, 0, 0, 0, 0, 0, 0, 0, 0, 0, 0, 0, 0, ...   \n",
              "4     [0, 0, 0, 0, 0, 0, 0, 0, 0, 0, 0, 0, 0, 0, 0, ...   \n",
              "...                                                 ...   \n",
              "1621  [0, 0, 0, 0, 0, 0, 0, 0, 0, 0, 0, 0, 0, 0, 0, ...   \n",
              "1622  [0, 0, 0, 0, 0, 0, 0, 0, 0, 0, 0, 0, 0, 0, 0, ...   \n",
              "1623  [0, 0, 0, 0, 0, 0, 0, 0, 0, 0, 0, 0, 0, 0, 0, ...   \n",
              "1624  [0, 0, 0, 0, 0, 0, 0, 0, 0, 0, 0, 0, 0, 0, 0, ...   \n",
              "1625  [0, 0, 0, 0, 0, 0, 0, 0, 0, 0, 0, 0, 0, 0, 0, ...   \n",
              "\n",
              "                                                   Text  \n",
              "0     [0, 0, 0, 0, 0, 0, 0, 0, 0, 0, 0, 0, 0, 0, 0, ...  \n",
              "1     [0, 0, 0, 0, 0, 0, 0, 0, 0, 0, 0, 0, 0, 0, 0, ...  \n",
              "2     [0, 0, 0, 1, 0, 0, 0, 0, 0, 0, 0, 0, 0, 0, 0, ...  \n",
              "3     [0, 0, 0, 0, 0, 0, 0, 0, 0, 0, 0, 0, 0, 0, 0, ...  \n",
              "4     [0, 0, 0, 0, 0, 0, 0, 0, 0, 0, 0, 0, 0, 0, 0, ...  \n",
              "...                                                 ...  \n",
              "1621  [0, 0, 0, 0, 0, 0, 0, 0, 0, 0, 0, 0, 0, 0, 0, ...  \n",
              "1622  [0, 0, 0, 0, 0, 0, 0, 0, 0, 0, 0, 0, 0, 0, 0, ...  \n",
              "1623  [0, 0, 0, 0, 0, 0, 0, 0, 0, 0, 0, 0, 0, 0, 0, ...  \n",
              "1624  [0, 0, 0, 0, 0, 0, 0, 0, 0, 0, 0, 0, 0, 0, 0, ...  \n",
              "1625  [0, 0, 0, 0, 0, 0, 0, 0, 0, 0, 0, 0, 0, 0, 0, ...  \n",
              "\n",
              "[1626 rows x 2 columns]"
            ]
          },
          "execution_count": 191,
          "metadata": {},
          "output_type": "execute_result"
        }
      ],
      "source": [
        "X"
      ]
    },
    {
      "cell_type": "markdown",
      "metadata": {
        "id": "2--fpBVhN2mG"
      },
      "source": [
        "## **Trying k fold cross validation**"
      ]
    },
    {
      "cell_type": "code",
      "execution_count": null,
      "metadata": {
        "id": "dJmN_7_ZNjjX"
      },
      "outputs": [],
      "source": [
        "from sklearn.model_selection import KFold,cross_val_score\n",
        "\n",
        "k = 5\n",
        "kf = KFold(n_splits=k, shuffle=True,random_state=42)"
      ]
    },
    {
      "cell_type": "code",
      "execution_count": null,
      "metadata": {
        "colab": {
          "base_uri": "https://localhost:8080/"
        },
        "id": "tMlkCV4lQKHp",
        "outputId": "a4e6ca3a-ebdc-40a3-c73c-470ce98bc326"
      },
      "outputs": [
        {
          "data": {
            "text/plain": [
              "array([[0, 0, 0, ..., 0, 0, 0],\n",
              "       [0, 0, 0, ..., 0, 0, 0],\n",
              "       [0, 0, 0, ..., 0, 0, 0],\n",
              "       ...,\n",
              "       [0, 0, 0, ..., 0, 0, 0],\n",
              "       [0, 0, 0, ..., 0, 0, 0],\n",
              "       [0, 0, 0, ..., 0, 0, 0]], dtype=int8)"
            ]
          },
          "execution_count": 193,
          "metadata": {},
          "output_type": "execute_result"
        }
      ],
      "source": [
        "X_title = np.array(X['Title'].tolist())\n",
        "X_text = np.array(X['Text'].tolist())\n",
        "X_combined = np.hstack((X_title, X_text))\n",
        "X_combined"
      ]
    },
    {
      "cell_type": "code",
      "execution_count": null,
      "metadata": {
        "id": "Y-0GRZtDGtHE"
      },
      "outputs": [],
      "source": [
        "# we need X_combined as the cross_val_score requires a ndarray\n",
        "cross_val_result:list = cross_val_score(SVC(), X_combined, y, cv=kf)"
      ]
    },
    {
      "cell_type": "code",
      "execution_count": null,
      "metadata": {
        "colab": {
          "base_uri": "https://localhost:8080/"
        },
        "id": "ZcDBTZO1GtHE",
        "outputId": "6266b9cc-1f0f-4439-f270-4ef51827f59d"
      },
      "outputs": [
        {
          "name": "stdout",
          "output_type": "stream",
          "text": [
            "Cross-Validation Results (Accuracy): [0.76687117 0.80923077 0.76923077 0.78769231 0.81538462]\n",
            "Mean Accuracy: 0.7896819254365266\n"
          ]
        }
      ],
      "source": [
        "print(f'Cross-Validation Results (Accuracy): {cross_val_result}')\n",
        "print(f'Mean Accuracy: {cross_val_result.mean()}')"
      ]
    },
    {
      "cell_type": "markdown",
      "metadata": {
        "id": "StKvWqGYRdRN"
      },
      "source": [
        "## **Trying out ANN**"
      ]
    },
    {
      "cell_type": "code",
      "execution_count": null,
      "metadata": {
        "id": "Rr8bg0IhPHGP"
      },
      "outputs": [],
      "source": [
        "import torch\n",
        "from torch import nn\n",
        "from torch import optim\n",
        "from torch.utils.data import Dataset, DataLoader"
      ]
    },
    {
      "cell_type": "code",
      "execution_count": null,
      "metadata": {
        "id": "tuZIriU6R9wT"
      },
      "outputs": [],
      "source": [
        "class TensorData(Dataset):\n",
        "  def __init__(self, X, y):\n",
        "    super(TensorData, self).__init__()\n",
        "    self.X = torch.from_numpy(X.astype(np.float32))\n",
        "    self.y = torch.from_numpy(y.astype(np.float32))\n",
        "\n",
        "  def __getitem__(self, index):\n",
        "    return self.X[index], self.y[index]\n",
        "\n",
        "  def __len__(self):\n",
        "    return self.X.shape[0]\n"
      ]
    },
    {
      "cell_type": "code",
      "execution_count": null,
      "metadata": {
        "id": "2N8H0B-NncoZ"
      },
      "outputs": [],
      "source": [
        "# TensorData(X_combined, y_train.to_numpy())[402], len(TensorData(X_combined, y_train.to_numpy()))"
      ]
    },
    {
      "cell_type": "code",
      "execution_count": null,
      "metadata": {
        "id": "ZGjo4Mc_xLHl"
      },
      "outputs": [],
      "source": [
        "y_prev = y    # just to store the prev structure of y"
      ]
    },
    {
      "cell_type": "code",
      "execution_count": null,
      "metadata": {
        "id": "5x3oPVS50nOf"
      },
      "outputs": [],
      "source": [
        "y = (y_prev >= 4).astype(np.float32)"
      ]
    },
    {
      "cell_type": "code",
      "execution_count": null,
      "metadata": {
        "id": "Tl1KH46ApZ01"
      },
      "outputs": [],
      "source": [
        "X_train, X_test, y_train, y_test = train_test_split(X_combined, y.to_numpy(), test_size=0.2, stratify=y)"
      ]
    },
    {
      "cell_type": "code",
      "execution_count": null,
      "metadata": {
        "id": "IaLhe_6vnJNx"
      },
      "outputs": [],
      "source": [
        "batch_size = 64\n",
        "\n",
        "train_data = TensorData(X_train, y_train)\n",
        "train_dataloader = DataLoader(dataset=train_data, batch_size=batch_size, shuffle=True, drop_last=True)\n",
        "\n",
        "test_data = TensorData(X_test, y_test)\n",
        "test_dataloader = DataLoader(dataset=test_data, batch_size=batch_size, shuffle=True, drop_last=True)"
      ]
    },
    {
      "cell_type": "code",
      "execution_count": null,
      "metadata": {
        "colab": {
          "base_uri": "https://localhost:8080/"
        },
        "id": "z_uq6leny-Zo",
        "outputId": "ff8ced40-b04c-4e2c-eef1-3949929a00d0"
      },
      "outputs": [
        {
          "data": {
            "text/plain": [
              "((1626, 6773), (1626,))"
            ]
          },
          "execution_count": 203,
          "metadata": {},
          "output_type": "execute_result"
        }
      ],
      "source": [
        "X_combined.shape, y.shape"
      ]
    },
    {
      "cell_type": "code",
      "execution_count": null,
      "metadata": {
        "colab": {
          "base_uri": "https://localhost:8080/"
        },
        "id": "7H8P-MBOp25W",
        "outputId": "746be279-e36f-464d-dbcf-17fa767edf02"
      },
      "outputs": [
        {
          "name": "stdout",
          "output_type": "stream",
          "text": [
            "NeuralNetwork(\n",
            "  (layer_1): Linear(in_features=6773, out_features=10, bias=True)\n",
            "  (layer_2): Linear(in_features=10, out_features=1, bias=True)\n",
            ")\n"
          ]
        }
      ],
      "source": [
        "input_dim = X_combined.shape[1]\n",
        "hidden_dim = 10\n",
        "output_dim = 1\n",
        "\n",
        "class NeuralNetwork(nn.Module):\n",
        "  def __init__(self, input_dim, hidden_dim, output_dim):\n",
        "    super(NeuralNetwork, self).__init__()\n",
        "    self.layer_1 = nn.Linear(in_features=input_dim, out_features=hidden_dim)\n",
        "    self.layer_2 = nn.Linear(in_features=hidden_dim, out_features=output_dim)\n",
        "    # self.relu = nn.ReLU()\n",
        "\n",
        "  def forward(self, x):\n",
        "    x = self.layer_1(x)\n",
        "    # print(\"Layer 1 - \", x.shape)   # Layer 1 -  torch.Size([64, 10])\n",
        "    x = nn.functional.relu(x)\n",
        "    # print(\"Functional layer - \", x.shape)     # Functional layer -  torch.Size([64, 10])\n",
        "    x = self.layer_2(x)\n",
        "    # print(\"Last layer - \",x.shape)    # Last layer -  torch.Size([64, 1])\n",
        "    x = nn.functional.sigmoid(x)\n",
        "\n",
        "    return x\n",
        "\n",
        "nnModel = NeuralNetwork(input_dim, hidden_dim, output_dim)\n",
        "print(nnModel)"
      ]
    },
    {
      "cell_type": "code",
      "execution_count": null,
      "metadata": {
        "id": "Hm6ZpDi0s58T"
      },
      "outputs": [],
      "source": [
        "learning_rate = 0.1\n",
        "loss_fn = nn.BCELoss()\n",
        "optimizer = optim.SGD(nnModel.parameters(), lr=learning_rate)"
      ]
    },
    {
      "cell_type": "code",
      "execution_count": null,
      "metadata": {
        "colab": {
          "base_uri": "https://localhost:8080/"
        },
        "id": "b6XItkkZry0d",
        "outputId": "4fa5770c-4526-4760-f485-db960a41510b"
      },
      "outputs": [
        {
          "name": "stdout",
          "output_type": "stream",
          "text": [
            "Epoch: 0, Loss: 0.43984339833259584\n",
            "Epoch: 1, Loss: 0.3493256255984306\n",
            "Epoch: 2, Loss: 0.2890183337032795\n",
            "Epoch: 3, Loss: 0.2454609210602939\n",
            "Epoch: 4, Loss: 0.2125334008038044\n",
            "Epoch: 5, Loss: 0.18690967733661334\n",
            "Epoch: 6, Loss: 0.16653713315193142\n",
            "Epoch: 7, Loss: 0.15003098538145423\n",
            "Epoch: 8, Loss: 0.13642370272427798\n",
            "Epoch: 9, Loss: 0.12505124723538757\n",
            "Epoch: 10, Loss: 0.11540560111911459\n",
            "Epoch: 11, Loss: 0.10713661099240805\n",
            "Epoch: 12, Loss: 0.0999693844252481\n",
            "Epoch: 13, Loss: 0.09370389726744699\n",
            "Epoch: 14, Loss: 0.08818007171774904\n",
            "Epoch: 15, Loss: 0.08327479368890636\n",
            "Epoch: 16, Loss: 0.07889051339315141\n",
            "Epoch: 17, Loss: 0.0749471588448311\n",
            "Epoch: 18, Loss: 0.07138394410109246\n",
            "Epoch: 19, Loss: 0.06814810942974873\n",
            "Epoch: 20, Loss: 0.06519549446668299\n",
            "Epoch: 21, Loss: 0.06249007220718671\n",
            "Epoch: 22, Loss: 0.06000284176906976\n",
            "Epoch: 23, Loss: 0.05770835541576768\n",
            "Epoch: 24, Loss: 0.05558637468330562\n",
            "Epoch: 25, Loss: 0.053616054099536715\n",
            "Epoch: 26, Loss: 0.051782600632092605\n",
            "Epoch: 27, Loss: 0.0500720355435208\n",
            "Epoch: 28, Loss: 0.04847236326012504\n",
            "Epoch: 29, Loss: 0.04697269950488893\n",
            "Epoch: 30, Loss: 0.04556486182508149\n",
            "Epoch: 31, Loss: 0.044239767019462306\n",
            "Epoch: 32, Loss: 0.04299083283791939\n",
            "Epoch: 33, Loss: 0.041811130424235565\n",
            "Epoch: 34, Loss: 0.04069585968573977\n",
            "Epoch: 35, Loss: 0.039639232367820416\n",
            "Epoch: 36, Loss: 0.038636467165338834\n",
            "Epoch: 37, Loss: 0.037684326000070496\n",
            "Epoch: 38, Loss: 0.03677830214415175\n",
            "Epoch: 39, Loss: 0.03591570062199025\n",
            "Epoch: 40, Loss: 0.035093212354411485\n",
            "Epoch: 41, Loss: 0.03430812187282191\n",
            "Epoch: 42, Loss: 0.03355775352142383\n",
            "Epoch: 43, Loss: 0.03284014187493912\n",
            "Epoch: 44, Loss: 0.032152980681146595\n",
            "Epoch: 45, Loss: 0.031494306145696496\n",
            "Epoch: 46, Loss: 0.030862583049840513\n",
            "Epoch: 47, Loss: 0.030255986320238057\n",
            "Epoch: 48, Loss: 0.02967309071421053\n",
            "Epoch: 49, Loss: 0.029112703599384986\n",
            "Epoch: 50, Loss: 0.028573161681917696\n",
            "Epoch: 51, Loss: 0.028053607616927295\n",
            "Epoch: 52, Loss: 0.02755295880521068\n",
            "Epoch: 53, Loss: 0.02707006625121856\n",
            "Epoch: 54, Loss: 0.026604160250016405\n",
            "Epoch: 55, Loss: 0.026154156833425597\n",
            "Epoch: 56, Loss: 0.02571945412017062\n",
            "Epoch: 57, Loss: 0.025299086112926458\n",
            "Epoch: 58, Loss: 0.024892400844729014\n",
            "Epoch: 59, Loss: 0.024498878128846022\n",
            "Epoch: 60, Loss: 0.024117661100529805\n",
            "Epoch: 61, Loss: 0.023748386771729846\n",
            "Epoch: 62, Loss: 0.023390407848083192\n",
            "Epoch: 63, Loss: 0.023043189885356696\n",
            "Epoch: 64, Loss: 0.02270628287291262\n",
            "Epoch: 65, Loss: 0.022379269129217418\n",
            "Epoch: 66, Loss: 0.022061723818847866\n",
            "Epoch: 67, Loss: 0.021753175275764935\n",
            "Epoch: 68, Loss: 0.02145321288954237\n",
            "Epoch: 69, Loss: 0.02116142495269222\n",
            "Epoch: 70, Loss: 0.02087771372958152\n",
            "Epoch: 71, Loss: 0.020601497742205134\n",
            "Epoch: 72, Loss: 0.0203326924939238\n",
            "Epoch: 73, Loss: 0.020070868138990026\n",
            "Epoch: 74, Loss: 0.019815851179882885\n",
            "Epoch: 75, Loss: 0.019567363762210955\n",
            "Epoch: 76, Loss: 0.019325077639818614\n",
            "Epoch: 77, Loss: 0.019088802887805893\n",
            "Epoch: 78, Loss: 0.018858343194300735\n",
            "Epoch: 79, Loss: 0.01863346510061092\n",
            "Epoch: 80, Loss: 0.018413915291549295\n",
            "Epoch: 81, Loss: 0.018199553315970684\n",
            "Epoch: 82, Loss: 0.017990204218791866\n",
            "Epoch: 83, Loss: 0.017785620911204853\n",
            "Epoch: 84, Loss: 0.01758578025304493\n",
            "Epoch: 85, Loss: 0.017390434056429767\n",
            "Epoch: 86, Loss: 0.017199427158680166\n",
            "Epoch: 87, Loss: 0.01701257893896995\n",
            "Epoch: 88, Loss: 0.016829884875064788\n",
            "Epoch: 89, Loss: 0.01665109258736872\n",
            "Epoch: 90, Loss: 0.016476110532620134\n",
            "Epoch: 91, Loss: 0.016304783532161863\n",
            "Epoch: 92, Loss: 0.016137077715166506\n",
            "Epoch: 93, Loss: 0.015972828321119254\n",
            "Epoch: 94, Loss: 0.015811968305313617\n",
            "Epoch: 95, Loss: 0.01565435277261713\n",
            "Epoch: 96, Loss: 0.015499856166683194\n",
            "Epoch: 97, Loss: 0.015348440152652352\n",
            "Epoch: 98, Loss: 0.0151999859330115\n",
            "Epoch: 99, Loss: 0.015054450756812002\n",
            "Training complete \n"
          ]
        }
      ],
      "source": [
        "num_epochs = 100\n",
        "from statistics import mean\n",
        "loss_values = []\n",
        "\n",
        "nnModel.train()\n",
        "\n",
        "for epoch in range(num_epochs):\n",
        "  for X, y in train_dataloader:\n",
        "    # zero the parameter gradients\n",
        "    optimizer.zero_grad()\n",
        "    # predict the value\n",
        "    # forward + backward + optimize\n",
        "    pred = nnModel(X)\n",
        "    # calculate loss\n",
        "    loss = loss_fn(pred, y.unsqueeze(-1))\n",
        "    loss_values.append(loss.item())\n",
        "    loss.backward()\n",
        "    optimizer.step()\n",
        "\n",
        "  print(f'Epoch: {epoch}, Loss: {mean(loss_values)}')\n",
        "\n",
        "print('Training complete ')"
      ]
    },
    {
      "cell_type": "code",
      "execution_count": null,
      "metadata": {
        "colab": {
          "base_uri": "https://localhost:8080/"
        },
        "id": "NjgGMt_15nyr",
        "outputId": "ea9c919a-e8a0-43fe-b6f8-8d76d5f0fc8b"
      },
      "outputs": [
        {
          "data": {
            "text/plain": [
              "list"
            ]
          },
          "execution_count": 207,
          "metadata": {},
          "output_type": "execute_result"
        }
      ],
      "source": [
        "type(loss_values)"
      ]
    },
    {
      "cell_type": "code",
      "execution_count": null,
      "metadata": {
        "colab": {
          "base_uri": "https://localhost:8080/",
          "height": 449
        },
        "id": "rFwk_UMquc-1",
        "outputId": "013996b8-8cfa-4e2e-e214-e942bfced362"
      },
      "outputs": [
        {
          "data": {
            "image/png": "[encoded data removed]",
            "text/plain": [
              "<Figure size 640x480 with 1 Axes>"
            ]
          },
          "metadata": {},
          "output_type": "display_data"
        }
      ],
      "source": [
        "import matplotlib.pyplot as plt\n",
        "\n",
        "step = np.arange(len(loss_values))\n",
        "\n",
        "fix, ax = plt.subplots()\n",
        "ax.plot(step, np.array(loss_values))\n",
        "ax.set_xlabel('Step')\n",
        "ax.set_ylabel('Loss')\n",
        "plt.show()"
      ]
    },
    {
      "cell_type": "code",
      "execution_count": null,
      "metadata": {
        "colab": {
          "base_uri": "https://localhost:8080/"
        },
        "id": "ZnHffj513Lht",
        "outputId": "88ced0e0-14e5-4304-d96a-3330e5798630"
      },
      "outputs": [
        {
          "name": "stdout",
          "output_type": "stream",
          "text": [
            "64    64\n",
            "64    64\n",
            "64    64\n",
            "64    64\n",
            "64    64\n",
            "Accuracy: 1.0\n"
          ]
        }
      ],
      "source": [
        "with torch.inference_mode():\n",
        "  total, correct = 0, 0\n",
        "\n",
        "  for X, y in test_dataloader:\n",
        "    outputs = nnModel(X)\n",
        "    outputs = outputs.detach().cpu()\n",
        "    predicted = np.where(outputs < 0.5, 0, 1)\n",
        "    predicted = np.squeeze(predicted, axis=-1)\n",
        "    print(y.size(0), \"  \", y.shape[0])\n",
        "    total += y.shape[0]\n",
        "    correct += (predicted == y.numpy()).sum().item()\n",
        "\n",
        "  print(f'Accuracy: {correct/total}')"
      ]
    },
    {
      "cell_type": "code",
      "execution_count": null,
      "metadata": {
        "id": "f18oYi0g6sRo"
      },
      "outputs": [],
      "source": [
        "# what is this above thing real i tried this thing but it was not correct prediction"
      ]
    },
    {
      "cell_type": "code",
      "execution_count": null,
      "metadata": {},
      "outputs": [],
      "source": [
        "torch.save(nnModel.state_dict(), 'model.pth')"
      ]
    }
  ],
  "metadata": {
    "colab": {
      "provenance": []
    },
    "kernelspec": {
      "display_name": "ml",
      "language": "python",
      "name": "python3"
    },
    "language_info": {
      "codemirror_mode": {
        "name": "ipython",
        "version": 3
      },
      "file_extension": ".py",
      "mimetype": "text/x-python",
      "name": "python",
      "nbconvert_exporter": "python",
      "pygments_lexer": "ipython3",
      "version": "3.12.2"
    }
  },
  "nbformat": 4,
  "nbformat_minor": 0
}
