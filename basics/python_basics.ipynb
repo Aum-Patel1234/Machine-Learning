{
 "cells": [
  {
   "cell_type": "markdown",
   "metadata": {},
   "source": [
    "**Python Lists**\n",
    "<br>\n",
    "Lists are one of the 4 data types in Python used to store collections of data."
   ]
  },
  {
   "cell_type": "markdown",
   "metadata": {},
   "source": [
    "<img src=\"data:image/png;base64,iVBORw0KGgoAAAANSUhEUgAAAXEAAACJCAMAAADt7/hWAAAAkFBMVEX///+enp719fXv7++5ubmysrLT09PX19cAAAD7+/v09PT4+Pj8/Px/f3+CgoLp6el3d3eioqKPj4+JiYnj4+Pr6+txcXG/v7+NjY3Hx8eYmJjd3d2pqanPz8/FxcVtbW1jY2NcXFxVVVVNTU1HR0c8PDw1NTUlJSUfHx8uLi4TExMyMjIPDw8jIyNBQUEZGRlmERHuAAAY8ElEQVR4nO2dC3+jKte3l+IhiiCCR8RTeprOzO7+/t/uXWjaaVqTSdPp/j1zv/73nqZpzGJxCQguQIBNmzZt2vS3q/O+SlX1daa/zvLXme4OxHVMvkZx33yZaflllpv+y0zrA3Hny2pPEH6Z6a9zOgy+zLTz5vXPayN+rI34qjbi69qIr2ojfqzXxKN723NpnhKy/2dPQH27v/8mP53CTDz79/7+QYw+wI1Pvz0+PobwVOHfw4fHx3/YJ533Hx4fRASlBlf8cxuA/++P+4dyyCAuH/5twL3B7sEOEdbfCwCDB98RfYMZfSAnLS/E+T+PHR72+PhNJrvHu8efxbWevnd6Ib5r8Ge/g+kpu3uEynm6dfpPpzAT7/T+h/buDMCDoTuV7f+Fn579cKcd7X3SefPdcXYD7Gv45zHb70ioxwft3Uh4+tfhuyp63BHYdRB9+4lfcL45zu0+2hnYnSlNM3Gzc8Qu7q2LPUi5Uzq+1tP3Tr8m/hNuGRA/ASivLn2vdGhV9ATwA4k/IvEcqh18X4gnnzD9TPwJEe3cSQY7Comtp+YWK5NudkhI38EPPB1IvP/m/cTvYOl2HsHbOf+esTwTdx4j8El/OI7s/kQJP0E8eNjd2zo/iD+QwoG4ROL3B+Io9VzGUf61pp+J3wG4OzJJPI+LMkvc8fFMQPOdPphdi8RLablnmOA3zNx+d66pnonH+93OwTqPwqpeYEH5E1ojTlMIjLX/p4nfZgtxv8MMHYg3QXe6Of2NXpXxdBdPsrHErbWZuK6+R/jrI3zr5O0ucL/fsJ8CnLvwu21OXs7OqmbiKeT9zjS7LujiryJuwiDvv8c7lle78M8TH34E1a6hi+v/akws3AVt2F5r+pn4jzAcb2HCMsxax1pfiNPdEFY7nXzrYbcLmt047ndRdgOtrVUXEB/uw/DfrPkZtmH+VcRRExaUDl9tORiHP5DCgbjC9jN/3O1KiHczYpvY7dyq3F9r+uC8bSjuc7jh2PWx7QB+8APgrobg0ebD3VV4Eez2pU3Ud7AJktgke78nHj/tdjd4anb25UuIg4uiiYvsXde+p/QPpHAgHllbyWx3tr0kdvh5pQ7Oo7fWpPU2WYzZxGg0J2J/JPafG83HzH7EESTuOcuH/rj9evLs4tkvfNjpbQR0rG3Mua6N+Ko24sfaiK/qPyCefVkK13f+fquvc7r9umLy7DT3v0pSf5Vlb/C+yrSWX2XZ5wfiju1ifYVo19EvMh3pv9HprR1f1XblXNdGfFUb8WNtxFe1EV/X/wBxLQG8MFu9SfYyfQsgUjF/eUN/E1BYiMf3BYBw1wNd5a9f/VD+CrVUv7lzbp2m31yI1a+/FfrX7zVl0S/L520dayYu0ZR+xUL+cifPWvPypu3gAzoiTsuRgh84ORgDYYpO5nnuzPZCY7o2hSbqO0MjFjXQOiGkmQ/VUwvmTHYW4j7DFAZXQatbqCAM8YeX2dtxiQlHfEOCuMk68LvOBd9EUDltspcQ6jP3SGfiOwaxgHiJyMZZI6GBvM07zAVze6CZB4nvkPaugt65NPixEH9oQebQZPO3Go/HDYUeeg+5aBJC56RIwQM10jirLrR8TLzJ0BgSL8ogHFtd7CIdDrTGPLeCTIHfAXcH044Ji1kxkrIYXU8XDKa0USdTWIgP8ZQg8ToXsQiZyxgI389tTWFds4cR85B+I7zzA0VY02jPj/du3QbKFaeRz8THrKIMblJj3415pvBd5TX7eCKclnCbG08H5A5KmvlkuvDO8EK8H0GmvlNMMdY3md5TRkDAQ9ew1AlNx8mQs0hWlYlG4l86AD4iXnbh3hIPBLYABa9kN0AtbHRsLn1IXNERx6cpi/ncyJDKqWOV/JCqPJXAQjyf3LJB4jILkK3fadF5+ShTJDYgJxggd3IHUukFshjt1zpvJJpIUQ+npxPMxCc84byVEKHThYBCIvG+6iuoekUFmcNYjX8LDEZVjxdGFWbidVtlTjG4YBqbaSxunKAZdHhKndbntuinHpLw2ptaXRqFf008vtP6KUfirTWKrFMhgbgSmwy/gsyW8cESLwkSrzyogrFtkDjsMa8nU5iJSyHVYIn7PVbGYvB0SUnU3uA1YU5rhFCmEoIMiZM9RL42RUkk0cG5sMhMfA/hyLGixXjSYzxzymXobu+B6ZC4O0FRib6YiVMgF04dWIiHICYiCkAvQLZQuixGT8cDcfyL3wisQk3VqnME3jv9/Oog2k54nU6Nkg54N/AzhMGIFsAV5r5rR3NHSyUzwKYBP8CWxecsmXIt1elugyUe3eEvT9gIcTpkA4GHsHmCSmS2LfJriTgcodOnrCSIqfBq1Wfa3KZGktGMp7NiE3XxrOHJ5JrZsLjWJYO9mapmnwkQWIGkw1ruZD9AVGGZDdFJY0eaifMAyC5th4zheUpF9tOthHMDN5r3uQ4NGTLZDr5tZiORiUsb8qMybgsAoZGbQIE1JoltXDxK52kxNHUjIMTFgoIEYvwvSiNwUzwojufDT8kST+znLn3+GtrF7wFJ5wMIGkhSSvFqRGFOneDhBTqC5YamZ1re2fnFU1jcxBcXk6BJ5R3ctB8kqesCJRCnF1I5xDmtp8nzt9zCBvTRfInuJW5CMfc2D5h4kUB68YSED/fH95ce+KyL++Pth2fcnXHau3qi16xz/fHpU5a3EdC6tjHnuv4XiUdXz5d60Snin7f8hU6fIn5pX+eMfkO81et//4BOES8v7Dac0Qmn889PwT5FvPz8DJ7XxF0mpV92UHEVtdjhM2We75WEpOYeSBUapa84xTNx4whf41i8ZhX214SnNAjFAmg4j0MuC86uqcZzf9w6LRrrNEWnNTqdHpz2r3d6mc3ssGOnJTDFOus0aWenP3RD5ZXTz6/xHofcMJGSVjrk2M1vnXQAU+meinSKoye4ZlLmTFwFKY6Y87qj+2RPcEw7gWijMZ5oKEIJqkmumag+E78B3sAUD7SXLY5y8lbjoNX3nAqdHklyd5XTywioQ0s6lw2d6ETCEsc+IkwGMrnodA2qh4tvprxx+vk15qAIjO2YZU3gA3PnkXdrhONksYiguhmuqFTLmDMlCpy21E4WTdA6OFRmFFgwZTjK9LF23V3rPI4wZYpOo6U+NMDjXBca2sw6TQSF/ma4Yvracl/FOp2h01lGJ8g1lNZpPjuNSVF2d00X9Ig4A1VgGR8g7QKDxLGMCzC97KCnZUQrMFck8Yp4zkPwYSaOxSWPBnIDbt/5UFEYr6j7M3EBdYpOj1B0iIFZ4iUO82UDvSuodfqK+ekL8ZxwLCYqAA9m4gM6nVinaYV80OnpSqefX2MJ2t4c85koQmy53dwUI9cQMeaAikDx+toynhVEg8ljzgwmkGNZhFqJEEf6IsekwpJd26q4EpwCbXpMpK0POs4NGbmEiDMN6K/C9v3jlmfiWYpO+y06nVmnM1B4YUCneyFadLq93unXr39eW3/8WBvxVW3E17URX9VG/Fgb8VVtc2vX9VfPrWWZ8zXKOP8y0+Pf6DR7Q/7P6+8q48ms/6KMb+34LLJMOSbblXNdX0D88LIRX9fHnW5+M1+FJKQgRbIRP6GPOy1+cyeEAOnwrPx3xOM8PhkOm2fqxB+/WTYTtxMRDt9Nnk2c26zkssQWp90zTi8JzbNC5l/nSS3xc/QpeecCSeY5Hc/EixPTLSJ4n+Lp7BzPcToi3iuDheDEYvzG3vRUH1+bPhNnaJQv333ZFqY8A7Syt4Xl7xJbJktyIyo7UeqkrJ1kOWAm7j/bLd7Nljz4thCPeJatxgYbG/t5m+Lp7DTm9bujqJudiyJh0oyAVhIqww2ETGuolE66UmXzfW71sWZiuT8+VVCnVPLefbLTOxuuXKFZCKbmpHWkhIJrBqFSBWRK0aZUBnSa1vxc3/IQA7JO7x1WoNP1K6d7JWkklQZH8QrLUVeriFviXlo53IOOZxp8/NxvIm6zGCW8j2KrhbiDp91riUKDJmMdaI1pOPhuKvHMDBKLUKNqe0o6zn9lJ7fZiWs5QF6rFvxa+2+dfn5tl0nhN0mXFQ3o0BgbnogCEY+0cgIOMtRkTIvpQzHhQ9RtdCXRHZTETpAkAwRBmRcCDDRZiJZblsf3YGNbrge+19WgbMwvJ+dmJM1OLyOK26Rzih6cwDc2BBcFpYtO6zxA00hu75bRQPKhtsSd3KlgDzfQ1zmnvomGoU1L6hkZgCiSKIqWUb6Y2xRs1gc6tPEIkxvKyoDsPGtln8YjKeOG2+wk4a/soEeyRVPfYUzTEaE6p4lb5xsQ0GbgsH1oQmBtCZSHo+P0HZYKX5OnzMk+FMZaiLctx7NFwYQKibd2GMAiysBnpQl9LGbzFNv7zMHyxMaqqaD3nHbCMdqZ02udzsXsdAm5g07PU65ZPlinpwzBajblOsXiIwi+99VCPGtB5BwK3ZSO04CZoMEsdnh21TLL8YV4kVPFb6IRkhIYEKlbCPzKWinxgABtYkVonefseKzMQgN+V7qYnVvMjl8htlPEsXBAvkdTbeZ7oEITACuwbohiBBJ0mKNAkidsZD90+VyIhyAfSI0ZTW0ZR6tBxillrQDPumiQCDzBLV5LGg2Z12AD1up8n8C5ON+L0zfYaKDTPtQz8dlpYp3WDRYarFpjjGXeXqheiJfRBIEKFaShW7IgL6EI8So1kl/EK41cQ5HDRGfiAkjtVZD1cxmfomhMS3CbJTvOITvVkh00dQ/ofhXKN2G/I+K5YIImDFqTDjVv/BAU7UqOlUWUaTAyDbrIS/GxuOHSjmNzfEdi+93KXpl9JhJFqUoGJbMWy3iYlvUNNKLs4qGufUzMgSxtS/Fb4ik67WL5y01hnfYCdDp4drodahbiLxUeUIkhr+0kX5Obdn5fOlgHyliG2MJkoiyikr8mjrWt9KEvZRkLQCwKyzhwIaEdsR0XfMBGmg32Muy9y04s1COEZWlr2VDl4wniK0p8CD834ebC/rhPsep+UGecPjFtlF+4D9Wn++MVeT0nNnrVW/ntCAiv4Z/bPOdC4qGqL55r/KxzTq93j7MLSX6aeK7qV/mmrxD+fzbmvFTbKH9dG/FV/b3Eu5eWaW3wm66Mzaqjv69PM9uIr+owJ4vOt1CSeF4+NO8eFyeQLLvCNb69XRItLXRkTw61F0vameVmAT2xnGQjvqqF+KA0YiM8uMNOd14qnozOVHilHvHT7laXScjtMm9oGI7pPZFNICTzIxzwJ51wbs86vRE/0kK8hQG7rESBHYyrFlqaRllfefMNvQaHlk3pN3c4Sk2pO5IBkjHUUPlGNqIvKdyddXojfqTD3FpgOFKN2Uwcx8p5LDLWVP18N7Lx8P8hCHNscXpmpgKH/WPjQ+Brr20pNkTrS7Q24quaiSscesOe+CXYWdx+Fk+VToYeB/p24Xwz0rLQvmsnBQ9t8S1iYX8Tja7wO5HUue7z3erU9Y34qmbijecQSHXfw3wjpdIFGBN0bQsNksw9jTnztO2apI7XE2p3NWgdL4RO4/G+8cFZ6WRuxFf1h/rja9uVbMRXtY2A1rURX9X/FHH6crft/TCUXLbCayO+qlPE05eR+/tdLKrLFkltxFe1rAOSpQ9NKXLC1bDcY8lNpxiHfMhG6JjIWw4jbZhIQXJ+2aqgjfiqlvWcAYzRDcQDKaFaYgqt02RQkjKmE9y6+QhK+NEUh2XggL5sgeRGfFWHO1kgbLSd5XKODueqzp2+AmUnGAhya0wF6Q7sL43fQLUR/4SeiZfJDaQDUWDvCBaeNxPnhKUI/Q5iH4ZKJHsgXluD2oh/Qsu6fGydIWB1SjIIF5y53zWQEcIlh5DzFot+nQec52AUv2yV/kZ8VVt/fF0b8VVtxI+1EV/VRnxdfzXxba3bkbb1nOumt/Wcq9rK+LG29Zyr2q6c69qIr2ojfqyN+Kr+M+IkfIkqvZvM/eHZ3QcdiLftc9AkfjsfPb72MfTLwg67Y/fbT97tWf5B72fixO6l/TbU885Z94PeHxGvuCefL6Xj2yPXZxj9XjNxKow/HOKAfvPmCO+avQ6trNPRE0J/twT13eLKD27ivawuRL+Gt/HMd7G1zsCH9Jp4bKEOacVNK7ISes7iVNREcgOtMOPHDL9oJm6fZJKOwHmqa9VF8w6nsuk4I+Aodc0mds9OJzfzejcuyxQcpqGqnbR0BDRoO2cKJM8gFc4HvV+ibki8THvJMrtCKrDeo7MVWCBSdSFjOWRcfnA7xdfEQ7ue0/OzHsaI7OngBiIVoCtatmVMPlXGS1urf2BJqwzwQPd0JCKNhzifQg3yDxC/gUB3Gfi+78EUkdGd4nzIFRifqrAkmPaH9It44fsw0D1EYzxiGqCbzKO8LQsbdRtaCdkniM9LI01v2ljYx3PcZFmVa2A6M3at1rVPcp+Jz4tR7wHPXwhegCYzwmg+YQrm4nDVuvPRQryEPHMCKKTfIX3g1rbXZqBkluXDSiN5Xgvx3jpunxCTYnGrc2YfmtL3fPbedW/Re897s1rzMqdfXscc3CfIQjyp5MYdgVjiWAI9IsjZxcPnNBO3zwsydmfM3gCzqyz9iLlkhMjHMl5/pozDPgXfmddzLmW8s4+6mNwboJa48aFH75OHj1meifcK6C3YpyDRfUTHmNllf7LPPOhjFsOdTUG+WZF8odPPr6TGpgr8FlqmFPRM5KkBWnMNOZMXrst7p6WvUnFs/KjEhLgII8UdkC5eKYRtCcU1m0q/ON2WQw2g7NasGttxL8RmW3E7t6FtEYb1vmD89POKVrX0Dp1h6KAKwYlzwQNYvO9mk9qFgGHbbthHt1Ld+uOr2kZA69qIr2ojfqyN+Ko24uv6q4lvEYkjbVG3ddNb1G1VWxk/1hZ1W9V25VzXRnxVG/FjbcRX9Z8RT8/soknfBstelnbNm4SmxfLvnWbibp7nK4/lsfuZRm+jVi/PB3zZbxVcPM59vwPd4nSc/1pk5j4n8nbd2S/vD0cU+If05KZ2B+KveTxbPM3hOUCX2gfWnrJ8TJyr+vRd8ObtXcmXDUZtIIPs0Udv7Y7uEgNivll5QJTdIu7d4xHFcxb8l16OfdBx+z66NTvdK//XM45fInrjm0NfgmXpYoYw+0T2k52dmTjlJvv1XLVni/1bDi+hmsOGYjaQEbOTSw1fE3dv7Z6uEZecKkgkGCXcVmmquU2kG1QGXu139oZlxVRst66kNW/ID2RG5v1A1+6JLs+86hBbSO12phwiCVLbR3RLgWWonZSGvja5Yh50jFFG/WrZrFQUcl5AFs6U+Lsd0qzT8y6qGmrI/aKWppHRvFPEqFhKuA0ZSki5CPsKz6x9+qC+zTPMyGwy5meJ2zhn1fYhODSTFQsq6BrLgTuQyb5RIgCf1TDMHFQf3zu54q199htm+GSf+KiMZ3sWgu5gP++oGFXQm1BB5lP8M3QKtI0lGCBlPCBILhFf5w6xDePOxKPTxLlnSpB2F9UJaAkTDbTn2xAItCVkjfGgcuEpGbH7rowDvqEqNK0xYE82nyPx/rtQkXX6sIvqAK2TC/AD3aZ2j5l94doH1GG/WrYij0yjWZSWtJd5Rkao6Fxj4pPPuJ+Jl0uyNiIxpomgYl7EiRxkyFrkQIecg0cGPDMijMdY0TJEaMy9nDhAPoV4imp3sOXVF4NvH06nHWfZT6TzdQqhEGL2d7oLYMKh2cz5d8RNu0+RM5hwhEhgMSykzkHn846qbeYHkDJ+F9eW75OBWmKaJkzqe5vS0li9D2+9hAr7OeqW45nqWmfe0hk9mQiilwxzhO+bbwJLZ+b09qBb5vK51ptT0YRlF9Xc7qJqo26HPT0L2+bOHCSBQDDR20KwXzhkrorj8q7r5qaKsFO7vx5FlkfrgxPAQMckvmkVFjUkrrE24YWg01jGZQoPkI6kxOLPsUKLFqpk+D1xp4HiHuoWymICgt+DVHrVUsY5lnEkvqfwDct4Z3g0FljmO5K1AYE9lpjleY/vGtDF+YnYrV+x3OrcbrMMbLR/3VM6InFpd1Et0UrTZF4+AOlyx+2wHleWdXK+jPd4xoYQTS51HrrJBqsa5BAqEt0AGRGR0w1YIoYcOXDXg2Q/X3TOxG6Pyrg/jRIoU1McjpJFQmm7JWjEmS16gW2/nBRLjebYfvHE7jxNhcjA578lbrABNPZoH4JRcmx2Cw2KT1hv85FJ8EOsURrPo8Crg4snQTGFpagtmS3jZg7L6XcdqdnplDGsx0YogxdFr4NsLmOCD0XhYJMleZAKkTd2X3XDROoOLcP8hPYocp64Pd5DrrLEBiXBDM7B0mBgjn3GI3JgkKHvAjzjCoYcZFeybmlVnEtblUXq409tnZ2naz2dP9Afd+3pTN5f5tb64xG/yPl5d2jybsf3Z632x0/szPpW/Ari5uPT0lyG1SirVz75EyMgj67eEVsj7l84RQprK15UTn26Rpyw053so+8au6nQya7+NuZc1TbKX9dGfFUb8WN9PfEtInGsZ9Lyi4JMTlbXX2ZafFVozKnrLzP9uf3zN23atGnT/wX9P25Zv2DQmTbJAAAAAElFTkSuQmCC\">"
   ]
  },
  {
   "cell_type": "code",
   "execution_count": 28,
   "metadata": {},
   "outputs": [
    {
     "data": {
      "text/plain": [
       "['John', 'Peter', 'Debora', 'Charles']"
      ]
     },
     "execution_count": 28,
     "metadata": {},
     "output_type": "execute_result"
    }
   ],
   "source": [
    "name = ['John', 'Peter', 'Debora', 'Charles']\n",
    "name\n"
   ]
  },
  {
   "cell_type": "markdown",
   "metadata": {},
   "source": [
    "**Getting values with indexes**"
   ]
  },
  {
   "cell_type": "code",
   "execution_count": 29,
   "metadata": {},
   "outputs": [
    {
     "name": "stdout",
     "output_type": "stream",
     "text": [
      "4\n",
      "table\n",
      "chair\n",
      "rack\n",
      "shelf\n",
      "\n",
      "shelf\n",
      "rack\n"
     ]
    }
   ],
   "source": [
    "furniture = ['table', 'chair', 'rack', 'shelf']\n",
    "\n",
    "print(furniture[0])\n",
    "# 'table'\n",
    "\n",
    "print(furniture[3])\n",
    "#shelf\n",
    "\n",
    "print()\n",
    "\n",
    "# Negative indexing \n",
    "print(furniture[-1])\n",
    "\n",
    "print(furniture[-2])"
   ]
  },
  {
   "cell_type": "markdown",
   "metadata": {},
   "source": [
    "**Getting sublists with Slices**"
   ]
  },
  {
   "cell_type": "code",
   "execution_count": 4,
   "metadata": {},
   "outputs": [
    {
     "name": "stdout",
     "output_type": "stream",
     "text": [
      "['table', 'chair', 'rack', 'shelf']\n",
      "['table', 'chair', 'rack', 'shelf']\n",
      "\n",
      "['chair', 'rack']\n",
      "\n",
      "['table', 'rack']\n",
      "\n",
      "['table', 'chair', 'rack', 'shelf']\n",
      "['table', 'chair', 'rack', 'shelf']\n"
     ]
    }
   ],
   "source": [
    "furniture = ['table', 'chair', 'rack', 'shelf']\n",
    "\n",
    "print(furniture[0:4],)     # here 0 is inclusive whereas 4 is exclusive\n",
    "print(furniture[0:8],end=\"\\n\\n\")    # if the index is more than length it will consider till last valid index \n",
    "\n",
    "print(furniture[-3:-1],end=\"\\n\\n\") \n",
    "\n",
    "print(furniture[0:4:2],end=\"\\n\\n\") #[start(include) , stop(exclude),steps]\n",
    "\n",
    "print(furniture[:]) \n",
    "print(furniture) "
   ]
  },
  {
   "cell_type": "markdown",
   "metadata": {},
   "source": [
    "**Getting a list length with len()**"
   ]
  },
  {
   "cell_type": "code",
   "execution_count": 17,
   "metadata": {},
   "outputs": [
    {
     "data": {
      "text/plain": [
       "4"
      ]
     },
     "execution_count": 17,
     "metadata": {},
     "output_type": "execute_result"
    }
   ],
   "source": [
    "furniture = ['table', 'chair', 'rack', 'shelf']\n",
    "len(furniture)"
   ]
  },
  {
   "cell_type": "markdown",
   "metadata": {},
   "source": [
    "**Changing values with indexes**"
   ]
  },
  {
   "cell_type": "code",
   "execution_count": 18,
   "metadata": {},
   "outputs": [
    {
     "data": {
      "text/plain": [
       "['desk', 'chair', 'rack', 'shelf']"
      ]
     },
     "execution_count": 18,
     "metadata": {},
     "output_type": "execute_result"
    }
   ],
   "source": [
    "furniture = ['table', 'chair', 'rack', 'shelf']\n",
    "\n",
    "furniture[0] = 'desk'\n",
    "furniture\n",
    "# ['desk', 'chair', 'rack', 'shelf']"
   ]
  },
  {
   "cell_type": "markdown",
   "metadata": {},
   "source": [
    "**Concatenation and Replication**"
   ]
  },
  {
   "cell_type": "code",
   "execution_count": 20,
   "metadata": {},
   "outputs": [
    {
     "data": {
      "text/plain": [
       "[1, 2, 3, 'A', 'B', 'C']"
      ]
     },
     "execution_count": 20,
     "metadata": {},
     "output_type": "execute_result"
    }
   ],
   "source": [
    "my_list = [1, 2, 3]\n",
    "my_list = my_list + ['A', 'B', 'C']\n",
    "my_list"
   ]
  },
  {
   "cell_type": "markdown",
   "metadata": {},
   "source": [
    "**Using for loops with Lists**"
   ]
  },
  {
   "cell_type": "code",
   "execution_count": 5,
   "metadata": {},
   "outputs": [
    {
     "name": "stdout",
     "output_type": "stream",
     "text": [
      "table\n",
      "chair\n",
      "rack\n",
      "shelf\n"
     ]
    }
   ],
   "source": [
    "furniture = ['table', 'chair', 'rack', 'shelf']\n",
    "\n",
    "for item in furniture:\n",
    "   print(item)"
   ]
  },
  {
   "cell_type": "markdown",
   "metadata": {},
   "source": [
    "**Loop in Multiple Lists with zip()**"
   ]
  },
  {
   "cell_type": "code",
   "execution_count": 6,
   "metadata": {},
   "outputs": [
    {
     "name": "stdout",
     "output_type": "stream",
     "text": [
      "The table costs $100\n",
      "The chair costs $50\n",
      "The rack costs $80\n",
      "The shelf costs $40\n"
     ]
    }
   ],
   "source": [
    "furniture = ['table', 'chair', 'rack', 'shelf']\n",
    "price = [100, 50, 80, 40]\n",
    "\n",
    "for item, amount in zip(furniture, price):\n",
    "   print(f'The {item} costs ${amount}')"
   ]
  },
  {
   "cell_type": "code",
   "execution_count": 32,
   "metadata": {},
   "outputs": [
    {
     "name": "stdout",
     "output_type": "stream",
     "text": [
      "[('table', 100), ('chair', 50), ('rack', 80), ('shelf', 40)]\n"
     ]
    }
   ],
   "source": [
    "a = ['table', 'chair', 'rack', 'shelf']\n",
    "b = [100, 50, 80, 40]\n",
    "\n",
    "x = zip(a, b)\n",
    "#x   ---> explain\n",
    "print(list(x))"
   ]
  },
  {
   "cell_type": "markdown",
   "metadata": {},
   "source": [
    "Getting the index in a loop with enumerate()\n"
   ]
  },
  {
   "cell_type": "code",
   "execution_count": 7,
   "metadata": {},
   "outputs": [
    {
     "name": "stdout",
     "output_type": "stream",
     "text": [
      "index: 0 - item: table\n",
      "index: 1 - item: chair\n",
      "index: 2 - item: rack\n",
      "index: 3 - item: shelf\n"
     ]
    }
   ],
   "source": [
    "furniture = ['table', 'chair', 'rack', 'shelf']\n",
    "\n",
    "for index, item in enumerate(furniture):\n",
    "    print(f'index: {index} - item: {item}')\n",
    "# index: 0 - item: table\n",
    "# index: 1 - item: chair\n",
    "# index: 2 - item: rack\n",
    "# index: 3 - item: shelf"
   ]
  },
  {
   "cell_type": "markdown",
   "metadata": {},
   "source": [
    "The Multiple Assignment Trick"
   ]
  },
  {
   "cell_type": "code",
   "execution_count": 35,
   "metadata": {},
   "outputs": [
    {
     "name": "stdout",
     "output_type": "stream",
     "text": [
      "table\n",
      "shelf\n"
     ]
    }
   ],
   "source": [
    "furniture = ['table', 'chair', 'rack', 'shelf']\n",
    "a, b, c, d = furniture\n",
    "print(a)\n",
    "print(d)"
   ]
  },
  {
   "cell_type": "markdown",
   "metadata": {},
   "source": [
    "# Adding Values"
   ]
  },
  {
   "cell_type": "markdown",
   "metadata": {},
   "source": [
    "**append()** <br>\n",
    "append adds an element to the end of a list:"
   ]
  },
  {
   "cell_type": "code",
   "execution_count": 38,
   "metadata": {},
   "outputs": [
    {
     "data": {
      "text/plain": [
       "['table', 'chair', 'rack', 'shelf', 'bed', 'mirror']"
      ]
     },
     "execution_count": 38,
     "metadata": {},
     "output_type": "execute_result"
    }
   ],
   "source": [
    "furniture = ['table', 'chair', 'rack', 'shelf']\n",
    "furniture.append('bed')\n",
    "furniture.append(\"mirror\")\n",
    "furniture\n",
    "# ['table', 'chair', 'rack', 'shelf', 'bed']"
   ]
  },
  {
   "cell_type": "markdown",
   "metadata": {},
   "source": [
    "insert()\n",
    "insert adds an element to a list at a given position:"
   ]
  },
  {
   "cell_type": "code",
   "execution_count": 43,
   "metadata": {},
   "outputs": [
    {
     "data": {
      "text/plain": [
       "['table', 'bed', 'chair', 'rack', 'shelf']"
      ]
     },
     "execution_count": 43,
     "metadata": {},
     "output_type": "execute_result"
    }
   ],
   "source": [
    "furniture = ['table', 'chair', 'rack', 'shelf']\n",
    "furniture.insert(1, 'bed')\n",
    "furniture"
   ]
  },
  {
   "cell_type": "markdown",
   "metadata": {},
   "source": [
    "# Removing Values"
   ]
  },
  {
   "cell_type": "markdown",
   "metadata": {},
   "source": [
    "**remove()**\n",
    "remove removes an item with using actual value of it:"
   ]
  },
  {
   "cell_type": "code",
   "execution_count": 9,
   "metadata": {},
   "outputs": [
    {
     "data": {
      "text/plain": [
       "['table', 'rack', 'shelf', 'chair']"
      ]
     },
     "execution_count": 9,
     "metadata": {},
     "output_type": "execute_result"
    }
   ],
   "source": [
    "furniture = ['table', 'chair', 'rack', 'shelf','chair']\n",
    "furniture.remove('chair')\n",
    "furniture\n",
    "# ['table', 'rack', 'shelf']"
   ]
  },
  {
   "cell_type": "markdown",
   "metadata": {},
   "source": [
    "**Removing repeated items**<br>\n",
    "If the value appears multiple times in the list, only the first instance of the value will be removed."
   ]
  },
  {
   "cell_type": "markdown",
   "metadata": {},
   "source": [
    "**pop()**\n",
    "<br>\n",
    "By default, pop will remove and return the last item of the list. You can also pass the index of the element as an optional parameter:"
   ]
  },
  {
   "cell_type": "code",
   "execution_count": 20,
   "metadata": {},
   "outputs": [
    {
     "name": "stdout",
     "output_type": "stream",
     "text": [
      "rat\n",
      "cat\n"
     ]
    },
    {
     "data": {
      "text/plain": [
       "['bat']"
      ]
     },
     "execution_count": 20,
     "metadata": {},
     "output_type": "execute_result"
    }
   ],
   "source": [
    "animals = ['cat', 'bat', 'rat', 'elephant']\n",
    "\n",
    "animals.pop()\n",
    "#'elephant'\n",
    "\n",
    "animals\n",
    "#['cat', 'bat', 'rat']\n",
    "\n",
    "print(animals.pop(2))  # 'rat'\n",
    "# ['cat','bat']\n",
    "print(animals.pop(0))  # 'cat'\n",
    "\n",
    "animals\n",
    "#['bat', 'rat']"
   ]
  },
  {
   "cell_type": "markdown",
   "metadata": {},
   "source": [
    "**Sorting values with sort()**"
   ]
  },
  {
   "cell_type": "code",
   "execution_count": 34,
   "metadata": {},
   "outputs": [
    {
     "data": {
      "text/plain": [
       "([-7, 1, 2, 3.14, 5], ['chair', 'rack', 'shelf', 'table'])"
      ]
     },
     "execution_count": 34,
     "metadata": {},
     "output_type": "execute_result"
    }
   ],
   "source": [
    "numbers = [2, 5, 3.14, 1, -7]\n",
    "numbers.sort()\n",
    "# [-7, 1, 2, 3.14, 5]\n",
    "\n",
    "furniture = ['table', 'chair', 'rack', 'shelf']\n",
    "furniture.sort()\n",
    "\n",
    "numbers ,furniture\n",
    "# ['chair', 'rack', 'shelf', 'table']"
   ]
  },
  {
   "cell_type": "code",
   "execution_count": 35,
   "metadata": {},
   "outputs": [
    {
     "data": {
      "text/plain": [
       "['table', 'shelf', 'rack', 'chair']"
      ]
     },
     "execution_count": 35,
     "metadata": {},
     "output_type": "execute_result"
    }
   ],
   "source": [
    "furniture.sort(reverse=True)\n",
    "furniture"
   ]
  },
  {
   "cell_type": "markdown",
   "metadata": {},
   "source": [
    "# Python Dictionaries"
   ]
  },
  {
   "cell_type": "markdown",
   "metadata": {},
   "source": [
    "**In Python, a dictionary is an ordered (from Python > 3.7) collection of key: value pairs.**"
   ]
  },
  {
   "cell_type": "code",
   "execution_count": 50,
   "metadata": {},
   "outputs": [
    {
     "name": "stdout",
     "output_type": "stream",
     "text": [
      "{'size': 'fat', 'color': 'gray', 'disposition': 'loud', 'age_years': 2}\n"
     ]
    }
   ],
   "source": [
    "my_cat = {\n",
    "  'size': 'fat',\n",
    "  'color': 'gray',\n",
    "  'disposition': 'loud',\n",
    " }\n",
    "my_cat['age_years'] = 2\n",
    "print(my_cat)\n",
    "\n"
   ]
  },
  {
   "cell_type": "markdown",
   "metadata": {},
   "source": [
    "**Get value using subscript operator []**\n",
    "<br>\n",
    "In case the key is not present in dictionary KeyError is raised."
   ]
  },
  {
   "cell_type": "code",
   "execution_count": 52,
   "metadata": {},
   "outputs": [
    {
     "ename": "KeyError",
     "evalue": "'tall'",
     "output_type": "error",
     "traceback": [
      "\u001b[1;31m---------------------------------------------------------------------------\u001b[0m",
      "\u001b[1;31mKeyError\u001b[0m                                  Traceback (most recent call last)",
      "Cell \u001b[1;32mIn[52], line 1\u001b[0m\n\u001b[1;32m----> 1\u001b[0m \u001b[38;5;28mprint\u001b[39m(\u001b[43mmy_cat\u001b[49m\u001b[43m[\u001b[49m\u001b[38;5;124;43m'\u001b[39;49m\u001b[38;5;124;43mtall\u001b[39;49m\u001b[38;5;124;43m'\u001b[39;49m\u001b[43m]\u001b[49m )\n\u001b[0;32m      3\u001b[0m \u001b[38;5;66;03m# fat\u001b[39;00m\n",
      "\u001b[1;31mKeyError\u001b[0m: 'tall'"
     ]
    }
   ],
   "source": [
    "print(my_cat['tall'] )\n",
    "\n",
    "# fat\n"
   ]
  },
  {
   "cell_type": "markdown",
   "metadata": {},
   "source": [
    "Dictionaries functions"
   ]
  },
  {
   "cell_type": "code",
   "execution_count": 22,
   "metadata": {},
   "outputs": [
    {
     "name": "stdout",
     "output_type": "stream",
     "text": [
      "Berlin\n",
      "Berlin\n",
      "dict_keys(['USA', 'India', 'Russia', 'Germany'])\n",
      "dict_values(['Las Vegas', 'New Delhi', 'Moscow', 'Berlin'])\n",
      "dict_items([('USA', 'Las Vegas'), ('India', 'New Delhi'), ('Russia', 'Moscow'), ('Germany', 'Berlin')])\n",
      "\n",
      "The capital of USA is Las Vegas.\n",
      "The capital of India is New Delhi.\n",
      "The capital of Russia is Moscow.\n",
      "The capital of Germany is Berlin.\n"
     ]
    }
   ],
   "source": [
    "capitals = {\"USA\":\"Washington DC\",\"India\":\"New Delhi\",\"Russia\":\"Moscow\",\"China\":\"Beijing\"}\n",
    "\n",
    "capitals.update({'Germany':'Berlin'})\n",
    "capitals.update({'USA':'Las Vegas'})\n",
    "capitals.pop('China')\n",
    "\n",
    "#capitals.clear()\n",
    "\n",
    "print(capitals['Germany'])\n",
    "print(capitals.get('Germany'))\n",
    "print(capitals.keys())\n",
    "print(capitals.values())\n",
    "print(capitals.items(),end=\"\\n\\n\")\n",
    "\n",
    "for key,value in capitals.items():\n",
    "    print(f'The capital of {key} is {value}.')"
   ]
  },
  {
   "cell_type": "markdown",
   "metadata": {},
   "source": [
    "**Merge two dictionaries**"
   ]
  },
  {
   "cell_type": "code",
   "execution_count": 24,
   "metadata": {},
   "outputs": [
    {
     "data": {
      "text/plain": [
       "{'a': 1, 'b': 3, 'c': 4}"
      ]
     },
     "execution_count": 24,
     "metadata": {},
     "output_type": "execute_result"
    }
   ],
   "source": [
    "dict_a = {'a': 1, 'b': 2}\n",
    "dict_b = {'b': 3, 'c': 4}\n",
    "dict_c = {**dict_a, **dict_b}\n",
    "dict_c"
   ]
  },
  {
   "cell_type": "markdown",
   "metadata": {},
   "source": [
    "The ** operator in Python is used for unpacking dictionaries. It allows you to take the key-value pairs from one or more dictionaries and unpack them into another data structure, such as a function call or a new dictionary."
   ]
  },
  {
   "cell_type": "markdown",
   "metadata": {},
   "source": [
    "# Python OOP Basics"
   ]
  },
  {
   "cell_type": "markdown",
   "metadata": {},
   "source": [
    "**Object-Oriented Programming**<br>\n",
    "Object-oriented programming (OOP) is a programming paradigm based on the concept of \"objects\", which can contain data and code. The data is in the form of fields (often known as attributes or properties), and the code is in the form of procedures (often known as methods)."
   ]
  },
  {
   "cell_type": "code",
   "execution_count": 56,
   "metadata": {},
   "outputs": [],
   "source": [
    "#--------------------------------------------------- file 2  name:car\n",
    "class Car:                   #class name start with capital letter\n",
    "\n",
    "    def __init__(self,make,model,year,color):   #__init__  constructor and atleast self as argument\n",
    "        self.make = make            #instance variable\n",
    "        self.model = model            #instance variable\n",
    "        self.year = year                  #instance variable\n",
    "        self.color = color                     #instance variable\n",
    "\n",
    "    def drive(self): #self --> object using this method\n",
    "        print(\"This \"+self.model+\" is driving\")\n",
    "\n",
    "    def stop(self):\n",
    "        print(\"This \"+self.model+\" is stopped\")"
   ]
  },
  {
   "cell_type": "code",
   "execution_count": 57,
   "metadata": {},
   "outputs": [
    {
     "name": "stdout",
     "output_type": "stream",
     "text": [
      "This Corvette is driving\n",
      "This Mustang is driving\n",
      "This Mustang is stopped\n"
     ]
    }
   ],
   "source": [
    "#--------------------------------------------------- file 1\n",
    "\n",
    "car_1 = Car(\"Chevy\",\"Corvette\",2021,\"blue\")   #object\n",
    "car_2 = Car(\"Ford\",\"Mustang\",2022,\"red\")\n",
    "\n",
    "car_1.drive()\n",
    "car_2.drive()\n",
    "car_2.stop()"
   ]
  },
  {
   "cell_type": "code",
   "execution_count": 8,
   "metadata": {},
   "outputs": [
    {
     "name": "stdout",
     "output_type": "stream",
     "text": [
      "Hello my name is John and I work in GeeksForGeeks.\n"
     ]
    }
   ],
   "source": [
    "class GFG:\n",
    "    def __init__(somename, name, company):\n",
    "        somename.name = name\n",
    "        somename.company = company\n",
    "\n",
    "    def show(somename):\n",
    "        print(\"Hello my name is \" + somename.name +\n",
    "              \" and I work in \"+somename.company+\".\")\n",
    "\n",
    "obj = GFG(\"John\", \"GeeksForGeeks\")\n",
    "obj.show()"
   ]
  },
  {
   "cell_type": "code",
   "execution_count": 26,
   "metadata": {},
   "outputs": [],
   "source": [
    "\n",
    "#---------------------------------------------------------------------\n",
    "class Car:\n",
    "\n",
    "    wheels = 4 #class variable   not in the constructor\n",
    "\n",
    "    def __init__(self,make,model,year,color):           #self means Car here ,you can give it any name but instead of self everywhere add that name eg car.make = make\n",
    "        self.make = make    #instance variable\n",
    "        self.model = model  #instance variable\n",
    "        self.year = year    #instance variable\n",
    "        self.color = color  #instance variable"
   ]
  },
  {
   "cell_type": "code",
   "execution_count": 27,
   "metadata": {},
   "outputs": [
    {
     "name": "stdout",
     "output_type": "stream",
     "text": [
      "Chevy\n",
      "Ford\n",
      "2 2\n"
     ]
    }
   ],
   "source": [
    "# Object instantiation\n",
    "car_1 = Car(\"Chevy\",\"Corvette\",2021,\"blue\")\n",
    "car_2 = Car(\"Ford\",\"Mustang\",2022,\"red\")\n",
    "\n",
    "Car.wheels = 2\n",
    "\n",
    "print(car_1.make)\n",
    "print(car_2.make)\n",
    "print(car_1.wheels,car_2.wheels) # imp"
   ]
  },
  {
   "cell_type": "markdown",
   "metadata": {},
   "source": [
    "### Encapsulation\n",
    "<br>\n",
    "Encapsulation is one of the fundamental concepts of object-oriented programming, which helps to protect the data and methods of an object from unauthorized access and modification. It is a way to achieve data abstraction, which means that the implementation details of an object are hidden from the outside world, and only the essential information is exposed.\n",
    "\n",
    "In Python, encapsulation can be achieved by using access modifiers. Access modifiers are keywords that define the accessibility of attributes and methods in a class. The three access modifiers available in Python are public, private, and protected. However, Python does not have an explicit way of defining access modifiers like some other programming languages such as Java and C++. Instead, it uses a convention of using underscore prefixes to indicate the access level.\n",
    "\n",
    "In the given code example, the class MyClass has two attributes, _protected_var and __private_var. The _protected_var is marked as protected by using a single underscore prefix. This means that the attribute can be accessed within the class and its subclasses but not outside the class. The __private_var is marked as private by using two underscore prefixes. This means that the attribute can only be accessed within the class and not outside the class, not even in its subclasses.\n",
    "\n",
    "When we create an object of the MyClass class, we can access the _protected_var attribute using the object name with a single underscore prefix. However, we cannot access the __private_var attribute using the object name, as it is hidden from the outside world. If we try to access the __private_var attribute, we will get an AttributeError as shown in the code.\n",
    "\n",
    "In summary, encapsulation is an important concept in object-oriented programming that helps to protect the implementation details of an object. In Python, we can achieve encapsulation by using access modifiers and using underscore prefixes to indicate the access level."
   ]
  },
  {
   "cell_type": "code",
   "execution_count": 68,
   "metadata": {},
   "outputs": [
    {
     "name": "stdout",
     "output_type": "stream",
     "text": [
      "10\n",
      "2\n"
     ]
    },
    {
     "ename": "AttributeError",
     "evalue": "'MyClass' object has no attribute '__private_var'",
     "output_type": "error",
     "traceback": [
      "\u001b[1;31m---------------------------------------------------------------------------\u001b[0m",
      "\u001b[1;31mAttributeError\u001b[0m                            Traceback (most recent call last)",
      "Cell \u001b[1;32mIn[68], line 28\u001b[0m\n\u001b[0;32m     24\u001b[0m \u001b[38;5;28mprint\u001b[39m(MyClass\u001b[38;5;241m.\u001b[39m_shaunak)\n\u001b[0;32m     25\u001b[0m \u001b[38;5;66;03m# Try to access the private variable using the object name and print its value\u001b[39;00m\n\u001b[0;32m     26\u001b[0m \u001b[38;5;66;03m# The private variable cannot be accessed outside the class, even by its subclasses\u001b[39;00m\n\u001b[0;32m     27\u001b[0m \u001b[38;5;66;03m# This will raise an AttributeError because the variable is not accessible outside the class\u001b[39;00m\n\u001b[1;32m---> 28\u001b[0m \u001b[38;5;28mprint\u001b[39m(\u001b[43mobj\u001b[49m\u001b[38;5;241;43m.\u001b[39;49m\u001b[43m__private_var\u001b[49m)    \u001b[38;5;66;03m# AttributeError: 'MyClass' object has no attribute '__private_var'\u001b[39;00m\n",
      "\u001b[1;31mAttributeError\u001b[0m: 'MyClass' object has no attribute '__private_var'"
     ]
    }
   ],
   "source": [
    "# Define a class named MyClass\n",
    "class MyClass:\n",
    "    _shaunak =2\n",
    "    # Constructor method that initializes the class object\n",
    "    def __init__(self):\n",
    "        # Define a protected variable with an initial value of 10\n",
    "        # The variable name starts with a single underscore, which indicates protected access\n",
    "        self._protected_var = 10\n",
    "        # Define a private variable with an initial value of 20\n",
    "        # The variable name starts with two underscores, which indicates private access\n",
    "        self.__private_var = 20\n",
    "\n",
    "# Create an object of MyClass class\n",
    "obj = MyClass()\n",
    "\n",
    "# Access the protected variable using the object name and print its value\n",
    "# The protected variable can be accessed outside the class but\n",
    "# it is intended to be used within the class or its subclasses\n",
    "print(obj._protected_var)   # output: 10\n",
    "\n",
    "# Try to access the private variable using the object name and print its value\n",
    "# The private variable cannot be accessed outside the class, even by its subclasses\n",
    "# This will raise an AttributeError because the variable is not accessible outside the class\n",
    "print(obj.__private_var)    # AttributeError: 'MyClass' object has no attribute '__private_var'\n"
   ]
  },
  {
   "cell_type": "markdown",
   "metadata": {},
   "source": [
    "### Inheritance\n",
    "<br>\n",
    "Inheritance promotes code reuse and allows you to create a hierarchy of classes that share common attributes and methods. It helps in creating clean and organized code by keeping related functionality in one place and promoting the concept of modularity. The base class from which a new class is derived is also known as a parent class, and the new class is known as the child class or subclass.\n",
    "\n",
    "In the code, we define a class named Animal which has a constructor method that initializes the class object with a name attribute and a method named speak. The speak method is defined in the Animal class but does not have a body.\n",
    "\n",
    "We then define two subclasses named Dog and Cat which inherit from the Animal class. These subclasses override the speak method of the Animal class.\n",
    "\n",
    "We create a Dog object with a name attribute “Rover” and a Cat object with a name attribute “Whiskers”. We call the speak method of the Dog object using dog.speak(), and it prints “Woof!” because the speak method of the Dog class overrides the speak method of the Animal class. Similarly, we call the speak method of the Cat object using cat.speak(), and it prints “Meow!” because the speak method of the Cat class overrides the speak method of the Animal class."
   ]
  },
  {
   "cell_type": "code",
   "execution_count": 61,
   "metadata": {},
   "outputs": [
    {
     "name": "stdout",
     "output_type": "stream",
     "text": [
      "nice\n",
      "Woof!\n",
      "Meow!\n"
     ]
    }
   ],
   "source": [
    "# Define a class named Animal\n",
    "class Animal:\n",
    "    # Constructor method that initializes the class object with a name attribute\n",
    "    def __init__(self, name):\n",
    "        self.name = name\n",
    "\n",
    "    # Method that is defined in the Animal class but does not have a body\n",
    "    # This method will be overridden in the subclasses of Animal\n",
    "    def speak(self):\n",
    "        print(\"nice\")\n",
    "\n",
    "# Define a subclass named Dog that inherits from the Animal class\n",
    "class Dog(Animal):\n",
    "    # Override the speak method of the Animal class\n",
    "    def speak(self):\n",
    "        super().speak()\n",
    "        print(\"Woof!\")\n",
    "\n",
    "# Define a subclass named Cat that inherits from the Animal class\n",
    "class Cat(Animal):\n",
    "    # Override the speak method of the Animal class\n",
    "    def speak(self):\n",
    "        print(\"Meow!\")\n",
    "\n",
    "# Create a Dog object with a name attribute \"Rover\"\n",
    "dog = Dog(\"Rover\")\n",
    "# Create a Cat object with a name attribute \"Whiskers\"\n",
    "cat = Cat(\"Whiskers\")\n",
    "\n",
    "# Call the speak method of the Dog class and print the output\n",
    "# The speak method of the Dog class overrides the speak method of the Animal class\n",
    "# Therefore, when we call the speak method of the Dog object, it will print \"Woof!\"\n",
    "dog.speak()   # output: Woof!\n",
    "\n",
    "# Call the speak method of the Cat class and print the output\n",
    "# The speak method of the Cat class overrides the speak method of the Animal class\n",
    "# Therefore, when we call the speak method of the Cat object, it will print \"Meow!\"\n",
    "cat.speak()   # output: Meow!"
   ]
  },
  {
   "cell_type": "markdown",
   "metadata": {},
   "source": [
    "### Polymorphism\n",
    "<br>\n",
    "Polymorphism is an important concept in object-oriented programming that allows you to write code that can work with objects of different classes in a uniform way. In Python, polymorphism is achieved by using method overriding or method overloading.\n",
    "\n",
    "Method overriding is when a subclass provides its own implementation of a method that is already defined in its parent class. This allows the subclass to modify the behavior of the method without changing its name or signature.\n",
    "\n",
    "Method overloading is when multiple methods have the same name but different parameters. Python does not support method overloading directly, but it can be achieved using default arguments or variable-length arguments.\n",
    "\n",
    "Polymorphism makes it easier to write flexible and reusable code. It allows you to write code that can work with different objects without needing to know their specific types."
   ]
  },
  {
   "cell_type": "code",
   "execution_count": 30,
   "metadata": {},
   "outputs": [
    {
     "name": "stdout",
     "output_type": "stream",
     "text": [
      "20\n",
      "153.86\n"
     ]
    }
   ],
   "source": [
    "#The Shape class is defined with an abstract area method, which is intended to be overridden by subclasses.\n",
    "class Shape:\n",
    "    def area(self):\n",
    "        pass\n",
    "\n",
    "class Rectangle(Shape):\n",
    "    # The Rectangle class is defined with an __init__ method that initializes\n",
    "    # width and height instance variables.\n",
    "    # It also defines an area method that calculates and returns\n",
    "    # the area of a rectangle using the width and height instance variables.\n",
    "    def __init__(self, width, height):\n",
    "        self.width = width  # Initialize width instance variable\n",
    "        self.height = height  # Initialize height instance variable\n",
    "\n",
    "    def area(self):\n",
    "        return self.width * self.height  # Return area of rectangle\n",
    "\n",
    " # The Circle class is defined with an __init__ method\n",
    " # that initializes a radius instance variable.\n",
    " # It also defines an area method that calculates and\n",
    " # returns the area of a circle using the radius instance variable.\n",
    "class Circle(Shape):\n",
    "    def __init__(self, radius):\n",
    "        self.radius = radius  # Initialize radius instance variable\n",
    "\n",
    "    def area(self):\n",
    "        return 3.14 * self.radius ** 2  # Return area of circle using pi * r^2\n",
    "\n",
    "# The shapes list is created with one Rectangle object and one Circle object. The for\n",
    "# loop iterates over each object in the list and calls the area method of each object\n",
    "# The output will be the area of the rectangle (20) and the area of the circle (153.86).\n",
    "\n",
    "shape1 = Rectangle(4, 5)\n",
    "shape2 = Circle(7)\n",
    "print(shape1.area())\n",
    "print(shape2.area())"
   ]
  },
  {
   "cell_type": "markdown",
   "metadata": {},
   "source": [
    "### Abstraction \n",
    "<br>\n",
    "Abstraction is an important concept in object-oriented programming (OOP) because it allows you to focus on the essential features of an object or system while ignoring the details that aren’t relevant to the current context. By reducing complexity and hiding unnecessary details, abstraction can make code more modular, easier to read, and easier to maintain.\n",
    "\n",
    "In Python, abstraction can be achieved by using abstract classes or interfaces. An abstract class is a class that cannot be instantiated directly, but is meant to be subclassed by other classes. It often includes abstract methods that have no implementation, but provide a template for how the subclass should be implemented. This allows the programmer to define a common interface for a group of related classes, while still allowing each class to have its own specific behavior.\n",
    "\n",
    "An interface, on the other hand, is a collection of method signatures that a class must implement in order to be considered “compatible” with the interface. Interfaces are often used to define a common set of methods that multiple classes can implement, allowing them to be used interchangeably in certain contexts.\n",
    "\n",
    "Python does not have built-in support for abstract classes or interfaces, but they can be implemented using the abc (abstract base class) module. This module provides the ABC class and the abstractmethod decorator, which can be used to define abstract classes and methods.\n",
    "\n",
    "Overall, abstraction is a powerful tool for managing complexity and improving code quality in object-oriented programming, and Python provides a range of options for achieving abstraction in your code."
   ]
  },
  {
   "cell_type": "code",
   "execution_count": 65,
   "metadata": {},
   "outputs": [
    {
     "name": "stdout",
     "output_type": "stream",
     "text": [
      "20\n",
      "153.86\n"
     ]
    }
   ],
   "source": [
    "# Import the abc module to define abstract classes and methods\n",
    "from abc import ABC, abstractmethod\n",
    "\n",
    "# Define an abstract class called Shape that has an abstract method called area\n",
    "class Shape(ABC):\n",
    "    @abstractmethod\n",
    "    def area(self):\n",
    "        pass\n",
    "\n",
    "# Define a Rectangle class that inherits from Shape\n",
    "class Rectangle(Shape):\n",
    "    def __init__(self, width, height):\n",
    "        self.width = width\n",
    "        self.height = height\n",
    "\n",
    "    # Implement the area method for Rectangles\n",
    "    def area(self):\n",
    "        return self.width * self.height\n",
    "\n",
    "# Define a Circle class that also inherits from Shape\n",
    "class Circle(Shape):\n",
    "    def __init__(self, radius):\n",
    "        self.radius = radius\n",
    "\n",
    "    # Implement the area method for Circles\n",
    "    def area(self):\n",
    "        return 3.14 * self.radius ** 2\n",
    "\n",
    "# Create a list of shapes that includes both Rectangles and Circles\n",
    "shapes = [Rectangle(4, 5), Circle(7)]\n",
    "\n",
    "# Loop through each shape in the list and print its area\n",
    "for shape in shapes:\n",
    "    print(shape.area())"
   ]
  },
  {
   "cell_type": "code",
   "execution_count": 8,
   "metadata": {},
   "outputs": [
    {
     "name": "stdout",
     "output_type": "stream",
     "text": [
      "[32, 45, 3, 24]\n"
     ]
    },
    {
     "name": "stdout",
     "output_type": "stream",
     "text": [
      "\u001b[1;31mType:\u001b[0m        list\n",
      "\u001b[1;31mString form:\u001b[0m [24, 3, 45, 32]\n",
      "\u001b[1;31mLength:\u001b[0m      4\n",
      "\u001b[1;31mDocstring:\u001b[0m  \n",
      "Built-in mutable sequence.\n",
      "\n",
      "If no argument is given, the constructor creates a new empty list.\n",
      "The argument must be an iterable if specified."
     ]
    }
   ],
   "source": [
    "# Reverse a list\n",
    "list = [24,3,45,32]\n",
    "print(list[ : :-1])\n",
    "list?"
   ]
  },
  {
   "cell_type": "code",
   "execution_count": 9,
   "metadata": {},
   "outputs": [
    {
     "name": "stdout",
     "output_type": "stream",
     "text": [
      "\u001b[1;31mSignature:\u001b[0m \u001b[0mprint\u001b[0m\u001b[1;33m(\u001b[0m\u001b[1;33m*\u001b[0m\u001b[0margs\u001b[0m\u001b[1;33m,\u001b[0m \u001b[0msep\u001b[0m\u001b[1;33m=\u001b[0m\u001b[1;34m' '\u001b[0m\u001b[1;33m,\u001b[0m \u001b[0mend\u001b[0m\u001b[1;33m=\u001b[0m\u001b[1;34m'\\n'\u001b[0m\u001b[1;33m,\u001b[0m \u001b[0mfile\u001b[0m\u001b[1;33m=\u001b[0m\u001b[1;32mNone\u001b[0m\u001b[1;33m,\u001b[0m \u001b[0mflush\u001b[0m\u001b[1;33m=\u001b[0m\u001b[1;32mFalse\u001b[0m\u001b[1;33m)\u001b[0m\u001b[1;33m\u001b[0m\u001b[1;33m\u001b[0m\u001b[0m\n",
      "\u001b[1;31mDocstring:\u001b[0m\n",
      "Prints the values to a stream, or to sys.stdout by default.\n",
      "\n",
      "sep\n",
      "  string inserted between values, default a space.\n",
      "end\n",
      "  string appended after the last value, default a newline.\n",
      "file\n",
      "  a file-like object (stream); defaults to the current sys.stdout.\n",
      "flush\n",
      "  whether to forcibly flush the stream.\n",
      "\u001b[1;31mType:\u001b[0m      builtin_function_or_method"
     ]
    }
   ],
   "source": [
    "# you can add ? before and after a function or variable to display information about it\n",
    "print?"
   ]
  },
  {
   "cell_type": "code",
   "execution_count": 17,
   "metadata": {},
   "outputs": [
    {
     "name": "stdout",
     "output_type": "stream",
     "text": [
      "\u001b[1;31mSignature:\u001b[0m \u001b[0madd_two_num\u001b[0m\u001b[1;33m(\u001b[0m\u001b[0ma\u001b[0m\u001b[1;33m,\u001b[0m \u001b[0mb\u001b[0m\u001b[1;33m)\u001b[0m\u001b[1;33m\u001b[0m\u001b[1;33m\u001b[0m\u001b[0m\n",
      "\u001b[1;31mDocstring:\u001b[0m\n",
      "Add 2 numbers together  \n",
      "\n",
      "Returns a+b\n",
      "\u001b[1;31mFile:\u001b[0m      c:\\users\\aum patel\\appdata\\local\\temp\\ipykernel_7920\\818571692.py\n",
      "\u001b[1;31mType:\u001b[0m      function"
     ]
    }
   ],
   "source": [
    "def add_two_num(a,b):\n",
    "    # the doc string is reflected in the information\n",
    "    ''' Add 2 numbers together  \n",
    "\n",
    "        Returns a+b\n",
    "    '''\n",
    "    return a+b\n",
    "\n",
    "add_two_num?"
   ]
  },
  {
   "cell_type": "code",
   "execution_count": 20,
   "metadata": {},
   "outputs": [
    {
     "data": {
      "text/plain": [
       "[4, 3]"
      ]
     },
     "execution_count": 20,
     "metadata": {},
     "output_type": "execute_result"
    }
   ],
   "source": [
    "a = [4]\n",
    "b = a\n",
    "a.append(3)\n",
    "b"
   ]
  },
  {
   "cell_type": "markdown",
   "metadata": {},
   "source": [
    "# Python Higher-Order Functions and Decorators\n",
    "\n",
    "In Python, functions like `map()`, `filter()`, and `reduce()` are higher-order functions, meaning they take another function as an argument or return a function. Let's explore these concepts using code examples.\n",
    "\n",
    "## Lambda Functions\n",
    "\n",
    "**Lambda functions** are small anonymous functions defined with the `lambda` keyword. They are often used for simple operations that don't require the overhead of a full function definition. In your code, the lambda function `sq = lambda x: x * x` squares the input.\n",
    "\n",
    "- Example: `sq(5)` computes `25`, and `sq(2)` computes `4`.\n",
    "\n",
    "## Higher-Order Functions\n",
    "\n",
    "A **higher-order function** is a function that takes another function as an argument. In your code, the `sq()` function accepts a function as its first argument and applies it to a number. For example, `sq(cube, 3)` computes the cube of 3 (`27`), then divides it by 3, resulting in `9.0`.\n",
    "\n",
    "This is a powerful concept, allowing you to dynamically pass functions to other functions.\n",
    "\n",
    "## Map Function\n",
    "\n",
    "The `map()` function applies a given function to each item of an iterable (such as a list) and returns a map object (which can be converted to a list). In your example, `map(cube, l)` applies the `cube()` function to each element of the list `l`, resulting in a new list `[8, 64, 125, 27, 729]`.\n",
    "\n",
    "- **map()** is useful when you want to apply the same operation to all elements of a collection without writing explicit loops.\n",
    "\n",
    "## Filter Function\n",
    "\n",
    "The `filter()` function takes two arguments: a function and a list. It applies the function to each element of the list, keeping only the elements for which the function returns `True`. In your code, `filter(fun, l)` filters the list to only include elements greater than 4, resulting in `[5, 9]`.\n",
    "\n",
    "- **filter()** helps in extracting elements from a list based on certain conditions.\n",
    "\n",
    "## Reduce Function\n",
    "\n",
    "The `reduce()` function from the `functools` module applies a binary function (a function that takes two arguments) cumulatively to the items of an iterable, reducing the sequence to a single value. In your code, `reduce(lambda x, y: x + y, l)` sums all the elements in the list, producing `11`.\n",
    "\n",
    "- **reduce()** is great for combining elements of a list into a single result (e.g., summing, multiplying).\n",
    "\n",
    "## Decorators\n",
    "\n",
    "**Decorators** are a design pattern in Python that allows you to modify the behavior of a function or method. They are functions that wrap another function, allowing you to add functionality before or after the function runs.\n",
    "\n",
    "In your code, there are two decorators:\n",
    "\n",
    "1. `greet()`: This decorator wraps a function and adds the behavior of printing \"Good Morning !!\" before the function executes and \"Good Night !!\" after it finishes. The decorator is applied to the `add(x, y)` function using the `@greet` syntax.\n",
    "   - For example, `add(1, 3)` will print the greeting messages and the sum of `1 + 3`.\n",
    "\n",
    "2. `greet2()`: This is a similar decorator but is used on a function with no parameters. It adds the same greeting messages around the `hello()` function, which prints \"Hello World!!\".\n",
    "\n",
    "- **Decorators** are commonly used for logging, enforcing access control, instrumentation, and other cross-cutting concerns that you want to apply to multiple functions.\n"
   ]
  },
  {
   "cell_type": "code",
   "execution_count": 2,
   "metadata": {},
   "outputs": [
    {
     "name": "stdout",
     "output_type": "stream",
     "text": [
      "25\n"
     ]
    }
   ],
   "source": [
    "x = 5\n",
    "sq = lambda x: x * x\n",
    "print(sq(x))  # Outputs: 25="
   ]
  },
  {
   "cell_type": "code",
   "execution_count": 3,
   "metadata": {},
   "outputs": [
    {
     "name": "stdout",
     "output_type": "stream",
     "text": [
      "9.0\n"
     ]
    }
   ],
   "source": [
    "def cube(x):\n",
    "    return x * x * x\n",
    "\n",
    "def sq(function, a):\n",
    "    return function(a) / a\n",
    "\n",
    "print(sq(cube, 3))  # Outputs: 9.0\n"
   ]
  },
  {
   "cell_type": "code",
   "execution_count": 4,
   "metadata": {},
   "outputs": [
    {
     "name": "stdout",
     "output_type": "stream",
     "text": [
      "[8, 64, 125, 27, 729]\n"
     ]
    }
   ],
   "source": [
    "l = [2, 4, 5, 3, 9]\n",
    "newl = list(map(cube, l))  # cube is the function mentioned above\n",
    "print(newl)"
   ]
  },
  {
   "cell_type": "code",
   "execution_count": 5,
   "metadata": {},
   "outputs": [
    {
     "name": "stdout",
     "output_type": "stream",
     "text": [
      "[5, 9]\n"
     ]
    }
   ],
   "source": [
    "def fun(a):\n",
    "    return a > 4\n",
    "\n",
    "l = [2, 4, 5, 3, 9]\n",
    "newl = list(filter(fun, l))  # Outputs: [5, 9]\n",
    "print(newl)"
   ]
  },
  {
   "cell_type": "code",
   "execution_count": 6,
   "metadata": {},
   "outputs": [
    {
     "name": "stdout",
     "output_type": "stream",
     "text": [
      "11\n"
     ]
    }
   ],
   "source": [
    "from functools import reduce\n",
    "l = [1, 2, 5, 3]\n",
    "sum = reduce(lambda x, y: x + y, l)  # Outputs: 11\n",
    "print(sum)"
   ]
  },
  {
   "cell_type": "code",
   "execution_count": 11,
   "metadata": {},
   "outputs": [
    {
     "name": "stdout",
     "output_type": "stream",
     "text": [
      "Good Morning !!\n",
      "4\n",
      "Good Night !!\n"
     ]
    }
   ],
   "source": [
    "def greet(function):\n",
    "    def fun(x, y):\n",
    "        print(\"Good Morning !!\")\n",
    "        function(x, y)\n",
    "        print(\"Good Night !!\")\n",
    "    return fun\n",
    "\n",
    "@greet           # Decorator\n",
    "def add(x, y):    \n",
    "    print(x + y)\n",
    "\n",
    "add(1, 3)  # Outputs: Good Morning !!, 4, Good Night !!"
   ]
  },
  {
   "cell_type": "markdown",
   "metadata": {},
   "source": [
    "# Detailed Explanation of `*args` and `**kwargs` in Python\n",
    "\n",
    "In Python, `*args` and `**kwargs` are special syntax used for passing a variable number of arguments to a function. They make functions more flexible, allowing them to accept and handle an arbitrary number of arguments.\n",
    "\n",
    "## What is `*args`?\n",
    "\n",
    "The `*args` syntax is used to pass a variable number of **positional arguments** to a function. The arguments passed to `*args` are stored in a **tuple**, which means they can be iterated over, indexed, or processed like any other tuple in Python. \n",
    "\n",
    "- **Positional Arguments**: These are arguments that are assigned based on their position in the function call. For example, in the function call `foo(1, 2, 3)`, the values `1`, `2`, and `3` are positional arguments.\n",
    "\n",
    "### Key Points:\n",
    "1. `*args` allows you to pass any number of extra arguments.\n",
    "2. These arguments are packed into a tuple, which can be accessed inside the function.\n",
    "3. You can use a loop or any tuple operation to work with the `*args` inside the function.\n",
    "\n",
    "### When to Use `*args`?\n",
    "Use `*args` when you want to write a function that can handle more arguments than you originally defined. For example, in cases where you don't know the exact number of arguments that might be passed.\n",
    "\n",
    "### Example Use Case:\n",
    "Imagine you have a function that sums multiple numbers, but you don’t know how many numbers will be passed. You can use `*args` to capture all the positional arguments and sum them.\n",
    "\n",
    "---\n",
    "\n",
    "## What is `**kwargs`?\n",
    "\n",
    "The `**kwargs` syntax is used to pass a variable number of **keyword arguments** to a function. The arguments passed to `**kwargs` are stored in a **dictionary**. The keys in this dictionary are the argument names, and the values are the argument values.\n",
    "\n",
    "- **Keyword Arguments**: These are arguments that are passed with a keyword (i.e., a name) and a value. For example, in the function call `foo(animal='dog', bird='sparrow')`, `animal` and `bird` are keywords, and `'dog'` and `'sparrow'` are their respective values.\n",
    "\n",
    "### Key Points:\n",
    "1. `**kwargs` allows you to pass any number of keyword arguments.\n",
    "2. These arguments are packed into a dictionary inside the function, where the argument names are the keys, and their corresponding values are the dictionary values.\n",
    "3. You can iterate over the `**kwargs` dictionary or access its items just like any other dictionary in Python.\n",
    "\n",
    "### When to Use `**kwargs`?\n",
    "Use `**kwargs` when you want to accept a variable number of named arguments, where the names of the arguments might not be predefined. This is particularly useful when you want to pass options or configurations to a function.\n",
    "\n",
    "### Example Use Case:\n",
    "Suppose you’re building a function to describe an animal, and you want to allow users to pass any number of descriptive properties (like color, age, or species) without needing to define each property in advance. The `**kwargs` mechanism allows this flexibility by accepting any keyword argument and processing it.\n",
    "\n",
    "---\n",
    "\n",
    "## Combining `*args` and `**kwargs`\n",
    "\n",
    "It’s possible to use both `*args` and `**kwargs` in the same function definition. When you do this, the function will accept both positional and keyword arguments, making it highly adaptable.\n",
    "\n",
    "### Order of Arguments:\n",
    "If you use both `*args` and `**kwargs`, they must appear in the following order in your function definition:\n",
    "1. Regular positional arguments.\n",
    "2. `*args` (for additional positional arguments).\n",
    "3. `**kwargs` (for keyword arguments).\n",
    "\n",
    "### Example Use Case:\n",
    "Consider a function that processes orders. It might accept the name of the item as a regular argument, any extra features or specifications as positional arguments using `*args`, and additional options like color or size as keyword arguments using `**kwargs`. This way, the function can handle any type of order with varying numbers of attributes.\n",
    "\n",
    "---\n",
    "\n",
    "## Why Use `*args` and `**kwargs`?\n",
    "\n",
    "- **Flexibility**: These constructs allow you to create functions that can handle an arbitrary number of arguments. This is useful when the exact number of inputs may vary.\n",
    "- **Code Reusability**: Instead of writing multiple versions of a function to handle different numbers of arguments, you can use `*args` and `**kwargs` to write a single, more general function.\n",
    "- **Simplified Function Calls**: These constructs make function calls easier when you don’t want to specify a fixed number of parameters, especially in cases where arguments are optional or conditional.\n",
    "\n",
    "---\n",
    "\n",
    "## Conclusion\n",
    "\n",
    "- `*args` is used to pass a variable number of **positional arguments**, and the values are packed into a tuple.\n",
    "- `**kwargs` is used to pass a variable number of **keyword arguments**, and the values are packed into a dictionary.\n",
    "- They provide flexibility in function definitions, allowing you to handle both optional and varying numbers of arguments with ease.\n",
    "- Using `*args` and `**kwargs` together allows you to build highly customizable and adaptable functions.\n",
    "\n",
    "These two features make Python functions powerful, allowing them to handle a wide range of input types and numbers, simplifying both function definitions and function calls."
   ]
  },
  {
   "cell_type": "code",
   "execution_count": 18,
   "metadata": {},
   "outputs": [
    {
     "name": "stdout",
     "output_type": "stream",
     "text": [
      "args are a list of  T U P L E S\n",
      "('Frog', 'dog', 'cat')\n",
      "example -  Frog\n",
      "example -  dog\n",
      "example -  cat\n",
      "\n",
      "kwargs are a  D I C T I O N A R Y\n",
      "{'animal': 'dog', 'fish': 'Whale', 'bird': 'Mayna'}\n",
      "animal : dog\n",
      "fish : Whale\n",
      "bird : Mayna\n",
      "Qui Qui..\n"
     ]
    }
   ],
   "source": [
    "def args(a,*args):\n",
    "    print('args are a list of  T U P L E S')\n",
    "    print(args)\n",
    "    for i in args :\n",
    "        print('example - ',i)\n",
    "\n",
    "def kwargs(**kwargs):\n",
    "    print('\\nkwargs are a  D I C T I O N A R Y')\n",
    "    print(kwargs)\n",
    "    for key,value in kwargs.items():\n",
    "        print(f'{key} : {value}')\n",
    "        if(key == 'bird'):\n",
    "            print('Qui Qui..')\n",
    "\n",
    "args(1,'Frog','dog','cat')\n",
    "kwargs(animal=\"dog\",fish='Whale', bird=\"Mayna\")"
   ]
  },
  {
   "cell_type": "markdown",
   "metadata": {},
   "source": [
    "# Getter and Setter in Python"
   ]
  },
  {
   "cell_type": "code",
   "execution_count": 19,
   "metadata": {},
   "outputs": [
    {
     "name": "stdout",
     "output_type": "stream",
     "text": [
      "45\n"
     ]
    }
   ],
   "source": [
    "class A:\n",
    "   def __init__(self, val):\n",
    "       self._val = val\n",
    "\n",
    "   @property\n",
    "   def getval(self):\n",
    "       return self._val\n",
    "\n",
    "   @getval.setter\n",
    "   def getval(self, val):  # Use the same name as the property\n",
    "       self._val = val\n",
    "\n",
    "obj = A(200)\n",
    "# obj.setval(30)\n",
    "obj.getval = 45  # Using the property name, not the attribute name\n",
    "print(obj.getval)  # Output will be: 45"
   ]
  },
  {
   "cell_type": "markdown",
   "metadata": {},
   "source": [
    "# Explanation of Operator Overloading in Python\n",
    "\n",
    "Operator overloading in Python allows us to define or change the behavior of standard operators (`+`, `-`, `*`, etc.) when applied to objects of custom classes. This is done by defining special methods in the class, such as `__add__` for `+`, `__sub__` for `-`, and so on.\n",
    "\n",
    "In this example, we have a `Vector` class, and we overload the `+` and `-` operators to perform vector addition and subtraction, respectively."
   ]
  },
  {
   "cell_type": "code",
   "execution_count": 20,
   "metadata": {},
   "outputs": [
    {
     "name": "stdout",
     "output_type": "stream",
     "text": [
      "3i + 4j + 5k\n",
      "6i + 8j + 10k\n"
     ]
    }
   ],
   "source": [
    "class Vector:\n",
    "   def __init__(self, i, j, k):\n",
    "       self.i = i\n",
    "       self.k = k\n",
    "       self.j = j\n",
    "\n",
    "\n",
    "   def __str__(self):  # This method is printing the Vector whenever\n",
    "       return f'{self.i}i + {self.j}j + {self.k}k'  # the display part of the vector is performed\n",
    "\n",
    "\n",
    "   def __add__(self, other):  # Overriding '+' operator\n",
    "       return Vector(self.i + other.i, self.j + other.j, self.k + other.k)\n",
    "\n",
    "\n",
    "   def __sub__(self, other):  # Overriding '-' operator\n",
    "       return Vector(self.i - other.i, self.j - other.j, self.k - other.k)\n",
    "   \n",
    "v1 = Vector(3, 4, 5)\n",
    "v2 = Vector(6, 8, 10)\n",
    "\n",
    "print(v1)\n",
    "print(v2)"
   ]
  },
  {
   "cell_type": "markdown",
   "metadata": {},
   "source": [
    "# Explanation of Threading in Python\n",
    "\n",
    "This example demonstrates how to create and manage multiple threads in Python using the `threading` module. Threads allow for concurrent execution of code, enabling programs to perform tasks simultaneously.\n",
    "\n",
    "# Explanation of the `join()` Method in Python's Threading Module\n",
    "\n",
    "The `join()` method is a crucial part of thread management in Python. It allows the main thread (or any thread that calls `join()`) to wait for another thread to complete its execution before proceeding. This is particularly useful for synchronization when you need to ensure that a thread has finished its task before moving on to subsequent code.\n",
    "\n",
    "## Syntax\n",
    "```python\n",
    "thread.join(timeout=None)\n"
   ]
  },
  {
   "cell_type": "code",
   "execution_count": 21,
   "metadata": {},
   "outputs": [
    {
     "name": "stdout",
     "output_type": "stream",
     "text": [
      "Sleeping for 3 seconds\n",
      "Sleeping for 2 seconds\n",
      "Sleeping for 1 seconds\n",
      "Sleeping for 3 seconds\n",
      "Sleeping for 6 seconds\n",
      "0.013225900009274483\n"
     ]
    },
    {
     "name": "stdout",
     "output_type": "stream",
     "text": [
      "Done sleeping for 1 seconds\n",
      "Done sleeping for 2 seconds\n",
      "Done sleeping for 3 seconds\n",
      "Done sleeping for 3 seconds\n",
      "Done sleeping for 6 seconds\n"
     ]
    }
   ],
   "source": [
    "import threading\n",
    "import time\n",
    "\n",
    "def threads(sleep):\n",
    "   print(f'Sleeping for {sleep} seconds')\n",
    "   time.sleep(sleep)\n",
    "   print(f'Done sleeping for {sleep} seconds')\n",
    "\n",
    "t1 = threading.Thread(target=threads, args=[3])\n",
    "t2 = threading.Thread(target=threads, args=[2])\n",
    "t3 = threading.Thread(target=threads, args=[1])\n",
    "t4 = threading.Thread(target=threads, args=[3])\n",
    "t5 = threading.Thread(target=threads, args=[6])\n",
    "\n",
    "time1 = time.perf_counter()\n",
    "t1.start()\n",
    "t2.start()\n",
    "t3.start()\n",
    "t4.start()\n",
    "t5.start()\n",
    "# t1.join()\n",
    "# t2.join()\n",
    "# t3.join()\n",
    "# t4.join()\n",
    "# t5.join()\n",
    "\n",
    "time2 = time.perf_counter()\n",
    "print(time2 - time1)"
   ]
  },
  {
   "cell_type": "code",
   "execution_count": 12,
   "metadata": {},
   "outputs": [
    {
     "name": "stdout",
     "output_type": "stream",
     "text": [
      "last call was on  0\t0\n",
      "Ravi Sir\n",
      "last call was on  1\t1\n",
      "Ravi Sir\n",
      "last call was on  2\t2\n",
      "Ravi Sir\n",
      "last call was on  3\t3\n"
     ]
    }
   ],
   "source": [
    "def generator():\n",
    "    for i in range(10):\n",
    "        print('last call was on ',i,end='\\t')\n",
    "        yield i                          # at last 'Ravi Sir' was not printed, i.e till next time the gen\n",
    "        print('Ravi Sir')                # does not call for the next value it will not move forward for exevution  \n",
    "        \n",
    "\n",
    "# print(generator())\n",
    "# print(next(iter(generator())))\n",
    "gen = generator()\n",
    "for i in range(4):\n",
    "    print(next(gen))\n"
   ]
  },
  {
   "cell_type": "code",
   "execution_count": null,
   "metadata": {},
   "outputs": [],
   "source": []
  }
 ],
 "metadata": {
  "kernelspec": {
   "display_name": "Python 3",
   "language": "python",
   "name": "python3"
  },
  "language_info": {
   "codemirror_mode": {
    "name": "ipython",
    "version": 3
   },
   "file_extension": ".py",
   "mimetype": "text/x-python",
   "name": "python",
   "nbconvert_exporter": "python",
   "pygments_lexer": "ipython3",
   "version": "3.12.2"
  }
 },
 "nbformat": 4,
 "nbformat_minor": 2
}
