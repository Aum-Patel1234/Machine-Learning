{
 "cells": [
  {
   "cell_type": "markdown",
   "metadata": {
    "id": "SfCSk7kaGh0P"
   },
   "source": [
    "# **Introduction to NumPy**\n",
    "\n",
    "![alt text](https://encrypted-tbn0.gstatic.com/images?q=tbn:ANd9GcSMrTWz33b86nfIrgaW9jE_t-7VCcqJtjL-pg&s)\n",
    "\n",
    "\n",
    "A NumPy array is a powerful data structure in Python provided by the NumPy (Numerical Python) library. It is a grid of values, all of the same type, indexed by a tuple of non-negative integers. Arrays in NumPy are a more efficient and flexible way of storing and manipulating large datasets compared to Python's native lists. They provide support for mathematical operations on arrays, such as element-wise addition, subtraction, multiplication, and division, and offer a range of functions for working with large datasets.\n",
    "\n",
    "## **Key Features of NumPy Arrays**\n",
    "\n",
    "- **Efficient storage and operations:** NumPy arrays use less memory and provide faster data processing compared to lists.\n",
    "- **Homogeneous data types:** All elements of a NumPy array must be of the same data type.\n",
    "- **Multi-dimensional arrays:** NumPy supports 1D, 2D, and n-dimensional arrays, allowing complex data manipulation.\n",
    "- **Broadcasting:** Operations on arrays of different shapes can be carried out using a technique called broadcasting.\n",
    "- **Support for a wide range of functions:** It includes mathematical, logical, linear algebra, Fourier transform, and random number generation functions.\n",
    "\n",
    "![alt text](https://miro.medium.com/v2/resize:fit:828/1*kM5rQZIpBAjbs7UkqUWJdg.jpeg)\n",
    "\n",
    "## **Numpy Array Data Type Precedence**\n",
    "\n",
    "NumPy automatically determines the data type of an array based on the types of the elements in the array. When elements of different data types are combined in an array, NumPy applies data type precedence to convert the elements to a common type. The precedence follows a hierarchy where more general types can encompass less general ones.\n",
    "\n",
    "Here is the general order of NumPy data type precedence (from lowest to highest precision):\n",
    "\n",
    "1. Boolean (bool)\n",
    "2. Integer (int)\n",
    "3. Unsigned Integer (uint)\n",
    "4. Float (float)\n",
    "5. Complex (complex)\n",
    "6. String (str)\n",
    "7. Object (object)\n",
    "\n",
    " \n",
    "## **NumPy Matrix**\n",
    " \n",
    "Numpy means Numerical Python. The Numpy matrix is a package in Python which is the core scientific computing library. It contains a powerful n-dimensional array object and also enables integrations of C and C++.\n",
    "\n",
    "The Numpy matrix has a number of uses; from linear algebra to random number capability to its use as a container for generic data.\n"
   ]
  },
  {
   "cell_type": "markdown",
   "metadata": {},
   "source": [
    "## **Why use NumPy?**\n",
    "\n",
    "NumPy gives you an enormous range of fast and efficient ways of creating arrays and manipulating numerical data inside them. While a Python list can contain different data types within a single list, all of the elements in a NumPy array should be homogeneous. The mathematical operations that are meant to be performed on arrays would be extremely inefficient if the arrays weren’t homogeneous.\n",
    "\n",
    "\n",
    "NumPy arrays are faster and more compact than Python lists. An array consumes less memory and is convenient to use. NumPy uses much less memory to store data and it provides a mechanism of specifying the data types. This allows the code to be optimized even further.\n",
    "\n",
    "## **NumPy Installation**\n",
    " \n",
    "All you need to do is type “**pip install numpy**” in the command prompt. This starts the installation. As soon as Numpy is installed go to the **IDE(Integrated Development Environment)** and then import Numpy by typing “**import numpy as np**”.\n",
    " \n",
    "## **NumPy Array**\n",
    " \n",
    "A Numpy Array or Numpy matrix is a two-dimensional array that contains both rows and columns. Here’s an example of a NumPy array that has 4 columns and 3 rows.\n",
    "\n",
    "![numpy array.png](https://miro.medium.com/v2/resize:fit:817/0*y04Nh3L0aSwyGaby.png)\n",
    "\n",
    "**Single Dimensional Numpy Matrix:**\n",
    "\n"
   ]
  },
  {
   "cell_type": "code",
   "execution_count": 1,
   "metadata": {},
   "outputs": [
    {
     "name": "stdout",
     "output_type": "stream",
     "text": [
      "<class 'list'>\n",
      "<class 'dict'>\n"
     ]
    }
   ],
   "source": [
    "my_list = [1, 2, 3, 4]\n",
    "print(type(my_list))\n",
    "\n",
    "my_dict = {\"name\": \"ravi\"}\n",
    "print(type(my_dict))"
   ]
  },
  {
   "cell_type": "code",
   "execution_count": 1,
   "metadata": {},
   "outputs": [
    {
     "name": "stdout",
     "output_type": "stream",
     "text": [
      "2.1.1\n"
     ]
    }
   ],
   "source": [
    "import numpy\n",
    "print(numpy.__version__)"
   ]
  },
  {
   "cell_type": "code",
   "execution_count": 3,
   "metadata": {
    "colab": {
     "base_uri": "https://localhost:8080/"
    },
    "executionInfo": {
     "elapsed": 737,
     "status": "ok",
     "timestamp": 1636099481539,
     "user": {
      "displayName": "Hiten Bomble",
      "photoUrl": "https://lh3.googleusercontent.com/a-/AOh14GgMztLjU1PBUNJMZXNduprc-vYMXjn1s5pMLWDSDmk=s64",
      "userId": "11795692511919535177"
     },
     "user_tz": -330
    },
    "id": "WJBjBw2uH9ha",
    "outputId": "fe2b06ae-7215-47af-8326-e31e01ed873d"
   },
   "outputs": [
    {
     "name": "stdout",
     "output_type": "stream",
     "text": [
      "<class 'numpy.ndarray'>\n",
      "[1 2 3 4]\n"
     ]
    }
   ],
   "source": [
    "import numpy\n",
    "\n",
    "mat = numpy.array([1, 2, 3, 4])\n",
    "print(type(mat))\n",
    "print(mat)"
   ]
  },
  {
   "cell_type": "markdown",
   "metadata": {
    "id": "UMq8xAfDPlBr"
   },
   "source": [
    "NumPy’s main object is the **homogeneous multidimensional array**. It is a table of elements (usually numbers), all of the same type, indexed by a tuple of non-negative integers. In NumPy dimensions are called **axes**.\n",
    "\n",
    "For example, the coordinates of a point in 3D space **[1, 2, 1]** has one axis. That axis has 3 elements in it, so we say it has a length of 3. In the example below, the array has 2 axes. The first axis has a length of 2, the second axis has a length of 3.\n",
    "\n",
    "```\n",
    "[[ 1., 0., 0.],\n",
    " [ 0., 1., 2.]]\n",
    "```\n",
    "\n",
    "**NumPy’s array class is called ndarray**. It is also known by the alias array. Note that **numpy.array** is not the same as the Standard Python Library class **array.array**, which **only handles one-dimensional arrays** and offers less functionality.\n",
    "\n",
    "**Multi Dimensional Numpy Matrix:**"
   ]
  },
  {
   "cell_type": "code",
   "execution_count": 9,
   "metadata": {},
   "outputs": [
    {
     "name": "stdout",
     "output_type": "stream",
     "text": [
      "<class 'numpy.ndarray'>\n"
     ]
    }
   ],
   "source": [
    "import numpy as np  # aliasing\n",
    "\n",
    "mat1 = np.array([[1, 2, 3, 4], [5, 6, 7, 8]])\n",
    "print(type(mat1))"
   ]
  },
  {
   "cell_type": "code",
   "execution_count": 5,
   "metadata": {
    "colab": {
     "base_uri": "https://localhost:8080/"
    },
    "executionInfo": {
     "elapsed": 241,
     "status": "ok",
     "timestamp": 1624282388993,
     "user": {
      "displayName": "JKB Education Group",
      "photoUrl": "https://lh3.googleusercontent.com/a-/AOh14GgVDrkOo8zlABzYRCOJhHRgcLuJkkBySrHWd8n5sQ=s64",
      "userId": "04362346289210947166"
     },
     "user_tz": -330
    },
    "id": "MdnK5md_O3Ce",
    "outputId": "be6bce5f-aca7-4213-a219-3da44fce135e"
   },
   "outputs": [
    {
     "name": "stdout",
     "output_type": "stream",
     "text": [
      "<class 'numpy.ndarray'> <class 'numpy.ndarray'>\n"
     ]
    }
   ],
   "source": [
    "\"\"\"\n",
    "Now let's have a look at the type of mat and mat1\n",
    "what it will be????\n",
    "\"\"\"\n",
    "print(type(mat), type(mat1))"
   ]
  },
  {
   "cell_type": "code",
   "execution_count": 6,
   "metadata": {},
   "outputs": [
    {
     "data": {
      "text/plain": [
       "array([[1, 2, 3, 4, 5],\n",
       "       [1, 2, 3, 4, 5]])"
      ]
     },
     "execution_count": 6,
     "metadata": {},
     "output_type": "execute_result"
    }
   ],
   "source": [
    "np.array([\n",
    "    [1, 2, 3, 4, 5], \n",
    "    [1, 2, 3, 4, 5]\n",
    "])"
   ]
  },
  {
   "cell_type": "code",
   "execution_count": 2,
   "metadata": {},
   "outputs": [
    {
     "name": "stdout",
     "output_type": "stream",
     "text": [
      "[1, 2, 10, 11, 12, 6, 7, 8]\n",
      "[1, 2, 10, 11, 12, 6, 7, 8]\n",
      "\n",
      "[0 1 2 3 4 5 6 7 8]\n"
     ]
    },
    {
     "data": {
      "text/plain": [
       "array([ 0,  1, 10, 11, 12,  5,  6,  7,  8])"
      ]
     },
     "execution_count": 2,
     "metadata": {},
     "output_type": "execute_result"
    }
   ],
   "source": [
    "# basic\n",
    "import numpy as np\n",
    "\n",
    "arr = [1,2,3,4,5,6,7,8]\n",
    "arr[2:5] = [10,11,12]\n",
    "print(arr)\n",
    "\n",
    "sub_list = arr[5:]\n",
    "sub_list = [13,14,15]\n",
    "print(arr,end='\\n\\n')\n",
    "\n",
    "# now making it an nympy array\n",
    "arr = np.arange(9)  \n",
    "print(arr)\n",
    "\n",
    "sub_list = arr[2:5]\n",
    "sub_list[:] = [10,11,12]   # the sub_list is pointing to the 2:5 memory portion of the arr and change is thus reflected in orignal arr\n",
    "arr"
   ]
  },
  {
   "cell_type": "markdown",
   "metadata": {},
   "source": [
    "## **Fancy Indexing**\n",
    "\n",
    "In this example, we demonstrate how to create a 2D array using NumPy, fill it with values, and access specific rows of the array using advanced indexing.\n",
    "\n",
    "### Code Example\n",
    "\n",
    "```python\n",
    "# Access specific rows of the array using advanced indexing\n",
    "# Access rows 4, 3, -2 (second last), and -1 (last row)\n",
    "result = arr[[4, 3, -2, -1]]\n",
    "print(\"Selected Rows:\\n\", result)\n",
    "# we have to pass a list inside the [ ]"
   ]
  },
  {
   "cell_type": "code",
   "execution_count": 10,
   "metadata": {},
   "outputs": [
    {
     "name": "stdout",
     "output_type": "stream",
     "text": [
      "[[0 0 0 0]\n",
      " [1 1 1 1]\n",
      " [2 2 2 2]\n",
      " [3 3 3 3]\n",
      " [4 4 4 4]\n",
      " [5 5 5 5]\n",
      " [6 6 6 6]\n",
      " [7 7 7 7]]\n"
     ]
    },
    {
     "data": {
      "text/plain": [
       "array([[4, 4, 4, 4],\n",
       "       [3, 3, 3, 3],\n",
       "       [6, 6, 6, 6],\n",
       "       [7, 7, 7, 7]], dtype=int8)"
      ]
     },
     "execution_count": 10,
     "metadata": {},
     "output_type": "execute_result"
    }
   ],
   "source": [
    "arr = np.zeros((8,4),dtype=\"int8\") \n",
    "\n",
    "for i in range(1,8):\n",
    "    arr[i] = i \n",
    "\n",
    "print(arr)\n",
    "\n",
    "arr[[4,3,-2,-1]]   # pass index "
   ]
  },
  {
   "cell_type": "markdown",
   "metadata": {
    "id": "8sA0X96kRRb3"
   },
   "source": [
    "As you can see both instances belongs to **numpy.ndarray** class, where ndarray simply stands for **n-dimensional array**.\n",
    "\n",
    "## **Attributes of Numpy Array**\n",
    "\n",
    "The more important attributes of an ndarray object are:\n",
    " \n",
    "- **ndarray.ndim**\n",
    "\n",
    "the number of axes (dimensions) of the array.\n",
    "\n",
    "- **ndarray.shape**\n",
    "\n",
    "the dimensions of the array. This is a tuple of integers indicating the size of the array in each dimension. For a matrix with n rows and m columns, the shape will be (n,m). The length of the shape tuple is therefore the number of axes, ndim.\n",
    "\n",
    "- **ndarray.size**\n",
    "\n",
    "the total number of elements of the array. This is equal to the product of the elements of shape.\n",
    "\n",
    "- **ndarray.dtype**\n",
    "\n",
    "an object describing the type of the elements in the array. One can create or specify dtype using standard Python types. Additionally NumPy provides types of its own. **numpy.int32, numpy.int16, and numpy.float64** are some examples.\n",
    "\n",
    "- **ndarray.itemsize**\n",
    "\n",
    "the size in bytes of each element of the array. For example, an array of elements of type float64 has itemsize 8 (=64/8), while one of type complex32 has itemsize 4 (=32/8). It is equivalent to **ndarray.dtype.itemsize**.\n"
   ]
  },
  {
   "cell_type": "markdown",
   "metadata": {
    "id": "GrBXg83gS4S5"
   },
   "source": [
    "Let's jump into examples for everything to understand things in better way...\n",
    "\n",
    "**1. ndarray.ndim**"
   ]
  },
  {
   "cell_type": "code",
   "execution_count": 7,
   "metadata": {
    "colab": {
     "base_uri": "https://localhost:8080/"
    },
    "executionInfo": {
     "elapsed": 237,
     "status": "ok",
     "timestamp": 1624282388994,
     "user": {
      "displayName": "JKB Education Group",
      "photoUrl": "https://lh3.googleusercontent.com/a-/AOh14GgVDrkOo8zlABzYRCOJhHRgcLuJkkBySrHWd8n5sQ=s64",
      "userId": "04362346289210947166"
     },
     "user_tz": -330
    },
    "id": "OeW8MWCjO3Fv",
    "outputId": "0f0e0637-308c-416e-fbaa-9f493589d265"
   },
   "outputs": [
    {
     "name": "stdout",
     "output_type": "stream",
     "text": [
      "dimension =  1\n",
      "dimension =  2\n",
      "dimension =  3\n"
     ]
    }
   ],
   "source": [
    "import numpy as np\n",
    "\n",
    "def give_dimension(my_mat):\n",
    "    print(\"dimension = \", my_mat.ndim)\n",
    "\n",
    "give_dimension(np.array([1, 2, 3, 4, 5]))\n",
    "give_dimension(np.array([[1, 2, 3, 4, 5], [5, 6, 7, 8, 9]]))\n",
    "give_dimension(\n",
    "    np.array(\n",
    "        [\n",
    "            [[0, 1, 2], [3, 4, 5], [6, 7, 8]],\n",
    "            [[9, 10, 11], [12, 13, 14], [15, 16, 17]],\n",
    "            [[18, 19, 20], [21, 22, 23], [24, 25, 26]],\n",
    "        ]\n",
    "    )\n",
    ")"
   ]
  },
  {
   "cell_type": "markdown",
   "metadata": {
    "id": "nhH51HGjTIfA"
   },
   "source": [
    "**2. ndarray.shape**"
   ]
  },
  {
   "cell_type": "code",
   "execution_count": 13,
   "metadata": {
    "colab": {
     "base_uri": "https://localhost:8080/"
    },
    "executionInfo": {
     "elapsed": 232,
     "status": "ok",
     "timestamp": 1624282388995,
     "user": {
      "displayName": "JKB Education Group",
      "photoUrl": "https://lh3.googleusercontent.com/a-/AOh14GgVDrkOo8zlABzYRCOJhHRgcLuJkkBySrHWd8n5sQ=s64",
      "userId": "04362346289210947166"
     },
     "user_tz": -330
    },
    "id": "2NyoJEuLO3Iv",
    "outputId": "fa12b4a1-9d6e-40ee-87e4-3611f77a7d1a"
   },
   "outputs": [
    {
     "name": "stdout",
     "output_type": "stream",
     "text": [
      "(shape/order) =  (5,)\n",
      "(shape/order) =  (2, 5)\n",
      "(shape/order) =  (4, 3, 3)\n"
     ]
    }
   ],
   "source": [
    "import numpy as np\n",
    "\n",
    "def get_shape(my_mat):\n",
    "    print(\"(shape/order) = \", my_mat.shape)\n",
    "\n",
    "get_shape(np.array([1, 2, 3, 4, 5]))\n",
    "# list of lists\n",
    "get_shape(np.array(\n",
    "    [\n",
    "        [1, 2, 3, 4, 5], \n",
    "        [5, 6, 7, 8, 9]\n",
    "    ]\n",
    "))\n",
    "get_shape(\n",
    "    np.array(\n",
    "        [\n",
    "            [[0, 1, 2], [3, 4, 5], [6, 7, 8]],\n",
    "            [[9, 10, 11], [12, 13, 14], [15, 16, 17]],\n",
    "            [[18, 19, 20], [21, 22, 23], [24, 25, 26]],\n",
    "        ]\n",
    "    )\n",
    ")"
   ]
  },
  {
   "cell_type": "markdown",
   "metadata": {
    "id": "d4X_TeaSTJLR"
   },
   "source": [
    "**3. ndarray.size**"
   ]
  },
  {
   "cell_type": "code",
   "execution_count": 9,
   "metadata": {
    "colab": {
     "base_uri": "https://localhost:8080/"
    },
    "executionInfo": {
     "elapsed": 230,
     "status": "ok",
     "timestamp": 1624282388997,
     "user": {
      "displayName": "JKB Education Group",
      "photoUrl": "https://lh3.googleusercontent.com/a-/AOh14GgVDrkOo8zlABzYRCOJhHRgcLuJkkBySrHWd8n5sQ=s64",
      "userId": "04362346289210947166"
     },
     "user_tz": -330
    },
    "id": "G0mzjrDHShLx",
    "outputId": "124665ac-188a-4b0f-d487-137cceaa4e2e"
   },
   "outputs": [
    {
     "name": "stdout",
     "output_type": "stream",
     "text": [
      "(size/total number of elements) =  5\n",
      "(size/total number of elements) =  10\n",
      "(size/total number of elements) =  27\n"
     ]
    }
   ],
   "source": [
    "import numpy as np\n",
    "\n",
    "def get_size(my_mat):\n",
    "    print(f\"(size/total number of elements) = \", my_mat.size)\n",
    "\n",
    "get_size(np.array([1, 2, 3, 4, 5]))\n",
    "get_size(np.array([[1, 2, 3, 4, 5], [5, 6, 7, 8, 9]]))\n",
    "get_size(\n",
    "    np.array(\n",
    "        [\n",
    "            [[0, 1, 2], [3, 4, 5], [6, 7, 8]],\n",
    "            [[9, 10, 11], [12, 13, 14], [15, 16, 17]],\n",
    "            [[18, 19, 20], [21, 22, 23], [24, 25, 26]],\n",
    "        ]\n",
    "    )\n",
    ")"
   ]
  },
  {
   "cell_type": "markdown",
   "metadata": {
    "id": "sgnjiw2pTJ0A"
   },
   "source": [
    "**4. ndarray.dtype**"
   ]
  },
  {
   "cell_type": "code",
   "execution_count": 10,
   "metadata": {
    "colab": {
     "base_uri": "https://localhost:8080/"
    },
    "executionInfo": {
     "elapsed": 228,
     "status": "ok",
     "timestamp": 1624282388998,
     "user": {
      "displayName": "JKB Education Group",
      "photoUrl": "https://lh3.googleusercontent.com/a-/AOh14GgVDrkOo8zlABzYRCOJhHRgcLuJkkBySrHWd8n5sQ=s64",
      "userId": "04362346289210947166"
     },
     "user_tz": -330
    },
    "id": "XbF7D_tbShRd",
    "outputId": "58953a93-7528-4b2c-d40a-e05be23790dc"
   },
   "outputs": [
    {
     "name": "stdout",
     "output_type": "stream",
     "text": [
      "data type:  float64\n",
      "data type:  complex128\n",
      "data type:  <U9\n"
     ]
    }
   ],
   "source": [
    "import numpy as np\n",
    "\n",
    "def data_type(my_matrix):\n",
    "    print(\"data type: \", my_matrix.dtype)\n",
    "\n",
    "data_type(np.array([1.34, 2.45, 1.35, 7.69, 8.56]))\n",
    "data_type(np.array([4j, 4 + 3j, 6 - 9j]))\n",
    "data_type(np.array([\"a\", \"b\", \"c\", \"abc\", \"ravipande\", \"hiten\"]))"
   ]
  },
  {
   "cell_type": "markdown",
   "metadata": {
    "id": "3N_L9Z5zUt2H"
   },
   "source": [
    "The Unicode Standard provides a unique number for every character, no matter what platform, device, application or language. It has been adopted by all modern software providers and now allows data to be transported through many different platforms, devices and applications without corruption. Support of Unicode forms the foundation for the representation of languages and symbols in all major operating systems, search engines, browsers, laptops, and smart phones—plus the Internet and World Wide Web (URLs, HTML, XML, CSS, JSON, etc.)."
   ]
  },
  {
   "cell_type": "code",
   "execution_count": 11,
   "metadata": {
    "colab": {
     "base_uri": "https://localhost:8080/"
    },
    "executionInfo": {
     "elapsed": 225,
     "status": "ok",
     "timestamp": 1624282389001,
     "user": {
      "displayName": "JKB Education Group",
      "photoUrl": "https://lh3.googleusercontent.com/a-/AOh14GgVDrkOo8zlABzYRCOJhHRgcLuJkkBySrHWd8n5sQ=s64",
      "userId": "04362346289210947166"
     },
     "user_tz": -330
    },
    "id": "JP7AAAQWUaoe",
    "outputId": "a72dde2d-7811-46d2-f77b-9c3028b0eded"
   },
   "outputs": [
    {
     "data": {
      "text/plain": [
       "dtype('float16')"
      ]
     },
     "execution_count": 11,
     "metadata": {},
     "output_type": "execute_result"
    }
   ],
   "source": [
    "\"\"\" you can implicitly define the data type along with array definition.\n",
    "see the code below ....\"\"\"\n",
    "x = np.array([23, 24.88, 56.9, 78, 97], dtype=np.float16)\n",
    "x.dtype"
   ]
  },
  {
   "cell_type": "code",
   "execution_count": 12,
   "metadata": {},
   "outputs": [
    {
     "data": {
      "text/plain": [
       "array([1., 2., 3.], dtype=float16)"
      ]
     },
     "execution_count": 12,
     "metadata": {},
     "output_type": "execute_result"
    }
   ],
   "source": [
    "np.array([1, 2, \"3\"], dtype=np.float16)"
   ]
  },
  {
   "cell_type": "code",
   "execution_count": 13,
   "metadata": {
    "colab": {
     "base_uri": "https://localhost:8080/",
     "height": 185
    },
    "executionInfo": {
     "elapsed": 487,
     "status": "error",
     "timestamp": 1627452498379,
     "user": {
      "displayName": "Harshal Bhoir",
      "photoUrl": "https://lh3.googleusercontent.com/a-/AOh14Ggq_SPAuZV5Npa4283PISgrbXLDsZv279JbeYpZuQ=s64",
      "userId": "09894001979294404483"
     },
     "user_tz": -330
    },
    "id": "BwXOXt7KV3ha",
    "outputId": "beed0b33-850e-429c-8840-e1269c175d97"
   },
   "outputs": [
    {
     "ename": "ValueError",
     "evalue": "complex() arg is a malformed string",
     "output_type": "error",
     "traceback": [
      "\u001b[0;31m---------------------------------------------------------------------------\u001b[0m",
      "\u001b[0;31mValueError\u001b[0m                                Traceback (most recent call last)",
      "Cell \u001b[0;32mIn[13], line 2\u001b[0m\n\u001b[1;32m      1\u001b[0m \u001b[38;5;66;03m# this will probably give you an error { the code below }\u001b[39;00m\n\u001b[0;32m----> 2\u001b[0m data_type(\u001b[43mnp\u001b[49m\u001b[38;5;241;43m.\u001b[39;49m\u001b[43marray\u001b[49m\u001b[43m(\u001b[49m\u001b[43m[\u001b[49m\u001b[38;5;124;43m\"\u001b[39;49m\u001b[38;5;124;43ma\u001b[39;49m\u001b[38;5;124;43m\"\u001b[39;49m\u001b[43m,\u001b[49m\u001b[43m \u001b[49m\u001b[38;5;124;43m\"\u001b[39;49m\u001b[38;5;124;43mb\u001b[39;49m\u001b[38;5;124;43m\"\u001b[39;49m\u001b[43m,\u001b[49m\u001b[43m \u001b[49m\u001b[38;5;124;43m\"\u001b[39;49m\u001b[38;5;124;43mc\u001b[39;49m\u001b[38;5;124;43m\"\u001b[39;49m\u001b[43m,\u001b[49m\u001b[43m \u001b[49m\u001b[38;5;124;43m\"\u001b[39;49m\u001b[38;5;124;43mabc\u001b[39;49m\u001b[38;5;124;43m\"\u001b[39;49m\u001b[43m,\u001b[49m\u001b[43m \u001b[49m\u001b[38;5;124;43m\"\u001b[39;49m\u001b[38;5;124;43mvinayak\u001b[39;49m\u001b[38;5;124;43m\"\u001b[39;49m\u001b[43m,\u001b[49m\u001b[43m \u001b[49m\u001b[38;5;124;43m\"\u001b[39;49m\u001b[38;5;124;43mhiten\u001b[39;49m\u001b[38;5;124;43m\"\u001b[39;49m\u001b[43m]\u001b[49m\u001b[43m,\u001b[49m\u001b[43m \u001b[49m\u001b[43mdtype\u001b[49m\u001b[38;5;241;43m=\u001b[39;49m\u001b[38;5;124;43m\"\u001b[39;49m\u001b[38;5;124;43mcomplex\u001b[39;49m\u001b[38;5;124;43m\"\u001b[39;49m\u001b[43m)\u001b[49m)\n",
      "\u001b[0;31mValueError\u001b[0m: complex() arg is a malformed string"
     ]
    }
   ],
   "source": [
    "# this will probably give you an error { the code below }\n",
    "data_type(np.array([\"a\", \"b\", \"c\", \"abc\", \"vinayak\", \"hiten\"], dtype=\"complex\"))"
   ]
  },
  {
   "cell_type": "markdown",
   "metadata": {
    "id": "1IVDWmFBV6BO"
   },
   "source": [
    "**5. ndarray.itemsize**"
   ]
  },
  {
   "cell_type": "code",
   "execution_count": 14,
   "metadata": {
    "colab": {
     "base_uri": "https://localhost:8080/"
    },
    "executionInfo": {
     "elapsed": 224,
     "status": "ok",
     "timestamp": 1624282389004,
     "user": {
      "displayName": "JKB Education Group",
      "photoUrl": "https://lh3.googleusercontent.com/a-/AOh14GgVDrkOo8zlABzYRCOJhHRgcLuJkkBySrHWd8n5sQ=s64",
      "userId": "04362346289210947166"
     },
     "user_tz": -330
    },
    "id": "kcr80ALQShW_",
    "outputId": "a771a772-ad96-4a68-f20f-50f40e217412"
   },
   "outputs": [
    {
     "name": "stdout",
     "output_type": "stream",
     "text": [
      "item size:  8  bytes\n",
      "item size:  16  bytes\n",
      "item size:  32  bytes\n"
     ]
    }
   ],
   "source": [
    "import numpy as np\n",
    "\n",
    "def item_size(my_matrix):\n",
    "    print(\"item size: \", my_matrix.itemsize, \" bytes\")\n",
    "\n",
    "item_size(np.array([1.34, 2.45, 1.35, 7.69, 8.56]))\n",
    "item_size(np.array([4j, 4 + 3j, 6 - 9j]))\n",
    "item_size(np.array([\"a\", \"b\", \"c\"], dtype=np.dtype(\"U8\")))      "
   ]
  },
  {
   "cell_type": "markdown",
   "metadata": {
    "id": "boDQ6fKSWQvB"
   },
   "source": [
    "## **NumPy Array Creation**\n",
    " \n",
    "There are various functions which we can use to create arrays with the help of numpy library. Following code shows the use of those functions to create a single or multi dimensional array.\n"
   ]
  },
  {
   "cell_type": "code",
   "execution_count": 15,
   "metadata": {
    "colab": {
     "base_uri": "https://localhost:8080/"
    },
    "executionInfo": {
     "elapsed": 220,
     "status": "ok",
     "timestamp": 1624282389005,
     "user": {
      "displayName": "JKB Education Group",
      "photoUrl": "https://lh3.googleusercontent.com/a-/AOh14GgVDrkOo8zlABzYRCOJhHRgcLuJkkBySrHWd8n5sQ=s64",
      "userId": "04362346289210947166"
     },
     "user_tz": -330
    },
    "id": "o4GDamnuShZw",
    "outputId": "762c847e-3a39-4019-bf7a-1c4de69deda5"
   },
   "outputs": [
    {
     "name": "stdout",
     "output_type": "stream",
     "text": [
      "[2 3 4 5]\n",
      "<class 'numpy.ndarray'> \n",
      "\n",
      "[  0 -20 -40 -60 -80]\n"
     ]
    }
   ],
   "source": [
    "import numpy as np\n",
    "# will print array in the range provided as argument\n",
    "my_np_arr = np.arange(2, 6)\n",
    "print(my_np_arr)\n",
    "print(type(my_np_arr), \"\\n\")\n",
    "# you can also provide spacing between two intervals by providing third argument\n",
    "print(np.arange(0, -100, -20))  # output is nothing but numpy.ndarray class object"
   ]
  },
  {
   "cell_type": "code",
   "execution_count": 17,
   "metadata": {},
   "outputs": [
    {
     "name": "stdout",
     "output_type": "stream",
     "text": [
      "int8\n",
      "[[0 0 0 0]\n",
      " [0 0 0 0]\n",
      " [0 0 0 0]] <class 'numpy.ndarray'>\n"
     ]
    }
   ],
   "source": [
    "my_arr = np.zeros((3, 4), dtype=np.int8)\n",
    "print(my_arr.dtype)\n",
    "print(my_arr, type(my_arr))"
   ]
  },
  {
   "cell_type": "code",
   "execution_count": 18,
   "metadata": {
    "colab": {
     "base_uri": "https://localhost:8080/"
    },
    "executionInfo": {
     "elapsed": 216,
     "status": "ok",
     "timestamp": 1624282389005,
     "user": {
      "displayName": "JKB Education Group",
      "photoUrl": "https://lh3.googleusercontent.com/a-/AOh14GgVDrkOo8zlABzYRCOJhHRgcLuJkkBySrHWd8n5sQ=s64",
      "userId": "04362346289210947166"
     },
     "user_tz": -330
    },
    "id": "BgFgMj4QZmG9",
    "outputId": "834def2c-2663-4eb8-821c-7da3e39a3c35"
   },
   "outputs": [
    {
     "name": "stdout",
     "output_type": "stream",
     "text": [
      "[[0. 0. 0.]\n",
      " [0. 0. 0.]] \n",
      "\n",
      "[[1. 1.]\n",
      " [1. 1.]] \n",
      "\n",
      "[[9999 9999 9999]\n",
      " [9999 9999 9999]\n",
      " [9999 9999 9999]] \n",
      "\n",
      "[[1. 0. 0. 0. 0.]\n",
      " [0. 1. 0. 0. 0.]\n",
      " [0. 0. 1. 0. 0.]\n",
      " [0. 0. 0. 1. 0.]\n",
      " [0. 0. 0. 0. 1.]] \n",
      "\n"
     ]
    }
   ],
   "source": [
    "# will print an array of all zeros\n",
    "print(np.zeros((2, 3)), \"\\n\")\n",
    "# will print an array of all ones\n",
    "print(np.ones((2, 2)), \"\\n\")\n",
    "# will print a constant array\n",
    "print(np.full((3, 3), 9999), \"\\n\")\n",
    "# will print an identity matrix of provided order\n",
    "print(np.eye(5), \"\\n\")"
   ]
  },
  {
   "cell_type": "code",
   "execution_count": 18,
   "metadata": {},
   "outputs": [
    {
     "name": "stdout",
     "output_type": "stream",
     "text": [
      "[[0. 0. 0. 0. 0.]\n",
      " [0. 0. 0. 0. 0.]\n",
      " [0. 0. 0. 0. 0.]\n",
      " [1. 0. 0. 0. 0.]\n",
      " [0. 1. 0. 0. 0.]] \n",
      "\n"
     ]
    }
   ],
   "source": [
    "import numpy as np\n",
    "\n",
    "print(np.eye(5,k=-3), \"\\n\")  # the k argument moves the axis away from diagonal "
   ]
  },
  {
   "cell_type": "code",
   "execution_count": 21,
   "metadata": {},
   "outputs": [
    {
     "name": "stdout",
     "output_type": "stream",
     "text": [
      "[3.         3.00344828 3.00689655 3.01034483 3.0137931  3.01724138\n",
      " 3.02068966 3.02413793 3.02758621 3.03103448 3.03448276 3.03793103\n",
      " 3.04137931 3.04482759 3.04827586 3.05172414 3.05517241 3.05862069\n",
      " 3.06206897 3.06551724 3.06896552 3.07241379 3.07586207 3.07931034\n",
      " 3.08275862 3.0862069  3.08965517 3.09310345 3.09655172 3.1       ]\n"
     ]
    }
   ],
   "source": [
    "\"\"\"linspace() will create arrays with a specified number of elements, and spaced \n",
    "equally between the specified beginning and end values. \n",
    "For example: \"\"\"\n",
    "\n",
    "print(np.linspace(3, 3.1, 30))"
   ]
  },
  {
   "cell_type": "code",
   "execution_count": 23,
   "metadata": {},
   "outputs": [
    {
     "data": {
      "text/plain": [
       "3.141592653589793"
      ]
     },
     "execution_count": 23,
     "metadata": {},
     "output_type": "execute_result"
    }
   ],
   "source": [
    "np.pi"
   ]
  },
  {
   "cell_type": "code",
   "execution_count": 12,
   "metadata": {
    "colab": {
     "base_uri": "https://localhost:8080/"
    },
    "executionInfo": {
     "elapsed": 4336,
     "status": "ok",
     "timestamp": 1627453476902,
     "user": {
      "displayName": "Harshal Bhoir",
      "photoUrl": "https://lh3.googleusercontent.com/a-/AOh14Ggq_SPAuZV5Npa4283PISgrbXLDsZv279JbeYpZuQ=s64",
      "userId": "09894001979294404483"
     },
     "user_tz": -330
    },
    "id": "JqpaCJBpbe6t",
    "outputId": "82ed3fdb-2145-4fc5-f5d6-2acd1645fd93"
   },
   "outputs": [
    {
     "name": "stdout",
     "output_type": "stream",
     "text": [
      "[0.         0.33069396 0.66138793 0.99208189 1.32277585 1.65346982\n",
      " 1.98416378 2.31485774 2.64555171 2.97624567 3.30693964 3.6376336\n",
      " 3.96832756 4.29902153 4.62971549 4.96040945 5.29110342 5.62179738\n",
      " 5.95249134 6.28318531]\n",
      "\n",
      "[ 0.00000000e+00  3.24699469e-01  6.14212713e-01  8.37166478e-01\n",
      "  9.69400266e-01  9.96584493e-01  9.15773327e-01  7.35723911e-01\n",
      "  4.75947393e-01  1.64594590e-01 -1.64594590e-01 -4.75947393e-01\n",
      " -7.35723911e-01 -9.15773327e-01 -9.96584493e-01 -9.69400266e-01\n",
      " -8.37166478e-01 -6.14212713e-01 -3.24699469e-01 -2.44929360e-16]\n",
      "\n",
      "[ 1.          0.94581724  0.78914051  0.54694816  0.24548549 -0.08257935\n",
      " -0.40169542 -0.67728157 -0.87947375 -0.9863613  -0.9863613  -0.87947375\n",
      " -0.67728157 -0.40169542 -0.08257935  0.24548549  0.54694816  0.78914051\n",
      "  0.94581724  1.        ]\n",
      "\n",
      "[ 0.00000000e+00  3.43300434e-01  7.78331242e-01  1.53061395e+00\n",
      "  3.94891070e+00 -1.20682053e+01 -2.27977037e+00 -1.08628958e+00\n",
      " -5.41172937e-01 -1.66870486e-01  1.66870486e-01  5.41172937e-01\n",
      "  1.08628958e+00  2.27977037e+00  1.20682053e+01 -3.94891070e+00\n",
      " -1.53061395e+00 -7.78331242e-01 -3.43300434e-01 -2.44929360e-16]\n"
     ]
    }
   ],
   "source": [
    "# you can even perform trigonometry on set of values\n",
    "# trigonometry funtion accepts angle in radians {2 pi = 360 deg}\n",
    "vals = np.linspace(0, 2 * np.pi, 20)\n",
    "print(vals)\n",
    "print()\n",
    "print(np.sin(vals))\n",
    "print()\n",
    "print(np.cos(vals))\n",
    "print()\n",
    "print(np.tan(vals))"
   ]
  },
  {
   "cell_type": "markdown",
   "metadata": {
    "id": "voo3KvVVcUZH"
   },
   "source": [
    "## **Random Numbers in NumPy**\n",
    "\n",
    "### **What is a Random Number?**\n",
    "Random number does NOT mean a different number every time. Random means something that can not be predicted logically.\n",
    "\n",
    "### **Pseudo Random and True Random**\n",
    "Computers work on programs, and programs are definitive set of instructions. So it means there must be some algorithm to generate a random number as well. If there is a program to generate random number it can be predicted, thus it is not truly random.\n",
    "\n",
    "Random numbers generated through a generation algorithm are called pseudo random.\n",
    "\n",
    "### **Can we make truly random numbers?**\n",
    "\n",
    "**Yes**. In order to generate a truly random number on our computers we need to get the random data from some outside source. This outside source is generally our **keystrokes, mouse movements, data on network etc**.\n",
    "\n",
    "We do not need truly random numbers, unless its related to security (e.g. encryption keys) or the basis of application is the randomness (e.g. Digital roulette wheels)."
   ]
  },
  {
   "cell_type": "markdown",
   "metadata": {
    "id": "GvD-9-bIdoYX"
   },
   "source": [
    "### **Generate Random Number**\n",
    "NumPy offers the **random modul**e to work with random numbers.\n",
    "\n",
    "**1. Generate a random integer from 0 to 100:**"
   ]
  },
  {
   "cell_type": "code",
   "execution_count": 26,
   "metadata": {
    "colab": {
     "base_uri": "https://localhost:8080/"
    },
    "executionInfo": {
     "elapsed": 209,
     "status": "ok",
     "timestamp": 1624282389007,
     "user": {
      "displayName": "JKB Education Group",
      "photoUrl": "https://lh3.googleusercontent.com/a-/AOh14GgVDrkOo8zlABzYRCOJhHRgcLuJkkBySrHWd8n5sQ=s64",
      "userId": "04362346289210947166"
     },
     "user_tz": -330
    },
    "id": "r46BAiMvdz1G",
    "outputId": "2a0ae25a-94a1-469c-f6fd-b3acc56be14f"
   },
   "outputs": [
    {
     "name": "stdout",
     "output_type": "stream",
     "text": [
      "936\n"
     ]
    }
   ],
   "source": [
    "# everything is pseudo random\n",
    "from numpy import random\n",
    "\n",
    "x = random.randint(900, 1000)\n",
    "\n",
    "print(x)"
   ]
  },
  {
   "cell_type": "markdown",
   "metadata": {
    "id": "v2nI2u4jd0Ad"
   },
   "source": [
    "**2. The random module's rand() method returns a random float between 0 and 1.**"
   ]
  },
  {
   "cell_type": "code",
   "execution_count": 28,
   "metadata": {
    "colab": {
     "base_uri": "https://localhost:8080/"
    },
    "executionInfo": {
     "elapsed": 205,
     "status": "ok",
     "timestamp": 1624282389008,
     "user": {
      "displayName": "JKB Education Group",
      "photoUrl": "https://lh3.googleusercontent.com/a-/AOh14GgVDrkOo8zlABzYRCOJhHRgcLuJkkBySrHWd8n5sQ=s64",
      "userId": "04362346289210947166"
     },
     "user_tz": -330
    },
    "id": "M_Vqxj4Qd0H1",
    "outputId": "60793097-12fe-42ed-9f2e-48cee0aaedcb"
   },
   "outputs": [
    {
     "name": "stdout",
     "output_type": "stream",
     "text": [
      "[[ 0.28978786  0.5282671   0.7336816  -0.14059608]\n",
      " [-1.0600444   0.5619653   2.6050906  -0.31536144]\n",
      " [ 1.1824267   0.6669278  -0.47740668 -0.5926983 ]] float32\n"
     ]
    }
   ],
   "source": [
    "from numpy import random\n",
    "\n",
    "x = random.randn(3, 4)  # 3 and 4 are dimensions\n",
    "x = x.astype(np.float32)\n",
    "\n",
    "print(x, x.dtype)"
   ]
  },
  {
   "cell_type": "markdown",
   "metadata": {
    "id": "pZxHjwuPd0OF"
   },
   "source": [
    "### **Generate Random Array**\n",
    "In NumPy we work with arrays, and you can use the two methods from the above examples to make random arrays.\n",
    "\n",
    "**Integers**\n",
    "\n",
    "The **randint()** method takes a **size** parameter where you can specify the shape of an array."
   ]
  },
  {
   "cell_type": "code",
   "execution_count": 31,
   "metadata": {
    "colab": {
     "base_uri": "https://localhost:8080/"
    },
    "executionInfo": {
     "elapsed": 202,
     "status": "ok",
     "timestamp": 1624282389009,
     "user": {
      "displayName": "JKB Education Group",
      "photoUrl": "https://lh3.googleusercontent.com/a-/AOh14GgVDrkOo8zlABzYRCOJhHRgcLuJkkBySrHWd8n5sQ=s64",
      "userId": "04362346289210947166"
     },
     "user_tz": -330
    },
    "id": "bVCip5Tad0Ux",
    "outputId": "c1736ae5-863b-4f00-c0d9-9c54671508c6"
   },
   "outputs": [
    {
     "name": "stdout",
     "output_type": "stream",
     "text": [
      "[[157 891 470]\n",
      " [ 34 926 517]\n",
      " [828 808 707]\n",
      " [488 917 577]\n",
      " [297 808 242]] \n",
      "\n",
      " 2 \n",
      " (5, 3)\n"
     ]
    }
   ],
   "source": [
    "from numpy import random\n",
    "\n",
    "x = random.randint(1000, size=(5, 3))\n",
    "\n",
    "print(x,'\\n\\n', x.ndim,'\\n', x.shape)"
   ]
  },
  {
   "cell_type": "markdown",
   "metadata": {
    "id": "iJnuy0Lbek9S"
   },
   "source": [
    "**Floats**\n",
    "\n",
    "The **rand()** method also allows you to specify the shape of the array.\n",
    "\n",
    "**Generate a 1-D array containing 5 random floats:**"
   ]
  },
  {
   "cell_type": "code",
   "execution_count": 38,
   "metadata": {
    "colab": {
     "base_uri": "https://localhost:8080/"
    },
    "executionInfo": {
     "elapsed": 194,
     "status": "ok",
     "timestamp": 1624282389010,
     "user": {
      "displayName": "JKB Education Group",
      "photoUrl": "https://lh3.googleusercontent.com/a-/AOh14GgVDrkOo8zlABzYRCOJhHRgcLuJkkBySrHWd8n5sQ=s64",
      "userId": "04362346289210947166"
     },
     "user_tz": -330
    },
    "id": "uiKGRhS_elFA",
    "outputId": "50952c93-e0f2-43f5-9bfe-e0003031b137"
   },
   "outputs": [
    {
     "name": "stdout",
     "output_type": "stream",
     "text": [
      "[0.73078121 0.25235012 0.00320035 0.5371335 ]\n"
     ]
    }
   ],
   "source": [
    "from numpy import random\n",
    "\n",
    "x = random.rand(4)\n",
    "print(x)"
   ]
  },
  {
   "cell_type": "markdown",
   "metadata": {
    "id": "TSzJ7IPAelL2"
   },
   "source": [
    "**Generate a 2-D array with 3 rows, each row containing 5 random numbers:**"
   ]
  },
  {
   "cell_type": "code",
   "execution_count": 68,
   "metadata": {
    "colab": {
     "base_uri": "https://localhost:8080/"
    },
    "executionInfo": {
     "elapsed": 193,
     "status": "ok",
     "timestamp": 1624282389012,
     "user": {
      "displayName": "JKB Education Group",
      "photoUrl": "https://lh3.googleusercontent.com/a-/AOh14GgVDrkOo8zlABzYRCOJhHRgcLuJkkBySrHWd8n5sQ=s64",
      "userId": "04362346289210947166"
     },
     "user_tz": -330
    },
    "id": "nav87ZkgelRi",
    "outputId": "300d4062-2e89-4e32-944c-7bf88c225b4c"
   },
   "outputs": [
    {
     "name": "stdout",
     "output_type": "stream",
     "text": [
      "[[0.75666865 0.26743861 0.95073569 0.40434748 0.56638469]\n",
      " [0.38769396 0.62993852 0.79057891 0.52028045 0.61922357]\n",
      " [0.00596853 0.71135718 0.35528642 0.09136865 0.63727383]] (3, 5)\n"
     ]
    }
   ],
   "source": [
    "from numpy import random\n",
    "\n",
    "x = random.rand(3, 5)\n",
    "print(x, x.shape)"
   ]
  },
  {
   "cell_type": "markdown",
   "metadata": {
    "id": "ktVmAOpce81t"
   },
   "source": [
    "### **Generate Random Number From Array**\n",
    "The **choice()** method allows you to generate a random value based on an array of values.\n",
    "\n",
    "The **choice()** method takes an array as a parameter and randomly returns one of the values."
   ]
  },
  {
   "cell_type": "code",
   "execution_count": 33,
   "metadata": {},
   "outputs": [
    {
     "data": {
      "text/plain": [
       "5"
      ]
     },
     "execution_count": 33,
     "metadata": {},
     "output_type": "execute_result"
    }
   ],
   "source": [
    "import random\n",
    "random.choice([1, 2, 3,4,5,6,7,8])"
   ]
  },
  {
   "cell_type": "code",
   "execution_count": 89,
   "metadata": {
    "colab": {
     "base_uri": "https://localhost:8080/"
    },
    "executionInfo": {
     "elapsed": 190,
     "status": "ok",
     "timestamp": 1624282389013,
     "user": {
      "displayName": "JKB Education Group",
      "photoUrl": "https://lh3.googleusercontent.com/a-/AOh14GgVDrkOo8zlABzYRCOJhHRgcLuJkkBySrHWd8n5sQ=s64",
      "userId": "04362346289210947166"
     },
     "user_tz": -330
    },
    "id": "Y3fUXSXle88R",
    "outputId": "cf5606f4-8934-4b61-c5fa-a8de3f9ff326"
   },
   "outputs": [
    {
     "name": "stdout",
     "output_type": "stream",
     "text": [
      "3\n"
     ]
    }
   ],
   "source": [
    "from numpy import random\n",
    "\n",
    "x = random.choice([3, 5, 7, 9, 6373])\n",
    "print(x)"
   ]
  },
  {
   "cell_type": "markdown",
   "metadata": {
    "id": "6kqhx1oie9Ck"
   },
   "source": [
    "The choice() method also allows you to return an array of values. Add a **size** parameter to specify the shape of the array.\n",
    "\n",
    "**Generate a 2-D array that consists of the values in the array parameter (3, 5, 7, and 9):**"
   ]
  },
  {
   "cell_type": "code",
   "execution_count": 55,
   "metadata": {
    "colab": {
     "base_uri": "https://localhost:8080/"
    },
    "executionInfo": {
     "elapsed": 188,
     "status": "ok",
     "timestamp": 1624282389015,
     "user": {
      "displayName": "JKB Education Group",
      "photoUrl": "https://lh3.googleusercontent.com/a-/AOh14GgVDrkOo8zlABzYRCOJhHRgcLuJkkBySrHWd8n5sQ=s64",
      "userId": "04362346289210947166"
     },
     "user_tz": -330
    },
    "id": "7eUs9fH2e9Ix",
    "outputId": "b2dff981-ef80-43b5-b481-320b4cda7cdd"
   },
   "outputs": [
    {
     "name": "stdout",
     "output_type": "stream",
     "text": [
      "[[   5 1002    7    5    3]\n",
      " [   9 1002   87 1002    9]\n",
      " [  87    3 1002   87 1002]]\n"
     ]
    }
   ],
   "source": [
    "from numpy import random\n",
    "\n",
    "x = random.choice([3, 5, 7, 9, 87, 1002], size=(3, 5))\n",
    "print(x)"
   ]
  },
  {
   "cell_type": "markdown",
   "metadata": {
    "id": "3oF1nqIcfp2W"
   },
   "source": [
    "### **NumPy Array Indexing**\n",
    " \n",
    "Numpy offers several ways to index into arrays.\n"
   ]
  },
  {
   "cell_type": "code",
   "execution_count": 95,
   "metadata": {
    "colab": {
     "base_uri": "https://localhost:8080/"
    },
    "executionInfo": {
     "elapsed": 187,
     "status": "ok",
     "timestamp": 1624282389017,
     "user": {
      "displayName": "JKB Education Group",
      "photoUrl": "https://lh3.googleusercontent.com/a-/AOh14GgVDrkOo8zlABzYRCOJhHRgcLuJkkBySrHWd8n5sQ=s64",
      "userId": "04362346289210947166"
     },
     "user_tz": -330
    },
    "id": "UCn87tJYfqAF",
    "outputId": "f7161fe3-1fce-4043-9675-498ea010cda5"
   },
   "outputs": [
    {
     "name": "stdout",
     "output_type": "stream",
     "text": [
      "<class 'numpy.ndarray'>\n",
      "[[23 45 67 78]\n",
      " [34 56 89 90]\n",
      " [23 24 45 68]] \n",
      "\n",
      "23\n",
      "23 45 67 78 34 56 89 90 23 24 45 68 "
     ]
    }
   ],
   "source": [
    "import numpy as np\n",
    "\n",
    "xmat = np.array([[23, 45, 67, 78], [34, 56, 89, 90], [23, 24, 45, 68]])\n",
    "print(type(xmat))  # will get the class name\n",
    "print(xmat, \"\\n\")\n",
    "\"\"\" consider the array as a matrix and think about the first term 23 in terms of\n",
    "x and y position index starting from 0\"\"\"\n",
    "\n",
    "# so to access first term of the matrix we'll write\n",
    "print(xmat[0, 0])  # 0th row and 0th column\n",
    "\n",
    "# to access entire matrix let's quickly go through the code below\n",
    "for i in range(0, 3):\n",
    "    for j in range(0, 4):\n",
    "        print(xmat[i, j], end=\" \")"
   ]
  },
  {
   "cell_type": "markdown",
   "metadata": {
    "id": "xXvEJmIAfqLE"
   },
   "source": [
    "**Slicing:** Similar to Python lists, numpy arrays can be sliced. Since arrays may be multidimensional, you must specify a slice for each dimension of the array:"
   ]
  },
  {
   "cell_type": "code",
   "execution_count": 38,
   "metadata": {
    "colab": {
     "base_uri": "https://localhost:8080/"
    },
    "executionInfo": {
     "elapsed": 184,
     "status": "ok",
     "timestamp": 1624282389018,
     "user": {
      "displayName": "JKB Education Group",
      "photoUrl": "https://lh3.googleusercontent.com/a-/AOh14GgVDrkOo8zlABzYRCOJhHRgcLuJkkBySrHWd8n5sQ=s64",
      "userId": "04362346289210947166"
     },
     "user_tz": -330
    },
    "id": "Fb5ehCzsfqTS",
    "outputId": "d70fb895-7ed4-4fb1-b807-69e6104039a6"
   },
   "outputs": [
    {
     "name": "stdout",
     "output_type": "stream",
     "text": [
      "[[23 45 67 78]\n",
      " [34 56 89 90]\n",
      " [23 24 45 68]]\n",
      "\n",
      "[56 89 90] \n",
      "\n",
      "1\n",
      "[[23 45 67 78]] \n",
      "\n",
      "[[23 45]\n",
      " [34 56]\n",
      " [23 24]]\n"
     ]
    }
   ],
   "source": [
    "import numpy as np\n",
    "\n",
    "xmat = np.array([[23, 45, 67, 78], [34, 56, 89, 90], [23, 24, 45, 68]])\n",
    "print(xmat)\n",
    "print()\n",
    "# to prxmint first two rows and first two columns\n",
    "print(xmat[1, 1:], \"\\n\")\n",
    "\n",
    "temp = xmat[1, 1:]\n",
    "print(temp.ndim)\n",
    "# to print entire columns and first row only\n",
    "print(xmat[:1, :], \"\\n\")\n",
    "\n",
    "# to print entire rows and first two columns\n",
    "print(xmat[:, :2])"
   ]
  },
  {
   "cell_type": "markdown",
   "metadata": {
    "id": "-sDZJd7IfqaD"
   },
   "source": [
    "**Note [IMPORTANT]:** You can also mix integer indexing with slice indexing. However, doing so will yield an array of lower rank than the original array."
   ]
  },
  {
   "cell_type": "code",
   "execution_count": 35,
   "metadata": {
    "colab": {
     "base_uri": "https://localhost:8080/"
    },
    "executionInfo": {
     "elapsed": 185,
     "status": "ok",
     "timestamp": 1624282389023,
     "user": {
      "displayName": "JKB Education Group",
      "photoUrl": "https://lh3.googleusercontent.com/a-/AOh14GgVDrkOo8zlABzYRCOJhHRgcLuJkkBySrHWd8n5sQ=s64",
      "userId": "04362346289210947166"
     },
     "user_tz": -330
    },
    "id": "cRcGc0zOfqhK",
    "outputId": "a51806a1-d3aa-4837-de38-a2bf8fa74611"
   },
   "outputs": [
    {
     "name": "stdout",
     "output_type": "stream",
     "text": [
      "original mat =>\n",
      "[[23 45 67 78]\n",
      " [34 56 89 90]\n",
      " [23 24 45 68]]\n",
      "[34 56 89 90]\n",
      "[[34 56 89 90]]\n",
      "(4,)\n",
      "(1, 4)\n"
     ]
    }
   ],
   "source": [
    "import numpy as np\n",
    "\n",
    "xmat = np.array([[23, 45, 67, 78], [34, 56, 89, 90], [23, 24, 45, 68]])\n",
    "print(f\"original mat =>\\n{xmat}\")\n",
    "\"\"\" there is not only one way to get the second row.\n",
    "see the code below\"\"\"\n",
    "print(xmat[1, :])\n",
    "print(xmat[1:2, :])\n",
    "# then what is the difference??\n",
    "# see the output correctly you will get to know\n",
    "# using mixing of integer and slicing as paameter in xmat[]\n",
    "# yields an array of lower rank while using slicring only\n",
    "# will give an array of the same rank as the original matrix.\n",
    "print(xmat[1, :].shape)  # rank = 1\n",
    "print(xmat[1:2, :].shape)  # rank = 2"
   ]
  },
  {
   "cell_type": "markdown",
   "metadata": {
    "id": "pYYpu8oXfqnk"
   },
   "source": [
    "**Integer array indexing:** When you index into numpy arrays using slicing, the resulting array view will always be a subarray of the original array. In contrast, integer array indexing allows you to construct arbitrary arrays using the data from another array. Here is an example:\n"
   ]
  },
  {
   "cell_type": "code",
   "execution_count": 69,
   "metadata": {},
   "outputs": [
    {
     "name": "stdout",
     "output_type": "stream",
     "text": [
      "(1, 1, 2)\n",
      "(2, 4, 3)\n",
      "(3, 9, 4)\n",
      "(3, 4, 5)\n"
     ]
    }
   ],
   "source": [
    "a = [1, 2, 3, 3]\n",
    "b = [1, 4, 9, 4]\n",
    "c = [2, 3, 4, 5, 6]\n",
    "\n",
    "for element in zip(a, b, c):\n",
    "    print(element)"
   ]
  },
  {
   "cell_type": "markdown",
   "metadata": {},
   "source": [
    "## NumPy Array Indexing\n",
    "\n",
    "This code demonstrates integer array indexing in NumPy to access elements of a 2D array.\n",
    "\n",
    "\n",
    "a = np.array([[1, 4, 5], [2, 3, 6], [4, 7, 9]])\n",
    "print(a[[0, 1, 2], [0, 1, 2]])  # Prints the diagonal elements\n",
    "\n",
    "**This is done as the first list i.e [0,1,2] is the row and second one is the column arguments so it is read as \n",
    "a[0,0],a[1,1],a[2,2]**"
   ]
  },
  {
   "cell_type": "code",
   "execution_count": 40,
   "metadata": {
    "colab": {
     "base_uri": "https://localhost:8080/"
    },
    "executionInfo": {
     "elapsed": 180,
     "status": "ok",
     "timestamp": 1624282389023,
     "user": {
      "displayName": "JKB Education Group",
      "photoUrl": "https://lh3.googleusercontent.com/a-/AOh14GgVDrkOo8zlABzYRCOJhHRgcLuJkkBySrHWd8n5sQ=s64",
      "userId": "04362346289210947166"
     },
     "user_tz": -330
    },
    "id": "qjbD-djefquR",
    "outputId": "9921588d-54ab-4d4b-ef77-a373e15cf796"
   },
   "outputs": [
    {
     "name": "stdout",
     "output_type": "stream",
     "text": [
      "[[1 4 5]\n",
      " [2 3 6]\n",
      " [4 7 9]]\n",
      "[1 3 9]\n",
      "[1 3 9]\n",
      "[4 4]\n",
      "[4 4]\n",
      "3\n"
     ]
    }
   ],
   "source": [
    "import numpy as np\n",
    "\n",
    "a = np.array([[1, 4, 5], [2, 3, 6], [4, 7, 9]])\n",
    "print(a)\n",
    "# this will print the diagonal elements of the matrix\n",
    "print(a[[0, 1, 2], [0, 1, 2]])\n",
    "# The above example of integer array indexing is equivalent to this:\n",
    "print(np.array([a[0, 0], a[1, 1], a[2, 2]]))  # Prints \"[1 3 9]\"\n",
    "# When using integer array indexing, you can reuse the same\n",
    "# element from the source array:\n",
    "print(a[[0, 0], [1, 1]])  # Prints \"[4 4]\"\n",
    "# Equivalent to the previous integer array indexing example\n",
    "print(np.array([a[0, 1], a[0, 1]]))  # Prints \"[4 4]\"\n",
    "print(a[1,1])"
   ]
  },
  {
   "cell_type": "markdown",
   "metadata": {
    "id": "ryBugXSXfq48"
   },
   "source": [
    "### **Array Maths**\n",
    " \n",
    "Basic mathematical functions operate elementwise on arrays, and are available both as operator overloads and as functions in the numpy module:\n"
   ]
  },
  {
   "cell_type": "code",
   "execution_count": 81,
   "metadata": {
    "colab": {
     "base_uri": "https://localhost:8080/"
    },
    "executionInfo": {
     "elapsed": 178,
     "status": "ok",
     "timestamp": 1624282389025,
     "user": {
      "displayName": "JKB Education Group",
      "photoUrl": "https://lh3.googleusercontent.com/a-/AOh14GgVDrkOo8zlABzYRCOJhHRgcLuJkkBySrHWd8n5sQ=s64",
      "userId": "04362346289210947166"
     },
     "user_tz": -330
    },
    "id": "5BFF95SxfrAR",
    "outputId": "572d974f-f8f6-4b23-d281-78bb0794f46c"
   },
   "outputs": [
    {
     "name": "stdout",
     "output_type": "stream",
     "text": [
      "[[ 6.  8.]\n",
      " [10. 12.]]\n",
      "[[ 6.  8.]\n",
      " [10. 12.]] \n",
      "\n",
      "[[-4. -4.]\n",
      " [-4. -4.]]\n",
      "[[-4. -4.]\n",
      " [-4. -4.]] \n",
      "\n",
      "[[ 5. 12.]\n",
      " [21. 32.]]\n",
      "[[ 5. 12.]\n",
      " [21. 32.]] \n",
      "\n",
      "[[0.2        0.33333333]\n",
      " [0.42857143 0.5       ]]\n",
      "[[0.2        0.33333333]\n",
      " [0.42857143 0.5       ]] \n",
      "\n",
      "[[1.        1.4142135]\n",
      " [1.7320508 2.       ]]\n"
     ]
    }
   ],
   "source": [
    "import numpy as np\n",
    "x = np.array([[1, 2], [3, 4]], dtype=np.float32)\n",
    "y = np.array([[5, 6], [7, 8]], dtype=np.float64)\n",
    "# Element Wise sum; both produce the array\n",
    "# [[ 6.0  8.0]\n",
    "#  [10.0 12.0]]\n",
    "print(x + y)\n",
    "print(np.add(x, y), \"\\n\")\n",
    "# Element Wise difference; both produce the array\n",
    "# [[-4.0 -4.0]\n",
    "#  [-4.0 -4.0]]\n",
    "print(x - y)\n",
    "print(np.subtract(x, y), \"\\n\")\n",
    "# Element Wise product; both produce the array\n",
    "# [[ 5.0 12.0]\n",
    "#  [21.0 32.0]]\n",
    "print(x * y)\n",
    "print(np.multiply(x, y), \"\\n\")\n",
    "# Element Wise division; both produce the array\n",
    "# [[ 0.2         0.33333333]\n",
    "#  [ 0.42857143  0.5       ]]\n",
    "print(x / y)\n",
    "print(np.divide(x, y), \"\\n\")\n",
    "# Element Wise square root; produces the array\n",
    "# [[ 1.          1.41421356]\n",
    "#  [ 1.73205081  2.        ]]\n",
    "print(np.sqrt(x))"
   ]
  },
  {
   "cell_type": "markdown",
   "metadata": {
    "id": "sqlAeh4NiBK1"
   },
   "source": [
    "**Note:** * is element wise multiplication, not matrix multiplication. We instead use the **dot function** to compute inner products of vectors, to multiply a vector by a matrix, and to multiply matrices. dot is available both as a function in the numpy module and as an instance method of array objects:"
   ]
  },
  {
   "cell_type": "code",
   "execution_count": 86,
   "metadata": {
    "colab": {
     "base_uri": "https://localhost:8080/"
    },
    "executionInfo": {
     "elapsed": 174,
     "status": "ok",
     "timestamp": 1624282389025,
     "user": {
      "displayName": "JKB Education Group",
      "photoUrl": "https://lh3.googleusercontent.com/a-/AOh14GgVDrkOo8zlABzYRCOJhHRgcLuJkkBySrHWd8n5sQ=s64",
      "userId": "04362346289210947166"
     },
     "user_tz": -330
    },
    "id": "3V_0-Eehlpkh",
    "outputId": "f37d4025-176a-4a34-9bec-edda729bfcea"
   },
   "outputs": [
    {
     "name": "stdout",
     "output_type": "stream",
     "text": [
      "219\n",
      "219 \n",
      "\n",
      "[[1 2]\n",
      " [3 4]] [ 9 10]\n",
      "[29 67]\n",
      "[29 67] \n",
      "\n",
      "[[19 22]\n",
      " [43 50]]\n",
      "[[19 22]\n",
      " [43 50]]\n"
     ]
    }
   ],
   "source": [
    "import numpy as np\n",
    "\n",
    "x = np.array([[1, 2], [3, 4]])\n",
    "y = np.array([[5, 6], [7, 8]])\n",
    "\"\"\"\n",
    "[1, 2]\n",
    "[3, 4] \n",
    "\"\"\"\n",
    "v = np.array([9, 10])\n",
    "w = np.array([11, 12])\n",
    "# print(v.ndim,w.shape)\n",
    "# print(v, w)\n",
    "# print(v.shape)\n",
    "# Inner product of vectors; both produce 219\n",
    "# vector x vector = scaler value\n",
    "print(v.dot(w))\n",
    "print(np.dot(v, w), \"\\n\")  #  dot product :- v*w = v1*w1 + v2*w2\n",
    "# Matrix / vector product; both produce the rank 1 array [29 67]\n",
    "# (2, 3) (3,) => (2,)\n",
    "print(x, v)\n",
    "print(x.dot(v))\n",
    "print(np.dot(x, v), \"\\n\")\n",
    "# Matrix / matrix product; both produce the rank 2 array\n",
    "# [[19 22]\n",
    "#  [43 50]]\n",
    "print(x.dot(y))\n",
    "print(np.dot(x, y))\n",
    "# 1d *1d -> scaler value\n",
    "# 2d * 1d -> 1d\n",
    "# nd * nd -> matrix"
   ]
  },
  {
   "cell_type": "markdown",
   "metadata": {},
   "source": [
    "## **Infinix Operator @(Same as np.dot())** "
   ]
  },
  {
   "cell_type": "code",
   "execution_count": 45,
   "metadata": {},
   "outputs": [
    {
     "name": "stdout",
     "output_type": "stream",
     "text": [
      "[[14 32]\n",
      " [32 77]]\n",
      "\n",
      "[[14 32]\n",
      " [32 77]]\n"
     ]
    }
   ],
   "source": [
    "arr = np.array([[1,2,3],[4,5,6]],dtype=\"int8\")\n",
    "\n",
    "print(np.dot(arr,arr.T),end='\\n\\n')\n",
    "print(arr @ arr.T)"
   ]
  },
  {
   "cell_type": "markdown",
   "metadata": {
    "id": "U0VwvId5l8Sn"
   },
   "source": [
    "Numpy provides many useful functions for performing computations on arrays; one of the most useful is **sum**:"
   ]
  },
  {
   "cell_type": "markdown",
   "metadata": {},
   "source": [
    "The function `qr` computes the **QR decomposition** of a matrix. QR decomposition breaks a matrix into two components: \n",
    "an orthogonal matrix `Q` and an upper triangular matrix `R`, such that the original matrix can be written as:\n",
    "\n",
    "\\[\n",
    "A = Q \\times R\n",
    "\\]\n",
    "\n",
    "---\n",
    "\n",
    "The function `inv` is used to compute the **inverse of a matrix**. It takes a square matrix as input and returns its inverse. \n",
    "If the matrix is singular (i.e., it does not have an inverse), an error is raised."
   ]
  },
  {
   "cell_type": "code",
   "execution_count": 13,
   "metadata": {
    "colab": {
     "base_uri": "https://localhost:8080/"
    },
    "executionInfo": {
     "elapsed": 171,
     "status": "ok",
     "timestamp": 1624282389027,
     "user": {
      "displayName": "JKB Education Group",
      "photoUrl": "https://lh3.googleusercontent.com/a-/AOh14GgVDrkOo8zlABzYRCOJhHRgcLuJkkBySrHWd8n5sQ=s64",
      "userId": "04362346289210947166"
     },
     "user_tz": -330
    },
    "id": "cwV7HYFGl8eQ",
    "outputId": "7bc4907a-1e87-43a7-c26d-5010a72033f5"
   },
   "outputs": [
    {
     "name": "stdout",
     "output_type": "stream",
     "text": [
      "10\n",
      "[4 6]\n",
      "[3 7]\n",
      "\n",
      " [[-2.   1. ]\n",
      " [ 1.5 -0.5]] \n",
      "\n",
      "Q: [[-0.31622777 -0.9486833 ]\n",
      " [-0.9486833   0.31622777]]\n",
      "R: [[-3.16227766 -4.42718872]\n",
      " [ 0.         -0.63245553]]\n"
     ]
    }
   ],
   "source": [
    "from numpy.linalg import inv,qr\n",
    "import numpy as np\n",
    "\n",
    "x = np.array([[1, 2], [3, 4]])\n",
    "\n",
    "print(np.sum(x))  # Compute sum of all elements; prints \"10\"\n",
    "print(np.sum(x, axis=0))  # Compute sum of each column; prints \"[4 6]\"\n",
    "print(np.sum(x, axis=1))  # Compute sum of each row; prints \"[3 7]\"\n",
    "\n",
    "print('\\n',inv(x),'\\n')\n",
    "\n",
    "Q, R = qr(x)  # QR decomposition of matrix A\n",
    "print(\"Q:\", Q)\n",
    "print(\"R:\", R)\n"
   ]
  },
  {
   "cell_type": "markdown",
   "metadata": {
    "id": "aWUlE3i7l8ki"
   },
   "source": [
    "Apart from computing mathematical functions using arrays, we frequently need to reshape or otherwise manipulate data in arrays. The simplest example of this type of operation is transposing a matrix; to transpose a matrix, simply use the **T** attribute of an array object:\n"
   ]
  },
  {
   "cell_type": "code",
   "execution_count": 6,
   "metadata": {
    "colab": {
     "base_uri": "https://localhost:8080/"
    },
    "executionInfo": {
     "elapsed": 167,
     "status": "ok",
     "timestamp": 1624282389028,
     "user": {
      "displayName": "JKB Education Group",
      "photoUrl": "https://lh3.googleusercontent.com/a-/AOh14GgVDrkOo8zlABzYRCOJhHRgcLuJkkBySrHWd8n5sQ=s64",
      "userId": "04362346289210947166"
     },
     "user_tz": -330
    },
    "id": "wOxrJPAcl8q0",
    "outputId": "0835c200-2255-4006-d257-59495cf98ced"
   },
   "outputs": [
    {
     "name": "stdout",
     "output_type": "stream",
     "text": [
      "[[1 2]\n",
      " [3 4]]\n",
      "[[1 3]\n",
      " [2 4]]\n",
      "[1 2 3]\n",
      "[1 2 3]\n"
     ]
    }
   ],
   "source": [
    "import numpy as np\n",
    "\n",
    "x = np.array([[1, 2], [3, 4]])\n",
    "print(x)\n",
    "# Prints \"[[1 2]\n",
    "#          [3 4]]\"\n",
    "print(x.T)\n",
    "# Prints \"[[1 3]\n",
    "#          [2 4]]\"\n",
    "# Note that taking the transpose of a rank 1 array does nothing:\n",
    "v = np.array([1, 2, 3])\n",
    "print(v)  # Prints \"[1 2 3]\"\n",
    "print(v.T)  # Prints \"[1 2 3]\""
   ]
  },
  {
   "cell_type": "code",
   "execution_count": 3,
   "metadata": {},
   "outputs": [
    {
     "data": {
      "text/plain": [
       "array([0, 1, 2, 3, 4, 5, 6, 7, 8, 9])"
      ]
     },
     "execution_count": 3,
     "metadata": {},
     "output_type": "execute_result"
    }
   ],
   "source": [
    "arr = np.arange(10)\n",
    "arr"
   ]
  },
  {
   "cell_type": "code",
   "execution_count": 47,
   "metadata": {},
   "outputs": [
    {
     "data": {
      "text/plain": [
       "array([0.        , 1.        , 1.41421356, 1.73205081, 2.        ,\n",
       "       2.23606798, 2.44948974, 2.64575131, 2.82842712, 3.        ])"
      ]
     },
     "execution_count": 47,
     "metadata": {},
     "output_type": "execute_result"
    }
   ],
   "source": [
    "np.sqrt(arr)"
   ]
  },
  {
   "cell_type": "code",
   "execution_count": 48,
   "metadata": {},
   "outputs": [
    {
     "data": {
      "text/plain": [
       "array([1.00000000e+00, 2.71828183e+00, 7.38905610e+00, 2.00855369e+01,\n",
       "       5.45981500e+01, 1.48413159e+02, 4.03428793e+02, 1.09663316e+03,\n",
       "       2.98095799e+03, 8.10308393e+03])"
      ]
     },
     "execution_count": 48,
     "metadata": {},
     "output_type": "execute_result"
    }
   ],
   "source": [
    "np.exp(arr)"
   ]
  },
  {
   "cell_type": "markdown",
   "metadata": {},
   "source": [
    "## `np.zeros_like()` Function in NumPy\n",
    "\n",
    "The `np.zeros_like(arr)` function in NumPy creates a new array filled with zeros that has the **same shape** and **data type** as the given input array `arr`.\n",
    "\n",
    "### Explanation:\n",
    "\n",
    "- `arr`: The input array whose shape and data type are to be copied.\n",
    "- `np.zeros_like(arr)`: Creates an array of zeros that matches the shape and data type of `arr`.\n",
    "\n",
    "This function is useful when you need to initialize an array for storing results, with the same dimensions as an existing array, but with all elements set to zero.\n"
   ]
  },
  {
   "cell_type": "code",
   "execution_count": 51,
   "metadata": {},
   "outputs": [
    {
     "data": {
      "text/plain": [
       "array([0, 0, 0, 0, 0, 0, 0, 0, 0, 0])"
      ]
     },
     "execution_count": 51,
     "metadata": {},
     "output_type": "execute_result"
    }
   ],
   "source": [
    "out = np.zeros_like(arr)\n",
    "out"
   ]
  },
  {
   "cell_type": "markdown",
   "metadata": {},
   "source": [
    "## np.modf(arr)  , arr - ndarry"
   ]
  },
  {
   "cell_type": "code",
   "execution_count": 52,
   "metadata": {},
   "outputs": [
    {
     "name": "stdout",
     "output_type": "stream",
     "text": [
      "Fractional parts: [ 0.2  0.5 -0.7  0. ]\n",
      "Integer parts: [ 1.  2. -3.  4.]\n"
     ]
    }
   ],
   "source": [
    "arr = np.array([1.2, 2.5, -3.7, 4.0])\n",
    "\n",
    "fractional_parts, integer_parts = np.modf(arr)  \n",
    "\n",
    "print(\"Fractional parts:\", fractional_parts)\n",
    "print(\"Integer parts:\", integer_parts)"
   ]
  },
  {
   "cell_type": "markdown",
   "metadata": {
    "id": "XJwPVleQnY12"
   },
   "source": [
    "### **Array manipulation routines**\n",
    "\n",
    "Data manipulation in Python is nearly synonymous with NumPy array manipulation: even newer tools like **Pandas** are built around the NumPy array. We will present several examples of using NumPy array manipulation to **access data and subarrays, and to split, reshape, and join the arrays**. While the types of operations shown here may seem a bit dry and pedantic, they comprise the building blocks of many other examples.\n",
    "\n",
    "**Example 1:** To copy one array from source to destination you can make use of fucntion \n",
    "\n",
    "**numpy.copyto:**\n",
    "\n",
    "Copies values from one array to another, broadcasting as necessary.\n",
    "\n",
    "Raises a **TypeError** if the casting rule is violated, and if **where** is provided, it selects which elements to copy.\n",
    "\n",
    "**where:--** A boolean array which is broadcasted to match the dimensions of destination, and selects elements to **copy from source to destination** wherever it contains the value **True**."
   ]
  },
  {
   "cell_type": "code",
   "execution_count": 123,
   "metadata": {},
   "outputs": [
    {
     "data": {
      "text/plain": [
       "dtype('int64')"
      ]
     },
     "execution_count": 123,
     "metadata": {},
     "output_type": "execute_result"
    }
   ],
   "source": [
    "np.array([1, 2, 3]).dtype"
   ]
  },
  {
   "cell_type": "code",
   "execution_count": 89,
   "metadata": {
    "colab": {
     "base_uri": "https://localhost:8080/",
     "height": 71
    },
    "executionInfo": {
     "elapsed": 171,
     "status": "ok",
     "timestamp": 1624282389036,
     "user": {
      "displayName": "JKB Education Group",
      "photoUrl": "https://lh3.googleusercontent.com/a-/AOh14GgVDrkOo8zlABzYRCOJhHRgcLuJkkBySrHWd8n5sQ=s64",
      "userId": "04362346289210947166"
     },
     "user_tz": -330
    },
    "id": "lTDvkOlFnY9q",
    "outputId": "98a8758c-0783-4cea-9ba2-de256fbc6779"
   },
   "outputs": [
    {
     "name": "stdout",
     "output_type": "stream",
     "text": [
      "float64\n"
     ]
    },
    {
     "data": {
      "text/plain": [
       "\"\\nmake sure both arrays should have same data types or else it will \\nraise an error\\nand to avoid this kind of error you can set one of the parameter \\nprovided with \\nnumpy.copyto and that is casting = 'unsafe'. By default the parameter \\nvalue is \\n'same_kind' which means of same data type.\\n\""
      ]
     },
     "execution_count": 89,
     "metadata": {},
     "output_type": "execute_result"
    }
   ],
   "source": [
    "import numpy as np\n",
    "\n",
    "my_arr = np.array([1, 3, 4, 7, 8], dtype=np.float32)\n",
    "my_arr_2 = np.array([2, 4, 6, 78, 89], dtype=np.float64)\n",
    "# first parameter should be destinbation and second should be source\n",
    "np.copyto(my_arr_2, my_arr, casting=\"same_kind\")\n",
    "print(my_arr_2.dtype)\n",
    "\"\"\"\n",
    "make sure both arrays should have same data types or else it will \n",
    "raise an error\n",
    "and to avoid this kind of error you can set one of the parameter \n",
    "provided with \n",
    "numpy.copyto and that is casting = 'unsafe'. By default the parameter \n",
    "value is \n",
    "'same_kind' which means of same data type.\n",
    "\"\"\""
   ]
  },
  {
   "cell_type": "markdown",
   "metadata": {
    "id": "maqJvqtUnZDs"
   },
   "source": [
    "### **Changing Array Shape**\n",
    "\n",
    "Changing shape of an array plays an important role when you are dealing with multidimensional data, data from images and many more things. There are various ways to change shape of an array and we will see many examples over that.\n",
    "\n",
    "**1. numpy.reshape: --** Gives a new shape to an array without changing its data.\n",
    "\n",
    "**2. numpy.ravel: --** Return a contiguous flattened array. A 1-D array, containing the elements of the input, is returned. A copy is made only if needed.\n",
    "\n",
    "**3. numpy.flatten: --** Return a copy of the array collapsed into one dimension.\n",
    "\n",
    "**Difference between ravel() and flatten() is -**\n",
    "\n",
    "ravel() - makes a copy of an array into new memory location and returns it i.e orignal array is not changed.\n",
    "\n",
    "flatten() - makes a 1D array in place that is it changes the same array."
   ]
  },
  {
   "cell_type": "code",
   "execution_count": 44,
   "metadata": {
    "colab": {
     "base_uri": "https://localhost:8080/"
    },
    "executionInfo": {
     "elapsed": 168,
     "status": "ok",
     "timestamp": 1624282389038,
     "user": {
      "displayName": "JKB Education Group",
      "photoUrl": "https://lh3.googleusercontent.com/a-/AOh14GgVDrkOo8zlABzYRCOJhHRgcLuJkkBySrHWd8n5sQ=s64",
      "userId": "04362346289210947166"
     },
     "user_tz": -330
    },
    "id": "GjwGZAbbnZKd",
    "outputId": "80ae2eb1-a845-4ef6-8881-d10bba99c493"
   },
   "outputs": [
    {
     "name": "stdout",
     "output_type": "stream",
     "text": [
      "(2, 6)\n"
     ]
    },
    {
     "data": {
      "text/plain": [
       "array([[ 34,   1,   2,   4],\n",
       "       [  5,   6,  56,  45],\n",
       "       [  7,  89, 654,  54]])"
      ]
     },
     "execution_count": 44,
     "metadata": {},
     "output_type": "execute_result"
    }
   ],
   "source": [
    "my_mat = np.array([[34, 1, 2, 4, 5, 6], [56, 45, 7, 89, 654, 54]])\n",
    "print(my_mat.shape)\n",
    "# make sure size must be same after performing reshape\n",
    "np.reshape(my_mat, (3, 4))"
   ]
  },
  {
   "cell_type": "code",
   "execution_count": 45,
   "metadata": {
    "colab": {
     "base_uri": "https://localhost:8080/"
    },
    "executionInfo": {
     "elapsed": 165,
     "status": "ok",
     "timestamp": 1624282389039,
     "user": {
      "displayName": "JKB Education Group",
      "photoUrl": "https://lh3.googleusercontent.com/a-/AOh14GgVDrkOo8zlABzYRCOJhHRgcLuJkkBySrHWd8n5sQ=s64",
      "userId": "04362346289210947166"
     },
     "user_tz": -330
    },
    "id": "EemXHIkGcbE8",
    "outputId": "7321f38e-133a-4b74-c5a5-85283631d748"
   },
   "outputs": [
    {
     "name": "stdout",
     "output_type": "stream",
     "text": [
      "[ 34   1   2   4   5   6  56  45   7  89 654  54]\n"
     ]
    }
   ],
   "source": [
    "my_flatten = np.ravel(my_mat)\n",
    "print(my_flatten)"
   ]
  },
  {
   "cell_type": "code",
   "execution_count": 46,
   "metadata": {
    "colab": {
     "base_uri": "https://localhost:8080/"
    },
    "executionInfo": {
     "elapsed": 162,
     "status": "ok",
     "timestamp": 1624282389040,
     "user": {
      "displayName": "JKB Education Group",
      "photoUrl": "https://lh3.googleusercontent.com/a-/AOh14GgVDrkOo8zlABzYRCOJhHRgcLuJkkBySrHWd8n5sQ=s64",
      "userId": "04362346289210947166"
     },
     "user_tz": -330
    },
    "id": "xG1W-fk4cbJD",
    "outputId": "7f655f6e-6945-4094-dff0-6e27bb02a5e6"
   },
   "outputs": [
    {
     "name": "stdout",
     "output_type": "stream",
     "text": [
      "[ 34   1   2   4   5   6  56  45   7  89 654  54]\n"
     ]
    }
   ],
   "source": [
    "# here look carefully we need to reference ndarray with flatten function not\n",
    "# with numpy\n",
    "t = my_mat.flatten()\n",
    "print(t)"
   ]
  },
  {
   "cell_type": "markdown",
   "metadata": {
    "id": "G6dgLAPnnZRc"
   },
   "source": [
    "### **Transpose-like operations**\n",
    "\n",
    "**1. numpy.moveaxis:--** Move axes of an array to new positions. Other axes remain in their original order.\n",
    "\n",
    "**2. numpy.rollaxis:--** Roll the specified axis backwards, until it lies in a given position. This function continues to be supported for backward compatibility, but you should prefer moveaxis.\n",
    "\n",
    "**3. numpy.swapaxes:--** Interchange two axes of an array.\n",
    "\n",
    "**Example 3:**"
   ]
  },
  {
   "cell_type": "markdown",
   "metadata": {
    "id": "6hQO4YDVhT1f"
   },
   "source": [
    "**numpy.moveaxis(a, source, destination)**"
   ]
  },
  {
   "cell_type": "code",
   "execution_count": 19,
   "metadata": {
    "colab": {
     "base_uri": "https://localhost:8080/"
    },
    "executionInfo": {
     "elapsed": 385,
     "status": "ok",
     "timestamp": 1627461744420,
     "user": {
      "displayName": "Harshal Bhoir",
      "photoUrl": "https://lh3.googleusercontent.com/a-/AOh14Ggq_SPAuZV5Npa4283PISgrbXLDsZv279JbeYpZuQ=s64",
      "userId": "09894001979294404483"
     },
     "user_tz": -330
    },
    "id": "QWJ0_9vXnZX-",
    "outputId": "994a7ce2-1ca7-4853-c598-f65873847b21"
   },
   "outputs": [
    {
     "name": "stdout",
     "output_type": "stream",
     "text": [
      "[[[[[0. 0. 0.]\n",
      "    [0. 0. 0.]\n",
      "    [0. 0. 0.]\n",
      "    ...\n",
      "    [0. 0. 0.]\n",
      "    [0. 0. 0.]\n",
      "    [0. 0. 0.]]\n",
      "\n",
      "   [[0. 0. 0.]\n",
      "    [0. 0. 0.]\n",
      "    [0. 0. 0.]\n",
      "    ...\n",
      "    [0. 0. 0.]\n",
      "    [0. 0. 0.]\n",
      "    [0. 0. 0.]]\n",
      "\n",
      "   [[0. 0. 0.]\n",
      "    [0. 0. 0.]\n",
      "    [0. 0. 0.]\n",
      "    ...\n",
      "    [0. 0. 0.]\n",
      "    [0. 0. 0.]\n",
      "    [0. 0. 0.]]\n",
      "\n",
      "   [[0. 0. 0.]\n",
      "    [0. 0. 0.]\n",
      "    [0. 0. 0.]\n",
      "    ...\n",
      "    [0. 0. 0.]\n",
      "    [0. 0. 0.]\n",
      "    [0. 0. 0.]]\n",
      "\n",
      "   [[0. 0. 0.]\n",
      "    [0. 0. 0.]\n",
      "    [0. 0. 0.]\n",
      "    ...\n",
      "    [0. 0. 0.]\n",
      "    [0. 0. 0.]\n",
      "    [0. 0. 0.]]]\n",
      "\n",
      "\n",
      "  [[[0. 0. 0.]\n",
      "    [0. 0. 0.]\n",
      "    [0. 0. 0.]\n",
      "    ...\n",
      "    [0. 0. 0.]\n",
      "    [0. 0. 0.]\n",
      "    [0. 0. 0.]]\n",
      "\n",
      "   [[0. 0. 0.]\n",
      "    [0. 0. 0.]\n",
      "    [0. 0. 0.]\n",
      "    ...\n",
      "    [0. 0. 0.]\n",
      "    [0. 0. 0.]\n",
      "    [0. 0. 0.]]\n",
      "\n",
      "   [[0. 0. 0.]\n",
      "    [0. 0. 0.]\n",
      "    [0. 0. 0.]\n",
      "    ...\n",
      "    [0. 0. 0.]\n",
      "    [0. 0. 0.]\n",
      "    [0. 0. 0.]]\n",
      "\n",
      "   [[0. 0. 0.]\n",
      "    [0. 0. 0.]\n",
      "    [0. 0. 0.]\n",
      "    ...\n",
      "    [0. 0. 0.]\n",
      "    [0. 0. 0.]\n",
      "    [0. 0. 0.]]\n",
      "\n",
      "   [[0. 0. 0.]\n",
      "    [0. 0. 0.]\n",
      "    [0. 0. 0.]\n",
      "    ...\n",
      "    [0. 0. 0.]\n",
      "    [0. 0. 0.]\n",
      "    [0. 0. 0.]]]\n",
      "\n",
      "\n",
      "  [[[0. 0. 0.]\n",
      "    [0. 0. 0.]\n",
      "    [0. 0. 0.]\n",
      "    ...\n",
      "    [0. 0. 0.]\n",
      "    [0. 0. 0.]\n",
      "    [0. 0. 0.]]\n",
      "\n",
      "   [[0. 0. 0.]\n",
      "    [0. 0. 0.]\n",
      "    [0. 0. 0.]\n",
      "    ...\n",
      "    [0. 0. 0.]\n",
      "    [0. 0. 0.]\n",
      "    [0. 0. 0.]]\n",
      "\n",
      "   [[0. 0. 0.]\n",
      "    [0. 0. 0.]\n",
      "    [0. 0. 0.]\n",
      "    ...\n",
      "    [0. 0. 0.]\n",
      "    [0. 0. 0.]\n",
      "    [0. 0. 0.]]\n",
      "\n",
      "   [[0. 0. 0.]\n",
      "    [0. 0. 0.]\n",
      "    [0. 0. 0.]\n",
      "    ...\n",
      "    [0. 0. 0.]\n",
      "    [0. 0. 0.]\n",
      "    [0. 0. 0.]]\n",
      "\n",
      "   [[0. 0. 0.]\n",
      "    [0. 0. 0.]\n",
      "    [0. 0. 0.]\n",
      "    ...\n",
      "    [0. 0. 0.]\n",
      "    [0. 0. 0.]\n",
      "    [0. 0. 0.]]]\n",
      "\n",
      "\n",
      "  [[[0. 0. 0.]\n",
      "    [0. 0. 0.]\n",
      "    [0. 0. 0.]\n",
      "    ...\n",
      "    [0. 0. 0.]\n",
      "    [0. 0. 0.]\n",
      "    [0. 0. 0.]]\n",
      "\n",
      "   [[0. 0. 0.]\n",
      "    [0. 0. 0.]\n",
      "    [0. 0. 0.]\n",
      "    ...\n",
      "    [0. 0. 0.]\n",
      "    [0. 0. 0.]\n",
      "    [0. 0. 0.]]\n",
      "\n",
      "   [[0. 0. 0.]\n",
      "    [0. 0. 0.]\n",
      "    [0. 0. 0.]\n",
      "    ...\n",
      "    [0. 0. 0.]\n",
      "    [0. 0. 0.]\n",
      "    [0. 0. 0.]]\n",
      "\n",
      "   [[0. 0. 0.]\n",
      "    [0. 0. 0.]\n",
      "    [0. 0. 0.]\n",
      "    ...\n",
      "    [0. 0. 0.]\n",
      "    [0. 0. 0.]\n",
      "    [0. 0. 0.]]\n",
      "\n",
      "   [[0. 0. 0.]\n",
      "    [0. 0. 0.]\n",
      "    [0. 0. 0.]\n",
      "    ...\n",
      "    [0. 0. 0.]\n",
      "    [0. 0. 0.]\n",
      "    [0. 0. 0.]]]]\n",
      "\n",
      "\n",
      "\n",
      " [[[[0. 0. 0.]\n",
      "    [0. 0. 0.]\n",
      "    [0. 0. 0.]\n",
      "    ...\n",
      "    [0. 0. 0.]\n",
      "    [0. 0. 0.]\n",
      "    [0. 0. 0.]]\n",
      "\n",
      "   [[0. 0. 0.]\n",
      "    [0. 0. 0.]\n",
      "    [0. 0. 0.]\n",
      "    ...\n",
      "    [0. 0. 0.]\n",
      "    [0. 0. 0.]\n",
      "    [0. 0. 0.]]\n",
      "\n",
      "   [[0. 0. 0.]\n",
      "    [0. 0. 0.]\n",
      "    [0. 0. 0.]\n",
      "    ...\n",
      "    [0. 0. 0.]\n",
      "    [0. 0. 0.]\n",
      "    [0. 0. 0.]]\n",
      "\n",
      "   [[0. 0. 0.]\n",
      "    [0. 0. 0.]\n",
      "    [0. 0. 0.]\n",
      "    ...\n",
      "    [0. 0. 0.]\n",
      "    [0. 0. 0.]\n",
      "    [0. 0. 0.]]\n",
      "\n",
      "   [[0. 0. 0.]\n",
      "    [0. 0. 0.]\n",
      "    [0. 0. 0.]\n",
      "    ...\n",
      "    [0. 0. 0.]\n",
      "    [0. 0. 0.]\n",
      "    [0. 0. 0.]]]\n",
      "\n",
      "\n",
      "  [[[0. 0. 0.]\n",
      "    [0. 0. 0.]\n",
      "    [0. 0. 0.]\n",
      "    ...\n",
      "    [0. 0. 0.]\n",
      "    [0. 0. 0.]\n",
      "    [0. 0. 0.]]\n",
      "\n",
      "   [[0. 0. 0.]\n",
      "    [0. 0. 0.]\n",
      "    [0. 0. 0.]\n",
      "    ...\n",
      "    [0. 0. 0.]\n",
      "    [0. 0. 0.]\n",
      "    [0. 0. 0.]]\n",
      "\n",
      "   [[0. 0. 0.]\n",
      "    [0. 0. 0.]\n",
      "    [0. 0. 0.]\n",
      "    ...\n",
      "    [0. 0. 0.]\n",
      "    [0. 0. 0.]\n",
      "    [0. 0. 0.]]\n",
      "\n",
      "   [[0. 0. 0.]\n",
      "    [0. 0. 0.]\n",
      "    [0. 0. 0.]\n",
      "    ...\n",
      "    [0. 0. 0.]\n",
      "    [0. 0. 0.]\n",
      "    [0. 0. 0.]]\n",
      "\n",
      "   [[0. 0. 0.]\n",
      "    [0. 0. 0.]\n",
      "    [0. 0. 0.]\n",
      "    ...\n",
      "    [0. 0. 0.]\n",
      "    [0. 0. 0.]\n",
      "    [0. 0. 0.]]]\n",
      "\n",
      "\n",
      "  [[[0. 0. 0.]\n",
      "    [0. 0. 0.]\n",
      "    [0. 0. 0.]\n",
      "    ...\n",
      "    [0. 0. 0.]\n",
      "    [0. 0. 0.]\n",
      "    [0. 0. 0.]]\n",
      "\n",
      "   [[0. 0. 0.]\n",
      "    [0. 0. 0.]\n",
      "    [0. 0. 0.]\n",
      "    ...\n",
      "    [0. 0. 0.]\n",
      "    [0. 0. 0.]\n",
      "    [0. 0. 0.]]\n",
      "\n",
      "   [[0. 0. 0.]\n",
      "    [0. 0. 0.]\n",
      "    [0. 0. 0.]\n",
      "    ...\n",
      "    [0. 0. 0.]\n",
      "    [0. 0. 0.]\n",
      "    [0. 0. 0.]]\n",
      "\n",
      "   [[0. 0. 0.]\n",
      "    [0. 0. 0.]\n",
      "    [0. 0. 0.]\n",
      "    ...\n",
      "    [0. 0. 0.]\n",
      "    [0. 0. 0.]\n",
      "    [0. 0. 0.]]\n",
      "\n",
      "   [[0. 0. 0.]\n",
      "    [0. 0. 0.]\n",
      "    [0. 0. 0.]\n",
      "    ...\n",
      "    [0. 0. 0.]\n",
      "    [0. 0. 0.]\n",
      "    [0. 0. 0.]]]\n",
      "\n",
      "\n",
      "  [[[0. 0. 0.]\n",
      "    [0. 0. 0.]\n",
      "    [0. 0. 0.]\n",
      "    ...\n",
      "    [0. 0. 0.]\n",
      "    [0. 0. 0.]\n",
      "    [0. 0. 0.]]\n",
      "\n",
      "   [[0. 0. 0.]\n",
      "    [0. 0. 0.]\n",
      "    [0. 0. 0.]\n",
      "    ...\n",
      "    [0. 0. 0.]\n",
      "    [0. 0. 0.]\n",
      "    [0. 0. 0.]]\n",
      "\n",
      "   [[0. 0. 0.]\n",
      "    [0. 0. 0.]\n",
      "    [0. 0. 0.]\n",
      "    ...\n",
      "    [0. 0. 0.]\n",
      "    [0. 0. 0.]\n",
      "    [0. 0. 0.]]\n",
      "\n",
      "   [[0. 0. 0.]\n",
      "    [0. 0. 0.]\n",
      "    [0. 0. 0.]\n",
      "    ...\n",
      "    [0. 0. 0.]\n",
      "    [0. 0. 0.]\n",
      "    [0. 0. 0.]]\n",
      "\n",
      "   [[0. 0. 0.]\n",
      "    [0. 0. 0.]\n",
      "    [0. 0. 0.]\n",
      "    ...\n",
      "    [0. 0. 0.]\n",
      "    [0. 0. 0.]\n",
      "    [0. 0. 0.]]]]\n",
      "\n",
      "\n",
      "\n",
      " [[[[0. 0. 0.]\n",
      "    [0. 0. 0.]\n",
      "    [0. 0. 0.]\n",
      "    ...\n",
      "    [0. 0. 0.]\n",
      "    [0. 0. 0.]\n",
      "    [0. 0. 0.]]\n",
      "\n",
      "   [[0. 0. 0.]\n",
      "    [0. 0. 0.]\n",
      "    [0. 0. 0.]\n",
      "    ...\n",
      "    [0. 0. 0.]\n",
      "    [0. 0. 0.]\n",
      "    [0. 0. 0.]]\n",
      "\n",
      "   [[0. 0. 0.]\n",
      "    [0. 0. 0.]\n",
      "    [0. 0. 0.]\n",
      "    ...\n",
      "    [0. 0. 0.]\n",
      "    [0. 0. 0.]\n",
      "    [0. 0. 0.]]\n",
      "\n",
      "   [[0. 0. 0.]\n",
      "    [0. 0. 0.]\n",
      "    [0. 0. 0.]\n",
      "    ...\n",
      "    [0. 0. 0.]\n",
      "    [0. 0. 0.]\n",
      "    [0. 0. 0.]]\n",
      "\n",
      "   [[0. 0. 0.]\n",
      "    [0. 0. 0.]\n",
      "    [0. 0. 0.]\n",
      "    ...\n",
      "    [0. 0. 0.]\n",
      "    [0. 0. 0.]\n",
      "    [0. 0. 0.]]]\n",
      "\n",
      "\n",
      "  [[[0. 0. 0.]\n",
      "    [0. 0. 0.]\n",
      "    [0. 0. 0.]\n",
      "    ...\n",
      "    [0. 0. 0.]\n",
      "    [0. 0. 0.]\n",
      "    [0. 0. 0.]]\n",
      "\n",
      "   [[0. 0. 0.]\n",
      "    [0. 0. 0.]\n",
      "    [0. 0. 0.]\n",
      "    ...\n",
      "    [0. 0. 0.]\n",
      "    [0. 0. 0.]\n",
      "    [0. 0. 0.]]\n",
      "\n",
      "   [[0. 0. 0.]\n",
      "    [0. 0. 0.]\n",
      "    [0. 0. 0.]\n",
      "    ...\n",
      "    [0. 0. 0.]\n",
      "    [0. 0. 0.]\n",
      "    [0. 0. 0.]]\n",
      "\n",
      "   [[0. 0. 0.]\n",
      "    [0. 0. 0.]\n",
      "    [0. 0. 0.]\n",
      "    ...\n",
      "    [0. 0. 0.]\n",
      "    [0. 0. 0.]\n",
      "    [0. 0. 0.]]\n",
      "\n",
      "   [[0. 0. 0.]\n",
      "    [0. 0. 0.]\n",
      "    [0. 0. 0.]\n",
      "    ...\n",
      "    [0. 0. 0.]\n",
      "    [0. 0. 0.]\n",
      "    [0. 0. 0.]]]\n",
      "\n",
      "\n",
      "  [[[0. 0. 0.]\n",
      "    [0. 0. 0.]\n",
      "    [0. 0. 0.]\n",
      "    ...\n",
      "    [0. 0. 0.]\n",
      "    [0. 0. 0.]\n",
      "    [0. 0. 0.]]\n",
      "\n",
      "   [[0. 0. 0.]\n",
      "    [0. 0. 0.]\n",
      "    [0. 0. 0.]\n",
      "    ...\n",
      "    [0. 0. 0.]\n",
      "    [0. 0. 0.]\n",
      "    [0. 0. 0.]]\n",
      "\n",
      "   [[0. 0. 0.]\n",
      "    [0. 0. 0.]\n",
      "    [0. 0. 0.]\n",
      "    ...\n",
      "    [0. 0. 0.]\n",
      "    [0. 0. 0.]\n",
      "    [0. 0. 0.]]\n",
      "\n",
      "   [[0. 0. 0.]\n",
      "    [0. 0. 0.]\n",
      "    [0. 0. 0.]\n",
      "    ...\n",
      "    [0. 0. 0.]\n",
      "    [0. 0. 0.]\n",
      "    [0. 0. 0.]]\n",
      "\n",
      "   [[0. 0. 0.]\n",
      "    [0. 0. 0.]\n",
      "    [0. 0. 0.]\n",
      "    ...\n",
      "    [0. 0. 0.]\n",
      "    [0. 0. 0.]\n",
      "    [0. 0. 0.]]]\n",
      "\n",
      "\n",
      "  [[[0. 0. 0.]\n",
      "    [0. 0. 0.]\n",
      "    [0. 0. 0.]\n",
      "    ...\n",
      "    [0. 0. 0.]\n",
      "    [0. 0. 0.]\n",
      "    [0. 0. 0.]]\n",
      "\n",
      "   [[0. 0. 0.]\n",
      "    [0. 0. 0.]\n",
      "    [0. 0. 0.]\n",
      "    ...\n",
      "    [0. 0. 0.]\n",
      "    [0. 0. 0.]\n",
      "    [0. 0. 0.]]\n",
      "\n",
      "   [[0. 0. 0.]\n",
      "    [0. 0. 0.]\n",
      "    [0. 0. 0.]\n",
      "    ...\n",
      "    [0. 0. 0.]\n",
      "    [0. 0. 0.]\n",
      "    [0. 0. 0.]]\n",
      "\n",
      "   [[0. 0. 0.]\n",
      "    [0. 0. 0.]\n",
      "    [0. 0. 0.]\n",
      "    ...\n",
      "    [0. 0. 0.]\n",
      "    [0. 0. 0.]\n",
      "    [0. 0. 0.]]\n",
      "\n",
      "   [[0. 0. 0.]\n",
      "    [0. 0. 0.]\n",
      "    [0. 0. 0.]\n",
      "    ...\n",
      "    [0. 0. 0.]\n",
      "    [0. 0. 0.]\n",
      "    [0. 0. 0.]]]]]\n"
     ]
    }
   ],
   "source": [
    "x = np.zeros((3, 4, 5, 7, 3))\n",
    "print(x)"
   ]
  },
  {
   "cell_type": "code",
   "execution_count": 21,
   "metadata": {
    "colab": {
     "base_uri": "https://localhost:8080/"
    },
    "executionInfo": {
     "elapsed": 361,
     "status": "ok",
     "timestamp": 1627462858323,
     "user": {
      "displayName": "Harshal Bhoir",
      "photoUrl": "https://lh3.googleusercontent.com/a-/AOh14Ggq_SPAuZV5Npa4283PISgrbXLDsZv279JbeYpZuQ=s64",
      "userId": "09894001979294404483"
     },
     "user_tz": -330
    },
    "id": "tNFEnfO2frgt",
    "outputId": "311e331f-6b8e-4fcb-c8b3-f46ffa780d85"
   },
   "outputs": [
    {
     "name": "stdout",
     "output_type": "stream",
     "text": [
      "(4, 5, 7, 3, 3)\n"
     ]
    }
   ],
   "source": [
    "x1 = np.moveaxis(x, 0, -1)\n",
    "print(x1.shape)     # thus axis at 0 which has dim=3 moves to last index by shifting others "
   ]
  },
  {
   "cell_type": "markdown",
   "metadata": {
    "id": "kuGKAh0shRx4"
   },
   "source": [
    "## take this function again with good example\n",
    "\n",
    "**numpy.rollaxis(a, axis, start=0)**\n",
    "\n",
    "When **start <= axis**, the axis is rolled back until it lies in this position. When **start > axis**, the axis is rolled until it lies before the mentioned position. The default, 0, results in a “complete” roll."
   ]
  },
  {
   "cell_type": "code",
   "execution_count": 2,
   "metadata": {
    "id": "HgKf-3Bkfrnm",
    "scrolled": true
   },
   "outputs": [],
   "source": [
    "import numpy as np\n",
    "\n",
    "a = np.ones((3, 4, 5, 6, 7))\n",
    "# a"
   ]
  },
  {
   "cell_type": "code",
   "execution_count": 99,
   "metadata": {
    "colab": {
     "base_uri": "https://localhost:8080/"
    },
    "executionInfo": {
     "elapsed": 368,
     "status": "ok",
     "timestamp": 1627462153764,
     "user": {
      "displayName": "Harshal Bhoir",
      "photoUrl": "https://lh3.googleusercontent.com/a-/AOh14Ggq_SPAuZV5Npa4283PISgrbXLDsZv279JbeYpZuQ=s64",
      "userId": "09894001979294404483"
     },
     "user_tz": -330
    },
    "id": "OvT-qXAMhC2S",
    "outputId": "a3647f66-4be7-4153-e1b7-f40c4c165b5e"
   },
   "outputs": [
    {
     "data": {
      "text/plain": [
       "(7, 3, 4, 5, 6)"
      ]
     },
     "execution_count": 99,
     "metadata": {},
     "output_type": "execute_result"
    }
   ],
   "source": [
    "# 3, 4, 5, 6, 7\n",
    "np.rollaxis(a, 4, 0).shape"
   ]
  },
  {
   "cell_type": "code",
   "execution_count": 103,
   "metadata": {
    "colab": {
     "base_uri": "https://localhost:8080/"
    },
    "executionInfo": {
     "elapsed": 150,
     "status": "ok",
     "timestamp": 1624282389045,
     "user": {
      "displayName": "JKB Education Group",
      "photoUrl": "https://lh3.googleusercontent.com/a-/AOh14GgVDrkOo8zlABzYRCOJhHRgcLuJkkBySrHWd8n5sQ=s64",
      "userId": "04362346289210947166"
     },
     "user_tz": -330
    },
    "id": "TQpkF9E-hC5v",
    "outputId": "32fc9be1-2fe6-4f47-e0c2-1904a27cacc1"
   },
   "outputs": [
    {
     "data": {
      "text/plain": [
       "(5, 3, 4, 6, 7)"
      ]
     },
     "execution_count": 103,
     "metadata": {},
     "output_type": "execute_result"
    }
   ],
   "source": [
    "np.rollaxis(a, 2).shape"
   ]
  },
  {
   "cell_type": "code",
   "execution_count": 6,
   "metadata": {
    "colab": {
     "base_uri": "https://localhost:8080/"
    },
    "executionInfo": {
     "elapsed": 147,
     "status": "ok",
     "timestamp": 1624282389046,
     "user": {
      "displayName": "JKB Education Group",
      "photoUrl": "https://lh3.googleusercontent.com/a-/AOh14GgVDrkOo8zlABzYRCOJhHRgcLuJkkBySrHWd8n5sQ=s64",
      "userId": "04362346289210947166"
     },
     "user_tz": -330
    },
    "id": "WlJ_dpU8hC-q",
    "outputId": "5e827237-7606-4109-dc48-ecf86f69d141"
   },
   "outputs": [
    {
     "data": {
      "text/plain": [
       "(3, 5, 6, 4, 7)"
      ]
     },
     "execution_count": 6,
     "metadata": {},
     "output_type": "execute_result"
    }
   ],
   "source": [
    "# 3 4 5 6 7\n",
    "np.rollaxis(a, 1, 4).shape"
   ]
  },
  {
   "cell_type": "code",
   "execution_count": 11,
   "metadata": {},
   "outputs": [
    {
     "data": {
      "text/plain": [
       "(3, 4, 6, 7, 5, 3, 4, 5, 5, 2)"
      ]
     },
     "execution_count": 11,
     "metadata": {},
     "output_type": "execute_result"
    }
   ],
   "source": [
    "a = np.ones((3, 4, 5, 6, 7, 5, 3, 4, 5, 2))\n",
    "# a\n",
    "np.rollaxis(a,2,8).shape"
   ]
  },
  {
   "cell_type": "markdown",
   "metadata": {
    "id": "OsAUInljjK55"
   },
   "source": [
    "**numpy.swapaxes(a, axis1, axis2)**"
   ]
  },
  {
   "cell_type": "code",
   "execution_count": 105,
   "metadata": {
    "colab": {
     "base_uri": "https://localhost:8080/"
    },
    "executionInfo": {
     "elapsed": 144,
     "status": "ok",
     "timestamp": 1624282389047,
     "user": {
      "displayName": "JKB Education Group",
      "photoUrl": "https://lh3.googleusercontent.com/a-/AOh14GgVDrkOo8zlABzYRCOJhHRgcLuJkkBySrHWd8n5sQ=s64",
      "userId": "04362346289210947166"
     },
     "user_tz": -330
    },
    "id": "8ji4AqMfhDCR",
    "outputId": "744fc575-40fb-47c5-a447-da2d3e3d0ef4"
   },
   "outputs": [
    {
     "name": "stdout",
     "output_type": "stream",
     "text": [
      "(1, 3)\n",
      "[[1]\n",
      " [2]\n",
      " [3]]\n",
      "(3, 1)\n"
     ]
    }
   ],
   "source": [
    "x = np.array([[1, 2, 3]])\n",
    "print(x.shape)\n",
    "\n",
    "x_swapped = np.swapaxes(x, 0, 1)\n",
    "print(x_swapped)\n",
    "print(x_swapped.shape)"
   ]
  },
  {
   "cell_type": "code",
   "execution_count": 12,
   "metadata": {},
   "outputs": [
    {
     "data": {
      "text/plain": [
       "(4, 3, 3)"
      ]
     },
     "execution_count": 12,
     "metadata": {},
     "output_type": "execute_result"
    }
   ],
   "source": [
    "x = np.zeros((3, 3, 4))\n",
    "x.swapaxes(0, 2).shape"
   ]
  },
  {
   "cell_type": "markdown",
   "metadata": {
    "id": "275EtPOkj4PG"
   },
   "source": [
    "### **Joining arrays**\n",
    "\n",
    "**1. numpy.concatenate:--** Join a sequence of arrays along an existing axis.\n",
    "\n",
    "**2. numpy.stack:--** Join a sequence of arrays along a new axis. The axis parameter specifies the index of the new axis in the dimensions of the result. For example, if axis=0 it will be the first dimension and if axis=-1 it will be the last dimension. hstack, vsrtack, dstack many more are there which works in the same way stack does. For more info, you can search on google.\n",
    "\n",
    "**Example 4:**"
   ]
  },
  {
   "cell_type": "markdown",
   "metadata": {
    "id": "UWyXK-2Zkz-_"
   },
   "source": [
    "**numpy.concatenate((a1, a2, ...), axis=0, out=None)**\n",
    "\n",
    "out: If provided, the destination to place the result"
   ]
  },
  {
   "cell_type": "code",
   "execution_count": 16,
   "metadata": {
    "colab": {
     "base_uri": "https://localhost:8080/"
    },
    "executionInfo": {
     "elapsed": 140,
     "status": "ok",
     "timestamp": 1624282389048,
     "user": {
      "displayName": "JKB Education Group",
      "photoUrl": "https://lh3.googleusercontent.com/a-/AOh14GgVDrkOo8zlABzYRCOJhHRgcLuJkkBySrHWd8n5sQ=s64",
      "userId": "04362346289210947166"
     },
     "user_tz": -330
    },
    "id": "UyJAEJqthDFz",
    "outputId": "73977a1d-7cbf-4188-96f1-f02d311201d9"
   },
   "outputs": [
    {
     "name": "stdout",
     "output_type": "stream",
     "text": [
      "(2, 2) (1, 2)\n"
     ]
    },
    {
     "data": {
      "text/plain": [
       "array([[1, 2],\n",
       "       [3, 4],\n",
       "       [5, 6]])"
      ]
     },
     "execution_count": 16,
     "metadata": {},
     "output_type": "execute_result"
    }
   ],
   "source": [
    "a = np.array([[1, 2], [3, 4]])\n",
    "b = np.array([[5, 6]])\n",
    "\n",
    "print(a.shape, b.shape)\n",
    "np.concatenate((a, b), axis=0)  # all the input array dimensions except for the concatenation axis must match exactly"
   ]
  },
  {
   "cell_type": "code",
   "execution_count": 57,
   "metadata": {},
   "outputs": [
    {
     "data": {
      "text/plain": [
       "(array([[5, 6]]),\n",
       " array([[5],\n",
       "        [6]]))"
      ]
     },
     "execution_count": 57,
     "metadata": {},
     "output_type": "execute_result"
    }
   ],
   "source": [
    "b, b.T"
   ]
  },
  {
   "cell_type": "code",
   "execution_count": 18,
   "metadata": {
    "colab": {
     "base_uri": "https://localhost:8080/"
    },
    "executionInfo": {
     "elapsed": 136,
     "status": "ok",
     "timestamp": 1624282389048,
     "user": {
      "displayName": "JKB Education Group",
      "photoUrl": "https://lh3.googleusercontent.com/a-/AOh14GgVDrkOo8zlABzYRCOJhHRgcLuJkkBySrHWd8n5sQ=s64",
      "userId": "04362346289210947166"
     },
     "user_tz": -330
    },
    "id": "_WB8iPWyk0y2",
    "outputId": "354bf711-1809-4173-c4ca-1ee3056ad0b6"
   },
   "outputs": [
    {
     "data": {
      "text/plain": [
       "array([[1, 2, 5],\n",
       "       [3, 4, 6]])"
      ]
     },
     "execution_count": 18,
     "metadata": {},
     "output_type": "execute_result"
    }
   ],
   "source": [
    "np.concatenate((a, b.T), axis=1)"
   ]
  },
  {
   "cell_type": "markdown",
   "metadata": {
    "id": "_fto4-O_lWMv"
   },
   "source": [
    "**numpy.stack(arrays, axis=0, out=None)**"
   ]
  },
  {
   "cell_type": "code",
   "execution_count": 59,
   "metadata": {
    "scrolled": true
   },
   "outputs": [
    {
     "data": {
      "text/plain": [
       "[0, 1, 4, 9, 16, 25, 36, 49, 64, 81]"
      ]
     },
     "execution_count": 59,
     "metadata": {},
     "output_type": "execute_result"
    }
   ],
   "source": [
    "[x * x for x in range(10)]  # -> [0, 1, 2 3, ..., 9]  - List Comprehension"
   ]
  },
  {
   "cell_type": "code",
   "execution_count": 20,
   "metadata": {
    "id": "8ZDTXZawk02U"
   },
   "outputs": [
    {
     "data": {
      "text/plain": [
       "(10, 3, 4)"
      ]
     },
     "execution_count": 20,
     "metadata": {},
     "output_type": "execute_result"
    }
   ],
   "source": [
    "arrays = np.array([np.random.rand(3, 4) for i in range(10)])\n",
    "arrays.shape"
   ]
  },
  {
   "cell_type": "code",
   "execution_count": 26,
   "metadata": {
    "scrolled": false
   },
   "outputs": [
    {
     "data": {
      "text/plain": [
       "(10, 3, 4, 3)"
      ]
     },
     "execution_count": 26,
     "metadata": {},
     "output_type": "execute_result"
    }
   ],
   "source": [
    "np.stack((arrays, arrays, arrays), axis=3).shape"
   ]
  },
  {
   "cell_type": "code",
   "execution_count": 23,
   "metadata": {
    "colab": {
     "base_uri": "https://localhost:8080/"
    },
    "executionInfo": {
     "elapsed": 128,
     "status": "ok",
     "timestamp": 1624282389049,
     "user": {
      "displayName": "JKB Education Group",
      "photoUrl": "https://lh3.googleusercontent.com/a-/AOh14GgVDrkOo8zlABzYRCOJhHRgcLuJkkBySrHWd8n5sQ=s64",
      "userId": "04362346289210947166"
     },
     "user_tz": -330
    },
    "id": "XPRanVq6k07n",
    "outputId": "23eba08a-a2b8-4b5f-af3f-0e452c26ba29",
    "scrolled": false
   },
   "outputs": [
    {
     "name": "stdout",
     "output_type": "stream",
     "text": [
      "(3, 10, 4)\n",
      "(3, 4, 10)\n"
     ]
    }
   ],
   "source": [
    "out1 = np.stack(arrays, axis=1) \n",
    "print(out1.shape)\n",
    "print(np.stack(arrays, axis=2).shape)"
   ]
  },
  {
   "cell_type": "code",
   "execution_count": 27,
   "metadata": {
    "colab": {
     "base_uri": "https://localhost:8080/"
    },
    "executionInfo": {
     "elapsed": 125,
     "status": "ok",
     "timestamp": 1624282389050,
     "user": {
      "displayName": "JKB Education Group",
      "photoUrl": "https://lh3.googleusercontent.com/a-/AOh14GgVDrkOo8zlABzYRCOJhHRgcLuJkkBySrHWd8n5sQ=s64",
      "userId": "04362346289210947166"
     },
     "user_tz": -330
    },
    "id": "cLacHv2wk0-4",
    "outputId": "ec8634cf-c99c-4c56-90ca-44cb0cdfd2ea"
   },
   "outputs": [
    {
     "name": "stdout",
     "output_type": "stream",
     "text": [
      "\n",
      "(3, 4, 10)\n"
     ]
    }
   ],
   "source": [
    "# print(np.stack(arrays, axis=2))\n",
    "print()\n",
    "print(np.stack(arrays, axis=2).shape)"
   ]
  },
  {
   "cell_type": "markdown",
   "metadata": {},
   "source": [
    "### **Adding and removing elements**\n",
    "\n",
    "**1. numpy.delete:--** Return a new array with sub-arrays along an axis deleted. For a one dimensional array, this returns those entries not returned by arr[obj].\n",
    "\n",
    "**2. numpy.insert:--** Insert values along the given axis before the given indices.\n",
    "\n",
    "**3. numpy.append:--** Append values to the end of an array.\n",
    "\n",
    "**Example 5:**"
   ]
  },
  {
   "cell_type": "markdown",
   "metadata": {
    "id": "V4koJzjfs6n-"
   },
   "source": [
    "**numpy.delete(arr, obj, axis=None)**\n",
    "\n",
    "axis: The axis along which to delete the subarray defined by obj. If axis is None, obj is applied to the flattened array."
   ]
  },
  {
   "cell_type": "code",
   "execution_count": 29,
   "metadata": {
    "colab": {
     "base_uri": "https://localhost:8080/"
    },
    "executionInfo": {
     "elapsed": 802,
     "status": "ok",
     "timestamp": 1636100058537,
     "user": {
      "displayName": "Hiten Bomble",
      "photoUrl": "https://lh3.googleusercontent.com/a-/AOh14GgMztLjU1PBUNJMZXNduprc-vYMXjn1s5pMLWDSDmk=s64",
      "userId": "11795692511919535177"
     },
     "user_tz": -330
    },
    "id": "QpbWcGzzs6z8",
    "outputId": "bfff824f-bae0-4bae-8bae-f3d3ab076f94"
   },
   "outputs": [
    {
     "data": {
      "text/plain": [
       "array([[ 1,  2,  3,  4],\n",
       "       [ 5,  6,  7,  8],\n",
       "       [ 9, 10, 11, 12]])"
      ]
     },
     "execution_count": 29,
     "metadata": {},
     "output_type": "execute_result"
    }
   ],
   "source": [
    "arr = np.array([[1, 2, 3, 4], [5, 6, 7, 8], [9, 10, 11, 12]])\n",
    "arr"
   ]
  },
  {
   "cell_type": "code",
   "execution_count": 31,
   "metadata": {
    "colab": {
     "base_uri": "https://localhost:8080/"
    },
    "executionInfo": {
     "elapsed": 574,
     "status": "ok",
     "timestamp": 1636100113729,
     "user": {
      "displayName": "Hiten Bomble",
      "photoUrl": "https://lh3.googleusercontent.com/a-/AOh14GgMztLjU1PBUNJMZXNduprc-vYMXjn1s5pMLWDSDmk=s64",
      "userId": "11795692511919535177"
     },
     "user_tz": -330
    },
    "id": "IK5LolW6s6_8",
    "outputId": "978bbcf6-51ca-4996-bdeb-234141c06d59"
   },
   "outputs": [
    {
     "data": {
      "text/plain": [
       "array([[ 1,  3,  4],\n",
       "       [ 5,  7,  8],\n",
       "       [ 9, 11, 12]])"
      ]
     },
     "execution_count": 31,
     "metadata": {},
     "output_type": "execute_result"
    }
   ],
   "source": [
    "np.delete(arr, 1, 1) "
   ]
  },
  {
   "cell_type": "code",
   "execution_count": 32,
   "metadata": {},
   "outputs": [
    {
     "data": {
      "text/plain": [
       "array([[ 1,  2,  3,  4],\n",
       "       [ 9, 10, 11, 12]])"
      ]
     },
     "execution_count": 32,
     "metadata": {},
     "output_type": "execute_result"
    }
   ],
   "source": [
    "np.delete(arr, 1, 0) "
   ]
  },
  {
   "cell_type": "markdown",
   "metadata": {
    "id": "KGKiLeyWs7Q8"
   },
   "source": [
    "**numpy.insert(arr, obj, values, axis=None)**\n",
    "\n",
    "axis: Axis along which to insert values. If axis is None then arr is flattened first.\n",
    "\n"
   ]
  },
  {
   "cell_type": "code",
   "execution_count": 35,
   "metadata": {
    "colab": {
     "base_uri": "https://localhost:8080/"
    },
    "executionInfo": {
     "elapsed": 115,
     "status": "ok",
     "timestamp": 1624282389054,
     "user": {
      "displayName": "JKB Education Group",
      "photoUrl": "https://lh3.googleusercontent.com/a-/AOh14GgVDrkOo8zlABzYRCOJhHRgcLuJkkBySrHWd8n5sQ=s64",
      "userId": "04362346289210947166"
     },
     "user_tz": -330
    },
    "id": "7HFtgVmrs768",
    "outputId": "e69d959d-c26f-4f04-8f9a-7504ae77b0de"
   },
   "outputs": [
    {
     "data": {
      "text/plain": [
       "array([[1, 1],\n",
       "       [2, 2],\n",
       "       [3, 3]])"
      ]
     },
     "execution_count": 35,
     "metadata": {},
     "output_type": "execute_result"
    }
   ],
   "source": [
    "a = np.array([[1, 1], [2, 2], [3, 3]])\n",
    "a"
   ]
  },
  {
   "cell_type": "code",
   "execution_count": 78,
   "metadata": {
    "colab": {
     "base_uri": "https://localhost:8080/"
    },
    "executionInfo": {
     "elapsed": 110,
     "status": "ok",
     "timestamp": 1624282389054,
     "user": {
      "displayName": "JKB Education Group",
      "photoUrl": "https://lh3.googleusercontent.com/a-/AOh14GgVDrkOo8zlABzYRCOJhHRgcLuJkkBySrHWd8n5sQ=s64",
      "userId": "04362346289210947166"
     },
     "user_tz": -330
    },
    "id": "j508cqRCs7-i",
    "outputId": "e54f774c-0414-45eb-b3f0-ca75c906e3b7"
   },
   "outputs": [
    {
     "data": {
      "text/plain": [
       "array([1, 5, 1, 2, 2, 3, 3])"
      ]
     },
     "execution_count": 78,
     "metadata": {},
     "output_type": "execute_result"
    }
   ],
   "source": [
    "np.insert(a, 1, 5)"
   ]
  },
  {
   "cell_type": "code",
   "execution_count": 36,
   "metadata": {
    "colab": {
     "base_uri": "https://localhost:8080/"
    },
    "executionInfo": {
     "elapsed": 107,
     "status": "ok",
     "timestamp": 1624282389055,
     "user": {
      "displayName": "JKB Education Group",
      "photoUrl": "https://lh3.googleusercontent.com/a-/AOh14GgVDrkOo8zlABzYRCOJhHRgcLuJkkBySrHWd8n5sQ=s64",
      "userId": "04362346289210947166"
     },
     "user_tz": -330
    },
    "id": "A9IvHSGBuG0H",
    "outputId": "4b2be975-d0ae-43d3-9a26-7f5eb4a2517b"
   },
   "outputs": [
    {
     "data": {
      "text/plain": [
       "array([[1, 1],\n",
       "       [5, 5],\n",
       "       [2, 2],\n",
       "       [3, 3]])"
      ]
     },
     "execution_count": 36,
     "metadata": {},
     "output_type": "execute_result"
    }
   ],
   "source": [
    "np.insert(a, 1, 5, axis=0)"
   ]
  },
  {
   "cell_type": "code",
   "execution_count": 48,
   "metadata": {
    "colab": {
     "base_uri": "https://localhost:8080/"
    },
    "executionInfo": {
     "elapsed": 103,
     "status": "ok",
     "timestamp": 1624282389055,
     "user": {
      "displayName": "JKB Education Group",
      "photoUrl": "https://lh3.googleusercontent.com/a-/AOh14GgVDrkOo8zlABzYRCOJhHRgcLuJkkBySrHWd8n5sQ=s64",
      "userId": "04362346289210947166"
     },
     "user_tz": -330
    },
    "id": "V0QwCg9St2kN",
    "outputId": "0553067e-ce47-4fe8-b146-9956600395e6"
   },
   "outputs": [
    {
     "data": {
      "text/plain": [
       "array([[1, 1, 1],\n",
       "       [2, 2, 2],\n",
       "       [3, 3, 3]])"
      ]
     },
     "execution_count": 48,
     "metadata": {},
     "output_type": "execute_result"
    }
   ],
   "source": [
    "np.insert(a, [1], [[1], [2], [3]], axis=1) "
   ]
  },
  {
   "cell_type": "code",
   "execution_count": 49,
   "metadata": {},
   "outputs": [
    {
     "data": {
      "text/plain": [
       "array([[1, 1],\n",
       "       [1, 1],\n",
       "       [2, 2],\n",
       "       [3, 3],\n",
       "       [2, 2],\n",
       "       [3, 3]])"
      ]
     },
     "execution_count": 49,
     "metadata": {},
     "output_type": "execute_result"
    }
   ],
   "source": [
    "np.insert(a, [1], [[1], [2], [3]], axis=0)  # this time it has entered at index 1 in the orignal ndarray\n",
    "# i.e - array([[1, 1],\n",
    "#               inserted here\n",
    "#              [2, 2],\n",
    "#              [3, 3]]) \n"
   ]
  },
  {
   "cell_type": "code",
   "execution_count": 46,
   "metadata": {},
   "outputs": [
    {
     "data": {
      "text/plain": [
       "array([[1, 2, 3, 1, 1],\n",
       "       [1, 2, 3, 2, 2],\n",
       "       [1, 2, 3, 3, 3]])"
      ]
     },
     "execution_count": 46,
     "metadata": {},
     "output_type": "execute_result"
    }
   ],
   "source": [
    "np.insert(a, 0, [[1], [2], [3]], axis=1) \n",
    "# this means that at index 0 and axis 1 columwise the array [1,2,3] is added\n",
    "# i.e - array([[inserted here,1, 1],\n",
    "#              [inserted here,2, 2],\n",
    "#              [inserted here,3, 3]]) "
   ]
  },
  {
   "cell_type": "markdown",
   "metadata": {
    "id": "PyeU-PBos8HI"
   },
   "source": [
    "**numpy.append(arr, values, axis=None)**"
   ]
  },
  {
   "cell_type": "code",
   "execution_count": 51,
   "metadata": {
    "colab": {
     "base_uri": "https://localhost:8080/"
    },
    "executionInfo": {
     "elapsed": 561,
     "status": "ok",
     "timestamp": 1636100668243,
     "user": {
      "displayName": "Hiten Bomble",
      "photoUrl": "https://lh3.googleusercontent.com/a-/AOh14GgMztLjU1PBUNJMZXNduprc-vYMXjn1s5pMLWDSDmk=s64",
      "userId": "11795692511919535177"
     },
     "user_tz": -330
    },
    "id": "4REizizus8kG",
    "outputId": "320b9288-6d7e-4b37-a680-3da78623eea6"
   },
   "outputs": [
    {
     "data": {
      "text/plain": [
       "array([[1, 2, 3],\n",
       "       [4, 5, 6],\n",
       "       [7, 8, 9]])"
      ]
     },
     "execution_count": 51,
     "metadata": {},
     "output_type": "execute_result"
    }
   ],
   "source": [
    "x = [[1, 2, 3], [4, 5, 6]]\n",
    "np.append(x, [[7, 8, 9]], axis=0)           # here  [[7, 8, 9]] is a 2D array"
   ]
  },
  {
   "cell_type": "code",
   "execution_count": 56,
   "metadata": {
    "id": "055PYvM8s8nj"
   },
   "outputs": [
    {
     "ename": "ValueError",
     "evalue": "all the input arrays must have same number of dimensions, but the array at index 0 has 2 dimension(s) and the array at index 1 has 1 dimension(s)",
     "output_type": "error",
     "traceback": [
      "\u001b[1;31m---------------------------------------------------------------------------\u001b[0m",
      "\u001b[1;31mValueError\u001b[0m                                Traceback (most recent call last)",
      "Cell \u001b[1;32mIn[56], line 1\u001b[0m\n\u001b[1;32m----> 1\u001b[0m \u001b[43mnp\u001b[49m\u001b[38;5;241;43m.\u001b[39;49m\u001b[43mappend\u001b[49m\u001b[43m(\u001b[49m\u001b[43m[\u001b[49m\u001b[43m[\u001b[49m\u001b[38;5;241;43m1\u001b[39;49m\u001b[43m,\u001b[49m\u001b[43m \u001b[49m\u001b[38;5;241;43m2\u001b[39;49m\u001b[43m,\u001b[49m\u001b[43m \u001b[49m\u001b[38;5;241;43m3\u001b[39;49m\u001b[43m]\u001b[49m\u001b[43m,\u001b[49m\u001b[43m \u001b[49m\u001b[43m[\u001b[49m\u001b[38;5;241;43m4\u001b[39;49m\u001b[43m,\u001b[49m\u001b[43m \u001b[49m\u001b[38;5;241;43m5\u001b[39;49m\u001b[43m,\u001b[49m\u001b[43m \u001b[49m\u001b[38;5;241;43m6\u001b[39;49m\u001b[43m]\u001b[49m\u001b[43m]\u001b[49m\u001b[43m,\u001b[49m\u001b[43m \u001b[49m\u001b[43m[\u001b[49m\u001b[38;5;241;43m7\u001b[39;49m\u001b[43m,\u001b[49m\u001b[43m \u001b[49m\u001b[38;5;241;43m8\u001b[39;49m\u001b[43m,\u001b[49m\u001b[43m \u001b[49m\u001b[38;5;241;43m9\u001b[39;49m\u001b[43m]\u001b[49m\u001b[43m,\u001b[49m\u001b[43m \u001b[49m\u001b[43maxis\u001b[49m\u001b[38;5;241;43m=\u001b[39;49m\u001b[38;5;241;43m0\u001b[39;49m\u001b[43m)\u001b[49m \n",
      "File \u001b[1;32m~\\AppData\\Roaming\\Python\\Python312\\site-packages\\numpy\\lib\\_function_base_impl.py:5685\u001b[0m, in \u001b[0;36mappend\u001b[1;34m(arr, values, axis)\u001b[0m\n\u001b[0;32m   5683\u001b[0m     values \u001b[38;5;241m=\u001b[39m ravel(values)\n\u001b[0;32m   5684\u001b[0m     axis \u001b[38;5;241m=\u001b[39m arr\u001b[38;5;241m.\u001b[39mndim\u001b[38;5;241m-\u001b[39m\u001b[38;5;241m1\u001b[39m\n\u001b[1;32m-> 5685\u001b[0m \u001b[38;5;28;01mreturn\u001b[39;00m \u001b[43mconcatenate\u001b[49m\u001b[43m(\u001b[49m\u001b[43m(\u001b[49m\u001b[43marr\u001b[49m\u001b[43m,\u001b[49m\u001b[43m \u001b[49m\u001b[43mvalues\u001b[49m\u001b[43m)\u001b[49m\u001b[43m,\u001b[49m\u001b[43m \u001b[49m\u001b[43maxis\u001b[49m\u001b[38;5;241;43m=\u001b[39;49m\u001b[43maxis\u001b[49m\u001b[43m)\u001b[49m\n",
      "\u001b[1;31mValueError\u001b[0m: all the input arrays must have same number of dimensions, but the array at index 0 has 2 dimension(s) and the array at index 1 has 1 dimension(s)"
     ]
    }
   ],
   "source": [
    "np.append([[1, 2, 3], [4, 5, 6]], [7, 8, 9], axis=0)        # here  [[7, 8, 9]] is not a 2D array"
   ]
  },
  {
   "cell_type": "markdown",
   "metadata": {
    "id": "TV9IIGBez945"
   },
   "source": [
    "### **NumPy Linear Algebra**\n",
    "\n",
    "The Linear Algebra module of NumPy offers various methods to apply linear algebra on any numpy array.\n",
    "\n",
    "**One can find:**\n",
    "\n",
    "- rank, determinant, trace, etc. of an array.\n",
    "- eigen values of matrices\n",
    "- matrix and vector products (dot, inner, outer,etc. product), matrix exponentiation\n",
    "- solve linear or tensor equations and much more!\n",
    "\n",
    "#### **Matrix and vector products**\n",
    "\n",
    "**1. numpy.dot:--** Dot product of two arrays.\n",
    "\n",
    "**2. numpy.linalg.multi_dot:--** Compute the dot product of two or more arrays in a single function call, while automatically selecting the fastest evaluation order.\n",
    "\n",
    "**3. numpy.vdot:--** Return the dot product of two vectors.\n",
    "\n",
    "**4. numpy.inner:--** Inner product of two arrays. Ordinary inner product of vectors for 1-D arrays (without complex conjugation), in higher dimensions a sum product over the last axes.\n",
    "\n",
    "**5. numpy.outer:--** Compute the outer product of two vectors.\n",
    "\n",
    "Given two vectors, **a = [a0, a1, ..., aM]** and **b = [b0, b1, ..., bN]**, the outer product is:\n",
    "\n",
    "```\n",
    "[[a0*b0  a0*b1 ... a0*bN ]\n",
    " [a1*b0    .\n",
    " [ ...          .\n",
    " [aM*b0            aM*bN ]]\n",
    "```\n",
    "\n",
    "**6. numpy.matmul:--** Matrix product of two arrays.\n",
    "\n",
    "**Example 1:**\n"
   ]
  },
  {
   "cell_type": "markdown",
   "metadata": {
    "id": "FiJhGmMEkpOt"
   },
   "source": [
    "**numpy.dot(a, b, out=None)**\n",
    "\n",
    "Raises\n",
    "**ValueError**\n",
    "If the last dimension of a is not the same size as the second-to-last dimension of b."
   ]
  },
  {
   "cell_type": "code",
   "execution_count": 51,
   "metadata": {
    "colab": {
     "base_uri": "https://localhost:8080/"
    },
    "executionInfo": {
     "elapsed": 690,
     "status": "ok",
     "timestamp": 1624282418546,
     "user": {
      "displayName": "JKB Education Group",
      "photoUrl": "https://lh3.googleusercontent.com/a-/AOh14GgVDrkOo8zlABzYRCOJhHRgcLuJkkBySrHWd8n5sQ=s64",
      "userId": "04362346289210947166"
     },
     "user_tz": -330
    },
    "id": "ypAj7Y2UlFEd",
    "outputId": "b3a98c12-087b-4e04-cd2f-7c607b8f63ea"
   },
   "outputs": [
    {
     "name": "stdout",
     "output_type": "stream",
     "text": [
      "12\n",
      "(-13+0j)\n"
     ]
    }
   ],
   "source": [
    "print(np.dot(3, 4))\n",
    "print(np.dot([2j, 3j], [2j, 3j]))"
   ]
  },
  {
   "cell_type": "code",
   "execution_count": null,
   "metadata": {
    "colab": {
     "base_uri": "https://localhost:8080/"
    },
    "executionInfo": {
     "elapsed": 12,
     "status": "ok",
     "timestamp": 1624282418547,
     "user": {
      "displayName": "JKB Education Group",
      "photoUrl": "https://lh3.googleusercontent.com/a-/AOh14GgVDrkOo8zlABzYRCOJhHRgcLuJkkBySrHWd8n5sQ=s64",
      "userId": "04362346289210947166"
     },
     "user_tz": -330
    },
    "id": "bCmK1ak1lFKH",
    "outputId": "d05aa107-9e9d-4fd8-8478-fb84ab1bba88"
   },
   "outputs": [
    {
     "data": {
      "text/plain": [
       "array([[4, 1],\n",
       "       [2, 2]])"
      ]
     },
     "execution_count": 55,
     "metadata": {
      "tags": []
     },
     "output_type": "execute_result"
    }
   ],
   "source": [
    "a = [[1, 0], [0, 1]]\n",
    "b = [[4, 1], [2, 2]]\n",
    "np.dot(a, b)            # matrix multiplication"
   ]
  },
  {
   "cell_type": "code",
   "execution_count": null,
   "metadata": {
    "colab": {
     "base_uri": "https://localhost:8080/"
    },
    "executionInfo": {
     "elapsed": 527,
     "status": "ok",
     "timestamp": 1624282420776,
     "user": {
      "displayName": "JKB Education Group",
      "photoUrl": "https://lh3.googleusercontent.com/a-/AOh14GgVDrkOo8zlABzYRCOJhHRgcLuJkkBySrHWd8n5sQ=s64",
      "userId": "04362346289210947166"
     },
     "user_tz": -330
    },
    "id": "pHd7hMgwlFO0",
    "outputId": "0f8f6b4d-b652-4989-828c-67415c91caa4"
   },
   "outputs": [
    {
     "data": {
      "text/plain": [
       "499128"
      ]
     },
     "execution_count": 56,
     "metadata": {
      "tags": []
     },
     "output_type": "execute_result"
    }
   ],
   "source": [
    "a = np.arange(3 * 4 * 5 * 6).reshape((3, 4, 5, 6))\n",
    "b = np.arange(3 * 4 * 5 * 6)[::-1].reshape((5, 4, 6, 3))\n",
    "np.dot(a, b)[2, 3, 2, 1, 2, 2]"
   ]
  },
  {
   "cell_type": "markdown",
   "metadata": {
    "id": "MzxV1HLllFXe"
   },
   "source": [
    "**numpy.linalg.multi_dot(arrays, \\*, out=None)**"
   ]
  },
  {
   "cell_type": "code",
   "execution_count": null,
   "metadata": {
    "colab": {
     "base_uri": "https://localhost:8080/"
    },
    "executionInfo": {
     "elapsed": 5,
     "status": "ok",
     "timestamp": 1624282421901,
     "user": {
      "displayName": "JKB Education Group",
      "photoUrl": "https://lh3.googleusercontent.com/a-/AOh14GgVDrkOo8zlABzYRCOJhHRgcLuJkkBySrHWd8n5sQ=s64",
      "userId": "04362346289210947166"
     },
     "user_tz": -330
    },
    "id": "iXnjgcAKlFeb",
    "outputId": "2c063121-1a5f-42d5-da2f-236144b7ff04"
   },
   "outputs": [
    {
     "name": "stdout",
     "output_type": "stream",
     "text": [
      "[[12.85374252 12.20401372]\n",
      " [11.64124774 10.59212751]\n",
      " [13.302321   12.20176738]\n",
      " [19.28583961 18.15756699]\n",
      " [12.43842326 11.72216202]\n",
      " [11.14629548 10.53758116]\n",
      " [15.5870099  14.31361718]\n",
      " [15.80357178 14.9643075 ]\n",
      " [10.2580188   9.74914945]\n",
      " [14.0233273  13.13021458]\n",
      " [21.87406391 20.44635352]\n",
      " [13.48428733 12.79386603]\n",
      " [13.38791439 12.78480835]\n",
      " [12.11807492 11.1173885 ]\n",
      " [12.79009684 11.71355608]\n",
      " [13.9657519  12.92346626]\n",
      " [12.36971695 11.56585   ]\n",
      " [11.79005939 10.69542239]\n",
      " [17.15709732 15.76261881]\n",
      " [11.66723865 10.84897081]]\n"
     ]
    }
   ],
   "source": [
    "from numpy.linalg import multi_dot\n",
    "\n",
    "# Prepare some data\n",
    "A = np.random.random((20, 10))\n",
    "B = np.random.random((10, 7))\n",
    "C = np.random.random((7, 5))\n",
    "D = np.random.random((5, 2))\n",
    "\n",
    "# the actual dot multiplication\n",
    "result = multi_dot([A, B, C, D])\n",
    "print(result)"
   ]
  },
  {
   "cell_type": "markdown",
   "metadata": {
    "id": "HB9G2A0RlFvp"
   },
   "source": [
    "**numpy.vdot(a, b)**"
   ]
  },
  {
   "cell_type": "markdown",
   "metadata": {},
   "source": [
    "# Hermitian Dot Product with `np.vdot()`\n",
    "\n",
    "The Hermitian dot product, computed using `np.vdot(a, b)`, involves conjugating the first vector before performing the dot product with the second vector.\n",
    "\n",
    "## Solution - \n",
    "\n",
    "a = [1 + 2j, 3 + 4j] \n",
    "b = [5 + 6j, 7 + 8j]\n",
    "\n",
    "conjugate  a = [1 - 2j, 3 - 4j] \n",
    "\n",
    "conjugate  b = [5 - 6j, 7 - 8j]\n",
    "\n",
    "\n",
    "(1−2j)(5+6j)+(3−4j)(7+8j) \n",
    "\n",
    "1st = (1−2j)(5+6j)=5+6j−10j+12=17−4j\n",
    "\n",
    "2nd = (3−4j)(7+8j)=21+24j−28j+32=53−4j\n",
    "\n",
    "= (−7−4j)+(−11−4j)= 70−8j"
   ]
  },
  {
   "cell_type": "code",
   "execution_count": 58,
   "metadata": {
    "colab": {
     "base_uri": "https://localhost:8080/"
    },
    "executionInfo": {
     "elapsed": 5,
     "status": "ok",
     "timestamp": 1624282424570,
     "user": {
      "displayName": "JKB Education Group",
      "photoUrl": "https://lh3.googleusercontent.com/a-/AOh14GgVDrkOo8zlABzYRCOJhHRgcLuJkkBySrHWd8n5sQ=s64",
      "userId": "04362346289210947166"
     },
     "user_tz": -330
    },
    "id": "NCUJ0KsQlF2m",
    "outputId": "89e4fed0-a889-4be7-d8c2-16f42a23222e"
   },
   "outputs": [
    {
     "data": {
      "text/plain": [
       "np.complex128(70-8j)"
      ]
     },
     "execution_count": 58,
     "metadata": {},
     "output_type": "execute_result"
    }
   ],
   "source": [
    "a = np.array([1 + 2j, 3 + 4j])\n",
    "b = np.array([5 + 6j, 7 + 8j])\n",
    "np.vdot(a, b)"
   ]
  },
  {
   "cell_type": "code",
   "execution_count": null,
   "metadata": {
    "colab": {
     "base_uri": "https://localhost:8080/"
    },
    "executionInfo": {
     "elapsed": 4,
     "status": "ok",
     "timestamp": 1624282425314,
     "user": {
      "displayName": "JKB Education Group",
      "photoUrl": "https://lh3.googleusercontent.com/a-/AOh14GgVDrkOo8zlABzYRCOJhHRgcLuJkkBySrHWd8n5sQ=s64",
      "userId": "04362346289210947166"
     },
     "user_tz": -330
    },
    "id": "9pvMiQpxlF6p",
    "outputId": "bef3801e-a98c-4118-9b41-7e0fb39c5719"
   },
   "outputs": [
    {
     "data": {
      "text/plain": [
       "30"
      ]
     },
     "execution_count": 59,
     "metadata": {
      "tags": []
     },
     "output_type": "execute_result"
    }
   ],
   "source": [
    "a = np.array([[1, 4], [5, 6]])\n",
    "b = np.array([[4, 1], [2, 2]])\n",
    "np.vdot(a, b)"
   ]
  },
  {
   "cell_type": "markdown",
   "metadata": {
    "id": "uBPUuzn4lGFs"
   },
   "source": [
    "**numpy.inner(a, b)**\n",
    "\n",
    "out.shape = a.shape[:-1] + b.shape[:-1]"
   ]
  },
  {
   "cell_type": "code",
   "execution_count": 53,
   "metadata": {
    "colab": {
     "base_uri": "https://localhost:8080/"
    },
    "executionInfo": {
     "elapsed": 706,
     "status": "ok",
     "timestamp": 1624282427474,
     "user": {
      "displayName": "JKB Education Group",
      "photoUrl": "https://lh3.googleusercontent.com/a-/AOh14GgVDrkOo8zlABzYRCOJhHRgcLuJkkBySrHWd8n5sQ=s64",
      "userId": "04362346289210947166"
     },
     "user_tz": -330
    },
    "id": "Ml1CminllGOR",
    "outputId": "d24941b9-eaac-4a00-d924-1e9b44154ce3"
   },
   "outputs": [
    {
     "name": "stdout",
     "output_type": "stream",
     "text": [
      "(3,)\n",
      "(3,)\n",
      "2 ()\n"
     ]
    }
   ],
   "source": [
    "a = np.array([1, 2, 3])\n",
    "print(a.shape)\n",
    "b = np.array([0, 1, 0])\n",
    "print(b.shape)\n",
    "res = np.inner(a, b)\n",
    "print(res, res.shape)"
   ]
  },
  {
   "cell_type": "code",
   "execution_count": null,
   "metadata": {
    "colab": {
     "base_uri": "https://localhost:8080/"
    },
    "executionInfo": {
     "elapsed": 7,
     "status": "ok",
     "timestamp": 1624282427475,
     "user": {
      "displayName": "JKB Education Group",
      "photoUrl": "https://lh3.googleusercontent.com/a-/AOh14GgVDrkOo8zlABzYRCOJhHRgcLuJkkBySrHWd8n5sQ=s64",
      "userId": "04362346289210947166"
     },
     "user_tz": -330
    },
    "id": "KACySZiIlGR7",
    "outputId": "31149038-79ab-4001-cdcb-cbe9fa717944"
   },
   "outputs": [
    {
     "name": "stdout",
     "output_type": "stream",
     "text": [
      "[[[ 0  1]\n",
      "  [ 2  3]\n",
      "  [ 4  5]]\n",
      "\n",
      " [[ 6  7]\n",
      "  [ 8  9]\n",
      "  [10 11]]]\n",
      "\n",
      "[0 1]\n",
      "\n",
      "[[ 1  3  5]\n",
      " [ 7  9 11]]\n"
     ]
    }
   ],
   "source": [
    "a = np.arange(12).reshape((2, 3, 2))\n",
    "print(a)\n",
    "print()\n",
    "\n",
    "b = np.arange(2)\n",
    "print(b)\n",
    "print()\n",
    "\n",
    "print(np.inner(a, b))"
   ]
  },
  {
   "cell_type": "markdown",
   "metadata": {
    "id": "MkIrZn4HlGYk"
   },
   "source": [
    "**numpy.outer(a, b)**"
   ]
  },
  {
   "cell_type": "code",
   "execution_count": null,
   "metadata": {
    "colab": {
     "base_uri": "https://localhost:8080/"
    },
    "executionInfo": {
     "elapsed": 3,
     "status": "ok",
     "timestamp": 1624282428090,
     "user": {
      "displayName": "JKB Education Group",
      "photoUrl": "https://lh3.googleusercontent.com/a-/AOh14GgVDrkOo8zlABzYRCOJhHRgcLuJkkBySrHWd8n5sQ=s64",
      "userId": "04362346289210947166"
     },
     "user_tz": -330
    },
    "id": "68VSV3CClGef",
    "outputId": "66b96e8f-2b4a-4eb5-9840-553636b96a4f"
   },
   "outputs": [
    {
     "data": {
      "text/plain": [
       "array([[-2., -1.,  0.,  1.,  2.],\n",
       "       [-2., -1.,  0.,  1.,  2.],\n",
       "       [-2., -1.,  0.,  1.,  2.],\n",
       "       [-2., -1.,  0.,  1.,  2.],\n",
       "       [-2., -1.,  0.,  1.,  2.]])"
      ]
     },
     "execution_count": 62,
     "metadata": {
      "tags": []
     },
     "output_type": "execute_result"
    }
   ],
   "source": [
    "np.outer(np.ones((5,)), np.linspace(-2, 2, 5))"
   ]
  },
  {
   "cell_type": "markdown",
   "metadata": {
    "id": "KyCMfGw9lGqV"
   },
   "source": [
    "**numpy.matmul**\n",
    "\n",
    "**ValueError**\n",
    "If the last dimension of a is not the same size as the second-to-last dimension of b."
   ]
  },
  {
   "cell_type": "code",
   "execution_count": null,
   "metadata": {
    "colab": {
     "base_uri": "https://localhost:8080/"
    },
    "executionInfo": {
     "elapsed": 3,
     "status": "ok",
     "timestamp": 1624282430695,
     "user": {
      "displayName": "JKB Education Group",
      "photoUrl": "https://lh3.googleusercontent.com/a-/AOh14GgVDrkOo8zlABzYRCOJhHRgcLuJkkBySrHWd8n5sQ=s64",
      "userId": "04362346289210947166"
     },
     "user_tz": -330
    },
    "id": "EC-dS2V6lGiR",
    "outputId": "c9e71163-f5ec-43ed-8902-d2abebc27f22"
   },
   "outputs": [
    {
     "data": {
      "text/plain": [
       "(9, 5, 7, 9, 5, 3)"
      ]
     },
     "execution_count": 63,
     "metadata": {
      "tags": []
     },
     "output_type": "execute_result"
    }
   ],
   "source": [
    "a = np.ones([9, 5, 7, 4])\n",
    "c = np.ones([9, 5, 4, 3])\n",
    "np.dot(a, c).shape"
   ]
  },
  {
   "cell_type": "code",
   "execution_count": null,
   "metadata": {
    "colab": {
     "base_uri": "https://localhost:8080/"
    },
    "executionInfo": {
     "elapsed": 5,
     "status": "ok",
     "timestamp": 1624282431184,
     "user": {
      "displayName": "JKB Education Group",
      "photoUrl": "https://lh3.googleusercontent.com/a-/AOh14GgVDrkOo8zlABzYRCOJhHRgcLuJkkBySrHWd8n5sQ=s64",
      "userId": "04362346289210947166"
     },
     "user_tz": -330
    },
    "id": "xFLV14hrlGMM",
    "outputId": "4c5b8cce-f40f-456d-9aad-59ac528fad83"
   },
   "outputs": [
    {
     "data": {
      "text/plain": [
       "array([[4, 1],\n",
       "       [2, 2]])"
      ]
     },
     "execution_count": 64,
     "metadata": {
      "tags": []
     },
     "output_type": "execute_result"
    }
   ],
   "source": [
    "a = np.array([[1, 0], [0, 1]])\n",
    "b = np.array([[4, 1], [2, 2]])\n",
    "np.matmul(a, b)"
   ]
  },
  {
   "cell_type": "markdown",
   "metadata": {
    "id": "yQGD3Yu1qihK"
   },
   "source": [
    "### **Matrix eigenvalues**\n",
    "\n",
    "**1. numpy.linalg.eig:--** Compute the eigenvalues and right eigenvectors of a square array.\n",
    "\n",
    "**2. numpy.linalg.eigh:--** Return the eigenvalues and eigenvectors of a complex Hermitian (conjugate symmetric) or a real symmetric matrix. Returns two objects, a 1-D array containing the eigenvalues of a, and a 2-D square array or matrix (depending on the input type) of the corresponding eigenvectors (in columns).\n",
    "\n",
    "**3. numpy.linalg.eigvals:--** \tCompute the eigenvalues of a general matrix.\n",
    "\n",
    "**4. numpy.linalg.eigvalsh:--** Compute the eigenvalues of a complex Hermitian or real symmetric matrix.\n",
    "\n",
    "**Example 2:**"
   ]
  },
  {
   "cell_type": "markdown",
   "metadata": {
    "id": "DHn-nh7OuBM8"
   },
   "source": [
    "**numpy.linalg.eig(a)**"
   ]
  },
  {
   "cell_type": "code",
   "execution_count": null,
   "metadata": {
    "colab": {
     "base_uri": "https://localhost:8080/"
    },
    "executionInfo": {
     "elapsed": 10,
     "status": "ok",
     "timestamp": 1624282432723,
     "user": {
      "displayName": "JKB Education Group",
      "photoUrl": "https://lh3.googleusercontent.com/a-/AOh14GgVDrkOo8zlABzYRCOJhHRgcLuJkkBySrHWd8n5sQ=s64",
      "userId": "04362346289210947166"
     },
     "user_tz": -330
    },
    "id": "nRe6sr6i0WRh",
    "outputId": "a064e1ff-2319-4dd5-f617-a5fbfa4efe35"
   },
   "outputs": [
    {
     "name": "stdout",
     "output_type": "stream",
     "text": [
      "[[ 0.63873273  2.08129531]\n",
      " [-0.13162044  0.91463705]] \n",
      "\n",
      "[0.77668489+0.50488634j 0.77668489-0.50488634j]\n",
      "\n",
      "[[0.96980499+0.j         0.96980499-0.j        ]\n",
      " [0.06428049+0.23525796j 0.06428049-0.23525796j]]\n"
     ]
    }
   ],
   "source": [
    "from numpy import linalg as la\n",
    "\n",
    "a = np.random.randn(2, 2)\n",
    "print(a, \"\\n\")\n",
    "eigen_vals, eigen_vects = la.eig(a)\n",
    "\n",
    "print(eigen_vals)\n",
    "print()\n",
    "print(eigen_vects)"
   ]
  },
  {
   "cell_type": "markdown",
   "metadata": {
    "id": "_GwTeSVcuCFn"
   },
   "source": [
    "**numpy.linalg.eigh(a)**"
   ]
  },
  {
   "cell_type": "code",
   "execution_count": null,
   "metadata": {
    "colab": {
     "base_uri": "https://localhost:8080/"
    },
    "executionInfo": {
     "elapsed": 4,
     "status": "ok",
     "timestamp": 1624282435301,
     "user": {
      "displayName": "JKB Education Group",
      "photoUrl": "https://lh3.googleusercontent.com/a-/AOh14GgVDrkOo8zlABzYRCOJhHRgcLuJkkBySrHWd8n5sQ=s64",
      "userId": "04362346289210947166"
     },
     "user_tz": -330
    },
    "id": "fHtsOk77uCOC",
    "outputId": "0ebd7a69-f35d-4f1b-bdd0-4bfaf2502019"
   },
   "outputs": [
    {
     "name": "stdout",
     "output_type": "stream",
     "text": [
      "[[ 1.+0.j -0.-2.j]\n",
      " [ 0.+2.j  5.+0.j]] \n",
      "\n",
      "[0.17157288 5.82842712]\n",
      "\n",
      "[[-0.92387953+0.j         -0.38268343+0.j        ]\n",
      " [ 0.        +0.38268343j  0.        -0.92387953j]]\n"
     ]
    }
   ],
   "source": [
    "from numpy import linalg as la\n",
    "\n",
    "a = np.array([[1, -2j], [2j, 5]])\n",
    "print(a, \"\\n\")\n",
    "eigen_vals, eigen_vects = la.eigh(a)\n",
    "\n",
    "print(eigen_vals)\n",
    "print()\n",
    "print(eigen_vects)"
   ]
  },
  {
   "cell_type": "markdown",
   "metadata": {
    "id": "6ZmwTpAvuCYw"
   },
   "source": [
    "**numpy.linalg.eigvals(a)**\n",
    "\n",
    "Main difference between eigvals and eig: the eigenvectors aren’t returned."
   ]
  },
  {
   "cell_type": "code",
   "execution_count": null,
   "metadata": {
    "colab": {
     "base_uri": "https://localhost:8080/"
    },
    "executionInfo": {
     "elapsed": 562,
     "status": "ok",
     "timestamp": 1624282438901,
     "user": {
      "displayName": "JKB Education Group",
      "photoUrl": "https://lh3.googleusercontent.com/a-/AOh14GgVDrkOo8zlABzYRCOJhHRgcLuJkkBySrHWd8n5sQ=s64",
      "userId": "04362346289210947166"
     },
     "user_tz": -330
    },
    "id": "l_HVK9sruCeG",
    "outputId": "2288e264-cca2-4b53-c0eb-e0471765eedb"
   },
   "outputs": [
    {
     "name": "stdout",
     "output_type": "stream",
     "text": [
      "[[-0.06227234 -0.36712736]\n",
      " [ 1.62956979  0.15919536]] \n",
      "\n"
     ]
    },
    {
     "data": {
      "text/plain": [
       "array([0.04846151+0.76550484j, 0.04846151-0.76550484j])"
      ]
     },
     "execution_count": 68,
     "metadata": {
      "tags": []
     },
     "output_type": "execute_result"
    }
   ],
   "source": [
    "a = np.random.randn(2, 2)\n",
    "print(a, \"\\n\")\n",
    "la.eigvals(a)"
   ]
  },
  {
   "cell_type": "markdown",
   "metadata": {
    "id": "0PDxH8RCuCnb"
   },
   "source": [
    "**numpy.linalg.eigvalsh(a)**\n",
    "\n",
    "Main difference from eigh: the eigenvectors are not computed."
   ]
  },
  {
   "cell_type": "code",
   "execution_count": null,
   "metadata": {
    "colab": {
     "base_uri": "https://localhost:8080/"
    },
    "executionInfo": {
     "elapsed": 685,
     "status": "ok",
     "timestamp": 1624282437895,
     "user": {
      "displayName": "JKB Education Group",
      "photoUrl": "https://lh3.googleusercontent.com/a-/AOh14GgVDrkOo8zlABzYRCOJhHRgcLuJkkBySrHWd8n5sQ=s64",
      "userId": "04362346289210947166"
     },
     "user_tz": -330
    },
    "id": "eAidmJ8tuCwa",
    "outputId": "c8a53fa2-8646-4d91-966c-0239f6bf9f2a"
   },
   "outputs": [
    {
     "name": "stdout",
     "output_type": "stream",
     "text": [
      "[[ 1.+0.j -0.-2.j]\n",
      " [ 0.+2.j  5.+0.j]] \n",
      "\n"
     ]
    },
    {
     "data": {
      "text/plain": [
       "array([0.17157288, 5.82842712])"
      ]
     },
     "execution_count": 67,
     "metadata": {
      "tags": []
     },
     "output_type": "execute_result"
    }
   ],
   "source": [
    "a = np.array([[1, -2j], [2j, 5]])\n",
    "print(a, \"\\n\")\n",
    "la.eigvalsh(a)"
   ]
  },
  {
   "cell_type": "markdown",
   "metadata": {},
   "source": [
    "# Matrix and Vector Multiplications\n",
    "\n",
    "## 1. Matrix * Matrix = Matrix\n",
    "- When two matrices are multiplied together, the result is a matrix.\n",
    "- Matrix multiplication requires that the number of columns in the first matrix is equal to the number of rows in the second matrix.\n",
    "- The resulting matrix has the same number of rows as the first matrix and the same number of columns as the second matrix.\n",
    "\n",
    "## 2. Vector * Matrix = Vector\n",
    "- Multiplying a vector by a matrix results in a vector.\n",
    "- The vector's dimension must match the number of columns (or rows if it's a row vector) of the matrix.\n",
    "- The result is a vector whose length corresponds to the number of columns in the matrix.\n",
    "\n",
    "## 3. Vector * Vector = Scalar\n",
    "- The multiplication of two vectors results in a scalar.\n",
    "- This operation is known as the dot product and is the sum of the products of corresponding components from both vectors.\n"
   ]
  },
  {
   "cell_type": "code",
   "execution_count": 59,
   "metadata": {},
   "outputs": [
    {
     "name": "stdout",
     "output_type": "stream",
     "text": [
      "Matrix C:\n",
      " [[19 22]\n",
      " [43 50]]\n"
     ]
    }
   ],
   "source": [
    "# Matrix * Matrix\n",
    "import numpy as np\n",
    "\n",
    "A = np.array([[1, 2],\n",
    "              [3, 4]])\n",
    "B = np.array([[5, 6],\n",
    "              [7, 8]])\n",
    "C = np.dot(A, B)  # or A @ B\n",
    "print(\"Matrix C:\\n\", C)"
   ]
  },
  {
   "cell_type": "code",
   "execution_count": 60,
   "metadata": {},
   "outputs": [
    {
     "name": "stdout",
     "output_type": "stream",
     "text": [
      "Resulting Vector R: [13 16]\n"
     ]
    }
   ],
   "source": [
    "# Matrix * Vector\n",
    "v = np.array([1, 2])\n",
    "M = np.array([[3, 4],[5, 6]])\n",
    "R = np.dot(v, M)\n",
    "print(\"Resulting Vector R:\", R)"
   ]
  },
  {
   "cell_type": "code",
   "execution_count": 61,
   "metadata": {},
   "outputs": [
    {
     "name": "stdout",
     "output_type": "stream",
     "text": [
      "Scalar Result: 32\n"
     ]
    }
   ],
   "source": [
    "# Vector* Vector\n",
    "u = np.array([1, 2, 3])\n",
    "v = np.array([4, 5, 6])\n",
    "scalar_result = np.dot(u, v)\n",
    "print(\"Scalar Result:\", scalar_result)"
   ]
  },
  {
   "cell_type": "markdown",
   "metadata": {},
   "source": [
    "# **Quartiles** using Numpy"
   ]
  },
  {
   "cell_type": "code",
   "execution_count": 5,
   "metadata": {},
   "outputs": [
    {
     "name": "stdout",
     "output_type": "stream",
     "text": [
      "115.0\t127.5\t143.25\t110.0\t125.66999999999999\t145.45\n"
     ]
    }
   ],
   "source": [
    "import numpy as np\n",
    "\n",
    "data = [80, 94, 97, 105, 107, 112, 116, 116, 118, 119, 120, 127, 128, 138, 138, 139, 142, 143, 144, 145, 150, 162, 171, 172]\n",
    "Q1 = np.percentile(data, 25)  # First quartile\n",
    "Q2 = np.percentile(data, 50)  # Median\n",
    "Q3 = np.percentile(data, 75)  # Third quartile\n",
    "\n",
    "print(Q1,Q2,Q3,np.percentile(data, 20),np.percentile(data, 47),np.percentile(data, 83),sep='\\t')"
   ]
  },
  {
   "cell_type": "markdown",
   "metadata": {},
   "source": [
    "## **Basics of Variance**\n",
    "\n",
    "A company produces a lightweight valve that is specified to weigh 1365 grams.\n",
    "Unfortunately, because of imperfections in the manufacturing process not all of the\n",
    "valves produced weigh exactly 1365 grams. In fact, the weights of the valves pro\u0002duced are normally distributed with a mean weight of 1365 grams and a standard\n",
    "deviation of 294 grams. Within what range of weights would approximately 95% of\n",
    "the valve weights fall? Approximately 16% of the weights would be more than what\n",
    "value? Approximately 0.15% of the weights would be less than what value?\n",
    "Solution\n",
    "\n",
    "Because the valve weights are normally distributed, the empirical rule applies.\n",
    "According to the empirical rule, approximately 95% of the weights should fall within\n",
    "2 = 1365 2(294) = 1365 588. Thus, approximately 95% should fall between\n",
    "777 and 1953. Approximately 68% of the weights should fall within 1 , and 32%\n",
    "should fall outside this interval. Because the normal distribution is symmetrical,\n",
    "approximately 16% should lie above + 1 = 1365 + 294 = 1659. Approximately 99.7%\n",
    "of the weights should fall within 3 , and .3% should fall outside this interval. Half\n",
    "of these, or .15%, should lie below m - 3s = 1365 - 3(294) = 1365 - 882 = 483."
   ]
  },
  {
   "cell_type": "markdown",
   "metadata": {
    "id": "juXA9PBbuC5v"
   },
   "source": [
    "### **Summary:**\n",
    "\n",
    "Not just linear algebra but many mathematical operations we can perfrom using numpy library and we have studied the way numpy computes the array, creates the array, manipulates the shape, performs mathematical operations on it. After this whenever new concepts will come we will learn more about numpy library contents so that we will better understand where to use what."
   ]
  }
 ],
 "metadata": {
  "colab": {
   "collapsed_sections": [],
   "name": "PYTHON NUMPY",
   "provenance": []
  },
  "kernelspec": {
   "display_name": "Python 3",
   "language": "python",
   "name": "python3"
  },
  "language_info": {
   "codemirror_mode": {
    "name": "ipython",
    "version": 3
   },
   "file_extension": ".py",
   "mimetype": "text/x-python",
   "name": "python",
   "nbconvert_exporter": "python",
   "pygments_lexer": "ipython3",
   "version": "3.12.2"
  }
 },
 "nbformat": 4,
 "nbformat_minor": 1
}
