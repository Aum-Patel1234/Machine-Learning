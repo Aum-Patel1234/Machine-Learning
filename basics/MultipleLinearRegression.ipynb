{
 "cells": [
  {
   "cell_type": "markdown",
   "metadata": {
    "id": "tbO8Tj5tQjC3"
   },
   "source": [
    "# **Multiple Linear Regression**\n",
    "\n",
    "Multiple Linear Regression is one of the important regression algorithms which models the linear relationship between a single dependent continuous variable and more than one independent variable.\n",
    "\n",
    "In Simple Linear Regression,  a single Independent/Predictor(X) variable is used to model the response variable (Y). But there may be various cases in which the response variable is affected by more than one predictor variable; for such cases, the Multiple Linear Regression algorithm is used.\n",
    "\n",
    "**Some key points about MLR:**\n",
    "- For MLR, the dependent or target variable(Y) must be the continuous/real, but the predictor or independent variable may be of continuous or categorical form.\n",
    "- Each feature variable must model the linear relationship with the dependent variable.\n",
    "- MLR tries to fit a regression line through a multidimensional space of data-points.\n",
    "\n",
    "## **MLR equation:**\n",
    "In Multiple Linear Regression, the target variable(Y) is a linear combination of multiple predictor variables x1, x2, x3, ...,xn. Since it is an enhancement of Simple Linear Regression, so the same is applied for the multiple linear regression equation, the equation becomes:\n",
    "\n",
    "**Y= c + m1x1 +m2x2 +m3x3…….. +mnxn**\n",
    "\n",
    "Where,\n",
    "\n",
    "- Y= Output/Response variable\n",
    "- m1, m2, m3, ….. an= Coefficients of the model.\n",
    "- x1, x2, x3, …xn= Various Independent/feature variable\n",
    "\n",
    "**Assumptions for Multiple Linear Regression:**\n",
    "\n",
    "- A linear relationship should exist between the Target and predictor variables.\n",
    "- MLR assumes little or no multicollinearity (correlation between the independent variable) in data.\n",
    "\n",
    "**Problem Statement example for Multiple Linear Regression:**\n",
    "\n",
    "We have a dataset of 50 start-up companies. This dataset contains five main information: R&D Spend, Administration Spend, Marketing Spend, State, and Profit for a financial year. Our goal is to create a model that can easily determine which company has a maximum profit, and which is the most affecting factor for the profit of a company.\n",
    "\n",
    "**startups_50.csv**\n"
   ]
  },
  {
   "cell_type": "markdown",
   "metadata": {
    "id": "oiTL_OoIS7St"
   },
   "source": [
    "![alt text](https://lh3.googleusercontent.com/Qzf7cRDrAElUej30bH7k5MRDxMC744TjlfU0xRFBFp247ICfMvjk_9C0VSOHz_9casZhpXe02AbaahTw3kBqfKgDjCpJ_ZoXlFofiZkgrs9lSxpZeXfiwutVM7vaEhwtrOxGbu58)\n",
    "\n",
    "Since we need to find the Profit, so it is the dependent variable, and the other four variables are independent variables. Below are the main steps of deploying the MLR model:\n",
    "\n",
    "- Data Pre-processing Steps\n",
    "- Fitting the MLR model to the training set\n",
    "- Predicting the result of the test set\n",
    "\n",
    "**Getting started**\n",
    " \n",
    "In Spyder IDE, the folder containing the code file must be saved as a working directory, and the dataset or csv file should be in the same folder.\n",
    "\n",
    "**C:\\Machine learning\\Regression\\MLR**\n",
    "\n",
    "# **Step 1: Data Preprocessing**\n",
    "**Importing libraries:** Firstly we will import the library which will help in building the model. Below is the code for it:\n"
   ]
  },
  {
   "cell_type": "code",
   "execution_count": 168,
   "metadata": {},
   "outputs": [],
   "source": [
    "# %pip install openpyxl"
   ]
  },
  {
   "cell_type": "code",
   "execution_count": 169,
   "metadata": {
    "id": "z7EWL3ncTifi"
   },
   "outputs": [],
   "source": [
    "import pandas as pd"
   ]
  },
  {
   "cell_type": "code",
   "execution_count": 170,
   "metadata": {
    "id": "AVKmvUjKTlZt"
   },
   "outputs": [],
   "source": [
    "df = pd.read_csv(\"data/50_Startups_dataset.csv\")"
   ]
  },
  {
   "cell_type": "code",
   "execution_count": 171,
   "metadata": {
    "colab": {
     "base_uri": "https://localhost:8080/",
     "height": 363
    },
    "id": "ky5ExtIsTpiT",
    "outputId": "54fb918a-6f21-4ff8-8ed7-0704d97fff06"
   },
   "outputs": [
    {
     "data": {
      "text/html": [
       "<div>\n",
       "<style scoped>\n",
       "    .dataframe tbody tr th:only-of-type {\n",
       "        vertical-align: middle;\n",
       "    }\n",
       "\n",
       "    .dataframe tbody tr th {\n",
       "        vertical-align: top;\n",
       "    }\n",
       "\n",
       "    .dataframe thead th {\n",
       "        text-align: right;\n",
       "    }\n",
       "</style>\n",
       "<table border=\"1\" class=\"dataframe\">\n",
       "  <thead>\n",
       "    <tr style=\"text-align: right;\">\n",
       "      <th></th>\n",
       "      <th>Unnamed: 0</th>\n",
       "      <th>R&amp;D Spend</th>\n",
       "      <th>Administration</th>\n",
       "      <th>Marketing Spend</th>\n",
       "      <th>State</th>\n",
       "      <th>Profit</th>\n",
       "    </tr>\n",
       "  </thead>\n",
       "  <tbody>\n",
       "    <tr>\n",
       "      <th>0</th>\n",
       "      <td>0</td>\n",
       "      <td>165349.30</td>\n",
       "      <td>136897.90</td>\n",
       "      <td>471784.20</td>\n",
       "      <td>New York</td>\n",
       "      <td>192261.93</td>\n",
       "    </tr>\n",
       "    <tr>\n",
       "      <th>1</th>\n",
       "      <td>1</td>\n",
       "      <td>162597.80</td>\n",
       "      <td>151377.69</td>\n",
       "      <td>443898.63</td>\n",
       "      <td>California</td>\n",
       "      <td>191792.16</td>\n",
       "    </tr>\n",
       "    <tr>\n",
       "      <th>2</th>\n",
       "      <td>2</td>\n",
       "      <td>153441.61</td>\n",
       "      <td>101145.65</td>\n",
       "      <td>407934.64</td>\n",
       "      <td>Florida</td>\n",
       "      <td>191050.49</td>\n",
       "    </tr>\n",
       "    <tr>\n",
       "      <th>3</th>\n",
       "      <td>3</td>\n",
       "      <td>144372.51</td>\n",
       "      <td>118671.95</td>\n",
       "      <td>383199.72</td>\n",
       "      <td>New York</td>\n",
       "      <td>182902.09</td>\n",
       "    </tr>\n",
       "    <tr>\n",
       "      <th>4</th>\n",
       "      <td>4</td>\n",
       "      <td>142107.44</td>\n",
       "      <td>91391.87</td>\n",
       "      <td>366168.52</td>\n",
       "      <td>Florida</td>\n",
       "      <td>166188.04</td>\n",
       "    </tr>\n",
       "    <tr>\n",
       "      <th>5</th>\n",
       "      <td>5</td>\n",
       "      <td>131877.00</td>\n",
       "      <td>99814.81</td>\n",
       "      <td>362861.46</td>\n",
       "      <td>New York</td>\n",
       "      <td>156991.22</td>\n",
       "    </tr>\n",
       "    <tr>\n",
       "      <th>6</th>\n",
       "      <td>6</td>\n",
       "      <td>134615.56</td>\n",
       "      <td>147198.97</td>\n",
       "      <td>127716.92</td>\n",
       "      <td>California</td>\n",
       "      <td>156122.61</td>\n",
       "    </tr>\n",
       "    <tr>\n",
       "      <th>7</th>\n",
       "      <td>7</td>\n",
       "      <td>130298.23</td>\n",
       "      <td>145530.16</td>\n",
       "      <td>323876.78</td>\n",
       "      <td>Florida</td>\n",
       "      <td>155752.70</td>\n",
       "    </tr>\n",
       "    <tr>\n",
       "      <th>8</th>\n",
       "      <td>8</td>\n",
       "      <td>120542.62</td>\n",
       "      <td>148719.05</td>\n",
       "      <td>311613.39</td>\n",
       "      <td>New York</td>\n",
       "      <td>152211.87</td>\n",
       "    </tr>\n",
       "    <tr>\n",
       "      <th>9</th>\n",
       "      <td>9</td>\n",
       "      <td>123334.98</td>\n",
       "      <td>108679.27</td>\n",
       "      <td>304981.72</td>\n",
       "      <td>California</td>\n",
       "      <td>149760.06</td>\n",
       "    </tr>\n",
       "  </tbody>\n",
       "</table>\n",
       "</div>"
      ],
      "text/plain": [
       "   Unnamed: 0  R&D Spend  Administration  Marketing Spend       State  \\\n",
       "0           0  165349.30       136897.90        471784.20    New York   \n",
       "1           1  162597.80       151377.69        443898.63  California   \n",
       "2           2  153441.61       101145.65        407934.64     Florida   \n",
       "3           3  144372.51       118671.95        383199.72    New York   \n",
       "4           4  142107.44        91391.87        366168.52     Florida   \n",
       "5           5  131877.00        99814.81        362861.46    New York   \n",
       "6           6  134615.56       147198.97        127716.92  California   \n",
       "7           7  130298.23       145530.16        323876.78     Florida   \n",
       "8           8  120542.62       148719.05        311613.39    New York   \n",
       "9           9  123334.98       108679.27        304981.72  California   \n",
       "\n",
       "      Profit  \n",
       "0  192261.93  \n",
       "1  191792.16  \n",
       "2  191050.49  \n",
       "3  182902.09  \n",
       "4  166188.04  \n",
       "5  156991.22  \n",
       "6  156122.61  \n",
       "7  155752.70  \n",
       "8  152211.87  \n",
       "9  149760.06  "
      ]
     },
     "execution_count": 171,
     "metadata": {},
     "output_type": "execute_result"
    }
   ],
   "source": [
    "df.head(10)"
   ]
  },
  {
   "cell_type": "code",
   "execution_count": 172,
   "metadata": {
    "colab": {
     "base_uri": "https://localhost:8080/"
    },
    "id": "Gzn0GdJkOW4K",
    "outputId": "f798dc09-4d3e-4d8d-e871-7973011fc6d1"
   },
   "outputs": [
    {
     "name": "stdout",
     "output_type": "stream",
     "text": [
      "<class 'pandas.core.frame.DataFrame'>\n",
      "RangeIndex: 50 entries, 0 to 49\n",
      "Data columns (total 6 columns):\n",
      " #   Column           Non-Null Count  Dtype  \n",
      "---  ------           --------------  -----  \n",
      " 0   Unnamed: 0       50 non-null     int64  \n",
      " 1   R&D Spend        50 non-null     float64\n",
      " 2   Administration   50 non-null     float64\n",
      " 3   Marketing Spend  50 non-null     float64\n",
      " 4   State            50 non-null     object \n",
      " 5   Profit           50 non-null     float64\n",
      "dtypes: float64(4), int64(1), object(1)\n",
      "memory usage: 2.5+ KB\n"
     ]
    }
   ],
   "source": [
    "df.info()"
   ]
  },
  {
   "cell_type": "markdown",
   "metadata": {
    "id": "TKmQj1eAb1I2"
   },
   "source": [
    "In the above output, we can clearly see that there are five variables, in which four variables are continuous (R&D, Administration, Marketing Spend, Profit) and one is categorical variable (State).\n",
    "\n",
    "**Extracting dependent and independent Variables:**\n"
   ]
  },
  {
   "cell_type": "markdown",
   "metadata": {
    "id": "ScH3nV7rfT-8"
   },
   "source": [
    "Let's have some visualization..\n"
   ]
  },
  {
   "cell_type": "code",
   "execution_count": 173,
   "metadata": {
    "id": "Stbx_zMtfc7B"
   },
   "outputs": [],
   "source": [
    "import matplotlib.pyplot as plt"
   ]
  },
  {
   "cell_type": "code",
   "execution_count": 174,
   "metadata": {},
   "outputs": [
    {
     "data": {
      "text/plain": [
       "<matplotlib.collections.PathCollection at 0x738f55fd0c80>"
      ]
     },
     "execution_count": 174,
     "metadata": {},
     "output_type": "execute_result"
    },
    {
     "data": {
      "image/png": "[encoded data removed]",
      "text/plain": [
       "<Figure size 640x480 with 1 Axes>"
      ]
     },
     "metadata": {},
     "output_type": "display_data"
    }
   ],
   "source": [
    "plt.scatter(df[\"R&D Spend\"].values, df.Profit.values)"
   ]
  },
  {
   "cell_type": "code",
   "execution_count": 175,
   "metadata": {},
   "outputs": [
    {
     "data": {
      "text/plain": [
       "<matplotlib.collections.PathCollection at 0x738f56999be0>"
      ]
     },
     "execution_count": 175,
     "metadata": {},
     "output_type": "execute_result"
    },
    {
     "data": {
      "image/png": "[encoded data removed]",
      "text/plain": [
       "<Figure size 640x480 with 1 Axes>"
      ]
     },
     "metadata": {},
     "output_type": "display_data"
    }
   ],
   "source": [
    "plt.scatter(df.Administration.values, df.Profit.values)"
   ]
  },
  {
   "cell_type": "code",
   "execution_count": 176,
   "metadata": {},
   "outputs": [
    {
     "data": {
      "text/plain": [
       "<matplotlib.collections.PathCollection at 0x738f54f18740>"
      ]
     },
     "execution_count": 176,
     "metadata": {},
     "output_type": "execute_result"
    },
    {
     "data": {
      "image/png": "[encoded data removed]",
      "text/plain": [
       "<Figure size 640x480 with 1 Axes>"
      ]
     },
     "metadata": {},
     "output_type": "display_data"
    }
   ],
   "source": [
    "plt.scatter(df[\"Marketing Spend\"].values, df.Profit.values)"
   ]
  },
  {
   "cell_type": "code",
   "execution_count": 177,
   "metadata": {},
   "outputs": [
    {
     "data": {
      "text/html": [
       "<div>\n",
       "<style scoped>\n",
       "    .dataframe tbody tr th:only-of-type {\n",
       "        vertical-align: middle;\n",
       "    }\n",
       "\n",
       "    .dataframe tbody tr th {\n",
       "        vertical-align: top;\n",
       "    }\n",
       "\n",
       "    .dataframe thead th {\n",
       "        text-align: right;\n",
       "    }\n",
       "</style>\n",
       "<table border=\"1\" class=\"dataframe\">\n",
       "  <thead>\n",
       "    <tr style=\"text-align: right;\">\n",
       "      <th></th>\n",
       "      <th>Unnamed: 0</th>\n",
       "      <th>R&amp;D Spend</th>\n",
       "      <th>Administration</th>\n",
       "      <th>Marketing Spend</th>\n",
       "      <th>State</th>\n",
       "      <th>Profit</th>\n",
       "    </tr>\n",
       "  </thead>\n",
       "  <tbody>\n",
       "    <tr>\n",
       "      <th>0</th>\n",
       "      <td>0</td>\n",
       "      <td>165349.30</td>\n",
       "      <td>136897.90</td>\n",
       "      <td>471784.20</td>\n",
       "      <td>New York</td>\n",
       "      <td>192261.93</td>\n",
       "    </tr>\n",
       "    <tr>\n",
       "      <th>1</th>\n",
       "      <td>1</td>\n",
       "      <td>162597.80</td>\n",
       "      <td>151377.69</td>\n",
       "      <td>443898.63</td>\n",
       "      <td>California</td>\n",
       "      <td>191792.16</td>\n",
       "    </tr>\n",
       "    <tr>\n",
       "      <th>2</th>\n",
       "      <td>2</td>\n",
       "      <td>153441.61</td>\n",
       "      <td>101145.65</td>\n",
       "      <td>407934.64</td>\n",
       "      <td>Florida</td>\n",
       "      <td>191050.49</td>\n",
       "    </tr>\n",
       "    <tr>\n",
       "      <th>3</th>\n",
       "      <td>3</td>\n",
       "      <td>144372.51</td>\n",
       "      <td>118671.95</td>\n",
       "      <td>383199.72</td>\n",
       "      <td>New York</td>\n",
       "      <td>182902.09</td>\n",
       "    </tr>\n",
       "    <tr>\n",
       "      <th>4</th>\n",
       "      <td>4</td>\n",
       "      <td>142107.44</td>\n",
       "      <td>91391.87</td>\n",
       "      <td>366168.52</td>\n",
       "      <td>Florida</td>\n",
       "      <td>166188.04</td>\n",
       "    </tr>\n",
       "  </tbody>\n",
       "</table>\n",
       "</div>"
      ],
      "text/plain": [
       "   Unnamed: 0  R&D Spend  Administration  Marketing Spend       State  \\\n",
       "0           0  165349.30       136897.90        471784.20    New York   \n",
       "1           1  162597.80       151377.69        443898.63  California   \n",
       "2           2  153441.61       101145.65        407934.64     Florida   \n",
       "3           3  144372.51       118671.95        383199.72    New York   \n",
       "4           4  142107.44        91391.87        366168.52     Florida   \n",
       "\n",
       "      Profit  \n",
       "0  192261.93  \n",
       "1  191792.16  \n",
       "2  191050.49  \n",
       "3  182902.09  \n",
       "4  166188.04  "
      ]
     },
     "execution_count": 177,
     "metadata": {},
     "output_type": "execute_result"
    }
   ],
   "source": [
    "df.head()"
   ]
  },
  {
   "cell_type": "code",
   "execution_count": 178,
   "metadata": {
    "id": "yKiOdwg7UAPa"
   },
   "outputs": [],
   "source": [
    "X = df.iloc[:, 1:5].values\n",
    "Y = df.iloc[:, 5:].values"
   ]
  },
  {
   "cell_type": "code",
   "execution_count": 179,
   "metadata": {},
   "outputs": [
    {
     "data": {
      "text/plain": [
       "((50, 4), (50, 1))"
      ]
     },
     "execution_count": 179,
     "metadata": {},
     "output_type": "execute_result"
    }
   ],
   "source": [
    "X.shape, Y.shape"
   ]
  },
  {
   "cell_type": "code",
   "execution_count": 180,
   "metadata": {},
   "outputs": [
    {
     "data": {
      "text/plain": [
       "array([[165349.30000000002, 136897.9, 471784.2, 'New York'],\n",
       "       [162597.80000000002, 151377.69, 443898.63, 'California'],\n",
       "       [153441.61000000002, 101145.65, 407934.64, 'Florida'],\n",
       "       [144372.51, 118671.95, 383199.72, 'New York'],\n",
       "       [142107.44, 91391.87, 366168.52, 'Florida'],\n",
       "       [131877.0, 99814.81, 362861.46, 'New York'],\n",
       "       [134615.56, 147198.97, 127716.92, 'California'],\n",
       "       [130298.23, 145530.16, 323876.78, 'Florida'],\n",
       "       [120542.62, 148719.05000000002, 311613.39, 'New York'],\n",
       "       [123334.98, 108679.27, 304981.72, 'California'],\n",
       "       [101913.18, 110594.21, 229161.05, 'Florida'],\n",
       "       [100672.06, 91790.71, 249744.65, 'California'],\n",
       "       [93863.85, 127320.48, 249839.54, 'Florida'],\n",
       "       [91992.49, 135495.17, 252665.03, 'California'],\n",
       "       [119943.34, 156547.52000000002, 256513.02, 'Florida'],\n",
       "       [114523.71, 122616.94, 261776.33, 'New York'],\n",
       "       [78013.21, 121597.65, 264346.16, 'California'],\n",
       "       [94657.26, 145077.68, 282574.41, 'New York'],\n",
       "       [91749.26, 114175.89, 294919.67, 'Florida'],\n",
       "       [86419.8, 153514.21, 0.1, 'New York'],\n",
       "       [76253.96, 113867.4, 298664.56999999995, 'California'],\n",
       "       [78389.57, 153773.53, 299737.39, 'New York'],\n",
       "       [73994.66, 122782.85, 303319.36, 'Florida'],\n",
       "       [67532.63, 105751.13, 304768.83, 'Florida'],\n",
       "       [77044.11, 99281.44, 140574.91, 'New York'],\n",
       "       [64664.81, 139553.26, 137962.72, 'California'],\n",
       "       [75328.97, 144136.08000000002, 134050.17, 'Florida'],\n",
       "       [72107.70000000001, 127864.65, 353183.91, 'New York'],\n",
       "       [66051.62000000001, 182645.66, 118148.3, 'Florida'],\n",
       "       [65605.58, 153032.16, 107138.48, 'New York'],\n",
       "       [61994.58, 115641.38, 91131.34, 'Florida'],\n",
       "       [61136.48, 152702.02000000002, 88218.33, 'New York'],\n",
       "       [63408.96, 129219.71, 46085.35, 'California'],\n",
       "       [55494.05, 103057.59, 214634.91, 'Florida'],\n",
       "       [46426.17, 157694.02000000002, 210797.77, 'California'],\n",
       "       [46014.12, 85047.54000000001, 205517.74, 'New York'],\n",
       "       [28663.86, 127056.31, 201126.92, 'Florida'],\n",
       "       [44070.05, 51283.24, 197029.52, 'California'],\n",
       "       [20229.69, 65948.03, 185265.2, 'New York'],\n",
       "       [38558.61, 82982.19, 174999.4, 'California'],\n",
       "       [28754.43, 118546.15, 172795.77000000002, 'California'],\n",
       "       [27893.02, 84710.87000000001, 164470.81, 'Florida'],\n",
       "       [23641.03, 96189.73, 148001.21, 'California'],\n",
       "       [15505.83, 127382.4, 35534.27, 'New York'],\n",
       "       [22177.84, 154806.24000000002, 28334.82, 'California'],\n",
       "       [1000.33, 124153.14, 1904.03, 'New York'],\n",
       "       [1315.56, 115816.31, 297114.56, 'Florida'],\n",
       "       [0.1, 135427.02000000002, 0.1, 'California'],\n",
       "       [542.15, 51743.25, 0.1, 'New York'],\n",
       "       [0.1, 116983.9, 45173.16, 'California']], dtype=object)"
      ]
     },
     "execution_count": 180,
     "metadata": {},
     "output_type": "execute_result"
    }
   ],
   "source": [
    "X[:,:]"
   ]
  },
  {
   "cell_type": "code",
   "execution_count": 181,
   "metadata": {},
   "outputs": [
    {
     "data": {
      "text/plain": [
       "0.9507459940683246"
      ]
     },
     "execution_count": 181,
     "metadata": {},
     "output_type": "execute_result"
    }
   ],
   "source": [
    "from sklearn.linear_model import LinearRegression\n",
    "\n",
    "test_lr = LinearRegression()\n",
    "test_lr.fit(X[:,:-1], Y)\n",
    "test_lr.score(X[:,:-1],Y)"
   ]
  },
  {
   "cell_type": "code",
   "execution_count": 182,
   "metadata": {
    "colab": {
     "base_uri": "https://localhost:8080/"
    },
    "id": "WjSEF7b4URaL",
    "outputId": "f00bbee7-ebed-4237-9b1e-24d5b3046258"
   },
   "outputs": [
    {
     "data": {
      "text/plain": [
       "array([[165349.30000000002, 136897.9, 471784.2, 'New York'],\n",
       "       [162597.80000000002, 151377.69, 443898.63, 'California'],\n",
       "       [153441.61000000002, 101145.65, 407934.64, 'Florida'],\n",
       "       [144372.51, 118671.95, 383199.72, 'New York'],\n",
       "       [142107.44, 91391.87, 366168.52, 'Florida'],\n",
       "       [131877.0, 99814.81, 362861.46, 'New York'],\n",
       "       [134615.56, 147198.97, 127716.92, 'California'],\n",
       "       [130298.23, 145530.16, 323876.78, 'Florida'],\n",
       "       [120542.62, 148719.05000000002, 311613.39, 'New York'],\n",
       "       [123334.98, 108679.27, 304981.72, 'California']], dtype=object)"
      ]
     },
     "execution_count": 182,
     "metadata": {},
     "output_type": "execute_result"
    }
   ],
   "source": [
    "X[:10]"
   ]
  },
  {
   "cell_type": "code",
   "execution_count": 183,
   "metadata": {
    "colab": {
     "base_uri": "https://localhost:8080/"
    },
    "id": "UGTYZ95qTikK",
    "outputId": "1486257b-3905-4d1d-a187-c0dc4ba16d10"
   },
   "outputs": [
    {
     "data": {
      "text/plain": [
       "array([[192261.93],\n",
       "       [191792.16],\n",
       "       [191050.49],\n",
       "       [182902.09],\n",
       "       [166188.04],\n",
       "       [156991.22],\n",
       "       [156122.61],\n",
       "       [155752.7 ],\n",
       "       [152211.87],\n",
       "       [149760.06]])"
      ]
     },
     "execution_count": 183,
     "metadata": {},
     "output_type": "execute_result"
    }
   ],
   "source": [
    "Y[:10]"
   ]
  },
  {
   "cell_type": "markdown",
   "metadata": {
    "id": "mUhvxCOyb7zc"
   },
   "source": [
    "**Handling missing data :** \n",
    "\n",
    "Here in our dataset we luckily do not have any missing data, however when we have huge datasets it is a tedious job to go through the entire dataset to check if there is any missing data or not. Hence it is a good practice to apply imputer to the dataset as a precautionary step."
   ]
  },
  {
   "cell_type": "code",
   "execution_count": 184,
   "metadata": {
    "id": "srmQoRtRUUqL"
   },
   "outputs": [],
   "source": [
    "from sklearn.impute import SimpleImputer\n",
    "\n",
    "impute = SimpleImputer(strategy=\"mean\")\n",
    "impute.fit(X[:, :3])\n",
    "X[:, :3] = impute.transform(X[:, :3])"
   ]
  },
  {
   "cell_type": "code",
   "execution_count": 185,
   "metadata": {
    "colab": {
     "base_uri": "https://localhost:8080/"
    },
    "id": "V9UUviWUTimz",
    "outputId": "51736320-85f3-40c1-fe68-0328bcb2b446"
   },
   "outputs": [
    {
     "data": {
      "text/plain": [
       "array([[165349.30000000002, 136897.9, 471784.2, 'New York'],\n",
       "       [162597.80000000002, 151377.69, 443898.63, 'California'],\n",
       "       [153441.61000000002, 101145.65, 407934.64, 'Florida'],\n",
       "       [144372.51, 118671.95, 383199.72, 'New York'],\n",
       "       [142107.44, 91391.87, 366168.52, 'Florida'],\n",
       "       [131877.0, 99814.81, 362861.46, 'New York'],\n",
       "       [134615.56, 147198.97, 127716.92, 'California'],\n",
       "       [130298.23, 145530.16, 323876.78, 'Florida'],\n",
       "       [120542.62, 148719.05000000002, 311613.39, 'New York'],\n",
       "       [123334.98, 108679.27, 304981.72, 'California']], dtype=object)"
      ]
     },
     "execution_count": 185,
     "metadata": {},
     "output_type": "execute_result"
    }
   ],
   "source": [
    "X[:10]"
   ]
  },
  {
   "cell_type": "code",
   "execution_count": 186,
   "metadata": {},
   "outputs": [
    {
     "data": {
      "text/plain": [
       "'\\ncalifornia  1 0 0\\nfloria      0 1 0\\nnew york    0 0 1\\n\\n'"
      ]
     },
     "execution_count": 186,
     "metadata": {},
     "output_type": "execute_result"
    }
   ],
   "source": [
    "df[\"State\"].value_counts()\n",
    "\n",
    "'''\n",
    "california  1 0 0\n",
    "floria      0 1 0\n",
    "new york    0 0 1\n",
    "\n",
    "'''"
   ]
  },
  {
   "cell_type": "markdown",
   "metadata": {
    "id": "M9PQ1XY6cBfU"
   },
   "source": [
    "**Handling Categorical data :** \n",
    "\n",
    "As we have one categorical variable (State), which cannot be directly applied to the model, so we will encode it. To encode the categorical variable into numbers, we will use the LabelEncoder class. But it is not sufficient because it still has some relational order, which may create a wrong model. So in order to remove this problem, we will use OneHotEncoder."
   ]
  },
  {
   "cell_type": "code",
   "execution_count": 187,
   "metadata": {},
   "outputs": [
    {
     "data": {
      "text/plain": [
       "array([[165349.30000000002, 136897.9, 471784.2, 'New York'],\n",
       "       [162597.80000000002, 151377.69, 443898.63, 'California'],\n",
       "       [153441.61000000002, 101145.65, 407934.64, 'Florida'],\n",
       "       [144372.51, 118671.95, 383199.72, 'New York'],\n",
       "       [142107.44, 91391.87, 366168.52, 'Florida'],\n",
       "       [131877.0, 99814.81, 362861.46, 'New York'],\n",
       "       [134615.56, 147198.97, 127716.92, 'California'],\n",
       "       [130298.23, 145530.16, 323876.78, 'Florida'],\n",
       "       [120542.62, 148719.05000000002, 311613.39, 'New York'],\n",
       "       [123334.98, 108679.27, 304981.72, 'California'],\n",
       "       [101913.18, 110594.21, 229161.05, 'Florida'],\n",
       "       [100672.06, 91790.71, 249744.65, 'California'],\n",
       "       [93863.85, 127320.48, 249839.54, 'Florida'],\n",
       "       [91992.49, 135495.17, 252665.03, 'California'],\n",
       "       [119943.34, 156547.52000000002, 256513.02, 'Florida'],\n",
       "       [114523.71, 122616.94, 261776.33, 'New York'],\n",
       "       [78013.21, 121597.65, 264346.16, 'California'],\n",
       "       [94657.26, 145077.68, 282574.41, 'New York'],\n",
       "       [91749.26, 114175.89, 294919.67, 'Florida'],\n",
       "       [86419.8, 153514.21, 0.1, 'New York'],\n",
       "       [76253.96, 113867.4, 298664.56999999995, 'California'],\n",
       "       [78389.57, 153773.53, 299737.39, 'New York'],\n",
       "       [73994.66, 122782.85, 303319.36, 'Florida'],\n",
       "       [67532.63, 105751.13, 304768.83, 'Florida'],\n",
       "       [77044.11, 99281.44, 140574.91, 'New York'],\n",
       "       [64664.81, 139553.26, 137962.72, 'California'],\n",
       "       [75328.97, 144136.08000000002, 134050.17, 'Florida'],\n",
       "       [72107.70000000001, 127864.65, 353183.91, 'New York'],\n",
       "       [66051.62000000001, 182645.66, 118148.3, 'Florida'],\n",
       "       [65605.58, 153032.16, 107138.48, 'New York'],\n",
       "       [61994.58, 115641.38, 91131.34, 'Florida'],\n",
       "       [61136.48, 152702.02000000002, 88218.33, 'New York'],\n",
       "       [63408.96, 129219.71, 46085.35, 'California'],\n",
       "       [55494.05, 103057.59, 214634.91, 'Florida'],\n",
       "       [46426.17, 157694.02000000002, 210797.77, 'California'],\n",
       "       [46014.12, 85047.54000000001, 205517.74, 'New York'],\n",
       "       [28663.86, 127056.31, 201126.92, 'Florida'],\n",
       "       [44070.05, 51283.24, 197029.52, 'California'],\n",
       "       [20229.69, 65948.03, 185265.2, 'New York'],\n",
       "       [38558.61, 82982.19, 174999.4, 'California'],\n",
       "       [28754.43, 118546.15, 172795.77000000002, 'California'],\n",
       "       [27893.02, 84710.87000000001, 164470.81, 'Florida'],\n",
       "       [23641.03, 96189.73, 148001.21, 'California'],\n",
       "       [15505.83, 127382.4, 35534.27, 'New York'],\n",
       "       [22177.84, 154806.24000000002, 28334.82, 'California'],\n",
       "       [1000.33, 124153.14, 1904.03, 'New York'],\n",
       "       [1315.56, 115816.31, 297114.56, 'Florida'],\n",
       "       [0.1, 135427.02000000002, 0.1, 'California'],\n",
       "       [542.15, 51743.25, 0.1, 'New York'],\n",
       "       [0.1, 116983.9, 45173.16, 'California']], dtype=object)"
      ]
     },
     "execution_count": 187,
     "metadata": {},
     "output_type": "execute_result"
    }
   ],
   "source": [
    "X"
   ]
  },
  {
   "cell_type": "code",
   "execution_count": 188,
   "metadata": {
    "id": "qFj8drCKWPVa"
   },
   "outputs": [],
   "source": [
    "from sklearn.preprocessing import LabelEncoder\n",
    "\n",
    "lec = LabelEncoder()\n",
    "# lec.fit(X[:, 3])    # remember LabelEncoder accepts input in 1d array format\n",
    "# X[:, 3] = lec.transform(X[: , 3])\n",
    "X[:, -1] = lec.fit_transform(X[:, -1])"
   ]
  },
  {
   "cell_type": "code",
   "execution_count": 189,
   "metadata": {
    "colab": {
     "base_uri": "https://localhost:8080/"
    },
    "id": "t-bX0B2aXZRm",
    "outputId": "6751885d-4840-4ebf-90e4-a442d2f4b9fe"
   },
   "outputs": [
    {
     "data": {
      "text/plain": [
       "array([[165349.30000000002, 136897.9, 471784.2, 2],\n",
       "       [162597.80000000002, 151377.69, 443898.63, 0],\n",
       "       [153441.61000000002, 101145.65, 407934.64, 1],\n",
       "       [144372.51, 118671.95, 383199.72, 2],\n",
       "       [142107.44, 91391.87, 366168.52, 1],\n",
       "       [131877.0, 99814.81, 362861.46, 2],\n",
       "       [134615.56, 147198.97, 127716.92, 0],\n",
       "       [130298.23, 145530.16, 323876.78, 1],\n",
       "       [120542.62, 148719.05000000002, 311613.39, 2],\n",
       "       [123334.98, 108679.27, 304981.72, 0]], dtype=object)"
      ]
     },
     "execution_count": 189,
     "metadata": {},
     "output_type": "execute_result"
    }
   ],
   "source": [
    "X[:10]"
   ]
  },
  {
   "cell_type": "code",
   "execution_count": 190,
   "metadata": {
    "colab": {
     "base_uri": "https://localhost:8080/"
    },
    "id": "WTIxoyhvXNOE",
    "outputId": "3675e2ab-8869-448f-c9e4-f537f507fb2e"
   },
   "outputs": [
    {
     "data": {
      "text/plain": [
       "array(['California', 'Florida', 'New York'], dtype=object)"
      ]
     },
     "execution_count": 190,
     "metadata": {},
     "output_type": "execute_result"
    }
   ],
   "source": [
    "lec.classes_"
   ]
  },
  {
   "cell_type": "markdown",
   "metadata": {
    "id": "FtpFZ-lucirq"
   },
   "source": [
    "## **One-Hot Encoding**\n",
    "\n",
    "For categorical variables where no such ordinal relationship exists, the integer encoding is not enough.\n",
    "\n",
    "In fact, using this encoding and allowing the model to assume a natural ordering between categories may result in poor performance or unexpected results (predictions halfway between categories).\n",
    "\n",
    "In this case, a one-hot encoding can be applied to the integer representation. This is where the integer encoded variable is removed and a new binary variable is added for each unique integer value."
   ]
  },
  {
   "cell_type": "code",
   "execution_count": 191,
   "metadata": {},
   "outputs": [
    {
     "data": {
      "text/plain": [
       "array([2, 0, 1, 2, 1, 2, 0, 1, 2, 0, 1, 0, 1, 0, 1, 2, 0, 2, 1, 2, 0, 2,\n",
       "       1, 1, 2, 0, 1, 2, 1, 2, 1, 2, 0, 1, 0, 2, 1, 0, 2, 0, 0, 1, 0, 2,\n",
       "       0, 2, 1, 0, 2, 0], dtype=object)"
      ]
     },
     "execution_count": 191,
     "metadata": {},
     "output_type": "execute_result"
    }
   ],
   "source": [
    "# import sklearn\n",
    "# sklearn.__version__\n",
    "X[:,3]"
   ]
  },
  {
   "cell_type": "code",
   "execution_count": 192,
   "metadata": {
    "id": "AfwMUq-AXSlj"
   },
   "outputs": [],
   "source": [
    "from sklearn.compose import ColumnTransformer\n",
    "from sklearn.preprocessing import OneHotEncoder\n",
    "\n",
    "ct = ColumnTransformer(\n",
    "    [\n",
    "        (\"one_hot_encoding\", OneHotEncoder(), [3])\n",
    "    ],  # The column numbers to be transformed (here is [3] but can be [0, 1, 3])\n",
    "    remainder=\"passthrough\",  # Leave the rest of the columns untouched\n",
    ")\n",
    "\n",
    "X = ct.fit_transform(X)"
   ]
  },
  {
   "cell_type": "code",
   "execution_count": 193,
   "metadata": {},
   "outputs": [
    {
     "data": {
      "text/plain": [
       "array([[0.0, 0.0, 1.0, 165349.30000000002, 136897.9, 471784.2],\n",
       "       [1.0, 0.0, 0.0, 162597.80000000002, 151377.69, 443898.63],\n",
       "       [0.0, 1.0, 0.0, 153441.61000000002, 101145.65, 407934.64],\n",
       "       [0.0, 0.0, 1.0, 144372.51, 118671.95, 383199.72],\n",
       "       [0.0, 1.0, 0.0, 142107.44, 91391.87, 366168.52],\n",
       "       [0.0, 0.0, 1.0, 131877.0, 99814.81, 362861.46],\n",
       "       [1.0, 0.0, 0.0, 134615.56, 147198.97, 127716.92],\n",
       "       [0.0, 1.0, 0.0, 130298.23, 145530.16, 323876.78],\n",
       "       [0.0, 0.0, 1.0, 120542.62, 148719.05000000002, 311613.39],\n",
       "       [1.0, 0.0, 0.0, 123334.98, 108679.27, 304981.72]], dtype=object)"
      ]
     },
     "execution_count": 193,
     "metadata": {},
     "output_type": "execute_result"
    }
   ],
   "source": [
    "X[:10]"
   ]
  },
  {
   "cell_type": "code",
   "execution_count": 194,
   "metadata": {
    "colab": {
     "base_uri": "https://localhost:8080/"
    },
    "id": "eCqEsHDFCE-g",
    "outputId": "645de56d-867f-4421-eb55-29a8588a4146"
   },
   "outputs": [
    {
     "data": {
      "text/plain": [
       "[('one_hot_encoding', OneHotEncoder(), [3]),\n",
       " ('remainder',\n",
       "  FunctionTransformer(accept_sparse=True, check_inverse=False,\n",
       "                      feature_names_out='one-to-one'),\n",
       "  [0, 1, 2])]"
      ]
     },
     "execution_count": 194,
     "metadata": {},
     "output_type": "execute_result"
    }
   ],
   "source": [
    "ct.transformers_"
   ]
  },
  {
   "cell_type": "code",
   "execution_count": 195,
   "metadata": {
    "colab": {
     "base_uri": "https://localhost:8080/"
    },
    "id": "dJcv86QYbReC",
    "outputId": "8943a00d-04fa-48b7-b1ca-5ef08f9247a4"
   },
   "outputs": [
    {
     "data": {
      "text/plain": [
       "array([[0.0, 0.0, 1.0, 165349.30000000002, 136897.9, 471784.2],\n",
       "       [1.0, 0.0, 0.0, 162597.80000000002, 151377.69, 443898.63],\n",
       "       [0.0, 1.0, 0.0, 153441.61000000002, 101145.65, 407934.64],\n",
       "       [0.0, 0.0, 1.0, 144372.51, 118671.95, 383199.72],\n",
       "       [0.0, 1.0, 0.0, 142107.44, 91391.87, 366168.52],\n",
       "       [0.0, 0.0, 1.0, 131877.0, 99814.81, 362861.46],\n",
       "       [1.0, 0.0, 0.0, 134615.56, 147198.97, 127716.92],\n",
       "       [0.0, 1.0, 0.0, 130298.23, 145530.16, 323876.78],\n",
       "       [0.0, 0.0, 1.0, 120542.62, 148719.05000000002, 311613.39],\n",
       "       [1.0, 0.0, 0.0, 123334.98, 108679.27, 304981.72]], dtype=object)"
      ]
     },
     "execution_count": 195,
     "metadata": {},
     "output_type": "execute_result"
    }
   ],
   "source": [
    "X[:10]"
   ]
  },
  {
   "cell_type": "markdown",
   "metadata": {
    "id": "DRUqGhnUcNpE"
   },
   "source": [
    "**Avoiding Dummy Value Trap:**\n",
    "\n",
    "As we can see in the above output, the state column has been converted into dummy variables (0 and 1). Here each dummy variable column is corresponding to the one State. We can check by comparing it with the original dataset. The first column corresponds to California State, the second column corresponds to Florida State, and the third column corresponds to New York State.\n",
    "\n",
    "**Note:** We should not use all the dummy variables at the same time, so it must be 1 less than the total number of dummy variables, else it will create a dummy variable trap. If we do not remove the first dummy variable, then it may introduce multicollinearity in the model.\n",
    "\n",
    "Now, we are writing a single line of code just to avoid the dummy variable trap:\n"
   ]
  },
  {
   "cell_type": "code",
   "execution_count": 196,
   "metadata": {
    "id": "sp5ea7NUXSoM"
   },
   "outputs": [],
   "source": [
    "X = X[:, 1:]"
   ]
  },
  {
   "cell_type": "code",
   "execution_count": 197,
   "metadata": {
    "colab": {
     "base_uri": "https://localhost:8080/"
    },
    "id": "FeT4mPqPCg6j",
    "outputId": "010718e7-1ee5-4adc-e487-8580221fc488"
   },
   "outputs": [
    {
     "data": {
      "text/plain": [
       "array([[0.0, 1.0, 165349.30000000002, 136897.9, 471784.2],\n",
       "       [0.0, 0.0, 162597.80000000002, 151377.69, 443898.63],\n",
       "       [1.0, 0.0, 153441.61000000002, 101145.65, 407934.64],\n",
       "       [0.0, 1.0, 144372.51, 118671.95, 383199.72],\n",
       "       [1.0, 0.0, 142107.44, 91391.87, 366168.52],\n",
       "       [0.0, 1.0, 131877.0, 99814.81, 362861.46],\n",
       "       [0.0, 0.0, 134615.56, 147198.97, 127716.92],\n",
       "       [1.0, 0.0, 130298.23, 145530.16, 323876.78],\n",
       "       [0.0, 1.0, 120542.62, 148719.05000000002, 311613.39],\n",
       "       [0.0, 0.0, 123334.98, 108679.27, 304981.72]], dtype=object)"
      ]
     },
     "execution_count": 197,
     "metadata": {},
     "output_type": "execute_result"
    }
   ],
   "source": [
    "X[:10]"
   ]
  },
  {
   "cell_type": "markdown",
   "metadata": {},
   "source": [
    "# StandardScaler Demonstration\n",
    "\n",
    "This repository demonstrates how to use `StandardScaler` from `sklearn.preprocessing` to standardize data using the formula:\n",
    "\n",
    "\\[\n",
    "z = \\frac{x - \\mu}{\\sigma}\n",
    "\\]\n",
    "\n",
    "where:\n",
    "- \\( x \\) is the input value\n",
    "- \\( \\mu \\) is the mean of the dataset\n",
    "- \\( \\sigma \\) is the standard deviation of the dataset\n",
    "\n",
    "\n",
    "## Code Example\n",
    "\n",
    "```python\n",
    "import numpy as np\n",
    "from sklearn.preprocessing import StandardScaler\n",
    "\n",
    "# Sample data\n",
    "X = np.array([[1.0, 2.0, 3.0],\n",
    "              [4.0, 5.0, 6.0],\n",
    "              [7.0, 8.0, 9.0]])\n",
    "\n",
    "# Initialize StandardScaler\n",
    "scaler = StandardScaler()\n",
    "\n",
    "# Fit and transform the data\n",
    "X_scaled = scaler.fit_transform(X)\n",
    "\n",
    "# Display results\n",
    "print(\"Original Data:\")\n",
    "print(X)\n",
    "\n",
    "print(\"\\nMean (\\u):\")\n",
    "print(scaler.mean_)\n",
    "\n",
    "print(\"\\nStandard Deviation (\\u03c3):\")\n",
    "print(np.sqrt(scaler.var_))\n",
    "\n",
    "print(\"\\nStandardized Data (z):\")\n",
    "print(X_scaled)\n",
    "```\n",
    "\n",
    "## Output Example\n",
    "\n",
    "Running the above code will produce:\n",
    "\n",
    "```\n",
    "Original Data:\n",
    "[[1. 2. 3.]\n",
    " [4. 5. 6.]\n",
    " [7. 8. 9.]]\n",
    "\n",
    "Mean (\\u):\n",
    "[4. 5. 6.]\n",
    "\n",
    "Standard Deviation (\\u03c3):\n",
    "[2.44948974 2.44948974 2.44948974]\n",
    "\n",
    "Standardized Data (z):\n",
    "[[-1.22474487 -1.22474487 -1.22474487]\n",
    " [ 0.          0.          0.        ]\n",
    " [ 1.22474487  1.22474487  1.22474487]]\n",
    "```\n",
    "\n",
    "## Explanation\n",
    "The `StandardScaler` works by:\n",
    "1. Calculating the mean (μ) and standard deviation (σ) for each feature.\n",
    "2. Transforming each value using \\( z = \\frac{x - \\mu}{\\sigma} \\).\n",
    "\n",
    "This ensures the transformed data has a mean of 0 and a standard deviation of 1.\n",
    "\n"
   ]
  },
  {
   "cell_type": "markdown",
   "metadata": {
    "id": "HsyYmFjL-GnG"
   },
   "source": [
    "**standardising the input data**"
   ]
  },
  {
   "cell_type": "code",
   "execution_count": 198,
   "metadata": {},
   "outputs": [
    {
     "data": {
      "text/latex": [
       "$\\displaystyle z = \\frac{x - \\mu}{\\sigma}$"
      ],
      "text/plain": [
       "<IPython.core.display.Math object>"
      ]
     },
     "metadata": {},
     "output_type": "display_data"
    }
   ],
   "source": [
    "from IPython.display import display, Math\n",
    "# Display the equation\n",
    "display(Math(r\"z = \\frac{x - \\mu}{\\sigma}\"))"
   ]
  },
  {
   "cell_type": "code",
   "execution_count": 199,
   "metadata": {
    "colab": {
     "base_uri": "https://localhost:8080/"
    },
    "id": "PApvzKZd-EwC",
    "outputId": "d289f62c-2a33-4800-ddaa-9a7d7e82c0eb"
   },
   "outputs": [
    {
     "data": {
      "text/plain": [
       "array([[0.0, 1.3932610920384718, 2.016411493158463, 0.5607529145307739,\n",
       "        471784.2],\n",
       "       [0.0, -0.7177405625652735, 1.9558603364325031, 1.0828065830760805,\n",
       "        443898.63],\n",
       "       [1.0, -0.7177405625652735, 1.7543637361407838,\n",
       "        -0.7282570276886176, 407934.64],\n",
       "       [0.0, 1.3932610920384718, 1.5547836905426, -0.09636463069766663,\n",
       "        383199.72],\n",
       "       [1.0, -0.7177405625652735, 1.5049372036935105, -1.079919353674273,\n",
       "        366168.52],\n",
       "       [0.0, 1.3932610920384718, 1.2798000145910104, -0.7762390705391584,\n",
       "        362861.46],\n",
       "       [0.0, -0.7177405625652735, 1.3400664059278975, 0.932147208470258,\n",
       "        127716.92],\n",
       "       [1.0, -0.7177405625652735, 1.2450566565302277, 0.8719800111141436,\n",
       "        323876.78],\n",
       "       [0.0, 1.3932610920384718, 1.0303688607579795, 0.9869521013922103,\n",
       "        311613.39],\n",
       "       [0.0, -0.7177405625652735, 1.0918192071128046,\n",
       "        -0.4566402460622062, 304981.72]], dtype=object)"
      ]
     },
     "execution_count": 199,
     "metadata": {},
     "output_type": "execute_result"
    }
   ],
   "source": [
    "# normalization\n",
    "from sklearn.preprocessing import StandardScaler, MinMaxScaler\n",
    "\n",
    "sc = StandardScaler()       \n",
    "# normalization -> (x - mean) / std -> unnomalization -> (x*std) + mean\n",
    "X[:, 1:4] = sc.fit_transform(X[:, 1:4])\n",
    "X[:10]"
   ]
  },
  {
   "cell_type": "code",
   "execution_count": 200,
   "metadata": {},
   "outputs": [
    {
     "data": {
      "text/plain": [
       "(array([3.40000000e-01, 7.37217156e+04, 1.21344740e+05]),\n",
       " array([4.73708771e-01, 4.54409156e+04, 2.77362097e+04]))"
      ]
     },
     "execution_count": 200,
     "metadata": {},
     "output_type": "execute_result"
    }
   ],
   "source": [
    "sc.mean_, sc.var_**0.5"
   ]
  },
  {
   "cell_type": "markdown",
   "metadata": {
    "id": "eoymb-2JcYmk"
   },
   "source": [
    "# **Step 2: Fitting our MLR model to the Training set:**\n",
    "Now, we have well prepared our dataset in order to provide training, which means we will fit our regression model to the training set. It will be similar to as we did in the Simple Linear Regression model. The code for this will be:"
   ]
  },
  {
   "cell_type": "code",
   "execution_count": 201,
   "metadata": {
    "id": "ylnTXNwskCH9"
   },
   "outputs": [],
   "source": [
    "# multiple liner\n",
    "from sklearn.linear_model import LinearRegression\n",
    "\n",
    "mlr = LinearRegression()"
   ]
  },
  {
   "cell_type": "code",
   "execution_count": 202,
   "metadata": {
    "colab": {
     "base_uri": "https://localhost:8080/"
    },
    "id": "000PUUR1W5Wx",
    "outputId": "3125cf5e-3a86-47e7-eb31-f69e0c438c4f"
   },
   "outputs": [
    {
     "data": {
      "text/html": [
       "<style>#sk-container-id-7 {\n",
       "  /* Definition of color scheme common for light and dark mode */\n",
       "  --sklearn-color-text: black;\n",
       "  --sklearn-color-line: gray;\n",
       "  /* Definition of color scheme for unfitted estimators */\n",
       "  --sklearn-color-unfitted-level-0: #fff5e6;\n",
       "  --sklearn-color-unfitted-level-1: #f6e4d2;\n",
       "  --sklearn-color-unfitted-level-2: #ffe0b3;\n",
       "  --sklearn-color-unfitted-level-3: chocolate;\n",
       "  /* Definition of color scheme for fitted estimators */\n",
       "  --sklearn-color-fitted-level-0: #f0f8ff;\n",
       "  --sklearn-color-fitted-level-1: #d4ebff;\n",
       "  --sklearn-color-fitted-level-2: #b3dbfd;\n",
       "  --sklearn-color-fitted-level-3: cornflowerblue;\n",
       "\n",
       "  /* Specific color for light theme */\n",
       "  --sklearn-color-text-on-default-background: var(--sg-text-color, var(--theme-code-foreground, var(--jp-content-font-color1, black)));\n",
       "  --sklearn-color-background: var(--sg-background-color, var(--theme-background, var(--jp-layout-color0, white)));\n",
       "  --sklearn-color-border-box: var(--sg-text-color, var(--theme-code-foreground, var(--jp-content-font-color1, black)));\n",
       "  --sklearn-color-icon: #696969;\n",
       "\n",
       "  @media (prefers-color-scheme: dark) {\n",
       "    /* Redefinition of color scheme for dark theme */\n",
       "    --sklearn-color-text-on-default-background: var(--sg-text-color, var(--theme-code-foreground, var(--jp-content-font-color1, white)));\n",
       "    --sklearn-color-background: var(--sg-background-color, var(--theme-background, var(--jp-layout-color0, #111)));\n",
       "    --sklearn-color-border-box: var(--sg-text-color, var(--theme-code-foreground, var(--jp-content-font-color1, white)));\n",
       "    --sklearn-color-icon: #878787;\n",
       "  }\n",
       "}\n",
       "\n",
       "#sk-container-id-7 {\n",
       "  color: var(--sklearn-color-text);\n",
       "}\n",
       "\n",
       "#sk-container-id-7 pre {\n",
       "  padding: 0;\n",
       "}\n",
       "\n",
       "#sk-container-id-7 input.sk-hidden--visually {\n",
       "  border: 0;\n",
       "  clip: rect(1px 1px 1px 1px);\n",
       "  clip: rect(1px, 1px, 1px, 1px);\n",
       "  height: 1px;\n",
       "  margin: -1px;\n",
       "  overflow: hidden;\n",
       "  padding: 0;\n",
       "  position: absolute;\n",
       "  width: 1px;\n",
       "}\n",
       "\n",
       "#sk-container-id-7 div.sk-dashed-wrapped {\n",
       "  border: 1px dashed var(--sklearn-color-line);\n",
       "  margin: 0 0.4em 0.5em 0.4em;\n",
       "  box-sizing: border-box;\n",
       "  padding-bottom: 0.4em;\n",
       "  background-color: var(--sklearn-color-background);\n",
       "}\n",
       "\n",
       "#sk-container-id-7 div.sk-container {\n",
       "  /* jupyter's `normalize.less` sets `[hidden] { display: none; }`\n",
       "     but bootstrap.min.css set `[hidden] { display: none !important; }`\n",
       "     so we also need the `!important` here to be able to override the\n",
       "     default hidden behavior on the sphinx rendered scikit-learn.org.\n",
       "     See: https://github.com/scikit-learn/scikit-learn/issues/21755 */\n",
       "  display: inline-block !important;\n",
       "  position: relative;\n",
       "}\n",
       "\n",
       "#sk-container-id-7 div.sk-text-repr-fallback {\n",
       "  display: none;\n",
       "}\n",
       "\n",
       "div.sk-parallel-item,\n",
       "div.sk-serial,\n",
       "div.sk-item {\n",
       "  /* draw centered vertical line to link estimators */\n",
       "  background-image: linear-gradient(var(--sklearn-color-text-on-default-background), var(--sklearn-color-text-on-default-background));\n",
       "  background-size: 2px 100%;\n",
       "  background-repeat: no-repeat;\n",
       "  background-position: center center;\n",
       "}\n",
       "\n",
       "/* Parallel-specific style estimator block */\n",
       "\n",
       "#sk-container-id-7 div.sk-parallel-item::after {\n",
       "  content: \"\";\n",
       "  width: 100%;\n",
       "  border-bottom: 2px solid var(--sklearn-color-text-on-default-background);\n",
       "  flex-grow: 1;\n",
       "}\n",
       "\n",
       "#sk-container-id-7 div.sk-parallel {\n",
       "  display: flex;\n",
       "  align-items: stretch;\n",
       "  justify-content: center;\n",
       "  background-color: var(--sklearn-color-background);\n",
       "  position: relative;\n",
       "}\n",
       "\n",
       "#sk-container-id-7 div.sk-parallel-item {\n",
       "  display: flex;\n",
       "  flex-direction: column;\n",
       "}\n",
       "\n",
       "#sk-container-id-7 div.sk-parallel-item:first-child::after {\n",
       "  align-self: flex-end;\n",
       "  width: 50%;\n",
       "}\n",
       "\n",
       "#sk-container-id-7 div.sk-parallel-item:last-child::after {\n",
       "  align-self: flex-start;\n",
       "  width: 50%;\n",
       "}\n",
       "\n",
       "#sk-container-id-7 div.sk-parallel-item:only-child::after {\n",
       "  width: 0;\n",
       "}\n",
       "\n",
       "/* Serial-specific style estimator block */\n",
       "\n",
       "#sk-container-id-7 div.sk-serial {\n",
       "  display: flex;\n",
       "  flex-direction: column;\n",
       "  align-items: center;\n",
       "  background-color: var(--sklearn-color-background);\n",
       "  padding-right: 1em;\n",
       "  padding-left: 1em;\n",
       "}\n",
       "\n",
       "\n",
       "/* Toggleable style: style used for estimator/Pipeline/ColumnTransformer box that is\n",
       "clickable and can be expanded/collapsed.\n",
       "- Pipeline and ColumnTransformer use this feature and define the default style\n",
       "- Estimators will overwrite some part of the style using the `sk-estimator` class\n",
       "*/\n",
       "\n",
       "/* Pipeline and ColumnTransformer style (default) */\n",
       "\n",
       "#sk-container-id-7 div.sk-toggleable {\n",
       "  /* Default theme specific background. It is overwritten whether we have a\n",
       "  specific estimator or a Pipeline/ColumnTransformer */\n",
       "  background-color: var(--sklearn-color-background);\n",
       "}\n",
       "\n",
       "/* Toggleable label */\n",
       "#sk-container-id-7 label.sk-toggleable__label {\n",
       "  cursor: pointer;\n",
       "  display: block;\n",
       "  width: 100%;\n",
       "  margin-bottom: 0;\n",
       "  padding: 0.5em;\n",
       "  box-sizing: border-box;\n",
       "  text-align: center;\n",
       "}\n",
       "\n",
       "#sk-container-id-7 label.sk-toggleable__label-arrow:before {\n",
       "  /* Arrow on the left of the label */\n",
       "  content: \"▸\";\n",
       "  float: left;\n",
       "  margin-right: 0.25em;\n",
       "  color: var(--sklearn-color-icon);\n",
       "}\n",
       "\n",
       "#sk-container-id-7 label.sk-toggleable__label-arrow:hover:before {\n",
       "  color: var(--sklearn-color-text);\n",
       "}\n",
       "\n",
       "/* Toggleable content - dropdown */\n",
       "\n",
       "#sk-container-id-7 div.sk-toggleable__content {\n",
       "  max-height: 0;\n",
       "  max-width: 0;\n",
       "  overflow: hidden;\n",
       "  text-align: left;\n",
       "  /* unfitted */\n",
       "  background-color: var(--sklearn-color-unfitted-level-0);\n",
       "}\n",
       "\n",
       "#sk-container-id-7 div.sk-toggleable__content.fitted {\n",
       "  /* fitted */\n",
       "  background-color: var(--sklearn-color-fitted-level-0);\n",
       "}\n",
       "\n",
       "#sk-container-id-7 div.sk-toggleable__content pre {\n",
       "  margin: 0.2em;\n",
       "  border-radius: 0.25em;\n",
       "  color: var(--sklearn-color-text);\n",
       "  /* unfitted */\n",
       "  background-color: var(--sklearn-color-unfitted-level-0);\n",
       "}\n",
       "\n",
       "#sk-container-id-7 div.sk-toggleable__content.fitted pre {\n",
       "  /* unfitted */\n",
       "  background-color: var(--sklearn-color-fitted-level-0);\n",
       "}\n",
       "\n",
       "#sk-container-id-7 input.sk-toggleable__control:checked~div.sk-toggleable__content {\n",
       "  /* Expand drop-down */\n",
       "  max-height: 200px;\n",
       "  max-width: 100%;\n",
       "  overflow: auto;\n",
       "}\n",
       "\n",
       "#sk-container-id-7 input.sk-toggleable__control:checked~label.sk-toggleable__label-arrow:before {\n",
       "  content: \"▾\";\n",
       "}\n",
       "\n",
       "/* Pipeline/ColumnTransformer-specific style */\n",
       "\n",
       "#sk-container-id-7 div.sk-label input.sk-toggleable__control:checked~label.sk-toggleable__label {\n",
       "  color: var(--sklearn-color-text);\n",
       "  background-color: var(--sklearn-color-unfitted-level-2);\n",
       "}\n",
       "\n",
       "#sk-container-id-7 div.sk-label.fitted input.sk-toggleable__control:checked~label.sk-toggleable__label {\n",
       "  background-color: var(--sklearn-color-fitted-level-2);\n",
       "}\n",
       "\n",
       "/* Estimator-specific style */\n",
       "\n",
       "/* Colorize estimator box */\n",
       "#sk-container-id-7 div.sk-estimator input.sk-toggleable__control:checked~label.sk-toggleable__label {\n",
       "  /* unfitted */\n",
       "  background-color: var(--sklearn-color-unfitted-level-2);\n",
       "}\n",
       "\n",
       "#sk-container-id-7 div.sk-estimator.fitted input.sk-toggleable__control:checked~label.sk-toggleable__label {\n",
       "  /* fitted */\n",
       "  background-color: var(--sklearn-color-fitted-level-2);\n",
       "}\n",
       "\n",
       "#sk-container-id-7 div.sk-label label.sk-toggleable__label,\n",
       "#sk-container-id-7 div.sk-label label {\n",
       "  /* The background is the default theme color */\n",
       "  color: var(--sklearn-color-text-on-default-background);\n",
       "}\n",
       "\n",
       "/* On hover, darken the color of the background */\n",
       "#sk-container-id-7 div.sk-label:hover label.sk-toggleable__label {\n",
       "  color: var(--sklearn-color-text);\n",
       "  background-color: var(--sklearn-color-unfitted-level-2);\n",
       "}\n",
       "\n",
       "/* Label box, darken color on hover, fitted */\n",
       "#sk-container-id-7 div.sk-label.fitted:hover label.sk-toggleable__label.fitted {\n",
       "  color: var(--sklearn-color-text);\n",
       "  background-color: var(--sklearn-color-fitted-level-2);\n",
       "}\n",
       "\n",
       "/* Estimator label */\n",
       "\n",
       "#sk-container-id-7 div.sk-label label {\n",
       "  font-family: monospace;\n",
       "  font-weight: bold;\n",
       "  display: inline-block;\n",
       "  line-height: 1.2em;\n",
       "}\n",
       "\n",
       "#sk-container-id-7 div.sk-label-container {\n",
       "  text-align: center;\n",
       "}\n",
       "\n",
       "/* Estimator-specific */\n",
       "#sk-container-id-7 div.sk-estimator {\n",
       "  font-family: monospace;\n",
       "  border: 1px dotted var(--sklearn-color-border-box);\n",
       "  border-radius: 0.25em;\n",
       "  box-sizing: border-box;\n",
       "  margin-bottom: 0.5em;\n",
       "  /* unfitted */\n",
       "  background-color: var(--sklearn-color-unfitted-level-0);\n",
       "}\n",
       "\n",
       "#sk-container-id-7 div.sk-estimator.fitted {\n",
       "  /* fitted */\n",
       "  background-color: var(--sklearn-color-fitted-level-0);\n",
       "}\n",
       "\n",
       "/* on hover */\n",
       "#sk-container-id-7 div.sk-estimator:hover {\n",
       "  /* unfitted */\n",
       "  background-color: var(--sklearn-color-unfitted-level-2);\n",
       "}\n",
       "\n",
       "#sk-container-id-7 div.sk-estimator.fitted:hover {\n",
       "  /* fitted */\n",
       "  background-color: var(--sklearn-color-fitted-level-2);\n",
       "}\n",
       "\n",
       "/* Specification for estimator info (e.g. \"i\" and \"?\") */\n",
       "\n",
       "/* Common style for \"i\" and \"?\" */\n",
       "\n",
       ".sk-estimator-doc-link,\n",
       "a:link.sk-estimator-doc-link,\n",
       "a:visited.sk-estimator-doc-link {\n",
       "  float: right;\n",
       "  font-size: smaller;\n",
       "  line-height: 1em;\n",
       "  font-family: monospace;\n",
       "  background-color: var(--sklearn-color-background);\n",
       "  border-radius: 1em;\n",
       "  height: 1em;\n",
       "  width: 1em;\n",
       "  text-decoration: none !important;\n",
       "  margin-left: 1ex;\n",
       "  /* unfitted */\n",
       "  border: var(--sklearn-color-unfitted-level-1) 1pt solid;\n",
       "  color: var(--sklearn-color-unfitted-level-1);\n",
       "}\n",
       "\n",
       ".sk-estimator-doc-link.fitted,\n",
       "a:link.sk-estimator-doc-link.fitted,\n",
       "a:visited.sk-estimator-doc-link.fitted {\n",
       "  /* fitted */\n",
       "  border: var(--sklearn-color-fitted-level-1) 1pt solid;\n",
       "  color: var(--sklearn-color-fitted-level-1);\n",
       "}\n",
       "\n",
       "/* On hover */\n",
       "div.sk-estimator:hover .sk-estimator-doc-link:hover,\n",
       ".sk-estimator-doc-link:hover,\n",
       "div.sk-label-container:hover .sk-estimator-doc-link:hover,\n",
       ".sk-estimator-doc-link:hover {\n",
       "  /* unfitted */\n",
       "  background-color: var(--sklearn-color-unfitted-level-3);\n",
       "  color: var(--sklearn-color-background);\n",
       "  text-decoration: none;\n",
       "}\n",
       "\n",
       "div.sk-estimator.fitted:hover .sk-estimator-doc-link.fitted:hover,\n",
       ".sk-estimator-doc-link.fitted:hover,\n",
       "div.sk-label-container:hover .sk-estimator-doc-link.fitted:hover,\n",
       ".sk-estimator-doc-link.fitted:hover {\n",
       "  /* fitted */\n",
       "  background-color: var(--sklearn-color-fitted-level-3);\n",
       "  color: var(--sklearn-color-background);\n",
       "  text-decoration: none;\n",
       "}\n",
       "\n",
       "/* Span, style for the box shown on hovering the info icon */\n",
       ".sk-estimator-doc-link span {\n",
       "  display: none;\n",
       "  z-index: 9999;\n",
       "  position: relative;\n",
       "  font-weight: normal;\n",
       "  right: .2ex;\n",
       "  padding: .5ex;\n",
       "  margin: .5ex;\n",
       "  width: min-content;\n",
       "  min-width: 20ex;\n",
       "  max-width: 50ex;\n",
       "  color: var(--sklearn-color-text);\n",
       "  box-shadow: 2pt 2pt 4pt #999;\n",
       "  /* unfitted */\n",
       "  background: var(--sklearn-color-unfitted-level-0);\n",
       "  border: .5pt solid var(--sklearn-color-unfitted-level-3);\n",
       "}\n",
       "\n",
       ".sk-estimator-doc-link.fitted span {\n",
       "  /* fitted */\n",
       "  background: var(--sklearn-color-fitted-level-0);\n",
       "  border: var(--sklearn-color-fitted-level-3);\n",
       "}\n",
       "\n",
       ".sk-estimator-doc-link:hover span {\n",
       "  display: block;\n",
       "}\n",
       "\n",
       "/* \"?\"-specific style due to the `<a>` HTML tag */\n",
       "\n",
       "#sk-container-id-7 a.estimator_doc_link {\n",
       "  float: right;\n",
       "  font-size: 1rem;\n",
       "  line-height: 1em;\n",
       "  font-family: monospace;\n",
       "  background-color: var(--sklearn-color-background);\n",
       "  border-radius: 1rem;\n",
       "  height: 1rem;\n",
       "  width: 1rem;\n",
       "  text-decoration: none;\n",
       "  /* unfitted */\n",
       "  color: var(--sklearn-color-unfitted-level-1);\n",
       "  border: var(--sklearn-color-unfitted-level-1) 1pt solid;\n",
       "}\n",
       "\n",
       "#sk-container-id-7 a.estimator_doc_link.fitted {\n",
       "  /* fitted */\n",
       "  border: var(--sklearn-color-fitted-level-1) 1pt solid;\n",
       "  color: var(--sklearn-color-fitted-level-1);\n",
       "}\n",
       "\n",
       "/* On hover */\n",
       "#sk-container-id-7 a.estimator_doc_link:hover {\n",
       "  /* unfitted */\n",
       "  background-color: var(--sklearn-color-unfitted-level-3);\n",
       "  color: var(--sklearn-color-background);\n",
       "  text-decoration: none;\n",
       "}\n",
       "\n",
       "#sk-container-id-7 a.estimator_doc_link.fitted:hover {\n",
       "  /* fitted */\n",
       "  background-color: var(--sklearn-color-fitted-level-3);\n",
       "}\n",
       "</style><div id=\"sk-container-id-7\" class=\"sk-top-container\"><div class=\"sk-text-repr-fallback\"><pre>LinearRegression()</pre><b>In a Jupyter environment, please rerun this cell to show the HTML representation or trust the notebook. <br />On GitHub, the HTML representation is unable to render, please try loading this page with nbviewer.org.</b></div><div class=\"sk-container\" hidden><div class=\"sk-item\"><div class=\"sk-estimator fitted sk-toggleable\"><input class=\"sk-toggleable__control sk-hidden--visually\" id=\"sk-estimator-id-7\" type=\"checkbox\" checked><label for=\"sk-estimator-id-7\" class=\"sk-toggleable__label fitted sk-toggleable__label-arrow fitted\">&nbsp;&nbsp;LinearRegression<a class=\"sk-estimator-doc-link fitted\" rel=\"noreferrer\" target=\"_blank\" href=\"https://scikit-learn.org/1.5/modules/generated/sklearn.linear_model.LinearRegression.html\">?<span>Documentation for LinearRegression</span></a><span class=\"sk-estimator-doc-link fitted\">i<span>Fitted</span></span></label><div class=\"sk-toggleable__content fitted\"><pre>LinearRegression()</pre></div> </div></div></div></div>"
      ],
      "text/plain": [
       "LinearRegression()"
      ]
     },
     "execution_count": 202,
     "metadata": {},
     "output_type": "execute_result"
    }
   ],
   "source": [
    "mlr.fit(X, Y)"
   ]
  },
  {
   "cell_type": "code",
   "execution_count": 203,
   "metadata": {},
   "outputs": [
    {
     "data": {
      "text/plain": [
       "95.07524843355148"
      ]
     },
     "execution_count": 203,
     "metadata": {},
     "output_type": "execute_result"
    }
   ],
   "source": [
    "mlr.score(X, Y) * 100"
   ]
  },
  {
   "cell_type": "code",
   "execution_count": 204,
   "metadata": {},
   "outputs": [
    {
     "data": {
      "text/plain": [
       "array([[ 1.98788793e+02, -1.98422484e+01,  3.66264283e+04,\n",
       "        -7.48997469e+02,  2.69798610e-02]])"
      ]
     },
     "execution_count": 204,
     "metadata": {},
     "output_type": "execute_result"
    }
   ],
   "source": [
    "mlr.coef_"
   ]
  },
  {
   "cell_type": "code",
   "execution_count": 205,
   "metadata": {},
   "outputs": [
    {
     "data": {
      "text/plain": [
       "array([106255.69627487])"
      ]
     },
     "execution_count": 205,
     "metadata": {},
     "output_type": "execute_result"
    }
   ],
   "source": [
    "mlr.intercept_"
   ]
  },
  {
   "cell_type": "markdown",
   "metadata": {
    "id": "mJzs3rFccgE0"
   },
   "source": [
    "# **Step 3:Prediction of Test set results:**\n",
    "\n",
    "The last step for our model is checking the performance of the model. We will do it by predicting the test set result.\n",
    "\n",
    "For that we will prive another csv file as an input as follows:\n",
    "\n",
    "![alt text](https://lh6.googleusercontent.com/3kCiVkOH0T1GcjKiz2KDzuscLbzlFuV3KEriCZBA_LcfMOhlnAuFWHhkGSKoBEAGCTe7WEeuO0t3XXmpoYTOx7zIqP-Sph09RFjll6PfDd_4Egxu6SzuUC8IWacR8S29Gl0SaDSI)\n",
    "\n",
    "**We will perform the same data preprocessing steps on this dataset too as follows:**\n"
   ]
  },
  {
   "cell_type": "code",
   "execution_count": 206,
   "metadata": {
    "colab": {
     "base_uri": "https://localhost:8080/",
     "height": 81
    },
    "id": "btjwtdUydptY",
    "outputId": "e2bdcbe9-7dbf-430d-cc30-d5a06e3c3b10"
   },
   "outputs": [
    {
     "data": {
      "text/html": [
       "<div>\n",
       "<style scoped>\n",
       "    .dataframe tbody tr th:only-of-type {\n",
       "        vertical-align: middle;\n",
       "    }\n",
       "\n",
       "    .dataframe tbody tr th {\n",
       "        vertical-align: top;\n",
       "    }\n",
       "\n",
       "    .dataframe thead th {\n",
       "        text-align: right;\n",
       "    }\n",
       "</style>\n",
       "<table border=\"1\" class=\"dataframe\">\n",
       "  <thead>\n",
       "    <tr style=\"text-align: right;\">\n",
       "      <th></th>\n",
       "      <th>R&amp;D Spend</th>\n",
       "      <th>Administration</th>\n",
       "      <th>Maketing Spend</th>\n",
       "      <th>State</th>\n",
       "    </tr>\n",
       "  </thead>\n",
       "  <tbody>\n",
       "    <tr>\n",
       "      <th>0</th>\n",
       "      <td>175348</td>\n",
       "      <td>116897</td>\n",
       "      <td>671784.1</td>\n",
       "      <td>New York</td>\n",
       "    </tr>\n",
       "  </tbody>\n",
       "</table>\n",
       "</div>"
      ],
      "text/plain": [
       "   R&D Spend  Administration  Maketing Spend     State\n",
       "0     175348          116897        671784.1  New York"
      ]
     },
     "execution_count": 206,
     "metadata": {},
     "output_type": "execute_result"
    }
   ],
   "source": [
    "# let's create input data\n",
    "\n",
    "df1 = pd.DataFrame(\n",
    "    {\n",
    "        \"R&D Spend\": 175348,\n",
    "        \"Administration\": 116897,\n",
    "        \"Maketing Spend\": 671784.1,\n",
    "        \"State\": \"New York\",\n",
    "    },\n",
    "    index=[0],\n",
    ")\n",
    "df1"
   ]
  },
  {
   "cell_type": "markdown",
   "metadata": {},
   "source": [
    "# LabelEncoder Transformation\n",
    "\n",
    "## Overview\n",
    "\n",
    "`LabelEncoder` is a class in the `sklearn.preprocessing` module, used to convert categorical labels into numerical format. This transformation is particularly useful when you need to convert categorical data into integers for machine learning models. The encoder assigns an integer to each unique category in the data.\n",
    "\n",
    "## Methods\n",
    "\n",
    "`LabelEncoder` provides the following methods:\n",
    "\n",
    "- **`fit()`**: Learns the mapping of labels to integers.\n",
    "- **`transform()`**: Converts categorical labels into their corresponding integer values.\n",
    "- **`fit_transform()`**: A combination of `fit()` and `transform()`, used to learn the mapping and apply the transformation in a single step.\n",
    "- **`inverse_transform()`**: Converts encoded labels back to the original categorical labels.\n",
    "\n",
    "## Example Usage\n",
    "\n",
    "```python\n",
    "from sklearn.preprocessing import LabelEncoder\n",
    "\n",
    "# Sample data\n",
    "data = ['red', 'green', 'blue', 'green', 'blue', 'red']\n",
    "\n",
    "# Initialize LabelEncoder\n",
    "encoder = LabelEncoder()\n",
    "\n",
    "# Fit the encoder and transform the data\n",
    "encoded_labels = encoder.fit_transform(data)\n",
    "print(\"Encoded Labels:\", encoded_labels)\n",
    "\n",
    "# Inverse transform the encoded labels\n",
    "decoded_labels = encoder.inverse_transform(encoded_labels)\n",
    "print(\"Decoded Labels:\", decoded_labels)\n",
    "```\n",
    "\n",
    "**When to Use LabelEncoder?**\n",
    "LabelEncoder is useful when you need to:\n",
    "\n",
    "Convert categorical labels into numeric form for machine learning algorithms that require numeric input.\n",
    "Prepare data for classification models (e.g., decision trees, random forests, etc.) that cannot process categorical variables directly.\n",
    "However, do not use LabelEncoder if the categories have an ordinal relationship, as the transformation might imply an order (i.e., 0 < 1 < 2). In cases where there is an ordinal relationship, consider using OrdinalEncoder instead.\n",
    "\n",
    "Conclusion\n",
    "`LabelEncoder is a powerful tool for encoding categorical data, transforming it into numeric format for machine learning. It’s most often used when dealing with labels in classification tasks. However, it’s essential to understand that this encoding technique doesn't imply any ordering between the labels, and should be used for non-ordinal data.`\n"
   ]
  },
  {
   "cell_type": "code",
   "execution_count": 207,
   "metadata": {
    "id": "FLX5GIIyXSvG"
   },
   "outputs": [],
   "source": [
    "newx = df1.iloc[:, :].values\n",
    "newx[:, 3] = lec.transform(newx[:, 3])\n",
    "newx = ct.transform(newx)"
   ]
  },
  {
   "cell_type": "code",
   "execution_count": 208,
   "metadata": {
    "colab": {
     "base_uri": "https://localhost:8080/"
    },
    "id": "iZQ4mPjDDDWy",
    "outputId": "8f5843ca-664a-44fa-d1c8-a022af75fdf8"
   },
   "outputs": [
    {
     "data": {
      "text/plain": [
       "array([[0.0, 0.0, 1.0, 175348, 116897, 671784.1]], dtype=object)"
      ]
     },
     "execution_count": 208,
     "metadata": {},
     "output_type": "execute_result"
    }
   ],
   "source": [
    "newx"
   ]
  },
  {
   "cell_type": "code",
   "execution_count": 209,
   "metadata": {
    "colab": {
     "base_uri": "https://localhost:8080/"
    },
    "id": "qDAoZ-3-XS0E",
    "outputId": "4d3ae811-1268-4867-f553-78c6b3cd4e22"
   },
   "outputs": [
    {
     "data": {
      "text/plain": [
       "array([[0.0, 1.0, 175348, 116897, 671784.1]], dtype=object)"
      ]
     },
     "execution_count": 209,
     "metadata": {},
     "output_type": "execute_result"
    }
   ],
   "source": [
    "newx = newx[:, 1:]\n",
    "newx"
   ]
  },
  {
   "cell_type": "code",
   "execution_count": 210,
   "metadata": {
    "colab": {
     "base_uri": "https://localhost:8080/"
    },
    "id": "sjaL42eUDomV",
    "outputId": "0cb2e7d1-63d8-468d-f0d0-62aa7793b0ff"
   },
   "outputs": [
    {
     "data": {
      "text/plain": [
       "array([[0.0, 1.0, 370159.200390895, 0.9501411638714474,\n",
       "        19.845514845764466]], dtype=object)"
      ]
     },
     "execution_count": 210,
     "metadata": {},
     "output_type": "execute_result"
    }
   ],
   "source": [
    "newx[:, 2:] = sc.transform(newx[:, 2:])\n",
    "newx"
   ]
  },
  {
   "cell_type": "code",
   "execution_count": 211,
   "metadata": {
    "colab": {
     "base_uri": "https://localhost:8080/"
    },
    "id": "WDqFuf0GXS3s",
    "outputId": "ac0d6f8a-3270-42cf-dfe2-1224151c3655"
   },
   "outputs": [
    {
     "data": {
      "text/plain": [
       "array([[1.35577149e+10]])"
      ]
     },
     "execution_count": 211,
     "metadata": {},
     "output_type": "execute_result"
    }
   ],
   "source": [
    "ypred = mlr.predict(newx)\n",
    "ypred"
   ]
  },
  {
   "cell_type": "markdown",
   "metadata": {
    "id": "N2OAZYy-c5Vj"
   },
   "source": [
    "**Let's look at the intercept and coefficinets**"
   ]
  },
  {
   "cell_type": "code",
   "execution_count": 212,
   "metadata": {
    "colab": {
     "base_uri": "https://localhost:8080/"
    },
    "id": "6usV82HxdCTX",
    "outputId": "b4339cd9-50f3-4d32-8c42-c04f8bf91566"
   },
   "outputs": [
    {
     "data": {
      "text/plain": [
       "array([[ 1.98788793e+02, -1.98422484e+01,  3.66264283e+04,\n",
       "        -7.48997469e+02,  2.69798610e-02]])"
      ]
     },
     "execution_count": 212,
     "metadata": {},
     "output_type": "execute_result"
    }
   ],
   "source": [
    "mlr.coef_"
   ]
  },
  {
   "cell_type": "code",
   "execution_count": 213,
   "metadata": {
    "colab": {
     "base_uri": "https://localhost:8080/"
    },
    "id": "7yUIeheMdFVQ",
    "outputId": "0447bd07-ad79-4a91-c0e1-2297851a1006"
   },
   "outputs": [
    {
     "data": {
      "text/plain": [
       "array([106255.69627487])"
      ]
     },
     "execution_count": 213,
     "metadata": {},
     "output_type": "execute_result"
    }
   ],
   "source": [
    "mlr.intercept_"
   ]
  },
  {
   "cell_type": "markdown",
   "metadata": {
    "id": "mIKZfL9qdLng"
   },
   "source": [
    "To check how well your model is performing, you can make use of **score()** function."
   ]
  },
  {
   "cell_type": "code",
   "execution_count": 214,
   "metadata": {
    "colab": {
     "base_uri": "https://localhost:8080/"
    },
    "id": "ROFh-gVRdLA4",
    "outputId": "6b80bbc5-6064-40ff-ad93-421e77fc93c3"
   },
   "outputs": [
    {
     "data": {
      "text/plain": [
       "0.9507524843355148"
      ]
     },
     "execution_count": 214,
     "metadata": {},
     "output_type": "execute_result"
    }
   ],
   "source": [
    "mlr.score(X, Y)"
   ]
  },
  {
   "cell_type": "markdown",
   "metadata": {
    "id": "rR4iBHy9daDA"
   },
   "source": [
    "**This tells us that our data is approx 95% accurate.**\n",
    "\n",
    "Now as we did for our Simple Linear Regression model, we will do same here...\n",
    "\n",
    "we will apply our code {algorithm [written in more proper looking format this time]} and we will see both batch gradient descent and stochastic gradient descent."
   ]
  },
  {
   "cell_type": "code",
   "execution_count": 215,
   "metadata": {
    "colab": {
     "base_uri": "https://localhost:8080/"
    },
    "id": "Z_7o0cqDTQCv",
    "outputId": "c2aa9836-2f43-4129-cad8-f33ccfc292ba"
   },
   "outputs": [
    {
     "data": {
      "text/plain": [
       "((5, 50), (50, 1))"
      ]
     },
     "execution_count": 215,
     "metadata": {},
     "output_type": "execute_result"
    }
   ],
   "source": [
    "X.T.shape, Y.shape"
   ]
  },
  {
   "cell_type": "code",
   "execution_count": 216,
   "metadata": {
    "colab": {
     "base_uri": "https://localhost:8080/"
    },
    "id": "BcY-JUP1Qrtp",
    "outputId": "3aa32573-bcad-4e7c-bacd-b9bf80bb047c"
   },
   "outputs": [
    {
     "data": {
      "text/plain": [
       "array([ 0.33834496, -0.65524219, -0.34440011, -0.0797809 , -2.65258119])"
      ]
     },
     "execution_count": 216,
     "metadata": {},
     "output_type": "execute_result"
    }
   ],
   "source": [
    "import numpy as np\n",
    "\n",
    "np.random.randn(5)"
   ]
  },
  {
   "cell_type": "code",
   "execution_count": 217,
   "metadata": {},
   "outputs": [
    {
     "data": {
      "text/plain": [
       "((50, 5), (1, 5))"
      ]
     },
     "execution_count": 217,
     "metadata": {},
     "output_type": "execute_result"
    }
   ],
   "source": [
    "X.shape, np.random.randn(5).reshape(1, 5).shape"
   ]
  },
  {
   "cell_type": "code",
   "execution_count": 218,
   "metadata": {},
   "outputs": [
    {
     "data": {
      "text/plain": [
       "(array([[0.0, 0.0, 1.0, 0.0, 1.0, 0.0, 0.0, 1.0, 0.0, 0.0, 1.0, 0.0, 1.0,\n",
       "         0.0, 1.0, 0.0, 0.0, 0.0, 1.0, 0.0, 0.0, 0.0, 1.0, 1.0, 0.0, 0.0,\n",
       "         1.0, 0.0, 1.0, 0.0, 1.0, 0.0, 0.0, 1.0, 0.0, 0.0, 1.0, 0.0, 0.0,\n",
       "         0.0, 0.0, 1.0, 0.0, 0.0, 0.0, 0.0, 1.0, 0.0, 0.0, 0.0],\n",
       "        [1.3932610920384718, -0.7177405625652735, -0.7177405625652735,\n",
       "         1.3932610920384718, -0.7177405625652735, 1.3932610920384718,\n",
       "         -0.7177405625652735, -0.7177405625652735, 1.3932610920384718,\n",
       "         -0.7177405625652735, -0.7177405625652735, -0.7177405625652735,\n",
       "         -0.7177405625652735, -0.7177405625652735, -0.7177405625652735,\n",
       "         1.3932610920384718, -0.7177405625652735, 1.3932610920384718,\n",
       "         -0.7177405625652735, 1.3932610920384718, -0.7177405625652735,\n",
       "         1.3932610920384718, -0.7177405625652735, -0.7177405625652735,\n",
       "         1.3932610920384718, -0.7177405625652735, -0.7177405625652735,\n",
       "         1.3932610920384718, -0.7177405625652735, 1.3932610920384718,\n",
       "         -0.7177405625652735, 1.3932610920384718, -0.7177405625652735,\n",
       "         -0.7177405625652735, -0.7177405625652735, 1.3932610920384718,\n",
       "         -0.7177405625652735, -0.7177405625652735, 1.3932610920384718,\n",
       "         -0.7177405625652735, -0.7177405625652735, -0.7177405625652735,\n",
       "         -0.7177405625652735, 1.3932610920384718, -0.7177405625652735,\n",
       "         1.3932610920384718, -0.7177405625652735, -0.7177405625652735,\n",
       "         1.3932610920384718, -0.7177405625652735]], dtype=object),\n",
       " array([[192261.93],\n",
       "        [191792.16],\n",
       "        [191050.49],\n",
       "        [182902.09],\n",
       "        [166188.04]]))"
      ]
     },
     "execution_count": 218,
     "metadata": {},
     "output_type": "execute_result"
    }
   ],
   "source": [
    "X.T[:2], Y[:5]"
   ]
  },
  {
   "cell_type": "code",
   "execution_count": 219,
   "metadata": {
    "id": "K9GA3oQ2RPJs"
   },
   "outputs": [],
   "source": [
    "import numpy as np\n",
    "import pandas as pd\n",
    "from sklearn.preprocessing import StandardScaler\n",
    "\n",
    "\n",
    "class LinearRegressionJKB:                                                  # Multiple Linear Regression\n",
    "    def __init__(self, learning_rate=0.03, iterations=3000):\n",
    "        self.learning_rate = learning_rate\n",
    "        self.iterations = iterations\n",
    "        self.weights = None\n",
    "        self.intercept = 0\n",
    "        self.cost_value = 0\n",
    "\n",
    "    def fit(self, X, Y):\n",
    "        sc = StandardScaler()\n",
    "        X_scaled = sc.fit_transform(X)             # to avoid handling large numbers and overlowing the values\n",
    "\n",
    "        n_samples, n_features = X_scaled.shape\n",
    "        self.weights = np.random.randn(n_features).reshape(n_features, 1)\n",
    "        gd_df = pd.DataFrame(columns=[\"weights\", \"bias\", \"cost\"])\n",
    "        for iter in range(self.iterations):\n",
    "            # (50, 5) (5, 1) => {50, 1}\n",
    "            # y = mx+c\n",
    "            y_predicted = np.dot(X_scaled, self.weights) + self.intercept\n",
    "            # print((X.T @ (Y - y_predicted)).shape)\n",
    "\n",
    "            # mean squared error\n",
    "            self.cost_value = (1 / n_samples) * np.sum(\n",
    "                [val**2 for val in (Y - y_predicted)]\n",
    "            )\n",
    "            self.weights = self.weights - self.learning_rate * (\n",
    "                (-2 / n_samples) * np.dot(X_scaled.T, (Y - y_predicted))\n",
    "            )\n",
    "            \n",
    "            # (5, 50)(50, 1)\n",
    "\n",
    "            # shape of y-y_predicted = (50,) - (50) => (50,)\n",
    "            # shape of x = (50, 5).T => (5, 50)(50,) => (5,)\n",
    "\n",
    "            # [w1, w2, w3, w4, w5] = [w1, w2, w3, w4, w5] - lr * [gw1, gw2, gw3, gw4, gw5]\n",
    "\n",
    "            self.intercept = self.intercept - self.learning_rate * (\n",
    "                (-2 / n_samples) * np.sum(Y - y_predicted)\n",
    "            )\n",
    "\n",
    "            gd_df.loc[iter] = [self.weights, self.intercept, self.cost_value]\n",
    "\n",
    "        return gd_df\n",
    "\n",
    "    def predict(self, X):\n",
    "        return np.dot(X, self.weights) + self.intercept "
   ]
  },
  {
   "cell_type": "code",
   "execution_count": 220,
   "metadata": {
    "colab": {
     "base_uri": "https://localhost:8080/",
     "height": 360
    },
    "id": "rHe4N_eBSaEz",
    "outputId": "853d5ff6-d9c6-4a66-d110-3eab32cf49e6"
   },
   "outputs": [
    {
     "data": {
      "text/html": [
       "<div>\n",
       "<style scoped>\n",
       "    .dataframe tbody tr th:only-of-type {\n",
       "        vertical-align: middle;\n",
       "    }\n",
       "\n",
       "    .dataframe tbody tr th {\n",
       "        vertical-align: top;\n",
       "    }\n",
       "\n",
       "    .dataframe thead th {\n",
       "        text-align: right;\n",
       "    }\n",
       "</style>\n",
       "<table border=\"1\" class=\"dataframe\">\n",
       "  <thead>\n",
       "    <tr style=\"text-align: right;\">\n",
       "      <th></th>\n",
       "      <th>weights</th>\n",
       "      <th>bias</th>\n",
       "      <th>cost</th>\n",
       "    </tr>\n",
       "  </thead>\n",
       "  <tbody>\n",
       "    <tr>\n",
       "      <th>2990</th>\n",
       "      <td>[[92.73023107337735], [-19.842248366882355], [...</td>\n",
       "      <td>112012.7392</td>\n",
       "      <td>7.840679e+07</td>\n",
       "    </tr>\n",
       "    <tr>\n",
       "      <th>2991</th>\n",
       "      <td>[[92.73023107337734], [-19.84224836688236], [3...</td>\n",
       "      <td>112012.7392</td>\n",
       "      <td>7.840679e+07</td>\n",
       "    </tr>\n",
       "    <tr>\n",
       "      <th>2992</th>\n",
       "      <td>[[92.73023107337735], [-19.84224836688235], [3...</td>\n",
       "      <td>112012.7392</td>\n",
       "      <td>7.840679e+07</td>\n",
       "    </tr>\n",
       "    <tr>\n",
       "      <th>2993</th>\n",
       "      <td>[[92.73023107337734], [-19.842248366882355], [...</td>\n",
       "      <td>112012.7392</td>\n",
       "      <td>7.840679e+07</td>\n",
       "    </tr>\n",
       "    <tr>\n",
       "      <th>2994</th>\n",
       "      <td>[[92.73023107337735], [-19.842248366882355], [...</td>\n",
       "      <td>112012.7392</td>\n",
       "      <td>7.840679e+07</td>\n",
       "    </tr>\n",
       "    <tr>\n",
       "      <th>2995</th>\n",
       "      <td>[[92.73023107337734], [-19.84224836688236], [3...</td>\n",
       "      <td>112012.7392</td>\n",
       "      <td>7.840679e+07</td>\n",
       "    </tr>\n",
       "    <tr>\n",
       "      <th>2996</th>\n",
       "      <td>[[92.73023107337735], [-19.84224836688235], [3...</td>\n",
       "      <td>112012.7392</td>\n",
       "      <td>7.840679e+07</td>\n",
       "    </tr>\n",
       "    <tr>\n",
       "      <th>2997</th>\n",
       "      <td>[[92.73023107337734], [-19.842248366882355], [...</td>\n",
       "      <td>112012.7392</td>\n",
       "      <td>7.840679e+07</td>\n",
       "    </tr>\n",
       "    <tr>\n",
       "      <th>2998</th>\n",
       "      <td>[[92.73023107337735], [-19.842248366882355], [...</td>\n",
       "      <td>112012.7392</td>\n",
       "      <td>7.840679e+07</td>\n",
       "    </tr>\n",
       "    <tr>\n",
       "      <th>2999</th>\n",
       "      <td>[[92.73023107337734], [-19.84224836688236], [3...</td>\n",
       "      <td>112012.7392</td>\n",
       "      <td>7.840679e+07</td>\n",
       "    </tr>\n",
       "  </tbody>\n",
       "</table>\n",
       "</div>"
      ],
      "text/plain": [
       "                                                weights         bias  \\\n",
       "2990  [[92.73023107337735], [-19.842248366882355], [...  112012.7392   \n",
       "2991  [[92.73023107337734], [-19.84224836688236], [3...  112012.7392   \n",
       "2992  [[92.73023107337735], [-19.84224836688235], [3...  112012.7392   \n",
       "2993  [[92.73023107337734], [-19.842248366882355], [...  112012.7392   \n",
       "2994  [[92.73023107337735], [-19.842248366882355], [...  112012.7392   \n",
       "2995  [[92.73023107337734], [-19.84224836688236], [3...  112012.7392   \n",
       "2996  [[92.73023107337735], [-19.84224836688235], [3...  112012.7392   \n",
       "2997  [[92.73023107337734], [-19.842248366882355], [...  112012.7392   \n",
       "2998  [[92.73023107337735], [-19.842248366882355], [...  112012.7392   \n",
       "2999  [[92.73023107337734], [-19.84224836688236], [3...  112012.7392   \n",
       "\n",
       "              cost  \n",
       "2990  7.840679e+07  \n",
       "2991  7.840679e+07  \n",
       "2992  7.840679e+07  \n",
       "2993  7.840679e+07  \n",
       "2994  7.840679e+07  \n",
       "2995  7.840679e+07  \n",
       "2996  7.840679e+07  \n",
       "2997  7.840679e+07  \n",
       "2998  7.840679e+07  \n",
       "2999  7.840679e+07  "
      ]
     },
     "execution_count": 220,
     "metadata": {},
     "output_type": "execute_result"
    }
   ],
   "source": [
    "regressor = LinearRegressionJKB()\n",
    "model_df = regressor.fit(X, Y)\n",
    "model_df.tail(10)"
   ]
  },
  {
   "cell_type": "code",
   "execution_count": 221,
   "metadata": {},
   "outputs": [
    {
     "name": "stderr",
     "output_type": "stream",
     "text": [
      "/tmp/ipykernel_13545/1371438665.py:1: FutureWarning: Series.__getitem__ treating keys as positions is deprecated. In a future version, integer keys will always be treated as labels (consistent with DataFrame behavior). To access a value by position, use `ser.iloc[pos]`\n",
      "  model_df.loc[2999][0], mlr.coef_\n"
     ]
    },
    {
     "data": {
      "text/plain": [
       "(array([[ 9.27302311e+01],\n",
       "        [-1.98422484e+01],\n",
       "        [ 3.66264283e+04],\n",
       "        [-7.48997469e+02],\n",
       "        [ 3.26621519e+03]]),\n",
       " array([[ 1.98788793e+02, -1.98422484e+01,  3.66264283e+04,\n",
       "         -7.48997469e+02,  2.69798610e-02]]))"
      ]
     },
     "execution_count": 221,
     "metadata": {},
     "output_type": "execute_result"
    }
   ],
   "source": [
    "model_df.loc[2999][0], mlr.coef_"
   ]
  },
  {
   "cell_type": "code",
   "execution_count": 222,
   "metadata": {},
   "outputs": [
    {
     "data": {
      "text/plain": [
       "array([106255.69627487])"
      ]
     },
     "execution_count": 222,
     "metadata": {},
     "output_type": "execute_result"
    }
   ],
   "source": [
    "mlr.intercept_"
   ]
  },
  {
   "cell_type": "code",
   "execution_count": 223,
   "metadata": {},
   "outputs": [
    {
     "data": {
      "text/plain": [
       "<matplotlib.collections.PathCollection at 0x738f54e00500>"
      ]
     },
     "execution_count": 223,
     "metadata": {},
     "output_type": "execute_result"
    },
    {
     "data": {
      "image/png": "[encoded data removed]",
      "text/plain": [
       "<Figure size 640x480 with 1 Axes>"
      ]
     },
     "metadata": {},
     "output_type": "display_data"
    }
   ],
   "source": [
    "plt.scatter(model_df.bias.values, model_df.cost.values)"
   ]
  },
  {
   "cell_type": "code",
   "execution_count": 224,
   "metadata": {
    "colab": {
     "base_uri": "https://localhost:8080/"
    },
    "id": "RRV4gE3MGHgN",
    "outputId": "a9c371f9-c7ae-42fb-c436-def163d3a8ee"
   },
   "outputs": [
    {
     "data": {
      "text/plain": [
       "(array([[ 1.98788793e+02, -1.98422484e+01,  3.66264283e+04,\n",
       "         -7.48997469e+02,  2.69798610e-02]]),\n",
       " array([106255.69627487]))"
      ]
     },
     "execution_count": 224,
     "metadata": {},
     "output_type": "execute_result"
    }
   ],
   "source": [
    "mlr.coef_, mlr.intercept_"
   ]
  },
  {
   "cell_type": "code",
   "execution_count": 225,
   "metadata": {
    "colab": {
     "base_uri": "https://localhost:8080/"
    },
    "id": "0jt6dRhOSc0X",
    "outputId": "4eda2121-6128-4fc0-9593-1edf56a7f260"
   },
   "outputs": [
    {
     "data": {
      "text/plain": [
       "(112012.7391999999,\n",
       " array([[ 9.27302311e+01],\n",
       "        [-1.98422484e+01],\n",
       "        [ 3.66264283e+04],\n",
       "        [-7.48997469e+02],\n",
       "        [ 3.26621519e+03]]))"
      ]
     },
     "execution_count": 225,
     "metadata": {},
     "output_type": "execute_result"
    }
   ],
   "source": [
    "regressor.intercept, regressor.weights"
   ]
  },
  {
   "cell_type": "code",
   "execution_count": 226,
   "metadata": {
    "colab": {
     "base_uri": "https://localhost:8080/"
    },
    "id": "Wo3K_Ej7_q9M",
    "outputId": "a6ae1527-6812-464e-d257-1761169d5b99"
   },
   "outputs": [
    {
     "data": {
      "text/plain": [
       "array([[13557785495.879622]], dtype=object)"
      ]
     },
     "execution_count": 226,
     "metadata": {},
     "output_type": "execute_result"
    }
   ],
   "source": [
    "Y_pred_jkb = regressor.predict(newx)\n",
    "Y_pred_jkb"
   ]
  },
  {
   "cell_type": "markdown",
   "metadata": {
    "id": "Wh7OPAwIpXHU"
   },
   "source": [
    "Now we will go for training on the same dataset but this time we will use **stochastic gradinet descent** technique. \n",
    "\n",
    "Sklearn comes with the SGDRegressor class which works with this technique and reduces your computational complexity."
   ]
  },
  {
   "cell_type": "code",
   "execution_count": 227,
   "metadata": {},
   "outputs": [
    {
     "data": {
      "text/plain": [
       "array([[ 9.27302311e+01],\n",
       "       [-1.98422484e+01],\n",
       "       [ 3.66264283e+04],\n",
       "       [-7.48997469e+02],\n",
       "       [ 3.26621519e+03]])"
      ]
     },
     "execution_count": 227,
     "metadata": {},
     "output_type": "execute_result"
    }
   ],
   "source": [
    "regressor.weights"
   ]
  },
  {
   "cell_type": "code",
   "execution_count": 228,
   "metadata": {},
   "outputs": [
    {
     "data": {
      "text/plain": [
       "array([192261.93, 191792.16, 191050.49, 182902.09, 166188.04, 156991.22,\n",
       "       156122.61, 155752.7 , 152211.87, 149760.06, 146122.05, 144259.5 ,\n",
       "       141585.62, 134307.45, 132602.75, 129917.14, 126993.03, 125370.47,\n",
       "       124267.  , 122776.96, 118474.13, 111313.12, 110352.35, 108734.09,\n",
       "       108552.14, 107404.44, 105733.64, 105008.41, 103282.48, 101004.74,\n",
       "        99937.69,  97483.66,  97427.94,  96779.02,  96712.9 ,  96479.61,\n",
       "        90708.29,  89949.24,  81229.16,  81005.86,  78240.01,  77798.93,\n",
       "        71498.59,  69759.08,  65200.43,  64926.18,  49490.85,  42559.83,\n",
       "        35673.51,  14681.5 ])"
      ]
     },
     "execution_count": 228,
     "metadata": {},
     "output_type": "execute_result"
    }
   ],
   "source": [
    "Y.ravel(\"C\")   # to convert from 2d to 1d array"
   ]
  },
  {
   "cell_type": "code",
   "execution_count": 229,
   "metadata": {
    "colab": {
     "base_uri": "https://localhost:8080/"
    },
    "id": "eYiO4IWmUWXb",
    "outputId": "84de16d7-93ee-4632-c092-51c0f08f0110"
   },
   "outputs": [
    {
     "data": {
      "text/plain": [
       "(array([1.5565813e+10]),\n",
       " array([ 8.29018215e+10,  1.57264867e+10, -5.15466844e+10, -4.83280626e+10,\n",
       "         1.20425616e+14]))"
      ]
     },
     "execution_count": 229,
     "metadata": {},
     "output_type": "execute_result"
    }
   ],
   "source": [
    "from sklearn.linear_model import SGDRegressor\n",
    "\n",
    "sgd_reg = SGDRegressor()\n",
    "sgd_reg.fit(X, Y.ravel(\"C\"))        \n",
    "sgd_reg.intercept_, sgd_reg.coef_"
   ]
  },
  {
   "cell_type": "code",
   "execution_count": 230,
   "metadata": {
    "colab": {
     "base_uri": "https://localhost:8080/"
    },
    "id": "CrjknMBoUWco",
    "outputId": "f1e54ac3-8604-4fd1-b80d-114f0a0412e2"
   },
   "outputs": [
    {
     "data": {
      "text/plain": [
       "array([-1.66905858e+16])"
      ]
     },
     "execution_count": 230,
     "metadata": {},
     "output_type": "execute_result"
    }
   ],
   "source": [
    "sgd_reg.predict(newx)"
   ]
  },
  {
   "cell_type": "code",
   "execution_count": 231,
   "metadata": {
    "colab": {
     "base_uri": "https://localhost:8080/"
    },
    "id": "FHjUigQWUWf7",
    "outputId": "cd3a021b-c6ba-4468-b49c-3483e12ac243"
   },
   "outputs": [
    {
     "data": {
      "text/plain": [
       "-5.391356618742338e+29"
      ]
     },
     "execution_count": 231,
     "metadata": {},
     "output_type": "execute_result"
    }
   ],
   "source": [
    "sgd_reg.score(X, Y)"
   ]
  },
  {
   "cell_type": "markdown",
   "metadata": {
    "id": "eJN5okKEsAVZ"
   },
   "source": [
    "![alt text](https://cdn.analyticsvidhya.com/wp-content/uploads/2018/04/Screen-Shot-2018-04-03-at-7.52.01-PM-e1522832332857.png)\n",
    "\n",
    "One of the major aspects of training your machine learning model is avoiding **overfitting**. The model will have a low accuracy if it is overfitting. This happens because your model is trying too hard to capture the noise in your training dataset. By noise we mean the data points that don’t really represent the true properties of your data, but random chance. Learning such data points, makes your model more flexible, at the risk of overfitting.\n",
    "\n",
    "### **The concept of balancing bias and variance, is helpful in understanding the phenomenon of overfitting.**\n",
    "\n",
    "\n",
    "One of the ways of avoiding overfitting is using cross validation, that helps in estimating the error over test set, and in deciding what parameters work best for your model.\n",
    "\n",
    "## **Regularization**\n",
    "\n",
    "This is a form of regression, that constrains/ regularizes or shrinks the coefficient estimates towards zero. In other words, this technique discourages learning a more complex or flexible model, so as to avoid the risk of overfitting.\n",
    "\n",
    "A simple relation for linear regression looks like this. Here Y represents the learned relation and β represents the coefficient estimates for different variables or predictors(X).\n",
    "\n",
    "**Y ≈ β0 + β1X1 + β2X2 + …+ βpXp**\n",
    "\n",
    "The fitting procedure involves a loss function, known as **residual sum of squares or RSS**. The coefficients are chosen, such that they minimize this loss function.\n",
    "\n",
    "![alt text](https://miro.medium.com/max/454/1*DY3-IaGcHjjLg7oYXx1O3A.png)\n",
    "\n",
    "Now, this will adjust the coefficients based on your training data. If there is noise in the training data, then the estimated coefficients won’t generalize well to the future data. This is where regularization comes in and shrinks or regularizes these learned estimates towards zero.\n"
   ]
  },
  {
   "cell_type": "markdown",
   "metadata": {
    "id": "s00aUfwTiHu4"
   },
   "source": [
    "## **Ridge Regression**\n",
    "\n",
    "![alt text](https://miro.medium.com/max/553/1*CiqZ8lhwxi5c4d1nV24w4g.png)\n",
    "\n",
    "Above image shows ridge regression, where the RSS is modified by adding the shrinkage quantity. Now, the coefficients are estimated by minimizing this function. Here, **λ is the tuning parameter that decides how much we want to penalize the flexibility of our model**. \n",
    "\n",
    "The increase in flexibility of a model is represented by increase in its coefficients, and if we want to minimize the above function, then these coefficients need to be small. This is how the Ridge regression technique prevents coefficients from rising too high. Also, notice that we shrink the estimated association of each variable with the response, except the intercept β0, This intercept is a measure of the mean value of the response when **xi1 = xi2 = …= xip = 0**.\n",
    "\n",
    "When **λ = 0**, the penalty term has no eﬀect, and the estimates produced by ridge regression will be equal to least squares. However, as **λ→∞**, the impact of the shrinkage penalty grows, and the ridge regression coeﬃcient estimates will approach zero. \n",
    "\n",
    "As can be seen, selecting a good value of λ is critical. Cross validation comes in handy for this purpose. **The coefficient estimates produced by this method are also known as the L2 norm.**\n",
    "\n",
    "![alt text](https://pbs.twimg.com/media/ERf2EKCWAAcLBCH.jpg)"
   ]
  },
  {
   "cell_type": "code",
   "execution_count": 232,
   "metadata": {
    "colab": {
     "base_uri": "https://localhost:8080/"
    },
    "id": "dlMQpmr9r_xM",
    "outputId": "08d3ed49-323d-4b22-8b2f-48902648c789"
   },
   "outputs": [
    {
     "data": {
      "text/html": [
       "<style>#sk-container-id-8 {\n",
       "  /* Definition of color scheme common for light and dark mode */\n",
       "  --sklearn-color-text: black;\n",
       "  --sklearn-color-line: gray;\n",
       "  /* Definition of color scheme for unfitted estimators */\n",
       "  --sklearn-color-unfitted-level-0: #fff5e6;\n",
       "  --sklearn-color-unfitted-level-1: #f6e4d2;\n",
       "  --sklearn-color-unfitted-level-2: #ffe0b3;\n",
       "  --sklearn-color-unfitted-level-3: chocolate;\n",
       "  /* Definition of color scheme for fitted estimators */\n",
       "  --sklearn-color-fitted-level-0: #f0f8ff;\n",
       "  --sklearn-color-fitted-level-1: #d4ebff;\n",
       "  --sklearn-color-fitted-level-2: #b3dbfd;\n",
       "  --sklearn-color-fitted-level-3: cornflowerblue;\n",
       "\n",
       "  /* Specific color for light theme */\n",
       "  --sklearn-color-text-on-default-background: var(--sg-text-color, var(--theme-code-foreground, var(--jp-content-font-color1, black)));\n",
       "  --sklearn-color-background: var(--sg-background-color, var(--theme-background, var(--jp-layout-color0, white)));\n",
       "  --sklearn-color-border-box: var(--sg-text-color, var(--theme-code-foreground, var(--jp-content-font-color1, black)));\n",
       "  --sklearn-color-icon: #696969;\n",
       "\n",
       "  @media (prefers-color-scheme: dark) {\n",
       "    /* Redefinition of color scheme for dark theme */\n",
       "    --sklearn-color-text-on-default-background: var(--sg-text-color, var(--theme-code-foreground, var(--jp-content-font-color1, white)));\n",
       "    --sklearn-color-background: var(--sg-background-color, var(--theme-background, var(--jp-layout-color0, #111)));\n",
       "    --sklearn-color-border-box: var(--sg-text-color, var(--theme-code-foreground, var(--jp-content-font-color1, white)));\n",
       "    --sklearn-color-icon: #878787;\n",
       "  }\n",
       "}\n",
       "\n",
       "#sk-container-id-8 {\n",
       "  color: var(--sklearn-color-text);\n",
       "}\n",
       "\n",
       "#sk-container-id-8 pre {\n",
       "  padding: 0;\n",
       "}\n",
       "\n",
       "#sk-container-id-8 input.sk-hidden--visually {\n",
       "  border: 0;\n",
       "  clip: rect(1px 1px 1px 1px);\n",
       "  clip: rect(1px, 1px, 1px, 1px);\n",
       "  height: 1px;\n",
       "  margin: -1px;\n",
       "  overflow: hidden;\n",
       "  padding: 0;\n",
       "  position: absolute;\n",
       "  width: 1px;\n",
       "}\n",
       "\n",
       "#sk-container-id-8 div.sk-dashed-wrapped {\n",
       "  border: 1px dashed var(--sklearn-color-line);\n",
       "  margin: 0 0.4em 0.5em 0.4em;\n",
       "  box-sizing: border-box;\n",
       "  padding-bottom: 0.4em;\n",
       "  background-color: var(--sklearn-color-background);\n",
       "}\n",
       "\n",
       "#sk-container-id-8 div.sk-container {\n",
       "  /* jupyter's `normalize.less` sets `[hidden] { display: none; }`\n",
       "     but bootstrap.min.css set `[hidden] { display: none !important; }`\n",
       "     so we also need the `!important` here to be able to override the\n",
       "     default hidden behavior on the sphinx rendered scikit-learn.org.\n",
       "     See: https://github.com/scikit-learn/scikit-learn/issues/21755 */\n",
       "  display: inline-block !important;\n",
       "  position: relative;\n",
       "}\n",
       "\n",
       "#sk-container-id-8 div.sk-text-repr-fallback {\n",
       "  display: none;\n",
       "}\n",
       "\n",
       "div.sk-parallel-item,\n",
       "div.sk-serial,\n",
       "div.sk-item {\n",
       "  /* draw centered vertical line to link estimators */\n",
       "  background-image: linear-gradient(var(--sklearn-color-text-on-default-background), var(--sklearn-color-text-on-default-background));\n",
       "  background-size: 2px 100%;\n",
       "  background-repeat: no-repeat;\n",
       "  background-position: center center;\n",
       "}\n",
       "\n",
       "/* Parallel-specific style estimator block */\n",
       "\n",
       "#sk-container-id-8 div.sk-parallel-item::after {\n",
       "  content: \"\";\n",
       "  width: 100%;\n",
       "  border-bottom: 2px solid var(--sklearn-color-text-on-default-background);\n",
       "  flex-grow: 1;\n",
       "}\n",
       "\n",
       "#sk-container-id-8 div.sk-parallel {\n",
       "  display: flex;\n",
       "  align-items: stretch;\n",
       "  justify-content: center;\n",
       "  background-color: var(--sklearn-color-background);\n",
       "  position: relative;\n",
       "}\n",
       "\n",
       "#sk-container-id-8 div.sk-parallel-item {\n",
       "  display: flex;\n",
       "  flex-direction: column;\n",
       "}\n",
       "\n",
       "#sk-container-id-8 div.sk-parallel-item:first-child::after {\n",
       "  align-self: flex-end;\n",
       "  width: 50%;\n",
       "}\n",
       "\n",
       "#sk-container-id-8 div.sk-parallel-item:last-child::after {\n",
       "  align-self: flex-start;\n",
       "  width: 50%;\n",
       "}\n",
       "\n",
       "#sk-container-id-8 div.sk-parallel-item:only-child::after {\n",
       "  width: 0;\n",
       "}\n",
       "\n",
       "/* Serial-specific style estimator block */\n",
       "\n",
       "#sk-container-id-8 div.sk-serial {\n",
       "  display: flex;\n",
       "  flex-direction: column;\n",
       "  align-items: center;\n",
       "  background-color: var(--sklearn-color-background);\n",
       "  padding-right: 1em;\n",
       "  padding-left: 1em;\n",
       "}\n",
       "\n",
       "\n",
       "/* Toggleable style: style used for estimator/Pipeline/ColumnTransformer box that is\n",
       "clickable and can be expanded/collapsed.\n",
       "- Pipeline and ColumnTransformer use this feature and define the default style\n",
       "- Estimators will overwrite some part of the style using the `sk-estimator` class\n",
       "*/\n",
       "\n",
       "/* Pipeline and ColumnTransformer style (default) */\n",
       "\n",
       "#sk-container-id-8 div.sk-toggleable {\n",
       "  /* Default theme specific background. It is overwritten whether we have a\n",
       "  specific estimator or a Pipeline/ColumnTransformer */\n",
       "  background-color: var(--sklearn-color-background);\n",
       "}\n",
       "\n",
       "/* Toggleable label */\n",
       "#sk-container-id-8 label.sk-toggleable__label {\n",
       "  cursor: pointer;\n",
       "  display: block;\n",
       "  width: 100%;\n",
       "  margin-bottom: 0;\n",
       "  padding: 0.5em;\n",
       "  box-sizing: border-box;\n",
       "  text-align: center;\n",
       "}\n",
       "\n",
       "#sk-container-id-8 label.sk-toggleable__label-arrow:before {\n",
       "  /* Arrow on the left of the label */\n",
       "  content: \"▸\";\n",
       "  float: left;\n",
       "  margin-right: 0.25em;\n",
       "  color: var(--sklearn-color-icon);\n",
       "}\n",
       "\n",
       "#sk-container-id-8 label.sk-toggleable__label-arrow:hover:before {\n",
       "  color: var(--sklearn-color-text);\n",
       "}\n",
       "\n",
       "/* Toggleable content - dropdown */\n",
       "\n",
       "#sk-container-id-8 div.sk-toggleable__content {\n",
       "  max-height: 0;\n",
       "  max-width: 0;\n",
       "  overflow: hidden;\n",
       "  text-align: left;\n",
       "  /* unfitted */\n",
       "  background-color: var(--sklearn-color-unfitted-level-0);\n",
       "}\n",
       "\n",
       "#sk-container-id-8 div.sk-toggleable__content.fitted {\n",
       "  /* fitted */\n",
       "  background-color: var(--sklearn-color-fitted-level-0);\n",
       "}\n",
       "\n",
       "#sk-container-id-8 div.sk-toggleable__content pre {\n",
       "  margin: 0.2em;\n",
       "  border-radius: 0.25em;\n",
       "  color: var(--sklearn-color-text);\n",
       "  /* unfitted */\n",
       "  background-color: var(--sklearn-color-unfitted-level-0);\n",
       "}\n",
       "\n",
       "#sk-container-id-8 div.sk-toggleable__content.fitted pre {\n",
       "  /* unfitted */\n",
       "  background-color: var(--sklearn-color-fitted-level-0);\n",
       "}\n",
       "\n",
       "#sk-container-id-8 input.sk-toggleable__control:checked~div.sk-toggleable__content {\n",
       "  /* Expand drop-down */\n",
       "  max-height: 200px;\n",
       "  max-width: 100%;\n",
       "  overflow: auto;\n",
       "}\n",
       "\n",
       "#sk-container-id-8 input.sk-toggleable__control:checked~label.sk-toggleable__label-arrow:before {\n",
       "  content: \"▾\";\n",
       "}\n",
       "\n",
       "/* Pipeline/ColumnTransformer-specific style */\n",
       "\n",
       "#sk-container-id-8 div.sk-label input.sk-toggleable__control:checked~label.sk-toggleable__label {\n",
       "  color: var(--sklearn-color-text);\n",
       "  background-color: var(--sklearn-color-unfitted-level-2);\n",
       "}\n",
       "\n",
       "#sk-container-id-8 div.sk-label.fitted input.sk-toggleable__control:checked~label.sk-toggleable__label {\n",
       "  background-color: var(--sklearn-color-fitted-level-2);\n",
       "}\n",
       "\n",
       "/* Estimator-specific style */\n",
       "\n",
       "/* Colorize estimator box */\n",
       "#sk-container-id-8 div.sk-estimator input.sk-toggleable__control:checked~label.sk-toggleable__label {\n",
       "  /* unfitted */\n",
       "  background-color: var(--sklearn-color-unfitted-level-2);\n",
       "}\n",
       "\n",
       "#sk-container-id-8 div.sk-estimator.fitted input.sk-toggleable__control:checked~label.sk-toggleable__label {\n",
       "  /* fitted */\n",
       "  background-color: var(--sklearn-color-fitted-level-2);\n",
       "}\n",
       "\n",
       "#sk-container-id-8 div.sk-label label.sk-toggleable__label,\n",
       "#sk-container-id-8 div.sk-label label {\n",
       "  /* The background is the default theme color */\n",
       "  color: var(--sklearn-color-text-on-default-background);\n",
       "}\n",
       "\n",
       "/* On hover, darken the color of the background */\n",
       "#sk-container-id-8 div.sk-label:hover label.sk-toggleable__label {\n",
       "  color: var(--sklearn-color-text);\n",
       "  background-color: var(--sklearn-color-unfitted-level-2);\n",
       "}\n",
       "\n",
       "/* Label box, darken color on hover, fitted */\n",
       "#sk-container-id-8 div.sk-label.fitted:hover label.sk-toggleable__label.fitted {\n",
       "  color: var(--sklearn-color-text);\n",
       "  background-color: var(--sklearn-color-fitted-level-2);\n",
       "}\n",
       "\n",
       "/* Estimator label */\n",
       "\n",
       "#sk-container-id-8 div.sk-label label {\n",
       "  font-family: monospace;\n",
       "  font-weight: bold;\n",
       "  display: inline-block;\n",
       "  line-height: 1.2em;\n",
       "}\n",
       "\n",
       "#sk-container-id-8 div.sk-label-container {\n",
       "  text-align: center;\n",
       "}\n",
       "\n",
       "/* Estimator-specific */\n",
       "#sk-container-id-8 div.sk-estimator {\n",
       "  font-family: monospace;\n",
       "  border: 1px dotted var(--sklearn-color-border-box);\n",
       "  border-radius: 0.25em;\n",
       "  box-sizing: border-box;\n",
       "  margin-bottom: 0.5em;\n",
       "  /* unfitted */\n",
       "  background-color: var(--sklearn-color-unfitted-level-0);\n",
       "}\n",
       "\n",
       "#sk-container-id-8 div.sk-estimator.fitted {\n",
       "  /* fitted */\n",
       "  background-color: var(--sklearn-color-fitted-level-0);\n",
       "}\n",
       "\n",
       "/* on hover */\n",
       "#sk-container-id-8 div.sk-estimator:hover {\n",
       "  /* unfitted */\n",
       "  background-color: var(--sklearn-color-unfitted-level-2);\n",
       "}\n",
       "\n",
       "#sk-container-id-8 div.sk-estimator.fitted:hover {\n",
       "  /* fitted */\n",
       "  background-color: var(--sklearn-color-fitted-level-2);\n",
       "}\n",
       "\n",
       "/* Specification for estimator info (e.g. \"i\" and \"?\") */\n",
       "\n",
       "/* Common style for \"i\" and \"?\" */\n",
       "\n",
       ".sk-estimator-doc-link,\n",
       "a:link.sk-estimator-doc-link,\n",
       "a:visited.sk-estimator-doc-link {\n",
       "  float: right;\n",
       "  font-size: smaller;\n",
       "  line-height: 1em;\n",
       "  font-family: monospace;\n",
       "  background-color: var(--sklearn-color-background);\n",
       "  border-radius: 1em;\n",
       "  height: 1em;\n",
       "  width: 1em;\n",
       "  text-decoration: none !important;\n",
       "  margin-left: 1ex;\n",
       "  /* unfitted */\n",
       "  border: var(--sklearn-color-unfitted-level-1) 1pt solid;\n",
       "  color: var(--sklearn-color-unfitted-level-1);\n",
       "}\n",
       "\n",
       ".sk-estimator-doc-link.fitted,\n",
       "a:link.sk-estimator-doc-link.fitted,\n",
       "a:visited.sk-estimator-doc-link.fitted {\n",
       "  /* fitted */\n",
       "  border: var(--sklearn-color-fitted-level-1) 1pt solid;\n",
       "  color: var(--sklearn-color-fitted-level-1);\n",
       "}\n",
       "\n",
       "/* On hover */\n",
       "div.sk-estimator:hover .sk-estimator-doc-link:hover,\n",
       ".sk-estimator-doc-link:hover,\n",
       "div.sk-label-container:hover .sk-estimator-doc-link:hover,\n",
       ".sk-estimator-doc-link:hover {\n",
       "  /* unfitted */\n",
       "  background-color: var(--sklearn-color-unfitted-level-3);\n",
       "  color: var(--sklearn-color-background);\n",
       "  text-decoration: none;\n",
       "}\n",
       "\n",
       "div.sk-estimator.fitted:hover .sk-estimator-doc-link.fitted:hover,\n",
       ".sk-estimator-doc-link.fitted:hover,\n",
       "div.sk-label-container:hover .sk-estimator-doc-link.fitted:hover,\n",
       ".sk-estimator-doc-link.fitted:hover {\n",
       "  /* fitted */\n",
       "  background-color: var(--sklearn-color-fitted-level-3);\n",
       "  color: var(--sklearn-color-background);\n",
       "  text-decoration: none;\n",
       "}\n",
       "\n",
       "/* Span, style for the box shown on hovering the info icon */\n",
       ".sk-estimator-doc-link span {\n",
       "  display: none;\n",
       "  z-index: 9999;\n",
       "  position: relative;\n",
       "  font-weight: normal;\n",
       "  right: .2ex;\n",
       "  padding: .5ex;\n",
       "  margin: .5ex;\n",
       "  width: min-content;\n",
       "  min-width: 20ex;\n",
       "  max-width: 50ex;\n",
       "  color: var(--sklearn-color-text);\n",
       "  box-shadow: 2pt 2pt 4pt #999;\n",
       "  /* unfitted */\n",
       "  background: var(--sklearn-color-unfitted-level-0);\n",
       "  border: .5pt solid var(--sklearn-color-unfitted-level-3);\n",
       "}\n",
       "\n",
       ".sk-estimator-doc-link.fitted span {\n",
       "  /* fitted */\n",
       "  background: var(--sklearn-color-fitted-level-0);\n",
       "  border: var(--sklearn-color-fitted-level-3);\n",
       "}\n",
       "\n",
       ".sk-estimator-doc-link:hover span {\n",
       "  display: block;\n",
       "}\n",
       "\n",
       "/* \"?\"-specific style due to the `<a>` HTML tag */\n",
       "\n",
       "#sk-container-id-8 a.estimator_doc_link {\n",
       "  float: right;\n",
       "  font-size: 1rem;\n",
       "  line-height: 1em;\n",
       "  font-family: monospace;\n",
       "  background-color: var(--sklearn-color-background);\n",
       "  border-radius: 1rem;\n",
       "  height: 1rem;\n",
       "  width: 1rem;\n",
       "  text-decoration: none;\n",
       "  /* unfitted */\n",
       "  color: var(--sklearn-color-unfitted-level-1);\n",
       "  border: var(--sklearn-color-unfitted-level-1) 1pt solid;\n",
       "}\n",
       "\n",
       "#sk-container-id-8 a.estimator_doc_link.fitted {\n",
       "  /* fitted */\n",
       "  border: var(--sklearn-color-fitted-level-1) 1pt solid;\n",
       "  color: var(--sklearn-color-fitted-level-1);\n",
       "}\n",
       "\n",
       "/* On hover */\n",
       "#sk-container-id-8 a.estimator_doc_link:hover {\n",
       "  /* unfitted */\n",
       "  background-color: var(--sklearn-color-unfitted-level-3);\n",
       "  color: var(--sklearn-color-background);\n",
       "  text-decoration: none;\n",
       "}\n",
       "\n",
       "#sk-container-id-8 a.estimator_doc_link.fitted:hover {\n",
       "  /* fitted */\n",
       "  background-color: var(--sklearn-color-fitted-level-3);\n",
       "}\n",
       "</style><div id=\"sk-container-id-8\" class=\"sk-top-container\"><div class=\"sk-text-repr-fallback\"><pre>Ridge(alpha=1)</pre><b>In a Jupyter environment, please rerun this cell to show the HTML representation or trust the notebook. <br />On GitHub, the HTML representation is unable to render, please try loading this page with nbviewer.org.</b></div><div class=\"sk-container\" hidden><div class=\"sk-item\"><div class=\"sk-estimator fitted sk-toggleable\"><input class=\"sk-toggleable__control sk-hidden--visually\" id=\"sk-estimator-id-8\" type=\"checkbox\" checked><label for=\"sk-estimator-id-8\" class=\"sk-toggleable__label fitted sk-toggleable__label-arrow fitted\">&nbsp;&nbsp;Ridge<a class=\"sk-estimator-doc-link fitted\" rel=\"noreferrer\" target=\"_blank\" href=\"https://scikit-learn.org/1.5/modules/generated/sklearn.linear_model.Ridge.html\">?<span>Documentation for Ridge</span></a><span class=\"sk-estimator-doc-link fitted\">i<span>Fitted</span></span></label><div class=\"sk-toggleable__content fitted\"><pre>Ridge(alpha=1)</pre></div> </div></div></div></div>"
      ],
      "text/plain": [
       "Ridge(alpha=1)"
      ]
     },
     "execution_count": 232,
     "metadata": {},
     "output_type": "execute_result"
    }
   ],
   "source": [
    "from sklearn.linear_model import Ridge\n",
    "\n",
    "ridge = Ridge(alpha=1)\n",
    "ridge.fit(X, Y)"
   ]
  },
  {
   "cell_type": "code",
   "execution_count": 233,
   "metadata": {
    "colab": {
     "base_uri": "https://localhost:8080/"
    },
    "id": "h6Nmb0VQpoZi",
    "outputId": "59d2d224-f88c-4fba-f8cc-caedcdfaf8a5"
   },
   "outputs": [
    {
     "data": {
      "text/plain": [
       "(array([[ 9.40155172e+01,  6.40494976e+01,  3.48816852e+04,\n",
       "         -2.79643852e+02,  3.76488073e-02]]),\n",
       " array([104037.80722763]))"
      ]
     },
     "execution_count": 233,
     "metadata": {},
     "output_type": "execute_result"
    }
   ],
   "source": [
    "ridge.coef_, ridge.intercept_"
   ]
  },
  {
   "cell_type": "code",
   "execution_count": 234,
   "metadata": {
    "colab": {
     "base_uri": "https://localhost:8080/"
    },
    "id": "syhuI_Ahp0xT",
    "outputId": "988945cc-cbeb-43d1-e7d0-157bf4f1987a"
   },
   "outputs": [
    {
     "data": {
      "text/plain": [
       "array([[1.29118805e+10]])"
      ]
     },
     "execution_count": 234,
     "metadata": {},
     "output_type": "execute_result"
    }
   ],
   "source": [
    "ridge.predict(newx)"
   ]
  },
  {
   "cell_type": "code",
   "execution_count": 235,
   "metadata": {
    "colab": {
     "base_uri": "https://localhost:8080/"
    },
    "id": "wjXop7Ug_cVU",
    "outputId": "c41e2ce4-f74c-4055-9d7b-c32050fd3036"
   },
   "outputs": [
    {
     "data": {
      "text/plain": [
       "0.949986258040074"
      ]
     },
     "execution_count": 235,
     "metadata": {},
     "output_type": "execute_result"
    }
   ],
   "source": [
    "ridge.score(X, Y)"
   ]
  },
  {
   "cell_type": "markdown",
   "metadata": {
    "id": "4Hjlj9608HJZ"
   },
   "source": [
    "### **What does Regularization achieve?**\n",
    "A standard least squares model tends to have some variance in it, i.e. this model won’t generalize well for a data set different than its training data. Regularization, significantly reduces the variance of the model, without substantial increase in its bias. So the tuning parameter λ, used in the regularization techniques described above, controls the impact on bias and variance. As the value of λ rises, it reduces the value of coefficients and thus reducing the variance. **Till a point, this increase in λ is beneficial as it is only reducing the variance(hence avoiding overfitting), without loosing any important properties in the data.** But after certain value, the model starts loosing important properties, giving rise to bias in the model and thus underfitting. Therefore, the value of λ should be carefully selected."
   ]
  },
  {
   "cell_type": "markdown",
   "metadata": {
    "id": "NNFylS8TqAZ9"
   },
   "source": [
    "## **Lasso Regression**\n",
    "\n",
    "![alt text](https://miro.medium.com/max/547/1*tHJ4sSPYV0bDr8xxEdiwXA.png)\n",
    "\n",
    "Lasso is another variation, in which the above function is minimized. Its clear that this variation differs from ridge regression only in penalizing the high coefficients. It uses **|βj|** (modulus) instead of squares of β, as its penalty. In statistics, this is known as the **L1 norm**."
   ]
  },
  {
   "cell_type": "markdown",
   "metadata": {
    "id": "OqwNTpSm-LhN"
   },
   "source": [
    "**Above Equations sheds light on the obvious disadvantage of ridge regression, which is model interpretability. It will shrink the coefficients for least important predictors, very close to zero. But it will never make them exactly zero. In other words, the final model will include all predictors. However, in the case of the lasso, the L1 penalty has the eﬀect of forcing some of the coeﬃcient estimates to be exactly equal to zero when the tuning parameter λ is suﬃciently large. Therefore, the lasso method also performs variable selection and is said to yield sparse models.**"
   ]
  },
  {
   "cell_type": "code",
   "execution_count": 236,
   "metadata": {
    "colab": {
     "base_uri": "https://localhost:8080/"
    },
    "id": "2qboMtQrqHEQ",
    "outputId": "eb4b2369-5760-4a3f-ca2a-a44d1766e0d7"
   },
   "outputs": [
    {
     "data": {
      "text/html": [
       "<style>#sk-container-id-9 {\n",
       "  /* Definition of color scheme common for light and dark mode */\n",
       "  --sklearn-color-text: black;\n",
       "  --sklearn-color-line: gray;\n",
       "  /* Definition of color scheme for unfitted estimators */\n",
       "  --sklearn-color-unfitted-level-0: #fff5e6;\n",
       "  --sklearn-color-unfitted-level-1: #f6e4d2;\n",
       "  --sklearn-color-unfitted-level-2: #ffe0b3;\n",
       "  --sklearn-color-unfitted-level-3: chocolate;\n",
       "  /* Definition of color scheme for fitted estimators */\n",
       "  --sklearn-color-fitted-level-0: #f0f8ff;\n",
       "  --sklearn-color-fitted-level-1: #d4ebff;\n",
       "  --sklearn-color-fitted-level-2: #b3dbfd;\n",
       "  --sklearn-color-fitted-level-3: cornflowerblue;\n",
       "\n",
       "  /* Specific color for light theme */\n",
       "  --sklearn-color-text-on-default-background: var(--sg-text-color, var(--theme-code-foreground, var(--jp-content-font-color1, black)));\n",
       "  --sklearn-color-background: var(--sg-background-color, var(--theme-background, var(--jp-layout-color0, white)));\n",
       "  --sklearn-color-border-box: var(--sg-text-color, var(--theme-code-foreground, var(--jp-content-font-color1, black)));\n",
       "  --sklearn-color-icon: #696969;\n",
       "\n",
       "  @media (prefers-color-scheme: dark) {\n",
       "    /* Redefinition of color scheme for dark theme */\n",
       "    --sklearn-color-text-on-default-background: var(--sg-text-color, var(--theme-code-foreground, var(--jp-content-font-color1, white)));\n",
       "    --sklearn-color-background: var(--sg-background-color, var(--theme-background, var(--jp-layout-color0, #111)));\n",
       "    --sklearn-color-border-box: var(--sg-text-color, var(--theme-code-foreground, var(--jp-content-font-color1, white)));\n",
       "    --sklearn-color-icon: #878787;\n",
       "  }\n",
       "}\n",
       "\n",
       "#sk-container-id-9 {\n",
       "  color: var(--sklearn-color-text);\n",
       "}\n",
       "\n",
       "#sk-container-id-9 pre {\n",
       "  padding: 0;\n",
       "}\n",
       "\n",
       "#sk-container-id-9 input.sk-hidden--visually {\n",
       "  border: 0;\n",
       "  clip: rect(1px 1px 1px 1px);\n",
       "  clip: rect(1px, 1px, 1px, 1px);\n",
       "  height: 1px;\n",
       "  margin: -1px;\n",
       "  overflow: hidden;\n",
       "  padding: 0;\n",
       "  position: absolute;\n",
       "  width: 1px;\n",
       "}\n",
       "\n",
       "#sk-container-id-9 div.sk-dashed-wrapped {\n",
       "  border: 1px dashed var(--sklearn-color-line);\n",
       "  margin: 0 0.4em 0.5em 0.4em;\n",
       "  box-sizing: border-box;\n",
       "  padding-bottom: 0.4em;\n",
       "  background-color: var(--sklearn-color-background);\n",
       "}\n",
       "\n",
       "#sk-container-id-9 div.sk-container {\n",
       "  /* jupyter's `normalize.less` sets `[hidden] { display: none; }`\n",
       "     but bootstrap.min.css set `[hidden] { display: none !important; }`\n",
       "     so we also need the `!important` here to be able to override the\n",
       "     default hidden behavior on the sphinx rendered scikit-learn.org.\n",
       "     See: https://github.com/scikit-learn/scikit-learn/issues/21755 */\n",
       "  display: inline-block !important;\n",
       "  position: relative;\n",
       "}\n",
       "\n",
       "#sk-container-id-9 div.sk-text-repr-fallback {\n",
       "  display: none;\n",
       "}\n",
       "\n",
       "div.sk-parallel-item,\n",
       "div.sk-serial,\n",
       "div.sk-item {\n",
       "  /* draw centered vertical line to link estimators */\n",
       "  background-image: linear-gradient(var(--sklearn-color-text-on-default-background), var(--sklearn-color-text-on-default-background));\n",
       "  background-size: 2px 100%;\n",
       "  background-repeat: no-repeat;\n",
       "  background-position: center center;\n",
       "}\n",
       "\n",
       "/* Parallel-specific style estimator block */\n",
       "\n",
       "#sk-container-id-9 div.sk-parallel-item::after {\n",
       "  content: \"\";\n",
       "  width: 100%;\n",
       "  border-bottom: 2px solid var(--sklearn-color-text-on-default-background);\n",
       "  flex-grow: 1;\n",
       "}\n",
       "\n",
       "#sk-container-id-9 div.sk-parallel {\n",
       "  display: flex;\n",
       "  align-items: stretch;\n",
       "  justify-content: center;\n",
       "  background-color: var(--sklearn-color-background);\n",
       "  position: relative;\n",
       "}\n",
       "\n",
       "#sk-container-id-9 div.sk-parallel-item {\n",
       "  display: flex;\n",
       "  flex-direction: column;\n",
       "}\n",
       "\n",
       "#sk-container-id-9 div.sk-parallel-item:first-child::after {\n",
       "  align-self: flex-end;\n",
       "  width: 50%;\n",
       "}\n",
       "\n",
       "#sk-container-id-9 div.sk-parallel-item:last-child::after {\n",
       "  align-self: flex-start;\n",
       "  width: 50%;\n",
       "}\n",
       "\n",
       "#sk-container-id-9 div.sk-parallel-item:only-child::after {\n",
       "  width: 0;\n",
       "}\n",
       "\n",
       "/* Serial-specific style estimator block */\n",
       "\n",
       "#sk-container-id-9 div.sk-serial {\n",
       "  display: flex;\n",
       "  flex-direction: column;\n",
       "  align-items: center;\n",
       "  background-color: var(--sklearn-color-background);\n",
       "  padding-right: 1em;\n",
       "  padding-left: 1em;\n",
       "}\n",
       "\n",
       "\n",
       "/* Toggleable style: style used for estimator/Pipeline/ColumnTransformer box that is\n",
       "clickable and can be expanded/collapsed.\n",
       "- Pipeline and ColumnTransformer use this feature and define the default style\n",
       "- Estimators will overwrite some part of the style using the `sk-estimator` class\n",
       "*/\n",
       "\n",
       "/* Pipeline and ColumnTransformer style (default) */\n",
       "\n",
       "#sk-container-id-9 div.sk-toggleable {\n",
       "  /* Default theme specific background. It is overwritten whether we have a\n",
       "  specific estimator or a Pipeline/ColumnTransformer */\n",
       "  background-color: var(--sklearn-color-background);\n",
       "}\n",
       "\n",
       "/* Toggleable label */\n",
       "#sk-container-id-9 label.sk-toggleable__label {\n",
       "  cursor: pointer;\n",
       "  display: block;\n",
       "  width: 100%;\n",
       "  margin-bottom: 0;\n",
       "  padding: 0.5em;\n",
       "  box-sizing: border-box;\n",
       "  text-align: center;\n",
       "}\n",
       "\n",
       "#sk-container-id-9 label.sk-toggleable__label-arrow:before {\n",
       "  /* Arrow on the left of the label */\n",
       "  content: \"▸\";\n",
       "  float: left;\n",
       "  margin-right: 0.25em;\n",
       "  color: var(--sklearn-color-icon);\n",
       "}\n",
       "\n",
       "#sk-container-id-9 label.sk-toggleable__label-arrow:hover:before {\n",
       "  color: var(--sklearn-color-text);\n",
       "}\n",
       "\n",
       "/* Toggleable content - dropdown */\n",
       "\n",
       "#sk-container-id-9 div.sk-toggleable__content {\n",
       "  max-height: 0;\n",
       "  max-width: 0;\n",
       "  overflow: hidden;\n",
       "  text-align: left;\n",
       "  /* unfitted */\n",
       "  background-color: var(--sklearn-color-unfitted-level-0);\n",
       "}\n",
       "\n",
       "#sk-container-id-9 div.sk-toggleable__content.fitted {\n",
       "  /* fitted */\n",
       "  background-color: var(--sklearn-color-fitted-level-0);\n",
       "}\n",
       "\n",
       "#sk-container-id-9 div.sk-toggleable__content pre {\n",
       "  margin: 0.2em;\n",
       "  border-radius: 0.25em;\n",
       "  color: var(--sklearn-color-text);\n",
       "  /* unfitted */\n",
       "  background-color: var(--sklearn-color-unfitted-level-0);\n",
       "}\n",
       "\n",
       "#sk-container-id-9 div.sk-toggleable__content.fitted pre {\n",
       "  /* unfitted */\n",
       "  background-color: var(--sklearn-color-fitted-level-0);\n",
       "}\n",
       "\n",
       "#sk-container-id-9 input.sk-toggleable__control:checked~div.sk-toggleable__content {\n",
       "  /* Expand drop-down */\n",
       "  max-height: 200px;\n",
       "  max-width: 100%;\n",
       "  overflow: auto;\n",
       "}\n",
       "\n",
       "#sk-container-id-9 input.sk-toggleable__control:checked~label.sk-toggleable__label-arrow:before {\n",
       "  content: \"▾\";\n",
       "}\n",
       "\n",
       "/* Pipeline/ColumnTransformer-specific style */\n",
       "\n",
       "#sk-container-id-9 div.sk-label input.sk-toggleable__control:checked~label.sk-toggleable__label {\n",
       "  color: var(--sklearn-color-text);\n",
       "  background-color: var(--sklearn-color-unfitted-level-2);\n",
       "}\n",
       "\n",
       "#sk-container-id-9 div.sk-label.fitted input.sk-toggleable__control:checked~label.sk-toggleable__label {\n",
       "  background-color: var(--sklearn-color-fitted-level-2);\n",
       "}\n",
       "\n",
       "/* Estimator-specific style */\n",
       "\n",
       "/* Colorize estimator box */\n",
       "#sk-container-id-9 div.sk-estimator input.sk-toggleable__control:checked~label.sk-toggleable__label {\n",
       "  /* unfitted */\n",
       "  background-color: var(--sklearn-color-unfitted-level-2);\n",
       "}\n",
       "\n",
       "#sk-container-id-9 div.sk-estimator.fitted input.sk-toggleable__control:checked~label.sk-toggleable__label {\n",
       "  /* fitted */\n",
       "  background-color: var(--sklearn-color-fitted-level-2);\n",
       "}\n",
       "\n",
       "#sk-container-id-9 div.sk-label label.sk-toggleable__label,\n",
       "#sk-container-id-9 div.sk-label label {\n",
       "  /* The background is the default theme color */\n",
       "  color: var(--sklearn-color-text-on-default-background);\n",
       "}\n",
       "\n",
       "/* On hover, darken the color of the background */\n",
       "#sk-container-id-9 div.sk-label:hover label.sk-toggleable__label {\n",
       "  color: var(--sklearn-color-text);\n",
       "  background-color: var(--sklearn-color-unfitted-level-2);\n",
       "}\n",
       "\n",
       "/* Label box, darken color on hover, fitted */\n",
       "#sk-container-id-9 div.sk-label.fitted:hover label.sk-toggleable__label.fitted {\n",
       "  color: var(--sklearn-color-text);\n",
       "  background-color: var(--sklearn-color-fitted-level-2);\n",
       "}\n",
       "\n",
       "/* Estimator label */\n",
       "\n",
       "#sk-container-id-9 div.sk-label label {\n",
       "  font-family: monospace;\n",
       "  font-weight: bold;\n",
       "  display: inline-block;\n",
       "  line-height: 1.2em;\n",
       "}\n",
       "\n",
       "#sk-container-id-9 div.sk-label-container {\n",
       "  text-align: center;\n",
       "}\n",
       "\n",
       "/* Estimator-specific */\n",
       "#sk-container-id-9 div.sk-estimator {\n",
       "  font-family: monospace;\n",
       "  border: 1px dotted var(--sklearn-color-border-box);\n",
       "  border-radius: 0.25em;\n",
       "  box-sizing: border-box;\n",
       "  margin-bottom: 0.5em;\n",
       "  /* unfitted */\n",
       "  background-color: var(--sklearn-color-unfitted-level-0);\n",
       "}\n",
       "\n",
       "#sk-container-id-9 div.sk-estimator.fitted {\n",
       "  /* fitted */\n",
       "  background-color: var(--sklearn-color-fitted-level-0);\n",
       "}\n",
       "\n",
       "/* on hover */\n",
       "#sk-container-id-9 div.sk-estimator:hover {\n",
       "  /* unfitted */\n",
       "  background-color: var(--sklearn-color-unfitted-level-2);\n",
       "}\n",
       "\n",
       "#sk-container-id-9 div.sk-estimator.fitted:hover {\n",
       "  /* fitted */\n",
       "  background-color: var(--sklearn-color-fitted-level-2);\n",
       "}\n",
       "\n",
       "/* Specification for estimator info (e.g. \"i\" and \"?\") */\n",
       "\n",
       "/* Common style for \"i\" and \"?\" */\n",
       "\n",
       ".sk-estimator-doc-link,\n",
       "a:link.sk-estimator-doc-link,\n",
       "a:visited.sk-estimator-doc-link {\n",
       "  float: right;\n",
       "  font-size: smaller;\n",
       "  line-height: 1em;\n",
       "  font-family: monospace;\n",
       "  background-color: var(--sklearn-color-background);\n",
       "  border-radius: 1em;\n",
       "  height: 1em;\n",
       "  width: 1em;\n",
       "  text-decoration: none !important;\n",
       "  margin-left: 1ex;\n",
       "  /* unfitted */\n",
       "  border: var(--sklearn-color-unfitted-level-1) 1pt solid;\n",
       "  color: var(--sklearn-color-unfitted-level-1);\n",
       "}\n",
       "\n",
       ".sk-estimator-doc-link.fitted,\n",
       "a:link.sk-estimator-doc-link.fitted,\n",
       "a:visited.sk-estimator-doc-link.fitted {\n",
       "  /* fitted */\n",
       "  border: var(--sklearn-color-fitted-level-1) 1pt solid;\n",
       "  color: var(--sklearn-color-fitted-level-1);\n",
       "}\n",
       "\n",
       "/* On hover */\n",
       "div.sk-estimator:hover .sk-estimator-doc-link:hover,\n",
       ".sk-estimator-doc-link:hover,\n",
       "div.sk-label-container:hover .sk-estimator-doc-link:hover,\n",
       ".sk-estimator-doc-link:hover {\n",
       "  /* unfitted */\n",
       "  background-color: var(--sklearn-color-unfitted-level-3);\n",
       "  color: var(--sklearn-color-background);\n",
       "  text-decoration: none;\n",
       "}\n",
       "\n",
       "div.sk-estimator.fitted:hover .sk-estimator-doc-link.fitted:hover,\n",
       ".sk-estimator-doc-link.fitted:hover,\n",
       "div.sk-label-container:hover .sk-estimator-doc-link.fitted:hover,\n",
       ".sk-estimator-doc-link.fitted:hover {\n",
       "  /* fitted */\n",
       "  background-color: var(--sklearn-color-fitted-level-3);\n",
       "  color: var(--sklearn-color-background);\n",
       "  text-decoration: none;\n",
       "}\n",
       "\n",
       "/* Span, style for the box shown on hovering the info icon */\n",
       ".sk-estimator-doc-link span {\n",
       "  display: none;\n",
       "  z-index: 9999;\n",
       "  position: relative;\n",
       "  font-weight: normal;\n",
       "  right: .2ex;\n",
       "  padding: .5ex;\n",
       "  margin: .5ex;\n",
       "  width: min-content;\n",
       "  min-width: 20ex;\n",
       "  max-width: 50ex;\n",
       "  color: var(--sklearn-color-text);\n",
       "  box-shadow: 2pt 2pt 4pt #999;\n",
       "  /* unfitted */\n",
       "  background: var(--sklearn-color-unfitted-level-0);\n",
       "  border: .5pt solid var(--sklearn-color-unfitted-level-3);\n",
       "}\n",
       "\n",
       ".sk-estimator-doc-link.fitted span {\n",
       "  /* fitted */\n",
       "  background: var(--sklearn-color-fitted-level-0);\n",
       "  border: var(--sklearn-color-fitted-level-3);\n",
       "}\n",
       "\n",
       ".sk-estimator-doc-link:hover span {\n",
       "  display: block;\n",
       "}\n",
       "\n",
       "/* \"?\"-specific style due to the `<a>` HTML tag */\n",
       "\n",
       "#sk-container-id-9 a.estimator_doc_link {\n",
       "  float: right;\n",
       "  font-size: 1rem;\n",
       "  line-height: 1em;\n",
       "  font-family: monospace;\n",
       "  background-color: var(--sklearn-color-background);\n",
       "  border-radius: 1rem;\n",
       "  height: 1rem;\n",
       "  width: 1rem;\n",
       "  text-decoration: none;\n",
       "  /* unfitted */\n",
       "  color: var(--sklearn-color-unfitted-level-1);\n",
       "  border: var(--sklearn-color-unfitted-level-1) 1pt solid;\n",
       "}\n",
       "\n",
       "#sk-container-id-9 a.estimator_doc_link.fitted {\n",
       "  /* fitted */\n",
       "  border: var(--sklearn-color-fitted-level-1) 1pt solid;\n",
       "  color: var(--sklearn-color-fitted-level-1);\n",
       "}\n",
       "\n",
       "/* On hover */\n",
       "#sk-container-id-9 a.estimator_doc_link:hover {\n",
       "  /* unfitted */\n",
       "  background-color: var(--sklearn-color-unfitted-level-3);\n",
       "  color: var(--sklearn-color-background);\n",
       "  text-decoration: none;\n",
       "}\n",
       "\n",
       "#sk-container-id-9 a.estimator_doc_link.fitted:hover {\n",
       "  /* fitted */\n",
       "  background-color: var(--sklearn-color-fitted-level-3);\n",
       "}\n",
       "</style><div id=\"sk-container-id-9\" class=\"sk-top-container\"><div class=\"sk-text-repr-fallback\"><pre>Lasso(alpha=0.1)</pre><b>In a Jupyter environment, please rerun this cell to show the HTML representation or trust the notebook. <br />On GitHub, the HTML representation is unable to render, please try loading this page with nbviewer.org.</b></div><div class=\"sk-container\" hidden><div class=\"sk-item\"><div class=\"sk-estimator fitted sk-toggleable\"><input class=\"sk-toggleable__control sk-hidden--visually\" id=\"sk-estimator-id-9\" type=\"checkbox\" checked><label for=\"sk-estimator-id-9\" class=\"sk-toggleable__label fitted sk-toggleable__label-arrow fitted\">&nbsp;&nbsp;Lasso<a class=\"sk-estimator-doc-link fitted\" rel=\"noreferrer\" target=\"_blank\" href=\"https://scikit-learn.org/1.5/modules/generated/sklearn.linear_model.Lasso.html\">?<span>Documentation for Lasso</span></a><span class=\"sk-estimator-doc-link fitted\">i<span>Fitted</span></span></label><div class=\"sk-toggleable__content fitted\"><pre>Lasso(alpha=0.1)</pre></div> </div></div></div></div>"
      ],
      "text/plain": [
       "Lasso(alpha=0.1)"
      ]
     },
     "execution_count": 236,
     "metadata": {},
     "output_type": "execute_result"
    }
   ],
   "source": [
    "from sklearn.linear_model import Lasso\n",
    "\n",
    "lasso = Lasso(alpha=0.1)\n",
    "lasso.fit(X, Y)"
   ]
  },
  {
   "cell_type": "code",
   "execution_count": 237,
   "metadata": {},
   "outputs": [
    {
     "data": {
      "text/plain": [
       "(array([[ 9.40155172e+01,  6.40494976e+01,  3.48816852e+04,\n",
       "         -2.79643852e+02,  3.76488073e-02]]),\n",
       " array([104037.80722763]))"
      ]
     },
     "execution_count": 237,
     "metadata": {},
     "output_type": "execute_result"
    }
   ],
   "source": [
    "ridge.coef_, ridge.intercept_"
   ]
  },
  {
   "cell_type": "code",
   "execution_count": 238,
   "metadata": {
    "colab": {
     "base_uri": "https://localhost:8080/"
    },
    "id": "_R9i2cqxqHHU",
    "outputId": "272ed925-eb24-45b9-cf11-da05ea73807e"
   },
   "outputs": [
    {
     "data": {
      "text/plain": [
       "(array([ 1.98267535e+02, -1.98777912e+01,  3.66264579e+04, -7.48906710e+02,\n",
       "         2.69801108e-02]),\n",
       " array([106255.81036598]))"
      ]
     },
     "execution_count": 238,
     "metadata": {},
     "output_type": "execute_result"
    }
   ],
   "source": [
    "lasso.coef_, lasso.intercept_"
   ]
  },
  {
   "cell_type": "code",
   "execution_count": 239,
   "metadata": {},
   "outputs": [
    {
     "data": {
      "text/plain": [
       "(array([[ 1.98788793e+02, -1.98422484e+01,  3.66264283e+04,\n",
       "         -7.48997469e+02,  2.69798610e-02]]),\n",
       " array([106255.69627487]))"
      ]
     },
     "execution_count": 239,
     "metadata": {},
     "output_type": "execute_result"
    }
   ],
   "source": [
    "mlr.coef_, mlr.intercept_"
   ]
  },
  {
   "cell_type": "code",
   "execution_count": 240,
   "metadata": {
    "colab": {
     "base_uri": "https://localhost:8080/"
    },
    "id": "EZxXSs1qqHLG",
    "outputId": "1e1cb977-a667-4b91-d515-33d90bde4b67"
   },
   "outputs": [
    {
     "data": {
      "text/plain": [
       "array([1.35577259e+10])"
      ]
     },
     "execution_count": 240,
     "metadata": {},
     "output_type": "execute_result"
    }
   ],
   "source": [
    "lasso.predict(newx)"
   ]
  },
  {
   "cell_type": "code",
   "execution_count": 241,
   "metadata": {
    "colab": {
     "base_uri": "https://localhost:8080/"
    },
    "id": "884lI0kHqHN8",
    "outputId": "91b60b8a-843e-467b-b1c4-43f556b9a0e0"
   },
   "outputs": [
    {
     "data": {
      "text/plain": [
       "0.9507524842982813"
      ]
     },
     "execution_count": 241,
     "metadata": {},
     "output_type": "execute_result"
    }
   ],
   "source": [
    "lasso.score(X, Y)"
   ]
  },
  {
   "cell_type": "code",
   "execution_count": null,
   "metadata": {},
   "outputs": [],
   "source": []
  },
  {
   "cell_type": "code",
   "execution_count": null,
   "metadata": {},
   "outputs": [],
   "source": []
  },
  {
   "cell_type": "code",
   "execution_count": null,
   "metadata": {},
   "outputs": [],
   "source": []
  },
  {
   "cell_type": "code",
   "execution_count": null,
   "metadata": {},
   "outputs": [],
   "source": []
  },
  {
   "cell_type": "code",
   "execution_count": 242,
   "metadata": {},
   "outputs": [
    {
     "data": {
      "text/plain": [
       "0.07502662207574873"
      ]
     },
     "execution_count": 242,
     "metadata": {},
     "output_type": "execute_result"
    }
   ],
   "source": [
    "from sklearn.linear_model import LinearRegression\n",
    "from sklearn.preprocessing import PolynomialFeatures\n",
    "\n",
    "poly = PolynomialFeatures(degree=3, include_bias=False)\n",
    "\n",
    "x_ = df.iloc[:, 2:3].values\n",
    "x__ = poly.fit_transform(x_)\n",
    "test_lr = LinearRegression()\n",
    "test_lr.fit(x__, Y)\n",
    "test_lr.score(x__, Y)"
   ]
  },
  {
   "cell_type": "code",
   "execution_count": 243,
   "metadata": {},
   "outputs": [
    {
     "data": {
      "text/plain": [
       "<matplotlib.collections.PathCollection at 0x738f54f19be0>"
      ]
     },
     "execution_count": 243,
     "metadata": {},
     "output_type": "execute_result"
    },
    {
     "data": {
      "image/png": "[encoded data removed]",
      "text/plain": [
       "<Figure size 640x480 with 1 Axes>"
      ]
     },
     "metadata": {},
     "output_type": "display_data"
    }
   ],
   "source": [
    "plt.scatter(x_, Y)"
   ]
  },
  {
   "cell_type": "code",
   "execution_count": null,
   "metadata": {},
   "outputs": [],
   "source": []
  }
 ],
 "metadata": {
  "colab": {
   "provenance": []
  },
  "kernelspec": {
   "display_name": "ml",
   "language": "python",
   "name": "python3"
  },
  "language_info": {
   "codemirror_mode": {
    "name": "ipython",
    "version": 3
   },
   "file_extension": ".py",
   "mimetype": "text/x-python",
   "name": "python",
   "nbconvert_exporter": "python",
   "pygments_lexer": "ipython3",
   "version": "3.12.7"
  }
 },
 "nbformat": 4,
 "nbformat_minor": 1
}
