{
 "cells": [
  {
   "cell_type": "markdown",
   "metadata": {},
   "source": [
    "# **What is supervised learning?**\n",
    "Supervised learning is a machine learning approach that’s defined by its use of labeled datasets. These datasets are designed to train or “supervise” algorithms into classifying data or predicting outcomes accurately. Using labeled inputs and outputs, the model can measure its accuracy and learn over time.\n",
    "\n",
    "Supervised learning can be separated into two types of problems when data mining: classification and regression:\n",
    "\n",
    "**Classification** problems use an algorithm to accurately assign test data into specific categories, such as separating apples from oranges. Or, in the real world, supervised learning algorithms can be used to classify spam in a separate folder from your inbox. `Linear classifiers, support vector machines, decision trees and random forest` are all common types of classification algorithms.\n",
    "\n",
    "**Regression** is another type of supervised learning method that uses an algorithm to understand the relationship between dependent and independent variables. Regression models are helpful for predicting numerical values based on different data points, such as sales revenue projections for a given business. Some popular regression algorithms are linear regression, logistic regression and polynomial regression.\n",
    "\n",
    "\n",
    "![supervised_vs_unsupervised](https://static.javatpoint.com/tutorial/machine-learning/images/difference-between-supervised-and-unsupervised-learning.jpg)\n",
    "\n",
    "\n",
    "# **What is unsupervised learning?**\n",
    "Unsupervised learning uses machine learning algorithms to analyze and cluster unlabeled data sets. These algorithms discover hidden patterns in data without the need for human intervention (hence, they are “unsupervised”).\n",
    "\n",
    "Unsupervised learning models are used for three main tasks: clustering, association and dimensionality reduction:\n",
    "\n",
    "**Clustering** is a data mining technique for grouping unlabeled data based on their similarities or differences. For example, K-means clustering algorithms assign similar data points into groups, where the K value represents the size of the grouping and granularity. This technique is helpful for market segmentation, image compression, etc.\n",
    "\n",
    "**Association** is another type of unsupervised learning method that uses different rules to find relationships between variables in a given dataset. These methods are frequently used for market basket analysis and recommendation engines, along the lines of “Customers Who Bought This Item Also Bought” recommendations.\n",
    "\n",
    "**Dimensionality reduction** is a learning technique used when the number of features  (or dimensions) in a given dataset is too high. It reduces the number of data inputs to a manageable size while also preserving the data integrity. Often, this technique is used in the preprocessing data stage, such as when autoencoders remove noise from visual data to improve picture quality."
   ]
  },
  {
   "cell_type": "markdown",
   "metadata": {},
   "source": [
    "# **What is Regression?**\n",
    "\n",
    "Regression is a supervised machine learning algorithm. It is a form of predictive modeling technique that depicts the relationship between a dependent (target) and the independent variables (predictors).\n",
    "\n",
    "Regression is basically a statistical approach to find the relationship between variables. In machine learning, this is used to predict the outcome of an event based on the relationship between variables obtained from the data-set.More specifically, Regression analysis helps us to understand how the value of the dependent variable is changing corresponding to an independent variable when other independent variables are held fixed.\n",
    "\n",
    "This technique is used for forecasting, time series modeling and finding the causal effect relationship between the variables.\n",
    "\n",
    "**Example:** Suppose there is a marketing company A, who does various advertisements every year and gets sales on that. The below list shows the advertisement made by the company in the last 5 years and the corresponding sales:\n"
   ]
  },
  {
   "cell_type": "markdown",
   "metadata": {
    "id": "Gk8mR-0KE09u"
   },
   "source": [
    "![alt text](https://lh4.googleusercontent.com/NnPzy1CF9iKktdP5LG7HMMJppFvKhIKTM-iezzMsUeufUKpqRF2TXn45q0EPhjuiBDqSvWjEWobbOGx71IZxaO40CRFBLOI_6yPzZMS0TXQ_mF1vz-kU0fL_N_nXq4y1aS2FGlUQ)\n",
    "\n",
    "Now, the company wants to do the advertisement of 5,000₹ in the year 2020 and wants to know the prediction about the sales for this year. So to solve such types of prediction problems in machine learning, we need **regression analysis**."
   ]
  },
  {
   "cell_type": "markdown",
   "metadata": {
    "id": "lBG0DuCHFrO5"
   },
   "source": [
    "## **Why do we use Regression Analysis?**\n",
    "As mentioned above, Regression analysis helps in the prediction of a continuous variable. There are various scenarios in the real world where we need some future predictions such as weather conditions, sales prediction, marketing trends, etc. For such a case we need some technology which can make predictions more accurately. So for such a case we need Regression analysis which is a statistical method and used in machine learning and data science. Below are some other reasons for using Regression analysis:\n",
    "- Regression estimates the relationship between the target and the independent variable.\n",
    "- It is used to find the trends in data. {it can be a linear trend}\n",
    "- It helps to predict real/continuous values.\n",
    "- By performing the regression, we can confidently determine the most important factor, the least important factor, and how each factor is affecting the other factors.\n"
   ]
  },
  {
   "cell_type": "markdown",
   "metadata": {
    "id": "zkZNiS7NGStx"
   },
   "source": [
    "## **TECHNIQUE 1: SIMPLE LINEAR REGRESSION**\n",
    "\n",
    "\n",
    "Simple Linear Regression is a type of Regression algorithm that models the relationship between a dependent variable and a single independent variable. The relationship shown by a Simple Linear Regression model is linear or a sloped straight line, hence it is called Simple Linear Regression.\n",
    "\n",
    "The key point in Simple Linear Regression is that the **dependent variable must be a continuous/real value**. However, the independent variable can be measured on continuous or categorical values.\n",
    "\n",
    "Simple Linear regression algorithm has mainly two objectives:\n",
    "- Model the relationship between the two variables. Such as the relationship between Income and expenditure, experience and Salary, etc.\n",
    "- Forecasting new observations. Such as Weather forecasting according to temperature, Revenue of a company according to the investments in a year, etc.\n",
    " \n",
    "**Simple Linear Regression Model:**\n",
    "\n",
    "The Simple Linear Regression model can be represented using the below equation:\n",
    "\n",
    "**y= mx+c**\n",
    "\n",
    "Here, \n",
    "\n",
    "y is the dependent variable we are trying to predict.\n",
    "\n",
    "x is the independent variable we are using to make predictions.\n",
    "\n",
    "m is the slope of the regression line which represents the effect X has on Y\n",
    "\n",
    "c is a constant\n"
   ]
  },
  {
   "cell_type": "markdown",
   "metadata": {
    "id": "9-jk373lGrwZ"
   },
   "source": [
    "**Problem Statement example for Simple Linear Regression:**\n",
    "\n",
    "Here we are taking a dataset that has two variables: **salary (dependent variable)** and **experience (Independent variable)** for a particular domain.\n",
    "\n",
    "Eg. IT industry. The goals of this problem is:\n",
    "\n",
    "We want to find out if there is any correlation between these two variables\n",
    "We will find the best fit line for the dataset.\n",
    "How the dependent variable is changing by changing the dependent variable.\n",
    " \n",
    "Our Dataset:\n",
    "\n",
    "![alt_text](https://lh5.googleusercontent.com/y2h3SaExzeoYxUptSHAolI2If7ffawlnYTN_TeHCiwrJ0Y3UXuF_H1W5gRnPI59UpJy7A4n-MEZwPYkrVYe79W79WIB5iUuHgWVw8a9CFEUqGWXLA_lkcGFyeGB-ARJRC2iORbr5)"
   ]
  },
  {
   "cell_type": "markdown",
   "metadata": {
    "id": "cbIn1qAGHHOB"
   },
   "source": [
    "# **Step 1: Data Preprocessing**\n",
    "\n",
    "1. First, we will import the important library, which will help us for loading the dataset.\n"
   ]
  },
  {
   "cell_type": "code",
   "execution_count": 16,
   "metadata": {
    "id": "18bvFEYyHm_C"
   },
   "outputs": [],
   "source": [
    "import pandas as pd"
   ]
  },
  {
   "cell_type": "code",
   "execution_count": 17,
   "metadata": {},
   "outputs": [],
   "source": [
    "# %conda install openpyxl"
   ]
  },
  {
   "cell_type": "markdown",
   "metadata": {
    "id": "MDUarkBPHvNh"
   },
   "source": [
    "2. Next, we will load the dataset into our code:"
   ]
  },
  {
   "cell_type": "code",
   "execution_count": 18,
   "metadata": {
    "id": "ndK4uJ_wHqcp"
   },
   "outputs": [],
   "source": [
    "df = pd.read_excel(r'data/years_experience_salary.xlsx')"
   ]
  },
  {
   "cell_type": "markdown",
   "metadata": {
    "id": "bJoIe3vyLXdk"
   },
   "source": [
    "3. Reading dataset"
   ]
  },
  {
   "cell_type": "code",
   "execution_count": 19,
   "metadata": {
    "colab": {
     "base_uri": "https://localhost:8080/",
     "height": 203
    },
    "id": "bp7zR0P9HqfO",
    "outputId": "77b8202d-9a04-4f0e-a857-026c68449d85"
   },
   "outputs": [
    {
     "data": {
      "text/html": [
       "<div>\n",
       "<style scoped>\n",
       "    .dataframe tbody tr th:only-of-type {\n",
       "        vertical-align: middle;\n",
       "    }\n",
       "\n",
       "    .dataframe tbody tr th {\n",
       "        vertical-align: top;\n",
       "    }\n",
       "\n",
       "    .dataframe thead th {\n",
       "        text-align: right;\n",
       "    }\n",
       "</style>\n",
       "<table border=\"1\" class=\"dataframe\">\n",
       "  <thead>\n",
       "    <tr style=\"text-align: right;\">\n",
       "      <th></th>\n",
       "      <th>YearExperience</th>\n",
       "      <th>Salary</th>\n",
       "    </tr>\n",
       "  </thead>\n",
       "  <tbody>\n",
       "    <tr>\n",
       "      <th>0</th>\n",
       "      <td>1.1</td>\n",
       "      <td>39343</td>\n",
       "    </tr>\n",
       "    <tr>\n",
       "      <th>1</th>\n",
       "      <td>1.3</td>\n",
       "      <td>46205</td>\n",
       "    </tr>\n",
       "    <tr>\n",
       "      <th>2</th>\n",
       "      <td>1.5</td>\n",
       "      <td>37731</td>\n",
       "    </tr>\n",
       "    <tr>\n",
       "      <th>3</th>\n",
       "      <td>2.0</td>\n",
       "      <td>43525</td>\n",
       "    </tr>\n",
       "    <tr>\n",
       "      <th>4</th>\n",
       "      <td>2.2</td>\n",
       "      <td>39891</td>\n",
       "    </tr>\n",
       "  </tbody>\n",
       "</table>\n",
       "</div>"
      ],
      "text/plain": [
       "   YearExperience  Salary\n",
       "0             1.1   39343\n",
       "1             1.3   46205\n",
       "2             1.5   37731\n",
       "3             2.0   43525\n",
       "4             2.2   39891"
      ]
     },
     "execution_count": 19,
     "metadata": {},
     "output_type": "execute_result"
    }
   ],
   "source": [
    "df.head()"
   ]
  },
  {
   "cell_type": "code",
   "execution_count": 20,
   "metadata": {},
   "outputs": [
    {
     "name": "stdout",
     "output_type": "stream",
     "text": [
      "<class 'pandas.core.frame.DataFrame'>\n",
      "RangeIndex: 30 entries, 0 to 29\n",
      "Data columns (total 2 columns):\n",
      " #   Column          Non-Null Count  Dtype  \n",
      "---  ------          --------------  -----  \n",
      " 0   YearExperience  30 non-null     float64\n",
      " 1   Salary          30 non-null     int64  \n",
      "dtypes: float64(1), int64(1)\n",
      "memory usage: 612.0 bytes\n"
     ]
    }
   ],
   "source": [
    "df.info()"
   ]
  },
  {
   "cell_type": "markdown",
   "metadata": {
    "id": "WmgFbz1OeWdq"
   },
   "source": [
    "Let's first of everything plot our data using scatterplot to have some visualization regarding data."
   ]
  },
  {
   "cell_type": "code",
   "execution_count": 21,
   "metadata": {},
   "outputs": [
    {
     "data": {
      "text/plain": [
       "array([ 1.1,  1.3,  1.5,  2. ,  2.2,  2.9,  3. ,  3.2,  3.2,  3.7,  3.9,\n",
       "        4. ,  4. ,  4.1,  4.5,  4.9,  5.1,  5.3,  5.9,  6. ,  6.8,  7.1,\n",
       "        7.9,  8.2,  8.7,  9. ,  9.5,  9.6, 10.3, 10.5])"
      ]
     },
     "execution_count": 21,
     "metadata": {},
     "output_type": "execute_result"
    }
   ],
   "source": [
    "df['YearExperience'].values"
   ]
  },
  {
   "cell_type": "code",
   "execution_count": 22,
   "metadata": {
    "colab": {
     "base_uri": "https://localhost:8080/",
     "height": 296
    },
    "id": "uabYeVzXegf3",
    "outputId": "fac77db1-f8e0-4f26-8c04-0928d275a806"
   },
   "outputs": [
    {
     "data": {
      "text/plain": [
       "<matplotlib.collections.PathCollection at 0x774e169eee40>"
      ]
     },
     "execution_count": 22,
     "metadata": {},
     "output_type": "execute_result"
    },
    {
     "data": {
      "image/png": "[encoded data removed]",
      "text/plain": [
       "<Figure size 640x480 with 1 Axes>"
      ]
     },
     "metadata": {},
     "output_type": "display_data"
    }
   ],
   "source": [
    "import matplotlib.pyplot as plt\n",
    "\n",
    "years_of_experience = df['YearExperience'].values\n",
    "salary = df['Salary'].values\n",
    "plt.scatter(years_of_experience, salary)"
   ]
  },
  {
   "cell_type": "markdown",
   "metadata": {
    "id": "rVXfhaBlLnCT"
   },
   "source": [
    "4. After that, we need to extract the dependent and independent variables from the given dataset. The independent variable is years of experience, and the dependent variable is salary. Below is code for it:"
   ]
  },
  {
   "cell_type": "code",
   "execution_count": 23,
   "metadata": {},
   "outputs": [
    {
     "data": {
      "text/plain": [
       "2"
      ]
     },
     "execution_count": 23,
     "metadata": {},
     "output_type": "execute_result"
    }
   ],
   "source": [
    "df.iloc[: ,1:2].values.ndim"
   ]
  },
  {
   "cell_type": "code",
   "execution_count": 24,
   "metadata": {
    "id": "s8AIMLBdHqg-"
   },
   "outputs": [],
   "source": [
    "X = df.iloc[: ,0:1].values  #independent\n",
    "Y = df.iloc[: ,1:2].values  #dependent"
   ]
  },
  {
   "cell_type": "code",
   "execution_count": 25,
   "metadata": {
    "colab": {
     "base_uri": "https://localhost:8080/"
    },
    "id": "9oRE50XOHqkq",
    "outputId": "48a4e39f-d80b-480f-f677-d5bed2a27a09"
   },
   "outputs": [
    {
     "data": {
      "text/plain": [
       "array([[1.1],\n",
       "       [1.3],\n",
       "       [1.5],\n",
       "       [2. ],\n",
       "       [2.2]])"
      ]
     },
     "execution_count": 25,
     "metadata": {},
     "output_type": "execute_result"
    }
   ],
   "source": [
    "X[:5]"
   ]
  },
  {
   "cell_type": "code",
   "execution_count": 26,
   "metadata": {
    "colab": {
     "base_uri": "https://localhost:8080/"
    },
    "id": "ZKxT9eFaHqnS",
    "outputId": "8b3d4d6e-a4b1-4757-a192-e6f2ad182b9a"
   },
   "outputs": [
    {
     "data": {
      "text/plain": [
       "array([[39343],\n",
       "       [46205],\n",
       "       [37731],\n",
       "       [43525],\n",
       "       [39891]])"
      ]
     },
     "execution_count": 26,
     "metadata": {},
     "output_type": "execute_result"
    }
   ],
   "source": [
    "Y[:5]"
   ]
  },
  {
   "cell_type": "markdown",
   "metadata": {},
   "source": [
    "# **Scikit-Learn**\n",
    "\n",
    "Scikit-learn is a library in Python that provides many unsupervised and supervised learning algorithms. It’s built upon some of the technology you might already be familiar with, like NumPy, pandas, and Matplotlib!\n",
    "\n",
    "The functionality that scikit-learn provides include:\n",
    "\n",
    "- Regression, including Linear and Logistic Regression\n",
    "- Classification, including K-Nearest Neighbors\n",
    "- Clustering, including K-Means and K-Means++\n",
    "- Model selection\n",
    "- Preprocessing, including Min-Max Normalization\n"
   ]
  },
  {
   "cell_type": "markdown",
   "metadata": {
    "id": "wx9HIs_tMPsK"
   },
   "source": [
    "# **Step-2: Fitting the Simple Linear Regression**\n",
    "Now the second step is to fit our model to the dataset. To do so, we will import the **LinearRegression** class of the **linear_model** library from the scikit learn. After importing the class, we are going to create an object of the class named as a slr. The code for this is given below:"
   ]
  },
  {
   "cell_type": "code",
   "execution_count": 27,
   "metadata": {},
   "outputs": [],
   "source": [
    "# %pip install scikit-learn"
   ]
  },
  {
   "cell_type": "code",
   "execution_count": 28,
   "metadata": {
    "colab": {
     "base_uri": "https://localhost:8080/"
    },
    "id": "zNxpNIwLHqp7",
    "outputId": "cef271be-e3cb-46f5-ce59-42b411d54f39"
   },
   "outputs": [
    {
     "data": {
      "text/html": [
       "<style>#sk-container-id-1 {\n",
       "  /* Definition of color scheme common for light and dark mode */\n",
       "  --sklearn-color-text: black;\n",
       "  --sklearn-color-line: gray;\n",
       "  /* Definition of color scheme for unfitted estimators */\n",
       "  --sklearn-color-unfitted-level-0: #fff5e6;\n",
       "  --sklearn-color-unfitted-level-1: #f6e4d2;\n",
       "  --sklearn-color-unfitted-level-2: #ffe0b3;\n",
       "  --sklearn-color-unfitted-level-3: chocolate;\n",
       "  /* Definition of color scheme for fitted estimators */\n",
       "  --sklearn-color-fitted-level-0: #f0f8ff;\n",
       "  --sklearn-color-fitted-level-1: #d4ebff;\n",
       "  --sklearn-color-fitted-level-2: #b3dbfd;\n",
       "  --sklearn-color-fitted-level-3: cornflowerblue;\n",
       "\n",
       "  /* Specific color for light theme */\n",
       "  --sklearn-color-text-on-default-background: var(--sg-text-color, var(--theme-code-foreground, var(--jp-content-font-color1, black)));\n",
       "  --sklearn-color-background: var(--sg-background-color, var(--theme-background, var(--jp-layout-color0, white)));\n",
       "  --sklearn-color-border-box: var(--sg-text-color, var(--theme-code-foreground, var(--jp-content-font-color1, black)));\n",
       "  --sklearn-color-icon: #696969;\n",
       "\n",
       "  @media (prefers-color-scheme: dark) {\n",
       "    /* Redefinition of color scheme for dark theme */\n",
       "    --sklearn-color-text-on-default-background: var(--sg-text-color, var(--theme-code-foreground, var(--jp-content-font-color1, white)));\n",
       "    --sklearn-color-background: var(--sg-background-color, var(--theme-background, var(--jp-layout-color0, #111)));\n",
       "    --sklearn-color-border-box: var(--sg-text-color, var(--theme-code-foreground, var(--jp-content-font-color1, white)));\n",
       "    --sklearn-color-icon: #878787;\n",
       "  }\n",
       "}\n",
       "\n",
       "#sk-container-id-1 {\n",
       "  color: var(--sklearn-color-text);\n",
       "}\n",
       "\n",
       "#sk-container-id-1 pre {\n",
       "  padding: 0;\n",
       "}\n",
       "\n",
       "#sk-container-id-1 input.sk-hidden--visually {\n",
       "  border: 0;\n",
       "  clip: rect(1px 1px 1px 1px);\n",
       "  clip: rect(1px, 1px, 1px, 1px);\n",
       "  height: 1px;\n",
       "  margin: -1px;\n",
       "  overflow: hidden;\n",
       "  padding: 0;\n",
       "  position: absolute;\n",
       "  width: 1px;\n",
       "}\n",
       "\n",
       "#sk-container-id-1 div.sk-dashed-wrapped {\n",
       "  border: 1px dashed var(--sklearn-color-line);\n",
       "  margin: 0 0.4em 0.5em 0.4em;\n",
       "  box-sizing: border-box;\n",
       "  padding-bottom: 0.4em;\n",
       "  background-color: var(--sklearn-color-background);\n",
       "}\n",
       "\n",
       "#sk-container-id-1 div.sk-container {\n",
       "  /* jupyter's `normalize.less` sets `[hidden] { display: none; }`\n",
       "     but bootstrap.min.css set `[hidden] { display: none !important; }`\n",
       "     so we also need the `!important` here to be able to override the\n",
       "     default hidden behavior on the sphinx rendered scikit-learn.org.\n",
       "     See: https://github.com/scikit-learn/scikit-learn/issues/21755 */\n",
       "  display: inline-block !important;\n",
       "  position: relative;\n",
       "}\n",
       "\n",
       "#sk-container-id-1 div.sk-text-repr-fallback {\n",
       "  display: none;\n",
       "}\n",
       "\n",
       "div.sk-parallel-item,\n",
       "div.sk-serial,\n",
       "div.sk-item {\n",
       "  /* draw centered vertical line to link estimators */\n",
       "  background-image: linear-gradient(var(--sklearn-color-text-on-default-background), var(--sklearn-color-text-on-default-background));\n",
       "  background-size: 2px 100%;\n",
       "  background-repeat: no-repeat;\n",
       "  background-position: center center;\n",
       "}\n",
       "\n",
       "/* Parallel-specific style estimator block */\n",
       "\n",
       "#sk-container-id-1 div.sk-parallel-item::after {\n",
       "  content: \"\";\n",
       "  width: 100%;\n",
       "  border-bottom: 2px solid var(--sklearn-color-text-on-default-background);\n",
       "  flex-grow: 1;\n",
       "}\n",
       "\n",
       "#sk-container-id-1 div.sk-parallel {\n",
       "  display: flex;\n",
       "  align-items: stretch;\n",
       "  justify-content: center;\n",
       "  background-color: var(--sklearn-color-background);\n",
       "  position: relative;\n",
       "}\n",
       "\n",
       "#sk-container-id-1 div.sk-parallel-item {\n",
       "  display: flex;\n",
       "  flex-direction: column;\n",
       "}\n",
       "\n",
       "#sk-container-id-1 div.sk-parallel-item:first-child::after {\n",
       "  align-self: flex-end;\n",
       "  width: 50%;\n",
       "}\n",
       "\n",
       "#sk-container-id-1 div.sk-parallel-item:last-child::after {\n",
       "  align-self: flex-start;\n",
       "  width: 50%;\n",
       "}\n",
       "\n",
       "#sk-container-id-1 div.sk-parallel-item:only-child::after {\n",
       "  width: 0;\n",
       "}\n",
       "\n",
       "/* Serial-specific style estimator block */\n",
       "\n",
       "#sk-container-id-1 div.sk-serial {\n",
       "  display: flex;\n",
       "  flex-direction: column;\n",
       "  align-items: center;\n",
       "  background-color: var(--sklearn-color-background);\n",
       "  padding-right: 1em;\n",
       "  padding-left: 1em;\n",
       "}\n",
       "\n",
       "\n",
       "/* Toggleable style: style used for estimator/Pipeline/ColumnTransformer box that is\n",
       "clickable and can be expanded/collapsed.\n",
       "- Pipeline and ColumnTransformer use this feature and define the default style\n",
       "- Estimators will overwrite some part of the style using the `sk-estimator` class\n",
       "*/\n",
       "\n",
       "/* Pipeline and ColumnTransformer style (default) */\n",
       "\n",
       "#sk-container-id-1 div.sk-toggleable {\n",
       "  /* Default theme specific background. It is overwritten whether we have a\n",
       "  specific estimator or a Pipeline/ColumnTransformer */\n",
       "  background-color: var(--sklearn-color-background);\n",
       "}\n",
       "\n",
       "/* Toggleable label */\n",
       "#sk-container-id-1 label.sk-toggleable__label {\n",
       "  cursor: pointer;\n",
       "  display: block;\n",
       "  width: 100%;\n",
       "  margin-bottom: 0;\n",
       "  padding: 0.5em;\n",
       "  box-sizing: border-box;\n",
       "  text-align: center;\n",
       "}\n",
       "\n",
       "#sk-container-id-1 label.sk-toggleable__label-arrow:before {\n",
       "  /* Arrow on the left of the label */\n",
       "  content: \"▸\";\n",
       "  float: left;\n",
       "  margin-right: 0.25em;\n",
       "  color: var(--sklearn-color-icon);\n",
       "}\n",
       "\n",
       "#sk-container-id-1 label.sk-toggleable__label-arrow:hover:before {\n",
       "  color: var(--sklearn-color-text);\n",
       "}\n",
       "\n",
       "/* Toggleable content - dropdown */\n",
       "\n",
       "#sk-container-id-1 div.sk-toggleable__content {\n",
       "  max-height: 0;\n",
       "  max-width: 0;\n",
       "  overflow: hidden;\n",
       "  text-align: left;\n",
       "  /* unfitted */\n",
       "  background-color: var(--sklearn-color-unfitted-level-0);\n",
       "}\n",
       "\n",
       "#sk-container-id-1 div.sk-toggleable__content.fitted {\n",
       "  /* fitted */\n",
       "  background-color: var(--sklearn-color-fitted-level-0);\n",
       "}\n",
       "\n",
       "#sk-container-id-1 div.sk-toggleable__content pre {\n",
       "  margin: 0.2em;\n",
       "  border-radius: 0.25em;\n",
       "  color: var(--sklearn-color-text);\n",
       "  /* unfitted */\n",
       "  background-color: var(--sklearn-color-unfitted-level-0);\n",
       "}\n",
       "\n",
       "#sk-container-id-1 div.sk-toggleable__content.fitted pre {\n",
       "  /* unfitted */\n",
       "  background-color: var(--sklearn-color-fitted-level-0);\n",
       "}\n",
       "\n",
       "#sk-container-id-1 input.sk-toggleable__control:checked~div.sk-toggleable__content {\n",
       "  /* Expand drop-down */\n",
       "  max-height: 200px;\n",
       "  max-width: 100%;\n",
       "  overflow: auto;\n",
       "}\n",
       "\n",
       "#sk-container-id-1 input.sk-toggleable__control:checked~label.sk-toggleable__label-arrow:before {\n",
       "  content: \"▾\";\n",
       "}\n",
       "\n",
       "/* Pipeline/ColumnTransformer-specific style */\n",
       "\n",
       "#sk-container-id-1 div.sk-label input.sk-toggleable__control:checked~label.sk-toggleable__label {\n",
       "  color: var(--sklearn-color-text);\n",
       "  background-color: var(--sklearn-color-unfitted-level-2);\n",
       "}\n",
       "\n",
       "#sk-container-id-1 div.sk-label.fitted input.sk-toggleable__control:checked~label.sk-toggleable__label {\n",
       "  background-color: var(--sklearn-color-fitted-level-2);\n",
       "}\n",
       "\n",
       "/* Estimator-specific style */\n",
       "\n",
       "/* Colorize estimator box */\n",
       "#sk-container-id-1 div.sk-estimator input.sk-toggleable__control:checked~label.sk-toggleable__label {\n",
       "  /* unfitted */\n",
       "  background-color: var(--sklearn-color-unfitted-level-2);\n",
       "}\n",
       "\n",
       "#sk-container-id-1 div.sk-estimator.fitted input.sk-toggleable__control:checked~label.sk-toggleable__label {\n",
       "  /* fitted */\n",
       "  background-color: var(--sklearn-color-fitted-level-2);\n",
       "}\n",
       "\n",
       "#sk-container-id-1 div.sk-label label.sk-toggleable__label,\n",
       "#sk-container-id-1 div.sk-label label {\n",
       "  /* The background is the default theme color */\n",
       "  color: var(--sklearn-color-text-on-default-background);\n",
       "}\n",
       "\n",
       "/* On hover, darken the color of the background */\n",
       "#sk-container-id-1 div.sk-label:hover label.sk-toggleable__label {\n",
       "  color: var(--sklearn-color-text);\n",
       "  background-color: var(--sklearn-color-unfitted-level-2);\n",
       "}\n",
       "\n",
       "/* Label box, darken color on hover, fitted */\n",
       "#sk-container-id-1 div.sk-label.fitted:hover label.sk-toggleable__label.fitted {\n",
       "  color: var(--sklearn-color-text);\n",
       "  background-color: var(--sklearn-color-fitted-level-2);\n",
       "}\n",
       "\n",
       "/* Estimator label */\n",
       "\n",
       "#sk-container-id-1 div.sk-label label {\n",
       "  font-family: monospace;\n",
       "  font-weight: bold;\n",
       "  display: inline-block;\n",
       "  line-height: 1.2em;\n",
       "}\n",
       "\n",
       "#sk-container-id-1 div.sk-label-container {\n",
       "  text-align: center;\n",
       "}\n",
       "\n",
       "/* Estimator-specific */\n",
       "#sk-container-id-1 div.sk-estimator {\n",
       "  font-family: monospace;\n",
       "  border: 1px dotted var(--sklearn-color-border-box);\n",
       "  border-radius: 0.25em;\n",
       "  box-sizing: border-box;\n",
       "  margin-bottom: 0.5em;\n",
       "  /* unfitted */\n",
       "  background-color: var(--sklearn-color-unfitted-level-0);\n",
       "}\n",
       "\n",
       "#sk-container-id-1 div.sk-estimator.fitted {\n",
       "  /* fitted */\n",
       "  background-color: var(--sklearn-color-fitted-level-0);\n",
       "}\n",
       "\n",
       "/* on hover */\n",
       "#sk-container-id-1 div.sk-estimator:hover {\n",
       "  /* unfitted */\n",
       "  background-color: var(--sklearn-color-unfitted-level-2);\n",
       "}\n",
       "\n",
       "#sk-container-id-1 div.sk-estimator.fitted:hover {\n",
       "  /* fitted */\n",
       "  background-color: var(--sklearn-color-fitted-level-2);\n",
       "}\n",
       "\n",
       "/* Specification for estimator info (e.g. \"i\" and \"?\") */\n",
       "\n",
       "/* Common style for \"i\" and \"?\" */\n",
       "\n",
       ".sk-estimator-doc-link,\n",
       "a:link.sk-estimator-doc-link,\n",
       "a:visited.sk-estimator-doc-link {\n",
       "  float: right;\n",
       "  font-size: smaller;\n",
       "  line-height: 1em;\n",
       "  font-family: monospace;\n",
       "  background-color: var(--sklearn-color-background);\n",
       "  border-radius: 1em;\n",
       "  height: 1em;\n",
       "  width: 1em;\n",
       "  text-decoration: none !important;\n",
       "  margin-left: 1ex;\n",
       "  /* unfitted */\n",
       "  border: var(--sklearn-color-unfitted-level-1) 1pt solid;\n",
       "  color: var(--sklearn-color-unfitted-level-1);\n",
       "}\n",
       "\n",
       ".sk-estimator-doc-link.fitted,\n",
       "a:link.sk-estimator-doc-link.fitted,\n",
       "a:visited.sk-estimator-doc-link.fitted {\n",
       "  /* fitted */\n",
       "  border: var(--sklearn-color-fitted-level-1) 1pt solid;\n",
       "  color: var(--sklearn-color-fitted-level-1);\n",
       "}\n",
       "\n",
       "/* On hover */\n",
       "div.sk-estimator:hover .sk-estimator-doc-link:hover,\n",
       ".sk-estimator-doc-link:hover,\n",
       "div.sk-label-container:hover .sk-estimator-doc-link:hover,\n",
       ".sk-estimator-doc-link:hover {\n",
       "  /* unfitted */\n",
       "  background-color: var(--sklearn-color-unfitted-level-3);\n",
       "  color: var(--sklearn-color-background);\n",
       "  text-decoration: none;\n",
       "}\n",
       "\n",
       "div.sk-estimator.fitted:hover .sk-estimator-doc-link.fitted:hover,\n",
       ".sk-estimator-doc-link.fitted:hover,\n",
       "div.sk-label-container:hover .sk-estimator-doc-link.fitted:hover,\n",
       ".sk-estimator-doc-link.fitted:hover {\n",
       "  /* fitted */\n",
       "  background-color: var(--sklearn-color-fitted-level-3);\n",
       "  color: var(--sklearn-color-background);\n",
       "  text-decoration: none;\n",
       "}\n",
       "\n",
       "/* Span, style for the box shown on hovering the info icon */\n",
       ".sk-estimator-doc-link span {\n",
       "  display: none;\n",
       "  z-index: 9999;\n",
       "  position: relative;\n",
       "  font-weight: normal;\n",
       "  right: .2ex;\n",
       "  padding: .5ex;\n",
       "  margin: .5ex;\n",
       "  width: min-content;\n",
       "  min-width: 20ex;\n",
       "  max-width: 50ex;\n",
       "  color: var(--sklearn-color-text);\n",
       "  box-shadow: 2pt 2pt 4pt #999;\n",
       "  /* unfitted */\n",
       "  background: var(--sklearn-color-unfitted-level-0);\n",
       "  border: .5pt solid var(--sklearn-color-unfitted-level-3);\n",
       "}\n",
       "\n",
       ".sk-estimator-doc-link.fitted span {\n",
       "  /* fitted */\n",
       "  background: var(--sklearn-color-fitted-level-0);\n",
       "  border: var(--sklearn-color-fitted-level-3);\n",
       "}\n",
       "\n",
       ".sk-estimator-doc-link:hover span {\n",
       "  display: block;\n",
       "}\n",
       "\n",
       "/* \"?\"-specific style due to the `<a>` HTML tag */\n",
       "\n",
       "#sk-container-id-1 a.estimator_doc_link {\n",
       "  float: right;\n",
       "  font-size: 1rem;\n",
       "  line-height: 1em;\n",
       "  font-family: monospace;\n",
       "  background-color: var(--sklearn-color-background);\n",
       "  border-radius: 1rem;\n",
       "  height: 1rem;\n",
       "  width: 1rem;\n",
       "  text-decoration: none;\n",
       "  /* unfitted */\n",
       "  color: var(--sklearn-color-unfitted-level-1);\n",
       "  border: var(--sklearn-color-unfitted-level-1) 1pt solid;\n",
       "}\n",
       "\n",
       "#sk-container-id-1 a.estimator_doc_link.fitted {\n",
       "  /* fitted */\n",
       "  border: var(--sklearn-color-fitted-level-1) 1pt solid;\n",
       "  color: var(--sklearn-color-fitted-level-1);\n",
       "}\n",
       "\n",
       "/* On hover */\n",
       "#sk-container-id-1 a.estimator_doc_link:hover {\n",
       "  /* unfitted */\n",
       "  background-color: var(--sklearn-color-unfitted-level-3);\n",
       "  color: var(--sklearn-color-background);\n",
       "  text-decoration: none;\n",
       "}\n",
       "\n",
       "#sk-container-id-1 a.estimator_doc_link.fitted:hover {\n",
       "  /* fitted */\n",
       "  background-color: var(--sklearn-color-fitted-level-3);\n",
       "}\n",
       "</style><div id=\"sk-container-id-1\" class=\"sk-top-container\"><div class=\"sk-text-repr-fallback\"><pre>LinearRegression()</pre><b>In a Jupyter environment, please rerun this cell to show the HTML representation or trust the notebook. <br />On GitHub, the HTML representation is unable to render, please try loading this page with nbviewer.org.</b></div><div class=\"sk-container\" hidden><div class=\"sk-item\"><div class=\"sk-estimator fitted sk-toggleable\"><input class=\"sk-toggleable__control sk-hidden--visually\" id=\"sk-estimator-id-1\" type=\"checkbox\" checked><label for=\"sk-estimator-id-1\" class=\"sk-toggleable__label fitted sk-toggleable__label-arrow fitted\">&nbsp;&nbsp;LinearRegression<a class=\"sk-estimator-doc-link fitted\" rel=\"noreferrer\" target=\"_blank\" href=\"https://scikit-learn.org/1.5/modules/generated/sklearn.linear_model.LinearRegression.html\">?<span>Documentation for LinearRegression</span></a><span class=\"sk-estimator-doc-link fitted\">i<span>Fitted</span></span></label><div class=\"sk-toggleable__content fitted\"><pre>LinearRegression()</pre></div> </div></div></div></div>"
      ],
      "text/plain": [
       "LinearRegression()"
      ]
     },
     "execution_count": 28,
     "metadata": {},
     "output_type": "execute_result"
    }
   ],
   "source": [
    "from sklearn.linear_model import LinearRegression\n",
    "slr = LinearRegression()\n",
    "slr.fit(X, Y)"
   ]
  },
  {
   "cell_type": "markdown",
   "metadata": {
    "id": "UccFdSBmMzzb"
   },
   "source": [
    "In the above code, we have used a **fit()** method to fit our Simple Linear Regression object to the dataset. In the fit() function, we have passed the X and Y, which is our training dataset for the dependent and an independent variable. \n",
    "\n",
    "We have fitted our regressor object to the training set so that the model can easily learn the correlations between the predictor and target variables.\n",
    "\n",
    "# **Step: 3. Prediction**\n",
    "For predicting the salary of an employee based on his experience, we will take the input from the user.\n",
    "\n"
   ]
  },
  {
   "cell_type": "code",
   "execution_count": 29,
   "metadata": {},
   "outputs": [
    {
     "data": {
      "text/plain": [
       "array([[9449.96232146]])"
      ]
     },
     "execution_count": 29,
     "metadata": {},
     "output_type": "execute_result"
    }
   ],
   "source": [
    "slr.coef_ # m value -> coefficient value"
   ]
  },
  {
   "cell_type": "code",
   "execution_count": 30,
   "metadata": {},
   "outputs": [
    {
     "data": {
      "text/plain": [
       "array([25792.20019867])"
      ]
     },
     "execution_count": 30,
     "metadata": {},
     "output_type": "execute_result"
    }
   ],
   "source": [
    "slr.intercept_"
   ]
  },
  {
   "cell_type": "code",
   "execution_count": 31,
   "metadata": {},
   "outputs": [
    {
     "data": {
      "text/html": [
       "<div>\n",
       "<style scoped>\n",
       "    .dataframe tbody tr th:only-of-type {\n",
       "        vertical-align: middle;\n",
       "    }\n",
       "\n",
       "    .dataframe tbody tr th {\n",
       "        vertical-align: top;\n",
       "    }\n",
       "\n",
       "    .dataframe thead th {\n",
       "        text-align: right;\n",
       "    }\n",
       "</style>\n",
       "<table border=\"1\" class=\"dataframe\">\n",
       "  <thead>\n",
       "    <tr style=\"text-align: right;\">\n",
       "      <th></th>\n",
       "      <th>YearExperience</th>\n",
       "      <th>Salary</th>\n",
       "    </tr>\n",
       "  </thead>\n",
       "  <tbody>\n",
       "    <tr>\n",
       "      <th>YearExperience</th>\n",
       "      <td>1.000000</td>\n",
       "      <td>0.978242</td>\n",
       "    </tr>\n",
       "    <tr>\n",
       "      <th>Salary</th>\n",
       "      <td>0.978242</td>\n",
       "      <td>1.000000</td>\n",
       "    </tr>\n",
       "  </tbody>\n",
       "</table>\n",
       "</div>"
      ],
      "text/plain": [
       "                YearExperience    Salary\n",
       "YearExperience        1.000000  0.978242\n",
       "Salary                0.978242  1.000000"
      ]
     },
     "execution_count": 31,
     "metadata": {},
     "output_type": "execute_result"
    }
   ],
   "source": [
    "df.corr()"
   ]
  },
  {
   "cell_type": "code",
   "execution_count": 32,
   "metadata": {},
   "outputs": [
    {
     "data": {
      "text/plain": [
       "48472.109770174"
      ]
     },
     "execution_count": 32,
     "metadata": {},
     "output_type": "execute_result"
    }
   ],
   "source": [
    "# y = mx + c\n",
    "y = 9449.96232146 * 2.4 + 25792.20019867\n",
    "y"
   ]
  },
  {
   "cell_type": "code",
   "execution_count": 33,
   "metadata": {
    "colab": {
     "base_uri": "https://localhost:8080/"
    },
    "id": "cyeiiwq8HquG",
    "outputId": "90e7e58d-2f36-4fb3-896b-5a7280c7a5d1"
   },
   "outputs": [
    {
     "data": {
      "text/plain": [
       "2.0"
      ]
     },
     "execution_count": 33,
     "metadata": {},
     "output_type": "execute_result"
    }
   ],
   "source": [
    "pred_experience = float(input('enter your experience: '))\n",
    "pred_experience"
   ]
  },
  {
   "cell_type": "code",
   "execution_count": 34,
   "metadata": {
    "colab": {
     "base_uri": "https://localhost:8080/"
    },
    "id": "ICM-EjdSHqs0",
    "outputId": "1264d350-7bf0-4cb3-d4e2-2ad6065bb5bd"
   },
   "outputs": [
    {
     "data": {
      "text/plain": [
       "array([[44692.12484158]])"
      ]
     },
     "execution_count": 34,
     "metadata": {},
     "output_type": "execute_result"
    }
   ],
   "source": [
    "slr.predict([[pred_experience]])"
   ]
  },
  {
   "cell_type": "markdown",
   "metadata": {
    "id": "CDjxpddiOJgS"
   },
   "source": [
    "As we have seen the equation of LinearRegression, it consists of two terms mainly:\n",
    "1. Intercept\n",
    "2. Coefficient\n",
    "\n",
    "Let's see how we can read those terms from our LinearRegression model: "
   ]
  },
  {
   "cell_type": "code",
   "execution_count": 35,
   "metadata": {
    "colab": {
     "base_uri": "https://localhost:8080/"
    },
    "id": "zaaTTsw3Nu7E",
    "outputId": "971008f2-2f7e-44ed-b628-800fc43b9339"
   },
   "outputs": [
    {
     "data": {
      "text/plain": [
       "array([25792.20019867])"
      ]
     },
     "execution_count": 35,
     "metadata": {},
     "output_type": "execute_result"
    }
   ],
   "source": [
    "# to read intercept {C}\n",
    "slr.intercept_"
   ]
  },
  {
   "cell_type": "code",
   "execution_count": 36,
   "metadata": {
    "colab": {
     "base_uri": "https://localhost:8080/"
    },
    "id": "gdrQfJa5OPxD",
    "outputId": "f13b7b62-5078-42e8-e636-1c54308386aa"
   },
   "outputs": [
    {
     "data": {
      "text/plain": [
       "array([[9449.96232146]])"
      ]
     },
     "execution_count": 36,
     "metadata": {},
     "output_type": "execute_result"
    }
   ],
   "source": [
    "# to read coefficient {M}\n",
    "slr.coef_"
   ]
  },
  {
   "cell_type": "markdown",
   "metadata": {
    "id": "bnysV3tMOUtV"
   },
   "source": [
    "we have formula \n",
    "\n",
    "y = m*x + c\n",
    "\n",
    "here, \n",
    "\n",
    "c = intercept, m = coefficient"
   ]
  },
  {
   "cell_type": "code",
   "execution_count": 37,
   "metadata": {
    "colab": {
     "base_uri": "https://localhost:8080/"
    },
    "id": "lM6bn7_sOh_k",
    "outputId": "5215bf63-1ad3-41d4-a05d-e341bca940ed"
   },
   "outputs": [
    {
     "data": {
      "text/plain": [
       "array([[44692.12484158]])"
      ]
     },
     "execution_count": 37,
     "metadata": {},
     "output_type": "execute_result"
    }
   ],
   "source": [
    "# let's do the prediction manually and see \n",
    "# does this really supports the formula\n",
    "\n",
    "'''\n",
    "we are going to do this operation:\n",
    "slr.coef_ * pred_experience + slr.intercept_\n",
    "'''\n",
    "\n",
    "# m        * x              + c\n",
    "slr.coef_ * pred_experience + slr.intercept_"
   ]
  },
  {
   "cell_type": "markdown",
   "metadata": {
    "id": "8QNNZQ9khvMk"
   },
   "source": [
    "to check the accuracy of our model, you can use function score().\n",
    "see below..."
   ]
  },
  {
   "cell_type": "code",
   "execution_count": 38,
   "metadata": {
    "colab": {
     "base_uri": "https://localhost:8080/"
    },
    "id": "tFzB7lcKh62X",
    "outputId": "7026d72b-2766-4413-ed41-606bd5259030"
   },
   "outputs": [
    {
     "data": {
      "text/plain": [
       "95.69566641435085"
      ]
     },
     "execution_count": 38,
     "metadata": {},
     "output_type": "execute_result"
    }
   ],
   "source": [
    "slr.score(X, Y) * 100"
   ]
  },
  {
   "cell_type": "markdown",
   "metadata": {
    "id": "eJtOATZce7Jg"
   },
   "source": [
    "To see how our regression plot will look like, we can use regplot.\n",
    "see below.."
   ]
  },
  {
   "cell_type": "code",
   "execution_count": 39,
   "metadata": {},
   "outputs": [
    {
     "name": "stdout",
     "output_type": "stream",
     "text": [
      "[[ 36187.15875227]\n",
      " [ 64537.04571663]\n",
      " [ 85326.96282384]\n",
      " [122181.81587751]]\n"
     ]
    },
    {
     "data": {
      "text/plain": [
       "[<matplotlib.lines.Line2D at 0x774e123b8dd0>]"
      ]
     },
     "execution_count": 39,
     "metadata": {},
     "output_type": "execute_result"
    },
    {
     "data": {
      "image/png": "[encoded data removed]",
      "text/plain": [
       "<Figure size 640x480 with 1 Axes>"
      ]
     },
     "metadata": {},
     "output_type": "display_data"
    }
   ],
   "source": [
    "import matplotlib.pyplot as plt\n",
    "\n",
    "years_of_experience = df['YearExperience'].values\n",
    "salary = df['Salary'].values\n",
    "\n",
    "new_years_of_experience = [[1.1], [4.1], [6.3], [10.2]]\n",
    "predicted_salaries = slr.predict(new_years_of_experience)\n",
    "print(predicted_salaries)\n",
    "\n",
    "plt.scatter(years_of_experience, salary)\n",
    "plt.plot(new_years_of_experience, predicted_salaries)"
   ]
  },
  {
   "cell_type": "markdown",
   "metadata": {
    "id": "hUe7OIewPWsj"
   },
   "source": [
    "Here we did it....\n",
    "\n",
    "And now the main part comes here into question.\n",
    "\n",
    "**How all this things are working??**\n",
    "\n",
    "**I mean how LinearRegression class is actually working??**\n",
    "\n",
    "Well to ans this question we need to focus on some points\n",
    "\n",
    "1. **How LinearRegression class got intercept and coefficient so that it can best fit the line passing through datapoints?**\n",
    "2. **What parameters are there which decides whether intercept and coefficient are appropriate?**"
   ]
  },
  {
   "cell_type": "markdown",
   "metadata": {
    "id": "tz6rKWTR_7gx"
   },
   "source": [
    "**ANS:----**\n",
    "\n",
    "## **Gradient Descent**\n",
    "Gradient descent is an **optimization algorithm** used to find the values of parameters (coefficients) of a function (f) that minimizes a **cost function** (cost).\n",
    "\n",
    "Gradient descent is best used when the parameters cannot be calculated analytically (e.g. using linear algebra) and **must be searched for by an optimization algorithm**.\n",
    "\n",
    "### **Intuition for Gradient Descent**\n",
    "Think of a large bowl like what you would eat cereal out of or store fruit in. This bowl is a plot of the cost function (f).\n",
    "\n",
    "![alt text](https://miro.medium.com/v2/resize:fit:1005/1*_6TVU8yGpXNYDkkpOfnJ6Q.png)\n",
    "\n",
    "- A random position on the surface of the bowl is the cost of the current values of the coefficients (cost).\n",
    "\n",
    "- The bottom of the bowl is the cost of the best set of coefficients, the minimum of the function.\n",
    "\n",
    "- The goal is to continue to try different values for the coefficients, evaluate their cost and select new coefficients that have a slightly better (lower) cost.\n",
    "\n",
    "- Repeating this process enough times will lead to the bottom of the bowl and you will know the values of the coefficients that result in the minimum cost.\n",
    "\n"
   ]
  },
  {
   "cell_type": "markdown",
   "metadata": {
    "id": "wiLD1-aEAy_U"
   },
   "source": [
    "## **Gradient Descent Procedure**\n",
    "The procedure starts off with initial values for the coefficient or coefficients for the function. These could be 0.0 or a small random value.\n",
    "\n",
    "**coefficient = 0.0**\n",
    "\n",
    "The cost of the coefficients is evaluated by plugging them into the function and calculating the cost.\n",
    "\n",
    "**cost = f(coefficient)**\n",
    "\n",
    "or\n",
    "\n",
    "**cost = evaluate(f(coefficient))**\n",
    "\n",
    "The **derivative of the cost** is calculated. **The derivative is a concept from calculus and refers to the slope of the function at a given point.** We need to know the slope so that we know the direction (sign) to move the coefficient values in order to get a lower cost on the next iteration.\n",
    "\n",
    "**delta = derivative(cost)**\n",
    "\n",
    "Now that we know from the derivative which direction is downhill, we can now **update the coefficient values**. A **learning rate parameter (alpha)** must be specified that controls how much the coefficients can change on each update.\n",
    "\n",
    "**coefficient = coefficient – (alpha * delta)**\n",
    "\n",
    "**This process is repeated until the cost of the coefficients (cost) is 0.0 or close enough to zero to be good enough.**\n",
    "\n",
    "You can see how simple gradient descent is. It does require you to know the gradient of your cost function or the function you are optimizing, but besides that, it’s very straightforward. \n",
    "\n",
    "Next we will see how we can use this in machine learning algorithms."
   ]
  },
  {
   "cell_type": "markdown",
   "metadata": {
    "id": "lUmnXbeoE7e3"
   },
   "source": [
    "## **Tips for Gradient Descent**\n",
    "This section lists some tips and tricks for getting the most out of the gradient descent algorithm for machine learning.\n",
    "\n",
    "- **Plot Cost versus Time:** Collect and plot the cost values calculated by the algorithm each iteration. The expectation for a well performing gradient descent run is a decrease in cost each iteration. If it does not decrease, try reducing your learning rate.\n",
    "- **Learning Rate:** The learning rate value is a small real value such as 0.1, 0.001 or 0.0001. Try different values for your problem and see which works best.\n",
    "- **Rescale Inputs:** The algorithm will reach the minimum cost faster if the shape of the cost function is not skewed and distorted. You can achieved this by rescaling all of the input variables (X) to the same range, such as [0, 1] or [-1, 1].\n",
    "- **Few Passes:** Stochastic gradient descent often does not need more than 1-to-10 passes through the training dataset to converge on good or good enough coefficients.\n",
    "- **Plot Mean Cost:** The updates for each training dataset instance can result in a noisy plot of cost over time when using stochastic gradient descent. Taking the average over 10, 100, or 1000 updates can give you a better idea of the learning trend for the algorithm."
   ]
  },
  {
   "cell_type": "markdown",
   "metadata": {
    "id": "8A2gDUUfBwWc"
   },
   "source": [
    "## **Batch Gradient Descent for Machine Learning**\n",
    "The goal of all supervised machine learning algorithms is to best estimate a target function (f) that maps input data (X) onto output variables (Y). This describes all classification and regression problems.\n",
    "\n",
    "Some machine learning algorithms have coefficients that characterize the algorithms estimate for the target function (f). Different algorithms have different representations and different coefficients, but many of them require a process of optimization to find the set of coefficients that result in the best estimate of the target function.\n",
    "\n",
    "Common examples of algorithms with coefficients that can be optimized using gradient descent are **Linear Regression and Logistic Regression**.\n",
    "\n",
    "The evaluation of how close a fit a machine learning model estimates the target function can be calculated a number of different ways, often specific to the machine learning algorithm. The cost function involves evaluating the coefficients in the machine learning model by calculating a prediction for the model for each training instance in the dataset and comparing the predictions to the actual output values and calculating a sum or average error (such as the Sum of Squared Residuals or SSR in the case of linear regression).\n",
    "\n",
    "From the cost function a derivative can be calculated for each coefficient so that it can be updated using exactly the update equation described above.\n",
    "\n",
    "The cost is calculated for a machine learning algorithm over the entire training dataset for each iteration of the gradient descent algorithm. One iteration of the algorithm is called one batch and this form of gradient descent is referred to as batch gradient descent.\n",
    "\n",
    "**Batch gradient descent is the most common form of gradient descent described in machine learning.**\n",
    "\n",
    "Let's implement it using all the mathematical formulas, techniques and whatever we have learnt uptil now in python. We will take dataset used above and we will prove that our algorithm works in the same way as sklearn's does."
   ]
  },
  {
   "cell_type": "code",
   "execution_count": 40,
   "metadata": {
    "id": "jRuuE3d6BXzv"
   },
   "outputs": [],
   "source": [
    "import numpy as np\n",
    "\n",
    "def gradient_descent(X, Y, c_current = 0, iterations = 3000, learning_rate = 0.01):\n",
    "    n_samples = len(X)\n",
    "    m_current = 0.0476787\n",
    "    gd_df = pd.DataFrame(columns = ['coef_gradient', 'intercept_gradient', 'current_coef', 'current_intercept', 'cost_value'])\n",
    "\n",
    "    for i in range(iterations):\n",
    "        # y = mx + c\n",
    "        # X = [[2.2], [3.4], ..., [9.6]]\n",
    "        y_predicted = m_current * X + c_current\n",
    "        \n",
    "        # [[28823], [243432423], ..., [243232]]\n",
    "        \n",
    "        # mean squared error\n",
    "\n",
    "        # gradient formula for coefficient\n",
    "        # cost_value = 1/n_samples * sum((true_value - predicted_value)^2)\n",
    "        # cost_value = 1/n_samples * sum((true_value - (mx+c))^2)\n",
    "        # dcost/dm = 2/n_samples * (true_value - mx - c) (0 - x - 0)\n",
    "        # dcost/dm = -2/n_sampples * (true_value - predicted_value)(x) \n",
    "\n",
    "        # gradient formula for intercept\n",
    "        # cost_value = 1/n_samples * sum((true_value - predicted_value)^2)\n",
    "        # cost_value = 1/n_samples * sum((true_value - (mx+c))^2)\n",
    "        # cost_value = -2/n_samples * sum(true_value - predicted_value) (1)\n",
    "\n",
    "\n",
    "        # dcost/dm = -2/n_samples * sum((true_value-mx+c)(x))\n",
    "        # dcost/dc = -2/n_samples * sum((true_value-mx+c)(1))\n",
    "\n",
    "        # to update coefficient and intercept value\n",
    "        # m = m - lr * dcost/dm                                 lr - learning rate\n",
    "        # c = c - lr * dcost/dc     why do we subtract the result find it\n",
    "        \n",
    "        # MSE -> Mean Squared Error\n",
    "        cost_value = 1/n_samples * np.sum([val ** 2 for val in (Y - y_predicted)])\n",
    "        \n",
    "        # new_value = previous_value - learning_rate * derivative of parameter w.r.t cost value\n",
    "        \n",
    "        # cost = (y - ypredicted)^2\n",
    "        # cost = (y - mx - c)^2\n",
    "        # dm/dcost = -2/n * sum((y-mx-c)(x))\n",
    "        # dc/dcost = -2/n * sum((y-mx-c)(1))\n",
    "        \n",
    "        \n",
    "        m_gradient = -2/n_samples * np.sum(X * (Y - y_predicted))\n",
    "        c_gradient = -2/n_samples * np.sum(Y - y_predicted)\n",
    "        m_current = m_current - learning_rate * m_gradient\n",
    "        c_current = c_current - learning_rate * c_gradient\n",
    "        gd_df.loc[i] = [m_gradient, c_gradient, m_current, c_current, cost_value]\n",
    "\n",
    "    return gd_df"
   ]
  },
  {
   "cell_type": "code",
   "execution_count": 41,
   "metadata": {
    "colab": {
     "base_uri": "https://localhost:8080/",
     "height": 363
    },
    "id": "lYSm1ZgBF5uA",
    "outputId": "4c546582-9b1b-4269-db8c-f020ba2da459"
   },
   "outputs": [
    {
     "data": {
      "text/html": [
       "<div>\n",
       "<style scoped>\n",
       "    .dataframe tbody tr th:only-of-type {\n",
       "        vertical-align: middle;\n",
       "    }\n",
       "\n",
       "    .dataframe tbody tr th {\n",
       "        vertical-align: top;\n",
       "    }\n",
       "\n",
       "    .dataframe thead th {\n",
       "        text-align: right;\n",
       "    }\n",
       "</style>\n",
       "<table border=\"1\" class=\"dataframe\">\n",
       "  <thead>\n",
       "    <tr style=\"text-align: right;\">\n",
       "      <th></th>\n",
       "      <th>coef_gradient</th>\n",
       "      <th>intercept_gradient</th>\n",
       "      <th>current_coef</th>\n",
       "      <th>current_intercept</th>\n",
       "      <th>cost_value</th>\n",
       "    </tr>\n",
       "  </thead>\n",
       "  <tbody>\n",
       "    <tr>\n",
       "      <th>2980</th>\n",
       "      <td>0.004885</td>\n",
       "      <td>-0.032920</td>\n",
       "      <td>9449.973820</td>\n",
       "      <td>25792.122712</td>\n",
       "      <td>3.127095e+07</td>\n",
       "    </tr>\n",
       "    <tr>\n",
       "      <th>2981</th>\n",
       "      <td>0.004865</td>\n",
       "      <td>-0.032781</td>\n",
       "      <td>9449.973772</td>\n",
       "      <td>25792.123040</td>\n",
       "      <td>3.127095e+07</td>\n",
       "    </tr>\n",
       "    <tr>\n",
       "      <th>2982</th>\n",
       "      <td>0.004844</td>\n",
       "      <td>-0.032642</td>\n",
       "      <td>9449.973723</td>\n",
       "      <td>25792.123366</td>\n",
       "      <td>3.127095e+07</td>\n",
       "    </tr>\n",
       "    <tr>\n",
       "      <th>2983</th>\n",
       "      <td>0.004823</td>\n",
       "      <td>-0.032504</td>\n",
       "      <td>9449.973675</td>\n",
       "      <td>25792.123691</td>\n",
       "      <td>3.127095e+07</td>\n",
       "    </tr>\n",
       "    <tr>\n",
       "      <th>2984</th>\n",
       "      <td>0.004803</td>\n",
       "      <td>-0.032366</td>\n",
       "      <td>9449.973627</td>\n",
       "      <td>25792.124015</td>\n",
       "      <td>3.127095e+07</td>\n",
       "    </tr>\n",
       "    <tr>\n",
       "      <th>2985</th>\n",
       "      <td>0.004783</td>\n",
       "      <td>-0.032229</td>\n",
       "      <td>9449.973579</td>\n",
       "      <td>25792.124337</td>\n",
       "      <td>3.127095e+07</td>\n",
       "    </tr>\n",
       "    <tr>\n",
       "      <th>2986</th>\n",
       "      <td>0.004762</td>\n",
       "      <td>-0.032093</td>\n",
       "      <td>9449.973531</td>\n",
       "      <td>25792.124658</td>\n",
       "      <td>3.127095e+07</td>\n",
       "    </tr>\n",
       "    <tr>\n",
       "      <th>2987</th>\n",
       "      <td>0.004742</td>\n",
       "      <td>-0.031957</td>\n",
       "      <td>9449.973484</td>\n",
       "      <td>25792.124977</td>\n",
       "      <td>3.127095e+07</td>\n",
       "    </tr>\n",
       "    <tr>\n",
       "      <th>2988</th>\n",
       "      <td>0.004722</td>\n",
       "      <td>-0.031822</td>\n",
       "      <td>9449.973437</td>\n",
       "      <td>25792.125296</td>\n",
       "      <td>3.127095e+07</td>\n",
       "    </tr>\n",
       "    <tr>\n",
       "      <th>2989</th>\n",
       "      <td>0.004702</td>\n",
       "      <td>-0.031688</td>\n",
       "      <td>9449.973390</td>\n",
       "      <td>25792.125613</td>\n",
       "      <td>3.127095e+07</td>\n",
       "    </tr>\n",
       "    <tr>\n",
       "      <th>2990</th>\n",
       "      <td>0.004682</td>\n",
       "      <td>-0.031553</td>\n",
       "      <td>9449.973343</td>\n",
       "      <td>25792.125928</td>\n",
       "      <td>3.127095e+07</td>\n",
       "    </tr>\n",
       "    <tr>\n",
       "      <th>2991</th>\n",
       "      <td>0.004663</td>\n",
       "      <td>-0.031420</td>\n",
       "      <td>9449.973296</td>\n",
       "      <td>25792.126242</td>\n",
       "      <td>3.127095e+07</td>\n",
       "    </tr>\n",
       "    <tr>\n",
       "      <th>2992</th>\n",
       "      <td>0.004643</td>\n",
       "      <td>-0.031287</td>\n",
       "      <td>9449.973250</td>\n",
       "      <td>25792.126555</td>\n",
       "      <td>3.127095e+07</td>\n",
       "    </tr>\n",
       "    <tr>\n",
       "      <th>2993</th>\n",
       "      <td>0.004623</td>\n",
       "      <td>-0.031155</td>\n",
       "      <td>9449.973204</td>\n",
       "      <td>25792.126867</td>\n",
       "      <td>3.127095e+07</td>\n",
       "    </tr>\n",
       "    <tr>\n",
       "      <th>2994</th>\n",
       "      <td>0.004604</td>\n",
       "      <td>-0.031023</td>\n",
       "      <td>9449.973158</td>\n",
       "      <td>25792.127177</td>\n",
       "      <td>3.127095e+07</td>\n",
       "    </tr>\n",
       "    <tr>\n",
       "      <th>2995</th>\n",
       "      <td>0.004584</td>\n",
       "      <td>-0.030892</td>\n",
       "      <td>9449.973112</td>\n",
       "      <td>25792.127486</td>\n",
       "      <td>3.127095e+07</td>\n",
       "    </tr>\n",
       "    <tr>\n",
       "      <th>2996</th>\n",
       "      <td>0.004565</td>\n",
       "      <td>-0.030761</td>\n",
       "      <td>9449.973066</td>\n",
       "      <td>25792.127793</td>\n",
       "      <td>3.127095e+07</td>\n",
       "    </tr>\n",
       "    <tr>\n",
       "      <th>2997</th>\n",
       "      <td>0.004545</td>\n",
       "      <td>-0.030631</td>\n",
       "      <td>9449.973021</td>\n",
       "      <td>25792.128100</td>\n",
       "      <td>3.127095e+07</td>\n",
       "    </tr>\n",
       "    <tr>\n",
       "      <th>2998</th>\n",
       "      <td>0.004526</td>\n",
       "      <td>-0.030501</td>\n",
       "      <td>9449.972975</td>\n",
       "      <td>25792.128405</td>\n",
       "      <td>3.127095e+07</td>\n",
       "    </tr>\n",
       "    <tr>\n",
       "      <th>2999</th>\n",
       "      <td>0.004507</td>\n",
       "      <td>-0.030372</td>\n",
       "      <td>9449.972930</td>\n",
       "      <td>25792.128708</td>\n",
       "      <td>3.127095e+07</td>\n",
       "    </tr>\n",
       "  </tbody>\n",
       "</table>\n",
       "</div>"
      ],
      "text/plain": [
       "      coef_gradient  intercept_gradient  current_coef  current_intercept  \\\n",
       "2980       0.004885           -0.032920   9449.973820       25792.122712   \n",
       "2981       0.004865           -0.032781   9449.973772       25792.123040   \n",
       "2982       0.004844           -0.032642   9449.973723       25792.123366   \n",
       "2983       0.004823           -0.032504   9449.973675       25792.123691   \n",
       "2984       0.004803           -0.032366   9449.973627       25792.124015   \n",
       "2985       0.004783           -0.032229   9449.973579       25792.124337   \n",
       "2986       0.004762           -0.032093   9449.973531       25792.124658   \n",
       "2987       0.004742           -0.031957   9449.973484       25792.124977   \n",
       "2988       0.004722           -0.031822   9449.973437       25792.125296   \n",
       "2989       0.004702           -0.031688   9449.973390       25792.125613   \n",
       "2990       0.004682           -0.031553   9449.973343       25792.125928   \n",
       "2991       0.004663           -0.031420   9449.973296       25792.126242   \n",
       "2992       0.004643           -0.031287   9449.973250       25792.126555   \n",
       "2993       0.004623           -0.031155   9449.973204       25792.126867   \n",
       "2994       0.004604           -0.031023   9449.973158       25792.127177   \n",
       "2995       0.004584           -0.030892   9449.973112       25792.127486   \n",
       "2996       0.004565           -0.030761   9449.973066       25792.127793   \n",
       "2997       0.004545           -0.030631   9449.973021       25792.128100   \n",
       "2998       0.004526           -0.030501   9449.972975       25792.128405   \n",
       "2999       0.004507           -0.030372   9449.972930       25792.128708   \n",
       "\n",
       "        cost_value  \n",
       "2980  3.127095e+07  \n",
       "2981  3.127095e+07  \n",
       "2982  3.127095e+07  \n",
       "2983  3.127095e+07  \n",
       "2984  3.127095e+07  \n",
       "2985  3.127095e+07  \n",
       "2986  3.127095e+07  \n",
       "2987  3.127095e+07  \n",
       "2988  3.127095e+07  \n",
       "2989  3.127095e+07  \n",
       "2990  3.127095e+07  \n",
       "2991  3.127095e+07  \n",
       "2992  3.127095e+07  \n",
       "2993  3.127095e+07  \n",
       "2994  3.127095e+07  \n",
       "2995  3.127095e+07  \n",
       "2996  3.127095e+07  \n",
       "2997  3.127095e+07  \n",
       "2998  3.127095e+07  \n",
       "2999  3.127095e+07  "
      ]
     },
     "execution_count": 41,
     "metadata": {},
     "output_type": "execute_result"
    }
   ],
   "source": [
    "import numpy as np\n",
    "import matplotlib.pyplot as plt\n",
    "model_df = gradient_descent(X, Y)\n",
    "model_df.tail(20)"
   ]
  },
  {
   "cell_type": "markdown",
   "metadata": {
    "id": "rH1gteSuI1Kr"
   },
   "source": [
    "You can notice slight difference between our calculated intercept and coef and sklearn's and that's because one of the term called as **REGULARISATION**. We will learn about this as well when we will deal with some big data and more than one independent variables."
   ]
  },
  {
   "cell_type": "code",
   "execution_count": 42,
   "metadata": {},
   "outputs": [
    {
     "data": {
      "text/plain": [
       "<matplotlib.collections.PathCollection at 0x774e123ece00>"
      ]
     },
     "execution_count": 42,
     "metadata": {},
     "output_type": "execute_result"
    },
    {
     "data": {
      "image/png": "[encoded data removed]",
      "text/plain": [
       "<Figure size 640x480 with 1 Axes>"
      ]
     },
     "metadata": {},
     "output_type": "display_data"
    }
   ],
   "source": [
    "plt.scatter(model_df.current_coef.values, model_df.cost_value.values)"
   ]
  },
  {
   "cell_type": "code",
   "execution_count": 43,
   "metadata": {},
   "outputs": [
    {
     "data": {
      "text/plain": [
       "<matplotlib.collections.PathCollection at 0x774e123db3e0>"
      ]
     },
     "execution_count": 43,
     "metadata": {},
     "output_type": "execute_result"
    },
    {
     "data": {
      "image/png": "[encoded data removed]",
      "text/plain": [
       "<Figure size 640x480 with 1 Axes>"
      ]
     },
     "metadata": {},
     "output_type": "display_data"
    }
   ],
   "source": [
    "plt.scatter(model_df.current_intercept.values, model_df.cost_value.values)"
   ]
  },
  {
   "cell_type": "markdown",
   "metadata": {
    "id": "JN24rrYQCeri"
   },
   "source": [
    "## **Stochastic Gradient Descent for Machine Learning**\n",
    "Gradient descent can be slow to run on very large datasets.\n",
    "\n",
    "Because one iteration of the gradient descent algorithm requires a prediction for each instance in the training dataset, it can take a long time when you have many millions of instances.\n",
    "\n",
    "In situations when you have large amounts of data, you can use a variation of gradient descent called stochastic gradient descent.\n",
    "\n",
    "**In this variation, the gradient descent procedure described above is run but the update to the coefficients is performed for each training instance, rather than at the end of the batch of instances.**\n",
    "\n",
    "The first step of the procedure requires that the order of the training dataset is randomized. This is to mix up the order that updates are made to the coefficients. Because the coefficients are updated after every training instance, the updates will be noisy jumping all over the place, and so will the corresponding cost function. **By mixing up the order for the updates to the coefficients, it harnesses this random walk and avoids it getting distracted or stuck.**\n",
    "\n",
    "The update procedure for the coefficients is the same as that above, except the cost is not summed over all training patterns, but instead calculated for one training pattern.\n",
    "\n",
    "The learning can be much faster with stochastic gradient descent for very large training datasets and often you only need a small number of passes through the dataset to reach a good or good enough set of coefficients, e.g. 1-to-10 passes through the dataset."
   ]
  },
  {
   "cell_type": "markdown",
   "metadata": {
    "id": "_Z_71lJHIo46"
   },
   "source": [
    "**Summary**\n",
    "\n",
    "- Optimization is a big part of machine learning.\n",
    "- Gradient descent is a simple optimization procedure that you can use with many machine learning algorithms.\n",
    "- Batch gradient descent refers to calculating the derivative from all training data before calculating an update.\n",
    "- Stochastic gradient descent refers to calculating the derivative from each training data instance and calculating the update immediately."
   ]
  }
 ],
 "metadata": {
  "colab": {
   "provenance": []
  },
  "kernelspec": {
   "display_name": "ml",
   "language": "python",
   "name": "python3"
  },
  "language_info": {
   "codemirror_mode": {
    "name": "ipython",
    "version": 3
   },
   "file_extension": ".py",
   "mimetype": "text/x-python",
   "name": "python",
   "nbconvert_exporter": "python",
   "pygments_lexer": "ipython3",
   "version": "3.12.7"
  }
 },
 "nbformat": 4,
 "nbformat_minor": 4
}
