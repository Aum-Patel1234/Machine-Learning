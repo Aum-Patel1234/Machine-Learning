{
  "cells": [
    {
      "cell_type": "code",
      "execution_count": 1,
      "metadata": {
        "id": "RhRw9-aVVkR_"
      },
      "outputs": [],
      "source": [
        "import pandas as pd"
      ]
    },
    {
      "cell_type": "code",
      "execution_count": 2,
      "metadata": {
        "execution": {
          "iopub.execute_input": "2025-05-27T04:56:41.866481Z",
          "iopub.status.busy": "2025-05-27T04:56:41.866141Z",
          "iopub.status.idle": "2025-05-27T04:57:08.078368Z",
          "shell.execute_reply": "2025-05-27T04:57:08.077411Z",
          "shell.execute_reply.started": "2025-05-27T04:56:41.866455Z"
        },
        "id": "pj-E8fepPs3N",
        "trusted": true
      },
      "outputs": [
        {
          "data": {
            "text/html": [
              "<div>\n",
              "<style scoped>\n",
              "    .dataframe tbody tr th:only-of-type {\n",
              "        vertical-align: middle;\n",
              "    }\n",
              "\n",
              "    .dataframe tbody tr th {\n",
              "        vertical-align: top;\n",
              "    }\n",
              "\n",
              "    .dataframe thead th {\n",
              "        text-align: right;\n",
              "    }\n",
              "</style>\n",
              "<table border=\"1\" class=\"dataframe\">\n",
              "  <thead>\n",
              "    <tr style=\"text-align: right;\">\n",
              "      <th></th>\n",
              "      <th>id</th>\n",
              "      <th>sale_date</th>\n",
              "      <th>sale_price</th>\n",
              "      <th>sale_nbr</th>\n",
              "      <th>sale_warning</th>\n",
              "      <th>join_status</th>\n",
              "      <th>join_year</th>\n",
              "      <th>latitude</th>\n",
              "      <th>longitude</th>\n",
              "      <th>area</th>\n",
              "      <th>...</th>\n",
              "      <th>view_olympics</th>\n",
              "      <th>view_cascades</th>\n",
              "      <th>view_territorial</th>\n",
              "      <th>view_skyline</th>\n",
              "      <th>view_sound</th>\n",
              "      <th>view_lakewash</th>\n",
              "      <th>view_lakesamm</th>\n",
              "      <th>view_otherwater</th>\n",
              "      <th>view_other</th>\n",
              "      <th>submarket</th>\n",
              "    </tr>\n",
              "  </thead>\n",
              "  <tbody>\n",
              "    <tr>\n",
              "      <th>0</th>\n",
              "      <td>0</td>\n",
              "      <td>2014-11-15</td>\n",
              "      <td>236000</td>\n",
              "      <td>2.0</td>\n",
              "      <td></td>\n",
              "      <td>nochg</td>\n",
              "      <td>2025</td>\n",
              "      <td>47.2917</td>\n",
              "      <td>-122.3658</td>\n",
              "      <td>53</td>\n",
              "      <td>...</td>\n",
              "      <td>0</td>\n",
              "      <td>0</td>\n",
              "      <td>0</td>\n",
              "      <td>0</td>\n",
              "      <td>0</td>\n",
              "      <td>0</td>\n",
              "      <td>0</td>\n",
              "      <td>0</td>\n",
              "      <td>0</td>\n",
              "      <td>I</td>\n",
              "    </tr>\n",
              "    <tr>\n",
              "      <th>1</th>\n",
              "      <td>1</td>\n",
              "      <td>1999-01-15</td>\n",
              "      <td>313300</td>\n",
              "      <td>NaN</td>\n",
              "      <td>26</td>\n",
              "      <td>nochg</td>\n",
              "      <td>2025</td>\n",
              "      <td>47.6531</td>\n",
              "      <td>-122.1996</td>\n",
              "      <td>74</td>\n",
              "      <td>...</td>\n",
              "      <td>0</td>\n",
              "      <td>0</td>\n",
              "      <td>0</td>\n",
              "      <td>0</td>\n",
              "      <td>0</td>\n",
              "      <td>1</td>\n",
              "      <td>0</td>\n",
              "      <td>0</td>\n",
              "      <td>0</td>\n",
              "      <td>Q</td>\n",
              "    </tr>\n",
              "    <tr>\n",
              "      <th>2</th>\n",
              "      <td>2</td>\n",
              "      <td>2006-08-15</td>\n",
              "      <td>341000</td>\n",
              "      <td>1.0</td>\n",
              "      <td></td>\n",
              "      <td>nochg</td>\n",
              "      <td>2025</td>\n",
              "      <td>47.4733</td>\n",
              "      <td>-122.1901</td>\n",
              "      <td>30</td>\n",
              "      <td>...</td>\n",
              "      <td>0</td>\n",
              "      <td>0</td>\n",
              "      <td>0</td>\n",
              "      <td>0</td>\n",
              "      <td>0</td>\n",
              "      <td>0</td>\n",
              "      <td>0</td>\n",
              "      <td>0</td>\n",
              "      <td>0</td>\n",
              "      <td>K</td>\n",
              "    </tr>\n",
              "    <tr>\n",
              "      <th>3</th>\n",
              "      <td>3</td>\n",
              "      <td>1999-12-15</td>\n",
              "      <td>267000</td>\n",
              "      <td>1.0</td>\n",
              "      <td></td>\n",
              "      <td>nochg</td>\n",
              "      <td>2025</td>\n",
              "      <td>47.4739</td>\n",
              "      <td>-122.3295</td>\n",
              "      <td>96</td>\n",
              "      <td>...</td>\n",
              "      <td>0</td>\n",
              "      <td>0</td>\n",
              "      <td>0</td>\n",
              "      <td>0</td>\n",
              "      <td>0</td>\n",
              "      <td>0</td>\n",
              "      <td>0</td>\n",
              "      <td>0</td>\n",
              "      <td>0</td>\n",
              "      <td>G</td>\n",
              "    </tr>\n",
              "    <tr>\n",
              "      <th>4</th>\n",
              "      <td>4</td>\n",
              "      <td>2018-07-15</td>\n",
              "      <td>1650000</td>\n",
              "      <td>2.0</td>\n",
              "      <td></td>\n",
              "      <td>miss99</td>\n",
              "      <td>2025</td>\n",
              "      <td>47.7516</td>\n",
              "      <td>-122.1222</td>\n",
              "      <td>36</td>\n",
              "      <td>...</td>\n",
              "      <td>0</td>\n",
              "      <td>0</td>\n",
              "      <td>0</td>\n",
              "      <td>0</td>\n",
              "      <td>0</td>\n",
              "      <td>0</td>\n",
              "      <td>0</td>\n",
              "      <td>0</td>\n",
              "      <td>0</td>\n",
              "      <td>P</td>\n",
              "    </tr>\n",
              "  </tbody>\n",
              "</table>\n",
              "<p>5 rows × 47 columns</p>\n",
              "</div>"
            ],
            "text/plain": [
              "   id   sale_date  sale_price  sale_nbr sale_warning join_status  join_year  \\\n",
              "0   0  2014-11-15      236000       2.0                    nochg       2025   \n",
              "1   1  1999-01-15      313300       NaN          26        nochg       2025   \n",
              "2   2  2006-08-15      341000       1.0                    nochg       2025   \n",
              "3   3  1999-12-15      267000       1.0                    nochg       2025   \n",
              "4   4  2018-07-15     1650000       2.0                   miss99       2025   \n",
              "\n",
              "   latitude  longitude  area  ... view_olympics view_cascades  \\\n",
              "0   47.2917  -122.3658    53  ...             0             0   \n",
              "1   47.6531  -122.1996    74  ...             0             0   \n",
              "2   47.4733  -122.1901    30  ...             0             0   \n",
              "3   47.4739  -122.3295    96  ...             0             0   \n",
              "4   47.7516  -122.1222    36  ...             0             0   \n",
              "\n",
              "  view_territorial  view_skyline  view_sound  view_lakewash  view_lakesamm  \\\n",
              "0                0             0           0              0              0   \n",
              "1                0             0           0              1              0   \n",
              "2                0             0           0              0              0   \n",
              "3                0             0           0              0              0   \n",
              "4                0             0           0              0              0   \n",
              "\n",
              "   view_otherwater  view_other  submarket  \n",
              "0                0           0          I  \n",
              "1                0           0          Q  \n",
              "2                0           0          K  \n",
              "3                0           0          G  \n",
              "4                0           0          P  \n",
              "\n",
              "[5 rows x 47 columns]"
            ]
          },
          "execution_count": 2,
          "metadata": {},
          "output_type": "execute_result"
        }
      ],
      "source": [
        "df = pd.read_csv('prediction-interval-competition-ii-house-price/dataset.csv')\n",
        "df.head()"
      ]
    },
    {
      "cell_type": "code",
      "execution_count": 3,
      "metadata": {
        "execution": {
          "iopub.execute_input": "2025-05-27T04:57:08.080158Z",
          "iopub.status.busy": "2025-05-27T04:57:08.079847Z",
          "iopub.status.idle": "2025-05-27T04:57:08.086166Z",
          "shell.execute_reply": "2025-05-27T04:57:08.085474Z",
          "shell.execute_reply.started": "2025-05-27T04:57:08.080137Z"
        },
        "id": "9de0WcXYPs3P",
        "trusted": true
      },
      "outputs": [
        {
          "data": {
            "text/plain": [
              "(200000, 47)"
            ]
          },
          "execution_count": 3,
          "metadata": {},
          "output_type": "execute_result"
        }
      ],
      "source": [
        "df.shape"
      ]
    },
    {
      "cell_type": "code",
      "execution_count": 4,
      "metadata": {
        "execution": {
          "iopub.execute_input": "2025-05-27T04:57:08.087369Z",
          "iopub.status.busy": "2025-05-27T04:57:08.087092Z",
          "iopub.status.idle": "2025-05-27T04:57:08.159681Z",
          "shell.execute_reply": "2025-05-27T04:57:08.158554Z",
          "shell.execute_reply.started": "2025-05-27T04:57:08.087349Z"
        },
        "id": "59E9kAxFPs3Q",
        "trusted": true
      },
      "outputs": [
        {
          "name": "stdout",
          "output_type": "stream",
          "text": [
            "<class 'pandas.core.frame.DataFrame'>\n",
            "RangeIndex: 200000 entries, 0 to 199999\n",
            "Data columns (total 47 columns):\n",
            " #   Column            Non-Null Count   Dtype  \n",
            "---  ------            --------------   -----  \n",
            " 0   id                200000 non-null  int64  \n",
            " 1   sale_date         200000 non-null  object \n",
            " 2   sale_price        200000 non-null  int64  \n",
            " 3   sale_nbr          157818 non-null  float64\n",
            " 4   sale_warning      200000 non-null  object \n",
            " 5   join_status       200000 non-null  object \n",
            " 6   join_year         200000 non-null  int64  \n",
            " 7   latitude          200000 non-null  float64\n",
            " 8   longitude         200000 non-null  float64\n",
            " 9   area              200000 non-null  int64  \n",
            " 10  city              200000 non-null  object \n",
            " 11  zoning            200000 non-null  object \n",
            " 12  subdivision       182450 non-null  object \n",
            " 13  present_use       200000 non-null  int64  \n",
            " 14  land_val          200000 non-null  int64  \n",
            " 15  imp_val           200000 non-null  int64  \n",
            " 16  year_built        200000 non-null  int64  \n",
            " 17  year_reno         200000 non-null  int64  \n",
            " 18  sqft_lot          200000 non-null  int64  \n",
            " 19  sqft              200000 non-null  int64  \n",
            " 20  sqft_1            200000 non-null  int64  \n",
            " 21  sqft_fbsmt        200000 non-null  int64  \n",
            " 22  grade             200000 non-null  int64  \n",
            " 23  fbsmt_grade       200000 non-null  int64  \n",
            " 24  condition         200000 non-null  int64  \n",
            " 25  stories           200000 non-null  float64\n",
            " 26  beds              200000 non-null  int64  \n",
            " 27  bath_full         200000 non-null  int64  \n",
            " 28  bath_3qtr         200000 non-null  int64  \n",
            " 29  bath_half         200000 non-null  int64  \n",
            " 30  garb_sqft         200000 non-null  int64  \n",
            " 31  gara_sqft         200000 non-null  int64  \n",
            " 32  wfnt              200000 non-null  int64  \n",
            " 33  golf              200000 non-null  int64  \n",
            " 34  greenbelt         200000 non-null  int64  \n",
            " 35  noise_traffic     200000 non-null  int64  \n",
            " 36  view_rainier      200000 non-null  int64  \n",
            " 37  view_olympics     200000 non-null  int64  \n",
            " 38  view_cascades     200000 non-null  int64  \n",
            " 39  view_territorial  200000 non-null  int64  \n",
            " 40  view_skyline      200000 non-null  int64  \n",
            " 41  view_sound        200000 non-null  int64  \n",
            " 42  view_lakewash     200000 non-null  int64  \n",
            " 43  view_lakesamm     200000 non-null  int64  \n",
            " 44  view_otherwater   200000 non-null  int64  \n",
            " 45  view_other        200000 non-null  int64  \n",
            " 46  submarket         198283 non-null  object \n",
            "dtypes: float64(4), int64(36), object(7)\n",
            "memory usage: 71.7+ MB\n"
          ]
        }
      ],
      "source": [
        "df.info()"
      ]
    },
    {
      "cell_type": "code",
      "execution_count": 5,
      "metadata": {
        "id": "omPiI2Z2oMDj"
      },
      "outputs": [
        {
          "name": "stdout",
          "output_type": "stream",
          "text": [
            "sale_date : 313\n",
            "\n",
            "sale_warning : 142\n",
            "\n",
            "join_status : join_status\n",
            "nochg               126281\n",
            "new                  53085\n",
            "reno - before         5864\n",
            "rebuilt - before      3706\n",
            "rebuilt - after       3095\n",
            "demo                  2869\n",
            "reno - after          2632\n",
            "miss99                2468\n",
            "Name: count, dtype: int64\n",
            "\n",
            "city : 41\n",
            "\n",
            "zoning : 500\n",
            "\n",
            "subdivision : 10377\n",
            "\n",
            "submarket : submarket\n",
            "K    21002\n",
            "B    16289\n",
            "I    15842\n",
            "R    14404\n",
            "Q    14005\n",
            "O    12528\n",
            "D    12404\n",
            "F    12401\n",
            "M    10722\n",
            "L    10579\n",
            "C    10091\n",
            "N    10052\n",
            "A     7588\n",
            "P     6971\n",
            "E     6743\n",
            "G     6144\n",
            "J     5789\n",
            "S     3672\n",
            "H     1057\n",
            "Name: count, dtype: int64\n",
            "\n"
          ]
        }
      ],
      "source": [
        "for col in df.select_dtypes('object').columns:\n",
        "  if(len(df[col].unique()) <= 20):\n",
        "    print(f'{col} : {df[col].value_counts()}\\n')\n",
        "  else:\n",
        "    print(f'{col} : {len(df[col].unique())}\\n')"
      ]
    },
    {
      "cell_type": "code",
      "execution_count": 6,
      "metadata": {
        "id": "p-C05v8-p26G"
      },
      "outputs": [
        {
          "data": {
            "text/plain": [
              "array([ 53,  74,  30,  96,  36,  82,  51,  54,  11,  95,  60,  35,  71,\n",
              "        43,  28,  26,  86,  65,  22,  14,  70,  67,  21,  56,  25,  38,\n",
              "        24,  93,   4,  32,  50,  80,  66,  27,  18,  13,  98, 100,  62,\n",
              "        19,  15,  39,  37,  75,  79,  29,  85,  44,  42,   7,  31,  64,\n",
              "        47,  91,   8,  61,  69,  68,  33,  16,  73,   1,  17,   6,  72,\n",
              "        92,  81,  58,  48,  59,  97,  20,  57,   3,  88,  23,  52,  12,\n",
              "        45,  63,  34,  87,  77,   2,  55,  46,  94,  41,  49,  40,  84,\n",
              "         9,  76,   5,  10,  78,  90])"
            ]
          },
          "execution_count": 6,
          "metadata": {},
          "output_type": "execute_result"
        }
      ],
      "source": [
        "df['area'].unique()"
      ]
    },
    {
      "cell_type": "code",
      "execution_count": 7,
      "metadata": {
        "id": "iyqkdeCXPs3Y",
        "trusted": true
      },
      "outputs": [
        {
          "data": {
            "text/plain": [
              "id                      0\n",
              "sale_date               0\n",
              "sale_price              0\n",
              "sale_nbr            42182\n",
              "sale_warning            0\n",
              "join_status             0\n",
              "join_year               0\n",
              "latitude                0\n",
              "longitude               0\n",
              "area                    0\n",
              "city                    0\n",
              "zoning                  0\n",
              "subdivision         17550\n",
              "present_use             0\n",
              "land_val                0\n",
              "imp_val                 0\n",
              "year_built              0\n",
              "year_reno               0\n",
              "sqft_lot                0\n",
              "sqft                    0\n",
              "sqft_1                  0\n",
              "sqft_fbsmt              0\n",
              "grade                   0\n",
              "fbsmt_grade             0\n",
              "condition               0\n",
              "stories                 0\n",
              "beds                    0\n",
              "bath_full               0\n",
              "bath_3qtr               0\n",
              "bath_half               0\n",
              "garb_sqft               0\n",
              "gara_sqft               0\n",
              "wfnt                    0\n",
              "golf                    0\n",
              "greenbelt               0\n",
              "noise_traffic           0\n",
              "view_rainier            0\n",
              "view_olympics           0\n",
              "view_cascades           0\n",
              "view_territorial        0\n",
              "view_skyline            0\n",
              "view_sound              0\n",
              "view_lakewash           0\n",
              "view_lakesamm           0\n",
              "view_otherwater         0\n",
              "view_other              0\n",
              "submarket            1717\n",
              "dtype: int64"
            ]
          },
          "execution_count": 7,
          "metadata": {},
          "output_type": "execute_result"
        }
      ],
      "source": [
        "df.isna().sum()"
      ]
    },
    {
      "cell_type": "code",
      "execution_count": 8,
      "metadata": {
        "id": "fl7b6dpYSvTv"
      },
      "outputs": [],
      "source": [
        "df1 = df.copy()"
      ]
    },
    {
      "cell_type": "code",
      "execution_count": 9,
      "metadata": {
        "id": "TPfA8GQtSvQ5"
      },
      "outputs": [
        {
          "data": {
            "text/plain": [
              "0"
            ]
          },
          "execution_count": 9,
          "metadata": {},
          "output_type": "execute_result"
        }
      ],
      "source": [
        "df['sale_nbr']=df['sale_nbr'].fillna(1)\n",
        "df['sale_nbr'].isna().sum()"
      ]
    },
    {
      "cell_type": "code",
      "execution_count": 10,
      "metadata": {
        "id": "ADxztEahPs3Z",
        "trusted": true
      },
      "outputs": [
        {
          "name": "stdout",
          "output_type": "stream",
          "text": [
            "id : 200000\n",
            "\n",
            "sale_date : 313\n",
            "\n",
            "sale_price : 22687\n",
            "\n",
            "sale_nbr : sale_nbr\n",
            "1.0     91159\n",
            "2.0     60735\n",
            "3.0     29924\n",
            "4.0     12167\n",
            "5.0      4287\n",
            "6.0      1280\n",
            "7.0       333\n",
            "8.0        84\n",
            "9.0        22\n",
            "10.0        5\n",
            "11.0        4\n",
            "Name: count, dtype: int64\n",
            "\n",
            "sale_warning : 142\n",
            "\n",
            "join_status : join_status\n",
            "nochg               126281\n",
            "new                  53085\n",
            "reno - before         5864\n",
            "rebuilt - before      3706\n",
            "rebuilt - after       3095\n",
            "demo                  2869\n",
            "reno - after          2632\n",
            "miss99                2468\n",
            "Name: count, dtype: int64\n",
            "\n",
            "join_year : join_year\n",
            "2025    187720\n",
            "1999     12280\n",
            "Name: count, dtype: int64\n",
            "\n",
            "latitude : 5735\n",
            "\n",
            "longitude : 7118\n",
            "\n",
            "area : 97\n",
            "\n",
            "city : 41\n",
            "\n",
            "zoning : 500\n",
            "\n",
            "subdivision : 10377\n",
            "\n",
            "present_use : present_use\n",
            "2     183153\n",
            "29     15408\n",
            "6       1439\n",
            "Name: count, dtype: int64\n",
            "\n",
            "land_val : 3186\n",
            "\n",
            "imp_val : 3417\n",
            "\n",
            "year_built : 126\n",
            "\n",
            "year_reno : 91\n",
            "\n",
            "sqft_lot : 26081\n",
            "\n",
            "sqft : 2546\n",
            "\n",
            "sqft_1 : 1698\n",
            "\n",
            "sqft_fbsmt : 697\n",
            "\n",
            "grade : grade\n",
            "7     79421\n",
            "8     59385\n",
            "9     26305\n",
            "6     18329\n",
            "10     9877\n",
            "11     3105\n",
            "5      2411\n",
            "12      698\n",
            "4       330\n",
            "13       64\n",
            "3        62\n",
            "1         8\n",
            "2         5\n",
            "Name: count, dtype: int64\n",
            "\n",
            "fbsmt_grade : fbsmt_grade\n",
            "0     121127\n",
            "7      33045\n",
            "6      17313\n",
            "8      16887\n",
            "9       5633\n",
            "5       2879\n",
            "10      1673\n",
            "4        557\n",
            "11       539\n",
            "3        191\n",
            "12        99\n",
            "2         51\n",
            "13         6\n",
            "Name: count, dtype: int64\n",
            "\n",
            "condition : condition\n",
            "3    117690\n",
            "4     58141\n",
            "5     23132\n",
            "2       818\n",
            "1       219\n",
            "Name: count, dtype: int64\n",
            "\n",
            "stories : stories\n",
            "1.0    91925\n",
            "2.0    86141\n",
            "1.5    16455\n",
            "3.0     4094\n",
            "2.5     1295\n",
            "4.0       61\n",
            "3.5       28\n",
            "4.5        1\n",
            "Name: count, dtype: int64\n",
            "\n",
            "beds : beds\n",
            "3     86450\n",
            "4     69032\n",
            "2     23222\n",
            "5     16817\n",
            "6      2115\n",
            "1      1833\n",
            "7       292\n",
            "8        95\n",
            "0        88\n",
            "9        33\n",
            "10       15\n",
            "11        4\n",
            "13        3\n",
            "14        1\n",
            "Name: count, dtype: int64\n",
            "\n",
            "bath_full : bath_full\n",
            "1    97107\n",
            "2    85630\n",
            "3    13713\n",
            "0     1978\n",
            "4     1433\n",
            "5      128\n",
            "6       10\n",
            "9        1\n",
            "Name: count, dtype: int64\n",
            "\n",
            "bath_3qtr : bath_3qtr\n",
            "0    115537\n",
            "1     71205\n",
            "2     12345\n",
            "3       775\n",
            "4       106\n",
            "5        21\n",
            "6         5\n",
            "7         4\n",
            "8         2\n",
            "Name: count, dtype: int64\n",
            "\n",
            "bath_half : bath_half\n",
            "0     103767\n",
            "1      94014\n",
            "2       2120\n",
            "3         71\n",
            "4         14\n",
            "5         10\n",
            "6          2\n",
            "7          1\n",
            "12         1\n",
            "Name: count, dtype: int64\n",
            "\n",
            "garb_sqft : 344\n",
            "\n",
            "gara_sqft : 726\n",
            "\n",
            "wfnt : wfnt\n",
            "0    197635\n",
            "8       779\n",
            "3       496\n",
            "9       458\n",
            "6       381\n",
            "7       212\n",
            "1        20\n",
            "5        16\n",
            "4         3\n",
            "Name: count, dtype: int64\n",
            "\n",
            "golf : golf\n",
            "0    198756\n",
            "1      1244\n",
            "Name: count, dtype: int64\n",
            "\n",
            "greenbelt : greenbelt\n",
            "0    193299\n",
            "1      6701\n",
            "Name: count, dtype: int64\n",
            "\n",
            "noise_traffic : noise_traffic\n",
            "0    173076\n",
            "1     15708\n",
            "2      9730\n",
            "3      1486\n",
            "Name: count, dtype: int64\n",
            "\n",
            "view_rainier : view_rainier\n",
            "0    198588\n",
            "2       739\n",
            "3       579\n",
            "4        93\n",
            "1         1\n",
            "Name: count, dtype: int64\n",
            "\n",
            "view_olympics : view_olympics\n",
            "0    195706\n",
            "2      2579\n",
            "3      1161\n",
            "4       534\n",
            "1        20\n",
            "Name: count, dtype: int64\n",
            "\n",
            "view_cascades : view_cascades\n",
            "0    195069\n",
            "2      3306\n",
            "3      1304\n",
            "4       305\n",
            "1        16\n",
            "Name: count, dtype: int64\n",
            "\n",
            "view_territorial : view_territorial\n",
            "0    182488\n",
            "2     11154\n",
            "3      4501\n",
            "4      1814\n",
            "1        43\n",
            "Name: count, dtype: int64\n",
            "\n",
            "view_skyline : view_skyline\n",
            "0    198517\n",
            "2       864\n",
            "3       387\n",
            "4       188\n",
            "1        44\n",
            "Name: count, dtype: int64\n",
            "\n",
            "view_sound : view_sound\n",
            "0    194723\n",
            "1      2038\n",
            "2      1402\n",
            "3      1077\n",
            "4       760\n",
            "Name: count, dtype: int64\n",
            "\n",
            "view_lakewash : view_lakewash\n",
            "0    195036\n",
            "1      2020\n",
            "2      1430\n",
            "3       921\n",
            "4       593\n",
            "Name: count, dtype: int64\n",
            "\n",
            "view_lakesamm : view_lakesamm\n",
            "0    198776\n",
            "1       390\n",
            "2       337\n",
            "4       263\n",
            "3       234\n",
            "Name: count, dtype: int64\n",
            "\n",
            "view_otherwater : view_otherwater\n",
            "0    198473\n",
            "2       789\n",
            "4       385\n",
            "3       352\n",
            "1         1\n",
            "Name: count, dtype: int64\n",
            "\n",
            "view_other : view_other\n",
            "0    198833\n",
            "2       883\n",
            "3       211\n",
            "4        73\n",
            "Name: count, dtype: int64\n",
            "\n",
            "submarket : submarket\n",
            "K    21002\n",
            "B    16289\n",
            "I    15842\n",
            "R    14404\n",
            "Q    14005\n",
            "O    12528\n",
            "D    12404\n",
            "F    12401\n",
            "M    10722\n",
            "L    10579\n",
            "C    10091\n",
            "N    10052\n",
            "A     7588\n",
            "P     6971\n",
            "E     6743\n",
            "G     6144\n",
            "J     5789\n",
            "S     3672\n",
            "H     1057\n",
            "Name: count, dtype: int64\n",
            "\n"
          ]
        }
      ],
      "source": [
        "for col in df1.columns:\n",
        "  if(len(df[col].unique()) <= 20):\n",
        "    print(f'{col} : {df[col].value_counts()}\\n')\n",
        "  else:\n",
        "    print(f'{col} : {len(df[col].unique())}\\n')"
      ]
    },
    {
      "cell_type": "code",
      "execution_count": 11,
      "metadata": {
        "id": "2QWNtCLdYEDJ"
      },
      "outputs": [],
      "source": [
        "df1['sale_date'] = pd.to_datetime(df1['sale_date'])"
      ]
    },
    {
      "cell_type": "code",
      "execution_count": 12,
      "metadata": {
        "id": "KtegOr_wYD_z"
      },
      "outputs": [
        {
          "data": {
            "text/plain": [
              "(1225245.3846153845, 475617.8311988243)"
            ]
          },
          "execution_count": 12,
          "metadata": {},
          "output_type": "execute_result"
        }
      ],
      "source": [
        "df1[df1['sale_date'].dt.year == 2025].sale_price.mean(),df1[df1['sale_date'].dt.year == 2010].sale_price.mean()"
      ]
    },
    {
      "cell_type": "code",
      "execution_count": 13,
      "metadata": {
        "id": "sL4Tf04Ta0Ii"
      },
      "outputs": [
        {
          "data": {
            "image/png": "[encoded data removed]",
            "text/plain": [
              "<Figure size 1000x600 with 1 Axes>"
            ]
          },
          "metadata": {},
          "output_type": "display_data"
        }
      ],
      "source": [
        "import matplotlib.pyplot as plt\n",
        "\n",
        "# Create a new column for year\n",
        "df1['sale_year'] = df1['sale_date'].dt.year\n",
        "\n",
        "# Group by year and calculate average sale price\n",
        "yearly_avg = df1.groupby('sale_year')['sale_price'].mean()\n",
        "\n",
        "# Plot the trend\n",
        "plt.figure(figsize=(10,6))\n",
        "yearly_avg.plot(marker='o')\n",
        "plt.title(\"Average Sale Price by Year\")\n",
        "plt.xlabel(\"Year\")\n",
        "plt.ylabel(\"Average Sale Price\")\n",
        "plt.grid(True)\n",
        "plt.show()"
      ]
    },
    {
      "cell_type": "code",
      "execution_count": 14,
      "metadata": {
        "id": "MKDRzNgf44Uk"
      },
      "outputs": [
        {
          "data": {
            "text/plain": [
              "dtype('int32')"
            ]
          },
          "execution_count": 14,
          "metadata": {},
          "output_type": "execute_result"
        }
      ],
      "source": [
        "df1['sale_year'].dtype"
      ]
    },
    {
      "cell_type": "code",
      "execution_count": 15,
      "metadata": {
        "id": "pvkAYuYX44SE"
      },
      "outputs": [
        {
          "data": {
            "text/plain": [
              "Index(['id', 'sale_date', 'sale_price', 'sale_nbr', 'sale_warning',\n",
              "       'join_status', 'join_year', 'latitude', 'longitude', 'area', 'city',\n",
              "       'zoning', 'subdivision', 'present_use', 'land_val', 'imp_val',\n",
              "       'year_built', 'year_reno', 'sqft_lot', 'sqft', 'sqft_1', 'sqft_fbsmt',\n",
              "       'grade', 'fbsmt_grade', 'condition', 'stories', 'beds', 'bath_full',\n",
              "       'bath_3qtr', 'bath_half', 'garb_sqft', 'gara_sqft', 'wfnt', 'golf',\n",
              "       'greenbelt', 'noise_traffic', 'view_rainier', 'view_olympics',\n",
              "       'view_cascades', 'view_territorial', 'view_skyline', 'view_sound',\n",
              "       'view_lakewash', 'view_lakesamm', 'view_otherwater', 'view_other',\n",
              "       'submarket', 'sale_year'],\n",
              "      dtype='object')"
            ]
          },
          "execution_count": 15,
          "metadata": {},
          "output_type": "execute_result"
        }
      ],
      "source": [
        "df1.columns"
      ]
    },
    {
      "cell_type": "code",
      "execution_count": 16,
      "metadata": {
        "id": "a_9JYsla8mJS"
      },
      "outputs": [],
      "source": [
        "# to drop [join_year,subdivision, ]"
      ]
    },
    {
      "cell_type": "code",
      "execution_count": 17,
      "metadata": {
        "id": "b6l6TDme85OH"
      },
      "outputs": [],
      "source": [
        "# var.unique(), df1['land_val'].isna().sum()"
      ]
    },
    {
      "cell_type": "code",
      "execution_count": 18,
      "metadata": {
        "id": "akB9CtD444Pk"
      },
      "outputs": [
        {
          "data": {
            "image/png": "[encoded data removed]",
            "text/plain": [
              "<Figure size 1500x600 with 1 Axes>"
            ]
          },
          "metadata": {},
          "output_type": "display_data"
        }
      ],
      "source": [
        "df_clean = df1.dropna(subset=['year_reno', 'sale_price'])\n",
        "\n",
        "var = df_clean['year_reno']\n",
        "target = df_clean['sale_price']\n",
        "\n",
        "plt.figure(figsize=(15,6))\n",
        "plt.scatter(var, target)\n",
        "plt.xlabel(\"variable\",)\n",
        "plt.xticks(rotation=90)\n",
        "plt.ylabel(\"Sale Price\",)\n",
        "plt.tight_layout()"
      ]
    },
    {
      "cell_type": "code",
      "execution_count": 19,
      "metadata": {
        "id": "lwLC6S84a0F2"
      },
      "outputs": [],
      "source": [
        "df1['age'] = df1['sale_year'] - df1['year_built']"
      ]
    },
    {
      "cell_type": "code",
      "execution_count": 20,
      "metadata": {
        "id": "oJ7e_I-pTLC6"
      },
      "outputs": [
        {
          "data": {
            "text/html": [
              "<div>\n",
              "<style scoped>\n",
              "    .dataframe tbody tr th:only-of-type {\n",
              "        vertical-align: middle;\n",
              "    }\n",
              "\n",
              "    .dataframe tbody tr th {\n",
              "        vertical-align: top;\n",
              "    }\n",
              "\n",
              "    .dataframe thead th {\n",
              "        text-align: right;\n",
              "    }\n",
              "</style>\n",
              "<table border=\"1\" class=\"dataframe\">\n",
              "  <thead>\n",
              "    <tr style=\"text-align: right;\">\n",
              "      <th></th>\n",
              "      <th>year_built</th>\n",
              "      <th>sale_year</th>\n",
              "      <th>sale_price</th>\n",
              "    </tr>\n",
              "  </thead>\n",
              "  <tbody>\n",
              "    <tr>\n",
              "      <th>24</th>\n",
              "      <td>2019</td>\n",
              "      <td>2005</td>\n",
              "      <td>215000</td>\n",
              "    </tr>\n",
              "    <tr>\n",
              "      <th>65</th>\n",
              "      <td>2021</td>\n",
              "      <td>2012</td>\n",
              "      <td>360000</td>\n",
              "    </tr>\n",
              "    <tr>\n",
              "      <th>94</th>\n",
              "      <td>2009</td>\n",
              "      <td>2008</td>\n",
              "      <td>640000</td>\n",
              "    </tr>\n",
              "    <tr>\n",
              "      <th>116</th>\n",
              "      <td>2000</td>\n",
              "      <td>1999</td>\n",
              "      <td>235000</td>\n",
              "    </tr>\n",
              "    <tr>\n",
              "      <th>137</th>\n",
              "      <td>2019</td>\n",
              "      <td>2013</td>\n",
              "      <td>1500000</td>\n",
              "    </tr>\n",
              "    <tr>\n",
              "      <th>...</th>\n",
              "      <td>...</td>\n",
              "      <td>...</td>\n",
              "      <td>...</td>\n",
              "    </tr>\n",
              "    <tr>\n",
              "      <th>199787</th>\n",
              "      <td>2015</td>\n",
              "      <td>2006</td>\n",
              "      <td>527000</td>\n",
              "    </tr>\n",
              "    <tr>\n",
              "      <th>199790</th>\n",
              "      <td>2022</td>\n",
              "      <td>2011</td>\n",
              "      <td>1072000</td>\n",
              "    </tr>\n",
              "    <tr>\n",
              "      <th>199852</th>\n",
              "      <td>2009</td>\n",
              "      <td>2005</td>\n",
              "      <td>535000</td>\n",
              "    </tr>\n",
              "    <tr>\n",
              "      <th>199950</th>\n",
              "      <td>2014</td>\n",
              "      <td>1999</td>\n",
              "      <td>164500</td>\n",
              "    </tr>\n",
              "    <tr>\n",
              "      <th>199985</th>\n",
              "      <td>2015</td>\n",
              "      <td>2013</td>\n",
              "      <td>611000</td>\n",
              "    </tr>\n",
              "  </tbody>\n",
              "</table>\n",
              "<p>4324 rows × 3 columns</p>\n",
              "</div>"
            ],
            "text/plain": [
              "        year_built  sale_year  sale_price\n",
              "24            2019       2005      215000\n",
              "65            2021       2012      360000\n",
              "94            2009       2008      640000\n",
              "116           2000       1999      235000\n",
              "137           2019       2013     1500000\n",
              "...            ...        ...         ...\n",
              "199787        2015       2006      527000\n",
              "199790        2022       2011     1072000\n",
              "199852        2009       2005      535000\n",
              "199950        2014       1999      164500\n",
              "199985        2015       2013      611000\n",
              "\n",
              "[4324 rows x 3 columns]"
            ]
          },
          "execution_count": 20,
          "metadata": {},
          "output_type": "execute_result"
        }
      ],
      "source": [
        "df1[df1['age'] < 0][['year_built', 'sale_year', 'sale_price']]  # incorrect data"
      ]
    },
    {
      "cell_type": "code",
      "execution_count": 21,
      "metadata": {
        "id": "K21Tx8m5AOa4"
      },
      "outputs": [
        {
          "data": {
            "text/plain": [
              "(195676, 49)"
            ]
          },
          "execution_count": 21,
          "metadata": {},
          "output_type": "execute_result"
        }
      ],
      "source": [
        "df2 = df1[df1['year_built'] <= df1['sale_year']]\n",
        "df2.shape"
      ]
    },
    {
      "cell_type": "code",
      "execution_count": 22,
      "metadata": {
        "id": "LfhRMkrWA3bS"
      },
      "outputs": [
        {
          "name": "stderr",
          "output_type": "stream",
          "text": [
            "/tmp/ipykernel_10602/209182768.py:1: SettingWithCopyWarning: \n",
            "A value is trying to be set on a copy of a slice from a DataFrame.\n",
            "Try using .loc[row_indexer,col_indexer] = value instead\n",
            "\n",
            "See the caveats in the documentation: https://pandas.pydata.org/pandas-docs/stable/user_guide/indexing.html#returning-a-view-versus-a-copy\n",
            "  df2['renovated'] = df2['year_reno'] != 0\n",
            "/tmp/ipykernel_10602/209182768.py:2: SettingWithCopyWarning: \n",
            "A value is trying to be set on a copy of a slice from a DataFrame.\n",
            "Try using .loc[row_indexer,col_indexer] = value instead\n",
            "\n",
            "See the caveats in the documentation: https://pandas.pydata.org/pandas-docs/stable/user_guide/indexing.html#returning-a-view-versus-a-copy\n",
            "  df2['renovated'] = df2['renovated'].astype('int8')\n"
          ]
        },
        {
          "data": {
            "text/plain": [
              "dtype('int8')"
            ]
          },
          "execution_count": 22,
          "metadata": {},
          "output_type": "execute_result"
        }
      ],
      "source": [
        "df2['renovated'] = df2['year_reno'] != 0\n",
        "df2['renovated'] = df2['renovated'].astype('int8')\n",
        "df2['renovated'].dtype"
      ]
    },
    {
      "cell_type": "code",
      "execution_count": 23,
      "metadata": {
        "id": "AEYPM8NQBVf2"
      },
      "outputs": [
        {
          "name": "stderr",
          "output_type": "stream",
          "text": [
            "/tmp/ipykernel_10602/2426575670.py:1: SettingWithCopyWarning: \n",
            "A value is trying to be set on a copy of a slice from a DataFrame.\n",
            "Try using .loc[row_indexer,col_indexer] = value instead\n",
            "\n",
            "See the caveats in the documentation: https://pandas.pydata.org/pandas-docs/stable/user_guide/indexing.html#returning-a-view-versus-a-copy\n",
            "  df2['total_bathroom'] = (df2['bath_full'] + 0.75 * df2['bath_3qtr'] + 0.5 * df2['bath_half'])\n"
          ]
        },
        {
          "data": {
            "text/plain": [
              "0         1.75\n",
              "1         2.25\n",
              "2         2.50\n",
              "3         2.50\n",
              "4         3.25\n",
              "          ... \n",
              "199995    1.75\n",
              "199996    2.50\n",
              "199997    1.75\n",
              "199998    2.50\n",
              "199999    1.75\n",
              "Name: total_bathroom, Length: 195676, dtype: float64"
            ]
          },
          "execution_count": 23,
          "metadata": {},
          "output_type": "execute_result"
        }
      ],
      "source": [
        "df2['total_bathroom'] = (df2['bath_full'] + 0.75 * df2['bath_3qtr'] + 0.5 * df2['bath_half'])\n",
        "df2['total_bathroom']"
      ]
    },
    {
      "cell_type": "code",
      "execution_count": 24,
      "metadata": {
        "id": "C058k6GGCvoZ"
      },
      "outputs": [
        {
          "data": {
            "text/html": [
              "<div>\n",
              "<style scoped>\n",
              "    .dataframe tbody tr th:only-of-type {\n",
              "        vertical-align: middle;\n",
              "    }\n",
              "\n",
              "    .dataframe tbody tr th {\n",
              "        vertical-align: top;\n",
              "    }\n",
              "\n",
              "    .dataframe thead th {\n",
              "        text-align: right;\n",
              "    }\n",
              "</style>\n",
              "<table border=\"1\" class=\"dataframe\">\n",
              "  <thead>\n",
              "    <tr style=\"text-align: right;\">\n",
              "      <th></th>\n",
              "      <th>id</th>\n",
              "      <th>sale_price</th>\n",
              "      <th>sale_nbr</th>\n",
              "      <th>sale_warning</th>\n",
              "      <th>join_status</th>\n",
              "      <th>latitude</th>\n",
              "      <th>longitude</th>\n",
              "      <th>area</th>\n",
              "      <th>city</th>\n",
              "      <th>zoning</th>\n",
              "      <th>...</th>\n",
              "      <th>view_sound</th>\n",
              "      <th>view_lakewash</th>\n",
              "      <th>view_lakesamm</th>\n",
              "      <th>view_otherwater</th>\n",
              "      <th>view_other</th>\n",
              "      <th>submarket</th>\n",
              "      <th>sale_year</th>\n",
              "      <th>age</th>\n",
              "      <th>renovated</th>\n",
              "      <th>total_bathroom</th>\n",
              "    </tr>\n",
              "  </thead>\n",
              "  <tbody>\n",
              "    <tr>\n",
              "      <th>0</th>\n",
              "      <td>0</td>\n",
              "      <td>236000</td>\n",
              "      <td>2.0</td>\n",
              "      <td></td>\n",
              "      <td>nochg</td>\n",
              "      <td>47.2917</td>\n",
              "      <td>-122.3658</td>\n",
              "      <td>53</td>\n",
              "      <td>FEDERAL WAY</td>\n",
              "      <td>RS7.2</td>\n",
              "      <td>...</td>\n",
              "      <td>0</td>\n",
              "      <td>0</td>\n",
              "      <td>0</td>\n",
              "      <td>0</td>\n",
              "      <td>0</td>\n",
              "      <td>I</td>\n",
              "      <td>2014</td>\n",
              "      <td>39</td>\n",
              "      <td>0</td>\n",
              "      <td>1.75</td>\n",
              "    </tr>\n",
              "    <tr>\n",
              "      <th>1</th>\n",
              "      <td>1</td>\n",
              "      <td>313300</td>\n",
              "      <td>NaN</td>\n",
              "      <td>26</td>\n",
              "      <td>nochg</td>\n",
              "      <td>47.6531</td>\n",
              "      <td>-122.1996</td>\n",
              "      <td>74</td>\n",
              "      <td>KIRKLAND</td>\n",
              "      <td>RS 8.5</td>\n",
              "      <td>...</td>\n",
              "      <td>0</td>\n",
              "      <td>1</td>\n",
              "      <td>0</td>\n",
              "      <td>0</td>\n",
              "      <td>0</td>\n",
              "      <td>Q</td>\n",
              "      <td>1999</td>\n",
              "      <td>37</td>\n",
              "      <td>0</td>\n",
              "      <td>2.25</td>\n",
              "    </tr>\n",
              "    <tr>\n",
              "      <th>2</th>\n",
              "      <td>2</td>\n",
              "      <td>341000</td>\n",
              "      <td>1.0</td>\n",
              "      <td></td>\n",
              "      <td>nochg</td>\n",
              "      <td>47.4733</td>\n",
              "      <td>-122.1901</td>\n",
              "      <td>30</td>\n",
              "      <td>RENTON</td>\n",
              "      <td>R-8</td>\n",
              "      <td>...</td>\n",
              "      <td>0</td>\n",
              "      <td>0</td>\n",
              "      <td>0</td>\n",
              "      <td>0</td>\n",
              "      <td>0</td>\n",
              "      <td>K</td>\n",
              "      <td>2006</td>\n",
              "      <td>20</td>\n",
              "      <td>0</td>\n",
              "      <td>2.50</td>\n",
              "    </tr>\n",
              "    <tr>\n",
              "      <th>3</th>\n",
              "      <td>3</td>\n",
              "      <td>267000</td>\n",
              "      <td>1.0</td>\n",
              "      <td></td>\n",
              "      <td>nochg</td>\n",
              "      <td>47.4739</td>\n",
              "      <td>-122.3295</td>\n",
              "      <td>96</td>\n",
              "      <td>BURIEN</td>\n",
              "      <td>RS-7200</td>\n",
              "      <td>...</td>\n",
              "      <td>0</td>\n",
              "      <td>0</td>\n",
              "      <td>0</td>\n",
              "      <td>0</td>\n",
              "      <td>0</td>\n",
              "      <td>G</td>\n",
              "      <td>1999</td>\n",
              "      <td>1</td>\n",
              "      <td>0</td>\n",
              "      <td>2.50</td>\n",
              "    </tr>\n",
              "    <tr>\n",
              "      <th>4</th>\n",
              "      <td>4</td>\n",
              "      <td>1650000</td>\n",
              "      <td>2.0</td>\n",
              "      <td></td>\n",
              "      <td>miss99</td>\n",
              "      <td>47.7516</td>\n",
              "      <td>-122.1222</td>\n",
              "      <td>36</td>\n",
              "      <td>KING COUNTY</td>\n",
              "      <td>RA2.5</td>\n",
              "      <td>...</td>\n",
              "      <td>0</td>\n",
              "      <td>0</td>\n",
              "      <td>0</td>\n",
              "      <td>0</td>\n",
              "      <td>0</td>\n",
              "      <td>P</td>\n",
              "      <td>2018</td>\n",
              "      <td>20</td>\n",
              "      <td>0</td>\n",
              "      <td>3.25</td>\n",
              "    </tr>\n",
              "  </tbody>\n",
              "</table>\n",
              "<p>5 rows × 43 columns</p>\n",
              "</div>"
            ],
            "text/plain": [
              "   id  sale_price  sale_nbr sale_warning join_status  latitude  longitude  \\\n",
              "0   0      236000       2.0                    nochg   47.2917  -122.3658   \n",
              "1   1      313300       NaN          26        nochg   47.6531  -122.1996   \n",
              "2   2      341000       1.0                    nochg   47.4733  -122.1901   \n",
              "3   3      267000       1.0                    nochg   47.4739  -122.3295   \n",
              "4   4     1650000       2.0                   miss99   47.7516  -122.1222   \n",
              "\n",
              "   area         city   zoning  ...  view_sound  view_lakewash  view_lakesamm  \\\n",
              "0    53  FEDERAL WAY    RS7.2  ...           0              0              0   \n",
              "1    74     KIRKLAND   RS 8.5  ...           0              1              0   \n",
              "2    30       RENTON      R-8  ...           0              0              0   \n",
              "3    96       BURIEN  RS-7200  ...           0              0              0   \n",
              "4    36  KING COUNTY    RA2.5  ...           0              0              0   \n",
              "\n",
              "   view_otherwater  view_other  submarket  sale_year  age  renovated  \\\n",
              "0                0           0          I       2014   39          0   \n",
              "1                0           0          Q       1999   37          0   \n",
              "2                0           0          K       2006   20          0   \n",
              "3                0           0          G       1999    1          0   \n",
              "4                0           0          P       2018   20          0   \n",
              "\n",
              "   total_bathroom  \n",
              "0            1.75  \n",
              "1            2.25  \n",
              "2            2.50  \n",
              "3            2.50  \n",
              "4            3.25  \n",
              "\n",
              "[5 rows x 43 columns]"
            ]
          },
          "execution_count": 24,
          "metadata": {},
          "output_type": "execute_result"
        }
      ],
      "source": [
        "cols_to_drop = ['join_year','subdivision','bath_full','bath_3qtr','bath_half','year_built','year_reno','sale_date']\n",
        "df3 = df2.drop(cols_to_drop, axis=1)\n",
        "df3.head()"
      ]
    },
    {
      "cell_type": "code",
      "execution_count": 25,
      "metadata": {
        "id": "nGuCqU8oDE8l"
      },
      "outputs": [
        {
          "data": {
            "text/plain": [
              "Index(['id', 'sale_price', 'sale_nbr', 'sale_warning', 'join_status',\n",
              "       'latitude', 'longitude', 'area', 'city', 'zoning', 'present_use',\n",
              "       'land_val', 'imp_val', 'sqft_lot', 'sqft', 'sqft_1', 'sqft_fbsmt',\n",
              "       'grade', 'fbsmt_grade', 'condition', 'stories', 'beds', 'garb_sqft',\n",
              "       'gara_sqft', 'wfnt', 'golf', 'greenbelt', 'noise_traffic',\n",
              "       'view_rainier', 'view_olympics', 'view_cascades', 'view_territorial',\n",
              "       'view_skyline', 'view_sound', 'view_lakewash', 'view_lakesamm',\n",
              "       'view_otherwater', 'view_other', 'submarket', 'sale_year', 'age',\n",
              "       'renovated', 'total_bathroom'],\n",
              "      dtype='object')"
            ]
          },
          "execution_count": 25,
          "metadata": {},
          "output_type": "execute_result"
        }
      ],
      "source": [
        "df3.columns"
      ]
    },
    {
      "cell_type": "code",
      "execution_count": 26,
      "metadata": {
        "id": "PB-F5g70D50G"
      },
      "outputs": [
        {
          "data": {
            "text/plain": [
              "array(['   ', ' 26 ', ' 15 26 ', ' 15 ', ' 40 ', ' 10 ', ' 41 ', ' 56 ',\n",
              "       ' 10 15 ', ' 17 ', ' 60 ', ' 35 ', ' 10 15 56 ', ' 26 56 ', ' 29 ',\n",
              "       ' 38 ', ' 57 ', ' 26 60 ', ' 15 40 ', ' 3 ', ' 54 ', ' 41 57 ',\n",
              "       ' 10 36 ', ' 34 36 ', ' 3 15 ', ' 28 56 ', ' 41 60 ', ' 16 ',\n",
              "       ' 30 35 ', ' 26 41 ', ' 3 15 26 ', ' 17 54 ', ' 56 57 ', ' 57 60 ',\n",
              "       ' 10 56 ', ' 26 56 60 ', ' 55 ', ' 4 ', ' 10 26 ', ' 26 29 ',\n",
              "       ' 34 ', ' 15 56 ', ' 29 36 ', ' 15 35 ', ' 3 26 ', ' 44 ',\n",
              "       ' 15 38 ', ' 29 56 ', ' 15 26 29 ', ' 15 26 44 ', ' 15 29 ',\n",
              "       ' 15 44 ', ' 15 54 ', ' 3 15 29 ', ' 26 34 ', ' 15 16 ', ' 15 60 ',\n",
              "       ' 28 ', ' 45 ', ' 15 17 54 ', ' 26 35 ', ' 15 41 ', ' 10 15 16 ',\n",
              "       ' 15 16 54 ', ' 15 26 56 ', ' 15 * ', ' 36 ', ' 10 15 16 26 ',\n",
              "       ' 3 35 ', ' 10 29 ', ' 26 38 ', ' 10 29 36 ', ' 24 ', ' 15 29 36 ',\n",
              "       ' 26 40 ', ' 4 15 ', ' 26 57 ', ' 58 ', ' 45 56 60 ', ' 15 45 ',\n",
              "       ' 10 15 36 ', ' 26 29 56 ', ' 30 ', ' 56 60 ', ' 80 ', ' 10 34 ',\n",
              "       ' 16 54 ', ' 56 58 ', ' 4 56 ', ' 26 34 56 ', ' 92 60 ', ' 29 45 ',\n",
              "       ' 3 40 ', ' 17 26 ', ' 4 54 ', ' 10 16 ', ' 10 29 34 56 ',\n",
              "       ' 15 34 ', ' 15 36 ', ' 35 41 ', ' 15 29 56 ', ' 3 10 15 ',\n",
              "       ' 26 55 ', ' 16 26 ', ' 15 26 41 ', ' 24 26 ', ' 54 56 ',\n",
              "       ' 34 56 ', ' 15 17 ', ' 10 15 26 ', ' 3 26 29 ', ' 26 58 ',\n",
              "       ' 16 17 54 ', ' 10 60 ', ' 45 56 ', ' 26 44 ', ' 10 58 ',\n",
              "       ' 15 92 ', ' 3 60 '], dtype=object)"
            ]
          },
          "execution_count": 26,
          "metadata": {},
          "output_type": "execute_result"
        }
      ],
      "source": [
        "df3['sale_warning'].unique()"
      ]
    },
    {
      "cell_type": "code",
      "execution_count": 27,
      "metadata": {
        "id": "IwjGfyduElNe"
      },
      "outputs": [
        {
          "data": {
            "text/html": [
              "<div>\n",
              "<style scoped>\n",
              "    .dataframe tbody tr th:only-of-type {\n",
              "        vertical-align: middle;\n",
              "    }\n",
              "\n",
              "    .dataframe tbody tr th {\n",
              "        vertical-align: top;\n",
              "    }\n",
              "\n",
              "    .dataframe thead th {\n",
              "        text-align: right;\n",
              "    }\n",
              "</style>\n",
              "<table border=\"1\" class=\"dataframe\">\n",
              "  <thead>\n",
              "    <tr style=\"text-align: right;\">\n",
              "      <th></th>\n",
              "      <th>id</th>\n",
              "      <th>sale_date</th>\n",
              "      <th>sale_nbr</th>\n",
              "      <th>sale_warning</th>\n",
              "      <th>join_status</th>\n",
              "      <th>join_year</th>\n",
              "      <th>latitude</th>\n",
              "      <th>longitude</th>\n",
              "      <th>area</th>\n",
              "      <th>city</th>\n",
              "      <th>...</th>\n",
              "      <th>view_olympics</th>\n",
              "      <th>view_cascades</th>\n",
              "      <th>view_territorial</th>\n",
              "      <th>view_skyline</th>\n",
              "      <th>view_sound</th>\n",
              "      <th>view_lakewash</th>\n",
              "      <th>view_lakesamm</th>\n",
              "      <th>view_otherwater</th>\n",
              "      <th>view_other</th>\n",
              "      <th>submarket</th>\n",
              "    </tr>\n",
              "  </thead>\n",
              "  <tbody>\n",
              "    <tr>\n",
              "      <th>0</th>\n",
              "      <td>200000</td>\n",
              "      <td>2022-12-15</td>\n",
              "      <td>4.0</td>\n",
              "      <td></td>\n",
              "      <td>new</td>\n",
              "      <td>2025</td>\n",
              "      <td>47.4794</td>\n",
              "      <td>-122.2212</td>\n",
              "      <td>25</td>\n",
              "      <td>RENTON</td>\n",
              "      <td>...</td>\n",
              "      <td>0</td>\n",
              "      <td>0</td>\n",
              "      <td>0</td>\n",
              "      <td>0</td>\n",
              "      <td>0</td>\n",
              "      <td>0</td>\n",
              "      <td>0</td>\n",
              "      <td>0</td>\n",
              "      <td>0</td>\n",
              "      <td>J</td>\n",
              "    </tr>\n",
              "    <tr>\n",
              "      <th>1</th>\n",
              "      <td>200001</td>\n",
              "      <td>2000-10-15</td>\n",
              "      <td>2.0</td>\n",
              "      <td></td>\n",
              "      <td>new</td>\n",
              "      <td>2025</td>\n",
              "      <td>47.5778</td>\n",
              "      <td>-122.0270</td>\n",
              "      <td>69</td>\n",
              "      <td>SAMMAMISH</td>\n",
              "      <td>...</td>\n",
              "      <td>0</td>\n",
              "      <td>0</td>\n",
              "      <td>0</td>\n",
              "      <td>0</td>\n",
              "      <td>0</td>\n",
              "      <td>0</td>\n",
              "      <td>0</td>\n",
              "      <td>0</td>\n",
              "      <td>0</td>\n",
              "      <td>O</td>\n",
              "    </tr>\n",
              "    <tr>\n",
              "      <th>2</th>\n",
              "      <td>200002</td>\n",
              "      <td>2004-06-15</td>\n",
              "      <td>1.0</td>\n",
              "      <td></td>\n",
              "      <td>nochg</td>\n",
              "      <td>2025</td>\n",
              "      <td>47.5632</td>\n",
              "      <td>-122.1623</td>\n",
              "      <td>31</td>\n",
              "      <td>BELLEVUE</td>\n",
              "      <td>...</td>\n",
              "      <td>3</td>\n",
              "      <td>0</td>\n",
              "      <td>3</td>\n",
              "      <td>3</td>\n",
              "      <td>0</td>\n",
              "      <td>2</td>\n",
              "      <td>0</td>\n",
              "      <td>0</td>\n",
              "      <td>0</td>\n",
              "      <td>R</td>\n",
              "    </tr>\n",
              "    <tr>\n",
              "      <th>3</th>\n",
              "      <td>200003</td>\n",
              "      <td>2009-11-15</td>\n",
              "      <td>1.0</td>\n",
              "      <td></td>\n",
              "      <td>nochg</td>\n",
              "      <td>2025</td>\n",
              "      <td>47.6911</td>\n",
              "      <td>-122.3469</td>\n",
              "      <td>6</td>\n",
              "      <td>SEATTLE</td>\n",
              "      <td>...</td>\n",
              "      <td>0</td>\n",
              "      <td>0</td>\n",
              "      <td>0</td>\n",
              "      <td>0</td>\n",
              "      <td>0</td>\n",
              "      <td>0</td>\n",
              "      <td>0</td>\n",
              "      <td>0</td>\n",
              "      <td>0</td>\n",
              "      <td>B</td>\n",
              "    </tr>\n",
              "    <tr>\n",
              "      <th>4</th>\n",
              "      <td>200004</td>\n",
              "      <td>1999-06-15</td>\n",
              "      <td>1.0</td>\n",
              "      <td></td>\n",
              "      <td>reno - before</td>\n",
              "      <td>1999</td>\n",
              "      <td>47.4001</td>\n",
              "      <td>-122.4146</td>\n",
              "      <td>100</td>\n",
              "      <td>KING COUNTY</td>\n",
              "      <td>...</td>\n",
              "      <td>0</td>\n",
              "      <td>2</td>\n",
              "      <td>4</td>\n",
              "      <td>0</td>\n",
              "      <td>3</td>\n",
              "      <td>0</td>\n",
              "      <td>0</td>\n",
              "      <td>0</td>\n",
              "      <td>0</td>\n",
              "      <td>H</td>\n",
              "    </tr>\n",
              "  </tbody>\n",
              "</table>\n",
              "<p>5 rows × 46 columns</p>\n",
              "</div>"
            ],
            "text/plain": [
              "       id   sale_date  sale_nbr sale_warning    join_status  join_year  \\\n",
              "0  200000  2022-12-15       4.0                         new       2025   \n",
              "1  200001  2000-10-15       2.0                         new       2025   \n",
              "2  200002  2004-06-15       1.0                       nochg       2025   \n",
              "3  200003  2009-11-15       1.0                       nochg       2025   \n",
              "4  200004  1999-06-15       1.0               reno - before       1999   \n",
              "\n",
              "   latitude  longitude  area         city  ... view_olympics view_cascades  \\\n",
              "0   47.4794  -122.2212    25       RENTON  ...             0             0   \n",
              "1   47.5778  -122.0270    69    SAMMAMISH  ...             0             0   \n",
              "2   47.5632  -122.1623    31     BELLEVUE  ...             3             0   \n",
              "3   47.6911  -122.3469     6      SEATTLE  ...             0             0   \n",
              "4   47.4001  -122.4146   100  KING COUNTY  ...             0             2   \n",
              "\n",
              "   view_territorial  view_skyline  view_sound  view_lakewash  view_lakesamm  \\\n",
              "0                 0             0           0              0              0   \n",
              "1                 0             0           0              0              0   \n",
              "2                 3             3           0              2              0   \n",
              "3                 0             0           0              0              0   \n",
              "4                 4             0           3              0              0   \n",
              "\n",
              "   view_otherwater  view_other  submarket  \n",
              "0                0           0          J  \n",
              "1                0           0          O  \n",
              "2                0           0          R  \n",
              "3                0           0          B  \n",
              "4                0           0          H  \n",
              "\n",
              "[5 rows x 46 columns]"
            ]
          },
          "execution_count": 27,
          "metadata": {},
          "output_type": "execute_result"
        }
      ],
      "source": [
        "test_df = pd.read_csv('prediction-interval-competition-ii-house-price/test.csv')\n",
        "test_df.head()"
      ]
    },
    {
      "cell_type": "markdown",
      "metadata": {
        "id": "pl6H3rabG1kW"
      },
      "source": [
        "## Todo if accuracy is not good"
      ]
    },
    {
      "cell_type": "code",
      "execution_count": 28,
      "metadata": {
        "id": "9P6CPmO_DRYV"
      },
      "outputs": [],
      "source": [
        "# final = set()\n",
        "# for s in df3['sale_warning'].unique():\n",
        "#   for code in s.strip().split():\n",
        "#     final.add(code)\n",
        "# final"
      ]
    },
    {
      "cell_type": "code",
      "execution_count": 29,
      "metadata": {
        "id": "DsLfgbx3DRVa"
      },
      "outputs": [],
      "source": [
        "# test = set()\n",
        "# for s in test_df['sale_warning'].unique():\n",
        "#   for code in s.strip().split():\n",
        "#     test.add(code)\n",
        "# test"
      ]
    },
    {
      "cell_type": "code",
      "execution_count": 30,
      "metadata": {
        "id": "e-8l8up0DRJV"
      },
      "outputs": [],
      "source": [
        "# print(\"final & test:\", final & test)  # empty set here: set()"
      ]
    },
    {
      "cell_type": "markdown",
      "metadata": {
        "id": "ufrmBgFsG6m6"
      },
      "source": [
        "## continue"
      ]
    },
    {
      "cell_type": "code",
      "execution_count": 31,
      "metadata": {
        "id": "kAeocaGgGzgt"
      },
      "outputs": [
        {
          "data": {
            "text/plain": [
              "Index(['id', 'sale_price', 'sale_nbr', 'sale_warning', 'join_status',\n",
              "       'latitude', 'longitude', 'area', 'city', 'zoning', 'present_use',\n",
              "       'land_val', 'imp_val', 'sqft_lot', 'sqft', 'sqft_1', 'sqft_fbsmt',\n",
              "       'grade', 'fbsmt_grade', 'condition', 'stories', 'beds', 'garb_sqft',\n",
              "       'gara_sqft', 'wfnt', 'golf', 'greenbelt', 'noise_traffic',\n",
              "       'view_rainier', 'view_olympics', 'view_cascades', 'view_territorial',\n",
              "       'view_skyline', 'view_sound', 'view_lakewash', 'view_lakesamm',\n",
              "       'view_otherwater', 'view_other', 'submarket', 'sale_year', 'age',\n",
              "       'renovated', 'total_bathroom'],\n",
              "      dtype='object')"
            ]
          },
          "execution_count": 31,
          "metadata": {},
          "output_type": "execute_result"
        }
      ],
      "source": [
        "df3.columns"
      ]
    },
    {
      "cell_type": "code",
      "execution_count": 32,
      "metadata": {
        "id": "kvi1KYKVGzd8"
      },
      "outputs": [
        {
          "data": {
            "text/plain": [
              "id                      0\n",
              "sale_price              0\n",
              "sale_nbr            41616\n",
              "sale_warning            0\n",
              "join_status             0\n",
              "latitude                0\n",
              "longitude               0\n",
              "area                    0\n",
              "city                    0\n",
              "zoning                  0\n",
              "present_use             0\n",
              "land_val                0\n",
              "imp_val                 0\n",
              "sqft_lot                0\n",
              "sqft                    0\n",
              "sqft_1                  0\n",
              "sqft_fbsmt              0\n",
              "grade                   0\n",
              "fbsmt_grade             0\n",
              "condition               0\n",
              "stories                 0\n",
              "beds                    0\n",
              "garb_sqft               0\n",
              "gara_sqft               0\n",
              "wfnt                    0\n",
              "golf                    0\n",
              "greenbelt               0\n",
              "noise_traffic           0\n",
              "view_rainier            0\n",
              "view_olympics           0\n",
              "view_cascades           0\n",
              "view_territorial        0\n",
              "view_skyline            0\n",
              "view_sound              0\n",
              "view_lakewash           0\n",
              "view_lakesamm           0\n",
              "view_otherwater         0\n",
              "view_other              0\n",
              "submarket            1662\n",
              "sale_year               0\n",
              "age                     0\n",
              "renovated               0\n",
              "total_bathroom          0\n",
              "dtype: int64"
            ]
          },
          "execution_count": 32,
          "metadata": {},
          "output_type": "execute_result"
        }
      ],
      "source": [
        "df3.isna().sum()"
      ]
    },
    {
      "cell_type": "code",
      "execution_count": 33,
      "metadata": {
        "id": "5jDIBJM5HkZu"
      },
      "outputs": [],
      "source": [
        "import seaborn as sns"
      ]
    },
    {
      "cell_type": "code",
      "execution_count": 34,
      "metadata": {
        "id": "gQh8nwnHHRLe"
      },
      "outputs": [],
      "source": [
        "# df3[df3['age'] < 0]"
      ]
    },
    {
      "cell_type": "code",
      "execution_count": 35,
      "metadata": {
        "id": "oJTe00iTHjbj"
      },
      "outputs": [
        {
          "name": "stdout",
          "output_type": "stream",
          "text": [
            "<class 'pandas.core.frame.DataFrame'>\n",
            "Index: 195676 entries, 0 to 199999\n",
            "Data columns (total 43 columns):\n",
            " #   Column            Non-Null Count   Dtype  \n",
            "---  ------            --------------   -----  \n",
            " 0   id                195676 non-null  int64  \n",
            " 1   sale_price        195676 non-null  int64  \n",
            " 2   sale_nbr          154060 non-null  float64\n",
            " 3   sale_warning      195676 non-null  object \n",
            " 4   join_status       195676 non-null  object \n",
            " 5   latitude          195676 non-null  float64\n",
            " 6   longitude         195676 non-null  float64\n",
            " 7   area              195676 non-null  int64  \n",
            " 8   city              195676 non-null  object \n",
            " 9   zoning            195676 non-null  object \n",
            " 10  present_use       195676 non-null  int64  \n",
            " 11  land_val          195676 non-null  int64  \n",
            " 12  imp_val           195676 non-null  int64  \n",
            " 13  sqft_lot          195676 non-null  int64  \n",
            " 14  sqft              195676 non-null  int64  \n",
            " 15  sqft_1            195676 non-null  int64  \n",
            " 16  sqft_fbsmt        195676 non-null  int64  \n",
            " 17  grade             195676 non-null  int64  \n",
            " 18  fbsmt_grade       195676 non-null  int64  \n",
            " 19  condition         195676 non-null  int64  \n",
            " 20  stories           195676 non-null  float64\n",
            " 21  beds              195676 non-null  int64  \n",
            " 22  garb_sqft         195676 non-null  int64  \n",
            " 23  gara_sqft         195676 non-null  int64  \n",
            " 24  wfnt              195676 non-null  int64  \n",
            " 25  golf              195676 non-null  int64  \n",
            " 26  greenbelt         195676 non-null  int64  \n",
            " 27  noise_traffic     195676 non-null  int64  \n",
            " 28  view_rainier      195676 non-null  int64  \n",
            " 29  view_olympics     195676 non-null  int64  \n",
            " 30  view_cascades     195676 non-null  int64  \n",
            " 31  view_territorial  195676 non-null  int64  \n",
            " 32  view_skyline      195676 non-null  int64  \n",
            " 33  view_sound        195676 non-null  int64  \n",
            " 34  view_lakewash     195676 non-null  int64  \n",
            " 35  view_lakesamm     195676 non-null  int64  \n",
            " 36  view_otherwater   195676 non-null  int64  \n",
            " 37  view_other        195676 non-null  int64  \n",
            " 38  submarket         194014 non-null  object \n",
            " 39  sale_year         195676 non-null  int32  \n",
            " 40  age               195676 non-null  int64  \n",
            " 41  renovated         195676 non-null  int8   \n",
            " 42  total_bathroom    195676 non-null  float64\n",
            "dtypes: float64(5), int32(1), int64(31), int8(1), object(5)\n",
            "memory usage: 63.6+ MB\n"
          ]
        }
      ],
      "source": [
        "df3.info()"
      ]
    },
    {
      "cell_type": "code",
      "execution_count": 36,
      "metadata": {
        "id": "2xHD1hSiH620"
      },
      "outputs": [
        {
          "name": "stdout",
          "output_type": "stream",
          "text": [
            "sale_warning: 119 unique values\n",
            "join_status: 7 unique values\n",
            "city: 41 unique values\n",
            "zoning: 500 unique values\n",
            "submarket: 19 unique values\n"
          ]
        }
      ],
      "source": [
        "for col in df3.select_dtypes(include='object').columns:\n",
        "    print(f\"{col}: {df3[col].nunique()} unique values\")"
      ]
    },
    {
      "cell_type": "markdown",
      "metadata": {
        "id": "lp9fFebmQfLT"
      },
      "source": [
        "### **** zone ohe for top 10 ****"
      ]
    },
    {
      "cell_type": "code",
      "execution_count": 37,
      "metadata": {
        "id": "L2w0QWI5IAvT"
      },
      "outputs": [
        {
          "data": {
            "text/plain": [
              "set()"
            ]
          },
          "execution_count": 37,
          "metadata": {},
          "output_type": "execute_result"
        }
      ],
      "source": [
        "set(df3['zoning'].value_counts().head(10).index) - set(test_df['zoning'].unique())  # all 10 are there in test data"
      ]
    },
    {
      "cell_type": "code",
      "execution_count": 38,
      "metadata": {
        "id": "AUlv5x4AJEnJ"
      },
      "outputs": [
        {
          "data": {
            "text/plain": [
              "set()"
            ]
          },
          "execution_count": 38,
          "metadata": {},
          "output_type": "execute_result"
        }
      ],
      "source": [
        "set(df3['city'].value_counts().head(15).index) - set(test_df['city'].unique())    # all 15 are there in test"
      ]
    },
    {
      "cell_type": "code",
      "execution_count": 39,
      "metadata": {
        "id": "XxK79MMvPalb"
      },
      "outputs": [],
      "source": [
        "df4 = df3.drop('sale_warning', axis=1)"
      ]
    },
    {
      "cell_type": "code",
      "execution_count": 40,
      "metadata": {
        "id": "LKE3OqpJOmWY"
      },
      "outputs": [
        {
          "data": {
            "text/plain": [
              "array(['RS7.2', 'Other', 'R-8', 'NR3', 'SR-6', 'R6', 'R4', 'RA5', 'R-5',\n",
              "       'R-6', 'NR2'], dtype=object)"
            ]
          },
          "execution_count": 40,
          "metadata": {},
          "output_type": "execute_result"
        }
      ],
      "source": [
        "top_10_zones = df4['zoning'].value_counts().head(10).index.tolist()\n",
        "df4['zoning_top10'] = df4['zoning'].where(df4['zoning'].isin(top_10_zones), other='Other')\n",
        "df4['zoning_top10'].unique()"
      ]
    },
    {
      "cell_type": "code",
      "execution_count": 41,
      "metadata": {
        "id": "fm2a-s4lPjL2"
      },
      "outputs": [],
      "source": [
        "zoning_ohe = pd.get_dummies(df4['zoning_top10'], prefix='zoning')\n",
        "df4 = pd.concat([df3, zoning_ohe], axis=1)"
      ]
    },
    {
      "cell_type": "code",
      "execution_count": 42,
      "metadata": {
        "id": "MI8TvIPvP7kV"
      },
      "outputs": [
        {
          "data": {
            "text/plain": [
              "Index(['id', 'sale_price', 'sale_nbr', 'sale_warning', 'join_status',\n",
              "       'latitude', 'longitude', 'area', 'city', 'present_use', 'land_val',\n",
              "       'imp_val', 'sqft_lot', 'sqft', 'sqft_1', 'sqft_fbsmt', 'grade',\n",
              "       'fbsmt_grade', 'condition', 'stories', 'beds', 'garb_sqft', 'gara_sqft',\n",
              "       'wfnt', 'golf', 'greenbelt', 'noise_traffic', 'view_rainier',\n",
              "       'view_olympics', 'view_cascades', 'view_territorial', 'view_skyline',\n",
              "       'view_sound', 'view_lakewash', 'view_lakesamm', 'view_otherwater',\n",
              "       'view_other', 'submarket', 'sale_year', 'age', 'renovated',\n",
              "       'total_bathroom', 'zoning_NR2', 'zoning_NR3', 'zoning_R-5',\n",
              "       'zoning_R-6', 'zoning_R-8', 'zoning_R4', 'zoning_R6', 'zoning_RA5',\n",
              "       'zoning_RS7.2', 'zoning_SR-6'],\n",
              "      dtype='object')"
            ]
          },
          "execution_count": 42,
          "metadata": {},
          "output_type": "execute_result"
        }
      ],
      "source": [
        "df4 = df4.drop(['zoning', 'zoning_Other'], axis=1)\n",
        "df4.columns"
      ]
    },
    {
      "cell_type": "code",
      "execution_count": 43,
      "metadata": {
        "id": "a00jPtRyP_Ny"
      },
      "outputs": [
        {
          "data": {
            "text/plain": [
              "['NR3', 'R6', 'R4', 'RA5', 'NR2', 'SR-6', 'R-6', 'RS7.2', 'R-5', 'R-8']"
            ]
          },
          "execution_count": 43,
          "metadata": {},
          "output_type": "execute_result"
        }
      ],
      "source": [
        "top_10_zones"
      ]
    },
    {
      "cell_type": "markdown",
      "metadata": {
        "id": "XgknDePyQwvs"
      },
      "source": [
        "### ohe for join_status"
      ]
    },
    {
      "cell_type": "code",
      "execution_count": 44,
      "metadata": {
        "id": "TtWRFesSHdq4"
      },
      "outputs": [],
      "source": [
        "join_dummies = pd.get_dummies(df4['join_status'], prefix='join')\n",
        "df4 = pd.concat([df4, join_dummies], axis=1)\n",
        "df4 = df4.drop('join_status', axis=1)"
      ]
    },
    {
      "cell_type": "code",
      "execution_count": 45,
      "metadata": {
        "id": "ZlxdEF74H8Za"
      },
      "outputs": [
        {
          "data": {
            "text/plain": [
              "Index(['id', 'sale_price', 'sale_nbr', 'sale_warning', 'latitude', 'longitude',\n",
              "       'area', 'city', 'present_use', 'land_val', 'imp_val', 'sqft_lot',\n",
              "       'sqft', 'sqft_1', 'sqft_fbsmt', 'grade', 'fbsmt_grade', 'condition',\n",
              "       'stories', 'beds', 'garb_sqft', 'gara_sqft', 'wfnt', 'golf',\n",
              "       'greenbelt', 'noise_traffic', 'view_rainier', 'view_olympics',\n",
              "       'view_cascades', 'view_territorial', 'view_skyline', 'view_sound',\n",
              "       'view_lakewash', 'view_lakesamm', 'view_otherwater', 'view_other',\n",
              "       'submarket', 'sale_year', 'age', 'renovated', 'total_bathroom',\n",
              "       'zoning_NR2', 'zoning_NR3', 'zoning_R-5', 'zoning_R-6', 'zoning_R-8',\n",
              "       'zoning_R4', 'zoning_R6', 'zoning_RA5', 'zoning_RS7.2', 'zoning_SR-6',\n",
              "       'join_demo', 'join_miss99', 'join_new', 'join_nochg',\n",
              "       'join_rebuilt - before', 'join_reno - after', 'join_reno - before'],\n",
              "      dtype='object')"
            ]
          },
          "execution_count": 45,
          "metadata": {},
          "output_type": "execute_result"
        }
      ],
      "source": [
        "df4.columns"
      ]
    },
    {
      "cell_type": "code",
      "execution_count": 46,
      "metadata": {
        "id": "wLxtAS4fHdlZ"
      },
      "outputs": [],
      "source": [
        "df4 = df4.drop('join_new', axis=1)"
      ]
    },
    {
      "cell_type": "markdown",
      "metadata": {
        "id": "t5pO1j-2IU1T"
      },
      "source": [
        "## fill null and then OHE for submarket"
      ]
    },
    {
      "cell_type": "code",
      "execution_count": 47,
      "metadata": {
        "id": "shjZT6qJE2pP"
      },
      "outputs": [
        {
          "data": {
            "text/plain": [
              "True"
            ]
          },
          "execution_count": 47,
          "metadata": {},
          "output_type": "execute_result"
        }
      ],
      "source": [
        "set(test_df['submarket'].unique()) == set(df4['submarket'].unique())"
      ]
    },
    {
      "cell_type": "code",
      "execution_count": 48,
      "metadata": {
        "id": "5P95XKuFJ26u"
      },
      "outputs": [
        {
          "data": {
            "text/plain": [
              "array(['I', 'Q', 'K', 'G', 'P', 'B', 'D', 'O', 'L', 'R', 'J', 'E', 'M',\n",
              "       'A', 'N', 'F', nan, 'H', 'C', 'S'], dtype=object)"
            ]
          },
          "execution_count": 48,
          "metadata": {},
          "output_type": "execute_result"
        }
      ],
      "source": [
        "df4['submarket'].unique()"
      ]
    },
    {
      "cell_type": "code",
      "execution_count": 49,
      "metadata": {
        "id": "-AvudNWaI8P0"
      },
      "outputs": [],
      "source": [
        "df4['submarket'] = df4['submarket'].fillna('Unknown')"
      ]
    },
    {
      "cell_type": "code",
      "execution_count": 50,
      "metadata": {
        "id": "GARrN_DMI8Mr"
      },
      "outputs": [],
      "source": [
        "from sklearn.preprocessing import OneHotEncoder\n",
        "from sklearn.compose import ColumnTransformer"
      ]
    },
    {
      "cell_type": "code",
      "execution_count": 51,
      "metadata": {
        "id": "0ksOOqhsE2mV"
      },
      "outputs": [],
      "source": [
        "ohe = OneHotEncoder()"
      ]
    },
    {
      "cell_type": "code",
      "execution_count": 52,
      "metadata": {
        "id": "sJ-ToOsrE2jm"
      },
      "outputs": [],
      "source": [
        "col_trans = ColumnTransformer([('ohe', ohe, ['submarket'])], remainder='passthrough')"
      ]
    },
    {
      "cell_type": "code",
      "execution_count": 53,
      "metadata": {
        "id": "RgZzgGOPE2gH"
      },
      "outputs": [],
      "source": [
        "df5 = col_trans.fit_transform(df4)"
      ]
    },
    {
      "cell_type": "code",
      "execution_count": 54,
      "metadata": {
        "id": "EQuRROkELEQZ"
      },
      "outputs": [
        {
          "data": {
            "text/plain": [
              "array(['submarket_A', 'submarket_B', 'submarket_C', 'submarket_D',\n",
              "       'submarket_E', 'submarket_F', 'submarket_G', 'submarket_H',\n",
              "       'submarket_I', 'submarket_J', 'submarket_K', 'submarket_L',\n",
              "       'submarket_M', 'submarket_N', 'submarket_O', 'submarket_P',\n",
              "       'submarket_Q', 'submarket_R', 'submarket_S', 'submarket_Unknown'],\n",
              "      dtype=object)"
            ]
          },
          "execution_count": 54,
          "metadata": {},
          "output_type": "execute_result"
        }
      ],
      "source": [
        "ohe_feature_names = col_trans.named_transformers_['ohe'].get_feature_names_out(['submarket'])\n",
        "ohe_feature_names"
      ]
    },
    {
      "cell_type": "code",
      "execution_count": 55,
      "metadata": {
        "id": "KJaiwMHZLENB"
      },
      "outputs": [],
      "source": [
        "passthrough_cols = [col for col in df4.columns if col != 'submarket']\n",
        "\n",
        "all_column_names = list(ohe_feature_names) + passthrough_cols\n",
        "\n",
        "df5 = pd.DataFrame(df5, columns=all_column_names, index=df4.index)"
      ]
    },
    {
      "cell_type": "code",
      "execution_count": 56,
      "metadata": {
        "id": "vVdDwFZnNeP2"
      },
      "outputs": [
        {
          "data": {
            "text/plain": [
              "Index(['submarket_A', 'submarket_B', 'submarket_C', 'submarket_D',\n",
              "       'submarket_E', 'submarket_F', 'submarket_G', 'submarket_H',\n",
              "       'submarket_I', 'submarket_J', 'submarket_K', 'submarket_L',\n",
              "       'submarket_M', 'submarket_N', 'submarket_O', 'submarket_P',\n",
              "       'submarket_Q', 'submarket_R', 'submarket_S', 'submarket_Unknown', 'id',\n",
              "       'sale_price', 'sale_nbr', 'sale_warning', 'latitude', 'longitude',\n",
              "       'area', 'city', 'present_use', 'land_val', 'imp_val', 'sqft_lot',\n",
              "       'sqft', 'sqft_1', 'sqft_fbsmt', 'grade', 'fbsmt_grade', 'condition',\n",
              "       'stories', 'beds', 'garb_sqft', 'gara_sqft', 'wfnt', 'golf',\n",
              "       'greenbelt', 'noise_traffic', 'view_rainier', 'view_olympics',\n",
              "       'view_cascades', 'view_territorial', 'view_skyline', 'view_sound',\n",
              "       'view_lakewash', 'view_lakesamm', 'view_otherwater', 'view_other',\n",
              "       'sale_year', 'age', 'renovated', 'total_bathroom', 'zoning_NR2',\n",
              "       'zoning_NR3', 'zoning_R-5', 'zoning_R-6', 'zoning_R-8', 'zoning_R4',\n",
              "       'zoning_R6', 'zoning_RA5', 'zoning_RS7.2', 'zoning_SR-6', 'join_demo',\n",
              "       'join_miss99', 'join_nochg', 'join_rebuilt - before',\n",
              "       'join_reno - after', 'join_reno - before'],\n",
              "      dtype='object')"
            ]
          },
          "execution_count": 56,
          "metadata": {},
          "output_type": "execute_result"
        }
      ],
      "source": [
        "df5.columns"
      ]
    },
    {
      "cell_type": "code",
      "execution_count": 57,
      "metadata": {
        "id": "6poe6DQ9LDc9"
      },
      "outputs": [],
      "source": [
        "df5 = df5.drop('sale_warning',axis=1)"
      ]
    },
    {
      "cell_type": "code",
      "execution_count": 58,
      "metadata": {
        "id": "PsoCiG-sMr3z"
      },
      "outputs": [
        {
          "data": {
            "text/plain": [
              "Index(['SEATTLE', 'KING COUNTY', 'BELLEVUE', 'SAMMAMISH', 'KENT', 'RENTON',\n",
              "       'KIRKLAND', 'FEDERAL WAY', 'AUBURN', 'SHORELINE', 'MAPLE VALLEY',\n",
              "       'REDMOND', 'BURIEN', 'ISSAQUAH', 'COVINGTON'],\n",
              "      dtype='object', name='city')"
            ]
          },
          "execution_count": 58,
          "metadata": {},
          "output_type": "execute_result"
        }
      ],
      "source": [
        "df5['city'].value_counts().head(15).index"
      ]
    },
    {
      "cell_type": "markdown",
      "metadata": {
        "id": "3kiwf-HMN5Jd"
      },
      "source": [
        "## ohe for city top 10"
      ]
    },
    {
      "cell_type": "code",
      "execution_count": 59,
      "metadata": {
        "id": "tF1ZX78OOJJw"
      },
      "outputs": [
        {
          "data": {
            "text/plain": [
              "True"
            ]
          },
          "execution_count": 59,
          "metadata": {},
          "output_type": "execute_result"
        }
      ],
      "source": [
        "set(test_df['city'].unique()) == set(df5['city'].unique())"
      ]
    },
    {
      "cell_type": "code",
      "execution_count": 60,
      "metadata": {
        "id": "cbS3H8dfMys8"
      },
      "outputs": [],
      "source": [
        "top_15_cities = df5['city'].value_counts().head(15).index.tolist()"
      ]
    },
    {
      "cell_type": "code",
      "execution_count": 61,
      "metadata": {
        "id": "VNH_WjNbN04o"
      },
      "outputs": [
        {
          "data": {
            "text/plain": [
              "array(['FEDERAL WAY', 'KIRKLAND', 'RENTON', 'BURIEN', 'KING COUNTY',\n",
              "       'SEATTLE', 'KENT', 'SAMMAMISH', 'AUBURN', 'COVINGTON', 'ISSAQUAH',\n",
              "       'BELLEVUE', 'MAPLE VALLEY', 'Other', 'REDMOND', 'SHORELINE'],\n",
              "      dtype=object)"
            ]
          },
          "execution_count": 61,
          "metadata": {},
          "output_type": "execute_result"
        }
      ],
      "source": [
        "df5['city'] = df5['city'].apply(lambda x: x if x in top_15_cities else 'Other')\n",
        "df5['city'].unique()"
      ]
    },
    {
      "cell_type": "code",
      "execution_count": 62,
      "metadata": {
        "id": "UZ7_DO_7PaLl"
      },
      "outputs": [],
      "source": [
        "city_col_trans = ColumnTransformer([('ohe', OneHotEncoder(), ['city'])], remainder='passthrough')"
      ]
    },
    {
      "cell_type": "code",
      "execution_count": 63,
      "metadata": {
        "id": "LSKiPy7jPKR4"
      },
      "outputs": [],
      "source": [
        "df6 = city_col_trans.fit_transform(df5)"
      ]
    },
    {
      "cell_type": "code",
      "execution_count": 64,
      "metadata": {
        "id": "wjTNkjEFPKON"
      },
      "outputs": [
        {
          "data": {
            "text/plain": [
              "array(['city_AUBURN', 'city_BELLEVUE', 'city_BURIEN', 'city_COVINGTON',\n",
              "       'city_FEDERAL WAY', 'city_ISSAQUAH', 'city_KENT',\n",
              "       'city_KING COUNTY', 'city_KIRKLAND', 'city_MAPLE VALLEY',\n",
              "       'city_Other', 'city_REDMOND', 'city_RENTON', 'city_SAMMAMISH',\n",
              "       'city_SEATTLE', 'city_SHORELINE'], dtype=object)"
            ]
          },
          "execution_count": 64,
          "metadata": {},
          "output_type": "execute_result"
        }
      ],
      "source": [
        "ohe_city_names = city_col_trans.named_transformers_['ohe'].get_feature_names_out(['city'])\n",
        "ohe_city_names"
      ]
    },
    {
      "cell_type": "code",
      "execution_count": 65,
      "metadata": {
        "id": "axChXSyIOj1W"
      },
      "outputs": [],
      "source": [
        "city_passthrough_cols = [col for col in df5.columns if col != 'city']\n",
        "\n",
        "all_column_names = list(ohe_city_names) + city_passthrough_cols\n",
        "\n",
        "df6 = pd.DataFrame(df6, columns=all_column_names, index=df5.index)"
      ]
    },
    {
      "cell_type": "code",
      "execution_count": 66,
      "metadata": {
        "id": "HKmliwioRXk_"
      },
      "outputs": [
        {
          "data": {
            "text/html": [
              "<div>\n",
              "<style scoped>\n",
              "    .dataframe tbody tr th:only-of-type {\n",
              "        vertical-align: middle;\n",
              "    }\n",
              "\n",
              "    .dataframe tbody tr th {\n",
              "        vertical-align: top;\n",
              "    }\n",
              "\n",
              "    .dataframe thead th {\n",
              "        text-align: right;\n",
              "    }\n",
              "</style>\n",
              "<table border=\"1\" class=\"dataframe\">\n",
              "  <thead>\n",
              "    <tr style=\"text-align: right;\">\n",
              "      <th></th>\n",
              "      <th>city_AUBURN</th>\n",
              "      <th>city_BELLEVUE</th>\n",
              "      <th>city_BURIEN</th>\n",
              "      <th>city_COVINGTON</th>\n",
              "      <th>city_FEDERAL WAY</th>\n",
              "      <th>city_ISSAQUAH</th>\n",
              "      <th>city_KENT</th>\n",
              "      <th>city_KING COUNTY</th>\n",
              "      <th>city_KIRKLAND</th>\n",
              "      <th>city_MAPLE VALLEY</th>\n",
              "      <th>...</th>\n",
              "      <th>zoning_R6</th>\n",
              "      <th>zoning_RA5</th>\n",
              "      <th>zoning_RS7.2</th>\n",
              "      <th>zoning_SR-6</th>\n",
              "      <th>join_demo</th>\n",
              "      <th>join_miss99</th>\n",
              "      <th>join_nochg</th>\n",
              "      <th>join_rebuilt - before</th>\n",
              "      <th>join_reno - after</th>\n",
              "      <th>join_reno - before</th>\n",
              "    </tr>\n",
              "  </thead>\n",
              "  <tbody>\n",
              "    <tr>\n",
              "      <th>0</th>\n",
              "      <td>0.0</td>\n",
              "      <td>0.0</td>\n",
              "      <td>0.0</td>\n",
              "      <td>0.0</td>\n",
              "      <td>1.0</td>\n",
              "      <td>0.0</td>\n",
              "      <td>0.0</td>\n",
              "      <td>0.0</td>\n",
              "      <td>0.0</td>\n",
              "      <td>0.0</td>\n",
              "      <td>...</td>\n",
              "      <td>False</td>\n",
              "      <td>False</td>\n",
              "      <td>True</td>\n",
              "      <td>False</td>\n",
              "      <td>False</td>\n",
              "      <td>False</td>\n",
              "      <td>True</td>\n",
              "      <td>False</td>\n",
              "      <td>False</td>\n",
              "      <td>False</td>\n",
              "    </tr>\n",
              "    <tr>\n",
              "      <th>1</th>\n",
              "      <td>0.0</td>\n",
              "      <td>0.0</td>\n",
              "      <td>0.0</td>\n",
              "      <td>0.0</td>\n",
              "      <td>0.0</td>\n",
              "      <td>0.0</td>\n",
              "      <td>0.0</td>\n",
              "      <td>0.0</td>\n",
              "      <td>1.0</td>\n",
              "      <td>0.0</td>\n",
              "      <td>...</td>\n",
              "      <td>False</td>\n",
              "      <td>False</td>\n",
              "      <td>False</td>\n",
              "      <td>False</td>\n",
              "      <td>False</td>\n",
              "      <td>False</td>\n",
              "      <td>True</td>\n",
              "      <td>False</td>\n",
              "      <td>False</td>\n",
              "      <td>False</td>\n",
              "    </tr>\n",
              "    <tr>\n",
              "      <th>2</th>\n",
              "      <td>0.0</td>\n",
              "      <td>0.0</td>\n",
              "      <td>0.0</td>\n",
              "      <td>0.0</td>\n",
              "      <td>0.0</td>\n",
              "      <td>0.0</td>\n",
              "      <td>0.0</td>\n",
              "      <td>0.0</td>\n",
              "      <td>0.0</td>\n",
              "      <td>0.0</td>\n",
              "      <td>...</td>\n",
              "      <td>False</td>\n",
              "      <td>False</td>\n",
              "      <td>False</td>\n",
              "      <td>False</td>\n",
              "      <td>False</td>\n",
              "      <td>False</td>\n",
              "      <td>True</td>\n",
              "      <td>False</td>\n",
              "      <td>False</td>\n",
              "      <td>False</td>\n",
              "    </tr>\n",
              "    <tr>\n",
              "      <th>3</th>\n",
              "      <td>0.0</td>\n",
              "      <td>0.0</td>\n",
              "      <td>1.0</td>\n",
              "      <td>0.0</td>\n",
              "      <td>0.0</td>\n",
              "      <td>0.0</td>\n",
              "      <td>0.0</td>\n",
              "      <td>0.0</td>\n",
              "      <td>0.0</td>\n",
              "      <td>0.0</td>\n",
              "      <td>...</td>\n",
              "      <td>False</td>\n",
              "      <td>False</td>\n",
              "      <td>False</td>\n",
              "      <td>False</td>\n",
              "      <td>False</td>\n",
              "      <td>False</td>\n",
              "      <td>True</td>\n",
              "      <td>False</td>\n",
              "      <td>False</td>\n",
              "      <td>False</td>\n",
              "    </tr>\n",
              "    <tr>\n",
              "      <th>4</th>\n",
              "      <td>0.0</td>\n",
              "      <td>0.0</td>\n",
              "      <td>0.0</td>\n",
              "      <td>0.0</td>\n",
              "      <td>0.0</td>\n",
              "      <td>0.0</td>\n",
              "      <td>0.0</td>\n",
              "      <td>1.0</td>\n",
              "      <td>0.0</td>\n",
              "      <td>0.0</td>\n",
              "      <td>...</td>\n",
              "      <td>False</td>\n",
              "      <td>False</td>\n",
              "      <td>False</td>\n",
              "      <td>False</td>\n",
              "      <td>False</td>\n",
              "      <td>True</td>\n",
              "      <td>False</td>\n",
              "      <td>False</td>\n",
              "      <td>False</td>\n",
              "      <td>False</td>\n",
              "    </tr>\n",
              "  </tbody>\n",
              "</table>\n",
              "<p>5 rows × 90 columns</p>\n",
              "</div>"
            ],
            "text/plain": [
              "  city_AUBURN city_BELLEVUE city_BURIEN city_COVINGTON city_FEDERAL WAY  \\\n",
              "0         0.0           0.0         0.0            0.0              1.0   \n",
              "1         0.0           0.0         0.0            0.0              0.0   \n",
              "2         0.0           0.0         0.0            0.0              0.0   \n",
              "3         0.0           0.0         1.0            0.0              0.0   \n",
              "4         0.0           0.0         0.0            0.0              0.0   \n",
              "\n",
              "  city_ISSAQUAH city_KENT city_KING COUNTY city_KIRKLAND city_MAPLE VALLEY  \\\n",
              "0           0.0       0.0              0.0           0.0               0.0   \n",
              "1           0.0       0.0              0.0           1.0               0.0   \n",
              "2           0.0       0.0              0.0           0.0               0.0   \n",
              "3           0.0       0.0              0.0           0.0               0.0   \n",
              "4           0.0       0.0              1.0           0.0               0.0   \n",
              "\n",
              "   ... zoning_R6 zoning_RA5 zoning_RS7.2 zoning_SR-6 join_demo join_miss99  \\\n",
              "0  ...     False      False         True       False     False       False   \n",
              "1  ...     False      False        False       False     False       False   \n",
              "2  ...     False      False        False       False     False       False   \n",
              "3  ...     False      False        False       False     False       False   \n",
              "4  ...     False      False        False       False     False        True   \n",
              "\n",
              "  join_nochg join_rebuilt - before join_reno - after join_reno - before  \n",
              "0       True                 False             False              False  \n",
              "1       True                 False             False              False  \n",
              "2       True                 False             False              False  \n",
              "3       True                 False             False              False  \n",
              "4      False                 False             False              False  \n",
              "\n",
              "[5 rows x 90 columns]"
            ]
          },
          "execution_count": 66,
          "metadata": {},
          "output_type": "execute_result"
        }
      ],
      "source": [
        "df6.head()"
      ]
    },
    {
      "cell_type": "code",
      "execution_count": 67,
      "metadata": {
        "id": "gbeqbBNmRnmm"
      },
      "outputs": [],
      "source": [
        "df6 = df6.astype(float)"
      ]
    },
    {
      "cell_type": "code",
      "execution_count": 68,
      "metadata": {
        "id": "DhB7dhlXRruJ"
      },
      "outputs": [],
      "source": [
        "X = df6.drop(['sale_price','city_Other'], axis=1)\n",
        "y = df6['sale_price']"
      ]
    },
    {
      "cell_type": "code",
      "execution_count": 69,
      "metadata": {
        "id": "Qm3QPqqVScZz"
      },
      "outputs": [],
      "source": [
        "X['sale_nbr'] = X['sale_nbr'].fillna(1)"
      ]
    },
    {
      "cell_type": "code",
      "execution_count": 70,
      "metadata": {
        "id": "HGWLffgER0Za"
      },
      "outputs": [],
      "source": [
        "from sklearn.model_selection import train_test_split"
      ]
    },
    {
      "cell_type": "code",
      "execution_count": 71,
      "metadata": {
        "id": "xFiZNaDlRwzX"
      },
      "outputs": [],
      "source": [
        "X_train, X_test, y_train, y_test = train_test_split(X, y, test_size=0.2, random_state=42)"
      ]
    },
    {
      "cell_type": "code",
      "execution_count": 72,
      "metadata": {
        "id": "xpSWtJ7yRwv2"
      },
      "outputs": [
        {
          "data": {
            "text/plain": [
              "0.7527527643658349"
            ]
          },
          "execution_count": 72,
          "metadata": {},
          "output_type": "execute_result"
        }
      ],
      "source": [
        "from sklearn.linear_model import LinearRegression\n",
        "\n",
        "lr = LinearRegression()\n",
        "lr.fit(X_train, y_train)\n",
        "lr.score(X_test, y_test)"
      ]
    },
    {
      "cell_type": "code",
      "execution_count": 73,
      "metadata": {
        "id": "KV7_ylmiRwA4"
      },
      "outputs": [
        {
          "data": {
            "text/plain": [
              "0.9258878299672648"
            ]
          },
          "execution_count": 73,
          "metadata": {},
          "output_type": "execute_result"
        }
      ],
      "source": [
        "from xgboost import XGBRegressor\n",
        "\n",
        "xgb = XGBRegressor()\n",
        "xgb.fit(X_train, y_train)\n",
        "xgb.score(X_test, y_test)"
      ]
    },
    {
      "cell_type": "code",
      "execution_count": 90,
      "metadata": {
        "id": "wgwTmX8QS6Pu"
      },
      "outputs": [
        {
          "data": {
            "text/html": [
              "<style>#sk-container-id-1 {\n",
              "  /* Definition of color scheme common for light and dark mode */\n",
              "  --sklearn-color-text: #000;\n",
              "  --sklearn-color-text-muted: #666;\n",
              "  --sklearn-color-line: gray;\n",
              "  /* Definition of color scheme for unfitted estimators */\n",
              "  --sklearn-color-unfitted-level-0: #fff5e6;\n",
              "  --sklearn-color-unfitted-level-1: #f6e4d2;\n",
              "  --sklearn-color-unfitted-level-2: #ffe0b3;\n",
              "  --sklearn-color-unfitted-level-3: chocolate;\n",
              "  /* Definition of color scheme for fitted estimators */\n",
              "  --sklearn-color-fitted-level-0: #f0f8ff;\n",
              "  --sklearn-color-fitted-level-1: #d4ebff;\n",
              "  --sklearn-color-fitted-level-2: #b3dbfd;\n",
              "  --sklearn-color-fitted-level-3: cornflowerblue;\n",
              "\n",
              "  /* Specific color for light theme */\n",
              "  --sklearn-color-text-on-default-background: var(--sg-text-color, var(--theme-code-foreground, var(--jp-content-font-color1, black)));\n",
              "  --sklearn-color-background: var(--sg-background-color, var(--theme-background, var(--jp-layout-color0, white)));\n",
              "  --sklearn-color-border-box: var(--sg-text-color, var(--theme-code-foreground, var(--jp-content-font-color1, black)));\n",
              "  --sklearn-color-icon: #696969;\n",
              "\n",
              "  @media (prefers-color-scheme: dark) {\n",
              "    /* Redefinition of color scheme for dark theme */\n",
              "    --sklearn-color-text-on-default-background: var(--sg-text-color, var(--theme-code-foreground, var(--jp-content-font-color1, white)));\n",
              "    --sklearn-color-background: var(--sg-background-color, var(--theme-background, var(--jp-layout-color0, #111)));\n",
              "    --sklearn-color-border-box: var(--sg-text-color, var(--theme-code-foreground, var(--jp-content-font-color1, white)));\n",
              "    --sklearn-color-icon: #878787;\n",
              "  }\n",
              "}\n",
              "\n",
              "#sk-container-id-1 {\n",
              "  color: var(--sklearn-color-text);\n",
              "}\n",
              "\n",
              "#sk-container-id-1 pre {\n",
              "  padding: 0;\n",
              "}\n",
              "\n",
              "#sk-container-id-1 input.sk-hidden--visually {\n",
              "  border: 0;\n",
              "  clip: rect(1px 1px 1px 1px);\n",
              "  clip: rect(1px, 1px, 1px, 1px);\n",
              "  height: 1px;\n",
              "  margin: -1px;\n",
              "  overflow: hidden;\n",
              "  padding: 0;\n",
              "  position: absolute;\n",
              "  width: 1px;\n",
              "}\n",
              "\n",
              "#sk-container-id-1 div.sk-dashed-wrapped {\n",
              "  border: 1px dashed var(--sklearn-color-line);\n",
              "  margin: 0 0.4em 0.5em 0.4em;\n",
              "  box-sizing: border-box;\n",
              "  padding-bottom: 0.4em;\n",
              "  background-color: var(--sklearn-color-background);\n",
              "}\n",
              "\n",
              "#sk-container-id-1 div.sk-container {\n",
              "  /* jupyter's `normalize.less` sets `[hidden] { display: none; }`\n",
              "     but bootstrap.min.css set `[hidden] { display: none !important; }`\n",
              "     so we also need the `!important` here to be able to override the\n",
              "     default hidden behavior on the sphinx rendered scikit-learn.org.\n",
              "     See: https://github.com/scikit-learn/scikit-learn/issues/21755 */\n",
              "  display: inline-block !important;\n",
              "  position: relative;\n",
              "}\n",
              "\n",
              "#sk-container-id-1 div.sk-text-repr-fallback {\n",
              "  display: none;\n",
              "}\n",
              "\n",
              "div.sk-parallel-item,\n",
              "div.sk-serial,\n",
              "div.sk-item {\n",
              "  /* draw centered vertical line to link estimators */\n",
              "  background-image: linear-gradient(var(--sklearn-color-text-on-default-background), var(--sklearn-color-text-on-default-background));\n",
              "  background-size: 2px 100%;\n",
              "  background-repeat: no-repeat;\n",
              "  background-position: center center;\n",
              "}\n",
              "\n",
              "/* Parallel-specific style estimator block */\n",
              "\n",
              "#sk-container-id-1 div.sk-parallel-item::after {\n",
              "  content: \"\";\n",
              "  width: 100%;\n",
              "  border-bottom: 2px solid var(--sklearn-color-text-on-default-background);\n",
              "  flex-grow: 1;\n",
              "}\n",
              "\n",
              "#sk-container-id-1 div.sk-parallel {\n",
              "  display: flex;\n",
              "  align-items: stretch;\n",
              "  justify-content: center;\n",
              "  background-color: var(--sklearn-color-background);\n",
              "  position: relative;\n",
              "}\n",
              "\n",
              "#sk-container-id-1 div.sk-parallel-item {\n",
              "  display: flex;\n",
              "  flex-direction: column;\n",
              "}\n",
              "\n",
              "#sk-container-id-1 div.sk-parallel-item:first-child::after {\n",
              "  align-self: flex-end;\n",
              "  width: 50%;\n",
              "}\n",
              "\n",
              "#sk-container-id-1 div.sk-parallel-item:last-child::after {\n",
              "  align-self: flex-start;\n",
              "  width: 50%;\n",
              "}\n",
              "\n",
              "#sk-container-id-1 div.sk-parallel-item:only-child::after {\n",
              "  width: 0;\n",
              "}\n",
              "\n",
              "/* Serial-specific style estimator block */\n",
              "\n",
              "#sk-container-id-1 div.sk-serial {\n",
              "  display: flex;\n",
              "  flex-direction: column;\n",
              "  align-items: center;\n",
              "  background-color: var(--sklearn-color-background);\n",
              "  padding-right: 1em;\n",
              "  padding-left: 1em;\n",
              "}\n",
              "\n",
              "\n",
              "/* Toggleable style: style used for estimator/Pipeline/ColumnTransformer box that is\n",
              "clickable and can be expanded/collapsed.\n",
              "- Pipeline and ColumnTransformer use this feature and define the default style\n",
              "- Estimators will overwrite some part of the style using the `sk-estimator` class\n",
              "*/\n",
              "\n",
              "/* Pipeline and ColumnTransformer style (default) */\n",
              "\n",
              "#sk-container-id-1 div.sk-toggleable {\n",
              "  /* Default theme specific background. It is overwritten whether we have a\n",
              "  specific estimator or a Pipeline/ColumnTransformer */\n",
              "  background-color: var(--sklearn-color-background);\n",
              "}\n",
              "\n",
              "/* Toggleable label */\n",
              "#sk-container-id-1 label.sk-toggleable__label {\n",
              "  cursor: pointer;\n",
              "  display: flex;\n",
              "  width: 100%;\n",
              "  margin-bottom: 0;\n",
              "  padding: 0.5em;\n",
              "  box-sizing: border-box;\n",
              "  text-align: center;\n",
              "  align-items: start;\n",
              "  justify-content: space-between;\n",
              "  gap: 0.5em;\n",
              "}\n",
              "\n",
              "#sk-container-id-1 label.sk-toggleable__label .caption {\n",
              "  font-size: 0.6rem;\n",
              "  font-weight: lighter;\n",
              "  color: var(--sklearn-color-text-muted);\n",
              "}\n",
              "\n",
              "#sk-container-id-1 label.sk-toggleable__label-arrow:before {\n",
              "  /* Arrow on the left of the label */\n",
              "  content: \"▸\";\n",
              "  float: left;\n",
              "  margin-right: 0.25em;\n",
              "  color: var(--sklearn-color-icon);\n",
              "}\n",
              "\n",
              "#sk-container-id-1 label.sk-toggleable__label-arrow:hover:before {\n",
              "  color: var(--sklearn-color-text);\n",
              "}\n",
              "\n",
              "/* Toggleable content - dropdown */\n",
              "\n",
              "#sk-container-id-1 div.sk-toggleable__content {\n",
              "  max-height: 0;\n",
              "  max-width: 0;\n",
              "  overflow: hidden;\n",
              "  text-align: left;\n",
              "  /* unfitted */\n",
              "  background-color: var(--sklearn-color-unfitted-level-0);\n",
              "}\n",
              "\n",
              "#sk-container-id-1 div.sk-toggleable__content.fitted {\n",
              "  /* fitted */\n",
              "  background-color: var(--sklearn-color-fitted-level-0);\n",
              "}\n",
              "\n",
              "#sk-container-id-1 div.sk-toggleable__content pre {\n",
              "  margin: 0.2em;\n",
              "  border-radius: 0.25em;\n",
              "  color: var(--sklearn-color-text);\n",
              "  /* unfitted */\n",
              "  background-color: var(--sklearn-color-unfitted-level-0);\n",
              "}\n",
              "\n",
              "#sk-container-id-1 div.sk-toggleable__content.fitted pre {\n",
              "  /* unfitted */\n",
              "  background-color: var(--sklearn-color-fitted-level-0);\n",
              "}\n",
              "\n",
              "#sk-container-id-1 input.sk-toggleable__control:checked~div.sk-toggleable__content {\n",
              "  /* Expand drop-down */\n",
              "  max-height: 200px;\n",
              "  max-width: 100%;\n",
              "  overflow: auto;\n",
              "}\n",
              "\n",
              "#sk-container-id-1 input.sk-toggleable__control:checked~label.sk-toggleable__label-arrow:before {\n",
              "  content: \"▾\";\n",
              "}\n",
              "\n",
              "/* Pipeline/ColumnTransformer-specific style */\n",
              "\n",
              "#sk-container-id-1 div.sk-label input.sk-toggleable__control:checked~label.sk-toggleable__label {\n",
              "  color: var(--sklearn-color-text);\n",
              "  background-color: var(--sklearn-color-unfitted-level-2);\n",
              "}\n",
              "\n",
              "#sk-container-id-1 div.sk-label.fitted input.sk-toggleable__control:checked~label.sk-toggleable__label {\n",
              "  background-color: var(--sklearn-color-fitted-level-2);\n",
              "}\n",
              "\n",
              "/* Estimator-specific style */\n",
              "\n",
              "/* Colorize estimator box */\n",
              "#sk-container-id-1 div.sk-estimator input.sk-toggleable__control:checked~label.sk-toggleable__label {\n",
              "  /* unfitted */\n",
              "  background-color: var(--sklearn-color-unfitted-level-2);\n",
              "}\n",
              "\n",
              "#sk-container-id-1 div.sk-estimator.fitted input.sk-toggleable__control:checked~label.sk-toggleable__label {\n",
              "  /* fitted */\n",
              "  background-color: var(--sklearn-color-fitted-level-2);\n",
              "}\n",
              "\n",
              "#sk-container-id-1 div.sk-label label.sk-toggleable__label,\n",
              "#sk-container-id-1 div.sk-label label {\n",
              "  /* The background is the default theme color */\n",
              "  color: var(--sklearn-color-text-on-default-background);\n",
              "}\n",
              "\n",
              "/* On hover, darken the color of the background */\n",
              "#sk-container-id-1 div.sk-label:hover label.sk-toggleable__label {\n",
              "  color: var(--sklearn-color-text);\n",
              "  background-color: var(--sklearn-color-unfitted-level-2);\n",
              "}\n",
              "\n",
              "/* Label box, darken color on hover, fitted */\n",
              "#sk-container-id-1 div.sk-label.fitted:hover label.sk-toggleable__label.fitted {\n",
              "  color: var(--sklearn-color-text);\n",
              "  background-color: var(--sklearn-color-fitted-level-2);\n",
              "}\n",
              "\n",
              "/* Estimator label */\n",
              "\n",
              "#sk-container-id-1 div.sk-label label {\n",
              "  font-family: monospace;\n",
              "  font-weight: bold;\n",
              "  display: inline-block;\n",
              "  line-height: 1.2em;\n",
              "}\n",
              "\n",
              "#sk-container-id-1 div.sk-label-container {\n",
              "  text-align: center;\n",
              "}\n",
              "\n",
              "/* Estimator-specific */\n",
              "#sk-container-id-1 div.sk-estimator {\n",
              "  font-family: monospace;\n",
              "  border: 1px dotted var(--sklearn-color-border-box);\n",
              "  border-radius: 0.25em;\n",
              "  box-sizing: border-box;\n",
              "  margin-bottom: 0.5em;\n",
              "  /* unfitted */\n",
              "  background-color: var(--sklearn-color-unfitted-level-0);\n",
              "}\n",
              "\n",
              "#sk-container-id-1 div.sk-estimator.fitted {\n",
              "  /* fitted */\n",
              "  background-color: var(--sklearn-color-fitted-level-0);\n",
              "}\n",
              "\n",
              "/* on hover */\n",
              "#sk-container-id-1 div.sk-estimator:hover {\n",
              "  /* unfitted */\n",
              "  background-color: var(--sklearn-color-unfitted-level-2);\n",
              "}\n",
              "\n",
              "#sk-container-id-1 div.sk-estimator.fitted:hover {\n",
              "  /* fitted */\n",
              "  background-color: var(--sklearn-color-fitted-level-2);\n",
              "}\n",
              "\n",
              "/* Specification for estimator info (e.g. \"i\" and \"?\") */\n",
              "\n",
              "/* Common style for \"i\" and \"?\" */\n",
              "\n",
              ".sk-estimator-doc-link,\n",
              "a:link.sk-estimator-doc-link,\n",
              "a:visited.sk-estimator-doc-link {\n",
              "  float: right;\n",
              "  font-size: smaller;\n",
              "  line-height: 1em;\n",
              "  font-family: monospace;\n",
              "  background-color: var(--sklearn-color-background);\n",
              "  border-radius: 1em;\n",
              "  height: 1em;\n",
              "  width: 1em;\n",
              "  text-decoration: none !important;\n",
              "  margin-left: 0.5em;\n",
              "  text-align: center;\n",
              "  /* unfitted */\n",
              "  border: var(--sklearn-color-unfitted-level-1) 1pt solid;\n",
              "  color: var(--sklearn-color-unfitted-level-1);\n",
              "}\n",
              "\n",
              ".sk-estimator-doc-link.fitted,\n",
              "a:link.sk-estimator-doc-link.fitted,\n",
              "a:visited.sk-estimator-doc-link.fitted {\n",
              "  /* fitted */\n",
              "  border: var(--sklearn-color-fitted-level-1) 1pt solid;\n",
              "  color: var(--sklearn-color-fitted-level-1);\n",
              "}\n",
              "\n",
              "/* On hover */\n",
              "div.sk-estimator:hover .sk-estimator-doc-link:hover,\n",
              ".sk-estimator-doc-link:hover,\n",
              "div.sk-label-container:hover .sk-estimator-doc-link:hover,\n",
              ".sk-estimator-doc-link:hover {\n",
              "  /* unfitted */\n",
              "  background-color: var(--sklearn-color-unfitted-level-3);\n",
              "  color: var(--sklearn-color-background);\n",
              "  text-decoration: none;\n",
              "}\n",
              "\n",
              "div.sk-estimator.fitted:hover .sk-estimator-doc-link.fitted:hover,\n",
              ".sk-estimator-doc-link.fitted:hover,\n",
              "div.sk-label-container:hover .sk-estimator-doc-link.fitted:hover,\n",
              ".sk-estimator-doc-link.fitted:hover {\n",
              "  /* fitted */\n",
              "  background-color: var(--sklearn-color-fitted-level-3);\n",
              "  color: var(--sklearn-color-background);\n",
              "  text-decoration: none;\n",
              "}\n",
              "\n",
              "/* Span, style for the box shown on hovering the info icon */\n",
              ".sk-estimator-doc-link span {\n",
              "  display: none;\n",
              "  z-index: 9999;\n",
              "  position: relative;\n",
              "  font-weight: normal;\n",
              "  right: .2ex;\n",
              "  padding: .5ex;\n",
              "  margin: .5ex;\n",
              "  width: min-content;\n",
              "  min-width: 20ex;\n",
              "  max-width: 50ex;\n",
              "  color: var(--sklearn-color-text);\n",
              "  box-shadow: 2pt 2pt 4pt #999;\n",
              "  /* unfitted */\n",
              "  background: var(--sklearn-color-unfitted-level-0);\n",
              "  border: .5pt solid var(--sklearn-color-unfitted-level-3);\n",
              "}\n",
              "\n",
              ".sk-estimator-doc-link.fitted span {\n",
              "  /* fitted */\n",
              "  background: var(--sklearn-color-fitted-level-0);\n",
              "  border: var(--sklearn-color-fitted-level-3);\n",
              "}\n",
              "\n",
              ".sk-estimator-doc-link:hover span {\n",
              "  display: block;\n",
              "}\n",
              "\n",
              "/* \"?\"-specific style due to the `<a>` HTML tag */\n",
              "\n",
              "#sk-container-id-1 a.estimator_doc_link {\n",
              "  float: right;\n",
              "  font-size: 1rem;\n",
              "  line-height: 1em;\n",
              "  font-family: monospace;\n",
              "  background-color: var(--sklearn-color-background);\n",
              "  border-radius: 1rem;\n",
              "  height: 1rem;\n",
              "  width: 1rem;\n",
              "  text-decoration: none;\n",
              "  /* unfitted */\n",
              "  color: var(--sklearn-color-unfitted-level-1);\n",
              "  border: var(--sklearn-color-unfitted-level-1) 1pt solid;\n",
              "}\n",
              "\n",
              "#sk-container-id-1 a.estimator_doc_link.fitted {\n",
              "  /* fitted */\n",
              "  border: var(--sklearn-color-fitted-level-1) 1pt solid;\n",
              "  color: var(--sklearn-color-fitted-level-1);\n",
              "}\n",
              "\n",
              "/* On hover */\n",
              "#sk-container-id-1 a.estimator_doc_link:hover {\n",
              "  /* unfitted */\n",
              "  background-color: var(--sklearn-color-unfitted-level-3);\n",
              "  color: var(--sklearn-color-background);\n",
              "  text-decoration: none;\n",
              "}\n",
              "\n",
              "#sk-container-id-1 a.estimator_doc_link.fitted:hover {\n",
              "  /* fitted */\n",
              "  background-color: var(--sklearn-color-fitted-level-3);\n",
              "}\n",
              "</style><div id=\"sk-container-id-1\" class=\"sk-top-container\"><div class=\"sk-text-repr-fallback\"><pre>HistGradientBoostingRegressor(loss=&#x27;quantile&#x27;, quantile=0.95)</pre><b>In a Jupyter environment, please rerun this cell to show the HTML representation or trust the notebook. <br />On GitHub, the HTML representation is unable to render, please try loading this page with nbviewer.org.</b></div><div class=\"sk-container\" hidden><div class=\"sk-item\"><div class=\"sk-estimator fitted sk-toggleable\"><input class=\"sk-toggleable__control sk-hidden--visually\" id=\"sk-estimator-id-1\" type=\"checkbox\" checked><label for=\"sk-estimator-id-1\" class=\"sk-toggleable__label fitted sk-toggleable__label-arrow\"><div><div>HistGradientBoostingRegressor</div></div><div><a class=\"sk-estimator-doc-link fitted\" rel=\"noreferrer\" target=\"_blank\" href=\"https://scikit-learn.org/1.6/modules/generated/sklearn.ensemble.HistGradientBoostingRegressor.html\">?<span>Documentation for HistGradientBoostingRegressor</span></a><span class=\"sk-estimator-doc-link fitted\">i<span>Fitted</span></span></div></label><div class=\"sk-toggleable__content fitted\"><pre>HistGradientBoostingRegressor(loss=&#x27;quantile&#x27;, quantile=0.95)</pre></div> </div></div></div></div>"
            ],
            "text/plain": [
              "HistGradientBoostingRegressor(loss='quantile', quantile=0.95)"
            ]
          },
          "execution_count": 90,
          "metadata": {},
          "output_type": "execute_result"
        }
      ],
      "source": [
        "from sklearn.ensemble import HistGradientBoostingRegressor\n",
        "\n",
        "lower = HistGradientBoostingRegressor(loss='quantile', quantile=0.05)\n",
        "upper = HistGradientBoostingRegressor(loss='quantile', quantile=0.95)\n",
        "\n",
        "lower.fit(X_train, y_train)\n",
        "upper.fit(X_train, y_train)"
      ]
    },
    {
      "cell_type": "code",
      "execution_count": 91,
      "metadata": {},
      "outputs": [
        {
          "data": {
            "text/plain": [
              "(0.45781121093134025, 0.7082653797757492)"
            ]
          },
          "execution_count": 91,
          "metadata": {},
          "output_type": "execute_result"
        }
      ],
      "source": [
        "lower.score(X_test,y_test), upper.score(X_test,y_test)"
      ]
    },
    {
      "cell_type": "code",
      "execution_count": 92,
      "metadata": {
        "id": "9fgj89V9TaEN"
      },
      "outputs": [],
      "source": [
        "pi_lower = lower.predict(X_test)\n",
        "pi_upper = upper.predict(X_test)"
      ]
    },
    {
      "cell_type": "code",
      "execution_count": 93,
      "metadata": {
        "id": "FBff0gQlV8md"
      },
      "outputs": [
        {
          "data": {
            "text/plain": [
              "(197092.38778385601, 311842.79110257886)"
            ]
          },
          "execution_count": 93,
          "metadata": {},
          "output_type": "execute_result"
        }
      ],
      "source": [
        "pi_lower[0],pi_upper[0]"
      ]
    },
    {
      "cell_type": "code",
      "execution_count": 95,
      "metadata": {},
      "outputs": [
        {
          "data": {
            "text/plain": [
              "403774.19467487774"
            ]
          },
          "execution_count": 95,
          "metadata": {},
          "output_type": "execute_result"
        }
      ],
      "source": [
        "weighted_interval_score(y_test, pi_lower, pi_upper,)"
      ]
    },
    {
      "cell_type": "code",
      "execution_count": 87,
      "metadata": {},
      "outputs": [],
      "source": [
        "import numpy as np\n",
        "\n",
        "def quantile_loss(q, y_true, y_pred):\n",
        "    e = y_true - y_pred\n",
        "    return np.where(e < 0, q * (-e), (1 - q) * e)\n",
        "\n",
        "class XGBQuantile:\n",
        "    def __init__(self, quantile, **kwargs):\n",
        "        self.quantile = quantile\n",
        "        self.model = XGBRegressor(objective='reg:squarederror', **kwargs)\n",
        "\n",
        "    def fit(self, X, y):\n",
        "        self.model.fit(X, y)\n",
        "\n",
        "    def predict(self, X):\n",
        "        return self.model.predict(X)\n",
        "\n",
        "lower_model = XGBQuantile(quantile=0.05, n_estimators=200, max_depth=6, learning_rate=0.1)\n",
        "upper_model = XGBQuantile(quantile=0.95, n_estimators=200, max_depth=6, learning_rate=0.1)\n",
        "\n",
        "lower_model.fit(X_train, y_train)\n",
        "upper_model.fit(X_train, y_train)\n",
        "# Predict bounds\n",
        "pi_lower = lower_model.predict(X_test)\n",
        "pi_upper = upper_model.predict(X_test)"
      ]
    },
    {
      "cell_type": "code",
      "execution_count": 88,
      "metadata": {},
      "outputs": [
        {
          "data": {
            "text/plain": [
              "1248826.923975847"
            ]
          },
          "execution_count": 88,
          "metadata": {},
          "output_type": "execute_result"
        }
      ],
      "source": [
        "def weighted_interval_score(y_true, l, u, alpha=0.1):\n",
        "    interval_width = u - l\n",
        "    below = (y_true < l).astype(float)\n",
        "    above = (y_true > u).astype(float)\n",
        "    score = interval_width + (2 / alpha) * (l - y_true) * below + (2 / alpha) * (y_true - u) * above\n",
        "    return np.mean(score)\n",
        "\n",
        "weighted_interval_score(y_test, pi_lower, pi_upper,)"
      ]
    },
    {
      "cell_type": "code",
      "execution_count": 89,
      "metadata": {},
      "outputs": [
        {
          "data": {
            "text/plain": [
              "(236666.86, 236666.86)"
            ]
          },
          "execution_count": 89,
          "metadata": {},
          "output_type": "execute_result"
        }
      ],
      "source": [
        "pi_upper[0], pi_lower[0]"
      ]
    },
    {
      "cell_type": "code",
      "execution_count": null,
      "metadata": {},
      "outputs": [],
      "source": []
    }
  ],
  "metadata": {
    "colab": {
      "provenance": []
    },
    "kaggle": {
      "accelerator": "none",
      "dataSources": [
        {
          "databundleVersionId": 11418275,
          "sourceId": 96164,
          "sourceType": "competition"
        }
      ],
      "dockerImageVersionId": 31040,
      "isGpuEnabled": false,
      "isInternetEnabled": true,
      "language": "python",
      "sourceType": "notebook"
    },
    "kernelspec": {
      "display_name": "ml",
      "language": "python",
      "name": "python3"
    },
    "language_info": {
      "codemirror_mode": {
        "name": "ipython",
        "version": 3
      },
      "file_extension": ".py",
      "mimetype": "text/x-python",
      "name": "python",
      "nbconvert_exporter": "python",
      "pygments_lexer": "ipython3",
      "version": "3.12.2"
    }
  },
  "nbformat": 4,
  "nbformat_minor": 0
}
